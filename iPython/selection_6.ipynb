{
 "metadata": {
  "name": ""
 },
 "nbformat": 3,
 "nbformat_minor": 0,
 "worksheets": [
  {
   "cells": [
    {
     "cell_type": "code",
     "collapsed": false,
     "input": [
      "__author__ = 'aifa'\n",
      "\n",
      "import os\n",
      "import pandas as pd\n",
      "import numpy as np\n",
      "import pylab as pl\n",
      "\n",
      "from sklearn import clone\n",
      "\n",
      "from sklearn.ensemble.weight_boosting import AdaBoostClassifier\n",
      "from sklearn.ensemble.forest import (RandomForestClassifier,RandomForestRegressor,\n",
      "                                        ExtraTreesClassifier)\n",
      "\n",
      "from sklearn.linear_model import LogisticRegression\n",
      "from sklearn import svm\n",
      "\n",
      "import math as math\n",
      "from sklearn.externals.six.moves import xrange\n",
      "from sklearn.tree import DecisionTreeClassifier\n",
      "\n",
      "from sklearn.svm import SVR\n",
      "from sklearn.cross_validation import StratifiedKFold\n",
      "\n",
      "from sklearn.feature_selection import RFE\n",
      "from sklearn.pipeline import Pipeline\n",
      "\n",
      "train_sets={}\n",
      "train_1 = pd.read_csv(\"/Users/aifa/Dropbox/kaggle/insurance/future/train_all_split_1.csv\", header=0, encoding=\"UTF-8\", error_bad_lines=False, sep=\",\", index_col=0)\n",
      "train_sets[1]=train_1\n",
      "train_2 = pd.read_csv(\"/Users/aifa/Dropbox/kaggle/insurance/future/train_all_split_2.csv\", header=0, encoding=\"UTF-8\", error_bad_lines=False, sep=\",\", index_col=0)\n",
      "train_sets[2]=train_2\n",
      "train_3 = pd.read_csv(\"/Users/aifa/Dropbox/kaggle/insurance/future/train_all_split_3.csv\", header=0, encoding=\"UTF-8\", error_bad_lines=False, sep=\",\", index_col=0)\n",
      "train_sets[3]=train_3\n",
      "train_4 = pd.read_csv(\"/Users/aifa/Dropbox/kaggle/insurance/future/train_all_split_4.csv\", header=0, encoding=\"UTF-8\", error_bad_lines=False, sep=\",\", index_col=0)\n",
      "train_sets[4]=train_4\n",
      "train_5 = pd.read_csv(\"/Users/aifa/Dropbox/kaggle/insurance/future/train_all_split_5.csv\", header=0, encoding=\"UTF-8\", error_bad_lines=False, sep=\",\", index_col=0)\n",
      "train_sets[5]=train_5\n",
      "train_6 = pd.read_csv(\"/Users/aifa/Dropbox/kaggle/insurance/future/train_all_split_6.csv\", header=0, encoding=\"UTF-8\", error_bad_lines=False, sep=\",\", index_col=0)\n",
      "train_sets[6]=train_6\n",
      "train_7 = pd.read_csv(\"/Users/aifa/Dropbox/kaggle/insurance/future/train_all_split_7.csv\", header=0, encoding=\"UTF-8\", error_bad_lines=False, sep=\",\", index_col=0)\n",
      "train_sets[7]=train_7\n",
      "train_8 = pd.read_csv(\"/Users/aifa/Dropbox/kaggle/insurance/future/train_all_split_8.csv\", header=0, encoding=\"UTF-8\", error_bad_lines=False, sep=\",\", index_col=0)\n",
      "train_sets[8]=train_8\n",
      "train_9 = pd.read_csv(\"/Users/aifa/Dropbox/kaggle/insurance/future/train_all_split_9.csv\", header=0, encoding=\"UTF-8\", error_bad_lines=False, sep=\",\", index_col=0)\n",
      "train_sets[9]=train_9\n",
      "train_10 = pd.read_csv(\"/Users/aifa/Dropbox/kaggle/insurance/future/train_all_split_10.csv\", header=0, encoding=\"UTF-8\", error_bad_lines=False, sep=\",\", index_col=0)\n",
      "train_sets[10]=train_10\n",
      "train_11 = pd.read_csv(\"/Users/aifa/Dropbox/kaggle/insurance/future/train_all_split_11.csv\", header=0, encoding=\"UTF-8\", error_bad_lines=False, sep=\",\", index_col=0)\n",
      "train_sets[11]=train_11\n",
      "train_12 = pd.read_csv(\"/Users/aifa/Dropbox/kaggle/insurance/future/train_all_split_12.csv\", header=0, encoding=\"UTF-8\", error_bad_lines=False, sep=\",\", index_col=0)\n",
      "train_sets[12]=train_12\n",
      "\n",
      "test_2 = pd.read_csv(\"/Users/aifa/Dropbox/kaggle/insurance/future/test_v2_all_future.csv\", header=0, encoding=\"UTF-8\", error_bad_lines=False, sep=\",\", index_col=0)\n",
      "\n",
      "\n",
      "results_df = pd.DataFrame(index=test_2.index)\n",
      "resultCol = pd.Series(index=test_2.index,dtype=object)\n",
      "\n",
      "#try random forest on feature A\n",
      "n_estimators = 100\n",
      "\n",
      "rfcModel = RandomForestClassifier(n_estimators=n_estimators, max_features=None)\n",
      "rfrmodel = RandomForestRegressor(n_estimators=n_estimators)\n",
      "lr = LogisticRegression()\n",
      "\n",
      "\n",
      "#svr =  SVR(C=1.0, epsilon=0.2)\n",
      "#C = 10.0  # SVM regularization parameter\n",
      "#svc = svm.SVC(kernel='linear', C=C)\n",
      "#rbf_svc = svm.SVC(kernel='rbf', gamma=0.7, C=C)\n",
      "#poly_svc = svm.SVC(kernel='poly', degree=3, C=C)\n",
      "\n",
      "def cleanup(df):\n",
      "\n",
      "    #find columns that contain null values\n",
      "    inds = pd.isnull(df).any(0).nonzero()\n",
      "\n",
      "    df['car_value'] = df['car_value'].fillna('0')\n",
      "    df['car_value']=df['car_value'].apply(lambda letter :  abs(ord(letter) - 96))\n",
      "    df['state']=df['state'].apply(lambda letter :  abs(ord(letter[0]) - 96 + ord(letter[1]) - 96))\n",
      "\n",
      "    #remove product feature\n",
      "    #df=df.drop(['product'], axis=1)\n",
      "    #df=df.drop(['state'], axis=1)\n",
      "    #df=df.drop(['location'], axis=1)\n",
      "    df=df.drop(['time'], axis=1)\n",
      "\n",
      "    #impute the null values\n",
      "    df['risk_factor'] = df['risk_factor'].fillna(0)\n",
      "    df['C_previous'] = df['C_previous'].fillna(0)\n",
      "    df['duration_previous'] = df['duration_previous'].fillna(0)\n",
      "    df['location'] = df['location'].fillna(0)\n",
      "\n",
      "    df['A_var'] = df['A_var'].fillna(0)\n",
      "    df['B_var'] = df['B_var'].fillna(0)\n",
      "    df['C_var'] = df['C_var'].fillna(0)\n",
      "    df['D_var'] = df['D_var'].fillna(0)\n",
      "    df['E_var'] = df['E_var'].fillna(0)\n",
      "    df['F_var'] = df['F_var'].fillna(0)\n",
      "    df['G_var'] = df['G_var'].fillna(0)\n",
      "    df['cost_var'] = df['cost_var'].fillna(0)\n",
      "    #drop any other rows that might contain null values (at this point only lines with empty key cols should be removed from the training sets)\n",
      "    df=df.dropna()\n",
      "\n",
      "    return df\n",
      "\n",
      "def cleanup_test(df):\n",
      "\n",
      "    #find columns that contain null values\n",
      "    inds = pd.isnull(df).any(0).nonzero()\n",
      "\n",
      "    df['car_value'] = df['car_value'].fillna('0')\n",
      "    df['car_value']=df['car_value'].apply(lambda letter :  abs(ord(letter) - 96))\n",
      "    df['state']=df['state'].apply(lambda letter :  abs(ord(letter[0]) - 96 + ord(letter[1]) - 96))\n",
      "\n",
      "    #remove product feature\n",
      "    #df=df.drop(['product'], axis=1)\n",
      "    #df=df.drop(['state'], axis=1)\n",
      "    #df=df.drop(['location'], axis=1)\n",
      "    df=df.drop(['time'], axis=1)\n",
      "    \n",
      "    #impute the null values\n",
      "    df['risk_factor'] = df['risk_factor'].fillna(0)\n",
      "    df['C_previous'] = df['C_previous'].fillna(0)\n",
      "    df['duration_previous'] = df['duration_previous'].fillna(0)\n",
      "    df['location'] = df['location'].fillna(0)\n",
      "\n",
      "    df['A_var'] = df['A_var'].fillna(0)\n",
      "    df['B_var'] = df['B_var'].fillna(0)\n",
      "    df['C_var'] = df['C_var'].fillna(0)\n",
      "    df['D_var'] = df['D_var'].fillna(0)\n",
      "    df['E_var'] = df['E_var'].fillna(0)\n",
      "    df['F_var'] = df['F_var'].fillna(0)\n",
      "    df['G_var'] = df['G_var'].fillna(0)\n",
      "    df['cost_var'] = df['cost_var'].fillna(0)\n",
      "\n",
      "    return df\n",
      "\n",
      "def train_model(train_df, select_model, model, feature_number=1, yName='A_purchase'):\n",
      "    input_df = train_df.copy(deep=True)\n",
      "    y = input_df[yName].values\n",
      "    \n",
      "    input_df=input_df.drop(['total_offers'], axis=1)\n",
      "    input_df=input_df.drop(['A_purchase'], axis=1)\n",
      "    input_df=input_df.drop(['B_purchase'], axis=1)\n",
      "    input_df=input_df.drop(['C_purchase'], axis=1)\n",
      "    input_df=input_df.drop(['D_purchase'], axis=1)\n",
      "    input_df=input_df.drop(['E_purchase'], axis=1)\n",
      "    input_df=input_df.drop(['F_purchase'], axis=1)\n",
      "    input_df=input_df.drop(['G_purchase'], axis=1)\n",
      "\n",
      "    #if (yName=='G_purchase'):\n",
      "    #    input_df=input_df.drop(['C_previous'], axis=1)\n",
      "\n",
      "\n",
      "    X = input_df.values\n",
      "\n",
      "    skf=StratifiedKFold(y, n_folds=3 )\n",
      "\n",
      "    best_model=None\n",
      "    best_model_score=0\n",
      "    for train_index, test_index in skf:\n",
      "        #print(\"TRAIN:\", train_index, \"TEST:\", test_index)\n",
      "        X_train, X_test = X[train_index], X[test_index]\n",
      "        y_train, y_test = y[train_index], y[test_index]\n",
      "        \n",
      "        selector = RFE(select_model, step=1, n_features_to_select=feature_number)\n",
      "        clf = clone(model)\n",
      "        pipeline = Pipeline([('rfe', selector), ('lr', clf)])\n",
      "        pipeline = pipeline.fit(X_train, y_train)\n",
      "\n",
      "        print \"score:\"+ yName +\":\"+str(pipeline.score(X_test,y_test))\n",
      "\n",
      "        if best_model==None or best_model_score<pipeline.score(X_test, y_test):\n",
      "            best_model=pipeline\n",
      "            best_model_score=pipeline.score(X_test, y_test)\n",
      "        break\n",
      "\n",
      "    trained_model = best_model\n",
      "    \n",
      "    idx=0\n",
      "    for i in input_df.columns:\n",
      "        if (selector.support_[idx]==False):\n",
      "            input_df=input_df.drop([i], axis=1)\n",
      "        idx += 1\n",
      "    \n",
      "    print input_df.columns\n",
      "    return trained_model, best_model_score\n",
      "\n",
      "def predict(test_2_df, model, prodStr='A_purchase'):\n",
      "\n",
      "    test_df = test_2_df.copy(deep=True)\n",
      "    test_y = test_df[prodStr]\n",
      "\n",
      "    if prodStr=='total_offers':\n",
      "        test_df=test_df.drop([prodStr])\n",
      "    else:\n",
      "        test_df=test_df.drop(['A_purchase'])\n",
      "        test_df=test_df.drop(['B_purchase'])\n",
      "        test_df=test_df.drop(['C_purchase'])\n",
      "        test_df=test_df.drop(['D_purchase'])\n",
      "        test_df=test_df.drop(['E_purchase'])\n",
      "        test_df=test_df.drop(['F_purchase'])\n",
      "        test_df=test_df.drop(['G_purchase'])\n",
      "\n",
      "    if (prodStr=='G_purchase'):\n",
      "        test_df=test_df.drop(['C_previous'])\n",
      "\n",
      "    test_X = test_df.values\n",
      "\n",
      "    prediction = model.predict(test_X)\n",
      "\n",
      "    #print prodStr +\":\"+str(prediction)\n",
      "\n",
      "    return prediction\n",
      "\n",
      "\n",
      "\n",
      "modelADict={}\n",
      "modelBDict={}\n",
      "modelCDict={}\n",
      "modelDDict={}\n",
      "modelEDict={}\n",
      "modelFDict={}\n",
      "modelGDict={}\n",
      "\n",
      "modelAScores={}\n",
      "modelBScores={}\n",
      "modelCScores={}\n",
      "modelDScores={}\n",
      "modelEScores={}\n",
      "modelFScores={}\n",
      "modelGScores={}\n",
      "\n",
      "\n",
      "train = cleanup(train_sets[6])\n",
      "print \"Number of offers:\" + str(6)\n",
      "print len(train.columns)\n",
      "for feat in range(1,49):\n",
      "    print \"Number of features:\" + str(feat)\n",
      "\n",
      "\n",
      "    modelADict[feat], modelAScores[feat] = train_model(train, lr, lr, feature_number=feat)\n",
      "    modelBDict[feat], modelBScores[feat] = train_model(train, lr, lr, feature_number=feat, yName='B_purchase')\n",
      "    modelCDict[feat], modelCScores[feat] = train_model(train, lr, lr, feature_number=feat, yName='C_purchase')\n",
      "    modelDDict[feat], modelDScores[feat] = train_model(train, lr, lr, feature_number=feat, yName='D_purchase')\n",
      "    modelEDict[feat], modelEScores[feat] = train_model(train, lr, lr, feature_number=feat, yName='E_purchase')\n",
      "    modelFDict[feat], modelFScores[feat] = train_model(train, lr, lr, feature_number=feat, yName='F_purchase')\n",
      "    modelGDict[feat], modelGScores[feat] = train_model(train, lr, lr, feature_number=feat, yName='G_purchase')"
     ],
     "language": "python",
     "metadata": {},
     "outputs": [
      {
       "output_type": "stream",
       "stream": "stdout",
       "text": [
        "Number of offers:6\n",
        "55\n",
        "Number of features:1\n",
        "score:A_purchase:0.926578249337"
       ]
      },
      {
       "output_type": "stream",
       "stream": "stdout",
       "text": [
        "\n",
        "Index([u'A'], dtype='object')"
       ]
      },
      {
       "output_type": "stream",
       "stream": "stdout",
       "text": [
        "\n",
        "score:B_purchase:0.93374005305"
       ]
      },
      {
       "output_type": "stream",
       "stream": "stdout",
       "text": [
        "\n",
        "Index([u'B'], dtype='object')"
       ]
      },
      {
       "output_type": "stream",
       "stream": "stdout",
       "text": [
        "\n",
        "score:C_purchase:0.751830238727"
       ]
      },
      {
       "output_type": "stream",
       "stream": "stdout",
       "text": [
        "\n",
        "Index([u'C'], dtype='object')"
       ]
      },
      {
       "output_type": "stream",
       "stream": "stdout",
       "text": [
        "\n",
        "score:D_purchase:0.947161803714"
       ]
      },
      {
       "output_type": "stream",
       "stream": "stdout",
       "text": [
        "\n",
        "Index([u'D'], dtype='object')"
       ]
      },
      {
       "output_type": "stream",
       "stream": "stdout",
       "text": [
        "\n",
        "score:E_purchase:0.936923076923"
       ]
      },
      {
       "output_type": "stream",
       "stream": "stdout",
       "text": [
        "\n",
        "Index([u'E'], dtype='object')"
       ]
      },
      {
       "output_type": "stream",
       "stream": "stdout",
       "text": [
        "\n",
        "score:F_purchase:0.88350132626"
       ]
      },
      {
       "output_type": "stream",
       "stream": "stdout",
       "text": [
        "\n",
        "Index([u'F'], dtype='object')"
       ]
      },
      {
       "output_type": "stream",
       "stream": "stdout",
       "text": [
        "\n",
        "score:G_purchase:0.802334217507"
       ]
      },
      {
       "output_type": "stream",
       "stream": "stdout",
       "text": [
        "\n",
        "Index([u'G'], dtype='object')"
       ]
      },
      {
       "output_type": "stream",
       "stream": "stdout",
       "text": [
        "\n",
        "Number of features:2\n",
        "score:A_purchase:0.925517241379"
       ]
      },
      {
       "output_type": "stream",
       "stream": "stdout",
       "text": [
        "\n",
        "Index([u'A', u'A_var'], dtype='object')"
       ]
      },
      {
       "output_type": "stream",
       "stream": "stdout",
       "text": [
        "\n",
        "score:B_purchase:0.93374005305"
       ]
      },
      {
       "output_type": "stream",
       "stream": "stdout",
       "text": [
        "\n",
        "Index([u'shopping_pt', u'B'], dtype='object')"
       ]
      },
      {
       "output_type": "stream",
       "stream": "stdout",
       "text": [
        "\n",
        "score:C_purchase:0.751830238727"
       ]
      },
      {
       "output_type": "stream",
       "stream": "stdout",
       "text": [
        "\n",
        "Index([u'shopping_pt', u'C'], dtype='object')"
       ]
      },
      {
       "output_type": "stream",
       "stream": "stdout",
       "text": [
        "\n",
        "score:D_purchase:0.946790450928"
       ]
      },
      {
       "output_type": "stream",
       "stream": "stdout",
       "text": [
        "\n",
        "Index([u'D', u'D_var'], dtype='object')"
       ]
      },
      {
       "output_type": "stream",
       "stream": "stdout",
       "text": [
        "\n",
        "score:E_purchase:0.936923076923"
       ]
      },
      {
       "output_type": "stream",
       "stream": "stdout",
       "text": [
        "\n",
        "Index([u'E', u'A_var'], dtype='object')"
       ]
      },
      {
       "output_type": "stream",
       "stream": "stdout",
       "text": [
        "\n",
        "score:F_purchase:0.888116710875"
       ]
      },
      {
       "output_type": "stream",
       "stream": "stdout",
       "text": [
        "\n",
        "Index([u'F', u'A_var'], dtype='object')"
       ]
      },
      {
       "output_type": "stream",
       "stream": "stdout",
       "text": [
        "\n",
        "score:G_purchase:0.802334217507"
       ]
      },
      {
       "output_type": "stream",
       "stream": "stdout",
       "text": [
        "\n",
        "Index([u'shopping_pt', u'G'], dtype='object')"
       ]
      },
      {
       "output_type": "stream",
       "stream": "stdout",
       "text": [
        "\n",
        "Number of features:3\n",
        "score:A_purchase:0.917188328912"
       ]
      },
      {
       "output_type": "stream",
       "stream": "stdout",
       "text": [
        "\n",
        "Index([u'A', u'A_var', u'B_var'], dtype='object')"
       ]
      },
      {
       "output_type": "stream",
       "stream": "stdout",
       "text": [
        "\n",
        "score:B_purchase:0.93374005305"
       ]
      },
      {
       "output_type": "stream",
       "stream": "stdout",
       "text": [
        "\n",
        "Index([u'shopping_pt', u'B', u'E_init'], dtype='object')"
       ]
      },
      {
       "output_type": "stream",
       "stream": "stdout",
       "text": [
        "\n",
        "score:C_purchase:0.751883289125"
       ]
      },
      {
       "output_type": "stream",
       "stream": "stdout",
       "text": [
        "\n",
        "Index([u'shopping_pt', u'C', u'C_var'], dtype='object')"
       ]
      },
      {
       "output_type": "stream",
       "stream": "stdout",
       "text": [
        "\n",
        "score:D_purchase:0.944986737401"
       ]
      },
      {
       "output_type": "stream",
       "stream": "stdout",
       "text": [
        "\n",
        "Index([u'D', u'D_change', u'D_var'], dtype='object')"
       ]
      },
      {
       "output_type": "stream",
       "stream": "stdout",
       "text": [
        "\n",
        "score:E_purchase:0.936923076923"
       ]
      },
      {
       "output_type": "stream",
       "stream": "stdout",
       "text": [
        "\n",
        "Index([u'A', u'E', u'A_var'], dtype='object')"
       ]
      },
      {
       "output_type": "stream",
       "stream": "stdout",
       "text": [
        "\n",
        "score:F_purchase:0.886843501326"
       ]
      },
      {
       "output_type": "stream",
       "stream": "stdout",
       "text": [
        "\n",
        "Index([u'F', u'A_var', u'E_var'], dtype='object')"
       ]
      },
      {
       "output_type": "stream",
       "stream": "stdout",
       "text": [
        "\n",
        "score:G_purchase:0.810185676393"
       ]
      },
      {
       "output_type": "stream",
       "stream": "stdout",
       "text": [
        "\n",
        "Index([u'shopping_pt', u'G', u'G_var'], dtype='object')"
       ]
      },
      {
       "output_type": "stream",
       "stream": "stdout",
       "text": [
        "\n",
        "Number of features:4\n",
        "score:A_purchase:0.895384615385"
       ]
      },
      {
       "output_type": "stream",
       "stream": "stdout",
       "text": [
        "\n",
        "Index([u'A', u'E', u'A_var', u'B_var'], dtype='object')"
       ]
      },
      {
       "output_type": "stream",
       "stream": "stdout",
       "text": [
        "\n",
        "score:B_purchase:0.93374005305"
       ]
      },
      {
       "output_type": "stream",
       "stream": "stdout",
       "text": [
        "\n",
        "Index([u'shopping_pt', u'B', u'E_init', u'B_var'], dtype='object')"
       ]
      },
      {
       "output_type": "stream",
       "stream": "stdout",
       "text": [
        "\n",
        "score:C_purchase:0.807320954907"
       ]
      },
      {
       "output_type": "stream",
       "stream": "stdout",
       "text": [
        "\n",
        "Index([u'shopping_pt', u'C', u'C_change', u'C_var'], dtype='object')"
       ]
      },
      {
       "output_type": "stream",
       "stream": "stdout",
       "text": [
        "\n",
        "score:D_purchase:0.944986737401"
       ]
      },
      {
       "output_type": "stream",
       "stream": "stdout",
       "text": [
        "\n",
        "Index([u'shopping_pt', u'D', u'D_change', u'D_var'], dtype='object')"
       ]
      },
      {
       "output_type": "stream",
       "stream": "stdout",
       "text": [
        "\n",
        "score:E_purchase:0.936923076923"
       ]
      },
      {
       "output_type": "stream",
       "stream": "stdout",
       "text": [
        "\n",
        "Index([u'shopping_pt', u'A', u'E', u'A_var'], dtype='object')"
       ]
      },
      {
       "output_type": "stream",
       "stream": "stdout",
       "text": [
        "\n",
        "score:F_purchase:0.880318302387"
       ]
      },
      {
       "output_type": "stream",
       "stream": "stdout",
       "text": [
        "\n",
        "Index([u'A', u'F', u'A_var', u'E_var'], dtype='object')"
       ]
      },
      {
       "output_type": "stream",
       "stream": "stdout",
       "text": [
        "\n",
        "score:G_purchase:0.810132625995"
       ]
      },
      {
       "output_type": "stream",
       "stream": "stdout",
       "text": [
        "\n",
        "Index([u'shopping_pt', u'G', u'A_var', u'G_var'], dtype='object')"
       ]
      },
      {
       "output_type": "stream",
       "stream": "stdout",
       "text": [
        "\n",
        "Number of features:5\n",
        "score:A_purchase:0.895384615385"
       ]
      },
      {
       "output_type": "stream",
       "stream": "stdout",
       "text": [
        "\n",
        "Index([u'shopping_pt', u'A', u'E', u'A_var', u'B_var'], dtype='object')"
       ]
      },
      {
       "output_type": "stream",
       "stream": "stdout",
       "text": [
        "\n",
        "score:B_purchase:0.93374005305"
       ]
      },
      {
       "output_type": "stream",
       "stream": "stdout",
       "text": [
        "\n",
        "Index([u'shopping_pt', u'B', u'B_init', u'E_init', u'B_var'], dtype='object')"
       ]
      },
      {
       "output_type": "stream",
       "stream": "stdout",
       "text": [
        "\n",
        "score:C_purchase:0.840530503979"
       ]
      },
      {
       "output_type": "stream",
       "stream": "stdout",
       "text": [
        "\n",
        "Index([u'shopping_pt', u'C', u'D', u'C_change', u'C_var'], dtype='object')"
       ]
      },
      {
       "output_type": "stream",
       "stream": "stdout",
       "text": [
        "\n",
        "score:D_purchase:0.944986737401"
       ]
      },
      {
       "output_type": "stream",
       "stream": "stdout",
       "text": [
        "\n",
        "Index([u'shopping_pt', u'D', u'D_change', u'D_var', u'E_var'], dtype='object')"
       ]
      },
      {
       "output_type": "stream",
       "stream": "stdout",
       "text": [
        "\n",
        "score:E_purchase:0.936923076923"
       ]
      },
      {
       "output_type": "stream",
       "stream": "stdout",
       "text": [
        "\n",
        "Index([u'shopping_pt', u'homeowner', u'A', u'E', u'A_var'], dtype='object')"
       ]
      },
      {
       "output_type": "stream",
       "stream": "stdout",
       "text": [
        "\n",
        "score:F_purchase:0.88"
       ]
      },
      {
       "output_type": "stream",
       "stream": "stdout",
       "text": [
        "\n",
        "Index([u'shopping_pt', u'A', u'F', u'A_var', u'E_var'], dtype='object')"
       ]
      },
      {
       "output_type": "stream",
       "stream": "stdout",
       "text": [
        "\n",
        "score:G_purchase:0.807108753316"
       ]
      },
      {
       "output_type": "stream",
       "stream": "stdout",
       "text": [
        "\n",
        "Index([u'shopping_pt', u'G', u'A_var', u'C_var', u'G_var'], dtype='object')"
       ]
      },
      {
       "output_type": "stream",
       "stream": "stdout",
       "text": [
        "\n",
        "Number of features:6\n",
        "score:A_purchase:0.895331564987"
       ]
      },
      {
       "output_type": "stream",
       "stream": "stdout",
       "text": [
        "\n",
        "Index([u'shopping_pt', u'A', u'E', u'A_var', u'B_var', u'E_var'], dtype='object')"
       ]
      },
      {
       "output_type": "stream",
       "stream": "stdout",
       "text": [
        "\n",
        "score:B_purchase:0.93374005305"
       ]
      },
      {
       "output_type": "stream",
       "stream": "stdout",
       "text": [
        "\n",
        "Index([u'shopping_pt', u'B', u'B_init', u'E_init', u'B_change', u'B_var'], dtype='object')"
       ]
      },
      {
       "output_type": "stream",
       "stream": "stdout",
       "text": [
        "\n",
        "score:C_purchase:0.844456233422"
       ]
      },
      {
       "output_type": "stream",
       "stream": "stdout",
       "text": [
        "\n",
        "Index([u'shopping_pt', u'C_previous', u'C', u'D', u'C_change', u'C_var'], dtype='object')"
       ]
      },
      {
       "output_type": "stream",
       "stream": "stdout",
       "text": [
        "\n",
        "score:D_purchase:0.924933687003"
       ]
      },
      {
       "output_type": "stream",
       "stream": "stdout",
       "text": [
        "\n",
        "Index([u'shopping_pt', u'C', u'D', u'D_change', u'D_var', u'E_var'], dtype='object')"
       ]
      },
      {
       "output_type": "stream",
       "stream": "stdout",
       "text": [
        "\n",
        "score:E_purchase:0.936923076923"
       ]
      },
      {
       "output_type": "stream",
       "stream": "stdout",
       "text": [
        "\n",
        "Index([u'shopping_pt', u'homeowner', u'A', u'E', u'B_init', u'A_var'], dtype='object')"
       ]
      },
      {
       "output_type": "stream",
       "stream": "stdout",
       "text": [
        "\n",
        "score:F_purchase:0.881167108753"
       ]
      },
      {
       "output_type": "stream",
       "stream": "stdout",
       "text": [
        "\n",
        "Index([u'shopping_pt', u'A', u'F', u'A_var', u'E_var', u'F_var'], dtype='object')"
       ]
      },
      {
       "output_type": "stream",
       "stream": "stdout",
       "text": [
        "\n",
        "score:G_purchase:0.806949602122"
       ]
      },
      {
       "output_type": "stream",
       "stream": "stdout",
       "text": [
        "\n",
        "Index([u'shopping_pt', u'G', u'G_init', u'A_var', u'C_var', u'G_var'], dtype='object')"
       ]
      },
      {
       "output_type": "stream",
       "stream": "stdout",
       "text": [
        "\n",
        "Number of features:7\n",
        "score:A_purchase:0.918408488064"
       ]
      },
      {
       "output_type": "stream",
       "stream": "stdout",
       "text": [
        "\n",
        "Index([u'shopping_pt', u'A', u'E', u'A_init', u'A_var', u'B_var', u'E_var'], dtype='object')"
       ]
      },
      {
       "output_type": "stream",
       "stream": "stdout",
       "text": [
        "\n",
        "score:B_purchase:0.93374005305"
       ]
      },
      {
       "output_type": "stream",
       "stream": "stdout",
       "text": [
        "\n",
        "Index([u'shopping_pt', u'B', u'B_init', u'E_init', u'B_change', u'E_change', u'B_var'], dtype='object')"
       ]
      },
      {
       "output_type": "stream",
       "stream": "stdout",
       "text": [
        "\n",
        "score:C_purchase:0.830822281167"
       ]
      },
      {
       "output_type": "stream",
       "stream": "stdout",
       "text": [
        "\n",
        "Index([u'shopping_pt', u'homeowner', u'C_previous', u'C', u'D', u'C_change', u'C_var'], dtype='object')"
       ]
      },
      {
       "output_type": "stream",
       "stream": "stdout",
       "text": [
        "\n",
        "score:D_purchase:0.924933687003"
       ]
      },
      {
       "output_type": "stream",
       "stream": "stdout",
       "text": [
        "\n",
        "Index([u'shopping_pt', u'C', u'D', u'D_change', u'B_var', u'D_var', u'E_var'], dtype='object')"
       ]
      },
      {
       "output_type": "stream",
       "stream": "stdout",
       "text": [
        "\n",
        "score:E_purchase:0.936923076923"
       ]
      },
      {
       "output_type": "stream",
       "stream": "stdout",
       "text": [
        "\n",
        "Index([u'shopping_pt', u'homeowner', u'A', u'E', u'B_init', u'E_init', u'A_var'], dtype='object')"
       ]
      },
      {
       "output_type": "stream",
       "stream": "stdout",
       "text": [
        "\n",
        "score:F_purchase:0.873156498674"
       ]
      },
      {
       "output_type": "stream",
       "stream": "stdout",
       "text": [
        "\n",
        "Index([u'shopping_pt', u'A', u'F', u'F_change', u'A_var', u'E_var', u'F_var'], dtype='object')"
       ]
      },
      {
       "output_type": "stream",
       "stream": "stdout",
       "text": [
        "\n",
        "score:G_purchase:0.786153846154"
       ]
      },
      {
       "output_type": "stream",
       "stream": "stdout",
       "text": [
        "\n",
        "Index([u'shopping_pt', u'G', u'F_init', u'G_init', u'A_var', u'C_var', u'G_var'], dtype='object')"
       ]
      },
      {
       "output_type": "stream",
       "stream": "stdout",
       "text": [
        "\n",
        "Number of features:8\n",
        "score:A_purchase:0.910981432361"
       ]
      },
      {
       "output_type": "stream",
       "stream": "stdout",
       "text": [
        "\n",
        "Index([u'shopping_pt', u'A', u'E', u'F', u'A_init', u'A_var', u'B_var', u'E_var'], dtype='object')"
       ]
      },
      {
       "output_type": "stream",
       "stream": "stdout",
       "text": [
        "\n",
        "score:B_purchase:0.93374005305"
       ]
      },
      {
       "output_type": "stream",
       "stream": "stdout",
       "text": [
        "\n",
        "Index([u'shopping_pt', u'B', u'B_init', u'E_init', u'B_change', u'E_change', u'G_change', u'B_var'], dtype='object')"
       ]
      },
      {
       "output_type": "stream",
       "stream": "stdout",
       "text": [
        "\n",
        "score:C_purchase:0.840477453581"
       ]
      },
      {
       "output_type": "stream",
       "stream": "stdout",
       "text": [
        "\n",
        "Index([u'shopping_pt', u'homeowner', u'C_previous', u'C', u'D', u'C_init', u'C_change', u'C_var'], dtype='object')"
       ]
      },
      {
       "output_type": "stream",
       "stream": "stdout",
       "text": [
        "\n",
        "score:D_purchase:0.925358090186"
       ]
      },
      {
       "output_type": "stream",
       "stream": "stdout",
       "text": [
        "\n",
        "Index([u'shopping_pt', u'C', u'D', u'D_init', u'D_change', u'B_var', u'D_var', u'E_var'], dtype='object')"
       ]
      },
      {
       "output_type": "stream",
       "stream": "stdout",
       "text": [
        "\n",
        "score:E_purchase:0.936923076923"
       ]
      },
      {
       "output_type": "stream",
       "stream": "stdout",
       "text": [
        "\n",
        "Index([u'shopping_pt', u'homeowner', u'A', u'E', u'B_init', u'E_change', u'A_var', u'E_var'], dtype='object')"
       ]
      },
      {
       "output_type": "stream",
       "stream": "stdout",
       "text": [
        "\n",
        "score:F_purchase:0.875013262599"
       ]
      },
      {
       "output_type": "stream",
       "stream": "stdout",
       "text": [
        "\n",
        "Index([u'shopping_pt', u'A', u'F', u'F_init', u'F_change', u'A_var', u'E_var', u'F_var'], dtype='object')"
       ]
      },
      {
       "output_type": "stream",
       "stream": "stdout",
       "text": [
        "\n",
        "score:G_purchase:0.774960212202"
       ]
      },
      {
       "output_type": "stream",
       "stream": "stdout",
       "text": [
        "\n",
        "Index([u'shopping_pt', u'E', u'G', u'F_init', u'G_init', u'A_var', u'C_var', u'G_var'], dtype='object')"
       ]
      },
      {
       "output_type": "stream",
       "stream": "stdout",
       "text": [
        "\n",
        "Number of features:9\n",
        "score:A_purchase:0.908275862069"
       ]
      },
      {
       "output_type": "stream",
       "stream": "stdout",
       "text": [
        "\n",
        "Index([u'shopping_pt', u'homeowner', u'A', u'E', u'F', u'A_init', u'A_var', u'B_var', u'E_var'], dtype='object')"
       ]
      },
      {
       "output_type": "stream",
       "stream": "stdout",
       "text": [
        "\n",
        "score:B_purchase:0.93374005305"
       ]
      },
      {
       "output_type": "stream",
       "stream": "stdout",
       "text": [
        "\n",
        "Index([u'shopping_pt', u'B', u'F', u'B_init', u'E_init', u'B_change', u'E_change', u'G_change', u'B_var'], dtype='object')"
       ]
      },
      {
       "output_type": "stream",
       "stream": "stdout",
       "text": [
        "\n",
        "score:C_purchase:0.840318302387"
       ]
      },
      {
       "output_type": "stream",
       "stream": "stdout",
       "text": [
        "\n",
        "Index([u'shopping_pt', u'homeowner', u'C_previous', u'C', u'D', u'C_init', u'C_change', u'C_var', u'D_var'], dtype='object')"
       ]
      },
      {
       "output_type": "stream",
       "stream": "stdout",
       "text": [
        "\n",
        "score:D_purchase:0.93225464191"
       ]
      },
      {
       "output_type": "stream",
       "stream": "stdout",
       "text": [
        "\n",
        "Index([u'shopping_pt', u'homeowner', u'C', u'D', u'D_init', u'D_change', u'B_var', u'D_var', u'E_var'], dtype='object')"
       ]
      },
      {
       "output_type": "stream",
       "stream": "stdout",
       "text": [
        "\n",
        "score:E_purchase:0.936923076923"
       ]
      },
      {
       "output_type": "stream",
       "stream": "stdout",
       "text": [
        "\n",
        "Index([u'shopping_pt', u'homeowner', u'A', u'E', u'B_init', u'E_init', u'E_change', u'A_var', u'E_var'], dtype='object')"
       ]
      },
      {
       "output_type": "stream",
       "stream": "stdout",
       "text": [
        "\n",
        "score:F_purchase:0.872042440318"
       ]
      },
      {
       "output_type": "stream",
       "stream": "stdout",
       "text": [
        "\n",
        "Index([u'shopping_pt', u'A', u'F', u'A_init', u'F_init', u'F_change', u'A_var', u'E_var', u'F_var'], dtype='object')"
       ]
      },
      {
       "output_type": "stream",
       "stream": "stdout",
       "text": [
        "\n",
        "score:G_purchase:0.776657824934"
       ]
      },
      {
       "output_type": "stream",
       "stream": "stdout",
       "text": [
        "\n",
        "Index([u'shopping_pt', u'E', u'G', u'F_init', u'G_init', u'G_change', u'A_var', u'C_var', u'G_var'], dtype='object')"
       ]
      },
      {
       "output_type": "stream",
       "stream": "stdout",
       "text": [
        "\n",
        "Number of features:10\n",
        "score:A_purchase:0.908169761273"
       ]
      },
      {
       "output_type": "stream",
       "stream": "stdout",
       "text": [
        "\n",
        "Index([u'shopping_pt', u'homeowner', u'A', u'E', u'F', u'A_init', u'A_var', u'B_var', u'D_var', u'E_var'], dtype='object')"
       ]
      },
      {
       "output_type": "stream",
       "stream": "stdout",
       "text": [
        "\n",
        "score:B_purchase:0.93374005305"
       ]
      },
      {
       "output_type": "stream",
       "stream": "stdout",
       "text": [
        "\n",
        "Index([u'shopping_pt', u'C_previous', u'B', u'F', u'B_init', u'E_init', u'B_change', u'E_change', u'G_change', u'B_var'], dtype='object')"
       ]
      },
      {
       "output_type": "stream",
       "stream": "stdout",
       "text": [
        "\n",
        "score:C_purchase:0.840901856764"
       ]
      },
      {
       "output_type": "stream",
       "stream": "stdout",
       "text": [
        "\n",
        "Index([u'shopping_pt', u'homeowner', u'C_previous', u'C', u'D', u'C_init', u'C_change', u'B_var', u'C_var', u'D_var'], dtype='object')"
       ]
      },
      {
       "output_type": "stream",
       "stream": "stdout",
       "text": [
        "\n",
        "score:D_purchase:0.932148541114"
       ]
      },
      {
       "output_type": "stream",
       "stream": "stdout",
       "text": [
        "\n",
        "Index([u'shopping_pt', u'homeowner', u'C', u'D', u'D_init', u'D_change', u'B_var', u'C_var', u'D_var', u'E_var'], dtype='object')"
       ]
      },
      {
       "output_type": "stream",
       "stream": "stdout",
       "text": [
        "\n",
        "score:E_purchase:0.936923076923"
       ]
      },
      {
       "output_type": "stream",
       "stream": "stdout",
       "text": [
        "\n",
        "Index([u'shopping_pt', u'homeowner', u'A', u'C', u'E', u'B_init', u'E_init', u'D_change', u'A_var', u'D_var'], dtype='object')"
       ]
      },
      {
       "output_type": "stream",
       "stream": "stdout",
       "text": [
        "\n",
        "score:F_purchase:0.872095490716"
       ]
      },
      {
       "output_type": "stream",
       "stream": "stdout",
       "text": [
        "\n",
        "Index([u'shopping_pt', u'A', u'F', u'A_init', u'F_init', u'F_change', u'A_var', u'B_var', u'E_var', u'F_var'], dtype='object')"
       ]
      },
      {
       "output_type": "stream",
       "stream": "stdout",
       "text": [
        "\n",
        "score:G_purchase:0.775331564987"
       ]
      },
      {
       "output_type": "stream",
       "stream": "stdout",
       "text": [
        "\n",
        "Index([u'shopping_pt', u'E', u'G', u'F_init', u'G_init', u'G_change', u'A_var', u'C_var', u'E_var', u'G_var'], dtype='object')"
       ]
      },
      {
       "output_type": "stream",
       "stream": "stdout",
       "text": [
        "\n",
        "Number of features:11\n",
        "score:A_purchase:0.908116710875"
       ]
      },
      {
       "output_type": "stream",
       "stream": "stdout",
       "text": [
        "\n",
        "Index([u'shopping_pt', u'homeowner', u'A', u'E', u'F', u'A_init', u'E_init', u'A_var', u'B_var', u'D_var', u'E_var'], dtype='object')"
       ]
      },
      {
       "output_type": "stream",
       "stream": "stdout",
       "text": [
        "\n",
        "score:B_purchase:0.93374005305"
       ]
      },
      {
       "output_type": "stream",
       "stream": "stdout",
       "text": [
        "\n",
        "Index([u'shopping_pt', u'C_previous', u'B', u'F', u'G', u'B_init', u'E_init', u'B_change', u'E_change', u'G_change', u'B_var'], dtype='object')"
       ]
      },
      {
       "output_type": "stream",
       "stream": "stdout",
       "text": [
        "\n",
        "score:C_purchase:0.834217506631"
       ]
      },
      {
       "output_type": "stream",
       "stream": "stdout",
       "text": [
        "\n",
        "Index([u'shopping_pt', u'homeowner', u'married_couple', u'C_previous', u'C', u'D', u'C_init', u'C_change', u'B_var', u'C_var', u'D_var'], dtype='object')"
       ]
      },
      {
       "output_type": "stream",
       "stream": "stdout",
       "text": [
        "\n",
        "score:D_purchase:0.930663129973"
       ]
      },
      {
       "output_type": "stream",
       "stream": "stdout",
       "text": [
        "\n",
        "Index([u'shopping_pt', u'homeowner', u'C_previous', u'C', u'D', u'D_init', u'D_change', u'B_var', u'C_var', u'D_var', u'E_var'], dtype='object')"
       ]
      },
      {
       "output_type": "stream",
       "stream": "stdout",
       "text": [
        "\n",
        "score:E_purchase:0.936923076923"
       ]
      },
      {
       "output_type": "stream",
       "stream": "stdout",
       "text": [
        "\n",
        "Index([u'shopping_pt', u'homeowner', u'A', u'C', u'E', u'B_init', u'E_init', u'D_change', u'E_change', u'A_var', u'E_var'], dtype='object')"
       ]
      },
      {
       "output_type": "stream",
       "stream": "stdout",
       "text": [
        "\n",
        "score:F_purchase:0.868435013263"
       ]
      },
      {
       "output_type": "stream",
       "stream": "stdout",
       "text": [
        "\n",
        "Index([u'shopping_pt', u'A', u'F', u'A_init', u'F_init', u'A_change', u'F_change', u'A_var', u'B_var', u'E_var', u'F_var'], dtype='object')"
       ]
      },
      {
       "output_type": "stream",
       "stream": "stdout",
       "text": [
        "\n",
        "score:G_purchase:0.775066312997"
       ]
      },
      {
       "output_type": "stream",
       "stream": "stdout",
       "text": [
        "\n",
        "Index([u'shopping_pt', u'E', u'G', u'F_init', u'G_init', u'G_change', u'A_var', u'B_var', u'C_var', u'E_var', u'G_var'], dtype='object')"
       ]
      },
      {
       "output_type": "stream",
       "stream": "stdout",
       "text": [
        "\n",
        "Number of features:12\n",
        "score:A_purchase:0.907586206897"
       ]
      },
      {
       "output_type": "stream",
       "stream": "stdout",
       "text": [
        "\n",
        "Index([u'shopping_pt', u'homeowner', u'A', u'C', u'E', u'F', u'A_init', u'E_init', u'A_var', u'B_var', u'D_var', u'E_var'], dtype='object')"
       ]
      },
      {
       "output_type": "stream",
       "stream": "stdout",
       "text": [
        "\n",
        "score:B_purchase:0.93374005305"
       ]
      },
      {
       "output_type": "stream",
       "stream": "stdout",
       "text": [
        "\n",
        "Index([u'shopping_pt', u'C_previous', u'B', u'E', u'F', u'G', u'B_init', u'E_init', u'B_change', u'E_change', u'G_change', u'B_var'], dtype='object')"
       ]
      },
      {
       "output_type": "stream",
       "stream": "stdout",
       "text": [
        "\n",
        "score:C_purchase:0.835437665782"
       ]
      },
      {
       "output_type": "stream",
       "stream": "stdout",
       "text": [
        "\n",
        "Index([u'shopping_pt', u'homeowner', u'married_couple', u'C_previous', u'C', u'D', u'C_init', u'C_change', u'A_var', u'B_var', u'C_var', u'D_var'], dtype='object')"
       ]
      },
      {
       "output_type": "stream",
       "stream": "stdout",
       "text": [
        "\n",
        "score:D_purchase:0.930132625995"
       ]
      },
      {
       "output_type": "stream",
       "stream": "stdout",
       "text": [
        "\n",
        "Index([u'shopping_pt', u'homeowner', u'C_previous', u'C', u'D', u'D_init', u'D_change', u'B_var', u'C_var', u'D_var', u'E_var', u'F_var'], dtype='object')"
       ]
      },
      {
       "output_type": "stream",
       "stream": "stdout",
       "text": [
        "\n",
        "score:E_purchase:0.936923076923"
       ]
      },
      {
       "output_type": "stream",
       "stream": "stdout",
       "text": [
        "\n",
        "Index([u'shopping_pt', u'homeowner', u'A', u'C', u'E', u'B_init', u'E_init', u'D_change', u'E_change', u'A_var', u'D_var', u'E_var'], dtype='object')"
       ]
      },
      {
       "output_type": "stream",
       "stream": "stdout",
       "text": [
        "\n",
        "score:F_purchase:0.866843501326"
       ]
      },
      {
       "output_type": "stream",
       "stream": "stdout",
       "text": [
        "\n",
        "Index([u'shopping_pt', u'A', u'E', u'F', u'A_init', u'F_init', u'A_change', u'F_change', u'A_var', u'B_var', u'E_var', u'F_var'], dtype='object')"
       ]
      },
      {
       "output_type": "stream",
       "stream": "stdout",
       "text": [
        "\n",
        "score:G_purchase:0.772785145889"
       ]
      },
      {
       "output_type": "stream",
       "stream": "stdout",
       "text": [
        "\n",
        "Index([u'shopping_pt', u'D', u'E', u'G', u'F_init', u'G_init', u'G_change', u'A_var', u'B_var', u'C_var', u'E_var', u'G_var'], dtype='object')"
       ]
      },
      {
       "output_type": "stream",
       "stream": "stdout",
       "text": [
        "\n",
        "Number of features:13\n",
        "score:A_purchase:0.906949602122"
       ]
      },
      {
       "output_type": "stream",
       "stream": "stdout",
       "text": [
        "\n",
        "Index([u'shopping_pt', u'homeowner', u'A', u'C', u'E', u'F', u'A_init', u'E_init', u'F_change', u'A_var', u'B_var', u'D_var', u'E_var'], dtype='object')"
       ]
      },
      {
       "output_type": "stream",
       "stream": "stdout",
       "text": [
        "\n",
        "score:B_purchase:0.93374005305"
       ]
      },
      {
       "output_type": "stream",
       "stream": "stdout",
       "text": [
        "\n",
        "Index([u'shopping_pt', u'C_previous', u'B', u'E', u'F', u'G', u'B_init', u'E_init', u'B_change', u'E_change', u'G_change', u'B_var', u'F_var'], dtype='object')"
       ]
      },
      {
       "output_type": "stream",
       "stream": "stdout",
       "text": [
        "\n",
        "score:C_purchase:0.835968169761"
       ]
      },
      {
       "output_type": "stream",
       "stream": "stdout",
       "text": [
        "\n",
        "Index([u'shopping_pt', u'homeowner', u'married_couple', u'C_previous', u'C', u'D', u'C_init', u'C_change', u'A_var', u'B_var', u'C_var', u'D_var', u'F_var'], dtype='object')"
       ]
      },
      {
       "output_type": "stream",
       "stream": "stdout",
       "text": [
        "\n",
        "score:D_purchase:0.929655172414"
       ]
      },
      {
       "output_type": "stream",
       "stream": "stdout",
       "text": [
        "\n",
        "Index([u'shopping_pt', u'homeowner', u'C_previous', u'C', u'D', u'D_init', u'D_change', u'A_var', u'B_var', u'C_var', u'D_var', u'E_var', u'F_var'], dtype='object')"
       ]
      },
      {
       "output_type": "stream",
       "stream": "stdout",
       "text": [
        "\n",
        "score:E_purchase:0.936923076923"
       ]
      },
      {
       "output_type": "stream",
       "stream": "stdout",
       "text": [
        "\n",
        "Index([u'shopping_pt', u'homeowner', u'A', u'C', u'E', u'B_init', u'C_init', u'E_init', u'C_change', u'D_change', u'F_change', u'A_var', u'D_var'], dtype='object')"
       ]
      },
      {
       "output_type": "stream",
       "stream": "stdout",
       "text": [
        "\n",
        "score:F_purchase:0.86074270557"
       ]
      },
      {
       "output_type": "stream",
       "stream": "stdout",
       "text": [
        "\n",
        "Index([u'shopping_pt', u'A', u'E', u'F', u'G', u'A_init', u'F_init', u'A_change', u'F_change', u'A_var', u'B_var', u'E_var', u'F_var'], dtype='object')"
       ]
      },
      {
       "output_type": "stream",
       "stream": "stdout",
       "text": [
        "\n",
        "score:G_purchase:0.772944297082"
       ]
      },
      {
       "output_type": "stream",
       "stream": "stdout",
       "text": [
        "\n",
        "Index([u'shopping_pt', u'C', u'D', u'E', u'G', u'F_init', u'G_init', u'G_change', u'A_var', u'B_var', u'C_var', u'E_var', u'G_var'], dtype='object')"
       ]
      },
      {
       "output_type": "stream",
       "stream": "stdout",
       "text": [
        "\n",
        "Number of features:14\n",
        "score:A_purchase:0.906737400531"
       ]
      },
      {
       "output_type": "stream",
       "stream": "stdout",
       "text": [
        "\n",
        "Index([u'shopping_pt', u'homeowner', u'A', u'C', u'E', u'F', u'A_init', u'E_init', u'A_change', u'F_change', u'A_var', u'B_var', u'D_var', u'E_var'], dtype='object')"
       ]
      },
      {
       "output_type": "stream",
       "stream": "stdout",
       "text": [
        "\n",
        "score:B_purchase:0.93374005305"
       ]
      },
      {
       "output_type": "stream",
       "stream": "stdout",
       "text": [
        "\n",
        "Index([u'shopping_pt', u'C_previous', u'A', u'B', u'E', u'F', u'G', u'B_init', u'E_init', u'B_change', u'E_change', u'G_change', u'B_var', u'F_var'], dtype='object')"
       ]
      },
      {
       "output_type": "stream",
       "stream": "stdout",
       "text": [
        "\n",
        "score:C_purchase:0.835596816976"
       ]
      },
      {
       "output_type": "stream",
       "stream": "stdout",
       "text": [
        "\n",
        "Index([u'shopping_pt', u'homeowner', u'married_couple', u'C_previous', u'C', u'D', u'C_init', u'C_change', u'D_change', u'A_var', u'B_var', u'C_var', u'D_var', u'F_var'], dtype='object')"
       ]
      },
      {
       "output_type": "stream",
       "stream": "stdout",
       "text": [
        "\n",
        "score:D_purchase:0.927320954907"
       ]
      },
      {
       "output_type": "stream",
       "stream": "stdout",
       "text": [
        "\n",
        "Index([u'shopping_pt', u'homeowner', u'C_previous', u'C', u'D', u'G', u'D_init', u'D_change', u'A_var', u'B_var', u'C_var', u'D_var', u'E_var', u'F_var'], dtype='object')"
       ]
      },
      {
       "output_type": "stream",
       "stream": "stdout",
       "text": [
        "\n",
        "score:E_purchase:0.936923076923"
       ]
      },
      {
       "output_type": "stream",
       "stream": "stdout",
       "text": [
        "\n",
        "Index([u'shopping_pt', u'homeowner', u'A', u'C', u'E', u'B_init', u'C_init', u'E_init', u'C_change', u'D_change', u'F_change', u'A_var', u'D_var', u'F_var'], dtype='object')"
       ]
      },
      {
       "output_type": "stream",
       "stream": "stdout",
       "text": [
        "\n",
        "score:F_purchase:0.861326259947"
       ]
      },
      {
       "output_type": "stream",
       "stream": "stdout",
       "text": [
        "\n",
        "Index([u'shopping_pt', u'A', u'E', u'F', u'G', u'A_init', u'E_init', u'F_init', u'A_change', u'F_change', u'A_var', u'B_var', u'E_var', u'F_var'], dtype='object')"
       ]
      },
      {
       "output_type": "stream",
       "stream": "stdout",
       "text": [
        "\n",
        "score:G_purchase:0.768912466844"
       ]
      },
      {
       "output_type": "stream",
       "stream": "stdout",
       "text": [
        "\n",
        "Index([u'shopping_pt', u'C', u'D', u'E', u'F', u'G', u'F_init', u'G_init', u'G_change', u'A_var', u'B_var', u'C_var', u'E_var', u'G_var'], dtype='object')"
       ]
      },
      {
       "output_type": "stream",
       "stream": "stdout",
       "text": [
        "\n",
        "Number of features:15\n",
        "score:A_purchase:0.906843501326"
       ]
      },
      {
       "output_type": "stream",
       "stream": "stdout",
       "text": [
        "\n",
        "Index([u'shopping_pt', u'homeowner', u'A', u'C', u'E', u'F', u'A_init', u'E_init', u'A_change', u'F_change', u'A_var', u'B_var', u'D_var', u'E_var', u'F_var'], dtype='object')"
       ]
      },
      {
       "output_type": "stream",
       "stream": "stdout",
       "text": [
        "\n",
        "score:B_purchase:0.93374005305"
       ]
      },
      {
       "output_type": "stream",
       "stream": "stdout",
       "text": [
        "\n",
        "Index([u'shopping_pt', u'C_previous', u'A', u'B', u'E', u'F', u'G', u'A_init', u'B_init', u'E_init', u'B_change', u'E_change', u'G_change', u'B_var', u'F_var'], dtype='object')"
       ]
      },
      {
       "output_type": "stream",
       "stream": "stdout",
       "text": [
        "\n",
        "score:C_purchase:0.835437665782"
       ]
      },
      {
       "output_type": "stream",
       "stream": "stdout",
       "text": [
        "\n",
        "Index([u'shopping_pt', u'homeowner', u'married_couple', u'C_previous', u'C', u'D', u'C_init', u'C_change', u'D_change', u'A_var', u'B_var', u'C_var', u'D_var', u'E_var', u'F_var'], dtype='object')"
       ]
      },
      {
       "output_type": "stream",
       "stream": "stdout",
       "text": [
        "\n",
        "score:D_purchase:0.927798408488"
       ]
      },
      {
       "output_type": "stream",
       "stream": "stdout",
       "text": [
        "\n",
        "Index([u'shopping_pt', u'homeowner', u'C_previous', u'C', u'D', u'G', u'C_init', u'D_init', u'D_change', u'A_var', u'B_var', u'C_var', u'D_var', u'E_var', u'F_var'], dtype='object')"
       ]
      },
      {
       "output_type": "stream",
       "stream": "stdout",
       "text": [
        "\n",
        "score:E_purchase:0.936923076923"
       ]
      },
      {
       "output_type": "stream",
       "stream": "stdout",
       "text": [
        "\n",
        "Index([u'shopping_pt', u'homeowner', u'C_previous', u'A', u'C', u'E', u'B_init', u'C_init', u'E_init', u'C_change', u'D_change', u'F_change', u'A_var', u'D_var', u'F_var'], dtype='object')"
       ]
      },
      {
       "output_type": "stream",
       "stream": "stdout",
       "text": [
        "\n",
        "score:F_purchase:0.860477453581"
       ]
      },
      {
       "output_type": "stream",
       "stream": "stdout",
       "text": [
        "\n",
        "Index([u'shopping_pt', u'A', u'E', u'F', u'G', u'A_init', u'E_init', u'F_init', u'A_change', u'F_change', u'A_var', u'B_var', u'C_var', u'E_var', u'F_var'], dtype='object')"
       ]
      },
      {
       "output_type": "stream",
       "stream": "stdout",
       "text": [
        "\n",
        "score:G_purchase:0.767533156499"
       ]
      },
      {
       "output_type": "stream",
       "stream": "stdout",
       "text": [
        "\n",
        "Index([u'shopping_pt', u'homeowner', u'C', u'D', u'E', u'F', u'G', u'F_init', u'G_init', u'G_change', u'A_var', u'B_var', u'C_var', u'E_var', u'G_var'], dtype='object')"
       ]
      },
      {
       "output_type": "stream",
       "stream": "stdout",
       "text": [
        "\n",
        "Number of features:16\n",
        "score:A_purchase:0.905358090186"
       ]
      },
      {
       "output_type": "stream",
       "stream": "stdout",
       "text": [
        "\n",
        "Index([u'shopping_pt', u'homeowner', u'car_age', u'A', u'C', u'E', u'F', u'A_init', u'E_init', u'A_change', u'F_change', u'A_var', u'B_var', u'D_var', u'E_var', u'F_var'], dtype='object')"
       ]
      },
      {
       "output_type": "stream",
       "stream": "stdout",
       "text": [
        "\n",
        "score:B_purchase:0.93374005305"
       ]
      },
      {
       "output_type": "stream",
       "stream": "stdout",
       "text": [
        "\n",
        "Index([u'shopping_pt', u'C_previous', u'A', u'B', u'E', u'F', u'G', u'A_init', u'B_init', u'E_init', u'F_init', u'B_change', u'E_change', u'G_change', u'B_var', u'F_var'], dtype='object')"
       ]
      },
      {
       "output_type": "stream",
       "stream": "stdout",
       "text": [
        "\n",
        "score:C_purchase:0.835331564987"
       ]
      },
      {
       "output_type": "stream",
       "stream": "stdout",
       "text": [
        "\n",
        "Index([u'shopping_pt', u'homeowner', u'married_couple', u'C_previous', u'C', u'D', u'C_init', u'C_change', u'D_change', u'E_change', u'A_var', u'B_var', u'C_var', u'D_var', u'E_var', u'F_var'], dtype='object')"
       ]
      },
      {
       "output_type": "stream",
       "stream": "stdout",
       "text": [
        "\n",
        "score:D_purchase:0.927214854111"
       ]
      },
      {
       "output_type": "stream",
       "stream": "stdout",
       "text": [
        "\n",
        "Index([u'shopping_pt', u'homeowner', u'C_previous', u'C', u'D', u'G', u'C_init', u'D_init', u'D_change', u'E_change', u'A_var', u'B_var', u'C_var', u'D_var', u'E_var', u'F_var'], dtype='object')"
       ]
      },
      {
       "output_type": "stream",
       "stream": "stdout",
       "text": [
        "\n",
        "score:E_purchase:0.936923076923"
       ]
      },
      {
       "output_type": "stream",
       "stream": "stdout",
       "text": [
        "\n",
        "Index([u'shopping_pt', u'homeowner', u'car_age', u'C_previous', u'A', u'C', u'E', u'B_init', u'C_init', u'E_init', u'C_change', u'D_change', u'F_change', u'A_var', u'D_var', u'F_var'], dtype='object')"
       ]
      },
      {
       "output_type": "stream",
       "stream": "stdout",
       "text": [
        "\n",
        "score:F_purchase:0.861220159151"
       ]
      },
      {
       "output_type": "stream",
       "stream": "stdout",
       "text": [
        "\n",
        "Index([u'shopping_pt', u'A', u'E', u'F', u'G', u'A_init', u'E_init', u'F_init', u'A_change', u'F_change', u'A_var', u'B_var', u'C_var', u'E_var', u'F_var', u'G_var'], dtype='object')"
       ]
      },
      {
       "output_type": "stream",
       "stream": "stdout",
       "text": [
        "\n",
        "score:G_purchase:0.767108753316"
       ]
      },
      {
       "output_type": "stream",
       "stream": "stdout",
       "text": [
        "\n",
        "Index([u'shopping_pt', u'homeowner', u'C', u'D', u'E', u'F', u'G', u'E_init', u'F_init', u'G_init', u'G_change', u'A_var', u'B_var', u'C_var', u'E_var', u'G_var'], dtype='object')"
       ]
      },
      {
       "output_type": "stream",
       "stream": "stdout",
       "text": [
        "\n",
        "Number of features:17\n",
        "score:A_purchase:0.905676392573"
       ]
      },
      {
       "output_type": "stream",
       "stream": "stdout",
       "text": [
        "\n",
        "Index([u'shopping_pt', u'homeowner', u'car_age', u'A', u'C', u'E', u'F', u'A_init', u'E_init', u'F_init', u'A_change', u'F_change', u'A_var', u'B_var', u'D_var', u'E_var', u'F_var'], dtype='object')"
       ]
      },
      {
       "output_type": "stream",
       "stream": "stdout",
       "text": [
        "\n",
        "score:B_purchase:0.93374005305"
       ]
      },
      {
       "output_type": "stream",
       "stream": "stdout",
       "text": [
        "\n",
        "Index([u'shopping_pt', u'C_previous', u'A', u'B', u'D', u'E', u'F', u'G', u'A_init', u'B_init', u'E_init', u'F_init', u'B_change', u'E_change', u'G_change', u'B_var', u'F_var'], dtype='object')"
       ]
      },
      {
       "output_type": "stream",
       "stream": "stdout",
       "text": [
        "\n",
        "score:C_purchase:0.838673740053"
       ]
      },
      {
       "output_type": "stream",
       "stream": "stdout",
       "text": [
        "\n",
        "Index([u'shopping_pt', u'homeowner', u'married_couple', u'C_previous', u'C', u'D', u'E', u'C_init', u'C_change', u'D_change', u'E_change', u'A_var', u'B_var', u'C_var', u'D_var', u'E_var', u'F_var'], dtype='object')"
       ]
      },
      {
       "output_type": "stream",
       "stream": "stdout",
       "text": [
        "\n",
        "score:D_purchase:0.927267904509"
       ]
      },
      {
       "output_type": "stream",
       "stream": "stdout",
       "text": [
        "\n",
        "Index([u'shopping_pt', u'homeowner', u'C_previous', u'A', u'C', u'D', u'G', u'C_init', u'D_init', u'D_change', u'E_change', u'A_var', u'B_var', u'C_var', u'D_var', u'E_var', u'F_var'], dtype='object')"
       ]
      },
      {
       "output_type": "stream",
       "stream": "stdout",
       "text": [
        "\n",
        "score:E_purchase:0.936923076923"
       ]
      },
      {
       "output_type": "stream",
       "stream": "stdout",
       "text": [
        "\n",
        "Index([u'shopping_pt', u'homeowner', u'car_age', u'C_previous', u'A', u'C', u'E', u'F', u'B_init', u'C_init', u'E_init', u'C_change', u'D_change', u'F_change', u'A_var', u'D_var', u'F_var'], dtype='object')"
       ]
      },
      {
       "output_type": "stream",
       "stream": "stdout",
       "text": [
        "\n",
        "score:F_purchase:0.861856763926"
       ]
      },
      {
       "output_type": "stream",
       "stream": "stdout",
       "text": [
        "\n",
        "Index([u'shopping_pt', u'A', u'D', u'E', u'F', u'G', u'A_init', u'E_init', u'F_init', u'A_change', u'F_change', u'A_var', u'B_var', u'C_var', u'E_var', u'F_var', u'G_var'], dtype='object')"
       ]
      },
      {
       "output_type": "stream",
       "stream": "stdout",
       "text": [
        "\n",
        "score:G_purchase:0.768381962865"
       ]
      },
      {
       "output_type": "stream",
       "stream": "stdout",
       "text": [
        "\n",
        "Index([u'shopping_pt', u'homeowner', u'married_couple', u'C', u'D', u'E', u'F', u'G', u'E_init', u'F_init', u'G_init', u'G_change', u'A_var', u'B_var', u'C_var', u'E_var', u'G_var'], dtype='object')"
       ]
      },
      {
       "output_type": "stream",
       "stream": "stdout",
       "text": [
        "\n",
        "Number of features:18\n",
        "score:A_purchase:0.906312997347"
       ]
      },
      {
       "output_type": "stream",
       "stream": "stdout",
       "text": [
        "\n",
        "Index([u'shopping_pt', u'homeowner', u'car_age', u'A', u'C', u'E', u'F', u'G', u'A_init', u'E_init', u'F_init', u'A_change', u'F_change', u'A_var', u'B_var', u'D_var', u'E_var', u'F_var'], dtype='object')"
       ]
      },
      {
       "output_type": "stream",
       "stream": "stdout",
       "text": [
        "\n",
        "score:B_purchase:0.93374005305"
       ]
      },
      {
       "output_type": "stream",
       "stream": "stdout",
       "text": [
        "\n",
        "Index([u'shopping_pt', u'C_previous', u'A', u'B', u'D', u'E', u'F', u'G', u'A_init', u'B_init', u'E_init', u'F_init', u'B_change', u'E_change', u'G_change', u'B_var', u'C_var', u'F_var'], dtype='object')"
       ]
      },
      {
       "output_type": "stream",
       "stream": "stdout",
       "text": [
        "\n",
        "score:C_purchase:0.839469496021"
       ]
      },
      {
       "output_type": "stream",
       "stream": "stdout",
       "text": [
        "\n",
        "Index([u'shopping_pt', u'homeowner', u'married_couple', u'C_previous', u'C', u'D', u'E', u'C_init', u'E_init', u'C_change', u'D_change', u'E_change', u'A_var', u'B_var', u'C_var', u'D_var', u'E_var', u'F_var'], dtype='object')"
       ]
      },
      {
       "output_type": "stream",
       "stream": "stdout",
       "text": [
        "\n",
        "score:D_purchase:0.927320954907"
       ]
      },
      {
       "output_type": "stream",
       "stream": "stdout",
       "text": [
        "\n",
        "Index([u'shopping_pt', u'homeowner', u'C_previous', u'A', u'C', u'D', u'G', u'C_init', u'D_init', u'D_change', u'E_change', u'A_var', u'B_var', u'C_var', u'D_var', u'E_var', u'F_var', u'G_var'], dtype='object')"
       ]
      },
      {
       "output_type": "stream",
       "stream": "stdout",
       "text": [
        "\n",
        "score:E_purchase:0.936923076923"
       ]
      },
      {
       "output_type": "stream",
       "stream": "stdout",
       "text": [
        "\n",
        "Index([u'shopping_pt', u'homeowner', u'car_age', u'C_previous', u'A', u'C', u'E', u'F', u'B_init', u'C_init', u'E_init', u'F_init', u'C_change', u'D_change', u'F_change', u'A_var', u'D_var', u'F_var'], dtype='object')"
       ]
      },
      {
       "output_type": "stream",
       "stream": "stdout",
       "text": [
        "\n",
        "score:F_purchase:0.861326259947"
       ]
      },
      {
       "output_type": "stream",
       "stream": "stdout",
       "text": [
        "\n",
        "Index([u'shopping_pt', u'A', u'D', u'E', u'F', u'G', u'A_init', u'B_init', u'E_init', u'F_init', u'A_change', u'F_change', u'A_var', u'B_var', u'C_var', u'E_var', u'F_var', u'G_var'], dtype='object')"
       ]
      },
      {
       "output_type": "stream",
       "stream": "stdout",
       "text": [
        "\n",
        "score:G_purchase:0.767851458886"
       ]
      },
      {
       "output_type": "stream",
       "stream": "stdout",
       "text": [
        "\n",
        "Index([u'shopping_pt', u'homeowner', u'married_couple', u'C', u'D', u'E', u'F', u'G', u'E_init', u'F_init', u'G_init', u'C_change', u'G_change', u'A_var', u'B_var', u'C_var', u'E_var', u'G_var'], dtype='object')"
       ]
      },
      {
       "output_type": "stream",
       "stream": "stdout",
       "text": [
        "\n",
        "Number of features:19\n",
        "score:A_purchase:0.906100795756"
       ]
      },
      {
       "output_type": "stream",
       "stream": "stdout",
       "text": [
        "\n",
        "Index([u'shopping_pt', u'homeowner', u'car_age', u'married_couple', u'A', u'C', u'E', u'F', u'G', u'A_init', u'E_init', u'F_init', u'A_change', u'F_change', u'A_var', u'B_var', u'D_var', u'E_var', u'F_var'], dtype='object')"
       ]
      },
      {
       "output_type": "stream",
       "stream": "stdout",
       "text": [
        "\n",
        "score:B_purchase:0.93374005305"
       ]
      },
      {
       "output_type": "stream",
       "stream": "stdout",
       "text": [
        "\n",
        "Index([u'shopping_pt', u'C_previous', u'A', u'B', u'D', u'E', u'F', u'G', u'A_init', u'B_init', u'C_init', u'E_init', u'F_init', u'B_change', u'E_change', u'G_change', u'B_var', u'C_var', u'F_var'], dtype='object')"
       ]
      },
      {
       "output_type": "stream",
       "stream": "stdout",
       "text": [
        "\n",
        "score:C_purchase:0.840477453581"
       ]
      },
      {
       "output_type": "stream",
       "stream": "stdout",
       "text": [
        "\n",
        "Index([u'shopping_pt', u'homeowner', u'married_couple', u'C_previous', u'B', u'C', u'D', u'E', u'C_init', u'E_init', u'C_change', u'D_change', u'E_change', u'A_var', u'B_var', u'C_var', u'D_var', u'E_var', u'F_var'], dtype='object')"
       ]
      },
      {
       "output_type": "stream",
       "stream": "stdout",
       "text": [
        "\n",
        "score:D_purchase:0.927214854111"
       ]
      },
      {
       "output_type": "stream",
       "stream": "stdout",
       "text": [
        "\n",
        "Index([u'shopping_pt', u'homeowner', u'C_previous', u'A', u'C', u'D', u'G', u'C_init', u'D_init', u'B_change', u'D_change', u'E_change', u'A_var', u'B_var', u'C_var', u'D_var', u'E_var', u'F_var', u'G_var'], dtype='object')"
       ]
      },
      {
       "output_type": "stream",
       "stream": "stdout",
       "text": [
        "\n",
        "score:E_purchase:0.936923076923"
       ]
      },
      {
       "output_type": "stream",
       "stream": "stdout",
       "text": [
        "\n",
        "Index([u'shopping_pt', u'homeowner', u'car_age', u'C_previous', u'A', u'C', u'E', u'F', u'B_init', u'C_init', u'E_init', u'F_init', u'C_change', u'D_change', u'E_change', u'F_change', u'A_var', u'D_var', u'F_var'], dtype='object')"
       ]
      },
      {
       "output_type": "stream",
       "stream": "stdout",
       "text": [
        "\n",
        "score:F_purchase:0.861591511936"
       ]
      },
      {
       "output_type": "stream",
       "stream": "stdout",
       "text": [
        "\n",
        "Index([u'shopping_pt', u'A', u'D', u'E', u'F', u'G', u'A_init', u'B_init', u'D_init', u'E_init', u'F_init', u'A_change', u'F_change', u'A_var', u'B_var', u'C_var', u'E_var', u'F_var', u'G_var'], dtype='object')"
       ]
      },
      {
       "output_type": "stream",
       "stream": "stdout",
       "text": [
        "\n",
        "score:G_purchase:0.767480106101"
       ]
      },
      {
       "output_type": "stream",
       "stream": "stdout",
       "text": [
        "\n",
        "Index([u'shopping_pt', u'homeowner', u'married_couple', u'C', u'D', u'E', u'F', u'G', u'E_init', u'F_init', u'G_init', u'C_change', u'E_change', u'G_change', u'A_var', u'B_var', u'C_var', u'E_var', u'G_var'], dtype='object')"
       ]
      },
      {
       "output_type": "stream",
       "stream": "stdout",
       "text": [
        "\n",
        "Number of features:20\n",
        "score:A_purchase:0.906366047745"
       ]
      },
      {
       "output_type": "stream",
       "stream": "stdout",
       "text": [
        "\n",
        "Index([u'shopping_pt', u'group_size', u'homeowner', u'car_age', u'married_couple', u'A', u'C', u'E', u'F', u'G', u'A_init', u'E_init', u'F_init', u'A_change', u'F_change', u'A_var', u'B_var', u'D_var', u'E_var', u'F_var'], dtype='object')"
       ]
      },
      {
       "output_type": "stream",
       "stream": "stdout",
       "text": [
        "\n",
        "score:B_purchase:0.93374005305"
       ]
      },
      {
       "output_type": "stream",
       "stream": "stdout",
       "text": [
        "\n",
        "Index([u'shopping_pt', u'C_previous', u'A', u'B', u'D', u'E', u'F', u'G', u'A_init', u'B_init', u'C_init', u'E_init', u'F_init', u'B_change', u'E_change', u'G_change', u'A_var', u'B_var', u'C_var', u'F_var'], dtype='object')"
       ]
      },
      {
       "output_type": "stream",
       "stream": "stdout",
       "text": [
        "\n",
        "score:C_purchase:0.840530503979"
       ]
      },
      {
       "output_type": "stream",
       "stream": "stdout",
       "text": [
        "\n",
        "Index([u'shopping_pt', u'homeowner', u'married_couple', u'C_previous', u'B', u'C', u'D', u'E', u'C_init', u'E_init', u'B_change', u'C_change', u'D_change', u'E_change', u'A_var', u'B_var', u'C_var', u'D_var', u'E_var', u'F_var'], dtype='object')"
       ]
      },
      {
       "output_type": "stream",
       "stream": "stdout",
       "text": [
        "\n",
        "score:D_purchase:0.926631299735"
       ]
      },
      {
       "output_type": "stream",
       "stream": "stdout",
       "text": [
        "\n",
        "Index([u'shopping_pt', u'homeowner', u'married_couple', u'C_previous', u'A', u'C', u'D', u'G', u'C_init', u'D_init', u'B_change', u'D_change', u'E_change', u'A_var', u'B_var', u'C_var', u'D_var', u'E_var', u'F_var', u'G_var'], dtype='object')"
       ]
      },
      {
       "output_type": "stream",
       "stream": "stdout",
       "text": [
        "\n",
        "score:E_purchase:0.936923076923"
       ]
      },
      {
       "output_type": "stream",
       "stream": "stdout",
       "text": [
        "\n",
        "Index([u'shopping_pt', u'homeowner', u'car_age', u'C_previous', u'A', u'C', u'E', u'F', u'B_init', u'C_init', u'E_init', u'F_init', u'C_change', u'D_change', u'E_change', u'F_change', u'A_var', u'D_var', u'E_var', u'F_var'], dtype='object')"
       ]
      },
      {
       "output_type": "stream",
       "stream": "stdout",
       "text": [
        "\n",
        "score:F_purchase:0.861803713528"
       ]
      },
      {
       "output_type": "stream",
       "stream": "stdout",
       "text": [
        "\n",
        "Index([u'shopping_pt', u'A', u'D', u'E', u'F', u'G', u'A_init', u'B_init', u'D_init', u'E_init', u'F_init', u'A_change', u'B_change', u'F_change', u'A_var', u'B_var', u'C_var', u'E_var', u'F_var', u'G_var'], dtype='object')"
       ]
      },
      {
       "output_type": "stream",
       "stream": "stdout",
       "text": [
        "\n",
        "score:G_purchase:0.76700265252"
       ]
      },
      {
       "output_type": "stream",
       "stream": "stdout",
       "text": [
        "\n",
        "Index([u'shopping_pt', u'homeowner', u'married_couple', u'C', u'D', u'E', u'F', u'G', u'E_init', u'F_init', u'G_init', u'B_change', u'C_change', u'E_change', u'G_change', u'A_var', u'B_var', u'C_var', u'E_var', u'G_var'], dtype='object')"
       ]
      },
      {
       "output_type": "stream",
       "stream": "stdout",
       "text": [
        "\n",
        "Number of features:21\n",
        "score:A_purchase:0.906578249337"
       ]
      },
      {
       "output_type": "stream",
       "stream": "stdout",
       "text": [
        "\n",
        "Index([u'shopping_pt', u'group_size', u'homeowner', u'car_age', u'married_couple', u'A', u'C', u'E', u'F', u'G', u'A_init', u'B_init', u'E_init', u'F_init', u'A_change', u'F_change', u'A_var', u'B_var', u'D_var', u'E_var', u'F_var'], dtype='object')"
       ]
      },
      {
       "output_type": "stream",
       "stream": "stdout",
       "text": [
        "\n",
        "score:B_purchase:0.93374005305"
       ]
      },
      {
       "output_type": "stream",
       "stream": "stdout",
       "text": [
        "\n",
        "Index([u'shopping_pt', u'C_previous', u'A', u'B', u'D', u'E', u'F', u'G', u'A_init', u'B_init', u'C_init', u'E_init', u'F_init', u'B_change', u'E_change', u'G_change', u'A_var', u'B_var', u'C_var', u'F_var', u'G_var'], dtype='object')"
       ]
      },
      {
       "output_type": "stream",
       "stream": "stdout",
       "text": [
        "\n",
        "score:C_purchase:0.841432360743"
       ]
      },
      {
       "output_type": "stream",
       "stream": "stdout",
       "text": [
        "\n",
        "Index([u'shopping_pt', u'homeowner', u'married_couple', u'C_previous', u'B', u'C', u'D', u'E', u'C_init', u'D_init', u'E_init', u'B_change', u'C_change', u'D_change', u'E_change', u'A_var', u'B_var', u'C_var', u'D_var', u'E_var', u'F_var'], dtype='object')"
       ]
      },
      {
       "output_type": "stream",
       "stream": "stdout",
       "text": [
        "\n",
        "score:D_purchase:0.926949602122"
       ]
      },
      {
       "output_type": "stream",
       "stream": "stdout",
       "text": [
        "\n",
        "Index([u'shopping_pt', u'homeowner', u'married_couple', u'C_previous', u'A', u'B', u'C', u'D', u'G', u'C_init', u'D_init', u'B_change', u'D_change', u'E_change', u'A_var', u'B_var', u'C_var', u'D_var', u'E_var', u'F_var', u'G_var'], dtype='object')"
       ]
      },
      {
       "output_type": "stream",
       "stream": "stdout",
       "text": [
        "\n",
        "score:E_purchase:0.936923076923"
       ]
      },
      {
       "output_type": "stream",
       "stream": "stdout",
       "text": [
        "\n",
        "Index([u'shopping_pt', u'homeowner', u'car_age', u'C_previous', u'A', u'C', u'E', u'F', u'B_init', u'C_init', u'E_init', u'F_init', u'A_change', u'C_change', u'D_change', u'E_change', u'F_change', u'A_var', u'C_var', u'D_var', u'F_var'], dtype='object')"
       ]
      },
      {
       "output_type": "stream",
       "stream": "stdout",
       "text": [
        "\n",
        "score:F_purchase:0.861644562334"
       ]
      },
      {
       "output_type": "stream",
       "stream": "stdout",
       "text": [
        "\n",
        "Index([u'shopping_pt', u'A', u'D', u'E', u'F', u'G', u'A_init', u'B_init', u'D_init', u'E_init', u'F_init', u'A_change', u'B_change', u'F_change', u'A_var', u'B_var', u'C_var', u'D_var', u'E_var', u'F_var', u'G_var'], dtype='object')"
       ]
      },
      {
       "output_type": "stream",
       "stream": "stdout",
       "text": [
        "\n",
        "score:G_purchase:0.767427055703"
       ]
      },
      {
       "output_type": "stream",
       "stream": "stdout",
       "text": [
        "\n",
        "Index([u'shopping_pt', u'homeowner', u'married_couple', u'C', u'D', u'E', u'F', u'G', u'E_init', u'F_init', u'G_init', u'B_change', u'C_change', u'E_change', u'G_change', u'A_var', u'B_var', u'C_var', u'E_var', u'F_var', u'G_var'], dtype='object')"
       ]
      },
      {
       "output_type": "stream",
       "stream": "stdout",
       "text": [
        "\n",
        "Number of features:22\n",
        "score:A_purchase:0.906419098143"
       ]
      },
      {
       "output_type": "stream",
       "stream": "stdout",
       "text": [
        "\n",
        "Index([u'shopping_pt', u'group_size', u'homeowner', u'car_age', u'married_couple', u'A', u'B', u'C', u'E', u'F', u'G', u'A_init', u'B_init', u'E_init', u'F_init', u'A_change', u'F_change', u'A_var', u'B_var', u'D_var', u'E_var', u'F_var'], dtype='object')"
       ]
      },
      {
       "output_type": "stream",
       "stream": "stdout",
       "text": [
        "\n",
        "score:B_purchase:0.93374005305"
       ]
      },
      {
       "output_type": "stream",
       "stream": "stdout",
       "text": [
        "\n",
        "Index([u'shopping_pt', u'married_couple', u'C_previous', u'A', u'B', u'D', u'E', u'F', u'G', u'A_init', u'B_init', u'C_init', u'E_init', u'F_init', u'B_change', u'E_change', u'G_change', u'A_var', u'B_var', u'C_var', u'F_var', u'G_var'], dtype='object')"
       ]
      },
      {
       "output_type": "stream",
       "stream": "stdout",
       "text": [
        "\n",
        "score:C_purchase:0.841644562334"
       ]
      },
      {
       "output_type": "stream",
       "stream": "stdout",
       "text": [
        "\n",
        "Index([u'shopping_pt', u'homeowner', u'married_couple', u'C_previous', u'B', u'C', u'D', u'E', u'C_init', u'D_init', u'E_init', u'A_change', u'B_change', u'C_change', u'D_change', u'E_change', u'A_var', u'B_var', u'C_var', u'D_var', u'E_var', u'F_var'], dtype='object')"
       ]
      },
      {
       "output_type": "stream",
       "stream": "stdout",
       "text": [
        "\n",
        "score:D_purchase:0.926843501326"
       ]
      },
      {
       "output_type": "stream",
       "stream": "stdout",
       "text": [
        "\n",
        "Index([u'shopping_pt', u'homeowner', u'married_couple', u'C_previous', u'A', u'B', u'C', u'D', u'E', u'G', u'C_init', u'D_init', u'B_change', u'D_change', u'E_change', u'A_var', u'B_var', u'C_var', u'D_var', u'E_var', u'F_var', u'G_var'], dtype='object')"
       ]
      },
      {
       "output_type": "stream",
       "stream": "stdout",
       "text": [
        "\n",
        "score:E_purchase:0.936923076923"
       ]
      },
      {
       "output_type": "stream",
       "stream": "stdout",
       "text": [
        "\n",
        "Index([u'shopping_pt', u'homeowner', u'car_age', u'C_previous', u'A', u'C', u'E', u'F', u'B_init', u'C_init', u'E_init', u'F_init', u'A_change', u'C_change', u'D_change', u'E_change', u'F_change', u'A_var', u'C_var', u'D_var', u'E_var', u'F_var'], dtype='object')"
       ]
      },
      {
       "output_type": "stream",
       "stream": "stdout",
       "text": [
        "\n",
        "score:F_purchase:0.861114058355"
       ]
      },
      {
       "output_type": "stream",
       "stream": "stdout",
       "text": [
        "\n",
        "Index([u'shopping_pt', u'A', u'C', u'D', u'E', u'F', u'G', u'A_init', u'B_init', u'D_init', u'E_init', u'F_init', u'A_change', u'B_change', u'F_change', u'A_var', u'B_var', u'C_var', u'D_var', u'E_var', u'F_var', u'G_var'], dtype='object')"
       ]
      },
      {
       "output_type": "stream",
       "stream": "stdout",
       "text": [
        "\n",
        "score:G_purchase:0.766790450928"
       ]
      },
      {
       "output_type": "stream",
       "stream": "stdout",
       "text": [
        "\n",
        "Index([u'shopping_pt', u'homeowner', u'married_couple', u'C', u'D', u'E', u'F', u'G', u'C_init', u'E_init', u'F_init', u'G_init', u'B_change', u'C_change', u'E_change', u'G_change', u'A_var', u'B_var', u'C_var', u'E_var', u'F_var', u'G_var'], dtype='object')"
       ]
      },
      {
       "output_type": "stream",
       "stream": "stdout",
       "text": [
        "\n",
        "Number of features:23\n",
        "score:A_purchase:0.906312997347"
       ]
      },
      {
       "output_type": "stream",
       "stream": "stdout",
       "text": [
        "\n",
        "Index([u'shopping_pt', u'group_size', u'homeowner', u'car_age', u'married_couple', u'A', u'B', u'C', u'E', u'F', u'G', u'A_init', u'B_init', u'E_init', u'F_init', u'A_change', u'E_change', u'F_change', u'A_var', u'B_var', u'D_var', u'E_var', u'F_var'], dtype='object')"
       ]
      },
      {
       "output_type": "stream",
       "stream": "stdout",
       "text": [
        "\n",
        "score:B_purchase:0.93374005305"
       ]
      },
      {
       "output_type": "stream",
       "stream": "stdout",
       "text": [
        "\n",
        "Index([u'shopping_pt', u'group_size', u'married_couple', u'C_previous', u'A', u'B', u'D', u'E', u'F', u'G', u'A_init', u'B_init', u'C_init', u'E_init', u'F_init', u'B_change', u'E_change', u'G_change', u'A_var', u'B_var', u'C_var', u'F_var', u'G_var'], dtype='object')"
       ]
      },
      {
       "output_type": "stream",
       "stream": "stdout",
       "text": [
        "\n",
        "score:C_purchase:0.841326259947"
       ]
      },
      {
       "output_type": "stream",
       "stream": "stdout",
       "text": [
        "\n",
        "Index([u'shopping_pt', u'homeowner', u'married_couple', u'C_previous', u'B', u'C', u'D', u'E', u'C_init', u'D_init', u'E_init', u'A_change', u'B_change', u'C_change', u'D_change', u'E_change', u'F_change', u'A_var', u'B_var', u'C_var', u'D_var', u'E_var', u'F_var'], dtype='object')"
       ]
      },
      {
       "output_type": "stream",
       "stream": "stdout",
       "text": [
        "\n",
        "score:D_purchase:0.926578249337"
       ]
      },
      {
       "output_type": "stream",
       "stream": "stdout",
       "text": [
        "\n",
        "Index([u'shopping_pt', u'homeowner', u'married_couple', u'C_previous', u'A', u'B', u'C', u'D', u'E', u'G', u'C_init', u'D_init', u'E_init', u'B_change', u'D_change', u'E_change', u'A_var', u'B_var', u'C_var', u'D_var', u'E_var', u'F_var', u'G_var'], dtype='object')"
       ]
      },
      {
       "output_type": "stream",
       "stream": "stdout",
       "text": [
        "\n",
        "score:E_purchase:0.936923076923"
       ]
      },
      {
       "output_type": "stream",
       "stream": "stdout",
       "text": [
        "\n",
        "Index([u'shopping_pt', u'homeowner', u'car_age', u'C_previous', u'A', u'C', u'D', u'E', u'F', u'A_init', u'B_init', u'C_init', u'E_init', u'F_init', u'A_change', u'C_change', u'D_change', u'E_change', u'F_change', u'A_var', u'C_var', u'D_var', u'F_var'], dtype='object')"
       ]
      },
      {
       "output_type": "stream",
       "stream": "stdout",
       "text": [
        "\n",
        "score:F_purchase:0.861114058355"
       ]
      },
      {
       "output_type": "stream",
       "stream": "stdout",
       "text": [
        "\n",
        "Index([u'shopping_pt', u'A', u'C', u'D', u'E', u'F', u'G', u'A_init', u'B_init', u'D_init', u'E_init', u'F_init', u'A_change', u'B_change', u'E_change', u'F_change', u'A_var', u'B_var', u'C_var', u'D_var', u'E_var', u'F_var', u'G_var'], dtype='object')"
       ]
      },
      {
       "output_type": "stream",
       "stream": "stdout",
       "text": [
        "\n",
        "score:G_purchase:0.767055702918"
       ]
      },
      {
       "output_type": "stream",
       "stream": "stdout",
       "text": [
        "\n",
        "Index([u'shopping_pt', u'homeowner', u'married_couple', u'C', u'D', u'E', u'F', u'G', u'C_init', u'E_init', u'F_init', u'G_init', u'B_change', u'C_change', u'E_change', u'G_change', u'A_var', u'B_var', u'C_var', u'D_var', u'E_var', u'F_var', u'G_var'], dtype='object')"
       ]
      },
      {
       "output_type": "stream",
       "stream": "stdout",
       "text": [
        "\n",
        "Number of features:24\n",
        "score:A_purchase:0.906047745358"
       ]
      },
      {
       "output_type": "stream",
       "stream": "stdout",
       "text": [
        "\n",
        "Index([u'shopping_pt', u'group_size', u'homeowner', u'car_age', u'married_couple', u'A', u'B', u'C', u'E', u'F', u'G', u'A_init', u'B_init', u'E_init', u'F_init', u'A_change', u'C_change', u'F_change', u'A_var', u'B_var', u'C_var', u'D_var', u'E_var', u'F_var'], dtype='object')"
       ]
      },
      {
       "output_type": "stream",
       "stream": "stdout",
       "text": [
        "\n",
        "score:B_purchase:0.93374005305"
       ]
      },
      {
       "output_type": "stream",
       "stream": "stdout",
       "text": [
        "\n",
        "Index([u'shopping_pt', u'group_size', u'risk_factor', u'married_couple', u'C_previous', u'A', u'B', u'D', u'E', u'F', u'G', u'A_init', u'B_init', u'C_init', u'E_init', u'F_init', u'B_change', u'E_change', u'G_change', u'A_var', u'B_var', u'C_var', u'F_var', u'G_var'], dtype='object')"
       ]
      },
      {
       "output_type": "stream",
       "stream": "stdout",
       "text": [
        "\n",
        "score:C_purchase:0.841962864721"
       ]
      },
      {
       "output_type": "stream",
       "stream": "stdout",
       "text": [
        "\n",
        "Index([u'shopping_pt', u'homeowner', u'married_couple', u'C_previous', u'B', u'C', u'D', u'E', u'G', u'C_init', u'D_init', u'E_init', u'A_change', u'B_change', u'C_change', u'D_change', u'E_change', u'F_change', u'A_var', u'B_var', u'C_var', u'D_var', u'E_var', u'F_var'], dtype='object')"
       ]
      },
      {
       "output_type": "stream",
       "stream": "stdout",
       "text": [
        "\n",
        "score:D_purchase:0.925941644562"
       ]
      },
      {
       "output_type": "stream",
       "stream": "stdout",
       "text": [
        "\n",
        "Index([u'shopping_pt', u'homeowner', u'married_couple', u'C_previous', u'A', u'B', u'C', u'D', u'E', u'G', u'C_init', u'D_init', u'E_init', u'B_change', u'D_change', u'E_change', u'F_change', u'A_var', u'B_var', u'C_var', u'D_var', u'E_var', u'F_var', u'G_var'], dtype='object')"
       ]
      },
      {
       "output_type": "stream",
       "stream": "stdout",
       "text": [
        "\n",
        "score:E_purchase:0.936923076923"
       ]
      },
      {
       "output_type": "stream",
       "stream": "stdout",
       "text": [
        "\n",
        "Index([u'shopping_pt', u'homeowner', u'car_age', u'C_previous', u'A', u'C', u'D', u'E', u'F', u'A_init', u'B_init', u'C_init', u'E_init', u'F_init', u'A_change', u'C_change', u'D_change', u'E_change', u'F_change', u'G_change', u'A_var', u'C_var', u'D_var', u'F_var'], dtype='object')"
       ]
      },
      {
       "output_type": "stream",
       "stream": "stdout",
       "text": [
        "\n",
        "score:F_purchase:0.860848806366"
       ]
      },
      {
       "output_type": "stream",
       "stream": "stdout",
       "text": [
        "\n",
        "Index([u'shopping_pt', u'A', u'B', u'C', u'D', u'E', u'F', u'G', u'A_init', u'B_init', u'D_init', u'E_init', u'F_init', u'A_change', u'B_change', u'E_change', u'F_change', u'A_var', u'B_var', u'C_var', u'D_var', u'E_var', u'F_var', u'G_var'], dtype='object')"
       ]
      },
      {
       "output_type": "stream",
       "stream": "stdout",
       "text": [
        "\n",
        "score:G_purchase:0.76700265252"
       ]
      },
      {
       "output_type": "stream",
       "stream": "stdout",
       "text": [
        "\n",
        "Index([u'shopping_pt', u'homeowner', u'married_couple', u'C', u'D', u'E', u'F', u'G', u'C_init', u'D_init', u'E_init', u'F_init', u'G_init', u'B_change', u'C_change', u'E_change', u'G_change', u'A_var', u'B_var', u'C_var', u'D_var', u'E_var', u'F_var', u'G_var'], dtype='object')"
       ]
      },
      {
       "output_type": "stream",
       "stream": "stdout",
       "text": [
        "\n",
        "Number of features:25\n",
        "score:A_purchase:0.906047745358"
       ]
      },
      {
       "output_type": "stream",
       "stream": "stdout",
       "text": [
        "\n",
        "Index([u'shopping_pt', u'group_size', u'homeowner', u'car_age', u'married_couple', u'A', u'B', u'C', u'E', u'F', u'G', u'A_init', u'B_init', u'E_init', u'F_init', u'A_change', u'C_change', u'D_change', u'F_change', u'A_var', u'B_var', u'C_var', u'D_var', u'E_var', u'F_var'], dtype='object')"
       ]
      },
      {
       "output_type": "stream",
       "stream": "stdout",
       "text": [
        "\n",
        "score:B_purchase:0.93374005305"
       ]
      },
      {
       "output_type": "stream",
       "stream": "stdout",
       "text": [
        "\n",
        "Index([u'shopping_pt', u'group_size', u'risk_factor', u'married_couple', u'C_previous', u'A', u'B', u'D', u'E', u'F', u'G', u'A_init', u'B_init', u'C_init', u'E_init', u'F_init', u'B_change', u'D_change', u'E_change', u'G_change', u'A_var', u'B_var', u'C_var', u'F_var', u'G_var'], dtype='object')"
       ]
      },
      {
       "output_type": "stream",
       "stream": "stdout",
       "text": [
        "\n",
        "score:C_purchase:0.842546419098"
       ]
      },
      {
       "output_type": "stream",
       "stream": "stdout",
       "text": [
        "\n",
        "Index([u'shopping_pt', u'homeowner', u'married_couple', u'C_previous', u'B', u'C', u'D', u'E', u'G', u'A_init', u'C_init', u'D_init', u'E_init', u'A_change', u'B_change', u'C_change', u'D_change', u'E_change', u'F_change', u'A_var', u'B_var', u'C_var', u'D_var', u'E_var', u'F_var'], dtype='object')"
       ]
      },
      {
       "output_type": "stream",
       "stream": "stdout",
       "text": [
        "\n",
        "score:D_purchase:0.926153846154"
       ]
      },
      {
       "output_type": "stream",
       "stream": "stdout",
       "text": [
        "\n",
        "Index([u'shopping_pt', u'homeowner', u'married_couple', u'C_previous', u'A', u'B', u'C', u'D', u'E', u'G', u'C_init', u'D_init', u'E_init', u'A_change', u'B_change', u'D_change', u'E_change', u'F_change', u'A_var', u'B_var', u'C_var', u'D_var', u'E_var', u'F_var', u'G_var'], dtype='object')"
       ]
      },
      {
       "output_type": "stream",
       "stream": "stdout",
       "text": [
        "\n",
        "score:E_purchase:0.936923076923"
       ]
      },
      {
       "output_type": "stream",
       "stream": "stdout",
       "text": [
        "\n",
        "Index([u'shopping_pt', u'homeowner', u'car_age', u'C_previous', u'A', u'C', u'D', u'E', u'F', u'A_init', u'B_init', u'C_init', u'E_init', u'F_init', u'A_change', u'C_change', u'D_change', u'E_change', u'F_change', u'G_change', u'A_var', u'C_var', u'D_var', u'E_var', u'F_var'], dtype='object')"
       ]
      },
      {
       "output_type": "stream",
       "stream": "stdout",
       "text": [
        "\n",
        "score:F_purchase:0.860636604775"
       ]
      },
      {
       "output_type": "stream",
       "stream": "stdout",
       "text": [
        "\n",
        "Index([u'shopping_pt', u'A', u'B', u'C', u'D', u'E', u'F', u'G', u'A_init', u'B_init', u'D_init', u'E_init', u'F_init', u'A_change', u'B_change', u'D_change', u'E_change', u'F_change', u'A_var', u'B_var', u'C_var', u'D_var', u'E_var', u'F_var', u'G_var'], dtype='object')"
       ]
      },
      {
       "output_type": "stream",
       "stream": "stdout",
       "text": [
        "\n",
        "score:G_purchase:0.767108753316"
       ]
      },
      {
       "output_type": "stream",
       "stream": "stdout",
       "text": [
        "\n",
        "Index([u'shopping_pt', u'homeowner', u'married_couple', u'A', u'C', u'D', u'E', u'F', u'G', u'C_init', u'D_init', u'E_init', u'F_init', u'G_init', u'B_change', u'C_change', u'E_change', u'G_change', u'A_var', u'B_var', u'C_var', u'D_var', u'E_var', u'F_var', u'G_var'], dtype='object')"
       ]
      },
      {
       "output_type": "stream",
       "stream": "stdout",
       "text": [
        "\n",
        "Number of features:26\n",
        "score:A_purchase:0.906206896552"
       ]
      },
      {
       "output_type": "stream",
       "stream": "stdout",
       "text": [
        "\n",
        "Index([u'shopping_pt', u'group_size', u'homeowner', u'car_age', u'married_couple', u'A', u'B', u'C', u'E', u'F', u'G', u'A_init', u'B_init', u'E_init', u'F_init', u'A_change', u'C_change', u'D_change', u'E_change', u'F_change', u'A_var', u'B_var', u'C_var', u'D_var', u'E_var', u'F_var'], dtype='object')"
       ]
      },
      {
       "output_type": "stream",
       "stream": "stdout",
       "text": [
        "\n",
        "score:B_purchase:0.93374005305"
       ]
      },
      {
       "output_type": "stream",
       "stream": "stdout",
       "text": [
        "\n",
        "Index([u'shopping_pt', u'group_size', u'risk_factor', u'married_couple', u'C_previous', u'A', u'B', u'D', u'E', u'F', u'G', u'A_init', u'B_init', u'C_init', u'E_init', u'F_init', u'B_change', u'D_change', u'E_change', u'F_change', u'G_change', u'A_var', u'B_var', u'C_var', u'F_var', u'G_var'], dtype='object')"
       ]
      },
      {
       "output_type": "stream",
       "stream": "stdout",
       "text": [
        "\n",
        "score:C_purchase:0.843872679045"
       ]
      },
      {
       "output_type": "stream",
       "stream": "stdout",
       "text": [
        "\n",
        "Index([u'shopping_pt', u'homeowner', u'married_couple', u'C_previous', u'B', u'C', u'D', u'E', u'G', u'A_init', u'C_init', u'D_init', u'E_init', u'F_init', u'A_change', u'B_change', u'C_change', u'D_change', u'E_change', u'F_change', u'A_var', u'B_var', u'C_var', u'D_var', u'E_var', u'F_var'], dtype='object')"
       ]
      },
      {
       "output_type": "stream",
       "stream": "stdout",
       "text": [
        "\n",
        "score:D_purchase:0.926790450928"
       ]
      },
      {
       "output_type": "stream",
       "stream": "stdout",
       "text": [
        "\n",
        "Index([u'shopping_pt', u'homeowner', u'married_couple', u'C_previous', u'A', u'B', u'C', u'D', u'E', u'G', u'C_init', u'D_init', u'E_init', u'G_init', u'A_change', u'B_change', u'D_change', u'E_change', u'F_change', u'A_var', u'B_var', u'C_var', u'D_var', u'E_var', u'F_var', u'G_var'], dtype='object')"
       ]
      },
      {
       "output_type": "stream",
       "stream": "stdout",
       "text": [
        "\n",
        "score:E_purchase:0.936923076923"
       ]
      },
      {
       "output_type": "stream",
       "stream": "stdout",
       "text": [
        "\n",
        "Index([u'shopping_pt', u'homeowner', u'car_age', u'C_previous', u'A', u'C', u'D', u'E', u'F', u'A_init', u'B_init', u'C_init', u'E_init', u'F_init', u'G_init', u'A_change', u'C_change', u'D_change', u'E_change', u'F_change', u'G_change', u'A_var', u'C_var', u'D_var', u'E_var', u'F_var'], dtype='object')"
       ]
      },
      {
       "output_type": "stream",
       "stream": "stdout",
       "text": [
        "\n",
        "score:F_purchase:0.861432360743"
       ]
      },
      {
       "output_type": "stream",
       "stream": "stdout",
       "text": [
        "\n",
        "Index([u'shopping_pt', u'married_couple', u'A', u'B', u'C', u'D', u'E', u'F', u'G', u'A_init', u'B_init', u'D_init', u'E_init', u'F_init', u'A_change', u'B_change', u'D_change', u'E_change', u'F_change', u'A_var', u'B_var', u'C_var', u'D_var', u'E_var', u'F_var', u'G_var'], dtype='object')"
       ]
      },
      {
       "output_type": "stream",
       "stream": "stdout",
       "text": [
        "\n",
        "score:G_purchase:0.767055702918"
       ]
      },
      {
       "output_type": "stream",
       "stream": "stdout",
       "text": [
        "\n",
        "Index([u'shopping_pt', u'homeowner', u'married_couple', u'A', u'C', u'D', u'E', u'F', u'G', u'A_init', u'C_init', u'D_init', u'E_init', u'F_init', u'G_init', u'B_change', u'C_change', u'E_change', u'G_change', u'A_var', u'B_var', u'C_var', u'D_var', u'E_var', u'F_var', u'G_var'], dtype='object')"
       ]
      },
      {
       "output_type": "stream",
       "stream": "stdout",
       "text": [
        "\n",
        "Number of features:27\n",
        "score:A_purchase:0.905941644562"
       ]
      },
      {
       "output_type": "stream",
       "stream": "stdout",
       "text": [
        "\n",
        "Index([u'shopping_pt', u'group_size', u'homeowner', u'car_age', u'married_couple', u'A', u'B', u'C', u'D', u'E', u'F', u'G', u'A_init', u'B_init', u'E_init', u'F_init', u'A_change', u'C_change', u'D_change', u'E_change', u'F_change', u'A_var', u'B_var', u'C_var', u'D_var', u'E_var', u'F_var'], dtype='object')"
       ]
      },
      {
       "output_type": "stream",
       "stream": "stdout",
       "text": [
        "\n",
        "score:B_purchase:0.93374005305"
       ]
      },
      {
       "output_type": "stream",
       "stream": "stdout",
       "text": [
        "\n",
        "Index([u'shopping_pt', u'group_size', u'risk_factor', u'married_couple', u'C_previous', u'A', u'B', u'D', u'E', u'F', u'G', u'A_init', u'B_init', u'C_init', u'E_init', u'F_init', u'G_init', u'B_change', u'D_change', u'E_change', u'F_change', u'G_change', u'A_var', u'B_var', u'C_var', u'F_var', u'G_var'], dtype='object')"
       ]
      },
      {
       "output_type": "stream",
       "stream": "stdout",
       "text": [
        "\n",
        "score:C_purchase:0.844350132626"
       ]
      },
      {
       "output_type": "stream",
       "stream": "stdout",
       "text": [
        "\n",
        "Index([u'shopping_pt', u'homeowner', u'married_couple', u'C_previous', u'B', u'C', u'D', u'E', u'G', u'A_init', u'C_init', u'D_init', u'E_init', u'F_init', u'A_change', u'B_change', u'C_change', u'D_change', u'E_change', u'F_change', u'A_var', u'B_var', u'C_var', u'D_var', u'E_var', u'F_var', u'G_var'], dtype='object')"
       ]
      },
      {
       "output_type": "stream",
       "stream": "stdout",
       "text": [
        "\n",
        "score:D_purchase:0.92700265252"
       ]
      },
      {
       "output_type": "stream",
       "stream": "stdout",
       "text": [
        "\n",
        "Index([u'shopping_pt', u'homeowner', u'married_couple', u'C_previous', u'A', u'B', u'C', u'D', u'E', u'G', u'A_init', u'C_init', u'D_init', u'E_init', u'G_init', u'A_change', u'B_change', u'D_change', u'E_change', u'F_change', u'A_var', u'B_var', u'C_var', u'D_var', u'E_var', u'F_var', u'G_var'], dtype='object')"
       ]
      },
      {
       "output_type": "stream",
       "stream": "stdout",
       "text": [
        "\n",
        "score:E_purchase:0.936923076923"
       ]
      },
      {
       "output_type": "stream",
       "stream": "stdout",
       "text": [
        "\n",
        "Index([u'shopping_pt', u'homeowner', u'car_age', u'C_previous', u'A', u'C', u'D', u'E', u'F', u'A_init', u'B_init', u'C_init', u'D_init', u'E_init', u'F_init', u'G_init', u'A_change', u'C_change', u'D_change', u'E_change', u'F_change', u'G_change', u'A_var', u'C_var', u'D_var', u'E_var', u'F_var'], dtype='object')"
       ]
      },
      {
       "output_type": "stream",
       "stream": "stdout",
       "text": [
        "\n",
        "score:F_purchase:0.861326259947"
       ]
      },
      {
       "output_type": "stream",
       "stream": "stdout",
       "text": [
        "\n",
        "Index([u'shopping_pt', u'group_size', u'married_couple', u'A', u'B', u'C', u'D', u'E', u'F', u'G', u'A_init', u'B_init', u'D_init', u'E_init', u'F_init', u'A_change', u'B_change', u'D_change', u'E_change', u'F_change', u'A_var', u'B_var', u'C_var', u'D_var', u'E_var', u'F_var', u'G_var'], dtype='object')"
       ]
      },
      {
       "output_type": "stream",
       "stream": "stdout",
       "text": [
        "\n",
        "score:G_purchase:0.76599469496"
       ]
      },
      {
       "output_type": "stream",
       "stream": "stdout",
       "text": [
        "\n",
        "Index([u'shopping_pt', u'homeowner', u'married_couple', u'A', u'C', u'D', u'E', u'F', u'G', u'A_init', u'B_init', u'C_init', u'D_init', u'E_init', u'F_init', u'G_init', u'B_change', u'C_change', u'E_change', u'G_change', u'A_var', u'B_var', u'C_var', u'D_var', u'E_var', u'F_var', u'G_var'], dtype='object')"
       ]
      },
      {
       "output_type": "stream",
       "stream": "stdout",
       "text": [
        "\n",
        "Number of features:28\n",
        "score:A_purchase:0.905888594164"
       ]
      },
      {
       "output_type": "stream",
       "stream": "stdout",
       "text": [
        "\n",
        "Index([u'shopping_pt', u'group_size', u'homeowner', u'car_age', u'married_couple', u'A', u'B', u'C', u'D', u'E', u'F', u'G', u'A_init', u'B_init', u'D_init', u'E_init', u'F_init', u'A_change', u'C_change', u'D_change', u'E_change', u'F_change', u'A_var', u'B_var', u'C_var', u'D_var', u'E_var', u'F_var'], dtype='object')"
       ]
      },
      {
       "output_type": "stream",
       "stream": "stdout",
       "text": [
        "\n",
        "score:B_purchase:0.93374005305"
       ]
      },
      {
       "output_type": "stream",
       "stream": "stdout",
       "text": [
        "\n",
        "Index([u'shopping_pt', u'group_size', u'homeowner', u'risk_factor', u'married_couple', u'C_previous', u'A', u'B', u'D', u'E', u'F', u'G', u'A_init', u'B_init', u'C_init', u'E_init', u'F_init', u'G_init', u'B_change', u'D_change', u'E_change', u'F_change', u'G_change', u'A_var', u'B_var', u'C_var', u'F_var', u'G_var'], dtype='object')"
       ]
      },
      {
       "output_type": "stream",
       "stream": "stdout",
       "text": [
        "\n",
        "score:C_purchase:0.844456233422"
       ]
      },
      {
       "output_type": "stream",
       "stream": "stdout",
       "text": [
        "\n",
        "Index([u'shopping_pt', u'group_size', u'homeowner', u'married_couple', u'C_previous', u'B', u'C', u'D', u'E', u'G', u'A_init', u'C_init', u'D_init', u'E_init', u'F_init', u'A_change', u'B_change', u'C_change', u'D_change', u'E_change', u'F_change', u'A_var', u'B_var', u'C_var', u'D_var', u'E_var', u'F_var', u'G_var'], dtype='object')"
       ]
      },
      {
       "output_type": "stream",
       "stream": "stdout",
       "text": [
        "\n",
        "score:D_purchase:0.926737400531"
       ]
      },
      {
       "output_type": "stream",
       "stream": "stdout",
       "text": [
        "\n",
        "Index([u'shopping_pt', u'homeowner', u'risk_factor', u'married_couple', u'C_previous', u'A', u'B', u'C', u'D', u'E', u'G', u'A_init', u'C_init', u'D_init', u'E_init', u'G_init', u'A_change', u'B_change', u'D_change', u'E_change', u'F_change', u'A_var', u'B_var', u'C_var', u'D_var', u'E_var', u'F_var', u'G_var'], dtype='object')"
       ]
      },
      {
       "output_type": "stream",
       "stream": "stdout",
       "text": [
        "\n",
        "score:E_purchase:0.936923076923"
       ]
      },
      {
       "output_type": "stream",
       "stream": "stdout",
       "text": [
        "\n",
        "Index([u'shopping_pt', u'homeowner', u'car_age', u'C_previous', u'A', u'C', u'D', u'E', u'F', u'A_init', u'B_init', u'C_init', u'D_init', u'E_init', u'F_init', u'G_init', u'A_change', u'B_change', u'C_change', u'D_change', u'E_change', u'F_change', u'G_change', u'A_var', u'C_var', u'D_var', u'E_var', u'F_var'], dtype='object')"
       ]
      },
      {
       "output_type": "stream",
       "stream": "stdout",
       "text": [
        "\n",
        "score:F_purchase:0.861114058355"
       ]
      },
      {
       "output_type": "stream",
       "stream": "stdout",
       "text": [
        "\n",
        "Index([u'shopping_pt', u'group_size', u'married_couple', u'A', u'B', u'C', u'D', u'E', u'F', u'G', u'A_init', u'B_init', u'C_init', u'D_init', u'E_init', u'F_init', u'A_change', u'B_change', u'D_change', u'E_change', u'F_change', u'A_var', u'B_var', u'C_var', u'D_var', u'E_var', u'F_var', u'G_var'], dtype='object')"
       ]
      },
      {
       "output_type": "stream",
       "stream": "stdout",
       "text": [
        "\n",
        "score:G_purchase:0.767957559682"
       ]
      },
      {
       "output_type": "stream",
       "stream": "stdout",
       "text": [
        "\n",
        "Index([u'shopping_pt', u'homeowner', u'married_couple', u'A', u'C', u'D', u'E', u'F', u'G', u'A_init', u'B_init', u'C_init', u'D_init', u'E_init', u'F_init', u'G_init', u'B_change', u'C_change', u'E_change', u'F_change', u'G_change', u'A_var', u'B_var', u'C_var', u'D_var', u'E_var', u'F_var', u'G_var'], dtype='object')"
       ]
      },
      {
       "output_type": "stream",
       "stream": "stdout",
       "text": [
        "\n",
        "Number of features:29\n",
        "score:A_purchase:0.90599469496"
       ]
      },
      {
       "output_type": "stream",
       "stream": "stdout",
       "text": [
        "\n",
        "Index([u'shopping_pt', u'group_size', u'homeowner', u'car_age', u'married_couple', u'A', u'B', u'C', u'D', u'E', u'F', u'G', u'A_init', u'B_init', u'D_init', u'E_init', u'F_init', u'A_change', u'C_change', u'D_change', u'E_change', u'F_change', u'A_var', u'B_var', u'C_var', u'D_var', u'E_var', u'F_var', u'G_var'], dtype='object')"
       ]
      },
      {
       "output_type": "stream",
       "stream": "stdout",
       "text": [
        "\n",
        "score:B_purchase:0.93374005305"
       ]
      },
      {
       "output_type": "stream",
       "stream": "stdout",
       "text": [
        "\n",
        "Index([u'shopping_pt', u'group_size', u'homeowner', u'car_value', u'risk_factor', u'married_couple', u'C_previous', u'A', u'B', u'D', u'E', u'F', u'G', u'A_init', u'B_init', u'C_init', u'E_init', u'F_init', u'G_init', u'B_change', u'D_change', u'E_change', u'F_change', u'G_change', u'A_var', u'B_var', u'C_var', u'F_var', u'G_var'], dtype='object')"
       ]
      },
      {
       "output_type": "stream",
       "stream": "stdout",
       "text": [
        "\n",
        "score:C_purchase:0.84450928382"
       ]
      },
      {
       "output_type": "stream",
       "stream": "stdout",
       "text": [
        "\n",
        "Index([u'shopping_pt', u'group_size', u'homeowner', u'married_couple', u'C_previous', u'B', u'C', u'D', u'E', u'G', u'A_init', u'C_init', u'D_init', u'E_init', u'F_init', u'G_init', u'A_change', u'B_change', u'C_change', u'D_change', u'E_change', u'F_change', u'A_var', u'B_var', u'C_var', u'D_var', u'E_var', u'F_var', u'G_var'], dtype='object')"
       ]
      },
      {
       "output_type": "stream",
       "stream": "stdout",
       "text": [
        "\n",
        "score:D_purchase:0.926843501326"
       ]
      },
      {
       "output_type": "stream",
       "stream": "stdout",
       "text": [
        "\n",
        "Index([u'shopping_pt', u'homeowner', u'risk_factor', u'married_couple', u'C_previous', u'A', u'B', u'C', u'D', u'E', u'G', u'A_init', u'C_init', u'D_init', u'E_init', u'F_init', u'G_init', u'A_change', u'B_change', u'D_change', u'E_change', u'F_change', u'A_var', u'B_var', u'C_var', u'D_var', u'E_var', u'F_var', u'G_var'], dtype='object')"
       ]
      },
      {
       "output_type": "stream",
       "stream": "stdout",
       "text": [
        "\n",
        "score:E_purchase:0.936923076923"
       ]
      },
      {
       "output_type": "stream",
       "stream": "stdout",
       "text": [
        "\n",
        "Index([u'shopping_pt', u'homeowner', u'car_age', u'risk_factor', u'C_previous', u'A', u'C', u'D', u'E', u'F', u'duration_offers', u'A_init', u'B_init', u'C_init', u'D_init', u'E_init', u'F_init', u'G_init', u'A_change', u'B_change', u'C_change', u'D_change', u'E_change', u'F_change', u'G_change', u'A_var', u'C_var', u'D_var', u'F_var'], dtype='object')"
       ]
      },
      {
       "output_type": "stream",
       "stream": "stdout",
       "text": [
        "\n",
        "score:F_purchase:0.86"
       ]
      },
      {
       "output_type": "stream",
       "stream": "stdout",
       "text": [
        "\n",
        "Index([u'shopping_pt', u'group_size', u'married_couple', u'A', u'B', u'C', u'D', u'E', u'F', u'G', u'A_init', u'B_init', u'C_init', u'D_init', u'E_init', u'F_init', u'G_init', u'A_change', u'B_change', u'D_change', u'E_change', u'F_change', u'A_var', u'B_var', u'C_var', u'D_var', u'E_var', u'F_var', u'G_var'], dtype='object')"
       ]
      },
      {
       "output_type": "stream",
       "stream": "stdout",
       "text": [
        "\n",
        "score:G_purchase:0.768328912467"
       ]
      },
      {
       "output_type": "stream",
       "stream": "stdout",
       "text": [
        "\n",
        "Index([u'shopping_pt', u'homeowner', u'married_couple', u'A', u'C', u'D', u'E', u'F', u'G', u'A_init', u'B_init', u'C_init', u'D_init', u'E_init', u'F_init', u'G_init', u'B_change', u'C_change', u'D_change', u'E_change', u'F_change', u'G_change', u'A_var', u'B_var', u'C_var', u'D_var', u'E_var', u'F_var', u'G_var'], dtype='object')"
       ]
      },
      {
       "output_type": "stream",
       "stream": "stdout",
       "text": [
        "\n",
        "Number of features:30\n",
        "score:A_purchase:0.906206896552"
       ]
      },
      {
       "output_type": "stream",
       "stream": "stdout",
       "text": [
        "\n",
        "Index([u'shopping_pt', u'group_size', u'homeowner', u'car_age', u'married_couple', u'A', u'B', u'C', u'D', u'E', u'F', u'G', u'A_init', u'B_init', u'D_init', u'E_init', u'F_init', u'A_change', u'C_change', u'D_change', u'E_change', u'F_change', u'G_change', u'A_var', u'B_var', u'C_var', u'D_var', u'E_var', u'F_var', u'G_var'], dtype='object')"
       ]
      },
      {
       "output_type": "stream",
       "stream": "stdout",
       "text": [
        "\n",
        "score:B_purchase:0.93374005305"
       ]
      },
      {
       "output_type": "stream",
       "stream": "stdout",
       "text": [
        "\n",
        "Index([u'shopping_pt', u'day', u'group_size', u'homeowner', u'car_value', u'risk_factor', u'married_couple', u'C_previous', u'A', u'B', u'D', u'E', u'F', u'G', u'A_init', u'B_init', u'C_init', u'E_init', u'F_init', u'G_init', u'B_change', u'D_change', u'E_change', u'F_change', u'G_change', u'A_var', u'B_var', u'C_var', u'F_var', u'G_var'], dtype='object')"
       ]
      },
      {
       "output_type": "stream",
       "stream": "stdout",
       "text": [
        "\n",
        "score:C_purchase:0.843342175066"
       ]
      },
      {
       "output_type": "stream",
       "stream": "stdout",
       "text": [
        "\n",
        "Index([u'shopping_pt', u'group_size', u'homeowner', u'risk_factor', u'married_couple', u'C_previous', u'B', u'C', u'D', u'E', u'G', u'A_init', u'C_init', u'D_init', u'E_init', u'F_init', u'G_init', u'A_change', u'B_change', u'C_change', u'D_change', u'E_change', u'F_change', u'A_var', u'B_var', u'C_var', u'D_var', u'E_var', u'F_var', u'G_var'], dtype='object')"
       ]
      },
      {
       "output_type": "stream",
       "stream": "stdout",
       "text": [
        "\n",
        "score:D_purchase:0.926631299735"
       ]
      },
      {
       "output_type": "stream",
       "stream": "stdout",
       "text": [
        "\n",
        "Index([u'shopping_pt', u'homeowner', u'risk_factor', u'married_couple', u'C_previous', u'A', u'B', u'C', u'D', u'E', u'G', u'A_init', u'C_init', u'D_init', u'E_init', u'F_init', u'G_init', u'A_change', u'B_change', u'C_change', u'D_change', u'E_change', u'F_change', u'A_var', u'B_var', u'C_var', u'D_var', u'E_var', u'F_var', u'G_var'], dtype='object')"
       ]
      },
      {
       "output_type": "stream",
       "stream": "stdout",
       "text": [
        "\n",
        "score:E_purchase:0.936923076923"
       ]
      },
      {
       "output_type": "stream",
       "stream": "stdout",
       "text": [
        "\n",
        "Index([u'shopping_pt', u'homeowner', u'car_age', u'risk_factor', u'C_previous', u'A', u'C', u'D', u'E', u'F', u'duration_offers', u'A_init', u'B_init', u'C_init', u'D_init', u'E_init', u'F_init', u'G_init', u'A_change', u'B_change', u'C_change', u'D_change', u'E_change', u'F_change', u'G_change', u'A_var', u'C_var', u'D_var', u'E_var', u'F_var'], dtype='object')"
       ]
      },
      {
       "output_type": "stream",
       "stream": "stdout",
       "text": [
        "\n",
        "score:F_purchase:0.860583554377"
       ]
      },
      {
       "output_type": "stream",
       "stream": "stdout",
       "text": [
        "\n",
        "Index([u'shopping_pt', u'group_size', u'homeowner', u'married_couple', u'A', u'B', u'C', u'D', u'E', u'F', u'G', u'A_init', u'B_init', u'C_init', u'D_init', u'E_init', u'F_init', u'G_init', u'A_change', u'B_change', u'D_change', u'E_change', u'F_change', u'A_var', u'B_var', u'C_var', u'D_var', u'E_var', u'F_var', u'G_var'], dtype='object')"
       ]
      },
      {
       "output_type": "stream",
       "stream": "stdout",
       "text": [
        "\n",
        "score:G_purchase:0.768328912467"
       ]
      },
      {
       "output_type": "stream",
       "stream": "stdout",
       "text": [
        "\n",
        "Index([u'shopping_pt', u'group_size', u'homeowner', u'married_couple', u'A', u'C', u'D', u'E', u'F', u'G', u'A_init', u'B_init', u'C_init', u'D_init', u'E_init', u'F_init', u'G_init', u'B_change', u'C_change', u'D_change', u'E_change', u'F_change', u'G_change', u'A_var', u'B_var', u'C_var', u'D_var', u'E_var', u'F_var', u'G_var'], dtype='object')"
       ]
      },
      {
       "output_type": "stream",
       "stream": "stdout",
       "text": [
        "\n",
        "Number of features:31\n",
        "score:A_purchase:0.906206896552"
       ]
      },
      {
       "output_type": "stream",
       "stream": "stdout",
       "text": [
        "\n",
        "Index([u'shopping_pt', u'group_size', u'homeowner', u'car_age', u'married_couple', u'A', u'B', u'C', u'D', u'E', u'F', u'G', u'A_init', u'B_init', u'D_init', u'E_init', u'F_init', u'A_change', u'B_change', u'C_change', u'D_change', u'E_change', u'F_change', u'G_change', u'A_var', u'B_var', u'C_var', u'D_var', u'E_var', u'F_var', u'G_var'], dtype='object')"
       ]
      },
      {
       "output_type": "stream",
       "stream": "stdout",
       "text": [
        "\n",
        "score:B_purchase:0.93374005305"
       ]
      },
      {
       "output_type": "stream",
       "stream": "stdout",
       "text": [
        "\n",
        "Index([u'shopping_pt', u'day', u'group_size', u'homeowner', u'car_value', u'risk_factor', u'married_couple', u'C_previous', u'A', u'B', u'D', u'E', u'F', u'G', u'duration_offers', u'A_init', u'B_init', u'C_init', u'E_init', u'F_init', u'G_init', u'B_change', u'D_change', u'E_change', u'F_change', u'G_change', u'A_var', u'B_var', u'C_var', u'F_var', u'G_var'], dtype='object')"
       ]
      },
      {
       "output_type": "stream",
       "stream": "stdout",
       "text": [
        "\n",
        "score:C_purchase:0.843236074271"
       ]
      },
      {
       "output_type": "stream",
       "stream": "stdout",
       "text": [
        "\n",
        "Index([u'shopping_pt', u'group_size', u'homeowner', u'risk_factor', u'married_couple', u'C_previous', u'A', u'B', u'C', u'D', u'E', u'G', u'A_init', u'C_init', u'D_init', u'E_init', u'F_init', u'G_init', u'A_change', u'B_change', u'C_change', u'D_change', u'E_change', u'F_change', u'A_var', u'B_var', u'C_var', u'D_var', u'E_var', u'F_var', u'G_var'], dtype='object')"
       ]
      },
      {
       "output_type": "stream",
       "stream": "stdout",
       "text": [
        "\n",
        "score:D_purchase:0.926631299735"
       ]
      },
      {
       "output_type": "stream",
       "stream": "stdout",
       "text": [
        "\n",
        "Index([u'shopping_pt', u'homeowner', u'risk_factor', u'married_couple', u'C_previous', u'A', u'B', u'C', u'D', u'E', u'G', u'duration_offers', u'A_init', u'C_init', u'D_init', u'E_init', u'F_init', u'G_init', u'A_change', u'B_change', u'C_change', u'D_change', u'E_change', u'F_change', u'A_var', u'B_var', u'C_var', u'D_var', u'E_var', u'F_var', u'G_var'], dtype='object')"
       ]
      },
      {
       "output_type": "stream",
       "stream": "stdout",
       "text": [
        "\n",
        "score:E_purchase:0.936923076923"
       ]
      },
      {
       "output_type": "stream",
       "stream": "stdout",
       "text": [
        "\n",
        "Index([u'shopping_pt', u'homeowner', u'car_age', u'risk_factor', u'C_previous', u'A', u'C', u'D', u'E', u'F', u'duration_offers', u'A_init', u'B_init', u'C_init', u'D_init', u'E_init', u'F_init', u'G_init', u'A_change', u'B_change', u'C_change', u'D_change', u'E_change', u'F_change', u'G_change', u'A_var', u'C_var', u'D_var', u'E_var', u'F_var', u'G_var'], dtype='object')"
       ]
      },
      {
       "output_type": "stream",
       "stream": "stdout",
       "text": [
        "\n",
        "score:F_purchase:0.853315649867"
       ]
      },
      {
       "output_type": "stream",
       "stream": "stdout",
       "text": [
        "\n",
        "Index([u'shopping_pt', u'group_size', u'homeowner', u'car_age', u'married_couple', u'A', u'B', u'C', u'D', u'E', u'F', u'G', u'A_init', u'B_init', u'C_init', u'D_init', u'E_init', u'F_init', u'G_init', u'A_change', u'B_change', u'D_change', u'E_change', u'F_change', u'A_var', u'B_var', u'C_var', u'D_var', u'E_var', u'F_var', u'G_var'], dtype='object')"
       ]
      },
      {
       "output_type": "stream",
       "stream": "stdout",
       "text": [
        "\n",
        "score:G_purchase:0.767798408488"
       ]
      },
      {
       "output_type": "stream",
       "stream": "stdout",
       "text": [
        "\n",
        "Index([u'shopping_pt', u'group_size', u'homeowner', u'married_couple', u'A', u'C', u'D', u'E', u'F', u'G', u'A_init', u'B_init', u'C_init', u'D_init', u'E_init', u'F_init', u'G_init', u'A_change', u'B_change', u'C_change', u'D_change', u'E_change', u'F_change', u'G_change', u'A_var', u'B_var', u'C_var', u'D_var', u'E_var', u'F_var', u'G_var'], dtype='object')"
       ]
      },
      {
       "output_type": "stream",
       "stream": "stdout",
       "text": [
        "\n",
        "Number of features:32\n",
        "score:A_purchase:0.906419098143"
       ]
      },
      {
       "output_type": "stream",
       "stream": "stdout",
       "text": [
        "\n",
        "Index([u'shopping_pt', u'group_size', u'homeowner', u'car_age', u'married_couple', u'A', u'B', u'C', u'D', u'E', u'F', u'G', u'A_init', u'B_init', u'C_init', u'D_init', u'E_init', u'F_init', u'A_change', u'B_change', u'C_change', u'D_change', u'E_change', u'F_change', u'G_change', u'A_var', u'B_var', u'C_var', u'D_var', u'E_var', u'F_var', u'G_var'], dtype='object')"
       ]
      },
      {
       "output_type": "stream",
       "stream": "stdout",
       "text": [
        "\n",
        "score:B_purchase:0.93374005305"
       ]
      },
      {
       "output_type": "stream",
       "stream": "stdout",
       "text": [
        "\n",
        "Index([u'shopping_pt', u'day', u'group_size', u'homeowner', u'car_value', u'risk_factor', u'married_couple', u'C_previous', u'A', u'B', u'D', u'E', u'F', u'G', u'duration_offers', u'A_init', u'B_init', u'C_init', u'D_init', u'E_init', u'F_init', u'G_init', u'B_change', u'D_change', u'E_change', u'F_change', u'G_change', u'A_var', u'B_var', u'C_var', u'F_var', u'G_var'], dtype='object')"
       ]
      },
      {
       "output_type": "stream",
       "stream": "stdout",
       "text": [
        "\n",
        "score:C_purchase:0.84424403183"
       ]
      },
      {
       "output_type": "stream",
       "stream": "stdout",
       "text": [
        "\n",
        "Index([u'shopping_pt', u'group_size', u'homeowner', u'risk_factor', u'married_couple', u'C_previous', u'A', u'B', u'C', u'D', u'E', u'F', u'G', u'A_init', u'C_init', u'D_init', u'E_init', u'F_init', u'G_init', u'A_change', u'B_change', u'C_change', u'D_change', u'E_change', u'F_change', u'A_var', u'B_var', u'C_var', u'D_var', u'E_var', u'F_var', u'G_var'], dtype='object')"
       ]
      },
      {
       "output_type": "stream",
       "stream": "stdout",
       "text": [
        "\n",
        "score:D_purchase:0.926525198939"
       ]
      },
      {
       "output_type": "stream",
       "stream": "stdout",
       "text": [
        "\n",
        "Index([u'shopping_pt', u'group_size', u'homeowner', u'risk_factor', u'married_couple', u'C_previous', u'A', u'B', u'C', u'D', u'E', u'G', u'duration_offers', u'A_init', u'C_init', u'D_init', u'E_init', u'F_init', u'G_init', u'A_change', u'B_change', u'C_change', u'D_change', u'E_change', u'F_change', u'A_var', u'B_var', u'C_var', u'D_var', u'E_var', u'F_var', u'G_var'], dtype='object')"
       ]
      },
      {
       "output_type": "stream",
       "stream": "stdout",
       "text": [
        "\n",
        "score:E_purchase:0.936976127321"
       ]
      },
      {
       "output_type": "stream",
       "stream": "stdout",
       "text": [
        "\n",
        "Index([u'shopping_pt', u'homeowner', u'car_age', u'risk_factor', u'age_youngest', u'C_previous', u'A', u'C', u'D', u'E', u'F', u'G', u'duration_offers', u'A_init', u'B_init', u'C_init', u'D_init', u'E_init', u'F_init', u'G_init', u'A_change', u'B_change', u'C_change', u'D_change', u'E_change', u'F_change', u'G_change', u'A_var', u'C_var', u'D_var', u'F_var', u'G_var'], dtype='object')"
       ]
      },
      {
       "output_type": "stream",
       "stream": "stdout",
       "text": [
        "\n",
        "score:F_purchase:0.853793103448"
       ]
      },
      {
       "output_type": "stream",
       "stream": "stdout",
       "text": [
        "\n",
        "Index([u'shopping_pt', u'group_size', u'homeowner', u'car_age', u'married_couple', u'A', u'B', u'C', u'D', u'E', u'F', u'G', u'A_init', u'B_init', u'C_init', u'D_init', u'E_init', u'F_init', u'G_init', u'A_change', u'B_change', u'C_change', u'D_change', u'E_change', u'F_change', u'A_var', u'B_var', u'C_var', u'D_var', u'E_var', u'F_var', u'G_var'], dtype='object')"
       ]
      },
      {
       "output_type": "stream",
       "stream": "stdout",
       "text": [
        "\n",
        "score:G_purchase:0.766684350133"
       ]
      },
      {
       "output_type": "stream",
       "stream": "stdout",
       "text": [
        "\n",
        "Index([u'shopping_pt', u'group_size', u'homeowner', u'married_couple', u'C_previous', u'A', u'C', u'D', u'E', u'F', u'G', u'A_init', u'B_init', u'C_init', u'D_init', u'E_init', u'F_init', u'G_init', u'A_change', u'B_change', u'C_change', u'D_change', u'E_change', u'F_change', u'G_change', u'A_var', u'B_var', u'C_var', u'D_var', u'E_var', u'F_var', u'G_var'], dtype='object')"
       ]
      },
      {
       "output_type": "stream",
       "stream": "stdout",
       "text": [
        "\n",
        "Number of features:33\n",
        "score:A_purchase:0.905570291777"
       ]
      },
      {
       "output_type": "stream",
       "stream": "stdout",
       "text": [
        "\n",
        "Index([u'shopping_pt', u'group_size', u'homeowner', u'car_age', u'married_couple', u'duration_previous', u'A', u'B', u'C', u'D', u'E', u'F', u'G', u'A_init', u'B_init', u'C_init', u'D_init', u'E_init', u'F_init', u'A_change', u'B_change', u'C_change', u'D_change', u'E_change', u'F_change', u'G_change', u'A_var', u'B_var', u'C_var', u'D_var', u'E_var', u'F_var', u'G_var'], dtype='object')"
       ]
      },
      {
       "output_type": "stream",
       "stream": "stdout",
       "text": [
        "\n",
        "score:B_purchase:0.93374005305"
       ]
      },
      {
       "output_type": "stream",
       "stream": "stdout",
       "text": [
        "\n",
        "Index([u'shopping_pt', u'day', u'group_size', u'homeowner', u'car_value', u'risk_factor', u'married_couple', u'C_previous', u'A', u'B', u'D', u'E', u'F', u'G', u'duration_offers', u'A_init', u'B_init', u'C_init', u'D_init', u'E_init', u'F_init', u'G_init', u'B_change', u'C_change', u'D_change', u'E_change', u'F_change', u'G_change', u'A_var', u'B_var', u'C_var', u'F_var', u'G_var'], dtype='object')"
       ]
      },
      {
       "output_type": "stream",
       "stream": "stdout",
       "text": [
        "\n",
        "score:C_purchase:0.844350132626"
       ]
      },
      {
       "output_type": "stream",
       "stream": "stdout",
       "text": [
        "\n",
        "Index([u'shopping_pt', u'group_size', u'homeowner', u'car_value', u'risk_factor', u'married_couple', u'C_previous', u'A', u'B', u'C', u'D', u'E', u'F', u'G', u'A_init', u'C_init', u'D_init', u'E_init', u'F_init', u'G_init', u'A_change', u'B_change', u'C_change', u'D_change', u'E_change', u'F_change', u'A_var', u'B_var', u'C_var', u'D_var', u'E_var', u'F_var', u'G_var'], dtype='object')"
       ]
      },
      {
       "output_type": "stream",
       "stream": "stdout",
       "text": [
        "\n",
        "score:D_purchase:0.926472148541"
       ]
      },
      {
       "output_type": "stream",
       "stream": "stdout",
       "text": [
        "\n",
        "Index([u'shopping_pt', u'group_size', u'homeowner', u'risk_factor', u'married_couple', u'C_previous', u'A', u'B', u'C', u'D', u'E', u'G', u'duration_offers', u'A_init', u'C_init', u'D_init', u'E_init', u'F_init', u'G_init', u'A_change', u'B_change', u'C_change', u'D_change', u'E_change', u'F_change', u'G_change', u'A_var', u'B_var', u'C_var', u'D_var', u'E_var', u'F_var', u'G_var'], dtype='object')"
       ]
      },
      {
       "output_type": "stream",
       "stream": "stdout",
       "text": [
        "\n",
        "score:E_purchase:0.936923076923"
       ]
      },
      {
       "output_type": "stream",
       "stream": "stdout",
       "text": [
        "\n",
        "Index([u'shopping_pt', u'homeowner', u'car_age', u'risk_factor', u'C_previous', u'A', u'B', u'C', u'D', u'E', u'F', u'G', u'duration_offers', u'A_init', u'B_init', u'C_init', u'D_init', u'E_init', u'F_init', u'G_init', u'A_change', u'B_change', u'C_change', u'D_change', u'E_change', u'F_change', u'G_change', u'A_var', u'C_var', u'D_var', u'E_var', u'F_var', u'G_var'], dtype='object')"
       ]
      },
      {
       "output_type": "stream",
       "stream": "stdout",
       "text": [
        "\n",
        "score:F_purchase:0.853421750663"
       ]
      },
      {
       "output_type": "stream",
       "stream": "stdout",
       "text": [
        "\n",
        "Index([u'shopping_pt', u'group_size', u'homeowner', u'car_age', u'married_couple', u'C_previous', u'A', u'B', u'C', u'D', u'E', u'F', u'G', u'A_init', u'B_init', u'C_init', u'D_init', u'E_init', u'F_init', u'G_init', u'A_change', u'B_change', u'C_change', u'D_change', u'E_change', u'F_change', u'A_var', u'B_var', u'C_var', u'D_var', u'E_var', u'F_var', u'G_var'], dtype='object')"
       ]
      },
      {
       "output_type": "stream",
       "stream": "stdout",
       "text": [
        "\n",
        "score:G_purchase:0.76801061008"
       ]
      },
      {
       "output_type": "stream",
       "stream": "stdout",
       "text": [
        "\n",
        "Index([u'shopping_pt', u'group_size', u'homeowner', u'married_couple', u'C_previous', u'A', u'B', u'C', u'D', u'E', u'F', u'G', u'A_init', u'B_init', u'C_init', u'D_init', u'E_init', u'F_init', u'G_init', u'A_change', u'B_change', u'C_change', u'D_change', u'E_change', u'F_change', u'G_change', u'A_var', u'B_var', u'C_var', u'D_var', u'E_var', u'F_var', u'G_var'], dtype='object')"
       ]
      },
      {
       "output_type": "stream",
       "stream": "stdout",
       "text": [
        "\n",
        "Number of features:34\n",
        "score:A_purchase:0.905782493369"
       ]
      },
      {
       "output_type": "stream",
       "stream": "stdout",
       "text": [
        "\n",
        "Index([u'shopping_pt', u'group_size', u'homeowner', u'car_age', u'married_couple', u'duration_previous', u'A', u'B', u'C', u'D', u'E', u'F', u'G', u'A_init', u'B_init', u'C_init', u'D_init', u'E_init', u'F_init', u'G_init', u'A_change', u'B_change', u'C_change', u'D_change', u'E_change', u'F_change', u'G_change', u'A_var', u'B_var', u'C_var', u'D_var', u'E_var', u'F_var', u'G_var'], dtype='object')"
       ]
      },
      {
       "output_type": "stream",
       "stream": "stdout",
       "text": [
        "\n",
        "score:B_purchase:0.93374005305"
       ]
      },
      {
       "output_type": "stream",
       "stream": "stdout",
       "text": [
        "\n",
        "Index([u'shopping_pt', u'day', u'group_size', u'homeowner', u'car_age', u'car_value', u'risk_factor', u'married_couple', u'C_previous', u'A', u'B', u'D', u'E', u'F', u'G', u'duration_offers', u'A_init', u'B_init', u'C_init', u'D_init', u'E_init', u'F_init', u'G_init', u'B_change', u'C_change', u'D_change', u'E_change', u'F_change', u'G_change', u'A_var', u'B_var', u'C_var', u'F_var', u'G_var'], dtype='object')"
       ]
      },
      {
       "output_type": "stream",
       "stream": "stdout",
       "text": [
        "\n",
        "score:C_purchase:0.84450928382"
       ]
      },
      {
       "output_type": "stream",
       "stream": "stdout",
       "text": [
        "\n",
        "Index([u'shopping_pt', u'group_size', u'homeowner', u'car_value', u'risk_factor', u'married_couple', u'C_previous', u'A', u'B', u'C', u'D', u'E', u'F', u'G', u'A_init', u'B_init', u'C_init', u'D_init', u'E_init', u'F_init', u'G_init', u'A_change', u'B_change', u'C_change', u'D_change', u'E_change', u'F_change', u'A_var', u'B_var', u'C_var', u'D_var', u'E_var', u'F_var', u'G_var'], dtype='object')"
       ]
      },
      {
       "output_type": "stream",
       "stream": "stdout",
       "text": [
        "\n",
        "score:D_purchase:0.926631299735"
       ]
      },
      {
       "output_type": "stream",
       "stream": "stdout",
       "text": [
        "\n",
        "Index([u'shopping_pt', u'group_size', u'homeowner', u'car_value', u'risk_factor', u'married_couple', u'C_previous', u'A', u'B', u'C', u'D', u'E', u'G', u'duration_offers', u'A_init', u'C_init', u'D_init', u'E_init', u'F_init', u'G_init', u'A_change', u'B_change', u'C_change', u'D_change', u'E_change', u'F_change', u'G_change', u'A_var', u'B_var', u'C_var', u'D_var', u'E_var', u'F_var', u'G_var'], dtype='object')"
       ]
      },
      {
       "output_type": "stream",
       "stream": "stdout",
       "text": [
        "\n",
        "score:E_purchase:0.936976127321"
       ]
      },
      {
       "output_type": "stream",
       "stream": "stdout",
       "text": [
        "\n",
        "Index([u'shopping_pt', u'homeowner', u'car_age', u'risk_factor', u'age_youngest', u'C_previous', u'A', u'B', u'C', u'D', u'E', u'F', u'G', u'duration_offers', u'A_init', u'B_init', u'C_init', u'D_init', u'E_init', u'F_init', u'G_init', u'A_change', u'B_change', u'C_change', u'D_change', u'E_change', u'F_change', u'G_change', u'A_var', u'C_var', u'D_var', u'E_var', u'F_var', u'G_var'], dtype='object')"
       ]
      },
      {
       "output_type": "stream",
       "stream": "stdout",
       "text": [
        "\n",
        "score:F_purchase:0.842015915119"
       ]
      },
      {
       "output_type": "stream",
       "stream": "stdout",
       "text": [
        "\n",
        "Index([u'shopping_pt', u'state', u'group_size', u'homeowner', u'car_age', u'married_couple', u'C_previous', u'A', u'B', u'C', u'D', u'E', u'F', u'G', u'A_init', u'B_init', u'C_init', u'D_init', u'E_init', u'F_init', u'G_init', u'A_change', u'B_change', u'C_change', u'D_change', u'E_change', u'F_change', u'A_var', u'B_var', u'C_var', u'D_var', u'E_var', u'F_var', u'G_var'], dtype='object')"
       ]
      },
      {
       "output_type": "stream",
       "stream": "stdout",
       "text": [
        "\n",
        "score:G_purchase:0.768222811671"
       ]
      },
      {
       "output_type": "stream",
       "stream": "stdout",
       "text": [
        "\n",
        "Index([u'shopping_pt', u'group_size', u'homeowner', u'car_value', u'married_couple', u'C_previous', u'A', u'B', u'C', u'D', u'E', u'F', u'G', u'A_init', u'B_init', u'C_init', u'D_init', u'E_init', u'F_init', u'G_init', u'A_change', u'B_change', u'C_change', u'D_change', u'E_change', u'F_change', u'G_change', u'A_var', u'B_var', u'C_var', u'D_var', u'E_var', u'F_var', u'G_var'], dtype='object')"
       ]
      },
      {
       "output_type": "stream",
       "stream": "stdout",
       "text": [
        "\n",
        "Number of features:35\n",
        "score:A_purchase:0.905623342175"
       ]
      },
      {
       "output_type": "stream",
       "stream": "stdout",
       "text": [
        "\n",
        "Index([u'shopping_pt', u'group_size', u'homeowner', u'car_age', u'married_couple', u'C_previous', u'duration_previous', u'A', u'B', u'C', u'D', u'E', u'F', u'G', u'A_init', u'B_init', u'C_init', u'D_init', u'E_init', u'F_init', u'G_init', u'A_change', u'B_change', u'C_change', u'D_change', u'E_change', u'F_change', u'G_change', u'A_var', u'B_var', u'C_var', u'D_var', u'E_var', u'F_var', u'G_var'], dtype='object')"
       ]
      },
      {
       "output_type": "stream",
       "stream": "stdout",
       "text": [
        "\n",
        "score:B_purchase:0.93374005305"
       ]
      },
      {
       "output_type": "stream",
       "stream": "stdout",
       "text": [
        "\n",
        "Index([u'shopping_pt', u'day', u'group_size', u'homeowner', u'car_age', u'car_value', u'risk_factor', u'married_couple', u'C_previous', u'duration_previous', u'A', u'B', u'D', u'E', u'F', u'G', u'duration_offers', u'A_init', u'B_init', u'C_init', u'D_init', u'E_init', u'F_init', u'G_init', u'B_change', u'C_change', u'D_change', u'E_change', u'F_change', u'G_change', u'A_var', u'B_var', u'C_var', u'F_var', u'G_var'], dtype='object')"
       ]
      },
      {
       "output_type": "stream",
       "stream": "stdout",
       "text": [
        "\n",
        "score:C_purchase:0.844880636605"
       ]
      },
      {
       "output_type": "stream",
       "stream": "stdout",
       "text": [
        "\n",
        "Index([u'shopping_pt', u'group_size', u'homeowner', u'car_value', u'risk_factor', u'married_couple', u'C_previous', u'A', u'B', u'C', u'D', u'E', u'F', u'G', u'A_init', u'B_init', u'C_init', u'D_init', u'E_init', u'F_init', u'G_init', u'A_change', u'B_change', u'C_change', u'D_change', u'E_change', u'F_change', u'G_change', u'A_var', u'B_var', u'C_var', u'D_var', u'E_var', u'F_var', u'G_var'], dtype='object')"
       ]
      },
      {
       "output_type": "stream",
       "stream": "stdout",
       "text": [
        "\n",
        "score:D_purchase:0.926631299735"
       ]
      },
      {
       "output_type": "stream",
       "stream": "stdout",
       "text": [
        "\n",
        "Index([u'shopping_pt', u'group_size', u'homeowner', u'car_value', u'risk_factor', u'married_couple', u'C_previous', u'A', u'B', u'C', u'D', u'E', u'G', u'duration_offers', u'A_init', u'B_init', u'C_init', u'D_init', u'E_init', u'F_init', u'G_init', u'A_change', u'B_change', u'C_change', u'D_change', u'E_change', u'F_change', u'G_change', u'A_var', u'B_var', u'C_var', u'D_var', u'E_var', u'F_var', u'G_var'], dtype='object')"
       ]
      },
      {
       "output_type": "stream",
       "stream": "stdout",
       "text": [
        "\n",
        "score:E_purchase:0.936976127321"
       ]
      },
      {
       "output_type": "stream",
       "stream": "stdout",
       "text": [
        "\n",
        "Index([u'shopping_pt', u'homeowner', u'car_age', u'car_value', u'risk_factor', u'age_youngest', u'C_previous', u'A', u'B', u'C', u'D', u'E', u'F', u'G', u'duration_offers', u'A_init', u'B_init', u'C_init', u'D_init', u'E_init', u'F_init', u'G_init', u'A_change', u'B_change', u'C_change', u'D_change', u'E_change', u'F_change', u'G_change', u'A_var', u'C_var', u'D_var', u'E_var', u'F_var', u'G_var'], dtype='object')"
       ]
      },
      {
       "output_type": "stream",
       "stream": "stdout",
       "text": [
        "\n",
        "score:F_purchase:0.841644562334"
       ]
      },
      {
       "output_type": "stream",
       "stream": "stdout",
       "text": [
        "\n",
        "Index([u'shopping_pt', u'state', u'group_size', u'homeowner', u'car_age', u'married_couple', u'C_previous', u'A', u'B', u'C', u'D', u'E', u'F', u'G', u'A_init', u'B_init', u'C_init', u'D_init', u'E_init', u'F_init', u'G_init', u'A_change', u'B_change', u'C_change', u'D_change', u'E_change', u'F_change', u'G_change', u'A_var', u'B_var', u'C_var', u'D_var', u'E_var', u'F_var', u'G_var'], dtype='object')"
       ]
      },
      {
       "output_type": "stream",
       "stream": "stdout",
       "text": [
        "\n",
        "score:G_purchase:0.76801061008"
       ]
      },
      {
       "output_type": "stream",
       "stream": "stdout",
       "text": [
        "\n",
        "Index([u'shopping_pt', u'group_size', u'homeowner', u'car_value', u'risk_factor', u'married_couple', u'C_previous', u'A', u'B', u'C', u'D', u'E', u'F', u'G', u'A_init', u'B_init', u'C_init', u'D_init', u'E_init', u'F_init', u'G_init', u'A_change', u'B_change', u'C_change', u'D_change', u'E_change', u'F_change', u'G_change', u'A_var', u'B_var', u'C_var', u'D_var', u'E_var', u'F_var', u'G_var'], dtype='object')"
       ]
      },
      {
       "output_type": "stream",
       "stream": "stdout",
       "text": [
        "\n",
        "Number of features:36\n",
        "score:A_purchase:0.905358090186"
       ]
      },
      {
       "output_type": "stream",
       "stream": "stdout",
       "text": [
        "\n",
        "Index([u'shopping_pt', u'group_size', u'homeowner', u'car_age', u'married_couple', u'C_previous', u'duration_previous', u'A', u'B', u'C', u'D', u'E', u'F', u'G', u'duration_offers', u'A_init', u'B_init', u'C_init', u'D_init', u'E_init', u'F_init', u'G_init', u'A_change', u'B_change', u'C_change', u'D_change', u'E_change', u'F_change', u'G_change', u'A_var', u'B_var', u'C_var', u'D_var', u'E_var', u'F_var', u'G_var'], dtype='object')"
       ]
      },
      {
       "output_type": "stream",
       "stream": "stdout",
       "text": [
        "\n",
        "score:B_purchase:0.93374005305"
       ]
      },
      {
       "output_type": "stream",
       "stream": "stdout",
       "text": [
        "\n",
        "Index([u'shopping_pt', u'day', u'group_size', u'homeowner', u'car_age', u'car_value', u'risk_factor', u'age_oldest', u'married_couple', u'C_previous', u'duration_previous', u'A', u'B', u'D', u'E', u'F', u'G', u'duration_offers', u'A_init', u'B_init', u'C_init', u'D_init', u'E_init', u'F_init', u'G_init', u'B_change', u'C_change', u'D_change', u'E_change', u'F_change', u'G_change', u'A_var', u'B_var', u'C_var', u'F_var', u'G_var'], dtype='object')"
       ]
      },
      {
       "output_type": "stream",
       "stream": "stdout",
       "text": [
        "\n",
        "score:C_purchase:0.844668435013"
       ]
      },
      {
       "output_type": "stream",
       "stream": "stdout",
       "text": [
        "\n",
        "Index([u'shopping_pt', u'group_size', u'homeowner', u'car_age', u'car_value', u'risk_factor', u'married_couple', u'C_previous', u'A', u'B', u'C', u'D', u'E', u'F', u'G', u'A_init', u'B_init', u'C_init', u'D_init', u'E_init', u'F_init', u'G_init', u'A_change', u'B_change', u'C_change', u'D_change', u'E_change', u'F_change', u'G_change', u'A_var', u'B_var', u'C_var', u'D_var', u'E_var', u'F_var', u'G_var'], dtype='object')"
       ]
      },
      {
       "output_type": "stream",
       "stream": "stdout",
       "text": [
        "\n",
        "score:D_purchase:0.926684350133"
       ]
      },
      {
       "output_type": "stream",
       "stream": "stdout",
       "text": [
        "\n",
        "Index([u'shopping_pt', u'group_size', u'homeowner', u'car_value', u'risk_factor', u'married_couple', u'C_previous', u'A', u'B', u'C', u'D', u'E', u'F', u'G', u'duration_offers', u'A_init', u'B_init', u'C_init', u'D_init', u'E_init', u'F_init', u'G_init', u'A_change', u'B_change', u'C_change', u'D_change', u'E_change', u'F_change', u'G_change', u'A_var', u'B_var', u'C_var', u'D_var', u'E_var', u'F_var', u'G_var'], dtype='object')"
       ]
      },
      {
       "output_type": "stream",
       "stream": "stdout",
       "text": [
        "\n",
        "score:E_purchase:0.936976127321"
       ]
      },
      {
       "output_type": "stream",
       "stream": "stdout",
       "text": [
        "\n",
        "Index([u'shopping_pt', u'day', u'homeowner', u'car_age', u'car_value', u'risk_factor', u'age_youngest', u'C_previous', u'duration_previous', u'A', u'B', u'C', u'D', u'E', u'F', u'G', u'duration_offers', u'A_init', u'B_init', u'C_init', u'D_init', u'E_init', u'F_init', u'G_init', u'A_change', u'B_change', u'C_change', u'D_change', u'E_change', u'F_change', u'G_change', u'A_var', u'C_var', u'D_var', u'F_var', u'G_var'], dtype='object')"
       ]
      },
      {
       "output_type": "stream",
       "stream": "stdout",
       "text": [
        "\n",
        "score:F_purchase:0.84450928382"
       ]
      },
      {
       "output_type": "stream",
       "stream": "stdout",
       "text": [
        "\n",
        "Index([u'shopping_pt', u'state', u'group_size', u'homeowner', u'car_age', u'married_couple', u'C_previous', u'duration_previous', u'A', u'B', u'C', u'D', u'E', u'F', u'G', u'A_init', u'B_init', u'C_init', u'D_init', u'E_init', u'F_init', u'G_init', u'A_change', u'B_change', u'C_change', u'D_change', u'E_change', u'F_change', u'G_change', u'A_var', u'B_var', u'C_var', u'D_var', u'E_var', u'F_var', u'G_var'], dtype='object')"
       ]
      },
      {
       "output_type": "stream",
       "stream": "stdout",
       "text": [
        "\n",
        "score:G_purchase:0.755066312997"
       ]
      },
      {
       "output_type": "stream",
       "stream": "stdout",
       "text": [
        "\n",
        "Index([u'shopping_pt', u'state', u'group_size', u'homeowner', u'car_value', u'risk_factor', u'married_couple', u'C_previous', u'A', u'B', u'C', u'D', u'E', u'F', u'G', u'A_init', u'B_init', u'C_init', u'D_init', u'E_init', u'F_init', u'G_init', u'A_change', u'B_change', u'C_change', u'D_change', u'E_change', u'F_change', u'G_change', u'A_var', u'B_var', u'C_var', u'D_var', u'E_var', u'F_var', u'G_var'], dtype='object')"
       ]
      },
      {
       "output_type": "stream",
       "stream": "stdout",
       "text": [
        "\n",
        "Number of features:37\n",
        "score:A_purchase:0.905411140584"
       ]
      },
      {
       "output_type": "stream",
       "stream": "stdout",
       "text": [
        "\n",
        "Index([u'shopping_pt', u'group_size', u'homeowner', u'car_age', u'car_value', u'married_couple', u'C_previous', u'duration_previous', u'A', u'B', u'C', u'D', u'E', u'F', u'G', u'duration_offers', u'A_init', u'B_init', u'C_init', u'D_init', u'E_init', u'F_init', u'G_init', u'A_change', u'B_change', u'C_change', u'D_change', u'E_change', u'F_change', u'G_change', u'A_var', u'B_var', u'C_var', u'D_var', u'E_var', u'F_var', u'G_var'], dtype='object')"
       ]
      },
      {
       "output_type": "stream",
       "stream": "stdout",
       "text": [
        "\n",
        "score:B_purchase:0.93374005305"
       ]
      },
      {
       "output_type": "stream",
       "stream": "stdout",
       "text": [
        "\n",
        "Index([u'shopping_pt', u'day', u'group_size', u'homeowner', u'car_age', u'car_value', u'risk_factor', u'age_oldest', u'age_youngest', u'married_couple', u'C_previous', u'duration_previous', u'A', u'B', u'D', u'E', u'F', u'G', u'duration_offers', u'A_init', u'B_init', u'C_init', u'D_init', u'E_init', u'F_init', u'G_init', u'B_change', u'C_change', u'D_change', u'E_change', u'F_change', u'G_change', u'A_var', u'B_var', u'C_var', u'F_var', u'G_var'], dtype='object')"
       ]
      },
      {
       "output_type": "stream",
       "stream": "stdout",
       "text": [
        "\n",
        "score:C_purchase:0.844668435013"
       ]
      },
      {
       "output_type": "stream",
       "stream": "stdout",
       "text": [
        "\n",
        "Index([u'shopping_pt', u'group_size', u'homeowner', u'car_age', u'car_value', u'risk_factor', u'married_couple', u'C_previous', u'A', u'B', u'C', u'D', u'E', u'F', u'G', u'duration_offers', u'A_init', u'B_init', u'C_init', u'D_init', u'E_init', u'F_init', u'G_init', u'A_change', u'B_change', u'C_change', u'D_change', u'E_change', u'F_change', u'G_change', u'A_var', u'B_var', u'C_var', u'D_var', u'E_var', u'F_var', u'G_var'], dtype='object')"
       ]
      },
      {
       "output_type": "stream",
       "stream": "stdout",
       "text": [
        "\n",
        "score:D_purchase:0.926312997347"
       ]
      },
      {
       "output_type": "stream",
       "stream": "stdout",
       "text": [
        "\n",
        "Index([u'shopping_pt', u'group_size', u'homeowner', u'car_age', u'car_value', u'risk_factor', u'married_couple', u'C_previous', u'A', u'B', u'C', u'D', u'E', u'F', u'G', u'duration_offers', u'A_init', u'B_init', u'C_init', u'D_init', u'E_init', u'F_init', u'G_init', u'A_change', u'B_change', u'C_change', u'D_change', u'E_change', u'F_change', u'G_change', u'A_var', u'B_var', u'C_var', u'D_var', u'E_var', u'F_var', u'G_var'], dtype='object')"
       ]
      },
      {
       "output_type": "stream",
       "stream": "stdout",
       "text": [
        "\n",
        "score:E_purchase:0.936976127321"
       ]
      },
      {
       "output_type": "stream",
       "stream": "stdout",
       "text": [
        "\n",
        "Index([u'shopping_pt', u'day', u'homeowner', u'car_age', u'car_value', u'risk_factor', u'age_youngest', u'C_previous', u'duration_previous', u'A', u'B', u'C', u'D', u'E', u'F', u'G', u'duration_offers', u'A_init', u'B_init', u'C_init', u'D_init', u'E_init', u'F_init', u'G_init', u'A_change', u'B_change', u'C_change', u'D_change', u'E_change', u'F_change', u'G_change', u'A_var', u'C_var', u'D_var', u'E_var', u'F_var', u'G_var'], dtype='object')"
       ]
      },
      {
       "output_type": "stream",
       "stream": "stdout",
       "text": [
        "\n",
        "score:F_purchase:0.84450928382"
       ]
      },
      {
       "output_type": "stream",
       "stream": "stdout",
       "text": [
        "\n",
        "Index([u'shopping_pt', u'state', u'group_size', u'homeowner', u'car_age', u'married_couple', u'C_previous', u'duration_previous', u'A', u'B', u'C', u'D', u'E', u'F', u'G', u'duration_offers', u'A_init', u'B_init', u'C_init', u'D_init', u'E_init', u'F_init', u'G_init', u'A_change', u'B_change', u'C_change', u'D_change', u'E_change', u'F_change', u'G_change', u'A_var', u'B_var', u'C_var', u'D_var', u'E_var', u'F_var', u'G_var'], dtype='object')"
       ]
      },
      {
       "output_type": "stream",
       "stream": "stdout",
       "text": [
        "\n",
        "score:G_purchase:0.754854111406"
       ]
      },
      {
       "output_type": "stream",
       "stream": "stdout",
       "text": [
        "\n",
        "Index([u'shopping_pt', u'state', u'group_size', u'homeowner', u'car_value', u'risk_factor', u'married_couple', u'C_previous', u'duration_previous', u'A', u'B', u'C', u'D', u'E', u'F', u'G', u'A_init', u'B_init', u'C_init', u'D_init', u'E_init', u'F_init', u'G_init', u'A_change', u'B_change', u'C_change', u'D_change', u'E_change', u'F_change', u'G_change', u'A_var', u'B_var', u'C_var', u'D_var', u'E_var', u'F_var', u'G_var'], dtype='object')"
       ]
      },
      {
       "output_type": "stream",
       "stream": "stdout",
       "text": [
        "\n",
        "Number of features:38\n",
        "score:A_purchase:0.906047745358"
       ]
      },
      {
       "output_type": "stream",
       "stream": "stdout",
       "text": [
        "\n",
        "Index([u'shopping_pt', u'state', u'group_size', u'homeowner', u'car_age', u'car_value', u'married_couple', u'C_previous', u'duration_previous', u'A', u'B', u'C', u'D', u'E', u'F', u'G', u'duration_offers', u'A_init', u'B_init', u'C_init', u'D_init', u'E_init', u'F_init', u'G_init', u'A_change', u'B_change', u'C_change', u'D_change', u'E_change', u'F_change', u'G_change', u'A_var', u'B_var', u'C_var', u'D_var', u'E_var', u'F_var', u'G_var'], dtype='object')"
       ]
      },
      {
       "output_type": "stream",
       "stream": "stdout",
       "text": [
        "\n",
        "score:B_purchase:0.93374005305"
       ]
      },
      {
       "output_type": "stream",
       "stream": "stdout",
       "text": [
        "\n",
        "Index([u'shopping_pt', u'day', u'state', u'group_size', u'homeowner', u'car_age', u'car_value', u'risk_factor', u'age_oldest', u'age_youngest', u'married_couple', u'C_previous', u'duration_previous', u'A', u'B', u'D', u'E', u'F', u'G', u'duration_offers', u'A_init', u'B_init', u'C_init', u'D_init', u'E_init', u'F_init', u'G_init', u'B_change', u'C_change', u'D_change', u'E_change', u'F_change', u'G_change', u'A_var', u'B_var', u'C_var', u'F_var', u'G_var'], dtype='object')"
       ]
      },
      {
       "output_type": "stream",
       "stream": "stdout",
       "text": [
        "\n",
        "score:C_purchase:0.844774535809"
       ]
      },
      {
       "output_type": "stream",
       "stream": "stdout",
       "text": [
        "\n",
        "Index([u'shopping_pt', u'group_size', u'homeowner', u'car_age', u'car_value', u'risk_factor', u'married_couple', u'C_previous', u'duration_previous', u'A', u'B', u'C', u'D', u'E', u'F', u'G', u'duration_offers', u'A_init', u'B_init', u'C_init', u'D_init', u'E_init', u'F_init', u'G_init', u'A_change', u'B_change', u'C_change', u'D_change', u'E_change', u'F_change', u'G_change', u'A_var', u'B_var', u'C_var', u'D_var', u'E_var', u'F_var', u'G_var'], dtype='object')"
       ]
      },
      {
       "output_type": "stream",
       "stream": "stdout",
       "text": [
        "\n",
        "score:D_purchase:0.926206896552"
       ]
      },
      {
       "output_type": "stream",
       "stream": "stdout",
       "text": [
        "\n",
        "Index([u'shopping_pt', u'group_size', u'homeowner', u'car_age', u'car_value', u'risk_factor', u'married_couple', u'C_previous', u'duration_previous', u'A', u'B', u'C', u'D', u'E', u'F', u'G', u'duration_offers', u'A_init', u'B_init', u'C_init', u'D_init', u'E_init', u'F_init', u'G_init', u'A_change', u'B_change', u'C_change', u'D_change', u'E_change', u'F_change', u'G_change', u'A_var', u'B_var', u'C_var', u'D_var', u'E_var', u'F_var', u'G_var'], dtype='object')"
       ]
      },
      {
       "output_type": "stream",
       "stream": "stdout",
       "text": [
        "\n",
        "score:E_purchase:0.936976127321"
       ]
      },
      {
       "output_type": "stream",
       "stream": "stdout",
       "text": [
        "\n",
        "Index([u'shopping_pt', u'day', u'group_size', u'homeowner', u'car_age', u'car_value', u'risk_factor', u'age_youngest', u'married_couple', u'C_previous', u'duration_previous', u'A', u'B', u'C', u'D', u'E', u'F', u'G', u'duration_offers', u'A_init', u'B_init', u'C_init', u'D_init', u'E_init', u'F_init', u'G_init', u'A_change', u'B_change', u'C_change', u'D_change', u'E_change', u'F_change', u'G_change', u'A_var', u'C_var', u'D_var', u'F_var', u'G_var'], dtype='object')"
       ]
      },
      {
       "output_type": "stream",
       "stream": "stdout",
       "text": [
        "\n",
        "score:F_purchase:0.844827586207"
       ]
      },
      {
       "output_type": "stream",
       "stream": "stdout",
       "text": [
        "\n",
        "Index([u'shopping_pt', u'state', u'group_size', u'homeowner', u'car_age', u'risk_factor', u'married_couple', u'C_previous', u'duration_previous', u'A', u'B', u'C', u'D', u'E', u'F', u'G', u'duration_offers', u'A_init', u'B_init', u'C_init', u'D_init', u'E_init', u'F_init', u'G_init', u'A_change', u'B_change', u'C_change', u'D_change', u'E_change', u'F_change', u'G_change', u'A_var', u'B_var', u'C_var', u'D_var', u'E_var', u'F_var', u'G_var'], dtype='object')"
       ]
      },
      {
       "output_type": "stream",
       "stream": "stdout",
       "text": [
        "\n",
        "score:G_purchase:0.754111405836"
       ]
      },
      {
       "output_type": "stream",
       "stream": "stdout",
       "text": [
        "\n",
        "Index([u'shopping_pt', u'state', u'group_size', u'homeowner', u'car_value', u'risk_factor', u'married_couple', u'C_previous', u'duration_previous', u'A', u'B', u'C', u'D', u'E', u'F', u'G', u'duration_offers', u'A_init', u'B_init', u'C_init', u'D_init', u'E_init', u'F_init', u'G_init', u'A_change', u'B_change', u'C_change', u'D_change', u'E_change', u'F_change', u'G_change', u'A_var', u'B_var', u'C_var', u'D_var', u'E_var', u'F_var', u'G_var'], dtype='object')"
       ]
      },
      {
       "output_type": "stream",
       "stream": "stdout",
       "text": [
        "\n",
        "Number of features:39\n",
        "score:A_purchase:0.90625994695"
       ]
      },
      {
       "output_type": "stream",
       "stream": "stdout",
       "text": [
        "\n",
        "Index([u'shopping_pt', u'state', u'group_size', u'homeowner', u'car_age', u'car_value', u'married_couple', u'C_previous', u'duration_previous', u'A', u'B', u'C', u'D', u'E', u'F', u'G', u'cost', u'duration_offers', u'A_init', u'B_init', u'C_init', u'D_init', u'E_init', u'F_init', u'G_init', u'A_change', u'B_change', u'C_change', u'D_change', u'E_change', u'F_change', u'G_change', u'A_var', u'B_var', u'C_var', u'D_var', u'E_var', u'F_var', u'G_var'], dtype='object')"
       ]
      },
      {
       "output_type": "stream",
       "stream": "stdout",
       "text": [
        "\n",
        "score:B_purchase:0.93374005305"
       ]
      },
      {
       "output_type": "stream",
       "stream": "stdout",
       "text": [
        "\n",
        "Index([u'shopping_pt', u'day', u'state', u'group_size', u'homeowner', u'car_age', u'car_value', u'risk_factor', u'age_oldest', u'age_youngest', u'married_couple', u'C_previous', u'duration_previous', u'A', u'B', u'C', u'D', u'E', u'F', u'G', u'duration_offers', u'A_init', u'B_init', u'C_init', u'D_init', u'E_init', u'F_init', u'G_init', u'B_change', u'C_change', u'D_change', u'E_change', u'F_change', u'G_change', u'A_var', u'B_var', u'C_var', u'F_var', u'G_var'], dtype='object')"
       ]
      },
      {
       "output_type": "stream",
       "stream": "stdout",
       "text": [
        "\n",
        "score:C_purchase:0.845941644562"
       ]
      },
      {
       "output_type": "stream",
       "stream": "stdout",
       "text": [
        "\n",
        "Index([u'shopping_pt', u'day', u'state', u'group_size', u'homeowner', u'car_age', u'car_value', u'risk_factor', u'married_couple', u'C_previous', u'A', u'B', u'C', u'D', u'E', u'F', u'G', u'duration_offers', u'A_init', u'B_init', u'C_init', u'D_init', u'E_init', u'F_init', u'G_init', u'A_change', u'B_change', u'C_change', u'D_change', u'E_change', u'F_change', u'G_change', u'A_var', u'B_var', u'C_var', u'D_var', u'E_var', u'F_var', u'G_var'], dtype='object')"
       ]
      },
      {
       "output_type": "stream",
       "stream": "stdout",
       "text": [
        "\n",
        "score:D_purchase:0.925941644562"
       ]
      },
      {
       "output_type": "stream",
       "stream": "stdout",
       "text": [
        "\n",
        "Index([u'shopping_pt', u'day', u'group_size', u'homeowner', u'car_age', u'car_value', u'risk_factor', u'married_couple', u'C_previous', u'duration_previous', u'A', u'B', u'C', u'D', u'E', u'F', u'G', u'duration_offers', u'A_init', u'B_init', u'C_init', u'D_init', u'E_init', u'F_init', u'G_init', u'A_change', u'B_change', u'C_change', u'D_change', u'E_change', u'F_change', u'G_change', u'A_var', u'B_var', u'C_var', u'D_var', u'E_var', u'F_var', u'G_var'], dtype='object')"
       ]
      },
      {
       "output_type": "stream",
       "stream": "stdout",
       "text": [
        "\n",
        "score:E_purchase:0.936976127321"
       ]
      },
      {
       "output_type": "stream",
       "stream": "stdout",
       "text": [
        "\n",
        "Index([u'shopping_pt', u'day', u'group_size', u'homeowner', u'car_age', u'car_value', u'risk_factor', u'age_youngest', u'married_couple', u'C_previous', u'duration_previous', u'A', u'B', u'C', u'D', u'E', u'F', u'G', u'duration_offers', u'A_init', u'B_init', u'C_init', u'D_init', u'E_init', u'F_init', u'G_init', u'A_change', u'B_change', u'C_change', u'D_change', u'E_change', u'F_change', u'G_change', u'A_var', u'C_var', u'D_var', u'E_var', u'F_var', u'G_var'], dtype='object')"
       ]
      },
      {
       "output_type": "stream",
       "stream": "stdout",
       "text": [
        "\n",
        "score:F_purchase:0.845092838196"
       ]
      },
      {
       "output_type": "stream",
       "stream": "stdout",
       "text": [
        "\n",
        "Index([u'shopping_pt', u'state', u'group_size', u'homeowner', u'car_age', u'car_value', u'risk_factor', u'married_couple', u'C_previous', u'duration_previous', u'A', u'B', u'C', u'D', u'E', u'F', u'G', u'duration_offers', u'A_init', u'B_init', u'C_init', u'D_init', u'E_init', u'F_init', u'G_init', u'A_change', u'B_change', u'C_change', u'D_change', u'E_change', u'F_change', u'G_change', u'A_var', u'B_var', u'C_var', u'D_var', u'E_var', u'F_var', u'G_var'], dtype='object')"
       ]
      },
      {
       "output_type": "stream",
       "stream": "stdout",
       "text": [
        "\n",
        "score:G_purchase:0.754854111406"
       ]
      },
      {
       "output_type": "stream",
       "stream": "stdout",
       "text": [
        "\n",
        "Index([u'shopping_pt', u'state', u'group_size', u'homeowner', u'car_age', u'car_value', u'risk_factor', u'married_couple', u'C_previous', u'duration_previous', u'A', u'B', u'C', u'D', u'E', u'F', u'G', u'duration_offers', u'A_init', u'B_init', u'C_init', u'D_init', u'E_init', u'F_init', u'G_init', u'A_change', u'B_change', u'C_change', u'D_change', u'E_change', u'F_change', u'G_change', u'A_var', u'B_var', u'C_var', u'D_var', u'E_var', u'F_var', u'G_var'], dtype='object')"
       ]
      },
      {
       "output_type": "stream",
       "stream": "stdout",
       "text": [
        "\n",
        "Number of features:40\n",
        "score:A_purchase:0.905835543767"
       ]
      },
      {
       "output_type": "stream",
       "stream": "stdout",
       "text": [
        "\n",
        "Index([u'shopping_pt', u'state', u'group_size', u'homeowner', u'car_age', u'car_value', u'risk_factor', u'married_couple', u'C_previous', u'duration_previous', u'A', u'B', u'C', u'D', u'E', u'F', u'G', u'cost', u'duration_offers', u'A_init', u'B_init', u'C_init', u'D_init', u'E_init', u'F_init', u'G_init', u'A_change', u'B_change', u'C_change', u'D_change', u'E_change', u'F_change', u'G_change', u'A_var', u'B_var', u'C_var', u'D_var', u'E_var', u'F_var', u'G_var'], dtype='object')"
       ]
      },
      {
       "output_type": "stream",
       "stream": "stdout",
       "text": [
        "\n",
        "score:B_purchase:0.93374005305"
       ]
      },
      {
       "output_type": "stream",
       "stream": "stdout",
       "text": [
        "\n",
        "Index([u'shopping_pt', u'day', u'state', u'group_size', u'homeowner', u'car_age', u'car_value', u'risk_factor', u'age_oldest', u'age_youngest', u'married_couple', u'C_previous', u'duration_previous', u'A', u'B', u'C', u'D', u'E', u'F', u'G', u'duration_offers', u'A_init', u'B_init', u'C_init', u'D_init', u'E_init', u'F_init', u'G_init', u'B_change', u'C_change', u'D_change', u'E_change', u'F_change', u'G_change', u'A_var', u'B_var', u'C_var', u'F_var', u'G_var', u'init_cost'], dtype='object')"
       ]
      },
      {
       "output_type": "stream",
       "stream": "stdout",
       "text": [
        "\n",
        "score:C_purchase:0.843607427056"
       ]
      },
      {
       "output_type": "stream",
       "stream": "stdout",
       "text": [
        "\n",
        "Index([u'shopping_pt', u'day', u'state', u'group_size', u'homeowner', u'car_age', u'car_value', u'risk_factor', u'married_couple', u'C_previous', u'A', u'B', u'C', u'D', u'E', u'F', u'G', u'cost', u'duration_offers', u'A_init', u'B_init', u'C_init', u'D_init', u'E_init', u'F_init', u'G_init', u'A_change', u'B_change', u'C_change', u'D_change', u'E_change', u'F_change', u'G_change', u'A_var', u'B_var', u'C_var', u'D_var', u'E_var', u'F_var', u'G_var'], dtype='object')"
       ]
      },
      {
       "output_type": "stream",
       "stream": "stdout",
       "text": [
        "\n",
        "score:D_purchase:0.925941644562"
       ]
      },
      {
       "output_type": "stream",
       "stream": "stdout",
       "text": [
        "\n",
        "Index([u'shopping_pt', u'day', u'state', u'group_size', u'homeowner', u'car_age', u'car_value', u'risk_factor', u'married_couple', u'C_previous', u'duration_previous', u'A', u'B', u'C', u'D', u'E', u'F', u'G', u'duration_offers', u'A_init', u'B_init', u'C_init', u'D_init', u'E_init', u'F_init', u'G_init', u'A_change', u'B_change', u'C_change', u'D_change', u'E_change', u'F_change', u'G_change', u'A_var', u'B_var', u'C_var', u'D_var', u'E_var', u'F_var', u'G_var'], dtype='object')"
       ]
      },
      {
       "output_type": "stream",
       "stream": "stdout",
       "text": [
        "\n",
        "score:E_purchase:0.936923076923"
       ]
      },
      {
       "output_type": "stream",
       "stream": "stdout",
       "text": [
        "\n",
        "Index([u'shopping_pt', u'day', u'group_size', u'homeowner', u'car_age', u'car_value', u'risk_factor', u'age_youngest', u'married_couple', u'C_previous', u'duration_previous', u'A', u'B', u'C', u'D', u'E', u'F', u'G', u'cost', u'duration_offers', u'A_init', u'B_init', u'C_init', u'D_init', u'E_init', u'F_init', u'G_init', u'A_change', u'B_change', u'C_change', u'D_change', u'E_change', u'F_change', u'G_change', u'A_var', u'C_var', u'D_var', u'F_var', u'G_var', u'init_cost'], dtype='object')"
       ]
      },
      {
       "output_type": "stream",
       "stream": "stdout",
       "text": [
        "\n",
        "score:F_purchase:0.844668435013"
       ]
      },
      {
       "output_type": "stream",
       "stream": "stdout",
       "text": [
        "\n",
        "Index([u'shopping_pt', u'day', u'state', u'group_size', u'homeowner', u'car_age', u'car_value', u'risk_factor', u'married_couple', u'C_previous', u'duration_previous', u'A', u'B', u'C', u'D', u'E', u'F', u'G', u'duration_offers', u'A_init', u'B_init', u'C_init', u'D_init', u'E_init', u'F_init', u'G_init', u'A_change', u'B_change', u'C_change', u'D_change', u'E_change', u'F_change', u'G_change', u'A_var', u'B_var', u'C_var', u'D_var', u'E_var', u'F_var', u'G_var'], dtype='object')"
       ]
      },
      {
       "output_type": "stream",
       "stream": "stdout",
       "text": [
        "\n",
        "score:G_purchase:0.754111405836"
       ]
      },
      {
       "output_type": "stream",
       "stream": "stdout",
       "text": [
        "\n",
        "Index([u'shopping_pt', u'day', u'state', u'group_size', u'homeowner', u'car_age', u'car_value', u'risk_factor', u'married_couple', u'C_previous', u'duration_previous', u'A', u'B', u'C', u'D', u'E', u'F', u'G', u'duration_offers', u'A_init', u'B_init', u'C_init', u'D_init', u'E_init', u'F_init', u'G_init', u'A_change', u'B_change', u'C_change', u'D_change', u'E_change', u'F_change', u'G_change', u'A_var', u'B_var', u'C_var', u'D_var', u'E_var', u'F_var', u'G_var'], dtype='object')"
       ]
      },
      {
       "output_type": "stream",
       "stream": "stdout",
       "text": [
        "\n",
        "Number of features:41\n",
        "score:A_purchase:0.90625994695"
       ]
      },
      {
       "output_type": "stream",
       "stream": "stdout",
       "text": [
        "\n",
        "Index([u'shopping_pt', u'state', u'group_size', u'homeowner', u'car_age', u'car_value', u'risk_factor', u'married_couple', u'C_previous', u'duration_previous', u'A', u'B', u'C', u'D', u'E', u'F', u'G', u'cost', u'duration_offers', u'A_init', u'B_init', u'C_init', u'D_init', u'E_init', u'F_init', u'G_init', u'A_change', u'B_change', u'C_change', u'D_change', u'E_change', u'F_change', u'G_change', u'A_var', u'B_var', u'C_var', u'D_var', u'E_var', u'F_var', u'G_var', u'init_cost'], dtype='object')"
       ]
      },
      {
       "output_type": "stream",
       "stream": "stdout",
       "text": [
        "\n",
        "score:B_purchase:0.93374005305"
       ]
      },
      {
       "output_type": "stream",
       "stream": "stdout",
       "text": [
        "\n",
        "Index([u'shopping_pt', u'day', u'state', u'group_size', u'homeowner', u'car_age', u'car_value', u'risk_factor', u'age_oldest', u'age_youngest', u'married_couple', u'C_previous', u'duration_previous', u'A', u'B', u'C', u'D', u'E', u'F', u'G', u'cost', u'duration_offers', u'A_init', u'B_init', u'C_init', u'D_init', u'E_init', u'F_init', u'G_init', u'B_change', u'C_change', u'D_change', u'E_change', u'F_change', u'G_change', u'A_var', u'B_var', u'C_var', u'F_var', u'G_var', u'init_cost'], dtype='object')"
       ]
      },
      {
       "output_type": "stream",
       "stream": "stdout",
       "text": [
        "\n",
        "score:C_purchase:0.844403183024"
       ]
      },
      {
       "output_type": "stream",
       "stream": "stdout",
       "text": [
        "\n",
        "Index([u'shopping_pt', u'day', u'state', u'group_size', u'homeowner', u'car_age', u'car_value', u'risk_factor', u'married_couple', u'C_previous', u'duration_previous', u'A', u'B', u'C', u'D', u'E', u'F', u'G', u'cost', u'duration_offers', u'A_init', u'B_init', u'C_init', u'D_init', u'E_init', u'F_init', u'G_init', u'A_change', u'B_change', u'C_change', u'D_change', u'E_change', u'F_change', u'G_change', u'A_var', u'B_var', u'C_var', u'D_var', u'E_var', u'F_var', u'G_var'], dtype='object')"
       ]
      },
      {
       "output_type": "stream",
       "stream": "stdout",
       "text": [
        "\n",
        "score:D_purchase:0.926472148541"
       ]
      },
      {
       "output_type": "stream",
       "stream": "stdout",
       "text": [
        "\n",
        "Index([u'shopping_pt', u'day', u'state', u'group_size', u'homeowner', u'car_age', u'car_value', u'risk_factor', u'age_youngest', u'married_couple', u'C_previous', u'duration_previous', u'A', u'B', u'C', u'D', u'E', u'F', u'G', u'duration_offers', u'A_init', u'B_init', u'C_init', u'D_init', u'E_init', u'F_init', u'G_init', u'A_change', u'B_change', u'C_change', u'D_change', u'E_change', u'F_change', u'G_change', u'A_var', u'B_var', u'C_var', u'D_var', u'E_var', u'F_var', u'G_var'], dtype='object')"
       ]
      },
      {
       "output_type": "stream",
       "stream": "stdout",
       "text": [
        "\n",
        "score:E_purchase:0.936923076923"
       ]
      },
      {
       "output_type": "stream",
       "stream": "stdout",
       "text": [
        "\n",
        "Index([u'shopping_pt', u'day', u'group_size', u'homeowner', u'car_age', u'car_value', u'risk_factor', u'age_youngest', u'married_couple', u'C_previous', u'duration_previous', u'A', u'B', u'C', u'D', u'E', u'F', u'G', u'cost', u'duration_offers', u'A_init', u'B_init', u'C_init', u'D_init', u'E_init', u'F_init', u'G_init', u'A_change', u'B_change', u'C_change', u'D_change', u'E_change', u'F_change', u'G_change', u'A_var', u'B_var', u'C_var', u'D_var', u'E_var', u'F_var', u'G_var'], dtype='object')"
       ]
      },
      {
       "output_type": "stream",
       "stream": "stdout",
       "text": [
        "\n",
        "score:F_purchase:0.845570291777"
       ]
      },
      {
       "output_type": "stream",
       "stream": "stdout",
       "text": [
        "\n",
        "Index([u'shopping_pt', u'day', u'state', u'group_size', u'homeowner', u'car_age', u'car_value', u'risk_factor', u'married_couple', u'C_previous', u'duration_previous', u'A', u'B', u'C', u'D', u'E', u'F', u'G', u'duration_offers', u'A_init', u'B_init', u'C_init', u'D_init', u'E_init', u'F_init', u'G_init', u'A_change', u'B_change', u'C_change', u'D_change', u'E_change', u'F_change', u'G_change', u'A_var', u'B_var', u'C_var', u'D_var', u'E_var', u'F_var', u'G_var', u'init_cost'], dtype='object')"
       ]
      },
      {
       "output_type": "stream",
       "stream": "stdout",
       "text": [
        "\n",
        "score:G_purchase:0.754907161804"
       ]
      },
      {
       "output_type": "stream",
       "stream": "stdout",
       "text": [
        "\n",
        "Index([u'shopping_pt', u'day', u'state', u'group_size', u'homeowner', u'car_age', u'car_value', u'risk_factor', u'age_youngest', u'married_couple', u'C_previous', u'duration_previous', u'A', u'B', u'C', u'D', u'E', u'F', u'G', u'duration_offers', u'A_init', u'B_init', u'C_init', u'D_init', u'E_init', u'F_init', u'G_init', u'A_change', u'B_change', u'C_change', u'D_change', u'E_change', u'F_change', u'G_change', u'A_var', u'B_var', u'C_var', u'D_var', u'E_var', u'F_var', u'G_var'], dtype='object')"
       ]
      },
      {
       "output_type": "stream",
       "stream": "stdout",
       "text": [
        "\n",
        "Number of features:42\n",
        "score:A_purchase:0.90700265252"
       ]
      },
      {
       "output_type": "stream",
       "stream": "stdout",
       "text": [
        "\n",
        "Index([u'shopping_pt', u'day', u'state', u'group_size', u'homeowner', u'car_age', u'car_value', u'risk_factor', u'married_couple', u'C_previous', u'duration_previous', u'A', u'B', u'C', u'D', u'E', u'F', u'G', u'cost', u'duration_offers', u'A_init', u'B_init', u'C_init', u'D_init', u'E_init', u'F_init', u'G_init', u'A_change', u'B_change', u'C_change', u'D_change', u'E_change', u'F_change', u'G_change', u'A_var', u'B_var', u'C_var', u'D_var', u'E_var', u'F_var', u'G_var', u'init_cost'], dtype='object')"
       ]
      },
      {
       "output_type": "stream",
       "stream": "stdout",
       "text": [
        "\n",
        "score:B_purchase:0.93374005305"
       ]
      },
      {
       "output_type": "stream",
       "stream": "stdout",
       "text": [
        "\n",
        "Index([u'shopping_pt', u'day', u'state', u'group_size', u'homeowner', u'car_age', u'car_value', u'risk_factor', u'age_oldest', u'age_youngest', u'married_couple', u'C_previous', u'duration_previous', u'A', u'B', u'C', u'D', u'E', u'F', u'G', u'cost', u'duration_offers', u'A_init', u'B_init', u'C_init', u'D_init', u'E_init', u'F_init', u'G_init', u'B_change', u'C_change', u'D_change', u'E_change', u'F_change', u'G_change', u'A_var', u'B_var', u'C_var', u'E_var', u'F_var', u'G_var', u'init_cost'], dtype='object')"
       ]
      },
      {
       "output_type": "stream",
       "stream": "stdout",
       "text": [
        "\n",
        "score:C_purchase:0.842440318302"
       ]
      },
      {
       "output_type": "stream",
       "stream": "stdout",
       "text": [
        "\n",
        "Index([u'shopping_pt', u'day', u'state', u'group_size', u'homeowner', u'car_age', u'car_value', u'risk_factor', u'age_youngest', u'married_couple', u'C_previous', u'duration_previous', u'A', u'B', u'C', u'D', u'E', u'F', u'G', u'cost', u'duration_offers', u'A_init', u'B_init', u'C_init', u'D_init', u'E_init', u'F_init', u'G_init', u'A_change', u'B_change', u'C_change', u'D_change', u'E_change', u'F_change', u'G_change', u'A_var', u'B_var', u'C_var', u'D_var', u'E_var', u'F_var', u'G_var'], dtype='object')"
       ]
      },
      {
       "output_type": "stream",
       "stream": "stdout",
       "text": [
        "\n",
        "score:D_purchase:0.926312997347"
       ]
      },
      {
       "output_type": "stream",
       "stream": "stdout",
       "text": [
        "\n",
        "Index([u'shopping_pt', u'day', u'state', u'group_size', u'homeowner', u'car_age', u'car_value', u'risk_factor', u'age_oldest', u'age_youngest', u'married_couple', u'C_previous', u'duration_previous', u'A', u'B', u'C', u'D', u'E', u'F', u'G', u'duration_offers', u'A_init', u'B_init', u'C_init', u'D_init', u'E_init', u'F_init', u'G_init', u'A_change', u'B_change', u'C_change', u'D_change', u'E_change', u'F_change', u'G_change', u'A_var', u'B_var', u'C_var', u'D_var', u'E_var', u'F_var', u'G_var'], dtype='object')"
       ]
      },
      {
       "output_type": "stream",
       "stream": "stdout",
       "text": [
        "\n",
        "score:E_purchase:0.936923076923"
       ]
      },
      {
       "output_type": "stream",
       "stream": "stdout",
       "text": [
        "\n",
        "Index([u'shopping_pt', u'day', u'group_size', u'homeowner', u'car_age', u'car_value', u'risk_factor', u'age_youngest', u'married_couple', u'C_previous', u'duration_previous', u'A', u'B', u'C', u'D', u'E', u'F', u'G', u'cost', u'duration_offers', u'A_init', u'B_init', u'C_init', u'D_init', u'E_init', u'F_init', u'G_init', u'A_change', u'B_change', u'C_change', u'D_change', u'E_change', u'F_change', u'G_change', u'A_var', u'B_var', u'C_var', u'D_var', u'E_var', u'F_var', u'G_var', u'init_cost'], dtype='object')"
       ]
      },
      {
       "output_type": "stream",
       "stream": "stdout",
       "text": [
        "\n",
        "score:F_purchase:0.847533156499"
       ]
      },
      {
       "output_type": "stream",
       "stream": "stdout",
       "text": [
        "\n",
        "Index([u'shopping_pt', u'day', u'state', u'group_size', u'homeowner', u'car_age', u'car_value', u'risk_factor', u'married_couple', u'C_previous', u'duration_previous', u'A', u'B', u'C', u'D', u'E', u'F', u'G', u'cost', u'duration_offers', u'A_init', u'B_init', u'C_init', u'D_init', u'E_init', u'F_init', u'G_init', u'A_change', u'B_change', u'C_change', u'D_change', u'E_change', u'F_change', u'G_change', u'A_var', u'B_var', u'C_var', u'D_var', u'E_var', u'F_var', u'G_var', u'init_cost'], dtype='object')"
       ]
      },
      {
       "output_type": "stream",
       "stream": "stdout",
       "text": [
        "\n",
        "score:G_purchase:0.754535809019"
       ]
      },
      {
       "output_type": "stream",
       "stream": "stdout",
       "text": [
        "\n",
        "Index([u'shopping_pt', u'day', u'state', u'group_size', u'homeowner', u'car_age', u'car_value', u'risk_factor', u'age_youngest', u'married_couple', u'C_previous', u'duration_previous', u'A', u'B', u'C', u'D', u'E', u'F', u'G', u'cost', u'duration_offers', u'A_init', u'B_init', u'C_init', u'D_init', u'E_init', u'F_init', u'G_init', u'A_change', u'B_change', u'C_change', u'D_change', u'E_change', u'F_change', u'G_change', u'A_var', u'B_var', u'C_var', u'D_var', u'E_var', u'F_var', u'G_var'], dtype='object')"
       ]
      },
      {
       "output_type": "stream",
       "stream": "stdout",
       "text": [
        "\n",
        "Number of features:43\n",
        "score:A_purchase:0.905888594164"
       ]
      },
      {
       "output_type": "stream",
       "stream": "stdout",
       "text": [
        "\n",
        "Index([u'shopping_pt', u'day', u'state', u'group_size', u'homeowner', u'car_age', u'car_value', u'risk_factor', u'age_youngest', u'married_couple', u'C_previous', u'duration_previous', u'A', u'B', u'C', u'D', u'E', u'F', u'G', u'cost', u'duration_offers', u'A_init', u'B_init', u'C_init', u'D_init', u'E_init', u'F_init', u'G_init', u'A_change', u'B_change', u'C_change', u'D_change', u'E_change', u'F_change', u'G_change', u'A_var', u'B_var', u'C_var', u'D_var', u'E_var', u'F_var', u'G_var', u'init_cost'], dtype='object')"
       ]
      },
      {
       "output_type": "stream",
       "stream": "stdout",
       "text": [
        "\n",
        "score:B_purchase:0.93374005305"
       ]
      },
      {
       "output_type": "stream",
       "stream": "stdout",
       "text": [
        "\n",
        "Index([u'shopping_pt', u'day', u'state', u'group_size', u'homeowner', u'car_age', u'car_value', u'risk_factor', u'age_oldest', u'age_youngest', u'married_couple', u'C_previous', u'duration_previous', u'A', u'B', u'C', u'D', u'E', u'F', u'G', u'cost', u'duration_offers', u'A_init', u'B_init', u'C_init', u'D_init', u'E_init', u'F_init', u'G_init', u'B_change', u'C_change', u'D_change', u'E_change', u'F_change', u'G_change', u'A_var', u'B_var', u'C_var', u'D_var', u'E_var', u'F_var', u'G_var', u'init_cost'], dtype='object')"
       ]
      },
      {
       "output_type": "stream",
       "stream": "stdout",
       "text": [
        "\n",
        "score:C_purchase:0.841485411141"
       ]
      },
      {
       "output_type": "stream",
       "stream": "stdout",
       "text": [
        "\n",
        "Index([u'shopping_pt', u'day', u'state', u'group_size', u'homeowner', u'car_age', u'car_value', u'risk_factor', u'age_oldest', u'age_youngest', u'married_couple', u'C_previous', u'duration_previous', u'A', u'B', u'C', u'D', u'E', u'F', u'G', u'cost', u'duration_offers', u'A_init', u'B_init', u'C_init', u'D_init', u'E_init', u'F_init', u'G_init', u'A_change', u'B_change', u'C_change', u'D_change', u'E_change', u'F_change', u'G_change', u'A_var', u'B_var', u'C_var', u'D_var', u'E_var', u'F_var', u'G_var'], dtype='object')"
       ]
      },
      {
       "output_type": "stream",
       "stream": "stdout",
       "text": [
        "\n",
        "score:D_purchase:0.927055702918"
       ]
      },
      {
       "output_type": "stream",
       "stream": "stdout",
       "text": [
        "\n",
        "Index([u'shopping_pt', u'day', u'state', u'group_size', u'homeowner', u'car_age', u'car_value', u'risk_factor', u'age_oldest', u'age_youngest', u'married_couple', u'C_previous', u'duration_previous', u'A', u'B', u'C', u'D', u'E', u'F', u'G', u'cost', u'duration_offers', u'A_init', u'B_init', u'C_init', u'D_init', u'E_init', u'F_init', u'G_init', u'A_change', u'B_change', u'C_change', u'D_change', u'E_change', u'F_change', u'G_change', u'A_var', u'B_var', u'C_var', u'D_var', u'E_var', u'F_var', u'G_var'], dtype='object')"
       ]
      },
      {
       "output_type": "stream",
       "stream": "stdout",
       "text": [
        "\n",
        "score:E_purchase:0.936923076923"
       ]
      },
      {
       "output_type": "stream",
       "stream": "stdout",
       "text": [
        "\n",
        "Index([u'shopping_pt', u'day', u'state', u'group_size', u'homeowner', u'car_age', u'car_value', u'risk_factor', u'age_youngest', u'married_couple', u'C_previous', u'duration_previous', u'A', u'B', u'C', u'D', u'E', u'F', u'G', u'cost', u'duration_offers', u'A_init', u'B_init', u'C_init', u'D_init', u'E_init', u'F_init', u'G_init', u'A_change', u'B_change', u'C_change', u'D_change', u'E_change', u'F_change', u'G_change', u'A_var', u'B_var', u'C_var', u'D_var', u'E_var', u'F_var', u'G_var', u'init_cost'], dtype='object')"
       ]
      },
      {
       "output_type": "stream",
       "stream": "stdout",
       "text": [
        "\n",
        "score:F_purchase:0.847108753316"
       ]
      },
      {
       "output_type": "stream",
       "stream": "stdout",
       "text": [
        "\n",
        "Index([u'shopping_pt', u'day', u'state', u'group_size', u'homeowner', u'car_age', u'car_value', u'risk_factor', u'age_youngest', u'married_couple', u'C_previous', u'duration_previous', u'A', u'B', u'C', u'D', u'E', u'F', u'G', u'cost', u'duration_offers', u'A_init', u'B_init', u'C_init', u'D_init', u'E_init', u'F_init', u'G_init', u'A_change', u'B_change', u'C_change', u'D_change', u'E_change', u'F_change', u'G_change', u'A_var', u'B_var', u'C_var', u'D_var', u'E_var', u'F_var', u'G_var', u'init_cost'], dtype='object')"
       ]
      },
      {
       "output_type": "stream",
       "stream": "stdout",
       "text": [
        "\n",
        "score:G_purchase:0.754058355438"
       ]
      },
      {
       "output_type": "stream",
       "stream": "stdout",
       "text": [
        "\n",
        "Index([u'shopping_pt', u'day', u'state', u'group_size', u'homeowner', u'car_age', u'car_value', u'risk_factor', u'age_youngest', u'married_couple', u'C_previous', u'duration_previous', u'A', u'B', u'C', u'D', u'E', u'F', u'G', u'cost', u'duration_offers', u'A_init', u'B_init', u'C_init', u'D_init', u'E_init', u'F_init', u'G_init', u'A_change', u'B_change', u'C_change', u'D_change', u'E_change', u'F_change', u'G_change', u'A_var', u'B_var', u'C_var', u'D_var', u'E_var', u'F_var', u'G_var', u'init_cost'], dtype='object')"
       ]
      },
      {
       "output_type": "stream",
       "stream": "stdout",
       "text": [
        "\n",
        "Number of features:44\n",
        "score:A_purchase:0.906949602122"
       ]
      },
      {
       "output_type": "stream",
       "stream": "stdout",
       "text": [
        "\n",
        "Index([u'shopping_pt', u'day', u'state', u'group_size', u'homeowner', u'car_age', u'car_value', u'risk_factor', u'age_oldest', u'age_youngest', u'married_couple', u'C_previous', u'duration_previous', u'A', u'B', u'C', u'D', u'E', u'F', u'G', u'cost', u'duration_offers', u'A_init', u'B_init', u'C_init', u'D_init', u'E_init', u'F_init', u'G_init', u'A_change', u'B_change', u'C_change', u'D_change', u'E_change', u'F_change', u'G_change', u'A_var', u'B_var', u'C_var', u'D_var', u'E_var', u'F_var', u'G_var', u'init_cost'], dtype='object')"
       ]
      },
      {
       "output_type": "stream",
       "stream": "stdout",
       "text": [
        "\n",
        "score:B_purchase:0.93374005305"
       ]
      },
      {
       "output_type": "stream",
       "stream": "stdout",
       "text": [
        "\n",
        "Index([u'shopping_pt', u'day', u'state', u'group_size', u'homeowner', u'car_age', u'car_value', u'risk_factor', u'age_oldest', u'age_youngest', u'married_couple', u'C_previous', u'duration_previous', u'A', u'B', u'C', u'D', u'E', u'F', u'G', u'cost', u'duration_offers', u'A_init', u'B_init', u'C_init', u'D_init', u'E_init', u'F_init', u'G_init', u'A_change', u'B_change', u'C_change', u'D_change', u'E_change', u'F_change', u'G_change', u'A_var', u'B_var', u'C_var', u'D_var', u'E_var', u'F_var', u'G_var', u'init_cost'], dtype='object')\n",
        "score:C_purchase:0.843236074271"
       ]
      },
      {
       "output_type": "stream",
       "stream": "stdout",
       "text": [
        "\n",
        "Index([u'shopping_pt', u'day', u'state', u'group_size', u'homeowner', u'car_age', u'car_value', u'risk_factor', u'age_oldest', u'age_youngest', u'married_couple', u'C_previous', u'duration_previous', u'A', u'B', u'C', u'D', u'E', u'F', u'G', u'cost', u'duration_offers', u'A_init', u'B_init', u'C_init', u'D_init', u'E_init', u'F_init', u'G_init', u'A_change', u'B_change', u'C_change', u'D_change', u'E_change', u'F_change', u'G_change', u'A_var', u'B_var', u'C_var', u'D_var', u'E_var', u'F_var', u'G_var', u'init_cost'], dtype='object')"
       ]
      },
      {
       "output_type": "stream",
       "stream": "stdout",
       "text": [
        "\n",
        "score:D_purchase:0.92801061008"
       ]
      },
      {
       "output_type": "stream",
       "stream": "stdout",
       "text": [
        "\n",
        "Index([u'shopping_pt', u'day', u'state', u'group_size', u'homeowner', u'car_age', u'car_value', u'risk_factor', u'age_oldest', u'age_youngest', u'married_couple', u'C_previous', u'duration_previous', u'A', u'B', u'C', u'D', u'E', u'F', u'G', u'cost', u'duration_offers', u'A_init', u'B_init', u'C_init', u'D_init', u'E_init', u'F_init', u'G_init', u'A_change', u'B_change', u'C_change', u'D_change', u'E_change', u'F_change', u'G_change', u'A_var', u'B_var', u'C_var', u'D_var', u'E_var', u'F_var', u'G_var', u'init_cost'], dtype='object')"
       ]
      },
      {
       "output_type": "stream",
       "stream": "stdout",
       "text": [
        "\n",
        "score:E_purchase:0.936923076923"
       ]
      },
      {
       "output_type": "stream",
       "stream": "stdout",
       "text": [
        "\n",
        "Index([u'shopping_pt', u'day', u'state', u'group_size', u'homeowner', u'car_age', u'car_value', u'risk_factor', u'age_oldest', u'age_youngest', u'married_couple', u'C_previous', u'duration_previous', u'A', u'B', u'C', u'D', u'E', u'F', u'G', u'cost', u'duration_offers', u'A_init', u'B_init', u'C_init', u'D_init', u'E_init', u'F_init', u'G_init', u'A_change', u'B_change', u'C_change', u'D_change', u'E_change', u'F_change', u'G_change', u'A_var', u'B_var', u'C_var', u'D_var', u'E_var', u'F_var', u'G_var', u'init_cost'], dtype='object')\n",
        "score:F_purchase:0.84700265252"
       ]
      },
      {
       "output_type": "stream",
       "stream": "stdout",
       "text": [
        "\n",
        "Index([u'shopping_pt', u'day', u'state', u'group_size', u'homeowner', u'car_age', u'car_value', u'risk_factor', u'age_oldest', u'age_youngest', u'married_couple', u'C_previous', u'duration_previous', u'A', u'B', u'C', u'D', u'E', u'F', u'G', u'cost', u'duration_offers', u'A_init', u'B_init', u'C_init', u'D_init', u'E_init', u'F_init', u'G_init', u'A_change', u'B_change', u'C_change', u'D_change', u'E_change', u'F_change', u'G_change', u'A_var', u'B_var', u'C_var', u'D_var', u'E_var', u'F_var', u'G_var', u'init_cost'], dtype='object')"
       ]
      },
      {
       "output_type": "stream",
       "stream": "stdout",
       "text": [
        "\n",
        "score:G_purchase:0.753527851459"
       ]
      },
      {
       "output_type": "stream",
       "stream": "stdout",
       "text": [
        "\n",
        "Index([u'shopping_pt', u'day', u'state', u'group_size', u'homeowner', u'car_age', u'car_value', u'risk_factor', u'age_oldest', u'age_youngest', u'married_couple', u'C_previous', u'duration_previous', u'A', u'B', u'C', u'D', u'E', u'F', u'G', u'cost', u'duration_offers', u'A_init', u'B_init', u'C_init', u'D_init', u'E_init', u'F_init', u'G_init', u'A_change', u'B_change', u'C_change', u'D_change', u'E_change', u'F_change', u'G_change', u'A_var', u'B_var', u'C_var', u'D_var', u'E_var', u'F_var', u'G_var', u'init_cost'], dtype='object')"
       ]
      },
      {
       "output_type": "stream",
       "stream": "stdout",
       "text": [
        "\n",
        "Number of features:45\n",
        "score:A_purchase:0.906206896552"
       ]
      },
      {
       "output_type": "stream",
       "stream": "stdout",
       "text": [
        "\n",
        "Index([u'shopping_pt', u'day', u'state', u'group_size', u'homeowner', u'car_age', u'car_value', u'risk_factor', u'age_oldest', u'age_youngest', u'married_couple', u'C_previous', u'duration_previous', u'A', u'B', u'C', u'D', u'E', u'F', u'G', u'cost', u'duration_offers', u'A_init', u'B_init', u'C_init', u'D_init', u'E_init', u'F_init', u'G_init', u'A_change', u'B_change', u'C_change', u'D_change', u'E_change', u'F_change', u'G_change', u'A_var', u'B_var', u'C_var', u'D_var', u'E_var', u'F_var', u'G_var', u'init_cost', u'cost_var'], dtype='object')\n",
        "score:B_purchase:0.93374005305"
       ]
      },
      {
       "output_type": "stream",
       "stream": "stdout",
       "text": [
        "\n",
        "Index([u'shopping_pt', u'day', u'state', u'group_size', u'homeowner', u'car_age', u'car_value', u'risk_factor', u'age_oldest', u'age_youngest', u'married_couple', u'C_previous', u'duration_previous', u'A', u'B', u'C', u'D', u'E', u'F', u'G', u'cost', u'duration_offers', u'A_init', u'B_init', u'C_init', u'D_init', u'E_init', u'F_init', u'G_init', u'A_change', u'B_change', u'C_change', u'D_change', u'E_change', u'F_change', u'G_change', u'A_var', u'B_var', u'C_var', u'D_var', u'E_var', u'F_var', u'G_var', u'init_cost', u'cost_var'], dtype='object')\n",
        "score:C_purchase:0.844084880637"
       ]
      },
      {
       "output_type": "stream",
       "stream": "stdout",
       "text": [
        "\n",
        "Index([u'shopping_pt', u'day', u'state', u'group_size', u'homeowner', u'car_age', u'car_value', u'risk_factor', u'age_oldest', u'age_youngest', u'married_couple', u'C_previous', u'duration_previous', u'A', u'B', u'C', u'D', u'E', u'F', u'G', u'cost', u'duration_offers', u'A_init', u'B_init', u'C_init', u'D_init', u'E_init', u'F_init', u'G_init', u'A_change', u'B_change', u'C_change', u'D_change', u'E_change', u'F_change', u'G_change', u'A_var', u'B_var', u'C_var', u'D_var', u'E_var', u'F_var', u'G_var', u'init_cost', u'cost_var'], dtype='object')"
       ]
      },
      {
       "output_type": "stream",
       "stream": "stdout",
       "text": [
        "\n",
        "score:D_purchase:0.927798408488"
       ]
      },
      {
       "output_type": "stream",
       "stream": "stdout",
       "text": [
        "\n",
        "Index([u'shopping_pt', u'day', u'state', u'group_size', u'homeowner', u'car_age', u'car_value', u'risk_factor', u'age_oldest', u'age_youngest', u'married_couple', u'C_previous', u'duration_previous', u'A', u'B', u'C', u'D', u'E', u'F', u'G', u'cost', u'duration_offers', u'A_init', u'B_init', u'C_init', u'D_init', u'E_init', u'F_init', u'G_init', u'A_change', u'B_change', u'C_change', u'D_change', u'E_change', u'F_change', u'G_change', u'A_var', u'B_var', u'C_var', u'D_var', u'E_var', u'F_var', u'G_var', u'init_cost', u'cost_var'], dtype='object')\n",
        "score:E_purchase:0.936923076923"
       ]
      },
      {
       "output_type": "stream",
       "stream": "stdout",
       "text": [
        "\n",
        "Index([u'shopping_pt', u'day', u'state', u'group_size', u'homeowner', u'car_age', u'car_value', u'risk_factor', u'age_oldest', u'age_youngest', u'married_couple', u'C_previous', u'duration_previous', u'A', u'B', u'C', u'D', u'E', u'F', u'G', u'cost', u'duration_offers', u'A_init', u'B_init', u'C_init', u'D_init', u'E_init', u'F_init', u'G_init', u'A_change', u'B_change', u'C_change', u'D_change', u'E_change', u'F_change', u'G_change', u'A_var', u'B_var', u'C_var', u'D_var', u'E_var', u'F_var', u'G_var', u'init_cost', u'cost_var'], dtype='object')\n",
        "score:F_purchase:0.847320954907"
       ]
      },
      {
       "output_type": "stream",
       "stream": "stdout",
       "text": [
        "\n",
        "Index([u'shopping_pt', u'day', u'state', u'group_size', u'homeowner', u'car_age', u'car_value', u'risk_factor', u'age_oldest', u'age_youngest', u'married_couple', u'C_previous', u'duration_previous', u'A', u'B', u'C', u'D', u'E', u'F', u'G', u'cost', u'duration_offers', u'A_init', u'B_init', u'C_init', u'D_init', u'E_init', u'F_init', u'G_init', u'A_change', u'B_change', u'C_change', u'D_change', u'E_change', u'F_change', u'G_change', u'A_var', u'B_var', u'C_var', u'D_var', u'E_var', u'F_var', u'G_var', u'init_cost', u'cost_var'], dtype='object')"
       ]
      },
      {
       "output_type": "stream",
       "stream": "stdout",
       "text": [
        "\n",
        "score:G_purchase:0.750610079576"
       ]
      },
      {
       "output_type": "stream",
       "stream": "stdout",
       "text": [
        "\n",
        "Index([u'shopping_pt', u'day', u'state', u'location', u'group_size', u'homeowner', u'car_age', u'car_value', u'risk_factor', u'age_oldest', u'age_youngest', u'married_couple', u'C_previous', u'duration_previous', u'A', u'B', u'C', u'D', u'E', u'F', u'G', u'cost', u'duration_offers', u'A_init', u'B_init', u'C_init', u'D_init', u'E_init', u'F_init', u'G_init', u'A_change', u'B_change', u'C_change', u'D_change', u'E_change', u'F_change', u'G_change', u'A_var', u'B_var', u'C_var', u'D_var', u'E_var', u'F_var', u'G_var', u'init_cost'], dtype='object')\n",
        "Number of features:46"
       ]
      },
      {
       "output_type": "stream",
       "stream": "stdout",
       "text": [
        "\n",
        "score:A_purchase:0.90100795756"
       ]
      },
      {
       "output_type": "stream",
       "stream": "stdout",
       "text": [
        "\n",
        "Index([u'shopping_pt', u'day', u'state', u'location', u'group_size', u'homeowner', u'car_age', u'car_value', u'risk_factor', u'age_oldest', u'age_youngest', u'married_couple', u'C_previous', u'duration_previous', u'A', u'B', u'C', u'D', u'E', u'F', u'G', u'cost', u'duration_offers', u'A_init', u'B_init', u'C_init', u'D_init', u'E_init', u'F_init', u'G_init', u'A_change', u'B_change', u'C_change', u'D_change', u'E_change', u'F_change', u'G_change', u'A_var', u'B_var', u'C_var', u'D_var', u'E_var', u'F_var', u'G_var', u'init_cost', u'cost_var'], dtype='object')\n",
        "score:B_purchase:0.93374005305"
       ]
      },
      {
       "output_type": "stream",
       "stream": "stdout",
       "text": [
        "\n",
        "Index([u'shopping_pt', u'day', u'state', u'location', u'group_size', u'homeowner', u'car_age', u'car_value', u'risk_factor', u'age_oldest', u'age_youngest', u'married_couple', u'C_previous', u'duration_previous', u'A', u'B', u'C', u'D', u'E', u'F', u'G', u'cost', u'duration_offers', u'A_init', u'B_init', u'C_init', u'D_init', u'E_init', u'F_init', u'G_init', u'A_change', u'B_change', u'C_change', u'D_change', u'E_change', u'F_change', u'G_change', u'A_var', u'B_var', u'C_var', u'D_var', u'E_var', u'F_var', u'G_var', u'init_cost', u'cost_var'], dtype='object')\n",
        "score:C_purchase:0.80848806366"
       ]
      },
      {
       "output_type": "stream",
       "stream": "stdout",
       "text": [
        "\n",
        "Index([u'shopping_pt', u'day', u'state', u'location', u'group_size', u'homeowner', u'car_age', u'car_value', u'risk_factor', u'age_oldest', u'age_youngest', u'married_couple', u'C_previous', u'duration_previous', u'A', u'B', u'C', u'D', u'E', u'F', u'G', u'cost', u'duration_offers', u'A_init', u'B_init', u'C_init', u'D_init', u'E_init', u'F_init', u'G_init', u'A_change', u'B_change', u'C_change', u'D_change', u'E_change', u'F_change', u'G_change', u'A_var', u'B_var', u'C_var', u'D_var', u'E_var', u'F_var', u'G_var', u'init_cost', u'cost_var'], dtype='object')\n",
        "score:D_purchase:0.916870026525"
       ]
      },
      {
       "output_type": "stream",
       "stream": "stdout",
       "text": [
        "\n",
        "Index([u'shopping_pt', u'day', u'state', u'location', u'group_size', u'homeowner', u'car_age', u'car_value', u'risk_factor', u'age_oldest', u'age_youngest', u'married_couple', u'C_previous', u'duration_previous', u'A', u'B', u'C', u'D', u'E', u'F', u'G', u'cost', u'duration_offers', u'A_init', u'B_init', u'C_init', u'D_init', u'E_init', u'F_init', u'G_init', u'A_change', u'B_change', u'C_change', u'D_change', u'E_change', u'F_change', u'G_change', u'A_var', u'B_var', u'C_var', u'D_var', u'E_var', u'F_var', u'G_var', u'init_cost', u'cost_var'], dtype='object')\n",
        "score:E_purchase:0.936976127321"
       ]
      },
      {
       "output_type": "stream",
       "stream": "stdout",
       "text": [
        "\n",
        "Index([u'shopping_pt', u'day', u'state', u'location', u'group_size', u'homeowner', u'car_age', u'car_value', u'risk_factor', u'age_oldest', u'age_youngest', u'married_couple', u'C_previous', u'duration_previous', u'A', u'B', u'C', u'D', u'E', u'F', u'G', u'cost', u'duration_offers', u'A_init', u'B_init', u'C_init', u'D_init', u'E_init', u'F_init', u'G_init', u'A_change', u'B_change', u'C_change', u'D_change', u'E_change', u'F_change', u'G_change', u'A_var', u'B_var', u'C_var', u'D_var', u'E_var', u'F_var', u'G_var', u'init_cost', u'cost_var'], dtype='object')\n",
        "score:F_purchase:0.848328912467"
       ]
      },
      {
       "output_type": "stream",
       "stream": "stdout",
       "text": [
        "\n",
        "Index([u'shopping_pt', u'day', u'state', u'location', u'group_size', u'homeowner', u'car_age', u'car_value', u'risk_factor', u'age_oldest', u'age_youngest', u'married_couple', u'C_previous', u'duration_previous', u'A', u'B', u'C', u'D', u'E', u'F', u'G', u'cost', u'duration_offers', u'A_init', u'B_init', u'C_init', u'D_init', u'E_init', u'F_init', u'G_init', u'A_change', u'B_change', u'C_change', u'D_change', u'E_change', u'F_change', u'G_change', u'A_var', u'B_var', u'C_var', u'D_var', u'E_var', u'F_var', u'G_var', u'init_cost', u'cost_var'], dtype='object')\n",
        "score:G_purchase:0.743448275862"
       ]
      },
      {
       "output_type": "stream",
       "stream": "stdout",
       "text": [
        "\n",
        "Index([u'shopping_pt', u'day', u'state', u'location', u'group_size', u'homeowner', u'car_age', u'car_value', u'risk_factor', u'age_oldest', u'age_youngest', u'married_couple', u'C_previous', u'duration_previous', u'A', u'B', u'C', u'D', u'E', u'F', u'G', u'cost', u'duration_offers', u'A_init', u'B_init', u'C_init', u'D_init', u'E_init', u'F_init', u'G_init', u'A_change', u'B_change', u'C_change', u'D_change', u'E_change', u'F_change', u'G_change', u'A_var', u'B_var', u'C_var', u'D_var', u'E_var', u'F_var', u'G_var', u'init_cost', u'cost_var'], dtype='object')\n",
        "Number of features:47\n",
        "score:A_purchase:0.896021220159"
       ]
      },
      {
       "output_type": "stream",
       "stream": "stdout",
       "text": [
        "\n",
        "Index([u'shopping_pt', u'record_type', u'day', u'state', u'location', u'group_size', u'homeowner', u'car_age', u'car_value', u'risk_factor', u'age_oldest', u'age_youngest', u'married_couple', u'C_previous', u'duration_previous', u'A', u'B', u'C', u'D', u'E', u'F', u'G', u'cost', u'duration_offers', u'A_init', u'B_init', u'C_init', u'D_init', u'E_init', u'F_init', u'G_init', u'A_change', u'B_change', u'C_change', u'D_change', u'E_change', u'F_change', u'G_change', u'A_var', u'B_var', u'C_var', u'D_var', u'E_var', u'F_var', u'G_var', u'init_cost', u'cost_var'], dtype='object')\n",
        "score:B_purchase:0.93374005305"
       ]
      },
      {
       "output_type": "stream",
       "stream": "stdout",
       "text": [
        "\n",
        "Index([u'shopping_pt', u'record_type', u'day', u'state', u'location', u'group_size', u'homeowner', u'car_age', u'car_value', u'risk_factor', u'age_oldest', u'age_youngest', u'married_couple', u'C_previous', u'duration_previous', u'A', u'B', u'C', u'D', u'E', u'F', u'G', u'cost', u'duration_offers', u'A_init', u'B_init', u'C_init', u'D_init', u'E_init', u'F_init', u'G_init', u'A_change', u'B_change', u'C_change', u'D_change', u'E_change', u'F_change', u'G_change', u'A_var', u'B_var', u'C_var', u'D_var', u'E_var', u'F_var', u'G_var', u'init_cost', u'cost_var'], dtype='object')\n",
        "score:C_purchase:0.831936339523"
       ]
      },
      {
       "output_type": "stream",
       "stream": "stdout",
       "text": [
        "\n",
        "Index([u'shopping_pt', u'record_type', u'day', u'state', u'location', u'group_size', u'homeowner', u'car_age', u'car_value', u'risk_factor', u'age_oldest', u'age_youngest', u'married_couple', u'C_previous', u'duration_previous', u'A', u'B', u'C', u'D', u'E', u'F', u'G', u'cost', u'duration_offers', u'A_init', u'B_init', u'C_init', u'D_init', u'E_init', u'F_init', u'G_init', u'A_change', u'B_change', u'C_change', u'D_change', u'E_change', u'F_change', u'G_change', u'A_var', u'B_var', u'C_var', u'D_var', u'E_var', u'F_var', u'G_var', u'init_cost', u'cost_var'], dtype='object')\n",
        "score:D_purchase:0.903554376658"
       ]
      },
      {
       "output_type": "stream",
       "stream": "stdout",
       "text": [
        "\n",
        "Index([u'shopping_pt', u'record_type', u'day', u'state', u'location', u'group_size', u'homeowner', u'car_age', u'car_value', u'risk_factor', u'age_oldest', u'age_youngest', u'married_couple', u'C_previous', u'duration_previous', u'A', u'B', u'C', u'D', u'E', u'F', u'G', u'cost', u'duration_offers', u'A_init', u'B_init', u'C_init', u'D_init', u'E_init', u'F_init', u'G_init', u'A_change', u'B_change', u'C_change', u'D_change', u'E_change', u'F_change', u'G_change', u'A_var', u'B_var', u'C_var', u'D_var', u'E_var', u'F_var', u'G_var', u'init_cost', u'cost_var'], dtype='object')\n",
        "score:E_purchase:0.936976127321"
       ]
      },
      {
       "output_type": "stream",
       "stream": "stdout",
       "text": [
        "\n",
        "Index([u'shopping_pt', u'record_type', u'day', u'state', u'location', u'group_size', u'homeowner', u'car_age', u'car_value', u'risk_factor', u'age_oldest', u'age_youngest', u'married_couple', u'C_previous', u'duration_previous', u'A', u'B', u'C', u'D', u'E', u'F', u'G', u'cost', u'duration_offers', u'A_init', u'B_init', u'C_init', u'D_init', u'E_init', u'F_init', u'G_init', u'A_change', u'B_change', u'C_change', u'D_change', u'E_change', u'F_change', u'G_change', u'A_var', u'B_var', u'C_var', u'D_var', u'E_var', u'F_var', u'G_var', u'init_cost', u'cost_var'], dtype='object')\n",
        "score:F_purchase:0.845145888594"
       ]
      },
      {
       "output_type": "stream",
       "stream": "stdout",
       "text": [
        "\n",
        "Index([u'shopping_pt', u'record_type', u'day', u'state', u'location', u'group_size', u'homeowner', u'car_age', u'car_value', u'risk_factor', u'age_oldest', u'age_youngest', u'married_couple', u'C_previous', u'duration_previous', u'A', u'B', u'C', u'D', u'E', u'F', u'G', u'cost', u'duration_offers', u'A_init', u'B_init', u'C_init', u'D_init', u'E_init', u'F_init', u'G_init', u'A_change', u'B_change', u'C_change', u'D_change', u'E_change', u'F_change', u'G_change', u'A_var', u'B_var', u'C_var', u'D_var', u'E_var', u'F_var', u'G_var', u'init_cost', u'cost_var'], dtype='object')\n",
        "score:G_purchase:0.751777188329"
       ]
      },
      {
       "output_type": "stream",
       "stream": "stdout",
       "text": [
        "\n",
        "Index([u'shopping_pt', u'record_type', u'day', u'state', u'location', u'group_size', u'homeowner', u'car_age', u'car_value', u'risk_factor', u'age_oldest', u'age_youngest', u'married_couple', u'C_previous', u'duration_previous', u'A', u'B', u'C', u'D', u'E', u'F', u'G', u'cost', u'duration_offers', u'A_init', u'B_init', u'C_init', u'D_init', u'E_init', u'F_init', u'G_init', u'A_change', u'B_change', u'C_change', u'D_change', u'E_change', u'F_change', u'G_change', u'A_var', u'B_var', u'C_var', u'D_var', u'E_var', u'F_var', u'G_var', u'init_cost', u'cost_var'], dtype='object')\n",
        "Number of features:48\n",
        "score:A_purchase:0.898514588859"
       ]
      },
      {
       "output_type": "stream",
       "stream": "stdout",
       "text": [
        "\n",
        "Index([u'shopping_pt', u'record_type', u'day', u'state', u'location', u'group_size', u'homeowner', u'car_age', u'car_value', u'risk_factor', u'age_oldest', u'age_youngest', u'married_couple', u'C_previous', u'duration_previous', u'A', u'B', u'C', u'D', u'E', u'F', u'G', u'cost', u'duration_offers', u'A_init', u'B_init', u'C_init', u'D_init', u'E_init', u'F_init', u'G_init', u'A_change', u'B_change', u'C_change', u'D_change', u'E_change', u'F_change', u'G_change', u'A_var', u'B_var', u'C_var', u'D_var', u'E_var', u'F_var', u'G_var', u'init_cost', u'cost_var'], dtype='object')\n",
        "score:B_purchase:0.93374005305"
       ]
      },
      {
       "output_type": "stream",
       "stream": "stdout",
       "text": [
        "\n",
        "Index([u'shopping_pt', u'record_type', u'day', u'state', u'location', u'group_size', u'homeowner', u'car_age', u'car_value', u'risk_factor', u'age_oldest', u'age_youngest', u'married_couple', u'C_previous', u'duration_previous', u'A', u'B', u'C', u'D', u'E', u'F', u'G', u'cost', u'duration_offers', u'A_init', u'B_init', u'C_init', u'D_init', u'E_init', u'F_init', u'G_init', u'A_change', u'B_change', u'C_change', u'D_change', u'E_change', u'F_change', u'G_change', u'A_var', u'B_var', u'C_var', u'D_var', u'E_var', u'F_var', u'G_var', u'init_cost', u'cost_var'], dtype='object')\n",
        "score:C_purchase:0.809867374005"
       ]
      },
      {
       "output_type": "stream",
       "stream": "stdout",
       "text": [
        "\n",
        "Index([u'shopping_pt', u'record_type', u'day', u'state', u'location', u'group_size', u'homeowner', u'car_age', u'car_value', u'risk_factor', u'age_oldest', u'age_youngest', u'married_couple', u'C_previous', u'duration_previous', u'A', u'B', u'C', u'D', u'E', u'F', u'G', u'cost', u'duration_offers', u'A_init', u'B_init', u'C_init', u'D_init', u'E_init', u'F_init', u'G_init', u'A_change', u'B_change', u'C_change', u'D_change', u'E_change', u'F_change', u'G_change', u'A_var', u'B_var', u'C_var', u'D_var', u'E_var', u'F_var', u'G_var', u'init_cost', u'cost_var'], dtype='object')\n",
        "score:D_purchase:0.903554376658"
       ]
      },
      {
       "output_type": "stream",
       "stream": "stdout",
       "text": [
        "\n",
        "Index([u'shopping_pt', u'record_type', u'day', u'state', u'location', u'group_size', u'homeowner', u'car_age', u'car_value', u'risk_factor', u'age_oldest', u'age_youngest', u'married_couple', u'C_previous', u'duration_previous', u'A', u'B', u'C', u'D', u'E', u'F', u'G', u'cost', u'duration_offers', u'A_init', u'B_init', u'C_init', u'D_init', u'E_init', u'F_init', u'G_init', u'A_change', u'B_change', u'C_change', u'D_change', u'E_change', u'F_change', u'G_change', u'A_var', u'B_var', u'C_var', u'D_var', u'E_var', u'F_var', u'G_var', u'init_cost', u'cost_var'], dtype='object')\n",
        "score:E_purchase:0.936923076923"
       ]
      },
      {
       "output_type": "stream",
       "stream": "stdout",
       "text": [
        "\n",
        "Index([u'shopping_pt', u'record_type', u'day', u'state', u'location', u'group_size', u'homeowner', u'car_age', u'car_value', u'risk_factor', u'age_oldest', u'age_youngest', u'married_couple', u'C_previous', u'duration_previous', u'A', u'B', u'C', u'D', u'E', u'F', u'G', u'cost', u'duration_offers', u'A_init', u'B_init', u'C_init', u'D_init', u'E_init', u'F_init', u'G_init', u'A_change', u'B_change', u'C_change', u'D_change', u'E_change', u'F_change', u'G_change', u'A_var', u'B_var', u'C_var', u'D_var', u'E_var', u'F_var', u'G_var', u'init_cost', u'cost_var'], dtype='object')\n",
        "score:F_purchase:0.844774535809"
       ]
      },
      {
       "output_type": "stream",
       "stream": "stdout",
       "text": [
        "\n",
        "Index([u'shopping_pt', u'record_type', u'day', u'state', u'location', u'group_size', u'homeowner', u'car_age', u'car_value', u'risk_factor', u'age_oldest', u'age_youngest', u'married_couple', u'C_previous', u'duration_previous', u'A', u'B', u'C', u'D', u'E', u'F', u'G', u'cost', u'duration_offers', u'A_init', u'B_init', u'C_init', u'D_init', u'E_init', u'F_init', u'G_init', u'A_change', u'B_change', u'C_change', u'D_change', u'E_change', u'F_change', u'G_change', u'A_var', u'B_var', u'C_var', u'D_var', u'E_var', u'F_var', u'G_var', u'init_cost', u'cost_var'], dtype='object')\n",
        "score:G_purchase:0.736551724138"
       ]
      },
      {
       "output_type": "stream",
       "stream": "stdout",
       "text": [
        "\n",
        "Index([u'shopping_pt', u'record_type', u'day', u'state', u'location', u'group_size', u'homeowner', u'car_age', u'car_value', u'risk_factor', u'age_oldest', u'age_youngest', u'married_couple', u'C_previous', u'duration_previous', u'A', u'B', u'C', u'D', u'E', u'F', u'G', u'cost', u'duration_offers', u'A_init', u'B_init', u'C_init', u'D_init', u'E_init', u'F_init', u'G_init', u'A_change', u'B_change', u'C_change', u'D_change', u'E_change', u'F_change', u'G_change', u'A_var', u'B_var', u'C_var', u'D_var', u'E_var', u'F_var', u'G_var', u'init_cost', u'cost_var'], dtype='object')\n"
       ]
      }
     ],
     "prompt_number": 1
    },
    {
     "cell_type": "code",
     "collapsed": false,
     "input": [
      "import pylab as pl\n",
      "% pylab inline\n",
      "print modelGScores.values()\n",
      "pl.plot(modelAScores.keys(), modelAScores.values())"
     ],
     "language": "python",
     "metadata": {},
     "outputs": [
      {
       "output_type": "stream",
       "stream": "stdout",
       "text": [
        "Populating the interactive namespace from numpy and matplotlib\n",
        "[0.80233421750663125, 0.80233421750663125, 0.810185676392573, 0.81013262599469493, 0.80710875331564991, 0.80694960212201594, 0.7861538461538462, 0.7749602122015915, 0.77665782493368696, 0.77533156498673739, 0.77506631299734752, 0.77278514588859415, 0.77294429708222812, 0.76891246684350134, 0.76753315649867371, 0.76710875331564987, 0.76838196286472149, 0.76785145888594164, 0.76748010610079576, 0.76700265251989386, 0.7674270557029178, 0.76679045092838194, 0.76705570291777192, 0.76700265251989386, 0.76710875331564987, 0.76705570291777192, 0.76599469496021222, 0.76795755968169765, 0.76832891246684354, 0.76832891246684354, 0.76779840848806369, 0.76668435013262604, 0.76801061007957561, 0.76822281167108752, 0.76801061007957561, 0.7550663129973475, 0.75485411140583558, 0.75411140583554381, 0.75485411140583558, 0.75411140583554381, 0.75490716180371353, 0.75453580901856765, 0.75405835543766575, 0.7535278514588859, 0.75061007957559678, 0.74344827586206896, 0.75177718832891249, 0.73655172413793102]\n"
       ]
      },
      {
       "metadata": {},
       "output_type": "pyout",
       "prompt_number": 2,
       "text": [
        "[<matplotlib.lines.Line2D at 0x1027ea2d0>]"
       ]
      },
      {
       "metadata": {},
       "output_type": "display_data",
       "png": "[encoded data removed]",
       "text": [
        "<matplotlib.figure.Figure at 0x1025faf90>"
       ]
      }
     ],
     "prompt_number": 2
    },
    {
     "cell_type": "code",
     "collapsed": false,
     "input": [],
     "language": "python",
     "metadata": {},
     "outputs": []
    }
   ],
   "metadata": {}
  }
 ]
}