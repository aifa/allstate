{
 "metadata": {
  "name": ""
 },
 "nbformat": 3,
 "nbformat_minor": 0,
 "worksheets": [
  {
   "cells": [
    {
     "cell_type": "code",
     "collapsed": false,
     "input": [
      "__author__ = 'aifa'\n",
      "\n",
      "import os\n",
      "import pandas as pd\n",
      "import numpy as np\n",
      "import pylab as pl\n",
      "\n",
      "from sklearn import clone\n",
      "\n",
      "from sklearn.ensemble.weight_boosting import AdaBoostClassifier\n",
      "from sklearn.ensemble.forest import (RandomForestClassifier,RandomForestRegressor,\n",
      "                                        ExtraTreesClassifier)\n",
      "\n",
      "from sklearn.linear_model import LogisticRegression\n",
      "from sklearn import svm\n",
      "\n",
      "import math as math\n",
      "from sklearn.externals.six.moves import xrange\n",
      "from sklearn.tree import DecisionTreeClassifier\n",
      "\n",
      "from sklearn.svm import SVR\n",
      "from sklearn.cross_validation import StratifiedKFold\n",
      "\n",
      "from sklearn.feature_selection import RFE\n",
      "from sklearn.pipeline import Pipeline\n",
      "\n",
      "train_sets={}\n",
      "train_1 = pd.read_csv(\"/Users/aifa/Dropbox/kaggle/insurance/future/train_all_split_1.csv\", header=0, encoding=\"UTF-8\", error_bad_lines=False, sep=\",\", index_col=0)\n",
      "train_sets[1]=train_1\n",
      "train_2 = pd.read_csv(\"/Users/aifa/Dropbox/kaggle/insurance/future/train_all_split_2.csv\", header=0, encoding=\"UTF-8\", error_bad_lines=False, sep=\",\", index_col=0)\n",
      "train_sets[2]=train_2\n",
      "train_3 = pd.read_csv(\"/Users/aifa/Dropbox/kaggle/insurance/future/train_all_split_3.csv\", header=0, encoding=\"UTF-8\", error_bad_lines=False, sep=\",\", index_col=0)\n",
      "train_sets[3]=train_3\n",
      "train_4 = pd.read_csv(\"/Users/aifa/Dropbox/kaggle/insurance/future/train_all_split_4.csv\", header=0, encoding=\"UTF-8\", error_bad_lines=False, sep=\",\", index_col=0)\n",
      "train_sets[4]=train_4\n",
      "train_5 = pd.read_csv(\"/Users/aifa/Dropbox/kaggle/insurance/future/train_all_split_5.csv\", header=0, encoding=\"UTF-8\", error_bad_lines=False, sep=\",\", index_col=0)\n",
      "train_sets[5]=train_5\n",
      "train_6 = pd.read_csv(\"/Users/aifa/Dropbox/kaggle/insurance/future/train_all_split_6.csv\", header=0, encoding=\"UTF-8\", error_bad_lines=False, sep=\",\", index_col=0)\n",
      "train_sets[6]=train_6\n",
      "train_7 = pd.read_csv(\"/Users/aifa/Dropbox/kaggle/insurance/future/train_all_split_7.csv\", header=0, encoding=\"UTF-8\", error_bad_lines=False, sep=\",\", index_col=0)\n",
      "train_sets[7]=train_7\n",
      "train_8 = pd.read_csv(\"/Users/aifa/Dropbox/kaggle/insurance/future/train_all_split_8.csv\", header=0, encoding=\"UTF-8\", error_bad_lines=False, sep=\",\", index_col=0)\n",
      "train_sets[8]=train_8\n",
      "train_9 = pd.read_csv(\"/Users/aifa/Dropbox/kaggle/insurance/future/train_all_split_9.csv\", header=0, encoding=\"UTF-8\", error_bad_lines=False, sep=\",\", index_col=0)\n",
      "train_sets[9]=train_9\n",
      "train_10 = pd.read_csv(\"/Users/aifa/Dropbox/kaggle/insurance/future/train_all_split_10.csv\", header=0, encoding=\"UTF-8\", error_bad_lines=False, sep=\",\", index_col=0)\n",
      "train_sets[10]=train_10\n",
      "train_11 = pd.read_csv(\"/Users/aifa/Dropbox/kaggle/insurance/future/train_all_split_11.csv\", header=0, encoding=\"UTF-8\", error_bad_lines=False, sep=\",\", index_col=0)\n",
      "train_sets[11]=train_11\n",
      "train_12 = pd.read_csv(\"/Users/aifa/Dropbox/kaggle/insurance/future/train_all_split_12.csv\", header=0, encoding=\"UTF-8\", error_bad_lines=False, sep=\",\", index_col=0)\n",
      "train_sets[12]=train_12\n",
      "\n",
      "test_2 = pd.read_csv(\"/Users/aifa/Dropbox/kaggle/insurance/future/test_v2_all_future.csv\", header=0, encoding=\"UTF-8\", error_bad_lines=False, sep=\",\", index_col=0)\n",
      "\n",
      "\n",
      "results_df = pd.DataFrame(index=test_2.index)\n",
      "resultCol = pd.Series(index=test_2.index,dtype=object)\n",
      "\n",
      "#try random forest on feature A\n",
      "n_estimators = 100\n",
      "\n",
      "rfcModel = RandomForestClassifier(n_estimators=n_estimators, max_features=None)\n",
      "rfrmodel = RandomForestRegressor(n_estimators=n_estimators)\n",
      "lr = LogisticRegression()\n",
      "\n",
      "\n",
      "#svr =  SVR(C=1.0, epsilon=0.2)\n",
      "#C = 10.0  # SVM regularization parameter\n",
      "#svc = svm.SVC(kernel='linear', C=C)\n",
      "#rbf_svc = svm.SVC(kernel='rbf', gamma=0.7, C=C)\n",
      "#poly_svc = svm.SVC(kernel='poly', degree=3, C=C)\n",
      "\n",
      "def cleanup(df):\n",
      "\n",
      "    #find columns that contain null values\n",
      "    inds = pd.isnull(df).any(0).nonzero()\n",
      "\n",
      "    df['car_value'] = df['car_value'].fillna('0')\n",
      "    df['car_value']=df['car_value'].apply(lambda letter :  abs(ord(letter) - 96))\n",
      "    df['state']=df['state'].apply(lambda letter :  abs(ord(letter[0]) - 96 + ord(letter[1]) - 96))\n",
      "\n",
      "    #remove product feature\n",
      "    #df=df.drop(['product'], axis=1)\n",
      "    #df=df.drop(['state'], axis=1)\n",
      "    #df=df.drop(['location'], axis=1)\n",
      "    df=df.drop(['time'], axis=1)\n",
      "\n",
      "    #impute the null values\n",
      "    df['risk_factor'] = df['risk_factor'].fillna(0)\n",
      "    df['C_previous'] = df['C_previous'].fillna(0)\n",
      "    df['duration_previous'] = df['duration_previous'].fillna(0)\n",
      "    df['location'] = df['location'].fillna(0)\n",
      "\n",
      "    df['A_var'] = df['A_var'].fillna(0)\n",
      "    df['B_var'] = df['B_var'].fillna(0)\n",
      "    df['C_var'] = df['C_var'].fillna(0)\n",
      "    df['D_var'] = df['D_var'].fillna(0)\n",
      "    df['E_var'] = df['E_var'].fillna(0)\n",
      "    df['F_var'] = df['F_var'].fillna(0)\n",
      "    df['G_var'] = df['G_var'].fillna(0)\n",
      "    df['cost_var'] = df['cost_var'].fillna(0)\n",
      "    #drop any other rows that might contain null values (at this point only lines with empty key cols should be removed from the training sets)\n",
      "    df=df.dropna()\n",
      "\n",
      "    return df\n",
      "\n",
      "def cleanup_test(df):\n",
      "\n",
      "    #find columns that contain null values\n",
      "    inds = pd.isnull(df).any(0).nonzero()\n",
      "\n",
      "    df['car_value'] = df['car_value'].fillna('0')\n",
      "    df['car_value']=df['car_value'].apply(lambda letter :  abs(ord(letter) - 96))\n",
      "    df['state']=df['state'].apply(lambda letter :  abs(ord(letter[0]) - 96 + ord(letter[1]) - 96))\n",
      "\n",
      "    #remove product feature\n",
      "    #df=df.drop(['product'], axis=1)\n",
      "    #df=df.drop(['state'], axis=1)\n",
      "    #df=df.drop(['location'], axis=1)\n",
      "    df=df.drop(['time'], axis=1)\n",
      "    \n",
      "    #impute the null values\n",
      "    df['risk_factor'] = df['risk_factor'].fillna(0)\n",
      "    df['C_previous'] = df['C_previous'].fillna(0)\n",
      "    df['duration_previous'] = df['duration_previous'].fillna(0)\n",
      "    df['location'] = df['location'].fillna(0)\n",
      "\n",
      "    df['A_var'] = df['A_var'].fillna(0)\n",
      "    df['B_var'] = df['B_var'].fillna(0)\n",
      "    df['C_var'] = df['C_var'].fillna(0)\n",
      "    df['D_var'] = df['D_var'].fillna(0)\n",
      "    df['E_var'] = df['E_var'].fillna(0)\n",
      "    df['F_var'] = df['F_var'].fillna(0)\n",
      "    df['G_var'] = df['G_var'].fillna(0)\n",
      "    df['cost_var'] = df['cost_var'].fillna(0)\n",
      "\n",
      "    return df\n",
      "\n",
      "def train_model(train_df, select_model, model, feature_number=1, yName='A_purchase'):\n",
      "    input_df = train_df.copy(deep=True)\n",
      "    y = input_df[yName].values\n",
      "    \n",
      "    input_df=input_df.drop(['total_offers'], axis=1)\n",
      "    input_df=input_df.drop(['A_purchase'], axis=1)\n",
      "    input_df=input_df.drop(['B_purchase'], axis=1)\n",
      "    input_df=input_df.drop(['C_purchase'], axis=1)\n",
      "    input_df=input_df.drop(['D_purchase'], axis=1)\n",
      "    input_df=input_df.drop(['E_purchase'], axis=1)\n",
      "    input_df=input_df.drop(['F_purchase'], axis=1)\n",
      "    input_df=input_df.drop(['G_purchase'], axis=1)\n",
      "\n",
      "    #if (yName=='G_purchase'):\n",
      "    #    input_df=input_df.drop(['C_previous'], axis=1)\n",
      "\n",
      "\n",
      "    X = input_df.values\n",
      "\n",
      "    skf=StratifiedKFold(y, n_folds=3 )\n",
      "\n",
      "    best_model=None\n",
      "    best_model_score=0\n",
      "    for train_index, test_index in skf:\n",
      "        #print(\"TRAIN:\", train_index, \"TEST:\", test_index)\n",
      "        X_train, X_test = X[train_index], X[test_index]\n",
      "        y_train, y_test = y[train_index], y[test_index]\n",
      "        \n",
      "        selector = RFE(select_model, step=1, n_features_to_select=feature_number)\n",
      "        clf = clone(model)\n",
      "        pipeline = Pipeline([('rfe', selector), ('lr', clf)])\n",
      "        pipeline = pipeline.fit(X_train, y_train)\n",
      "\n",
      "        print \"score:\"+ yName +\":\"+str(pipeline.score(X_test,y_test))\n",
      "\n",
      "        if best_model==None or best_model_score<pipeline.score(X_test, y_test):\n",
      "            best_model=pipeline\n",
      "            best_model_score=pipeline.score(X_test, y_test)\n",
      "        break\n",
      "\n",
      "    trained_model = best_model\n",
      "    \n",
      "    idx=0\n",
      "    for i in input_df.columns:\n",
      "        if (selector.support_[idx]==False):\n",
      "            input_df=input_df.drop([i], axis=1)\n",
      "        idx += 1\n",
      "    \n",
      "    print input_df.columns\n",
      "    return trained_model, best_model_score\n",
      "\n",
      "def predict(test_2_df, model, prodStr='A_purchase'):\n",
      "\n",
      "    test_df = test_2_df.copy(deep=True)\n",
      "    test_y = test_df[prodStr]\n",
      "\n",
      "    if prodStr=='total_offers':\n",
      "        test_df=test_df.drop([prodStr])\n",
      "    else:\n",
      "        test_df=test_df.drop(['A_purchase'])\n",
      "        test_df=test_df.drop(['B_purchase'])\n",
      "        test_df=test_df.drop(['C_purchase'])\n",
      "        test_df=test_df.drop(['D_purchase'])\n",
      "        test_df=test_df.drop(['E_purchase'])\n",
      "        test_df=test_df.drop(['F_purchase'])\n",
      "        test_df=test_df.drop(['G_purchase'])\n",
      "\n",
      "    if (prodStr=='G_purchase'):\n",
      "        test_df=test_df.drop(['C_previous'])\n",
      "\n",
      "    test_X = test_df.values\n",
      "\n",
      "    prediction = model.predict(test_X)\n",
      "\n",
      "    #print prodStr +\":\"+str(prediction)\n",
      "\n",
      "    return prediction\n",
      "\n",
      "\n",
      "\n",
      "modelADict={}\n",
      "modelBDict={}\n",
      "modelCDict={}\n",
      "modelDDict={}\n",
      "modelEDict={}\n",
      "modelFDict={}\n",
      "modelGDict={}\n",
      "\n",
      "modelAScores={}\n",
      "modelBScores={}\n",
      "modelCScores={}\n",
      "modelDScores={}\n",
      "modelEScores={}\n",
      "modelFScores={}\n",
      "modelGScores={}\n",
      "\n",
      "\n",
      "train = cleanup(train_sets[3])\n",
      "print \"Number of offers:\" + str(3)\n",
      "print len(train.columns)\n",
      "for feat in range(1,49):\n",
      "    print \"Number of features:\" + str(feat)\n",
      "\n",
      "\n",
      "    modelADict[feat], modelAScores[feat] = train_model(train, lr, lr, feature_number=feat)\n",
      "    modelBDict[feat], modelBScores[feat] = train_model(train, lr, lr, feature_number=feat, yName='B_purchase')\n",
      "    modelCDict[feat], modelCScores[feat] = train_model(train, lr, lr, feature_number=feat, yName='C_purchase')\n",
      "    modelDDict[feat], modelDScores[feat] = train_model(train, lr, lr, feature_number=feat, yName='D_purchase')\n",
      "    modelEDict[feat], modelEScores[feat] = train_model(train, lr, lr, feature_number=feat, yName='E_purchase')\n",
      "    modelFDict[feat], modelFScores[feat] = train_model(train, lr, lr, feature_number=feat, yName='F_purchase')\n",
      "    modelGDict[feat], modelGScores[feat] = train_model(train, lr, lr, feature_number=feat, yName='G_purchase')"
     ],
     "language": "python",
     "metadata": {},
     "outputs": [
      {
       "output_type": "stream",
       "stream": "stdout",
       "text": [
        "Number of offers:3\n",
        "55\n",
        "Number of features:1\n",
        "score:A_purchase:0.880581345756"
       ]
      },
      {
       "output_type": "stream",
       "stream": "stdout",
       "text": [
        "\n",
        "Index([u'A'], dtype='object')"
       ]
      },
      {
       "output_type": "stream",
       "stream": "stdout",
       "text": [
        "\n",
        "score:B_purchase:0.886486663823"
       ]
      },
      {
       "output_type": "stream",
       "stream": "stdout",
       "text": [
        "\n",
        "Index([u'B'], dtype='object')"
       ]
      },
      {
       "output_type": "stream",
       "stream": "stdout",
       "text": [
        "\n",
        "score:C_purchase:0.64364686198"
       ]
      },
      {
       "output_type": "stream",
       "stream": "stdout",
       "text": [
        "\n",
        "Index([u'C'], dtype='object')"
       ]
      },
      {
       "output_type": "stream",
       "stream": "stdout",
       "text": [
        "\n",
        "score:D_purchase:0.903612086218"
       ]
      },
      {
       "output_type": "stream",
       "stream": "stdout",
       "text": [
        "\n",
        "Index([u'D'], dtype='object')"
       ]
      },
      {
       "output_type": "stream",
       "stream": "stdout",
       "text": [
        "\n",
        "score:E_purchase:0.892457596536"
       ]
      },
      {
       "output_type": "stream",
       "stream": "stdout",
       "text": [
        "\n",
        "Index([u'E'], dtype='object')"
       ]
      },
      {
       "output_type": "stream",
       "stream": "stdout",
       "text": [
        "\n",
        "score:F_purchase:0.84370591516"
       ]
      },
      {
       "output_type": "stream",
       "stream": "stdout",
       "text": [
        "\n",
        "Index([u'F'], dtype='object')"
       ]
      },
      {
       "output_type": "stream",
       "stream": "stdout",
       "text": [
        "\n",
        "score:G_purchase:0.753354548735"
       ]
      },
      {
       "output_type": "stream",
       "stream": "stdout",
       "text": [
        "\n",
        "Index([u'G'], dtype='object')"
       ]
      },
      {
       "output_type": "stream",
       "stream": "stdout",
       "text": [
        "\n",
        "Number of features:2\n",
        "score:A_purchase:0.817591286375"
       ]
      },
      {
       "output_type": "stream",
       "stream": "stdout",
       "text": [
        "\n",
        "Index([u'A', u'A_var'], dtype='object')"
       ]
      },
      {
       "output_type": "stream",
       "stream": "stdout",
       "text": [
        "\n",
        "score:B_purchase:0.886486663823"
       ]
      },
      {
       "output_type": "stream",
       "stream": "stdout",
       "text": [
        "\n",
        "Index([u'shopping_pt', u'B'], dtype='object')"
       ]
      },
      {
       "output_type": "stream",
       "stream": "stdout",
       "text": [
        "\n",
        "score:C_purchase:0.717364915849"
       ]
      },
      {
       "output_type": "stream",
       "stream": "stdout",
       "text": [
        "\n",
        "Index([u'shopping_pt', u'C'], dtype='object')"
       ]
      },
      {
       "output_type": "stream",
       "stream": "stdout",
       "text": [
        "\n",
        "score:D_purchase:0.856369541682"
       ]
      },
      {
       "output_type": "stream",
       "stream": "stdout",
       "text": [
        "\n",
        "Index([u'D', u'D_var'], dtype='object')"
       ]
      },
      {
       "output_type": "stream",
       "stream": "stdout",
       "text": [
        "\n",
        "score:E_purchase:0.892457596536"
       ]
      },
      {
       "output_type": "stream",
       "stream": "stdout",
       "text": [
        "\n",
        "Index([u'shopping_pt', u'E'], dtype='object')"
       ]
      },
      {
       "output_type": "stream",
       "stream": "stdout",
       "text": [
        "\n",
        "score:F_purchase:0.84370591516"
       ]
      },
      {
       "output_type": "stream",
       "stream": "stdout",
       "text": [
        "\n",
        "Index([u'shopping_pt', u'F'], dtype='object')"
       ]
      },
      {
       "output_type": "stream",
       "stream": "stdout",
       "text": [
        "\n",
        "score:G_purchase:0.753354548735"
       ]
      },
      {
       "output_type": "stream",
       "stream": "stdout",
       "text": [
        "\n",
        "Index([u'shopping_pt', u'G'], dtype='object')"
       ]
      },
      {
       "output_type": "stream",
       "stream": "stdout",
       "text": [
        "\n",
        "Number of features:3\n",
        "score:A_purchase:0.817591286375"
       ]
      },
      {
       "output_type": "stream",
       "stream": "stdout",
       "text": [
        "\n",
        "Index([u'shopping_pt', u'A', u'A_var'], dtype='object')"
       ]
      },
      {
       "output_type": "stream",
       "stream": "stdout",
       "text": [
        "\n",
        "score:B_purchase:0.886486663823"
       ]
      },
      {
       "output_type": "stream",
       "stream": "stdout",
       "text": [
        "\n",
        "Index([u'shopping_pt', u'B', u'E_init'], dtype='object')"
       ]
      },
      {
       "output_type": "stream",
       "stream": "stdout",
       "text": [
        "\n",
        "score:C_purchase:0.673075030347"
       ]
      },
      {
       "output_type": "stream",
       "stream": "stdout",
       "text": [
        "\n",
        "Index([u'shopping_pt', u'C', u'C_var'], dtype='object')"
       ]
      },
      {
       "output_type": "stream",
       "stream": "stdout",
       "text": [
        "\n",
        "score:D_purchase:0.781601653489"
       ]
      },
      {
       "output_type": "stream",
       "stream": "stdout",
       "text": [
        "\n",
        "Index([u'D', u'D_change', u'D_var'], dtype='object')"
       ]
      },
      {
       "output_type": "stream",
       "stream": "stdout",
       "text": [
        "\n",
        "score:E_purchase:0.892457596536"
       ]
      },
      {
       "output_type": "stream",
       "stream": "stdout",
       "text": [
        "\n",
        "Index([u'shopping_pt', u'E', u'A_var'], dtype='object')"
       ]
      },
      {
       "output_type": "stream",
       "stream": "stdout",
       "text": [
        "\n",
        "score:F_purchase:0.804862045208"
       ]
      },
      {
       "output_type": "stream",
       "stream": "stdout",
       "text": [
        "\n",
        "Index([u'shopping_pt', u'A', u'F'], dtype='object')"
       ]
      },
      {
       "output_type": "stream",
       "stream": "stdout",
       "text": [
        "\n",
        "score:G_purchase:0.756011941865"
       ]
      },
      {
       "output_type": "stream",
       "stream": "stdout",
       "text": [
        "\n",
        "Index([u'shopping_pt', u'G', u'G_var'], dtype='object')"
       ]
      },
      {
       "output_type": "stream",
       "stream": "stdout",
       "text": [
        "\n",
        "Number of features:4\n",
        "score:A_purchase:0.846232079"
       ]
      },
      {
       "output_type": "stream",
       "stream": "stdout",
       "text": [
        "\n",
        "Index([u'shopping_pt', u'A', u'E', u'A_var'], dtype='object')"
       ]
      },
      {
       "output_type": "stream",
       "stream": "stdout",
       "text": [
        "\n",
        "score:B_purchase:0.886486663823"
       ]
      },
      {
       "output_type": "stream",
       "stream": "stdout",
       "text": [
        "\n",
        "Index([u'shopping_pt', u'B', u'E_init', u'A_var'], dtype='object')"
       ]
      },
      {
       "output_type": "stream",
       "stream": "stdout",
       "text": [
        "\n",
        "score:C_purchase:0.723532692497"
       ]
      },
      {
       "output_type": "stream",
       "stream": "stdout",
       "text": [
        "\n",
        "Index([u'shopping_pt', u'C', u'C_change', u'C_var'], dtype='object')"
       ]
      },
      {
       "output_type": "stream",
       "stream": "stdout",
       "text": [
        "\n",
        "score:D_purchase:0.781601653489"
       ]
      },
      {
       "output_type": "stream",
       "stream": "stdout",
       "text": [
        "\n",
        "Index([u'shopping_pt', u'D', u'D_change', u'D_var'], dtype='object')"
       ]
      },
      {
       "output_type": "stream",
       "stream": "stdout",
       "text": [
        "\n",
        "score:E_purchase:0.892457596536"
       ]
      },
      {
       "output_type": "stream",
       "stream": "stdout",
       "text": [
        "\n",
        "Index([u'shopping_pt', u'A', u'E', u'A_var'], dtype='object')"
       ]
      },
      {
       "output_type": "stream",
       "stream": "stdout",
       "text": [
        "\n",
        "score:F_purchase:0.806502411338"
       ]
      },
      {
       "output_type": "stream",
       "stream": "stdout",
       "text": [
        "\n",
        "Index([u'shopping_pt', u'A', u'F', u'F_var'], dtype='object')"
       ]
      },
      {
       "output_type": "stream",
       "stream": "stdout",
       "text": [
        "\n",
        "score:G_purchase:0.75594632722"
       ]
      },
      {
       "output_type": "stream",
       "stream": "stdout",
       "text": [
        "\n",
        "Index([u'shopping_pt', u'G', u'G_change', u'G_var'], dtype='object')"
       ]
      },
      {
       "output_type": "stream",
       "stream": "stdout",
       "text": [
        "\n",
        "Number of features:5\n",
        "score:A_purchase:0.840589219514"
       ]
      },
      {
       "output_type": "stream",
       "stream": "stdout",
       "text": [
        "\n",
        "Index([u'shopping_pt', u'A', u'E', u'F_change', u'A_var'], dtype='object')"
       ]
      },
      {
       "output_type": "stream",
       "stream": "stdout",
       "text": [
        "\n",
        "score:B_purchase:0.886486663823"
       ]
      },
      {
       "output_type": "stream",
       "stream": "stdout",
       "text": [
        "\n",
        "Index([u'shopping_pt', u'B', u'D_init', u'E_init', u'A_var'], dtype='object')"
       ]
      },
      {
       "output_type": "stream",
       "stream": "stdout",
       "text": [
        "\n",
        "score:C_purchase:0.725140251304"
       ]
      },
      {
       "output_type": "stream",
       "stream": "stdout",
       "text": [
        "\n",
        "Index([u'shopping_pt', u'C_previous', u'C', u'C_change', u'C_var'], dtype='object')"
       ]
      },
      {
       "output_type": "stream",
       "stream": "stdout",
       "text": [
        "\n",
        "score:D_purchase:0.781601653489"
       ]
      },
      {
       "output_type": "stream",
       "stream": "stdout",
       "text": [
        "\n",
        "Index([u'shopping_pt', u'D', u'D_change', u'D_var', u'E_var'], dtype='object')"
       ]
      },
      {
       "output_type": "stream",
       "stream": "stdout",
       "text": [
        "\n",
        "score:E_purchase:0.892457596536"
       ]
      },
      {
       "output_type": "stream",
       "stream": "stdout",
       "text": [
        "\n",
        "Index([u'shopping_pt', u'A', u'E', u'B_init', u'A_var'], dtype='object')"
       ]
      },
      {
       "output_type": "stream",
       "stream": "stdout",
       "text": [
        "\n",
        "score:F_purchase:0.809717528952"
       ]
      },
      {
       "output_type": "stream",
       "stream": "stdout",
       "text": [
        "\n",
        "Index([u'shopping_pt', u'A', u'F', u'F_change', u'F_var'], dtype='object')"
       ]
      },
      {
       "output_type": "stream",
       "stream": "stdout",
       "text": [
        "\n",
        "score:G_purchase:0.75594632722"
       ]
      },
      {
       "output_type": "stream",
       "stream": "stdout",
       "text": [
        "\n",
        "Index([u'shopping_pt', u'E', u'G', u'G_change', u'G_var'], dtype='object')"
       ]
      },
      {
       "output_type": "stream",
       "stream": "stdout",
       "text": [
        "\n",
        "Number of features:6\n",
        "score:A_purchase:0.845608739871"
       ]
      },
      {
       "output_type": "stream",
       "stream": "stdout",
       "text": [
        "\n",
        "Index([u'shopping_pt', u'A', u'E', u'E_init', u'F_change', u'A_var'], dtype='object')"
       ]
      },
      {
       "output_type": "stream",
       "stream": "stdout",
       "text": [
        "\n",
        "score:B_purchase:0.886486663823"
       ]
      },
      {
       "output_type": "stream",
       "stream": "stdout",
       "text": [
        "\n",
        "Index([u'shopping_pt', u'B', u'D_init', u'E_init', u'A_var', u'C_var'], dtype='object')"
       ]
      },
      {
       "output_type": "stream",
       "stream": "stdout",
       "text": [
        "\n",
        "score:C_purchase:0.723467077852"
       ]
      },
      {
       "output_type": "stream",
       "stream": "stdout",
       "text": [
        "\n",
        "Index([u'shopping_pt', u'C_previous', u'C', u'D', u'C_change', u'C_var'], dtype='object')"
       ]
      },
      {
       "output_type": "stream",
       "stream": "stdout",
       "text": [
        "\n",
        "score:D_purchase:0.824546438765"
       ]
      },
      {
       "output_type": "stream",
       "stream": "stdout",
       "text": [
        "\n",
        "Index([u'shopping_pt', u'C_previous', u'D', u'D_change', u'D_var', u'E_var'], dtype='object')"
       ]
      },
      {
       "output_type": "stream",
       "stream": "stdout",
       "text": [
        "\n",
        "score:E_purchase:0.892457596536"
       ]
      },
      {
       "output_type": "stream",
       "stream": "stdout",
       "text": [
        "\n",
        "Index([u'shopping_pt', u'homeowner', u'A', u'E', u'B_init', u'A_var'], dtype='object')"
       ]
      },
      {
       "output_type": "stream",
       "stream": "stdout",
       "text": [
        "\n",
        "score:F_purchase:0.810078409501"
       ]
      },
      {
       "output_type": "stream",
       "stream": "stdout",
       "text": [
        "\n",
        "Index([u'shopping_pt', u'A', u'F', u'F_change', u'A_var', u'F_var'], dtype='object')"
       ]
      },
      {
       "output_type": "stream",
       "stream": "stdout",
       "text": [
        "\n",
        "score:G_purchase:0.700567566681"
       ]
      },
      {
       "output_type": "stream",
       "stream": "stdout",
       "text": [
        "\n",
        "Index([u'shopping_pt', u'E', u'G', u'F_init', u'G_change', u'G_var'], dtype='object')"
       ]
      },
      {
       "output_type": "stream",
       "stream": "stdout",
       "text": [
        "\n",
        "Number of features:7\n",
        "score:A_purchase:0.842032741708"
       ]
      },
      {
       "output_type": "stream",
       "stream": "stdout",
       "text": [
        "\n",
        "Index([u'shopping_pt', u'homeowner', u'A', u'E', u'E_init', u'F_change', u'A_var'], dtype='object')"
       ]
      },
      {
       "output_type": "stream",
       "stream": "stdout",
       "text": [
        "\n",
        "score:B_purchase:0.886486663823"
       ]
      },
      {
       "output_type": "stream",
       "stream": "stdout",
       "text": [
        "\n",
        "Index([u'shopping_pt', u'B', u'E', u'D_init', u'E_init', u'A_var', u'C_var'], dtype='object')"
       ]
      },
      {
       "output_type": "stream",
       "stream": "stdout",
       "text": [
        "\n",
        "score:C_purchase:0.753813851252"
       ]
      },
      {
       "output_type": "stream",
       "stream": "stdout",
       "text": [
        "\n",
        "Index([u'shopping_pt', u'homeowner', u'C_previous', u'C', u'D', u'C_change', u'C_var'], dtype='object')"
       ]
      },
      {
       "output_type": "stream",
       "stream": "stdout",
       "text": [
        "\n",
        "score:D_purchase:0.844198024999"
       ]
      },
      {
       "output_type": "stream",
       "stream": "stdout",
       "text": [
        "\n",
        "Index([u'shopping_pt', u'homeowner', u'C_previous', u'D', u'D_change', u'D_var', u'E_var'], dtype='object')"
       ]
      },
      {
       "output_type": "stream",
       "stream": "stdout",
       "text": [
        "\n",
        "score:E_purchase:0.892457596536"
       ]
      },
      {
       "output_type": "stream",
       "stream": "stdout",
       "text": [
        "\n",
        "Index([u'shopping_pt', u'homeowner', u'A', u'E', u'A_init', u'B_init', u'A_var'], dtype='object')"
       ]
      },
      {
       "output_type": "stream",
       "stream": "stdout",
       "text": [
        "\n",
        "score:F_purchase:0.809520685017"
       ]
      },
      {
       "output_type": "stream",
       "stream": "stdout",
       "text": [
        "\n",
        "Index([u'shopping_pt', u'A', u'F', u'A_init', u'F_change', u'A_var', u'F_var'], dtype='object')"
       ]
      },
      {
       "output_type": "stream",
       "stream": "stdout",
       "text": [
        "\n",
        "score:G_purchase:0.700698795971"
       ]
      },
      {
       "output_type": "stream",
       "stream": "stdout",
       "text": [
        "\n",
        "Index([u'shopping_pt', u'E', u'G', u'F_init', u'G_change', u'A_var', u'G_var'], dtype='object')"
       ]
      },
      {
       "output_type": "stream",
       "stream": "stdout",
       "text": [
        "\n",
        "Number of features:8\n",
        "score:A_purchase:0.853974607132"
       ]
      },
      {
       "output_type": "stream",
       "stream": "stdout",
       "text": [
        "\n",
        "Index([u'shopping_pt', u'homeowner', u'A', u'E', u'F', u'E_init', u'F_change', u'A_var'], dtype='object')"
       ]
      },
      {
       "output_type": "stream",
       "stream": "stdout",
       "text": [
        "\n",
        "score:B_purchase:0.886486663823"
       ]
      },
      {
       "output_type": "stream",
       "stream": "stdout",
       "text": [
        "\n",
        "Index([u'shopping_pt', u'B', u'E', u'D_init', u'E_init', u'A_var', u'B_var', u'C_var'], dtype='object')"
       ]
      },
      {
       "output_type": "stream",
       "stream": "stdout",
       "text": [
        "\n",
        "score:C_purchase:0.753879465897"
       ]
      },
      {
       "output_type": "stream",
       "stream": "stdout",
       "text": [
        "\n",
        "Index([u'shopping_pt', u'homeowner', u'C_previous', u'C', u'D', u'C_change', u'D_change', u'C_var'], dtype='object')"
       ]
      },
      {
       "output_type": "stream",
       "stream": "stdout",
       "text": [
        "\n",
        "score:D_purchase:0.844198024999"
       ]
      },
      {
       "output_type": "stream",
       "stream": "stdout",
       "text": [
        "\n",
        "Index([u'shopping_pt', u'homeowner', u'C_previous', u'D', u'A_change', u'D_change', u'D_var', u'E_var'], dtype='object')"
       ]
      },
      {
       "output_type": "stream",
       "stream": "stdout",
       "text": [
        "\n",
        "score:E_purchase:0.892457596536"
       ]
      },
      {
       "output_type": "stream",
       "stream": "stdout",
       "text": [
        "\n",
        "Index([u'shopping_pt', u'homeowner', u'A', u'E', u'A_init', u'B_init', u'A_change', u'A_var'], dtype='object')"
       ]
      },
      {
       "output_type": "stream",
       "stream": "stdout",
       "text": [
        "\n",
        "score:F_purchase:0.802663954595"
       ]
      },
      {
       "output_type": "stream",
       "stream": "stdout",
       "text": [
        "\n",
        "Index([u'shopping_pt', u'A', u'F', u'A_init', u'F_init', u'F_change', u'A_var', u'F_var'], dtype='object')"
       ]
      },
      {
       "output_type": "stream",
       "stream": "stdout",
       "text": [
        "\n",
        "score:G_purchase:0.697877366228"
       ]
      },
      {
       "output_type": "stream",
       "stream": "stdout",
       "text": [
        "\n",
        "Index([u'shopping_pt', u'E', u'G', u'F_init', u'G_change', u'A_var', u'C_var', u'G_var'], dtype='object')"
       ]
      },
      {
       "output_type": "stream",
       "stream": "stdout",
       "text": [
        "\n",
        "Number of features:9\n",
        "score:A_purchase:0.853548111939"
       ]
      },
      {
       "output_type": "stream",
       "stream": "stdout",
       "text": [
        "\n",
        "Index([u'shopping_pt', u'homeowner', u'A', u'E', u'F', u'E_init', u'F_change', u'A_var', u'F_var'], dtype='object')"
       ]
      },
      {
       "output_type": "stream",
       "stream": "stdout",
       "text": [
        "\n",
        "score:B_purchase:0.886486663823"
       ]
      },
      {
       "output_type": "stream",
       "stream": "stdout",
       "text": [
        "\n",
        "Index([u'shopping_pt', u'A', u'B', u'E', u'D_init', u'E_init', u'A_var', u'B_var', u'C_var'], dtype='object')"
       ]
      },
      {
       "output_type": "stream",
       "stream": "stdout",
       "text": [
        "\n",
        "score:C_purchase:0.753879465897"
       ]
      },
      {
       "output_type": "stream",
       "stream": "stdout",
       "text": [
        "\n",
        "Index([u'shopping_pt', u'homeowner', u'C_previous', u'C', u'D', u'C_change', u'D_change', u'C_var', u'E_var'], dtype='object')"
       ]
      },
      {
       "output_type": "stream",
       "stream": "stdout",
       "text": [
        "\n",
        "score:D_purchase:0.844198024999"
       ]
      },
      {
       "output_type": "stream",
       "stream": "stdout",
       "text": [
        "\n",
        "Index([u'shopping_pt', u'homeowner', u'C_previous', u'D', u'A_change', u'D_change', u'A_var', u'D_var', u'E_var'], dtype='object')"
       ]
      },
      {
       "output_type": "stream",
       "stream": "stdout",
       "text": [
        "\n",
        "score:E_purchase:0.892457596536"
       ]
      },
      {
       "output_type": "stream",
       "stream": "stdout",
       "text": [
        "\n",
        "Index([u'shopping_pt', u'homeowner', u'married_couple', u'A', u'E', u'A_init', u'B_init', u'A_change', u'A_var'], dtype='object')"
       ]
      },
      {
       "output_type": "stream",
       "stream": "stdout",
       "text": [
        "\n",
        "score:F_purchase:0.808733309275"
       ]
      },
      {
       "output_type": "stream",
       "stream": "stdout",
       "text": [
        "\n",
        "Index([u'shopping_pt', u'A', u'F', u'A_init', u'F_init', u'A_change', u'F_change', u'A_var', u'F_var'], dtype='object')"
       ]
      },
      {
       "output_type": "stream",
       "stream": "stdout",
       "text": [
        "\n",
        "score:G_purchase:0.69689314655"
       ]
      },
      {
       "output_type": "stream",
       "stream": "stdout",
       "text": [
        "\n",
        "Index([u'shopping_pt', u'E', u'G', u'F_init', u'G_change', u'A_var', u'B_var', u'C_var', u'G_var'], dtype='object')"
       ]
      },
      {
       "output_type": "stream",
       "stream": "stdout",
       "text": [
        "\n",
        "Number of features:10\n",
        "score:A_purchase:0.853515304616"
       ]
      },
      {
       "output_type": "stream",
       "stream": "stdout",
       "text": [
        "\n",
        "Index([u'shopping_pt', u'homeowner', u'A', u'E', u'F', u'E_init', u'A_change', u'F_change', u'A_var', u'F_var'], dtype='object')"
       ]
      },
      {
       "output_type": "stream",
       "stream": "stdout",
       "text": [
        "\n",
        "score:B_purchase:0.886486663823"
       ]
      },
      {
       "output_type": "stream",
       "stream": "stdout",
       "text": [
        "\n",
        "Index([u'shopping_pt', u'A', u'B', u'E', u'D_init', u'E_init', u'A_var', u'B_var', u'C_var', u'D_var'], dtype='object')"
       ]
      },
      {
       "output_type": "stream",
       "stream": "stdout",
       "text": [
        "\n",
        "score:C_purchase:0.753682621961"
       ]
      },
      {
       "output_type": "stream",
       "stream": "stdout",
       "text": [
        "\n",
        "Index([u'shopping_pt', u'homeowner', u'C_previous', u'C', u'D', u'C_change', u'D_change', u'C_var', u'D_var', u'E_var'], dtype='object')"
       ]
      },
      {
       "output_type": "stream",
       "stream": "stdout",
       "text": [
        "\n",
        "score:D_purchase:0.844394868935"
       ]
      },
      {
       "output_type": "stream",
       "stream": "stdout",
       "text": [
        "\n",
        "Index([u'shopping_pt', u'homeowner', u'C_previous', u'D', u'A_change', u'D_change', u'A_var', u'D_var', u'E_var', u'F_var'], dtype='object')"
       ]
      },
      {
       "output_type": "stream",
       "stream": "stdout",
       "text": [
        "\n",
        "score:E_purchase:0.892457596536"
       ]
      },
      {
       "output_type": "stream",
       "stream": "stdout",
       "text": [
        "\n",
        "Index([u'shopping_pt', u'group_size', u'homeowner', u'married_couple', u'A', u'E', u'A_init', u'B_init', u'A_change', u'A_var'], dtype='object')"
       ]
      },
      {
       "output_type": "stream",
       "stream": "stdout",
       "text": [
        "\n",
        "score:F_purchase:0.806666447951"
       ]
      },
      {
       "output_type": "stream",
       "stream": "stdout",
       "text": [
        "\n",
        "Index([u'shopping_pt', u'A', u'E', u'F', u'A_init', u'F_init', u'A_change', u'F_change', u'A_var', u'F_var'], dtype='object')"
       ]
      },
      {
       "output_type": "stream",
       "stream": "stdout",
       "text": [
        "\n",
        "score:G_purchase:0.707063416555"
       ]
      },
      {
       "output_type": "stream",
       "stream": "stdout",
       "text": [
        "\n",
        "Index([u'shopping_pt', u'C', u'E', u'G', u'F_init', u'G_change', u'A_var', u'B_var', u'C_var', u'G_var'], dtype='object')"
       ]
      },
      {
       "output_type": "stream",
       "stream": "stdout",
       "text": [
        "\n",
        "Number of features:11\n",
        "score:A_purchase:0.855188478068"
       ]
      },
      {
       "output_type": "stream",
       "stream": "stdout",
       "text": [
        "\n",
        "Index([u'shopping_pt', u'homeowner', u'A', u'E', u'F', u'A_init', u'E_init', u'A_change', u'F_change', u'A_var', u'F_var'], dtype='object')"
       ]
      },
      {
       "output_type": "stream",
       "stream": "stdout",
       "text": [
        "\n",
        "score:B_purchase:0.886486663823"
       ]
      },
      {
       "output_type": "stream",
       "stream": "stdout",
       "text": [
        "\n",
        "Index([u'shopping_pt', u'A', u'B', u'E', u'A_init', u'D_init', u'E_init', u'A_var', u'B_var', u'C_var', u'D_var'], dtype='object')"
       ]
      },
      {
       "output_type": "stream",
       "stream": "stdout",
       "text": [
        "\n",
        "score:C_purchase:0.736491584922"
       ]
      },
      {
       "output_type": "stream",
       "stream": "stdout",
       "text": [
        "\n",
        "Index([u'shopping_pt', u'homeowner', u'married_couple', u'C_previous', u'C', u'D', u'C_change', u'D_change', u'C_var', u'D_var', u'E_var'], dtype='object')"
       ]
      },
      {
       "output_type": "stream",
       "stream": "stdout",
       "text": [
        "\n",
        "score:D_purchase:0.844362061612"
       ]
      },
      {
       "output_type": "stream",
       "stream": "stdout",
       "text": [
        "\n",
        "Index([u'shopping_pt', u'homeowner', u'C_previous', u'D', u'A_change', u'D_change', u'A_var', u'B_var', u'D_var', u'E_var', u'F_var'], dtype='object')"
       ]
      },
      {
       "output_type": "stream",
       "stream": "stdout",
       "text": [
        "\n",
        "score:E_purchase:0.892457596536"
       ]
      },
      {
       "output_type": "stream",
       "stream": "stdout",
       "text": [
        "\n",
        "Index([u'shopping_pt', u'group_size', u'homeowner', u'married_couple', u'A', u'C', u'E', u'A_init', u'B_init', u'A_change', u'A_var'], dtype='object')"
       ]
      },
      {
       "output_type": "stream",
       "stream": "stdout",
       "text": [
        "\n",
        "score:F_purchase:0.807781896919"
       ]
      },
      {
       "output_type": "stream",
       "stream": "stdout",
       "text": [
        "\n",
        "Index([u'shopping_pt', u'A', u'E', u'F', u'A_init', u'F_init', u'A_change', u'F_change', u'A_var', u'E_var', u'F_var'], dtype='object')"
       ]
      },
      {
       "output_type": "stream",
       "stream": "stdout",
       "text": [
        "\n",
        "score:G_purchase:0.699911420229"
       ]
      },
      {
       "output_type": "stream",
       "stream": "stdout",
       "text": [
        "\n",
        "Index([u'shopping_pt', u'C', u'D', u'E', u'G', u'F_init', u'G_change', u'A_var', u'B_var', u'C_var', u'G_var'], dtype='object')"
       ]
      },
      {
       "output_type": "stream",
       "stream": "stdout",
       "text": [
        "\n",
        "Number of features:12\n",
        "score:A_purchase:0.854138643745"
       ]
      },
      {
       "output_type": "stream",
       "stream": "stdout",
       "text": [
        "\n",
        "Index([u'shopping_pt', u'homeowner', u'A', u'C', u'E', u'F', u'A_init', u'E_init', u'A_change', u'F_change', u'A_var', u'F_var'], dtype='object')"
       ]
      },
      {
       "output_type": "stream",
       "stream": "stdout",
       "text": [
        "\n",
        "score:B_purchase:0.886486663823"
       ]
      },
      {
       "output_type": "stream",
       "stream": "stdout",
       "text": [
        "\n",
        "Index([u'shopping_pt', u'A', u'B', u'E', u'A_init', u'D_init', u'E_init', u'F_init', u'A_var', u'B_var', u'C_var', u'D_var'], dtype='object')"
       ]
      },
      {
       "output_type": "stream",
       "stream": "stdout",
       "text": [
        "\n",
        "score:C_purchase:0.736196319018"
       ]
      },
      {
       "output_type": "stream",
       "stream": "stdout",
       "text": [
        "\n",
        "Index([u'shopping_pt', u'homeowner', u'married_couple', u'C_previous', u'C', u'D', u'C_change', u'D_change', u'B_var', u'C_var', u'D_var', u'E_var'], dtype='object')"
       ]
      },
      {
       "output_type": "stream",
       "stream": "stdout",
       "text": [
        "\n",
        "score:D_purchase:0.837210065287"
       ]
      },
      {
       "output_type": "stream",
       "stream": "stdout",
       "text": [
        "\n",
        "Index([u'shopping_pt', u'homeowner', u'C_previous', u'B', u'D', u'A_change', u'D_change', u'A_var', u'B_var', u'D_var', u'E_var', u'F_var'], dtype='object')"
       ]
      },
      {
       "output_type": "stream",
       "stream": "stdout",
       "text": [
        "\n",
        "score:E_purchase:0.892457596536"
       ]
      },
      {
       "output_type": "stream",
       "stream": "stdout",
       "text": [
        "\n",
        "Index([u'shopping_pt', u'group_size', u'homeowner', u'married_couple', u'A', u'C', u'E', u'A_init', u'B_init', u'C_init', u'A_change', u'A_var'], dtype='object')"
       ]
      },
      {
       "output_type": "stream",
       "stream": "stdout",
       "text": [
        "\n",
        "score:F_purchase:0.780453397198"
       ]
      },
      {
       "output_type": "stream",
       "stream": "stdout",
       "text": [
        "\n",
        "Index([u'shopping_pt', u'A', u'E', u'F', u'G', u'A_init', u'F_init', u'A_change', u'F_change', u'A_var', u'E_var', u'F_var'], dtype='object')"
       ]
      },
      {
       "output_type": "stream",
       "stream": "stdout",
       "text": [
        "\n",
        "score:G_purchase:0.702043896198"
       ]
      },
      {
       "output_type": "stream",
       "stream": "stdout",
       "text": [
        "\n",
        "Index([u'shopping_pt', u'C', u'D', u'E', u'G', u'F_init', u'G_init', u'G_change', u'A_var', u'B_var', u'C_var', u'G_var'], dtype='object')"
       ]
      },
      {
       "output_type": "stream",
       "stream": "stdout",
       "text": [
        "\n",
        "Number of features:13\n",
        "score:A_purchase:0.855024441455"
       ]
      },
      {
       "output_type": "stream",
       "stream": "stdout",
       "text": [
        "\n",
        "Index([u'shopping_pt', u'homeowner', u'A', u'C', u'E', u'F', u'A_init', u'E_init', u'A_change', u'B_change', u'F_change', u'A_var', u'F_var'], dtype='object')"
       ]
      },
      {
       "output_type": "stream",
       "stream": "stdout",
       "text": [
        "\n",
        "score:B_purchase:0.886486663823"
       ]
      },
      {
       "output_type": "stream",
       "stream": "stdout",
       "text": [
        "\n",
        "Index([u'shopping_pt', u'A', u'B', u'E', u'A_init', u'B_init', u'D_init', u'E_init', u'F_init', u'A_var', u'B_var', u'C_var', u'D_var'], dtype='object')"
       ]
      },
      {
       "output_type": "stream",
       "stream": "stdout",
       "text": [
        "\n",
        "score:C_purchase:0.736425970277"
       ]
      },
      {
       "output_type": "stream",
       "stream": "stdout",
       "text": [
        "\n",
        "Index([u'shopping_pt', u'homeowner', u'married_couple', u'C_previous', u'C', u'D', u'C_change', u'D_change', u'A_var', u'B_var', u'C_var', u'D_var', u'E_var'], dtype='object')"
       ]
      },
      {
       "output_type": "stream",
       "stream": "stdout",
       "text": [
        "\n",
        "score:D_purchase:0.837144450641"
       ]
      },
      {
       "output_type": "stream",
       "stream": "stdout",
       "text": [
        "\n",
        "Index([u'shopping_pt', u'homeowner', u'C_previous', u'B', u'D', u'E', u'A_change', u'D_change', u'A_var', u'B_var', u'D_var', u'E_var', u'F_var'], dtype='object')"
       ]
      },
      {
       "output_type": "stream",
       "stream": "stdout",
       "text": [
        "\n",
        "score:E_purchase:0.892359174568"
       ]
      },
      {
       "output_type": "stream",
       "stream": "stdout",
       "text": [
        "\n",
        "Index([u'shopping_pt', u'group_size', u'homeowner', u'car_age', u'married_couple', u'A', u'C', u'E', u'A_init', u'B_init', u'C_init', u'A_change', u'A_var'], dtype='object')"
       ]
      },
      {
       "output_type": "stream",
       "stream": "stdout",
       "text": [
        "\n",
        "score:F_purchase:0.792198418687"
       ]
      },
      {
       "output_type": "stream",
       "stream": "stdout",
       "text": [
        "\n",
        "Index([u'shopping_pt', u'A', u'E', u'F', u'G', u'A_init', u'E_init', u'F_init', u'A_change', u'F_change', u'A_var', u'E_var', u'F_var'], dtype='object')"
       ]
      },
      {
       "output_type": "stream",
       "stream": "stdout",
       "text": [
        "\n",
        "score:G_purchase:0.703126537843"
       ]
      },
      {
       "output_type": "stream",
       "stream": "stdout",
       "text": [
        "\n",
        "Index([u'shopping_pt', u'married_couple', u'C', u'D', u'E', u'G', u'F_init', u'G_init', u'G_change', u'A_var', u'B_var', u'C_var', u'G_var'], dtype='object')"
       ]
      },
      {
       "output_type": "stream",
       "stream": "stdout",
       "text": [
        "\n",
        "Number of features:14\n",
        "score:A_purchase:0.855057248778"
       ]
      },
      {
       "output_type": "stream",
       "stream": "stdout",
       "text": [
        "\n",
        "Index([u'shopping_pt', u'homeowner', u'car_age', u'A', u'C', u'E', u'F', u'A_init', u'E_init', u'A_change', u'B_change', u'F_change', u'A_var', u'F_var'], dtype='object')"
       ]
      },
      {
       "output_type": "stream",
       "stream": "stdout",
       "text": [
        "\n",
        "score:B_purchase:0.886486663823"
       ]
      },
      {
       "output_type": "stream",
       "stream": "stdout",
       "text": [
        "\n",
        "Index([u'shopping_pt', u'homeowner', u'A', u'B', u'E', u'A_init', u'B_init', u'D_init', u'E_init', u'F_init', u'A_var', u'B_var', u'C_var', u'D_var'], dtype='object')"
       ]
      },
      {
       "output_type": "stream",
       "stream": "stdout",
       "text": [
        "\n",
        "score:C_purchase:0.736655621535"
       ]
      },
      {
       "output_type": "stream",
       "stream": "stdout",
       "text": [
        "\n",
        "Index([u'shopping_pt', u'homeowner', u'married_couple', u'C_previous', u'C', u'D', u'A_change', u'C_change', u'D_change', u'A_var', u'B_var', u'C_var', u'D_var', u'E_var'], dtype='object')"
       ]
      },
      {
       "output_type": "stream",
       "stream": "stdout",
       "text": [
        "\n",
        "score:D_purchase:0.837734982448"
       ]
      },
      {
       "output_type": "stream",
       "stream": "stdout",
       "text": [
        "\n",
        "Index([u'shopping_pt', u'homeowner', u'C_previous', u'B', u'D', u'E', u'E_init', u'A_change', u'D_change', u'A_var', u'B_var', u'D_var', u'E_var', u'F_var'], dtype='object')"
       ]
      },
      {
       "output_type": "stream",
       "stream": "stdout",
       "text": [
        "\n",
        "score:E_purchase:0.892359174568"
       ]
      },
      {
       "output_type": "stream",
       "stream": "stdout",
       "text": [
        "\n",
        "Index([u'shopping_pt', u'group_size', u'homeowner', u'car_age', u'married_couple', u'A', u'C', u'E', u'A_init', u'B_init', u'C_init', u'A_change', u'E_change', u'A_var'], dtype='object')"
       ]
      },
      {
       "output_type": "stream",
       "stream": "stdout",
       "text": [
        "\n",
        "score:F_purchase:0.789967520751"
       ]
      },
      {
       "output_type": "stream",
       "stream": "stdout",
       "text": [
        "\n",
        "Index([u'shopping_pt', u'A', u'D', u'E', u'F', u'G', u'A_init', u'E_init', u'F_init', u'A_change', u'F_change', u'A_var', u'E_var', u'F_var'], dtype='object')"
       ]
      },
      {
       "output_type": "stream",
       "stream": "stdout",
       "text": [
        "\n",
        "score:G_purchase:0.703192152488"
       ]
      },
      {
       "output_type": "stream",
       "stream": "stdout",
       "text": [
        "\n",
        "Index([u'shopping_pt', u'married_couple', u'C', u'D', u'E', u'G', u'F_init', u'G_init', u'G_change', u'A_var', u'B_var', u'C_var', u'E_var', u'G_var'], dtype='object')"
       ]
      },
      {
       "output_type": "stream",
       "stream": "stdout",
       "text": [
        "\n",
        "Number of features:15\n",
        "score:A_purchase:0.854991634133"
       ]
      },
      {
       "output_type": "stream",
       "stream": "stdout",
       "text": [
        "\n",
        "Index([u'shopping_pt', u'homeowner', u'car_age', u'A', u'C', u'E', u'F', u'A_init', u'D_init', u'E_init', u'A_change', u'B_change', u'F_change', u'A_var', u'F_var'], dtype='object')"
       ]
      },
      {
       "output_type": "stream",
       "stream": "stdout",
       "text": [
        "\n",
        "score:B_purchase:0.886486663823"
       ]
      },
      {
       "output_type": "stream",
       "stream": "stdout",
       "text": [
        "\n",
        "Index([u'shopping_pt', u'homeowner', u'A', u'B', u'E', u'A_init', u'B_init', u'D_init', u'E_init', u'F_init', u'A_change', u'A_var', u'B_var', u'C_var', u'D_var'], dtype='object')"
       ]
      },
      {
       "output_type": "stream",
       "stream": "stdout",
       "text": [
        "\n",
        "score:C_purchase:0.749089596798"
       ]
      },
      {
       "output_type": "stream",
       "stream": "stdout",
       "text": [
        "\n",
        "Index([u'shopping_pt', u'homeowner', u'married_couple', u'C_previous', u'C', u'D', u'C_init', u'A_change', u'C_change', u'D_change', u'A_var', u'B_var', u'C_var', u'D_var', u'E_var'], dtype='object')"
       ]
      },
      {
       "output_type": "stream",
       "stream": "stdout",
       "text": [
        "\n",
        "score:D_purchase:0.838850431416"
       ]
      },
      {
       "output_type": "stream",
       "stream": "stdout",
       "text": [
        "\n",
        "Index([u'shopping_pt', u'homeowner', u'C_previous', u'B', u'C', u'D', u'E', u'E_init', u'A_change', u'D_change', u'A_var', u'B_var', u'D_var', u'E_var', u'F_var'], dtype='object')"
       ]
      },
      {
       "output_type": "stream",
       "stream": "stdout",
       "text": [
        "\n",
        "score:E_purchase:0.892326367245"
       ]
      },
      {
       "output_type": "stream",
       "stream": "stdout",
       "text": [
        "\n",
        "Index([u'shopping_pt', u'group_size', u'homeowner', u'car_age', u'married_couple', u'A', u'C', u'E', u'A_init', u'B_init', u'C_init', u'A_change', u'B_change', u'E_change', u'A_var'], dtype='object')"
       ]
      },
      {
       "output_type": "stream",
       "stream": "stdout",
       "text": [
        "\n",
        "score:F_purchase:0.785079229684"
       ]
      },
      {
       "output_type": "stream",
       "stream": "stdout",
       "text": [
        "\n",
        "Index([u'shopping_pt', u'A', u'D', u'E', u'F', u'G', u'A_init', u'D_init', u'E_init', u'F_init', u'A_change', u'F_change', u'A_var', u'E_var', u'F_var'], dtype='object')"
       ]
      },
      {
       "output_type": "stream",
       "stream": "stdout",
       "text": [
        "\n",
        "score:G_purchase:0.691512745645"
       ]
      },
      {
       "output_type": "stream",
       "stream": "stdout",
       "text": [
        "\n",
        "Index([u'shopping_pt', u'married_couple', u'C', u'D', u'E', u'F', u'G', u'F_init', u'G_init', u'G_change', u'A_var', u'B_var', u'C_var', u'E_var', u'G_var'], dtype='object')"
       ]
      },
      {
       "output_type": "stream",
       "stream": "stdout",
       "text": [
        "\n",
        "Number of features:16\n",
        "score:A_purchase:0.855122863423"
       ]
      },
      {
       "output_type": "stream",
       "stream": "stdout",
       "text": [
        "\n",
        "Index([u'shopping_pt', u'homeowner', u'car_age', u'A', u'C', u'E', u'F', u'A_init', u'D_init', u'E_init', u'A_change', u'B_change', u'D_change', u'F_change', u'A_var', u'F_var'], dtype='object')"
       ]
      },
      {
       "output_type": "stream",
       "stream": "stdout",
       "text": [
        "\n",
        "score:B_purchase:0.886486663823"
       ]
      },
      {
       "output_type": "stream",
       "stream": "stdout",
       "text": [
        "\n",
        "Index([u'shopping_pt', u'homeowner', u'A', u'B', u'E', u'A_init', u'B_init', u'D_init', u'E_init', u'F_init', u'A_change', u'F_change', u'A_var', u'B_var', u'C_var', u'D_var'], dtype='object')"
       ]
      },
      {
       "output_type": "stream",
       "stream": "stdout",
       "text": [
        "\n",
        "score:C_purchase:0.748269413733"
       ]
      },
      {
       "output_type": "stream",
       "stream": "stdout",
       "text": [
        "\n",
        "Index([u'shopping_pt', u'homeowner', u'married_couple', u'C_previous', u'C', u'D', u'C_init', u'A_change', u'C_change', u'D_change', u'F_change', u'A_var', u'B_var', u'C_var', u'D_var', u'E_var'], dtype='object')"
       ]
      },
      {
       "output_type": "stream",
       "stream": "stdout",
       "text": [
        "\n",
        "score:D_purchase:0.839473770546"
       ]
      },
      {
       "output_type": "stream",
       "stream": "stdout",
       "text": [
        "\n",
        "Index([u'shopping_pt', u'homeowner', u'C_previous', u'B', u'C', u'D', u'E', u'D_init', u'E_init', u'A_change', u'D_change', u'A_var', u'B_var', u'D_var', u'E_var', u'F_var'], dtype='object')"
       ]
      },
      {
       "output_type": "stream",
       "stream": "stdout",
       "text": [
        "\n",
        "score:E_purchase:0.892359174568"
       ]
      },
      {
       "output_type": "stream",
       "stream": "stdout",
       "text": [
        "\n",
        "Index([u'shopping_pt', u'group_size', u'homeowner', u'car_age', u'married_couple', u'A', u'C', u'E', u'A_init', u'B_init', u'C_init', u'D_init', u'A_change', u'B_change', u'E_change', u'A_var'], dtype='object')"
       ]
      },
      {
       "output_type": "stream",
       "stream": "stdout",
       "text": [
        "\n",
        "score:F_purchase:0.78895049375"
       ]
      },
      {
       "output_type": "stream",
       "stream": "stdout",
       "text": [
        "\n",
        "Index([u'shopping_pt', u'homeowner', u'A', u'D', u'E', u'F', u'G', u'A_init', u'D_init', u'E_init', u'F_init', u'A_change', u'F_change', u'A_var', u'E_var', u'F_var'], dtype='object')"
       ]
      },
      {
       "output_type": "stream",
       "stream": "stdout",
       "text": [
        "\n",
        "score:G_purchase:0.694891899872"
       ]
      },
      {
       "output_type": "stream",
       "stream": "stdout",
       "text": [
        "\n",
        "Index([u'shopping_pt', u'homeowner', u'married_couple', u'C', u'D', u'E', u'F', u'G', u'F_init', u'G_init', u'G_change', u'A_var', u'B_var', u'C_var', u'E_var', u'G_var'], dtype='object')"
       ]
      },
      {
       "output_type": "stream",
       "stream": "stdout",
       "text": [
        "\n",
        "Number of features:17\n",
        "score:A_purchase:0.854729175552"
       ]
      },
      {
       "output_type": "stream",
       "stream": "stdout",
       "text": [
        "\n",
        "Index([u'shopping_pt', u'homeowner', u'car_age', u'married_couple', u'A', u'C', u'E', u'F', u'A_init', u'D_init', u'E_init', u'A_change', u'B_change', u'D_change', u'F_change', u'A_var', u'F_var'], dtype='object')"
       ]
      },
      {
       "output_type": "stream",
       "stream": "stdout",
       "text": [
        "\n",
        "score:B_purchase:0.886486663823"
       ]
      },
      {
       "output_type": "stream",
       "stream": "stdout",
       "text": [
        "\n",
        "Index([u'shopping_pt', u'homeowner', u'A', u'B', u'E', u'A_init', u'B_init', u'D_init', u'E_init', u'F_init', u'A_change', u'F_change', u'A_var', u'B_var', u'C_var', u'D_var', u'F_var'], dtype='object')"
       ]
      },
      {
       "output_type": "stream",
       "stream": "stdout",
       "text": [
        "\n",
        "score:C_purchase:0.748794330895"
       ]
      },
      {
       "output_type": "stream",
       "stream": "stdout",
       "text": [
        "\n",
        "Index([u'shopping_pt', u'homeowner', u'married_couple', u'C_previous', u'C', u'D', u'C_init', u'A_change', u'C_change', u'D_change', u'F_change', u'A_var', u'B_var', u'C_var', u'D_var', u'E_var', u'F_var'], dtype='object')"
       ]
      },
      {
       "output_type": "stream",
       "stream": "stdout",
       "text": [
        "\n",
        "score:D_purchase:0.839047275352"
       ]
      },
      {
       "output_type": "stream",
       "stream": "stdout",
       "text": [
        "\n",
        "Index([u'shopping_pt', u'homeowner', u'C_previous', u'B', u'C', u'D', u'E', u'C_init', u'D_init', u'E_init', u'A_change', u'D_change', u'A_var', u'B_var', u'D_var', u'E_var', u'F_var'], dtype='object')"
       ]
      },
      {
       "output_type": "stream",
       "stream": "stdout",
       "text": [
        "\n",
        "score:E_purchase:0.892359174568"
       ]
      },
      {
       "output_type": "stream",
       "stream": "stdout",
       "text": [
        "\n",
        "Index([u'shopping_pt', u'group_size', u'homeowner', u'car_age', u'married_couple', u'A', u'C', u'E', u'A_init', u'B_init', u'C_init', u'D_init', u'A_change', u'B_change', u'E_change', u'A_var', u'C_var'], dtype='object')"
       ]
      },
      {
       "output_type": "stream",
       "stream": "stdout",
       "text": [
        "\n",
        "score:F_purchase:0.790098750041"
       ]
      },
      {
       "output_type": "stream",
       "stream": "stdout",
       "text": [
        "\n",
        "Index([u'shopping_pt', u'homeowner', u'A', u'D', u'E', u'F', u'G', u'A_init', u'D_init', u'E_init', u'F_init', u'A_change', u'F_change', u'A_var', u'E_var', u'F_var', u'G_var'], dtype='object')"
       ]
      },
      {
       "output_type": "stream",
       "stream": "stdout",
       "text": [
        "\n",
        "score:G_purchase:0.69499032184"
       ]
      },
      {
       "output_type": "stream",
       "stream": "stdout",
       "text": [
        "\n",
        "Index([u'shopping_pt', u'homeowner', u'married_couple', u'C', u'D', u'E', u'F', u'G', u'F_init', u'G_init', u'G_change', u'A_var', u'B_var', u'C_var', u'E_var', u'F_var', u'G_var'], dtype='object')"
       ]
      },
      {
       "output_type": "stream",
       "stream": "stdout",
       "text": [
        "\n",
        "Number of features:18\n",
        "score:A_purchase:0.855155670746"
       ]
      },
      {
       "output_type": "stream",
       "stream": "stdout",
       "text": [
        "\n",
        "Index([u'shopping_pt', u'group_size', u'homeowner', u'car_age', u'married_couple', u'A', u'C', u'E', u'F', u'A_init', u'D_init', u'E_init', u'A_change', u'B_change', u'D_change', u'F_change', u'A_var', u'F_var'], dtype='object')"
       ]
      },
      {
       "output_type": "stream",
       "stream": "stdout",
       "text": [
        "\n",
        "score:B_purchase:0.886486663823"
       ]
      },
      {
       "output_type": "stream",
       "stream": "stdout",
       "text": [
        "\n",
        "Index([u'shopping_pt', u'homeowner', u'A', u'B', u'E', u'G', u'A_init', u'B_init', u'D_init', u'E_init', u'F_init', u'A_change', u'F_change', u'A_var', u'B_var', u'C_var', u'D_var', u'F_var'], dtype='object')"
       ]
      },
      {
       "output_type": "stream",
       "stream": "stdout",
       "text": [
        "\n",
        "score:C_purchase:0.749450477347"
       ]
      },
      {
       "output_type": "stream",
       "stream": "stdout",
       "text": [
        "\n",
        "Index([u'shopping_pt', u'homeowner', u'married_couple', u'C_previous', u'C', u'D', u'C_init', u'E_init', u'A_change', u'C_change', u'D_change', u'F_change', u'A_var', u'B_var', u'C_var', u'D_var', u'E_var', u'F_var'], dtype='object')"
       ]
      },
      {
       "output_type": "stream",
       "stream": "stdout",
       "text": [
        "\n",
        "score:D_purchase:0.839440963223"
       ]
      },
      {
       "output_type": "stream",
       "stream": "stdout",
       "text": [
        "\n",
        "Index([u'shopping_pt', u'homeowner', u'C_previous', u'B', u'C', u'D', u'E', u'G', u'C_init', u'D_init', u'E_init', u'A_change', u'D_change', u'A_var', u'B_var', u'D_var', u'E_var', u'F_var'], dtype='object')"
       ]
      },
      {
       "output_type": "stream",
       "stream": "stdout",
       "text": [
        "\n",
        "score:E_purchase:0.892359174568"
       ]
      },
      {
       "output_type": "stream",
       "stream": "stdout",
       "text": [
        "\n",
        "Index([u'shopping_pt', u'group_size', u'homeowner', u'car_age', u'married_couple', u'A', u'C', u'E', u'A_init', u'B_init', u'C_init', u'D_init', u'A_change', u'B_change', u'C_change', u'E_change', u'A_var', u'C_var'], dtype='object')"
       ]
      },
      {
       "output_type": "stream",
       "stream": "stdout",
       "text": [
        "\n",
        "score:F_purchase:0.790426823267"
       ]
      },
      {
       "output_type": "stream",
       "stream": "stdout",
       "text": [
        "\n",
        "Index([u'shopping_pt', u'homeowner', u'married_couple', u'A', u'D', u'E', u'F', u'G', u'A_init', u'D_init', u'E_init', u'F_init', u'A_change', u'F_change', u'A_var', u'E_var', u'F_var', u'G_var'], dtype='object')"
       ]
      },
      {
       "output_type": "stream",
       "stream": "stdout",
       "text": [
        "\n",
        "score:G_purchase:0.693973294839"
       ]
      },
      {
       "output_type": "stream",
       "stream": "stdout",
       "text": [
        "\n",
        "Index([u'shopping_pt', u'homeowner', u'married_couple', u'C', u'D', u'E', u'F', u'G', u'F_init', u'G_init', u'A_change', u'G_change', u'A_var', u'B_var', u'C_var', u'E_var', u'F_var', u'G_var'], dtype='object')"
       ]
      },
      {
       "output_type": "stream",
       "stream": "stdout",
       "text": [
        "\n",
        "Number of features:19\n",
        "score:A_purchase:0.854761982875"
       ]
      },
      {
       "output_type": "stream",
       "stream": "stdout",
       "text": [
        "\n",
        "Index([u'shopping_pt', u'group_size', u'homeowner', u'car_age', u'married_couple', u'A', u'C', u'E', u'F', u'G', u'A_init', u'D_init', u'E_init', u'A_change', u'B_change', u'D_change', u'F_change', u'A_var', u'F_var'], dtype='object')"
       ]
      },
      {
       "output_type": "stream",
       "stream": "stdout",
       "text": [
        "\n",
        "score:B_purchase:0.886486663823"
       ]
      },
      {
       "output_type": "stream",
       "stream": "stdout",
       "text": [
        "\n",
        "Index([u'shopping_pt', u'homeowner', u'A', u'B', u'E', u'G', u'A_init', u'B_init', u'D_init', u'E_init', u'F_init', u'A_change', u'F_change', u'A_var', u'B_var', u'C_var', u'D_var', u'F_var', u'G_var'], dtype='object')"
       ]
      },
      {
       "output_type": "stream",
       "stream": "stdout",
       "text": [
        "\n",
        "score:C_purchase:0.753223319445"
       ]
      },
      {
       "output_type": "stream",
       "stream": "stdout",
       "text": [
        "\n",
        "Index([u'shopping_pt', u'homeowner', u'married_couple', u'C_previous', u'B', u'C', u'D', u'C_init', u'E_init', u'A_change', u'C_change', u'D_change', u'F_change', u'A_var', u'B_var', u'C_var', u'D_var', u'E_var', u'F_var'], dtype='object')"
       ]
      },
      {
       "output_type": "stream",
       "stream": "stdout",
       "text": [
        "\n",
        "score:D_purchase:0.838489550868"
       ]
      },
      {
       "output_type": "stream",
       "stream": "stdout",
       "text": [
        "\n",
        "Index([u'shopping_pt', u'homeowner', u'C_previous', u'B', u'C', u'D', u'E', u'G', u'duration_offers', u'C_init', u'D_init', u'E_init', u'A_change', u'D_change', u'A_var', u'B_var', u'D_var', u'E_var', u'F_var'], dtype='object')"
       ]
      },
      {
       "output_type": "stream",
       "stream": "stdout",
       "text": [
        "\n",
        "score:E_purchase:0.892359174568"
       ]
      },
      {
       "output_type": "stream",
       "stream": "stdout",
       "text": [
        "\n",
        "Index([u'shopping_pt', u'group_size', u'homeowner', u'car_age', u'married_couple', u'A', u'C', u'E', u'A_init', u'B_init', u'C_init', u'D_init', u'A_change', u'B_change', u'C_change', u'E_change', u'A_var', u'C_var', u'F_var'], dtype='object')"
       ]
      },
      {
       "output_type": "stream",
       "stream": "stdout",
       "text": [
        "\n",
        "score:F_purchase:0.789311374299"
       ]
      },
      {
       "output_type": "stream",
       "stream": "stdout",
       "text": [
        "\n",
        "Index([u'shopping_pt', u'group_size', u'homeowner', u'married_couple', u'A', u'D', u'E', u'F', u'G', u'A_init', u'D_init', u'E_init', u'F_init', u'A_change', u'F_change', u'A_var', u'E_var', u'F_var', u'G_var'], dtype='object')"
       ]
      },
      {
       "output_type": "stream",
       "stream": "stdout",
       "text": [
        "\n",
        "score:G_purchase:0.694563826646"
       ]
      },
      {
       "output_type": "stream",
       "stream": "stdout",
       "text": [
        "\n",
        "Index([u'shopping_pt', u'homeowner', u'married_couple', u'C', u'D', u'E', u'F', u'G', u'F_init', u'G_init', u'A_change', u'F_change', u'G_change', u'A_var', u'B_var', u'C_var', u'E_var', u'F_var', u'G_var'], dtype='object')"
       ]
      },
      {
       "output_type": "stream",
       "stream": "stdout",
       "text": [
        "\n",
        "Number of features:20\n",
        "score:A_purchase:0.854991634133"
       ]
      },
      {
       "output_type": "stream",
       "stream": "stdout",
       "text": [
        "\n",
        "Index([u'shopping_pt', u'group_size', u'homeowner', u'car_age', u'married_couple', u'A', u'C', u'E', u'F', u'G', u'A_init', u'D_init', u'E_init', u'F_init', u'A_change', u'B_change', u'D_change', u'F_change', u'A_var', u'F_var'], dtype='object')"
       ]
      },
      {
       "output_type": "stream",
       "stream": "stdout",
       "text": [
        "\n",
        "score:B_purchase:0.886486663823"
       ]
      },
      {
       "output_type": "stream",
       "stream": "stdout",
       "text": [
        "\n",
        "Index([u'shopping_pt', u'homeowner', u'A', u'B', u'E', u'G', u'A_init', u'B_init', u'D_init', u'E_init', u'F_init', u'A_change', u'E_change', u'F_change', u'A_var', u'B_var', u'C_var', u'D_var', u'F_var', u'G_var'], dtype='object')"
       ]
      },
      {
       "output_type": "stream",
       "stream": "stdout",
       "text": [
        "\n",
        "score:C_purchase:0.752928053542"
       ]
      },
      {
       "output_type": "stream",
       "stream": "stdout",
       "text": [
        "\n",
        "Index([u'shopping_pt', u'homeowner', u'married_couple', u'C_previous', u'B', u'C', u'D', u'E', u'C_init', u'E_init', u'A_change', u'C_change', u'D_change', u'F_change', u'A_var', u'B_var', u'C_var', u'D_var', u'E_var', u'F_var'], dtype='object')"
       ]
      },
      {
       "output_type": "stream",
       "stream": "stdout",
       "text": [
        "\n",
        "score:D_purchase:0.838423936223"
       ]
      },
      {
       "output_type": "stream",
       "stream": "stdout",
       "text": [
        "\n",
        "Index([u'shopping_pt', u'homeowner', u'C_previous', u'A', u'B', u'C', u'D', u'E', u'G', u'duration_offers', u'C_init', u'D_init', u'E_init', u'A_change', u'D_change', u'A_var', u'B_var', u'D_var', u'E_var', u'F_var'], dtype='object')"
       ]
      },
      {
       "output_type": "stream",
       "stream": "stdout",
       "text": [
        "\n",
        "score:E_purchase:0.892359174568"
       ]
      },
      {
       "output_type": "stream",
       "stream": "stdout",
       "text": [
        "\n",
        "Index([u'shopping_pt', u'group_size', u'homeowner', u'car_age', u'married_couple', u'A', u'C', u'E', u'A_init', u'B_init', u'C_init', u'D_init', u'A_change', u'B_change', u'C_change', u'E_change', u'A_var', u'C_var', u'D_var', u'F_var'], dtype='object')"
       ]
      },
      {
       "output_type": "stream",
       "stream": "stdout",
       "text": [
        "\n",
        "score:F_purchase:0.789803484138"
       ]
      },
      {
       "output_type": "stream",
       "stream": "stdout",
       "text": [
        "\n",
        "Index([u'shopping_pt', u'group_size', u'homeowner', u'married_couple', u'A', u'B', u'D', u'E', u'F', u'G', u'A_init', u'D_init', u'E_init', u'F_init', u'A_change', u'F_change', u'A_var', u'E_var', u'F_var', u'G_var'], dtype='object')"
       ]
      },
      {
       "output_type": "stream",
       "stream": "stdout",
       "text": [
        "\n",
        "score:G_purchase:0.694826285227"
       ]
      },
      {
       "output_type": "stream",
       "stream": "stdout",
       "text": [
        "\n",
        "Index([u'shopping_pt', u'homeowner', u'married_couple', u'C', u'D', u'E', u'F', u'G', u'F_init', u'G_init', u'A_change', u'F_change', u'G_change', u'A_var', u'B_var', u'C_var', u'D_var', u'E_var', u'F_var', u'G_var'], dtype='object')"
       ]
      },
      {
       "output_type": "stream",
       "stream": "stdout",
       "text": [
        "\n",
        "Number of features:21\n",
        "score:A_purchase:0.85482759752"
       ]
      },
      {
       "output_type": "stream",
       "stream": "stdout",
       "text": [
        "\n",
        "Index([u'shopping_pt', u'group_size', u'homeowner', u'car_age', u'married_couple', u'A', u'C', u'E', u'F', u'G', u'A_init', u'D_init', u'E_init', u'F_init', u'A_change', u'B_change', u'D_change', u'F_change', u'A_var', u'D_var', u'F_var'], dtype='object')"
       ]
      },
      {
       "output_type": "stream",
       "stream": "stdout",
       "text": [
        "\n",
        "score:B_purchase:0.886486663823"
       ]
      },
      {
       "output_type": "stream",
       "stream": "stdout",
       "text": [
        "\n",
        "Index([u'shopping_pt', u'homeowner', u'A', u'B', u'E', u'F', u'G', u'A_init', u'B_init', u'D_init', u'E_init', u'F_init', u'A_change', u'E_change', u'F_change', u'A_var', u'B_var', u'C_var', u'D_var', u'F_var', u'G_var'], dtype='object')"
       ]
      },
      {
       "output_type": "stream",
       "stream": "stdout",
       "text": [
        "\n",
        "score:C_purchase:0.753649814639"
       ]
      },
      {
       "output_type": "stream",
       "stream": "stdout",
       "text": [
        "\n",
        "Index([u'shopping_pt', u'homeowner', u'married_couple', u'C_previous', u'B', u'C', u'D', u'E', u'C_init', u'D_init', u'E_init', u'A_change', u'C_change', u'D_change', u'F_change', u'A_var', u'B_var', u'C_var', u'D_var', u'E_var', u'F_var'], dtype='object')"
       ]
      },
      {
       "output_type": "stream",
       "stream": "stdout",
       "text": [
        "\n",
        "score:D_purchase:0.841114136675"
       ]
      },
      {
       "output_type": "stream",
       "stream": "stdout",
       "text": [
        "\n",
        "Index([u'shopping_pt', u'homeowner', u'C_previous', u'A', u'B', u'C', u'D', u'E', u'F', u'G', u'duration_offers', u'C_init', u'D_init', u'E_init', u'A_change', u'D_change', u'A_var', u'B_var', u'D_var', u'E_var', u'F_var'], dtype='object')"
       ]
      },
      {
       "output_type": "stream",
       "stream": "stdout",
       "text": [
        "\n",
        "score:E_purchase:0.892359174568"
       ]
      },
      {
       "output_type": "stream",
       "stream": "stdout",
       "text": [
        "\n",
        "Index([u'shopping_pt', u'group_size', u'homeowner', u'car_age', u'married_couple', u'A', u'C', u'E', u'G', u'A_init', u'B_init', u'C_init', u'D_init', u'A_change', u'B_change', u'C_change', u'E_change', u'A_var', u'C_var', u'D_var', u'F_var'], dtype='object')"
       ]
      },
      {
       "output_type": "stream",
       "stream": "stdout",
       "text": [
        "\n",
        "score:F_purchase:0.789344181621"
       ]
      },
      {
       "output_type": "stream",
       "stream": "stdout",
       "text": [
        "\n",
        "Index([u'shopping_pt', u'group_size', u'homeowner', u'married_couple', u'A', u'B', u'D', u'E', u'F', u'G', u'A_init', u'D_init', u'E_init', u'F_init', u'A_change', u'B_change', u'F_change', u'A_var', u'E_var', u'F_var', u'G_var'], dtype='object')"
       ]
      },
      {
       "output_type": "stream",
       "stream": "stdout",
       "text": [
        "\n",
        "score:G_purchase:0.692267314064"
       ]
      },
      {
       "output_type": "stream",
       "stream": "stdout",
       "text": [
        "\n",
        "Index([u'shopping_pt', u'homeowner', u'married_couple', u'B', u'C', u'D', u'E', u'F', u'G', u'F_init', u'G_init', u'A_change', u'F_change', u'G_change', u'A_var', u'B_var', u'C_var', u'D_var', u'E_var', u'F_var', u'G_var'], dtype='object')"
       ]
      },
      {
       "output_type": "stream",
       "stream": "stdout",
       "text": [
        "\n",
        "Number of features:22\n",
        "score:A_purchase:0.854860404842"
       ]
      },
      {
       "output_type": "stream",
       "stream": "stdout",
       "text": [
        "\n",
        "Index([u'shopping_pt', u'group_size', u'homeowner', u'car_age', u'married_couple', u'A', u'C', u'E', u'F', u'G', u'A_init', u'D_init', u'E_init', u'F_init', u'A_change', u'B_change', u'D_change', u'E_change', u'F_change', u'A_var', u'D_var', u'F_var'], dtype='object')"
       ]
      },
      {
       "output_type": "stream",
       "stream": "stdout",
       "text": [
        "\n",
        "score:B_purchase:0.886486663823"
       ]
      },
      {
       "output_type": "stream",
       "stream": "stdout",
       "text": [
        "\n",
        "Index([u'shopping_pt', u'homeowner', u'A', u'B', u'E', u'F', u'G', u'A_init', u'B_init', u'D_init', u'E_init', u'F_init', u'A_change', u'E_change', u'F_change', u'A_var', u'B_var', u'C_var', u'D_var', u'E_var', u'F_var', u'G_var'], dtype='object')"
       ]
      },
      {
       "output_type": "stream",
       "stream": "stdout",
       "text": [
        "\n",
        "score:C_purchase:0.753682621961"
       ]
      },
      {
       "output_type": "stream",
       "stream": "stdout",
       "text": [
        "\n",
        "Index([u'shopping_pt', u'group_size', u'homeowner', u'married_couple', u'C_previous', u'B', u'C', u'D', u'E', u'C_init', u'D_init', u'E_init', u'A_change', u'C_change', u'D_change', u'F_change', u'A_var', u'B_var', u'C_var', u'D_var', u'E_var', u'F_var'], dtype='object')"
       ]
      },
      {
       "output_type": "stream",
       "stream": "stdout",
       "text": [
        "\n",
        "score:D_purchase:0.839933073062"
       ]
      },
      {
       "output_type": "stream",
       "stream": "stdout",
       "text": [
        "\n",
        "Index([u'shopping_pt', u'homeowner', u'C_previous', u'A', u'B', u'C', u'D', u'E', u'F', u'G', u'duration_offers', u'C_init', u'D_init', u'E_init', u'A_change', u'D_change', u'F_change', u'A_var', u'B_var', u'D_var', u'E_var', u'F_var'], dtype='object')"
       ]
      },
      {
       "output_type": "stream",
       "stream": "stdout",
       "text": [
        "\n",
        "score:E_purchase:0.892359174568"
       ]
      },
      {
       "output_type": "stream",
       "stream": "stdout",
       "text": [
        "\n",
        "Index([u'shopping_pt', u'group_size', u'homeowner', u'car_age', u'married_couple', u'A', u'C', u'E', u'G', u'A_init', u'B_init', u'C_init', u'D_init', u'A_change', u'B_change', u'C_change', u'E_change', u'A_var', u'C_var', u'D_var', u'F_var', u'G_var'], dtype='object')"
       ]
      },
      {
       "output_type": "stream",
       "stream": "stdout",
       "text": [
        "\n",
        "score:F_purchase:0.789344181621"
       ]
      },
      {
       "output_type": "stream",
       "stream": "stdout",
       "text": [
        "\n",
        "Index([u'shopping_pt', u'group_size', u'homeowner', u'married_couple', u'A', u'B', u'D', u'E', u'F', u'G', u'A_init', u'D_init', u'E_init', u'F_init', u'A_change', u'B_change', u'F_change', u'A_var', u'B_var', u'E_var', u'F_var', u'G_var'], dtype='object')"
       ]
      },
      {
       "output_type": "stream",
       "stream": "stdout",
       "text": [
        "\n",
        "score:G_purchase:0.693678028936"
       ]
      },
      {
       "output_type": "stream",
       "stream": "stdout",
       "text": [
        "\n",
        "Index([u'shopping_pt', u'homeowner', u'married_couple', u'B', u'C', u'D', u'E', u'F', u'G', u'C_init', u'F_init', u'G_init', u'A_change', u'F_change', u'G_change', u'A_var', u'B_var', u'C_var', u'D_var', u'E_var', u'F_var', u'G_var'], dtype='object')"
       ]
      },
      {
       "output_type": "stream",
       "stream": "stdout",
       "text": [
        "\n",
        "Number of features:23\n",
        "score:A_purchase:0.855418129326"
       ]
      },
      {
       "output_type": "stream",
       "stream": "stdout",
       "text": [
        "\n",
        "Index([u'shopping_pt', u'group_size', u'homeowner', u'car_age', u'married_couple', u'A', u'C', u'E', u'F', u'G', u'A_init', u'B_init', u'D_init', u'E_init', u'F_init', u'A_change', u'B_change', u'D_change', u'E_change', u'F_change', u'A_var', u'D_var', u'F_var'], dtype='object')"
       ]
      },
      {
       "output_type": "stream",
       "stream": "stdout",
       "text": [
        "\n",
        "score:B_purchase:0.886486663823"
       ]
      },
      {
       "output_type": "stream",
       "stream": "stdout",
       "text": [
        "\n",
        "Index([u'shopping_pt', u'homeowner', u'A', u'B', u'E', u'F', u'G', u'duration_offers', u'A_init', u'B_init', u'D_init', u'E_init', u'F_init', u'A_change', u'E_change', u'F_change', u'A_var', u'B_var', u'C_var', u'D_var', u'E_var', u'F_var', u'G_var'], dtype='object')"
       ]
      },
      {
       "output_type": "stream",
       "stream": "stdout",
       "text": [
        "\n",
        "score:C_purchase:0.753124897477"
       ]
      },
      {
       "output_type": "stream",
       "stream": "stdout",
       "text": [
        "\n",
        "Index([u'shopping_pt', u'group_size', u'homeowner', u'married_couple', u'C_previous', u'A', u'B', u'C', u'D', u'E', u'C_init', u'D_init', u'E_init', u'A_change', u'C_change', u'D_change', u'F_change', u'A_var', u'B_var', u'C_var', u'D_var', u'E_var', u'F_var'], dtype='object')"
       ]
      },
      {
       "output_type": "stream",
       "stream": "stdout",
       "text": [
        "\n",
        "score:D_purchase:0.841081329353"
       ]
      },
      {
       "output_type": "stream",
       "stream": "stdout",
       "text": [
        "\n",
        "Index([u'shopping_pt', u'homeowner', u'married_couple', u'C_previous', u'A', u'B', u'C', u'D', u'E', u'F', u'G', u'duration_offers', u'C_init', u'D_init', u'E_init', u'A_change', u'D_change', u'F_change', u'A_var', u'B_var', u'D_var', u'E_var', u'F_var'], dtype='object')"
       ]
      },
      {
       "output_type": "stream",
       "stream": "stdout",
       "text": [
        "\n",
        "score:E_purchase:0.892359174568"
       ]
      },
      {
       "output_type": "stream",
       "stream": "stdout",
       "text": [
        "\n",
        "Index([u'shopping_pt', u'group_size', u'homeowner', u'car_age', u'married_couple', u'A', u'C', u'E', u'G', u'A_init', u'B_init', u'C_init', u'D_init', u'A_change', u'B_change', u'C_change', u'E_change', u'G_change', u'A_var', u'C_var', u'D_var', u'F_var', u'G_var'], dtype='object')"
       ]
      },
      {
       "output_type": "stream",
       "stream": "stdout",
       "text": [
        "\n",
        "score:F_purchase:0.789934713428"
       ]
      },
      {
       "output_type": "stream",
       "stream": "stdout",
       "text": [
        "\n",
        "Index([u'shopping_pt', u'group_size', u'homeowner', u'married_couple', u'A', u'B', u'D', u'E', u'F', u'G', u'A_init', u'D_init', u'E_init', u'F_init', u'A_change', u'B_change', u'C_change', u'F_change', u'A_var', u'B_var', u'E_var', u'F_var', u'G_var'], dtype='object')"
       ]
      },
      {
       "output_type": "stream",
       "stream": "stdout",
       "text": [
        "\n",
        "score:G_purchase:0.694563826646"
       ]
      },
      {
       "output_type": "stream",
       "stream": "stdout",
       "text": [
        "\n",
        "Index([u'shopping_pt', u'homeowner', u'married_couple', u'B', u'C', u'D', u'E', u'F', u'G', u'C_init', u'E_init', u'F_init', u'G_init', u'A_change', u'F_change', u'G_change', u'A_var', u'B_var', u'C_var', u'D_var', u'E_var', u'F_var', u'G_var'], dtype='object')"
       ]
      },
      {
       "output_type": "stream",
       "stream": "stdout",
       "text": [
        "\n",
        "Number of features:24\n",
        "score:A_purchase:0.854991634133"
       ]
      },
      {
       "output_type": "stream",
       "stream": "stdout",
       "text": [
        "\n",
        "Index([u'shopping_pt', u'group_size', u'homeowner', u'car_age', u'married_couple', u'A', u'B', u'C', u'E', u'F', u'G', u'A_init', u'B_init', u'D_init', u'E_init', u'F_init', u'A_change', u'B_change', u'D_change', u'E_change', u'F_change', u'A_var', u'D_var', u'F_var'], dtype='object')"
       ]
      },
      {
       "output_type": "stream",
       "stream": "stdout",
       "text": [
        "\n",
        "score:B_purchase:0.886486663823"
       ]
      },
      {
       "output_type": "stream",
       "stream": "stdout",
       "text": [
        "\n",
        "Index([u'shopping_pt', u'homeowner', u'A', u'B', u'E', u'F', u'G', u'duration_offers', u'A_init', u'B_init', u'C_init', u'D_init', u'E_init', u'F_init', u'A_change', u'E_change', u'F_change', u'A_var', u'B_var', u'C_var', u'D_var', u'E_var', u'F_var', u'G_var'], dtype='object')"
       ]
      },
      {
       "output_type": "stream",
       "stream": "stdout",
       "text": [
        "\n",
        "score:C_purchase:0.753682621961"
       ]
      },
      {
       "output_type": "stream",
       "stream": "stdout",
       "text": [
        "\n",
        "Index([u'shopping_pt', u'group_size', u'homeowner', u'married_couple', u'C_previous', u'A', u'B', u'C', u'D', u'E', u'F', u'C_init', u'D_init', u'E_init', u'A_change', u'C_change', u'D_change', u'F_change', u'A_var', u'B_var', u'C_var', u'D_var', u'E_var', u'F_var'], dtype='object')"
       ]
      },
      {
       "output_type": "stream",
       "stream": "stdout",
       "text": [
        "\n",
        "score:D_purchase:0.840523604869"
       ]
      },
      {
       "output_type": "stream",
       "stream": "stdout",
       "text": [
        "\n",
        "Index([u'shopping_pt', u'homeowner', u'married_couple', u'C_previous', u'A', u'B', u'C', u'D', u'E', u'F', u'G', u'duration_offers', u'B_init', u'C_init', u'D_init', u'E_init', u'A_change', u'D_change', u'F_change', u'A_var', u'B_var', u'D_var', u'E_var', u'F_var'], dtype='object')"
       ]
      },
      {
       "output_type": "stream",
       "stream": "stdout",
       "text": [
        "\n",
        "score:E_purchase:0.892359174568"
       ]
      },
      {
       "output_type": "stream",
       "stream": "stdout",
       "text": [
        "\n",
        "Index([u'shopping_pt', u'group_size', u'homeowner', u'car_age', u'married_couple', u'A', u'C', u'E', u'G', u'A_init', u'B_init', u'C_init', u'D_init', u'A_change', u'B_change', u'C_change', u'E_change', u'G_change', u'A_var', u'C_var', u'D_var', u'E_var', u'F_var', u'G_var'], dtype='object')"
       ]
      },
      {
       "output_type": "stream",
       "stream": "stdout",
       "text": [
        "\n",
        "score:F_purchase:0.789672254847"
       ]
      },
      {
       "output_type": "stream",
       "stream": "stdout",
       "text": [
        "\n",
        "Index([u'shopping_pt', u'group_size', u'homeowner', u'married_couple', u'A', u'B', u'D', u'E', u'F', u'G', u'A_init', u'D_init', u'E_init', u'F_init', u'A_change', u'B_change', u'C_change', u'F_change', u'A_var', u'B_var', u'C_var', u'E_var', u'F_var', u'G_var'], dtype='object')"
       ]
      },
      {
       "output_type": "stream",
       "stream": "stdout",
       "text": [
        "\n",
        "score:G_purchase:0.695187165775"
       ]
      },
      {
       "output_type": "stream",
       "stream": "stdout",
       "text": [
        "\n",
        "Index([u'shopping_pt', u'homeowner', u'married_couple', u'B', u'C', u'D', u'E', u'F', u'G', u'C_init', u'D_init', u'E_init', u'F_init', u'G_init', u'A_change', u'F_change', u'G_change', u'A_var', u'B_var', u'C_var', u'D_var', u'E_var', u'F_var', u'G_var'], dtype='object')"
       ]
      },
      {
       "output_type": "stream",
       "stream": "stdout",
       "text": [
        "\n",
        "Number of features:25\n",
        "score:A_purchase:0.855188478068"
       ]
      },
      {
       "output_type": "stream",
       "stream": "stdout",
       "text": [
        "\n",
        "Index([u'shopping_pt', u'group_size', u'homeowner', u'car_age', u'married_couple', u'A', u'B', u'C', u'D', u'E', u'F', u'G', u'A_init', u'B_init', u'D_init', u'E_init', u'F_init', u'A_change', u'B_change', u'D_change', u'E_change', u'F_change', u'A_var', u'D_var', u'F_var'], dtype='object')"
       ]
      },
      {
       "output_type": "stream",
       "stream": "stdout",
       "text": [
        "\n",
        "score:B_purchase:0.886486663823"
       ]
      },
      {
       "output_type": "stream",
       "stream": "stdout",
       "text": [
        "\n",
        "Index([u'shopping_pt', u'homeowner', u'A', u'B', u'C', u'E', u'F', u'G', u'duration_offers', u'A_init', u'B_init', u'C_init', u'D_init', u'E_init', u'F_init', u'A_change', u'E_change', u'F_change', u'A_var', u'B_var', u'C_var', u'D_var', u'E_var', u'F_var', u'G_var'], dtype='object')"
       ]
      },
      {
       "output_type": "stream",
       "stream": "stdout",
       "text": [
        "\n",
        "score:C_purchase:0.753649814639"
       ]
      },
      {
       "output_type": "stream",
       "stream": "stdout",
       "text": [
        "\n",
        "Index([u'shopping_pt', u'group_size', u'homeowner', u'married_couple', u'C_previous', u'A', u'B', u'C', u'D', u'E', u'F', u'C_init', u'D_init', u'E_init', u'A_change', u'B_change', u'C_change', u'D_change', u'F_change', u'A_var', u'B_var', u'C_var', u'D_var', u'E_var', u'F_var'], dtype='object')"
       ]
      },
      {
       "output_type": "stream",
       "stream": "stdout",
       "text": [
        "\n",
        "score:D_purchase:0.841212558643"
       ]
      },
      {
       "output_type": "stream",
       "stream": "stdout",
       "text": [
        "\n",
        "Index([u'shopping_pt', u'homeowner', u'married_couple', u'C_previous', u'A', u'B', u'C', u'D', u'E', u'F', u'G', u'duration_offers', u'B_init', u'C_init', u'D_init', u'E_init', u'G_init', u'A_change', u'D_change', u'F_change', u'A_var', u'B_var', u'D_var', u'E_var', u'F_var'], dtype='object')"
       ]
      },
      {
       "output_type": "stream",
       "stream": "stdout",
       "text": [
        "\n",
        "score:E_purchase:0.892359174568"
       ]
      },
      {
       "output_type": "stream",
       "stream": "stdout",
       "text": [
        "\n",
        "Index([u'shopping_pt', u'group_size', u'homeowner', u'car_age', u'married_couple', u'A', u'C', u'E', u'G', u'A_init', u'B_init', u'C_init', u'D_init', u'A_change', u'B_change', u'C_change', u'D_change', u'E_change', u'G_change', u'A_var', u'C_var', u'D_var', u'E_var', u'F_var', u'G_var'], dtype='object')"
       ]
      },
      {
       "output_type": "stream",
       "stream": "stdout",
       "text": [
        "\n",
        "score:F_purchase:0.789409796267"
       ]
      },
      {
       "output_type": "stream",
       "stream": "stdout",
       "text": [
        "\n",
        "Index([u'shopping_pt', u'group_size', u'homeowner', u'married_couple', u'A', u'B', u'D', u'E', u'F', u'G', u'A_init', u'D_init', u'E_init', u'F_init', u'A_change', u'B_change', u'C_change', u'F_change', u'A_var', u'B_var', u'C_var', u'D_var', u'E_var', u'F_var', u'G_var'], dtype='object')"
       ]
      },
      {
       "output_type": "stream",
       "stream": "stdout",
       "text": [
        "\n",
        "score:G_purchase:0.695187165775"
       ]
      },
      {
       "output_type": "stream",
       "stream": "stdout",
       "text": [
        "\n",
        "Index([u'shopping_pt', u'homeowner', u'married_couple', u'B', u'C', u'D', u'E', u'F', u'G', u'duration_offers', u'C_init', u'D_init', u'E_init', u'F_init', u'G_init', u'A_change', u'F_change', u'G_change', u'A_var', u'B_var', u'C_var', u'D_var', u'E_var', u'F_var', u'G_var'], dtype='object')"
       ]
      },
      {
       "output_type": "stream",
       "stream": "stdout",
       "text": [
        "\n",
        "Number of features:26\n",
        "score:A_purchase:0.855188478068"
       ]
      },
      {
       "output_type": "stream",
       "stream": "stdout",
       "text": [
        "\n",
        "Index([u'shopping_pt', u'group_size', u'homeowner', u'car_age', u'married_couple', u'A', u'B', u'C', u'D', u'E', u'F', u'G', u'A_init', u'B_init', u'D_init', u'E_init', u'F_init', u'A_change', u'B_change', u'D_change', u'E_change', u'F_change', u'A_var', u'D_var', u'E_var', u'F_var'], dtype='object')"
       ]
      },
      {
       "output_type": "stream",
       "stream": "stdout",
       "text": [
        "\n",
        "score:B_purchase:0.886486663823"
       ]
      },
      {
       "output_type": "stream",
       "stream": "stdout",
       "text": [
        "\n",
        "Index([u'shopping_pt', u'homeowner', u'C_previous', u'A', u'B', u'C', u'E', u'F', u'G', u'duration_offers', u'A_init', u'B_init', u'C_init', u'D_init', u'E_init', u'F_init', u'A_change', u'E_change', u'F_change', u'A_var', u'B_var', u'C_var', u'D_var', u'E_var', u'F_var', u'G_var'], dtype='object')"
       ]
      },
      {
       "output_type": "stream",
       "stream": "stdout",
       "text": [
        "\n",
        "score:C_purchase:0.753649814639"
       ]
      },
      {
       "output_type": "stream",
       "stream": "stdout",
       "text": [
        "\n",
        "Index([u'shopping_pt', u'group_size', u'homeowner', u'married_couple', u'C_previous', u'A', u'B', u'C', u'D', u'E', u'F', u'C_init', u'D_init', u'E_init', u'A_change', u'B_change', u'C_change', u'D_change', u'E_change', u'F_change', u'A_var', u'B_var', u'C_var', u'D_var', u'E_var', u'F_var'], dtype='object')"
       ]
      },
      {
       "output_type": "stream",
       "stream": "stdout",
       "text": [
        "\n",
        "score:D_purchase:0.841245365966"
       ]
      },
      {
       "output_type": "stream",
       "stream": "stdout",
       "text": [
        "\n",
        "Index([u'shopping_pt', u'homeowner', u'married_couple', u'C_previous', u'A', u'B', u'C', u'D', u'E', u'F', u'G', u'duration_offers', u'B_init', u'C_init', u'D_init', u'E_init', u'G_init', u'A_change', u'D_change', u'E_change', u'F_change', u'A_var', u'B_var', u'D_var', u'E_var', u'F_var'], dtype='object')"
       ]
      },
      {
       "output_type": "stream",
       "stream": "stdout",
       "text": [
        "\n",
        "score:E_purchase:0.892359174568"
       ]
      },
      {
       "output_type": "stream",
       "stream": "stdout",
       "text": [
        "\n",
        "Index([u'shopping_pt', u'group_size', u'homeowner', u'car_age', u'married_couple', u'A', u'C', u'E', u'F', u'G', u'A_init', u'B_init', u'C_init', u'D_init', u'A_change', u'B_change', u'C_change', u'D_change', u'E_change', u'G_change', u'A_var', u'C_var', u'D_var', u'E_var', u'F_var', u'G_var'], dtype='object')"
       ]
      },
      {
       "output_type": "stream",
       "stream": "stdout",
       "text": [
        "\n",
        "score:F_purchase:0.789376988944"
       ]
      },
      {
       "output_type": "stream",
       "stream": "stdout",
       "text": [
        "\n",
        "Index([u'shopping_pt', u'group_size', u'homeowner', u'married_couple', u'A', u'B', u'D', u'E', u'F', u'G', u'A_init', u'D_init', u'E_init', u'F_init', u'A_change', u'B_change', u'C_change', u'E_change', u'F_change', u'A_var', u'B_var', u'C_var', u'D_var', u'E_var', u'F_var', u'G_var'], dtype='object')"
       ]
      },
      {
       "output_type": "stream",
       "stream": "stdout",
       "text": [
        "\n",
        "score:G_purchase:0.695252780421"
       ]
      },
      {
       "output_type": "stream",
       "stream": "stdout",
       "text": [
        "\n",
        "Index([u'shopping_pt', u'homeowner', u'married_couple', u'B', u'C', u'D', u'E', u'F', u'G', u'duration_offers', u'C_init', u'D_init', u'E_init', u'F_init', u'G_init', u'A_change', u'B_change', u'F_change', u'G_change', u'A_var', u'B_var', u'C_var', u'D_var', u'E_var', u'F_var', u'G_var'], dtype='object')"
       ]
      },
      {
       "output_type": "stream",
       "stream": "stdout",
       "text": [
        "\n",
        "Number of features:27\n",
        "score:A_purchase:0.855057248778"
       ]
      },
      {
       "output_type": "stream",
       "stream": "stdout",
       "text": [
        "\n",
        "Index([u'shopping_pt', u'group_size', u'homeowner', u'car_age', u'married_couple', u'A', u'B', u'C', u'D', u'E', u'F', u'G', u'A_init', u'B_init', u'D_init', u'E_init', u'F_init', u'A_change', u'B_change', u'D_change', u'E_change', u'F_change', u'A_var', u'C_var', u'D_var', u'E_var', u'F_var'], dtype='object')"
       ]
      },
      {
       "output_type": "stream",
       "stream": "stdout",
       "text": [
        "\n",
        "score:B_purchase:0.886486663823"
       ]
      },
      {
       "output_type": "stream",
       "stream": "stdout",
       "text": [
        "\n",
        "Index([u'shopping_pt', u'homeowner', u'C_previous', u'A', u'B', u'C', u'E', u'F', u'G', u'duration_offers', u'A_init', u'B_init', u'C_init', u'D_init', u'E_init', u'F_init', u'A_change', u'B_change', u'E_change', u'F_change', u'A_var', u'B_var', u'C_var', u'D_var', u'E_var', u'F_var', u'G_var'], dtype='object')"
       ]
      },
      {
       "output_type": "stream",
       "stream": "stdout",
       "text": [
        "\n",
        "score:C_purchase:0.756536859027"
       ]
      },
      {
       "output_type": "stream",
       "stream": "stdout",
       "text": [
        "\n",
        "Index([u'shopping_pt', u'group_size', u'homeowner', u'risk_factor', u'married_couple', u'C_previous', u'A', u'B', u'C', u'D', u'E', u'F', u'C_init', u'D_init', u'E_init', u'A_change', u'B_change', u'C_change', u'D_change', u'E_change', u'F_change', u'A_var', u'B_var', u'C_var', u'D_var', u'E_var', u'F_var'], dtype='object')"
       ]
      },
      {
       "output_type": "stream",
       "stream": "stdout",
       "text": [
        "\n",
        "score:D_purchase:0.841442209901"
       ]
      },
      {
       "output_type": "stream",
       "stream": "stdout",
       "text": [
        "\n",
        "Index([u'shopping_pt', u'homeowner', u'married_couple', u'C_previous', u'A', u'B', u'C', u'D', u'E', u'F', u'G', u'duration_offers', u'B_init', u'C_init', u'D_init', u'E_init', u'G_init', u'A_change', u'D_change', u'E_change', u'F_change', u'G_change', u'A_var', u'B_var', u'D_var', u'E_var', u'F_var'], dtype='object')"
       ]
      },
      {
       "output_type": "stream",
       "stream": "stdout",
       "text": [
        "\n",
        "score:E_purchase:0.892359174568"
       ]
      },
      {
       "output_type": "stream",
       "stream": "stdout",
       "text": [
        "\n",
        "Index([u'shopping_pt', u'group_size', u'homeowner', u'car_age', u'married_couple', u'A', u'C', u'D', u'E', u'F', u'G', u'A_init', u'B_init', u'C_init', u'D_init', u'A_change', u'B_change', u'C_change', u'D_change', u'E_change', u'G_change', u'A_var', u'C_var', u'D_var', u'E_var', u'F_var', u'G_var'], dtype='object')"
       ]
      },
      {
       "output_type": "stream",
       "stream": "stdout",
       "text": [
        "\n",
        "score:F_purchase:0.789081723041"
       ]
      },
      {
       "output_type": "stream",
       "stream": "stdout",
       "text": [
        "\n",
        "Index([u'shopping_pt', u'group_size', u'homeowner', u'married_couple', u'A', u'B', u'D', u'E', u'F', u'G', u'A_init', u'B_init', u'D_init', u'E_init', u'F_init', u'A_change', u'B_change', u'C_change', u'E_change', u'F_change', u'A_var', u'B_var', u'C_var', u'D_var', u'E_var', u'F_var', u'G_var'], dtype='object')"
       ]
      },
      {
       "output_type": "stream",
       "stream": "stdout",
       "text": [
        "\n",
        "score:G_purchase:0.693842065549"
       ]
      },
      {
       "output_type": "stream",
       "stream": "stdout",
       "text": [
        "\n",
        "Index([u'shopping_pt', u'homeowner', u'married_couple', u'B', u'C', u'D', u'E', u'F', u'G', u'duration_offers', u'A_init', u'C_init', u'D_init', u'E_init', u'F_init', u'G_init', u'A_change', u'B_change', u'F_change', u'G_change', u'A_var', u'B_var', u'C_var', u'D_var', u'E_var', u'F_var', u'G_var'], dtype='object')"
       ]
      },
      {
       "output_type": "stream",
       "stream": "stdout",
       "text": [
        "\n",
        "Number of features:28\n",
        "score:A_purchase:0.855122863423"
       ]
      },
      {
       "output_type": "stream",
       "stream": "stdout",
       "text": [
        "\n",
        "Index([u'shopping_pt', u'group_size', u'homeowner', u'car_age', u'married_couple', u'A', u'B', u'C', u'D', u'E', u'F', u'G', u'A_init', u'B_init', u'D_init', u'E_init', u'F_init', u'A_change', u'B_change', u'C_change', u'D_change', u'E_change', u'F_change', u'A_var', u'C_var', u'D_var', u'E_var', u'F_var'], dtype='object')"
       ]
      },
      {
       "output_type": "stream",
       "stream": "stdout",
       "text": [
        "\n",
        "score:B_purchase:0.886486663823"
       ]
      },
      {
       "output_type": "stream",
       "stream": "stdout",
       "text": [
        "\n",
        "Index([u'shopping_pt', u'homeowner', u'C_previous', u'A', u'B', u'C', u'E', u'F', u'G', u'duration_offers', u'A_init', u'B_init', u'C_init', u'D_init', u'E_init', u'F_init', u'A_change', u'B_change', u'E_change', u'F_change', u'G_change', u'A_var', u'B_var', u'C_var', u'D_var', u'E_var', u'F_var', u'G_var'], dtype='object')"
       ]
      },
      {
       "output_type": "stream",
       "stream": "stdout",
       "text": [
        "\n",
        "score:C_purchase:0.756438437059"
       ]
      },
      {
       "output_type": "stream",
       "stream": "stdout",
       "text": [
        "\n",
        "Index([u'shopping_pt', u'group_size', u'homeowner', u'risk_factor', u'married_couple', u'C_previous', u'A', u'B', u'C', u'D', u'E', u'F', u'G', u'C_init', u'D_init', u'E_init', u'A_change', u'B_change', u'C_change', u'D_change', u'E_change', u'F_change', u'A_var', u'B_var', u'C_var', u'D_var', u'E_var', u'F_var'], dtype='object')"
       ]
      },
      {
       "output_type": "stream",
       "stream": "stdout",
       "text": [
        "\n",
        "score:D_purchase:0.841770283127"
       ]
      },
      {
       "output_type": "stream",
       "stream": "stdout",
       "text": [
        "\n",
        "Index([u'shopping_pt', u'homeowner', u'married_couple', u'C_previous', u'A', u'B', u'C', u'D', u'E', u'F', u'G', u'duration_offers', u'B_init', u'C_init', u'D_init', u'E_init', u'G_init', u'A_change', u'D_change', u'E_change', u'F_change', u'G_change', u'A_var', u'B_var', u'D_var', u'E_var', u'F_var', u'G_var'], dtype='object')"
       ]
      },
      {
       "output_type": "stream",
       "stream": "stdout",
       "text": [
        "\n",
        "score:E_purchase:0.892359174568"
       ]
      },
      {
       "output_type": "stream",
       "stream": "stdout",
       "text": [
        "\n",
        "Index([u'shopping_pt', u'group_size', u'homeowner', u'car_age', u'married_couple', u'A', u'C', u'D', u'E', u'F', u'G', u'A_init', u'B_init', u'C_init', u'D_init', u'G_init', u'A_change', u'B_change', u'C_change', u'D_change', u'E_change', u'G_change', u'A_var', u'C_var', u'D_var', u'E_var', u'F_var', u'G_var'], dtype='object')"
       ]
      },
      {
       "output_type": "stream",
       "stream": "stdout",
       "text": [
        "\n",
        "score:F_purchase:0.782126570651"
       ]
      },
      {
       "output_type": "stream",
       "stream": "stdout",
       "text": [
        "\n",
        "Index([u'shopping_pt', u'group_size', u'homeowner', u'car_age', u'married_couple', u'A', u'B', u'D', u'E', u'F', u'G', u'A_init', u'B_init', u'D_init', u'E_init', u'F_init', u'A_change', u'B_change', u'C_change', u'E_change', u'F_change', u'A_var', u'B_var', u'C_var', u'D_var', u'E_var', u'F_var', u'G_var'], dtype='object')"
       ]
      },
      {
       "output_type": "stream",
       "stream": "stdout",
       "text": [
        "\n",
        "score:G_purchase:0.695023129162"
       ]
      },
      {
       "output_type": "stream",
       "stream": "stdout",
       "text": [
        "\n",
        "Index([u'shopping_pt', u'homeowner', u'married_couple', u'C_previous', u'B', u'C', u'D', u'E', u'F', u'G', u'duration_offers', u'A_init', u'C_init', u'D_init', u'E_init', u'F_init', u'G_init', u'A_change', u'B_change', u'F_change', u'G_change', u'A_var', u'B_var', u'C_var', u'D_var', u'E_var', u'F_var', u'G_var'], dtype='object')"
       ]
      },
      {
       "output_type": "stream",
       "stream": "stdout",
       "text": [
        "\n",
        "Number of features:29\n",
        "score:A_purchase:0.85482759752"
       ]
      },
      {
       "output_type": "stream",
       "stream": "stdout",
       "text": [
        "\n",
        "Index([u'shopping_pt', u'group_size', u'homeowner', u'car_age', u'married_couple', u'C_previous', u'A', u'B', u'C', u'D', u'E', u'F', u'G', u'A_init', u'B_init', u'D_init', u'E_init', u'F_init', u'A_change', u'B_change', u'C_change', u'D_change', u'E_change', u'F_change', u'A_var', u'C_var', u'D_var', u'E_var', u'F_var'], dtype='object')"
       ]
      },
      {
       "output_type": "stream",
       "stream": "stdout",
       "text": [
        "\n",
        "score:B_purchase:0.886486663823"
       ]
      },
      {
       "output_type": "stream",
       "stream": "stdout",
       "text": [
        "\n",
        "Index([u'shopping_pt', u'homeowner', u'car_age', u'C_previous', u'A', u'B', u'C', u'E', u'F', u'G', u'duration_offers', u'A_init', u'B_init', u'C_init', u'D_init', u'E_init', u'F_init', u'A_change', u'B_change', u'E_change', u'F_change', u'G_change', u'A_var', u'B_var', u'C_var', u'D_var', u'E_var', u'F_var', u'G_var'], dtype='object')"
       ]
      },
      {
       "output_type": "stream",
       "stream": "stdout",
       "text": [
        "\n",
        "score:C_purchase:0.756438437059"
       ]
      },
      {
       "output_type": "stream",
       "stream": "stdout",
       "text": [
        "\n",
        "Index([u'shopping_pt', u'group_size', u'homeowner', u'risk_factor', u'married_couple', u'C_previous', u'A', u'B', u'C', u'D', u'E', u'F', u'G', u'C_init', u'D_init', u'E_init', u'G_init', u'A_change', u'B_change', u'C_change', u'D_change', u'E_change', u'F_change', u'A_var', u'B_var', u'C_var', u'D_var', u'E_var', u'F_var'], dtype='object')"
       ]
      },
      {
       "output_type": "stream",
       "stream": "stdout",
       "text": [
        "\n",
        "score:D_purchase:0.842131163676"
       ]
      },
      {
       "output_type": "stream",
       "stream": "stdout",
       "text": [
        "\n",
        "Index([u'shopping_pt', u'homeowner', u'married_couple', u'C_previous', u'A', u'B', u'C', u'D', u'E', u'F', u'G', u'duration_offers', u'B_init', u'C_init', u'D_init', u'E_init', u'G_init', u'A_change', u'D_change', u'E_change', u'F_change', u'G_change', u'A_var', u'B_var', u'C_var', u'D_var', u'E_var', u'F_var', u'G_var'], dtype='object')"
       ]
      },
      {
       "output_type": "stream",
       "stream": "stdout",
       "text": [
        "\n",
        "score:E_purchase:0.892359174568"
       ]
      },
      {
       "output_type": "stream",
       "stream": "stdout",
       "text": [
        "\n",
        "Index([u'shopping_pt', u'group_size', u'homeowner', u'car_age', u'married_couple', u'A', u'B', u'C', u'D', u'E', u'F', u'G', u'A_init', u'B_init', u'C_init', u'D_init', u'G_init', u'A_change', u'B_change', u'C_change', u'D_change', u'E_change', u'G_change', u'A_var', u'C_var', u'D_var', u'E_var', u'F_var', u'G_var'], dtype='object')"
       ]
      },
      {
       "output_type": "stream",
       "stream": "stdout",
       "text": [
        "\n",
        "score:F_purchase:0.781634460812"
       ]
      },
      {
       "output_type": "stream",
       "stream": "stdout",
       "text": [
        "\n",
        "Index([u'shopping_pt', u'group_size', u'homeowner', u'car_age', u'married_couple', u'A', u'B', u'D', u'E', u'F', u'G', u'A_init', u'B_init', u'D_init', u'E_init', u'F_init', u'A_change', u'B_change', u'C_change', u'D_change', u'E_change', u'F_change', u'A_var', u'B_var', u'C_var', u'D_var', u'E_var', u'F_var', u'G_var'], dtype='object')"
       ]
      },
      {
       "output_type": "stream",
       "stream": "stdout",
       "text": [
        "\n",
        "score:G_purchase:0.694629441291"
       ]
      },
      {
       "output_type": "stream",
       "stream": "stdout",
       "text": [
        "\n",
        "Index([u'shopping_pt', u'homeowner', u'married_couple', u'C_previous', u'B', u'C', u'D', u'E', u'F', u'G', u'duration_offers', u'A_init', u'C_init', u'D_init', u'E_init', u'F_init', u'G_init', u'A_change', u'B_change', u'D_change', u'F_change', u'G_change', u'A_var', u'B_var', u'C_var', u'D_var', u'E_var', u'F_var', u'G_var'], dtype='object')"
       ]
      },
      {
       "output_type": "stream",
       "stream": "stdout",
       "text": [
        "\n",
        "Number of features:30\n",
        "score:A_purchase:0.854926019488"
       ]
      },
      {
       "output_type": "stream",
       "stream": "stdout",
       "text": [
        "\n",
        "Index([u'shopping_pt', u'group_size', u'homeowner', u'car_age', u'married_couple', u'C_previous', u'A', u'B', u'C', u'D', u'E', u'F', u'G', u'A_init', u'B_init', u'D_init', u'E_init', u'F_init', u'A_change', u'B_change', u'C_change', u'D_change', u'E_change', u'F_change', u'G_change', u'A_var', u'C_var', u'D_var', u'E_var', u'F_var'], dtype='object')"
       ]
      },
      {
       "output_type": "stream",
       "stream": "stdout",
       "text": [
        "\n",
        "score:B_purchase:0.886486663823"
       ]
      },
      {
       "output_type": "stream",
       "stream": "stdout",
       "text": [
        "\n",
        "Index([u'shopping_pt', u'homeowner', u'car_age', u'C_previous', u'A', u'B', u'C', u'E', u'F', u'G', u'duration_offers', u'A_init', u'B_init', u'C_init', u'D_init', u'E_init', u'F_init', u'A_change', u'B_change', u'D_change', u'E_change', u'F_change', u'G_change', u'A_var', u'B_var', u'C_var', u'D_var', u'E_var', u'F_var', u'G_var'], dtype='object')"
       ]
      },
      {
       "output_type": "stream",
       "stream": "stdout",
       "text": [
        "\n",
        "score:C_purchase:0.756635280995"
       ]
      },
      {
       "output_type": "stream",
       "stream": "stdout",
       "text": [
        "\n",
        "Index([u'shopping_pt', u'group_size', u'homeowner', u'risk_factor', u'married_couple', u'C_previous', u'A', u'B', u'C', u'D', u'E', u'F', u'G', u'C_init', u'D_init', u'E_init', u'G_init', u'A_change', u'B_change', u'C_change', u'D_change', u'E_change', u'F_change', u'A_var', u'B_var', u'C_var', u'D_var', u'E_var', u'F_var', u'G_var'], dtype='object')"
       ]
      },
      {
       "output_type": "stream",
       "stream": "stdout",
       "text": [
        "\n",
        "score:D_purchase:0.842065549031"
       ]
      },
      {
       "output_type": "stream",
       "stream": "stdout",
       "text": [
        "\n",
        "Index([u'shopping_pt', u'homeowner', u'married_couple', u'C_previous', u'A', u'B', u'C', u'D', u'E', u'F', u'G', u'duration_offers', u'B_init', u'C_init', u'D_init', u'E_init', u'G_init', u'A_change', u'C_change', u'D_change', u'E_change', u'F_change', u'G_change', u'A_var', u'B_var', u'C_var', u'D_var', u'E_var', u'F_var', u'G_var'], dtype='object')"
       ]
      },
      {
       "output_type": "stream",
       "stream": "stdout",
       "text": [
        "\n",
        "score:E_purchase:0.892359174568"
       ]
      },
      {
       "output_type": "stream",
       "stream": "stdout",
       "text": [
        "\n",
        "Index([u'shopping_pt', u'group_size', u'homeowner', u'car_age', u'married_couple', u'A', u'B', u'C', u'D', u'E', u'F', u'G', u'A_init', u'B_init', u'C_init', u'D_init', u'G_init', u'A_change', u'B_change', u'C_change', u'D_change', u'E_change', u'F_change', u'G_change', u'A_var', u'C_var', u'D_var', u'E_var', u'F_var', u'G_var'], dtype='object')"
       ]
      },
      {
       "output_type": "stream",
       "stream": "stdout",
       "text": [
        "\n",
        "score:F_purchase:0.782192185296"
       ]
      },
      {
       "output_type": "stream",
       "stream": "stdout",
       "text": [
        "\n",
        "Index([u'shopping_pt', u'group_size', u'homeowner', u'car_age', u'married_couple', u'C_previous', u'A', u'B', u'D', u'E', u'F', u'G', u'A_init', u'B_init', u'D_init', u'E_init', u'F_init', u'A_change', u'B_change', u'C_change', u'D_change', u'E_change', u'F_change', u'A_var', u'B_var', u'C_var', u'D_var', u'E_var', u'F_var', u'G_var'], dtype='object')"
       ]
      },
      {
       "output_type": "stream",
       "stream": "stdout",
       "text": [
        "\n",
        "score:G_purchase:0.694465404678"
       ]
      },
      {
       "output_type": "stream",
       "stream": "stdout",
       "text": [
        "\n",
        "Index([u'shopping_pt', u'homeowner', u'married_couple', u'C_previous', u'A', u'B', u'C', u'D', u'E', u'F', u'G', u'duration_offers', u'A_init', u'C_init', u'D_init', u'E_init', u'F_init', u'G_init', u'A_change', u'B_change', u'D_change', u'F_change', u'G_change', u'A_var', u'B_var', u'C_var', u'D_var', u'E_var', u'F_var', u'G_var'], dtype='object')"
       ]
      },
      {
       "output_type": "stream",
       "stream": "stdout",
       "text": [
        "\n",
        "Number of features:31\n",
        "score:A_purchase:0.855188478068"
       ]
      },
      {
       "output_type": "stream",
       "stream": "stdout",
       "text": [
        "\n",
        "Index([u'shopping_pt', u'group_size', u'homeowner', u'car_age', u'married_couple', u'C_previous', u'A', u'B', u'C', u'D', u'E', u'F', u'G', u'A_init', u'B_init', u'C_init', u'D_init', u'E_init', u'F_init', u'A_change', u'B_change', u'C_change', u'D_change', u'E_change', u'F_change', u'G_change', u'A_var', u'C_var', u'D_var', u'E_var', u'F_var'], dtype='object')"
       ]
      },
      {
       "output_type": "stream",
       "stream": "stdout",
       "text": [
        "\n",
        "score:B_purchase:0.886486663823"
       ]
      },
      {
       "output_type": "stream",
       "stream": "stdout",
       "text": [
        "\n",
        "Index([u'shopping_pt', u'homeowner', u'car_age', u'married_couple', u'C_previous', u'A', u'B', u'C', u'E', u'F', u'G', u'duration_offers', u'A_init', u'B_init', u'C_init', u'D_init', u'E_init', u'F_init', u'A_change', u'B_change', u'D_change', u'E_change', u'F_change', u'G_change', u'A_var', u'B_var', u'C_var', u'D_var', u'E_var', u'F_var', u'G_var'], dtype='object')"
       ]
      },
      {
       "output_type": "stream",
       "stream": "stdout",
       "text": [
        "\n",
        "score:C_purchase:0.756143171156"
       ]
      },
      {
       "output_type": "stream",
       "stream": "stdout",
       "text": [
        "\n",
        "Index([u'shopping_pt', u'group_size', u'homeowner', u'risk_factor', u'married_couple', u'C_previous', u'A', u'B', u'C', u'D', u'E', u'F', u'G', u'C_init', u'D_init', u'E_init', u'G_init', u'A_change', u'B_change', u'C_change', u'D_change', u'E_change', u'F_change', u'G_change', u'A_var', u'B_var', u'C_var', u'D_var', u'E_var', u'F_var', u'G_var'], dtype='object')"
       ]
      },
      {
       "output_type": "stream",
       "stream": "stdout",
       "text": [
        "\n",
        "score:D_purchase:0.841999934385"
       ]
      },
      {
       "output_type": "stream",
       "stream": "stdout",
       "text": [
        "\n",
        "Index([u'shopping_pt', u'homeowner', u'married_couple', u'C_previous', u'A', u'B', u'C', u'D', u'E', u'F', u'G', u'duration_offers', u'A_init', u'B_init', u'C_init', u'D_init', u'E_init', u'G_init', u'A_change', u'C_change', u'D_change', u'E_change', u'F_change', u'G_change', u'A_var', u'B_var', u'C_var', u'D_var', u'E_var', u'F_var', u'G_var'], dtype='object')"
       ]
      },
      {
       "output_type": "stream",
       "stream": "stdout",
       "text": [
        "\n",
        "score:E_purchase:0.892359174568"
       ]
      },
      {
       "output_type": "stream",
       "stream": "stdout",
       "text": [
        "\n",
        "Index([u'shopping_pt', u'group_size', u'homeowner', u'car_age', u'risk_factor', u'married_couple', u'A', u'B', u'C', u'D', u'E', u'F', u'G', u'A_init', u'B_init', u'C_init', u'D_init', u'G_init', u'A_change', u'B_change', u'C_change', u'D_change', u'E_change', u'F_change', u'G_change', u'A_var', u'C_var', u'D_var', u'E_var', u'F_var', u'G_var'], dtype='object')"
       ]
      },
      {
       "output_type": "stream",
       "stream": "stdout",
       "text": [
        "\n",
        "score:F_purchase:0.781372002231"
       ]
      },
      {
       "output_type": "stream",
       "stream": "stdout",
       "text": [
        "\n",
        "Index([u'shopping_pt', u'group_size', u'homeowner', u'car_age', u'married_couple', u'C_previous', u'A', u'B', u'D', u'E', u'F', u'G', u'A_init', u'B_init', u'D_init', u'E_init', u'F_init', u'A_change', u'B_change', u'C_change', u'D_change', u'E_change', u'F_change', u'G_change', u'A_var', u'B_var', u'C_var', u'D_var', u'E_var', u'F_var', u'G_var'], dtype='object')"
       ]
      },
      {
       "output_type": "stream",
       "stream": "stdout",
       "text": [
        "\n",
        "score:G_purchase:0.694531019324"
       ]
      },
      {
       "output_type": "stream",
       "stream": "stdout",
       "text": [
        "\n",
        "Index([u'shopping_pt', u'homeowner', u'married_couple', u'C_previous', u'A', u'B', u'C', u'D', u'E', u'F', u'G', u'duration_offers', u'A_init', u'C_init', u'D_init', u'E_init', u'F_init', u'G_init', u'A_change', u'B_change', u'D_change', u'E_change', u'F_change', u'G_change', u'A_var', u'B_var', u'C_var', u'D_var', u'E_var', u'F_var', u'G_var'], dtype='object')"
       ]
      },
      {
       "output_type": "stream",
       "stream": "stdout",
       "text": [
        "\n",
        "Number of features:32\n",
        "score:A_purchase:0.855188478068"
       ]
      },
      {
       "output_type": "stream",
       "stream": "stdout",
       "text": [
        "\n",
        "Index([u'shopping_pt', u'group_size', u'homeowner', u'car_age', u'married_couple', u'C_previous', u'A', u'B', u'C', u'D', u'E', u'F', u'G', u'A_init', u'B_init', u'C_init', u'D_init', u'E_init', u'F_init', u'A_change', u'B_change', u'C_change', u'D_change', u'E_change', u'F_change', u'G_change', u'A_var', u'B_var', u'C_var', u'D_var', u'E_var', u'F_var'], dtype='object')"
       ]
      },
      {
       "output_type": "stream",
       "stream": "stdout",
       "text": [
        "\n",
        "score:B_purchase:0.886486663823"
       ]
      },
      {
       "output_type": "stream",
       "stream": "stdout",
       "text": [
        "\n",
        "Index([u'shopping_pt', u'homeowner', u'car_age', u'risk_factor', u'married_couple', u'C_previous', u'A', u'B', u'C', u'E', u'F', u'G', u'duration_offers', u'A_init', u'B_init', u'C_init', u'D_init', u'E_init', u'F_init', u'A_change', u'B_change', u'D_change', u'E_change', u'F_change', u'G_change', u'A_var', u'B_var', u'C_var', u'D_var', u'E_var', u'F_var', u'G_var'], dtype='object')"
       ]
      },
      {
       "output_type": "stream",
       "stream": "stdout",
       "text": [
        "\n",
        "score:C_purchase:0.756077556511"
       ]
      },
      {
       "output_type": "stream",
       "stream": "stdout",
       "text": [
        "\n",
        "Index([u'shopping_pt', u'group_size', u'homeowner', u'risk_factor', u'married_couple', u'C_previous', u'A', u'B', u'C', u'D', u'E', u'F', u'G', u'C_init', u'D_init', u'E_init', u'F_init', u'G_init', u'A_change', u'B_change', u'C_change', u'D_change', u'E_change', u'F_change', u'G_change', u'A_var', u'B_var', u'C_var', u'D_var', u'E_var', u'F_var', u'G_var'], dtype='object')"
       ]
      },
      {
       "output_type": "stream",
       "stream": "stdout",
       "text": [
        "\n",
        "score:D_purchase:0.841606246514"
       ]
      },
      {
       "output_type": "stream",
       "stream": "stdout",
       "text": [
        "\n",
        "Index([u'shopping_pt', u'homeowner', u'married_couple', u'C_previous', u'A', u'B', u'C', u'D', u'E', u'F', u'G', u'duration_offers', u'A_init', u'B_init', u'C_init', u'D_init', u'E_init', u'F_init', u'G_init', u'A_change', u'C_change', u'D_change', u'E_change', u'F_change', u'G_change', u'A_var', u'B_var', u'C_var', u'D_var', u'E_var', u'F_var', u'G_var'], dtype='object')"
       ]
      },
      {
       "output_type": "stream",
       "stream": "stdout",
       "text": [
        "\n",
        "score:E_purchase:0.892359174568"
       ]
      },
      {
       "output_type": "stream",
       "stream": "stdout",
       "text": [
        "\n",
        "Index([u'shopping_pt', u'group_size', u'homeowner', u'car_age', u'risk_factor', u'married_couple', u'A', u'B', u'C', u'D', u'E', u'F', u'G', u'A_init', u'B_init', u'C_init', u'D_init', u'E_init', u'G_init', u'A_change', u'B_change', u'C_change', u'D_change', u'E_change', u'F_change', u'G_change', u'A_var', u'C_var', u'D_var', u'E_var', u'F_var', u'G_var'], dtype='object')"
       ]
      },
      {
       "output_type": "stream",
       "stream": "stdout",
       "text": [
        "\n",
        "score:F_purchase:0.781306387586"
       ]
      },
      {
       "output_type": "stream",
       "stream": "stdout",
       "text": [
        "\n",
        "Index([u'shopping_pt', u'group_size', u'homeowner', u'car_age', u'married_couple', u'C_previous', u'A', u'B', u'D', u'E', u'F', u'G', u'A_init', u'B_init', u'C_init', u'D_init', u'E_init', u'F_init', u'A_change', u'B_change', u'C_change', u'D_change', u'E_change', u'F_change', u'G_change', u'A_var', u'B_var', u'C_var', u'D_var', u'E_var', u'F_var', u'G_var'], dtype='object')"
       ]
      },
      {
       "output_type": "stream",
       "stream": "stdout",
       "text": [
        "\n",
        "score:G_purchase:0.69410452413"
       ]
      },
      {
       "output_type": "stream",
       "stream": "stdout",
       "text": [
        "\n",
        "Index([u'shopping_pt', u'homeowner', u'married_couple', u'C_previous', u'A', u'B', u'C', u'D', u'E', u'F', u'G', u'duration_offers', u'A_init', u'C_init', u'D_init', u'E_init', u'F_init', u'G_init', u'A_change', u'B_change', u'C_change', u'D_change', u'E_change', u'F_change', u'G_change', u'A_var', u'B_var', u'C_var', u'D_var', u'E_var', u'F_var', u'G_var'], dtype='object')"
       ]
      },
      {
       "output_type": "stream",
       "stream": "stdout",
       "text": [
        "\n",
        "Number of features:33\n",
        "score:A_purchase:0.855122863423"
       ]
      },
      {
       "output_type": "stream",
       "stream": "stdout",
       "text": [
        "\n",
        "Index([u'shopping_pt', u'group_size', u'homeowner', u'car_age', u'married_couple', u'C_previous', u'duration_previous', u'A', u'B', u'C', u'D', u'E', u'F', u'G', u'A_init', u'B_init', u'C_init', u'D_init', u'E_init', u'F_init', u'A_change', u'B_change', u'C_change', u'D_change', u'E_change', u'F_change', u'G_change', u'A_var', u'B_var', u'C_var', u'D_var', u'E_var', u'F_var'], dtype='object')"
       ]
      },
      {
       "output_type": "stream",
       "stream": "stdout",
       "text": [
        "\n",
        "score:B_purchase:0.886486663823"
       ]
      },
      {
       "output_type": "stream",
       "stream": "stdout",
       "text": [
        "\n",
        "Index([u'shopping_pt', u'homeowner', u'car_age', u'risk_factor', u'married_couple', u'C_previous', u'duration_previous', u'A', u'B', u'C', u'E', u'F', u'G', u'duration_offers', u'A_init', u'B_init', u'C_init', u'D_init', u'E_init', u'F_init', u'A_change', u'B_change', u'D_change', u'E_change', u'F_change', u'G_change', u'A_var', u'B_var', u'C_var', u'D_var', u'E_var', u'F_var', u'G_var'], dtype='object')"
       ]
      },
      {
       "output_type": "stream",
       "stream": "stdout",
       "text": [
        "\n",
        "score:C_purchase:0.755913519898"
       ]
      },
      {
       "output_type": "stream",
       "stream": "stdout",
       "text": [
        "\n",
        "Index([u'shopping_pt', u'group_size', u'homeowner', u'risk_factor', u'married_couple', u'C_previous', u'A', u'B', u'C', u'D', u'E', u'F', u'G', u'A_init', u'C_init', u'D_init', u'E_init', u'F_init', u'G_init', u'A_change', u'B_change', u'C_change', u'D_change', u'E_change', u'F_change', u'G_change', u'A_var', u'B_var', u'C_var', u'D_var', u'E_var', u'F_var', u'G_var'], dtype='object')"
       ]
      },
      {
       "output_type": "stream",
       "stream": "stdout",
       "text": [
        "\n",
        "score:D_purchase:0.84180309045"
       ]
      },
      {
       "output_type": "stream",
       "stream": "stdout",
       "text": [
        "\n",
        "Index([u'shopping_pt', u'homeowner', u'risk_factor', u'married_couple', u'C_previous', u'A', u'B', u'C', u'D', u'E', u'F', u'G', u'duration_offers', u'A_init', u'B_init', u'C_init', u'D_init', u'E_init', u'F_init', u'G_init', u'A_change', u'C_change', u'D_change', u'E_change', u'F_change', u'G_change', u'A_var', u'B_var', u'C_var', u'D_var', u'E_var', u'F_var', u'G_var'], dtype='object')"
       ]
      },
      {
       "output_type": "stream",
       "stream": "stdout",
       "text": [
        "\n",
        "score:E_purchase:0.892359174568"
       ]
      },
      {
       "output_type": "stream",
       "stream": "stdout",
       "text": [
        "\n",
        "Index([u'shopping_pt', u'group_size', u'homeowner', u'car_age', u'risk_factor', u'married_couple', u'C_previous', u'A', u'B', u'C', u'D', u'E', u'F', u'G', u'A_init', u'B_init', u'C_init', u'D_init', u'E_init', u'G_init', u'A_change', u'B_change', u'C_change', u'D_change', u'E_change', u'F_change', u'G_change', u'A_var', u'C_var', u'D_var', u'E_var', u'F_var', u'G_var'], dtype='object')"
       ]
      },
      {
       "output_type": "stream",
       "stream": "stdout",
       "text": [
        "\n",
        "score:F_purchase:0.781765690102"
       ]
      },
      {
       "output_type": "stream",
       "stream": "stdout",
       "text": [
        "\n",
        "Index([u'shopping_pt', u'group_size', u'homeowner', u'car_age', u'married_couple', u'C_previous', u'A', u'B', u'C', u'D', u'E', u'F', u'G', u'A_init', u'B_init', u'C_init', u'D_init', u'E_init', u'F_init', u'A_change', u'B_change', u'C_change', u'D_change', u'E_change', u'F_change', u'G_change', u'A_var', u'B_var', u'C_var', u'D_var', u'E_var', u'F_var', u'G_var'], dtype='object')"
       ]
      },
      {
       "output_type": "stream",
       "stream": "stdout",
       "text": [
        "\n",
        "score:G_purchase:0.694531019324"
       ]
      },
      {
       "output_type": "stream",
       "stream": "stdout",
       "text": [
        "\n",
        "Index([u'shopping_pt', u'homeowner', u'married_couple', u'C_previous', u'A', u'B', u'C', u'D', u'E', u'F', u'G', u'duration_offers', u'A_init', u'B_init', u'C_init', u'D_init', u'E_init', u'F_init', u'G_init', u'A_change', u'B_change', u'C_change', u'D_change', u'E_change', u'F_change', u'G_change', u'A_var', u'B_var', u'C_var', u'D_var', u'E_var', u'F_var', u'G_var'], dtype='object')"
       ]
      },
      {
       "output_type": "stream",
       "stream": "stdout",
       "text": [
        "\n",
        "Number of features:34\n",
        "score:A_purchase:0.855188478068"
       ]
      },
      {
       "output_type": "stream",
       "stream": "stdout",
       "text": [
        "\n",
        "Index([u'shopping_pt', u'group_size', u'homeowner', u'car_age', u'married_couple', u'C_previous', u'duration_previous', u'A', u'B', u'C', u'D', u'E', u'F', u'G', u'A_init', u'B_init', u'C_init', u'D_init', u'E_init', u'F_init', u'A_change', u'B_change', u'C_change', u'D_change', u'E_change', u'F_change', u'G_change', u'A_var', u'B_var', u'C_var', u'D_var', u'E_var', u'F_var', u'G_var'], dtype='object')"
       ]
      },
      {
       "output_type": "stream",
       "stream": "stdout",
       "text": [
        "\n",
        "score:B_purchase:0.886486663823"
       ]
      },
      {
       "output_type": "stream",
       "stream": "stdout",
       "text": [
        "\n",
        "Index([u'shopping_pt', u'homeowner', u'car_age', u'risk_factor', u'married_couple', u'C_previous', u'duration_previous', u'A', u'B', u'C', u'D', u'E', u'F', u'G', u'duration_offers', u'A_init', u'B_init', u'C_init', u'D_init', u'E_init', u'F_init', u'A_change', u'B_change', u'D_change', u'E_change', u'F_change', u'G_change', u'A_var', u'B_var', u'C_var', u'D_var', u'E_var', u'F_var', u'G_var'], dtype='object')"
       ]
      },
      {
       "output_type": "stream",
       "stream": "stdout",
       "text": [
        "\n",
        "score:C_purchase:0.756175978478"
       ]
      },
      {
       "output_type": "stream",
       "stream": "stdout",
       "text": [
        "\n",
        "Index([u'shopping_pt', u'group_size', u'homeowner', u'risk_factor', u'married_couple', u'C_previous', u'A', u'B', u'C', u'D', u'E', u'F', u'G', u'duration_offers', u'A_init', u'C_init', u'D_init', u'E_init', u'F_init', u'G_init', u'A_change', u'B_change', u'C_change', u'D_change', u'E_change', u'F_change', u'G_change', u'A_var', u'B_var', u'C_var', u'D_var', u'E_var', u'F_var', u'G_var'], dtype='object')"
       ]
      },
      {
       "output_type": "stream",
       "stream": "stdout",
       "text": [
        "\n",
        "score:D_purchase:0.84180309045"
       ]
      },
      {
       "output_type": "stream",
       "stream": "stdout",
       "text": [
        "\n",
        "Index([u'shopping_pt', u'homeowner', u'risk_factor', u'married_couple', u'C_previous', u'A', u'B', u'C', u'D', u'E', u'F', u'G', u'duration_offers', u'A_init', u'B_init', u'C_init', u'D_init', u'E_init', u'F_init', u'G_init', u'A_change', u'B_change', u'C_change', u'D_change', u'E_change', u'F_change', u'G_change', u'A_var', u'B_var', u'C_var', u'D_var', u'E_var', u'F_var', u'G_var'], dtype='object')"
       ]
      },
      {
       "output_type": "stream",
       "stream": "stdout",
       "text": [
        "\n",
        "score:E_purchase:0.892359174568"
       ]
      },
      {
       "output_type": "stream",
       "stream": "stdout",
       "text": [
        "\n",
        "Index([u'shopping_pt', u'group_size', u'homeowner', u'car_age', u'risk_factor', u'married_couple', u'C_previous', u'A', u'B', u'C', u'D', u'E', u'F', u'G', u'duration_offers', u'A_init', u'B_init', u'C_init', u'D_init', u'E_init', u'G_init', u'A_change', u'B_change', u'C_change', u'D_change', u'E_change', u'F_change', u'G_change', u'A_var', u'C_var', u'D_var', u'E_var', u'F_var', u'G_var'], dtype='object')"
       ]
      },
      {
       "output_type": "stream",
       "stream": "stdout",
       "text": [
        "\n",
        "score:F_purchase:0.786227485975"
       ]
      },
      {
       "output_type": "stream",
       "stream": "stdout",
       "text": [
        "\n",
        "Index([u'shopping_pt', u'state', u'group_size', u'homeowner', u'car_age', u'married_couple', u'C_previous', u'A', u'B', u'C', u'D', u'E', u'F', u'G', u'A_init', u'B_init', u'C_init', u'D_init', u'E_init', u'F_init', u'A_change', u'B_change', u'C_change', u'D_change', u'E_change', u'F_change', u'G_change', u'A_var', u'B_var', u'C_var', u'D_var', u'E_var', u'F_var', u'G_var'], dtype='object')"
       ]
      },
      {
       "output_type": "stream",
       "stream": "stdout",
       "text": [
        "\n",
        "score:G_purchase:0.693874872872"
       ]
      },
      {
       "output_type": "stream",
       "stream": "stdout",
       "text": [
        "\n",
        "Index([u'shopping_pt', u'homeowner', u'married_couple', u'C_previous', u'duration_previous', u'A', u'B', u'C', u'D', u'E', u'F', u'G', u'duration_offers', u'A_init', u'B_init', u'C_init', u'D_init', u'E_init', u'F_init', u'G_init', u'A_change', u'B_change', u'C_change', u'D_change', u'E_change', u'F_change', u'G_change', u'A_var', u'B_var', u'C_var', u'D_var', u'E_var', u'F_var', u'G_var'], dtype='object')"
       ]
      },
      {
       "output_type": "stream",
       "stream": "stdout",
       "text": [
        "\n",
        "Number of features:35\n",
        "score:A_purchase:0.855418129326"
       ]
      },
      {
       "output_type": "stream",
       "stream": "stdout",
       "text": [
        "\n",
        "Index([u'shopping_pt', u'group_size', u'homeowner', u'car_age', u'married_couple', u'C_previous', u'duration_previous', u'A', u'B', u'C', u'D', u'E', u'F', u'G', u'duration_offers', u'A_init', u'B_init', u'C_init', u'D_init', u'E_init', u'F_init', u'A_change', u'B_change', u'C_change', u'D_change', u'E_change', u'F_change', u'G_change', u'A_var', u'B_var', u'C_var', u'D_var', u'E_var', u'F_var', u'G_var'], dtype='object')"
       ]
      },
      {
       "output_type": "stream",
       "stream": "stdout",
       "text": [
        "\n",
        "score:B_purchase:0.886486663823"
       ]
      },
      {
       "output_type": "stream",
       "stream": "stdout",
       "text": [
        "\n",
        "Index([u'shopping_pt', u'homeowner', u'car_age', u'risk_factor', u'married_couple', u'C_previous', u'duration_previous', u'A', u'B', u'C', u'D', u'E', u'F', u'G', u'duration_offers', u'A_init', u'B_init', u'C_init', u'D_init', u'E_init', u'F_init', u'A_change', u'B_change', u'C_change', u'D_change', u'E_change', u'F_change', u'G_change', u'A_var', u'B_var', u'C_var', u'D_var', u'E_var', u'F_var', u'G_var'], dtype='object')"
       ]
      },
      {
       "output_type": "stream",
       "stream": "stdout",
       "text": [
        "\n",
        "score:C_purchase:0.755618253994"
       ]
      },
      {
       "output_type": "stream",
       "stream": "stdout",
       "text": [
        "\n",
        "Index([u'shopping_pt', u'group_size', u'homeowner', u'car_value', u'risk_factor', u'married_couple', u'C_previous', u'A', u'B', u'C', u'D', u'E', u'F', u'G', u'duration_offers', u'A_init', u'C_init', u'D_init', u'E_init', u'F_init', u'G_init', u'A_change', u'B_change', u'C_change', u'D_change', u'E_change', u'F_change', u'G_change', u'A_var', u'B_var', u'C_var', u'D_var', u'E_var', u'F_var', u'G_var'], dtype='object')"
       ]
      },
      {
       "output_type": "stream",
       "stream": "stdout",
       "text": [
        "\n",
        "score:D_purchase:0.842229585644"
       ]
      },
      {
       "output_type": "stream",
       "stream": "stdout",
       "text": [
        "\n",
        "Index([u'shopping_pt', u'homeowner', u'car_age', u'risk_factor', u'married_couple', u'C_previous', u'A', u'B', u'C', u'D', u'E', u'F', u'G', u'duration_offers', u'A_init', u'B_init', u'C_init', u'D_init', u'E_init', u'F_init', u'G_init', u'A_change', u'B_change', u'C_change', u'D_change', u'E_change', u'F_change', u'G_change', u'A_var', u'B_var', u'C_var', u'D_var', u'E_var', u'F_var', u'G_var'], dtype='object')"
       ]
      },
      {
       "output_type": "stream",
       "stream": "stdout",
       "text": [
        "\n",
        "score:E_purchase:0.892359174568"
       ]
      },
      {
       "output_type": "stream",
       "stream": "stdout",
       "text": [
        "\n",
        "Index([u'shopping_pt', u'group_size', u'homeowner', u'car_age', u'risk_factor', u'married_couple', u'C_previous', u'A', u'B', u'C', u'D', u'E', u'F', u'G', u'duration_offers', u'A_init', u'B_init', u'C_init', u'D_init', u'E_init', u'F_init', u'G_init', u'A_change', u'B_change', u'C_change', u'D_change', u'E_change', u'F_change', u'G_change', u'A_var', u'C_var', u'D_var', u'E_var', u'F_var', u'G_var'], dtype='object')"
       ]
      },
      {
       "output_type": "stream",
       "stream": "stdout",
       "text": [
        "\n",
        "score:F_purchase:0.786129064007"
       ]
      },
      {
       "output_type": "stream",
       "stream": "stdout",
       "text": [
        "\n",
        "Index([u'shopping_pt', u'state', u'group_size', u'homeowner', u'car_age', u'married_couple', u'C_previous', u'A', u'B', u'C', u'D', u'E', u'F', u'G', u'A_init', u'B_init', u'C_init', u'D_init', u'E_init', u'F_init', u'G_init', u'A_change', u'B_change', u'C_change', u'D_change', u'E_change', u'F_change', u'G_change', u'A_var', u'B_var', u'C_var', u'D_var', u'E_var', u'F_var', u'G_var'], dtype='object')"
       ]
      },
      {
       "output_type": "stream",
       "stream": "stdout",
       "text": [
        "\n",
        "score:G_purchase:0.693710836259"
       ]
      },
      {
       "output_type": "stream",
       "stream": "stdout",
       "text": [
        "\n",
        "Index([u'shopping_pt', u'group_size', u'homeowner', u'married_couple', u'C_previous', u'duration_previous', u'A', u'B', u'C', u'D', u'E', u'F', u'G', u'duration_offers', u'A_init', u'B_init', u'C_init', u'D_init', u'E_init', u'F_init', u'G_init', u'A_change', u'B_change', u'C_change', u'D_change', u'E_change', u'F_change', u'G_change', u'A_var', u'B_var', u'C_var', u'D_var', u'E_var', u'F_var', u'G_var'], dtype='object')"
       ]
      },
      {
       "output_type": "stream",
       "stream": "stdout",
       "text": [
        "\n",
        "Number of features:36\n",
        "score:A_purchase:0.855221285391"
       ]
      },
      {
       "output_type": "stream",
       "stream": "stdout",
       "text": [
        "\n",
        "Index([u'shopping_pt', u'group_size', u'homeowner', u'car_age', u'married_couple', u'C_previous', u'duration_previous', u'A', u'B', u'C', u'D', u'E', u'F', u'G', u'duration_offers', u'A_init', u'B_init', u'C_init', u'D_init', u'E_init', u'F_init', u'G_init', u'A_change', u'B_change', u'C_change', u'D_change', u'E_change', u'F_change', u'G_change', u'A_var', u'B_var', u'C_var', u'D_var', u'E_var', u'F_var', u'G_var'], dtype='object')"
       ]
      },
      {
       "output_type": "stream",
       "stream": "stdout",
       "text": [
        "\n",
        "score:B_purchase:0.886486663823"
       ]
      },
      {
       "output_type": "stream",
       "stream": "stdout",
       "text": [
        "\n",
        "Index([u'shopping_pt', u'day', u'homeowner', u'car_age', u'risk_factor', u'married_couple', u'C_previous', u'duration_previous', u'A', u'B', u'C', u'D', u'E', u'F', u'G', u'duration_offers', u'A_init', u'B_init', u'C_init', u'D_init', u'E_init', u'F_init', u'A_change', u'B_change', u'C_change', u'D_change', u'E_change', u'F_change', u'G_change', u'A_var', u'B_var', u'C_var', u'D_var', u'E_var', u'F_var', u'G_var'], dtype='object')"
       ]
      },
      {
       "output_type": "stream",
       "stream": "stdout",
       "text": [
        "\n",
        "score:C_purchase:0.755454217381"
       ]
      },
      {
       "output_type": "stream",
       "stream": "stdout",
       "text": [
        "\n",
        "Index([u'shopping_pt', u'group_size', u'homeowner', u'car_value', u'risk_factor', u'married_couple', u'C_previous', u'A', u'B', u'C', u'D', u'E', u'F', u'G', u'duration_offers', u'A_init', u'B_init', u'C_init', u'D_init', u'E_init', u'F_init', u'G_init', u'A_change', u'B_change', u'C_change', u'D_change', u'E_change', u'F_change', u'G_change', u'A_var', u'B_var', u'C_var', u'D_var', u'E_var', u'F_var', u'G_var'], dtype='object')"
       ]
      },
      {
       "output_type": "stream",
       "stream": "stdout",
       "text": [
        "\n",
        "score:D_purchase:0.842098356353"
       ]
      },
      {
       "output_type": "stream",
       "stream": "stdout",
       "text": [
        "\n",
        "Index([u'shopping_pt', u'homeowner', u'car_age', u'car_value', u'risk_factor', u'married_couple', u'C_previous', u'A', u'B', u'C', u'D', u'E', u'F', u'G', u'duration_offers', u'A_init', u'B_init', u'C_init', u'D_init', u'E_init', u'F_init', u'G_init', u'A_change', u'B_change', u'C_change', u'D_change', u'E_change', u'F_change', u'G_change', u'A_var', u'B_var', u'C_var', u'D_var', u'E_var', u'F_var', u'G_var'], dtype='object')"
       ]
      },
      {
       "output_type": "stream",
       "stream": "stdout",
       "text": [
        "\n",
        "score:E_purchase:0.892326367245"
       ]
      },
      {
       "output_type": "stream",
       "stream": "stdout",
       "text": [
        "\n",
        "Index([u'shopping_pt', u'group_size', u'homeowner', u'car_age', u'risk_factor', u'age_youngest', u'married_couple', u'C_previous', u'A', u'B', u'C', u'D', u'E', u'F', u'G', u'duration_offers', u'A_init', u'B_init', u'C_init', u'D_init', u'E_init', u'F_init', u'G_init', u'A_change', u'B_change', u'C_change', u'D_change', u'E_change', u'F_change', u'G_change', u'A_var', u'C_var', u'D_var', u'E_var', u'F_var', u'G_var'], dtype='object')"
       ]
      },
      {
       "output_type": "stream",
       "stream": "stdout",
       "text": [
        "\n",
        "score:F_purchase:0.786030642039"
       ]
      },
      {
       "output_type": "stream",
       "stream": "stdout",
       "text": [
        "\n",
        "Index([u'shopping_pt', u'state', u'group_size', u'homeowner', u'car_age', u'married_couple', u'C_previous', u'A', u'B', u'C', u'D', u'E', u'F', u'G', u'duration_offers', u'A_init', u'B_init', u'C_init', u'D_init', u'E_init', u'F_init', u'G_init', u'A_change', u'B_change', u'C_change', u'D_change', u'E_change', u'F_change', u'G_change', u'A_var', u'B_var', u'C_var', u'D_var', u'E_var', u'F_var', u'G_var'], dtype='object')"
       ]
      },
      {
       "output_type": "stream",
       "stream": "stdout",
       "text": [
        "\n",
        "score:G_purchase:0.692070470129"
       ]
      },
      {
       "output_type": "stream",
       "stream": "stdout",
       "text": [
        "\n",
        "Index([u'shopping_pt', u'state', u'group_size', u'homeowner', u'married_couple', u'C_previous', u'duration_previous', u'A', u'B', u'C', u'D', u'E', u'F', u'G', u'duration_offers', u'A_init', u'B_init', u'C_init', u'D_init', u'E_init', u'F_init', u'G_init', u'A_change', u'B_change', u'C_change', u'D_change', u'E_change', u'F_change', u'G_change', u'A_var', u'B_var', u'C_var', u'D_var', u'E_var', u'F_var', u'G_var'], dtype='object')"
       ]
      },
      {
       "output_type": "stream",
       "stream": "stdout",
       "text": [
        "\n",
        "Number of features:37\n",
        "score:A_purchase:0.855155670746"
       ]
      },
      {
       "output_type": "stream",
       "stream": "stdout",
       "text": [
        "\n",
        "Index([u'shopping_pt', u'group_size', u'homeowner', u'car_age', u'car_value', u'married_couple', u'C_previous', u'duration_previous', u'A', u'B', u'C', u'D', u'E', u'F', u'G', u'duration_offers', u'A_init', u'B_init', u'C_init', u'D_init', u'E_init', u'F_init', u'G_init', u'A_change', u'B_change', u'C_change', u'D_change', u'E_change', u'F_change', u'G_change', u'A_var', u'B_var', u'C_var', u'D_var', u'E_var', u'F_var', u'G_var'], dtype='object')"
       ]
      },
      {
       "output_type": "stream",
       "stream": "stdout",
       "text": [
        "\n",
        "score:B_purchase:0.886486663823"
       ]
      },
      {
       "output_type": "stream",
       "stream": "stdout",
       "text": [
        "\n",
        "Index([u'shopping_pt', u'day', u'homeowner', u'car_age', u'car_value', u'risk_factor', u'married_couple', u'C_previous', u'duration_previous', u'A', u'B', u'C', u'D', u'E', u'F', u'G', u'duration_offers', u'A_init', u'B_init', u'C_init', u'D_init', u'E_init', u'F_init', u'A_change', u'B_change', u'C_change', u'D_change', u'E_change', u'F_change', u'G_change', u'A_var', u'B_var', u'C_var', u'D_var', u'E_var', u'F_var', u'G_var'], dtype='object')"
       ]
      },
      {
       "output_type": "stream",
       "stream": "stdout",
       "text": [
        "\n",
        "score:C_purchase:0.75594632722"
       ]
      },
      {
       "output_type": "stream",
       "stream": "stdout",
       "text": [
        "\n",
        "Index([u'shopping_pt', u'group_size', u'homeowner', u'car_age', u'car_value', u'risk_factor', u'married_couple', u'C_previous', u'A', u'B', u'C', u'D', u'E', u'F', u'G', u'duration_offers', u'A_init', u'B_init', u'C_init', u'D_init', u'E_init', u'F_init', u'G_init', u'A_change', u'B_change', u'C_change', u'D_change', u'E_change', u'F_change', u'G_change', u'A_var', u'B_var', u'C_var', u'D_var', u'E_var', u'F_var', u'G_var'], dtype='object')"
       ]
      },
      {
       "output_type": "stream",
       "stream": "stdout",
       "text": [
        "\n",
        "score:D_purchase:0.842163970998"
       ]
      },
      {
       "output_type": "stream",
       "stream": "stdout",
       "text": [
        "\n",
        "Index([u'shopping_pt', u'group_size', u'homeowner', u'car_age', u'car_value', u'risk_factor', u'married_couple', u'C_previous', u'A', u'B', u'C', u'D', u'E', u'F', u'G', u'duration_offers', u'A_init', u'B_init', u'C_init', u'D_init', u'E_init', u'F_init', u'G_init', u'A_change', u'B_change', u'C_change', u'D_change', u'E_change', u'F_change', u'G_change', u'A_var', u'B_var', u'C_var', u'D_var', u'E_var', u'F_var', u'G_var'], dtype='object')"
       ]
      },
      {
       "output_type": "stream",
       "stream": "stdout",
       "text": [
        "\n",
        "score:E_purchase:0.892326367245"
       ]
      },
      {
       "output_type": "stream",
       "stream": "stdout",
       "text": [
        "\n",
        "Index([u'shopping_pt', u'group_size', u'homeowner', u'car_age', u'risk_factor', u'age_youngest', u'married_couple', u'C_previous', u'A', u'B', u'C', u'D', u'E', u'F', u'G', u'duration_offers', u'A_init', u'B_init', u'C_init', u'D_init', u'E_init', u'F_init', u'G_init', u'A_change', u'B_change', u'C_change', u'D_change', u'E_change', u'F_change', u'G_change', u'A_var', u'B_var', u'C_var', u'D_var', u'E_var', u'F_var', u'G_var'], dtype='object')"
       ]
      },
      {
       "output_type": "stream",
       "stream": "stdout",
       "text": [
        "\n",
        "score:F_purchase:0.78806469604"
       ]
      },
      {
       "output_type": "stream",
       "stream": "stdout",
       "text": [
        "\n",
        "Index([u'shopping_pt', u'state', u'group_size', u'homeowner', u'car_age', u'married_couple', u'C_previous', u'duration_previous', u'A', u'B', u'C', u'D', u'E', u'F', u'G', u'duration_offers', u'A_init', u'B_init', u'C_init', u'D_init', u'E_init', u'F_init', u'G_init', u'A_change', u'B_change', u'C_change', u'D_change', u'E_change', u'F_change', u'G_change', u'A_var', u'B_var', u'C_var', u'D_var', u'E_var', u'F_var', u'G_var'], dtype='object')"
       ]
      },
      {
       "output_type": "stream",
       "stream": "stdout",
       "text": [
        "\n",
        "score:G_purchase:0.692168892097"
       ]
      },
      {
       "output_type": "stream",
       "stream": "stdout",
       "text": [
        "\n",
        "Index([u'shopping_pt', u'state', u'group_size', u'homeowner', u'risk_factor', u'married_couple', u'C_previous', u'duration_previous', u'A', u'B', u'C', u'D', u'E', u'F', u'G', u'duration_offers', u'A_init', u'B_init', u'C_init', u'D_init', u'E_init', u'F_init', u'G_init', u'A_change', u'B_change', u'C_change', u'D_change', u'E_change', u'F_change', u'G_change', u'A_var', u'B_var', u'C_var', u'D_var', u'E_var', u'F_var', u'G_var'], dtype='object')"
       ]
      },
      {
       "output_type": "stream",
       "stream": "stdout",
       "text": [
        "\n",
        "Number of features:38\n",
        "score:A_purchase:0.855254092713"
       ]
      },
      {
       "output_type": "stream",
       "stream": "stdout",
       "text": [
        "\n",
        "Index([u'shopping_pt', u'day', u'group_size', u'homeowner', u'car_age', u'car_value', u'married_couple', u'C_previous', u'duration_previous', u'A', u'B', u'C', u'D', u'E', u'F', u'G', u'duration_offers', u'A_init', u'B_init', u'C_init', u'D_init', u'E_init', u'F_init', u'G_init', u'A_change', u'B_change', u'C_change', u'D_change', u'E_change', u'F_change', u'G_change', u'A_var', u'B_var', u'C_var', u'D_var', u'E_var', u'F_var', u'G_var'], dtype='object')"
       ]
      },
      {
       "output_type": "stream",
       "stream": "stdout",
       "text": [
        "\n",
        "score:B_purchase:0.886486663823"
       ]
      },
      {
       "output_type": "stream",
       "stream": "stdout",
       "text": [
        "\n",
        "Index([u'shopping_pt', u'day', u'homeowner', u'car_age', u'car_value', u'risk_factor', u'married_couple', u'C_previous', u'duration_previous', u'A', u'B', u'C', u'D', u'E', u'F', u'G', u'duration_offers', u'A_init', u'B_init', u'C_init', u'D_init', u'E_init', u'F_init', u'G_init', u'A_change', u'B_change', u'C_change', u'D_change', u'E_change', u'F_change', u'G_change', u'A_var', u'B_var', u'C_var', u'D_var', u'E_var', u'F_var', u'G_var'], dtype='object')"
       ]
      },
      {
       "output_type": "stream",
       "stream": "stdout",
       "text": [
        "\n",
        "score:C_purchase:0.755880712575"
       ]
      },
      {
       "output_type": "stream",
       "stream": "stdout",
       "text": [
        "\n",
        "Index([u'shopping_pt', u'day', u'group_size', u'homeowner', u'car_age', u'car_value', u'risk_factor', u'married_couple', u'C_previous', u'A', u'B', u'C', u'D', u'E', u'F', u'G', u'duration_offers', u'A_init', u'B_init', u'C_init', u'D_init', u'E_init', u'F_init', u'G_init', u'A_change', u'B_change', u'C_change', u'D_change', u'E_change', u'F_change', u'G_change', u'A_var', u'B_var', u'C_var', u'D_var', u'E_var', u'F_var', u'G_var'], dtype='object')"
       ]
      },
      {
       "output_type": "stream",
       "stream": "stdout",
       "text": [
        "\n",
        "score:D_purchase:0.842885732095"
       ]
      },
      {
       "output_type": "stream",
       "stream": "stdout",
       "text": [
        "\n",
        "Index([u'shopping_pt', u'group_size', u'homeowner', u'car_age', u'car_value', u'risk_factor', u'married_couple', u'C_previous', u'duration_previous', u'A', u'B', u'C', u'D', u'E', u'F', u'G', u'duration_offers', u'A_init', u'B_init', u'C_init', u'D_init', u'E_init', u'F_init', u'G_init', u'A_change', u'B_change', u'C_change', u'D_change', u'E_change', u'F_change', u'G_change', u'A_var', u'B_var', u'C_var', u'D_var', u'E_var', u'F_var', u'G_var'], dtype='object')"
       ]
      },
      {
       "output_type": "stream",
       "stream": "stdout",
       "text": [
        "\n",
        "score:E_purchase:0.892326367245"
       ]
      },
      {
       "output_type": "stream",
       "stream": "stdout",
       "text": [
        "\n",
        "Index([u'shopping_pt', u'day', u'group_size', u'homeowner', u'car_age', u'risk_factor', u'age_youngest', u'married_couple', u'C_previous', u'A', u'B', u'C', u'D', u'E', u'F', u'G', u'duration_offers', u'A_init', u'B_init', u'C_init', u'D_init', u'E_init', u'F_init', u'G_init', u'A_change', u'B_change', u'C_change', u'D_change', u'E_change', u'F_change', u'G_change', u'A_var', u'B_var', u'C_var', u'D_var', u'E_var', u'F_var', u'G_var'], dtype='object')"
       ]
      },
      {
       "output_type": "stream",
       "stream": "stdout",
       "text": [
        "\n",
        "score:F_purchase:0.78806469604"
       ]
      },
      {
       "output_type": "stream",
       "stream": "stdout",
       "text": [
        "\n",
        "Index([u'shopping_pt', u'state', u'group_size', u'homeowner', u'car_age', u'risk_factor', u'married_couple', u'C_previous', u'duration_previous', u'A', u'B', u'C', u'D', u'E', u'F', u'G', u'duration_offers', u'A_init', u'B_init', u'C_init', u'D_init', u'E_init', u'F_init', u'G_init', u'A_change', u'B_change', u'C_change', u'D_change', u'E_change', u'F_change', u'G_change', u'A_var', u'B_var', u'C_var', u'D_var', u'E_var', u'F_var', u'G_var'], dtype='object')"
       ]
      },
      {
       "output_type": "stream",
       "stream": "stdout",
       "text": [
        "\n",
        "score:G_purchase:0.692661001936"
       ]
      },
      {
       "output_type": "stream",
       "stream": "stdout",
       "text": [
        "\n",
        "Index([u'shopping_pt', u'state', u'group_size', u'homeowner', u'car_value', u'risk_factor', u'married_couple', u'C_previous', u'duration_previous', u'A', u'B', u'C', u'D', u'E', u'F', u'G', u'duration_offers', u'A_init', u'B_init', u'C_init', u'D_init', u'E_init', u'F_init', u'G_init', u'A_change', u'B_change', u'C_change', u'D_change', u'E_change', u'F_change', u'G_change', u'A_var', u'B_var', u'C_var', u'D_var', u'E_var', u'F_var', u'G_var'], dtype='object')"
       ]
      },
      {
       "output_type": "stream",
       "stream": "stdout",
       "text": [
        "\n",
        "Number of features:39\n",
        "score:A_purchase:0.855746202552"
       ]
      },
      {
       "output_type": "stream",
       "stream": "stdout",
       "text": [
        "\n",
        "Index([u'shopping_pt', u'day', u'state', u'group_size', u'homeowner', u'car_age', u'car_value', u'married_couple', u'C_previous', u'duration_previous', u'A', u'B', u'C', u'D', u'E', u'F', u'G', u'duration_offers', u'A_init', u'B_init', u'C_init', u'D_init', u'E_init', u'F_init', u'G_init', u'A_change', u'B_change', u'C_change', u'D_change', u'E_change', u'F_change', u'G_change', u'A_var', u'B_var', u'C_var', u'D_var', u'E_var', u'F_var', u'G_var'], dtype='object')"
       ]
      },
      {
       "output_type": "stream",
       "stream": "stdout",
       "text": [
        "\n",
        "score:B_purchase:0.886486663823"
       ]
      },
      {
       "output_type": "stream",
       "stream": "stdout",
       "text": [
        "\n",
        "Index([u'shopping_pt', u'day', u'group_size', u'homeowner', u'car_age', u'car_value', u'risk_factor', u'married_couple', u'C_previous', u'duration_previous', u'A', u'B', u'C', u'D', u'E', u'F', u'G', u'duration_offers', u'A_init', u'B_init', u'C_init', u'D_init', u'E_init', u'F_init', u'G_init', u'A_change', u'B_change', u'C_change', u'D_change', u'E_change', u'F_change', u'G_change', u'A_var', u'B_var', u'C_var', u'D_var', u'E_var', u'F_var', u'G_var'], dtype='object')"
       ]
      },
      {
       "output_type": "stream",
       "stream": "stdout",
       "text": [
        "\n",
        "score:C_purchase:0.755847905252"
       ]
      },
      {
       "output_type": "stream",
       "stream": "stdout",
       "text": [
        "\n",
        "Index([u'shopping_pt', u'group_size', u'homeowner', u'car_age', u'car_value', u'risk_factor', u'age_youngest', u'married_couple', u'C_previous', u'duration_previous', u'A', u'B', u'C', u'D', u'E', u'F', u'G', u'duration_offers', u'A_init', u'B_init', u'C_init', u'D_init', u'E_init', u'F_init', u'G_init', u'A_change', u'B_change', u'C_change', u'D_change', u'E_change', u'F_change', u'G_change', u'A_var', u'B_var', u'C_var', u'D_var', u'E_var', u'F_var', u'G_var'], dtype='object')"
       ]
      },
      {
       "output_type": "stream",
       "stream": "stdout",
       "text": [
        "\n",
        "score:D_purchase:0.843541878547"
       ]
      },
      {
       "output_type": "stream",
       "stream": "stdout",
       "text": [
        "\n",
        "Index([u'shopping_pt', u'group_size', u'homeowner', u'car_age', u'car_value', u'risk_factor', u'age_youngest', u'married_couple', u'C_previous', u'duration_previous', u'A', u'B', u'C', u'D', u'E', u'F', u'G', u'duration_offers', u'A_init', u'B_init', u'C_init', u'D_init', u'E_init', u'F_init', u'G_init', u'A_change', u'B_change', u'C_change', u'D_change', u'E_change', u'F_change', u'G_change', u'A_var', u'B_var', u'C_var', u'D_var', u'E_var', u'F_var', u'G_var'], dtype='object')"
       ]
      },
      {
       "output_type": "stream",
       "stream": "stdout",
       "text": [
        "\n",
        "score:E_purchase:0.892326367245"
       ]
      },
      {
       "output_type": "stream",
       "stream": "stdout",
       "text": [
        "\n",
        "Index([u'shopping_pt', u'day', u'group_size', u'homeowner', u'car_age', u'risk_factor', u'age_youngest', u'married_couple', u'C_previous', u'duration_previous', u'A', u'B', u'C', u'D', u'E', u'F', u'G', u'duration_offers', u'A_init', u'B_init', u'C_init', u'D_init', u'E_init', u'F_init', u'G_init', u'A_change', u'B_change', u'C_change', u'D_change', u'E_change', u'F_change', u'G_change', u'A_var', u'B_var', u'C_var', u'D_var', u'E_var', u'F_var', u'G_var'], dtype='object')"
       ]
      },
      {
       "output_type": "stream",
       "stream": "stdout",
       "text": [
        "\n",
        "score:F_purchase:0.788130310685"
       ]
      },
      {
       "output_type": "stream",
       "stream": "stdout",
       "text": [
        "\n",
        "Index([u'shopping_pt', u'day', u'state', u'group_size', u'homeowner', u'car_age', u'risk_factor', u'married_couple', u'C_previous', u'duration_previous', u'A', u'B', u'C', u'D', u'E', u'F', u'G', u'duration_offers', u'A_init', u'B_init', u'C_init', u'D_init', u'E_init', u'F_init', u'G_init', u'A_change', u'B_change', u'C_change', u'D_change', u'E_change', u'F_change', u'G_change', u'A_var', u'B_var', u'C_var', u'D_var', u'E_var', u'F_var', u'G_var'], dtype='object')"
       ]
      },
      {
       "output_type": "stream",
       "stream": "stdout",
       "text": [
        "\n",
        "score:G_purchase:0.692825038549"
       ]
      },
      {
       "output_type": "stream",
       "stream": "stdout",
       "text": [
        "\n",
        "Index([u'shopping_pt', u'state', u'group_size', u'homeowner', u'car_age', u'car_value', u'risk_factor', u'married_couple', u'C_previous', u'duration_previous', u'A', u'B', u'C', u'D', u'E', u'F', u'G', u'duration_offers', u'A_init', u'B_init', u'C_init', u'D_init', u'E_init', u'F_init', u'G_init', u'A_change', u'B_change', u'C_change', u'D_change', u'E_change', u'F_change', u'G_change', u'A_var', u'B_var', u'C_var', u'D_var', u'E_var', u'F_var', u'G_var'], dtype='object')"
       ]
      },
      {
       "output_type": "stream",
       "stream": "stdout",
       "text": [
        "\n",
        "Number of features:40\n",
        "score:A_purchase:0.85571339523"
       ]
      },
      {
       "output_type": "stream",
       "stream": "stdout",
       "text": [
        "\n",
        "Index([u'shopping_pt', u'day', u'state', u'group_size', u'homeowner', u'car_age', u'car_value', u'risk_factor', u'married_couple', u'C_previous', u'duration_previous', u'A', u'B', u'C', u'D', u'E', u'F', u'G', u'duration_offers', u'A_init', u'B_init', u'C_init', u'D_init', u'E_init', u'F_init', u'G_init', u'A_change', u'B_change', u'C_change', u'D_change', u'E_change', u'F_change', u'G_change', u'A_var', u'B_var', u'C_var', u'D_var', u'E_var', u'F_var', u'G_var'], dtype='object')"
       ]
      },
      {
       "output_type": "stream",
       "stream": "stdout",
       "text": [
        "\n",
        "score:B_purchase:0.886486663823"
       ]
      },
      {
       "output_type": "stream",
       "stream": "stdout",
       "text": [
        "\n",
        "Index([u'shopping_pt', u'day', u'group_size', u'homeowner', u'car_age', u'car_value', u'risk_factor', u'age_oldest', u'married_couple', u'C_previous', u'duration_previous', u'A', u'B', u'C', u'D', u'E', u'F', u'G', u'duration_offers', u'A_init', u'B_init', u'C_init', u'D_init', u'E_init', u'F_init', u'G_init', u'A_change', u'B_change', u'C_change', u'D_change', u'E_change', u'F_change', u'G_change', u'A_var', u'B_var', u'C_var', u'D_var', u'E_var', u'F_var', u'G_var'], dtype='object')"
       ]
      },
      {
       "output_type": "stream",
       "stream": "stdout",
       "text": [
        "\n",
        "score:C_purchase:0.754830878252"
       ]
      },
      {
       "output_type": "stream",
       "stream": "stdout",
       "text": [
        "\n",
        "Index([u'shopping_pt', u'day', u'group_size', u'homeowner', u'car_age', u'car_value', u'risk_factor', u'married_couple', u'C_previous', u'duration_previous', u'A', u'B', u'C', u'D', u'E', u'F', u'G', u'cost', u'duration_offers', u'A_init', u'B_init', u'C_init', u'D_init', u'E_init', u'F_init', u'G_init', u'A_change', u'B_change', u'C_change', u'D_change', u'E_change', u'F_change', u'G_change', u'A_var', u'B_var', u'C_var', u'D_var', u'E_var', u'F_var', u'G_var'], dtype='object')"
       ]
      },
      {
       "output_type": "stream",
       "stream": "stdout",
       "text": [
        "\n",
        "score:D_purchase:0.843607493192"
       ]
      },
      {
       "output_type": "stream",
       "stream": "stdout",
       "text": [
        "\n",
        "Index([u'shopping_pt', u'state', u'group_size', u'homeowner', u'car_age', u'car_value', u'risk_factor', u'age_youngest', u'married_couple', u'C_previous', u'duration_previous', u'A', u'B', u'C', u'D', u'E', u'F', u'G', u'duration_offers', u'A_init', u'B_init', u'C_init', u'D_init', u'E_init', u'F_init', u'G_init', u'A_change', u'B_change', u'C_change', u'D_change', u'E_change', u'F_change', u'G_change', u'A_var', u'B_var', u'C_var', u'D_var', u'E_var', u'F_var', u'G_var'], dtype='object')"
       ]
      },
      {
       "output_type": "stream",
       "stream": "stdout",
       "text": [
        "\n",
        "score:E_purchase:0.892326367245"
       ]
      },
      {
       "output_type": "stream",
       "stream": "stdout",
       "text": [
        "\n",
        "Index([u'shopping_pt', u'day', u'group_size', u'homeowner', u'car_age', u'risk_factor', u'age_oldest', u'age_youngest', u'married_couple', u'C_previous', u'duration_previous', u'A', u'B', u'C', u'D', u'E', u'F', u'G', u'duration_offers', u'A_init', u'B_init', u'C_init', u'D_init', u'E_init', u'F_init', u'G_init', u'A_change', u'B_change', u'C_change', u'D_change', u'E_change', u'F_change', u'G_change', u'A_var', u'B_var', u'C_var', u'D_var', u'E_var', u'F_var', u'G_var'], dtype='object')"
       ]
      },
      {
       "output_type": "stream",
       "stream": "stdout",
       "text": [
        "\n",
        "score:F_purchase:0.787867852105"
       ]
      },
      {
       "output_type": "stream",
       "stream": "stdout",
       "text": [
        "\n",
        "Index([u'shopping_pt', u'day', u'state', u'group_size', u'homeowner', u'car_age', u'car_value', u'risk_factor', u'married_couple', u'C_previous', u'duration_previous', u'A', u'B', u'C', u'D', u'E', u'F', u'G', u'duration_offers', u'A_init', u'B_init', u'C_init', u'D_init', u'E_init', u'F_init', u'G_init', u'A_change', u'B_change', u'C_change', u'D_change', u'E_change', u'F_change', u'G_change', u'A_var', u'B_var', u'C_var', u'D_var', u'E_var', u'F_var', u'G_var'], dtype='object')"
       ]
      },
      {
       "output_type": "stream",
       "stream": "stdout",
       "text": [
        "\n",
        "score:G_purchase:0.692693809258"
       ]
      },
      {
       "output_type": "stream",
       "stream": "stdout",
       "text": [
        "\n",
        "Index([u'shopping_pt', u'day', u'state', u'group_size', u'homeowner', u'car_age', u'car_value', u'risk_factor', u'married_couple', u'C_previous', u'duration_previous', u'A', u'B', u'C', u'D', u'E', u'F', u'G', u'duration_offers', u'A_init', u'B_init', u'C_init', u'D_init', u'E_init', u'F_init', u'G_init', u'A_change', u'B_change', u'C_change', u'D_change', u'E_change', u'F_change', u'G_change', u'A_var', u'B_var', u'C_var', u'D_var', u'E_var', u'F_var', u'G_var'], dtype='object')"
       ]
      },
      {
       "output_type": "stream",
       "stream": "stdout",
       "text": [
        "\n",
        "Number of features:41\n",
        "score:A_purchase:0.855385322004"
       ]
      },
      {
       "output_type": "stream",
       "stream": "stdout",
       "text": [
        "\n",
        "Index([u'shopping_pt', u'day', u'state', u'group_size', u'homeowner', u'car_age', u'car_value', u'risk_factor', u'age_youngest', u'married_couple', u'C_previous', u'duration_previous', u'A', u'B', u'C', u'D', u'E', u'F', u'G', u'duration_offers', u'A_init', u'B_init', u'C_init', u'D_init', u'E_init', u'F_init', u'G_init', u'A_change', u'B_change', u'C_change', u'D_change', u'E_change', u'F_change', u'G_change', u'A_var', u'B_var', u'C_var', u'D_var', u'E_var', u'F_var', u'G_var'], dtype='object')"
       ]
      },
      {
       "output_type": "stream",
       "stream": "stdout",
       "text": [
        "\n",
        "score:B_purchase:0.886486663823"
       ]
      },
      {
       "output_type": "stream",
       "stream": "stdout",
       "text": [
        "\n",
        "Index([u'shopping_pt', u'day', u'state', u'group_size', u'homeowner', u'car_age', u'car_value', u'risk_factor', u'age_oldest', u'married_couple', u'C_previous', u'duration_previous', u'A', u'B', u'C', u'D', u'E', u'F', u'G', u'duration_offers', u'A_init', u'B_init', u'C_init', u'D_init', u'E_init', u'F_init', u'G_init', u'A_change', u'B_change', u'C_change', u'D_change', u'E_change', u'F_change', u'G_change', u'A_var', u'B_var', u'C_var', u'D_var', u'E_var', u'F_var', u'G_var'], dtype='object')"
       ]
      },
      {
       "output_type": "stream",
       "stream": "stdout",
       "text": [
        "\n",
        "score:C_purchase:0.754469997703"
       ]
      },
      {
       "output_type": "stream",
       "stream": "stdout",
       "text": [
        "\n",
        "Index([u'shopping_pt', u'day', u'group_size', u'homeowner', u'car_age', u'car_value', u'risk_factor', u'age_youngest', u'married_couple', u'C_previous', u'duration_previous', u'A', u'B', u'C', u'D', u'E', u'F', u'G', u'cost', u'duration_offers', u'A_init', u'B_init', u'C_init', u'D_init', u'E_init', u'F_init', u'G_init', u'A_change', u'B_change', u'C_change', u'D_change', u'E_change', u'F_change', u'G_change', u'A_var', u'B_var', u'C_var', u'D_var', u'E_var', u'F_var', u'G_var'], dtype='object')"
       ]
      },
      {
       "output_type": "stream",
       "stream": "stdout",
       "text": [
        "\n",
        "score:D_purchase:0.843673107838"
       ]
      },
      {
       "output_type": "stream",
       "stream": "stdout",
       "text": [
        "\n",
        "Index([u'shopping_pt', u'state', u'group_size', u'homeowner', u'car_age', u'car_value', u'risk_factor', u'age_youngest', u'married_couple', u'C_previous', u'duration_previous', u'A', u'B', u'C', u'D', u'E', u'F', u'G', u'cost', u'duration_offers', u'A_init', u'B_init', u'C_init', u'D_init', u'E_init', u'F_init', u'G_init', u'A_change', u'B_change', u'C_change', u'D_change', u'E_change', u'F_change', u'G_change', u'A_var', u'B_var', u'C_var', u'D_var', u'E_var', u'F_var', u'G_var'], dtype='object')"
       ]
      },
      {
       "output_type": "stream",
       "stream": "stdout",
       "text": [
        "\n",
        "score:E_purchase:0.892326367245"
       ]
      },
      {
       "output_type": "stream",
       "stream": "stdout",
       "text": [
        "\n",
        "Index([u'shopping_pt', u'day', u'group_size', u'homeowner', u'car_age', u'car_value', u'risk_factor', u'age_oldest', u'age_youngest', u'married_couple', u'C_previous', u'duration_previous', u'A', u'B', u'C', u'D', u'E', u'F', u'G', u'duration_offers', u'A_init', u'B_init', u'C_init', u'D_init', u'E_init', u'F_init', u'G_init', u'A_change', u'B_change', u'C_change', u'D_change', u'E_change', u'F_change', u'G_change', u'A_var', u'B_var', u'C_var', u'D_var', u'E_var', u'F_var', u'G_var'], dtype='object')"
       ]
      },
      {
       "output_type": "stream",
       "stream": "stdout",
       "text": [
        "\n",
        "score:F_purchase:0.789901906105"
       ]
      },
      {
       "output_type": "stream",
       "stream": "stdout",
       "text": [
        "\n",
        "Index([u'shopping_pt', u'day', u'state', u'group_size', u'homeowner', u'car_age', u'car_value', u'risk_factor', u'married_couple', u'C_previous', u'duration_previous', u'A', u'B', u'C', u'D', u'E', u'F', u'G', u'duration_offers', u'A_init', u'B_init', u'C_init', u'D_init', u'E_init', u'F_init', u'G_init', u'A_change', u'B_change', u'C_change', u'D_change', u'E_change', u'F_change', u'G_change', u'A_var', u'B_var', u'C_var', u'D_var', u'E_var', u'F_var', u'G_var', u'init_cost'], dtype='object')"
       ]
      },
      {
       "output_type": "stream",
       "stream": "stdout",
       "text": [
        "\n",
        "score:G_purchase:0.692890653194"
       ]
      },
      {
       "output_type": "stream",
       "stream": "stdout",
       "text": [
        "\n",
        "Index([u'shopping_pt', u'day', u'state', u'group_size', u'homeowner', u'car_age', u'car_value', u'risk_factor', u'age_oldest', u'married_couple', u'C_previous', u'duration_previous', u'A', u'B', u'C', u'D', u'E', u'F', u'G', u'duration_offers', u'A_init', u'B_init', u'C_init', u'D_init', u'E_init', u'F_init', u'G_init', u'A_change', u'B_change', u'C_change', u'D_change', u'E_change', u'F_change', u'G_change', u'A_var', u'B_var', u'C_var', u'D_var', u'E_var', u'F_var', u'G_var'], dtype='object')"
       ]
      },
      {
       "output_type": "stream",
       "stream": "stdout",
       "text": [
        "\n",
        "Number of features:42\n",
        "score:A_purchase:0.855483743972"
       ]
      },
      {
       "output_type": "stream",
       "stream": "stdout",
       "text": [
        "\n",
        "Index([u'shopping_pt', u'day', u'state', u'group_size', u'homeowner', u'car_age', u'car_value', u'risk_factor', u'married_couple', u'C_previous', u'duration_previous', u'A', u'B', u'C', u'D', u'E', u'F', u'G', u'cost', u'duration_offers', u'A_init', u'B_init', u'C_init', u'D_init', u'E_init', u'F_init', u'G_init', u'A_change', u'B_change', u'C_change', u'D_change', u'E_change', u'F_change', u'G_change', u'A_var', u'B_var', u'C_var', u'D_var', u'E_var', u'F_var', u'G_var', u'init_cost'], dtype='object')"
       ]
      },
      {
       "output_type": "stream",
       "stream": "stdout",
       "text": [
        "\n",
        "score:B_purchase:0.886486663823"
       ]
      },
      {
       "output_type": "stream",
       "stream": "stdout",
       "text": [
        "\n",
        "Index([u'shopping_pt', u'day', u'state', u'group_size', u'homeowner', u'car_age', u'car_value', u'risk_factor', u'age_oldest', u'age_youngest', u'married_couple', u'C_previous', u'duration_previous', u'A', u'B', u'C', u'D', u'E', u'F', u'G', u'duration_offers', u'A_init', u'B_init', u'C_init', u'D_init', u'E_init', u'F_init', u'G_init', u'A_change', u'B_change', u'C_change', u'D_change', u'E_change', u'F_change', u'G_change', u'A_var', u'B_var', u'C_var', u'D_var', u'E_var', u'F_var', u'G_var'], dtype='object')"
       ]
      },
      {
       "output_type": "stream",
       "stream": "stdout",
       "text": [
        "\n",
        "score:C_purchase:0.756340015091"
       ]
      },
      {
       "output_type": "stream",
       "stream": "stdout",
       "text": [
        "\n",
        "Index([u'shopping_pt', u'day', u'state', u'group_size', u'homeowner', u'car_age', u'car_value', u'risk_factor', u'age_youngest', u'married_couple', u'C_previous', u'duration_previous', u'A', u'B', u'C', u'D', u'E', u'F', u'G', u'cost', u'duration_offers', u'A_init', u'B_init', u'C_init', u'D_init', u'E_init', u'F_init', u'G_init', u'A_change', u'B_change', u'C_change', u'D_change', u'E_change', u'F_change', u'G_change', u'A_var', u'B_var', u'C_var', u'D_var', u'E_var', u'F_var', u'G_var'], dtype='object')"
       ]
      },
      {
       "output_type": "stream",
       "stream": "stdout",
       "text": [
        "\n",
        "score:D_purchase:0.845641547193"
       ]
      },
      {
       "output_type": "stream",
       "stream": "stdout",
       "text": [
        "\n",
        "Index([u'shopping_pt', u'state', u'group_size', u'homeowner', u'car_age', u'car_value', u'risk_factor', u'age_youngest', u'married_couple', u'C_previous', u'duration_previous', u'A', u'B', u'C', u'D', u'E', u'F', u'G', u'cost', u'duration_offers', u'A_init', u'B_init', u'C_init', u'D_init', u'E_init', u'F_init', u'G_init', u'A_change', u'B_change', u'C_change', u'D_change', u'E_change', u'F_change', u'G_change', u'A_var', u'B_var', u'C_var', u'D_var', u'E_var', u'F_var', u'G_var', u'init_cost'], dtype='object')"
       ]
      },
      {
       "output_type": "stream",
       "stream": "stdout",
       "text": [
        "\n",
        "score:E_purchase:0.892326367245"
       ]
      },
      {
       "output_type": "stream",
       "stream": "stdout",
       "text": [
        "\n",
        "Index([u'shopping_pt', u'day', u'state', u'group_size', u'homeowner', u'car_age', u'car_value', u'risk_factor', u'age_oldest', u'age_youngest', u'married_couple', u'C_previous', u'duration_previous', u'A', u'B', u'C', u'D', u'E', u'F', u'G', u'duration_offers', u'A_init', u'B_init', u'C_init', u'D_init', u'E_init', u'F_init', u'G_init', u'A_change', u'B_change', u'C_change', u'D_change', u'E_change', u'F_change', u'G_change', u'A_var', u'B_var', u'C_var', u'D_var', u'E_var', u'F_var', u'G_var'], dtype='object')"
       ]
      },
      {
       "output_type": "stream",
       "stream": "stdout",
       "text": [
        "\n",
        "score:F_purchase:0.789442603589"
       ]
      },
      {
       "output_type": "stream",
       "stream": "stdout",
       "text": [
        "\n",
        "Index([u'shopping_pt', u'day', u'state', u'group_size', u'homeowner', u'car_age', u'car_value', u'risk_factor', u'age_youngest', u'married_couple', u'C_previous', u'duration_previous', u'A', u'B', u'C', u'D', u'E', u'F', u'G', u'duration_offers', u'A_init', u'B_init', u'C_init', u'D_init', u'E_init', u'F_init', u'G_init', u'A_change', u'B_change', u'C_change', u'D_change', u'E_change', u'F_change', u'G_change', u'A_var', u'B_var', u'C_var', u'D_var', u'E_var', u'F_var', u'G_var', u'init_cost'], dtype='object')"
       ]
      },
      {
       "output_type": "stream",
       "stream": "stdout",
       "text": [
        "\n",
        "score:G_purchase:0.692431350677"
       ]
      },
      {
       "output_type": "stream",
       "stream": "stdout",
       "text": [
        "\n",
        "Index([u'shopping_pt', u'day', u'state', u'group_size', u'homeowner', u'car_age', u'car_value', u'risk_factor', u'age_oldest', u'married_couple', u'C_previous', u'duration_previous', u'A', u'B', u'C', u'D', u'E', u'F', u'G', u'cost', u'duration_offers', u'A_init', u'B_init', u'C_init', u'D_init', u'E_init', u'F_init', u'G_init', u'A_change', u'B_change', u'C_change', u'D_change', u'E_change', u'F_change', u'G_change', u'A_var', u'B_var', u'C_var', u'D_var', u'E_var', u'F_var', u'G_var'], dtype='object')"
       ]
      },
      {
       "output_type": "stream",
       "stream": "stdout",
       "text": [
        "\n",
        "Number of features:43\n",
        "score:A_purchase:0.855647780585"
       ]
      },
      {
       "output_type": "stream",
       "stream": "stdout",
       "text": [
        "\n",
        "Index([u'shopping_pt', u'day', u'state', u'group_size', u'homeowner', u'car_age', u'car_value', u'risk_factor', u'age_youngest', u'married_couple', u'C_previous', u'duration_previous', u'A', u'B', u'C', u'D', u'E', u'F', u'G', u'cost', u'duration_offers', u'A_init', u'B_init', u'C_init', u'D_init', u'E_init', u'F_init', u'G_init', u'A_change', u'B_change', u'C_change', u'D_change', u'E_change', u'F_change', u'G_change', u'A_var', u'B_var', u'C_var', u'D_var', u'E_var', u'F_var', u'G_var', u'init_cost'], dtype='object')"
       ]
      },
      {
       "output_type": "stream",
       "stream": "stdout",
       "text": [
        "\n",
        "score:B_purchase:0.886486663823"
       ]
      },
      {
       "output_type": "stream",
       "stream": "stdout",
       "text": [
        "\n",
        "Index([u'shopping_pt', u'day', u'state', u'group_size', u'homeowner', u'car_age', u'car_value', u'risk_factor', u'age_oldest', u'age_youngest', u'married_couple', u'C_previous', u'duration_previous', u'A', u'B', u'C', u'D', u'E', u'F', u'G', u'cost', u'duration_offers', u'A_init', u'B_init', u'C_init', u'D_init', u'E_init', u'F_init', u'G_init', u'A_change', u'B_change', u'C_change', u'D_change', u'E_change', u'F_change', u'G_change', u'A_var', u'B_var', u'C_var', u'D_var', u'E_var', u'F_var', u'G_var'], dtype='object')"
       ]
      },
      {
       "output_type": "stream",
       "stream": "stdout",
       "text": [
        "\n",
        "score:C_purchase:0.756536859027"
       ]
      },
      {
       "output_type": "stream",
       "stream": "stdout",
       "text": [
        "\n",
        "Index([u'shopping_pt', u'day', u'state', u'group_size', u'homeowner', u'car_age', u'car_value', u'risk_factor', u'age_youngest', u'married_couple', u'C_previous', u'duration_previous', u'A', u'B', u'C', u'D', u'E', u'F', u'G', u'cost', u'duration_offers', u'A_init', u'B_init', u'C_init', u'D_init', u'E_init', u'F_init', u'G_init', u'A_change', u'B_change', u'C_change', u'D_change', u'E_change', u'F_change', u'G_change', u'A_var', u'B_var', u'C_var', u'D_var', u'E_var', u'F_var', u'G_var', u'init_cost'], dtype='object')"
       ]
      },
      {
       "output_type": "stream",
       "stream": "stdout",
       "text": [
        "\n",
        "score:D_purchase:0.844493290903"
       ]
      },
      {
       "output_type": "stream",
       "stream": "stdout",
       "text": [
        "\n",
        "Index([u'shopping_pt', u'state', u'group_size', u'homeowner', u'car_age', u'car_value', u'risk_factor', u'age_oldest', u'age_youngest', u'married_couple', u'C_previous', u'duration_previous', u'A', u'B', u'C', u'D', u'E', u'F', u'G', u'cost', u'duration_offers', u'A_init', u'B_init', u'C_init', u'D_init', u'E_init', u'F_init', u'G_init', u'A_change', u'B_change', u'C_change', u'D_change', u'E_change', u'F_change', u'G_change', u'A_var', u'B_var', u'C_var', u'D_var', u'E_var', u'F_var', u'G_var', u'init_cost'], dtype='object')"
       ]
      },
      {
       "output_type": "stream",
       "stream": "stdout",
       "text": [
        "\n",
        "score:E_purchase:0.892326367245"
       ]
      },
      {
       "output_type": "stream",
       "stream": "stdout",
       "text": [
        "\n",
        "Index([u'shopping_pt', u'day', u'state', u'group_size', u'homeowner', u'car_age', u'car_value', u'risk_factor', u'age_oldest', u'age_youngest', u'married_couple', u'C_previous', u'duration_previous', u'A', u'B', u'C', u'D', u'E', u'F', u'G', u'cost', u'duration_offers', u'A_init', u'B_init', u'C_init', u'D_init', u'E_init', u'F_init', u'G_init', u'A_change', u'B_change', u'C_change', u'D_change', u'E_change', u'F_change', u'G_change', u'A_var', u'B_var', u'C_var', u'D_var', u'E_var', u'F_var', u'G_var'], dtype='object')"
       ]
      },
      {
       "output_type": "stream",
       "stream": "stdout",
       "text": [
        "\n",
        "score:F_purchase:0.791575079558"
       ]
      },
      {
       "output_type": "stream",
       "stream": "stdout",
       "text": [
        "\n",
        "Index([u'shopping_pt', u'day', u'state', u'group_size', u'homeowner', u'car_age', u'car_value', u'risk_factor', u'age_youngest', u'married_couple', u'C_previous', u'duration_previous', u'A', u'B', u'C', u'D', u'E', u'F', u'G', u'cost', u'duration_offers', u'A_init', u'B_init', u'C_init', u'D_init', u'E_init', u'F_init', u'G_init', u'A_change', u'B_change', u'C_change', u'D_change', u'E_change', u'F_change', u'G_change', u'A_var', u'B_var', u'C_var', u'D_var', u'E_var', u'F_var', u'G_var', u'init_cost'], dtype='object')"
       ]
      },
      {
       "output_type": "stream",
       "stream": "stdout",
       "text": [
        "\n",
        "score:G_purchase:0.691217479741"
       ]
      },
      {
       "output_type": "stream",
       "stream": "stdout",
       "text": [
        "\n",
        "Index([u'shopping_pt', u'day', u'state', u'group_size', u'homeowner', u'car_age', u'car_value', u'risk_factor', u'age_oldest', u'married_couple', u'C_previous', u'duration_previous', u'A', u'B', u'C', u'D', u'E', u'F', u'G', u'cost', u'duration_offers', u'A_init', u'B_init', u'C_init', u'D_init', u'E_init', u'F_init', u'G_init', u'A_change', u'B_change', u'C_change', u'D_change', u'E_change', u'F_change', u'G_change', u'A_var', u'B_var', u'C_var', u'D_var', u'E_var', u'F_var', u'G_var', u'init_cost'], dtype='object')"
       ]
      },
      {
       "output_type": "stream",
       "stream": "stdout",
       "text": [
        "\n",
        "Number of features:44\n",
        "score:A_purchase:0.856402349004"
       ]
      },
      {
       "output_type": "stream",
       "stream": "stdout",
       "text": [
        "\n",
        "Index([u'shopping_pt', u'day', u'state', u'group_size', u'homeowner', u'car_age', u'car_value', u'risk_factor', u'age_oldest', u'age_youngest', u'married_couple', u'C_previous', u'duration_previous', u'A', u'B', u'C', u'D', u'E', u'F', u'G', u'cost', u'duration_offers', u'A_init', u'B_init', u'C_init', u'D_init', u'E_init', u'F_init', u'G_init', u'A_change', u'B_change', u'C_change', u'D_change', u'E_change', u'F_change', u'G_change', u'A_var', u'B_var', u'C_var', u'D_var', u'E_var', u'F_var', u'G_var', u'init_cost'], dtype='object')"
       ]
      },
      {
       "output_type": "stream",
       "stream": "stdout",
       "text": [
        "\n",
        "score:B_purchase:0.886486663823"
       ]
      },
      {
       "output_type": "stream",
       "stream": "stdout",
       "text": [
        "\n",
        "Index([u'shopping_pt', u'day', u'location', u'group_size', u'homeowner', u'car_age', u'car_value', u'risk_factor', u'age_oldest', u'age_youngest', u'married_couple', u'C_previous', u'duration_previous', u'A', u'B', u'C', u'D', u'E', u'F', u'G', u'cost', u'duration_offers', u'A_init', u'B_init', u'C_init', u'D_init', u'E_init', u'F_init', u'G_init', u'A_change', u'B_change', u'C_change', u'D_change', u'E_change', u'F_change', u'G_change', u'A_var', u'B_var', u'C_var', u'D_var', u'E_var', u'F_var', u'G_var', u'init_cost'], dtype='object')"
       ]
      },
      {
       "output_type": "stream",
       "stream": "stdout",
       "text": [
        "\n",
        "score:C_purchase:0.755355795414"
       ]
      },
      {
       "output_type": "stream",
       "stream": "stdout",
       "text": [
        "\n",
        "Index([u'shopping_pt', u'day', u'state', u'group_size', u'homeowner', u'car_age', u'car_value', u'risk_factor', u'age_oldest', u'age_youngest', u'married_couple', u'C_previous', u'duration_previous', u'A', u'B', u'C', u'D', u'E', u'F', u'G', u'cost', u'duration_offers', u'A_init', u'B_init', u'C_init', u'D_init', u'E_init', u'F_init', u'G_init', u'A_change', u'B_change', u'C_change', u'D_change', u'E_change', u'F_change', u'G_change', u'A_var', u'B_var', u'C_var', u'D_var', u'E_var', u'F_var', u'G_var', u'init_cost'], dtype='object')"
       ]
      },
      {
       "output_type": "stream",
       "stream": "stdout",
       "text": [
        "\n",
        "score:D_purchase:0.845641547193"
       ]
      },
      {
       "output_type": "stream",
       "stream": "stdout",
       "text": [
        "\n",
        "Index([u'shopping_pt', u'day', u'state', u'group_size', u'homeowner', u'car_age', u'car_value', u'risk_factor', u'age_oldest', u'age_youngest', u'married_couple', u'C_previous', u'duration_previous', u'A', u'B', u'C', u'D', u'E', u'F', u'G', u'cost', u'duration_offers', u'A_init', u'B_init', u'C_init', u'D_init', u'E_init', u'F_init', u'G_init', u'A_change', u'B_change', u'C_change', u'D_change', u'E_change', u'F_change', u'G_change', u'A_var', u'B_var', u'C_var', u'D_var', u'E_var', u'F_var', u'G_var', u'init_cost'], dtype='object')"
       ]
      },
      {
       "output_type": "stream",
       "stream": "stdout",
       "text": [
        "\n",
        "score:E_purchase:0.892326367245"
       ]
      },
      {
       "output_type": "stream",
       "stream": "stdout",
       "text": [
        "\n",
        "Index([u'shopping_pt', u'day', u'state', u'group_size', u'homeowner', u'car_age', u'car_value', u'risk_factor', u'age_oldest', u'age_youngest', u'married_couple', u'C_previous', u'duration_previous', u'A', u'B', u'C', u'D', u'E', u'F', u'G', u'cost', u'duration_offers', u'A_init', u'B_init', u'C_init', u'D_init', u'E_init', u'F_init', u'G_init', u'A_change', u'B_change', u'C_change', u'D_change', u'E_change', u'F_change', u'G_change', u'A_var', u'B_var', u'C_var', u'D_var', u'E_var', u'F_var', u'G_var', u'init_cost'], dtype='object')"
       ]
      },
      {
       "output_type": "stream",
       "stream": "stdout",
       "text": [
        "\n",
        "score:F_purchase:0.792198418687"
       ]
      },
      {
       "output_type": "stream",
       "stream": "stdout",
       "text": [
        "\n",
        "Index([u'shopping_pt', u'day', u'state', u'group_size', u'homeowner', u'car_age', u'car_value', u'risk_factor', u'age_oldest', u'age_youngest', u'married_couple', u'C_previous', u'duration_previous', u'A', u'B', u'C', u'D', u'E', u'F', u'G', u'cost', u'duration_offers', u'A_init', u'B_init', u'C_init', u'D_init', u'E_init', u'F_init', u'G_init', u'A_change', u'B_change', u'C_change', u'D_change', u'E_change', u'F_change', u'G_change', u'A_var', u'B_var', u'C_var', u'D_var', u'E_var', u'F_var', u'G_var', u'init_cost'], dtype='object')"
       ]
      },
      {
       "output_type": "stream",
       "stream": "stdout",
       "text": [
        "\n",
        "score:G_purchase:0.69233292871"
       ]
      },
      {
       "output_type": "stream",
       "stream": "stdout",
       "text": [
        "\n",
        "Index([u'shopping_pt', u'day', u'state', u'group_size', u'homeowner', u'car_age', u'car_value', u'risk_factor', u'age_oldest', u'age_youngest', u'married_couple', u'C_previous', u'duration_previous', u'A', u'B', u'C', u'D', u'E', u'F', u'G', u'cost', u'duration_offers', u'A_init', u'B_init', u'C_init', u'D_init', u'E_init', u'F_init', u'G_init', u'A_change', u'B_change', u'C_change', u'D_change', u'E_change', u'F_change', u'G_change', u'A_var', u'B_var', u'C_var', u'D_var', u'E_var', u'F_var', u'G_var', u'init_cost'], dtype='object')"
       ]
      },
      {
       "output_type": "stream",
       "stream": "stdout",
       "text": [
        "\n",
        "Number of features:45\n",
        "score:A_purchase:0.835438469866"
       ]
      },
      {
       "output_type": "stream",
       "stream": "stdout",
       "text": [
        "\n",
        "Index([u'shopping_pt', u'day', u'state', u'location', u'group_size', u'homeowner', u'car_age', u'car_value', u'risk_factor', u'age_oldest', u'age_youngest', u'married_couple', u'C_previous', u'duration_previous', u'A', u'B', u'C', u'D', u'E', u'F', u'G', u'cost', u'duration_offers', u'A_init', u'B_init', u'C_init', u'D_init', u'E_init', u'F_init', u'G_init', u'A_change', u'B_change', u'C_change', u'D_change', u'E_change', u'F_change', u'G_change', u'A_var', u'B_var', u'C_var', u'D_var', u'E_var', u'F_var', u'G_var', u'init_cost'], dtype='object')"
       ]
      },
      {
       "output_type": "stream",
       "stream": "stdout",
       "text": [
        "\n",
        "score:B_purchase:0.886486663823"
       ]
      },
      {
       "output_type": "stream",
       "stream": "stdout",
       "text": [
        "\n",
        "Index([u'shopping_pt', u'day', u'state', u'group_size', u'homeowner', u'car_age', u'car_value', u'risk_factor', u'age_oldest', u'age_youngest', u'married_couple', u'C_previous', u'duration_previous', u'A', u'B', u'C', u'D', u'E', u'F', u'G', u'cost', u'duration_offers', u'A_init', u'B_init', u'C_init', u'D_init', u'E_init', u'F_init', u'G_init', u'A_change', u'B_change', u'C_change', u'D_change', u'E_change', u'F_change', u'G_change', u'A_var', u'B_var', u'C_var', u'D_var', u'E_var', u'F_var', u'G_var', u'init_cost', u'cost_var'], dtype='object')"
       ]
      },
      {
       "output_type": "stream",
       "stream": "stdout",
       "text": [
        "\n",
        "score:C_purchase:0.756143171156"
       ]
      },
      {
       "output_type": "stream",
       "stream": "stdout",
       "text": [
        "\n",
        "Index([u'shopping_pt', u'day', u'state', u'group_size', u'homeowner', u'car_age', u'car_value', u'risk_factor', u'age_oldest', u'age_youngest', u'married_couple', u'C_previous', u'duration_previous', u'A', u'B', u'C', u'D', u'E', u'F', u'G', u'cost', u'duration_offers', u'A_init', u'B_init', u'C_init', u'D_init', u'E_init', u'F_init', u'G_init', u'A_change', u'B_change', u'C_change', u'D_change', u'E_change', u'F_change', u'G_change', u'A_var', u'B_var', u'C_var', u'D_var', u'E_var', u'F_var', u'G_var', u'init_cost', u'cost_var'], dtype='object')"
       ]
      },
      {
       "output_type": "stream",
       "stream": "stdout",
       "text": [
        "\n",
        "score:D_purchase:0.845182244677"
       ]
      },
      {
       "output_type": "stream",
       "stream": "stdout",
       "text": [
        "\n",
        "Index([u'shopping_pt', u'day', u'state', u'group_size', u'homeowner', u'car_age', u'car_value', u'risk_factor', u'age_oldest', u'age_youngest', u'married_couple', u'C_previous', u'duration_previous', u'A', u'B', u'C', u'D', u'E', u'F', u'G', u'cost', u'duration_offers', u'A_init', u'B_init', u'C_init', u'D_init', u'E_init', u'F_init', u'G_init', u'A_change', u'B_change', u'C_change', u'D_change', u'E_change', u'F_change', u'G_change', u'A_var', u'B_var', u'C_var', u'D_var', u'E_var', u'F_var', u'G_var', u'init_cost', u'cost_var'], dtype='object')"
       ]
      },
      {
       "output_type": "stream",
       "stream": "stdout",
       "text": [
        "\n",
        "score:E_purchase:0.892326367245"
       ]
      },
      {
       "output_type": "stream",
       "stream": "stdout",
       "text": [
        "\n",
        "Index([u'shopping_pt', u'day', u'state', u'location', u'group_size', u'homeowner', u'car_age', u'car_value', u'risk_factor', u'age_oldest', u'age_youngest', u'married_couple', u'C_previous', u'duration_previous', u'A', u'B', u'C', u'D', u'E', u'F', u'G', u'cost', u'duration_offers', u'A_init', u'B_init', u'C_init', u'D_init', u'E_init', u'F_init', u'G_init', u'A_change', u'B_change', u'C_change', u'D_change', u'E_change', u'F_change', u'G_change', u'A_var', u'B_var', u'C_var', u'D_var', u'E_var', u'F_var', u'G_var', u'init_cost'], dtype='object')"
       ]
      },
      {
       "output_type": "stream",
       "stream": "stdout",
       "text": [
        "\n",
        "score:F_purchase:0.791903152784"
       ]
      },
      {
       "output_type": "stream",
       "stream": "stdout",
       "text": [
        "\n",
        "Index([u'shopping_pt', u'day', u'state', u'group_size', u'homeowner', u'car_age', u'car_value', u'risk_factor', u'age_oldest', u'age_youngest', u'married_couple', u'C_previous', u'duration_previous', u'A', u'B', u'C', u'D', u'E', u'F', u'G', u'cost', u'duration_offers', u'A_init', u'B_init', u'C_init', u'D_init', u'E_init', u'F_init', u'G_init', u'A_change', u'B_change', u'C_change', u'D_change', u'E_change', u'F_change', u'G_change', u'A_var', u'B_var', u'C_var', u'D_var', u'E_var', u'F_var', u'G_var', u'init_cost', u'cost_var'], dtype='object')"
       ]
      },
      {
       "output_type": "stream",
       "stream": "stdout",
       "text": [
        "\n",
        "score:G_purchase:0.683442144287"
       ]
      },
      {
       "output_type": "stream",
       "stream": "stdout",
       "text": [
        "\n",
        "Index([u'shopping_pt', u'day', u'state', u'location', u'group_size', u'homeowner', u'car_age', u'car_value', u'risk_factor', u'age_oldest', u'age_youngest', u'married_couple', u'C_previous', u'duration_previous', u'A', u'B', u'C', u'D', u'E', u'F', u'G', u'cost', u'duration_offers', u'A_init', u'B_init', u'C_init', u'D_init', u'E_init', u'F_init', u'G_init', u'A_change', u'B_change', u'C_change', u'D_change', u'E_change', u'F_change', u'G_change', u'A_var', u'B_var', u'C_var', u'D_var', u'E_var', u'F_var', u'G_var', u'init_cost'], dtype='object')"
       ]
      },
      {
       "output_type": "stream",
       "stream": "stdout",
       "text": [
        "\n",
        "Number of features:46\n",
        "score:A_purchase:0.856139890424"
       ]
      },
      {
       "output_type": "stream",
       "stream": "stdout",
       "text": [
        "\n",
        "Index([u'shopping_pt', u'day', u'state', u'location', u'group_size', u'homeowner', u'car_age', u'car_value', u'risk_factor', u'age_oldest', u'age_youngest', u'married_couple', u'C_previous', u'duration_previous', u'A', u'B', u'C', u'D', u'E', u'F', u'G', u'cost', u'duration_offers', u'A_init', u'B_init', u'C_init', u'D_init', u'E_init', u'F_init', u'G_init', u'A_change', u'B_change', u'C_change', u'D_change', u'E_change', u'F_change', u'G_change', u'A_var', u'B_var', u'C_var', u'D_var', u'E_var', u'F_var', u'G_var', u'init_cost', u'cost_var'], dtype='object')"
       ]
      },
      {
       "output_type": "stream",
       "stream": "stdout",
       "text": [
        "\n",
        "score:B_purchase:0.886486663823"
       ]
      },
      {
       "output_type": "stream",
       "stream": "stdout",
       "text": [
        "\n",
        "Index([u'shopping_pt', u'day', u'state', u'location', u'group_size', u'homeowner', u'car_age', u'car_value', u'risk_factor', u'age_oldest', u'age_youngest', u'married_couple', u'C_previous', u'duration_previous', u'A', u'B', u'C', u'D', u'E', u'F', u'G', u'cost', u'duration_offers', u'A_init', u'B_init', u'C_init', u'D_init', u'E_init', u'F_init', u'G_init', u'A_change', u'B_change', u'C_change', u'D_change', u'E_change', u'F_change', u'G_change', u'A_var', u'B_var', u'C_var', u'D_var', u'E_var', u'F_var', u'G_var', u'init_cost', u'cost_var'], dtype='object')"
       ]
      },
      {
       "output_type": "stream",
       "stream": "stdout",
       "text": [
        "\n",
        "score:C_purchase:0.71168924904"
       ]
      },
      {
       "output_type": "stream",
       "stream": "stdout",
       "text": [
        "\n",
        "Index([u'shopping_pt', u'day', u'state', u'location', u'group_size', u'homeowner', u'car_age', u'car_value', u'risk_factor', u'age_oldest', u'age_youngest', u'married_couple', u'C_previous', u'duration_previous', u'A', u'B', u'C', u'D', u'E', u'F', u'G', u'cost', u'duration_offers', u'A_init', u'B_init', u'C_init', u'D_init', u'E_init', u'F_init', u'G_init', u'A_change', u'B_change', u'C_change', u'D_change', u'E_change', u'F_change', u'G_change', u'A_var', u'B_var', u'C_var', u'D_var', u'E_var', u'F_var', u'G_var', u'init_cost', u'cost_var'], dtype='object')"
       ]
      },
      {
       "output_type": "stream",
       "stream": "stdout",
       "text": [
        "\n",
        "score:D_purchase:0.845936813097"
       ]
      },
      {
       "output_type": "stream",
       "stream": "stdout",
       "text": [
        "\n",
        "Index([u'shopping_pt', u'day', u'state', u'location', u'group_size', u'homeowner', u'car_age', u'car_value', u'risk_factor', u'age_oldest', u'age_youngest', u'married_couple', u'C_previous', u'duration_previous', u'A', u'B', u'C', u'D', u'E', u'F', u'G', u'cost', u'duration_offers', u'A_init', u'B_init', u'C_init', u'D_init', u'E_init', u'F_init', u'G_init', u'A_change', u'B_change', u'C_change', u'D_change', u'E_change', u'F_change', u'G_change', u'A_var', u'B_var', u'C_var', u'D_var', u'E_var', u'F_var', u'G_var', u'init_cost', u'cost_var'], dtype='object')"
       ]
      },
      {
       "output_type": "stream",
       "stream": "stdout",
       "text": [
        "\n",
        "score:E_purchase:0.892293559923"
       ]
      },
      {
       "output_type": "stream",
       "stream": "stdout",
       "text": [
        "\n",
        "Index([u'shopping_pt', u'day', u'state', u'location', u'group_size', u'homeowner', u'car_age', u'car_value', u'risk_factor', u'age_oldest', u'age_youngest', u'married_couple', u'C_previous', u'duration_previous', u'A', u'B', u'C', u'D', u'E', u'F', u'G', u'cost', u'duration_offers', u'A_init', u'B_init', u'C_init', u'D_init', u'E_init', u'F_init', u'G_init', u'A_change', u'B_change', u'C_change', u'D_change', u'E_change', u'F_change', u'G_change', u'A_var', u'B_var', u'C_var', u'D_var', u'E_var', u'F_var', u'G_var', u'init_cost', u'cost_var'], dtype='object')"
       ]
      },
      {
       "output_type": "stream",
       "stream": "stdout",
       "text": [
        "\n",
        "score:F_purchase:0.788622420524"
       ]
      },
      {
       "output_type": "stream",
       "stream": "stdout",
       "text": [
        "\n",
        "Index([u'shopping_pt', u'day', u'state', u'location', u'group_size', u'homeowner', u'car_age', u'car_value', u'risk_factor', u'age_oldest', u'age_youngest', u'married_couple', u'C_previous', u'duration_previous', u'A', u'B', u'C', u'D', u'E', u'F', u'G', u'cost', u'duration_offers', u'A_init', u'B_init', u'C_init', u'D_init', u'E_init', u'F_init', u'G_init', u'A_change', u'B_change', u'C_change', u'D_change', u'E_change', u'F_change', u'G_change', u'A_var', u'B_var', u'C_var', u'D_var', u'E_var', u'F_var', u'G_var', u'init_cost', u'cost_var'], dtype='object')"
       ]
      },
      {
       "output_type": "stream",
       "stream": "stdout",
       "text": [
        "\n",
        "score:G_purchase:0.675371542928"
       ]
      },
      {
       "output_type": "stream",
       "stream": "stdout",
       "text": [
        "\n",
        "Index([u'shopping_pt', u'day', u'state', u'location', u'group_size', u'homeowner', u'car_age', u'car_value', u'risk_factor', u'age_oldest', u'age_youngest', u'married_couple', u'C_previous', u'duration_previous', u'A', u'B', u'C', u'D', u'E', u'F', u'G', u'cost', u'duration_offers', u'A_init', u'B_init', u'C_init', u'D_init', u'E_init', u'F_init', u'G_init', u'A_change', u'B_change', u'C_change', u'D_change', u'E_change', u'F_change', u'G_change', u'A_var', u'B_var', u'C_var', u'D_var', u'E_var', u'F_var', u'G_var', u'init_cost', u'cost_var'], dtype='object')"
       ]
      },
      {
       "output_type": "stream",
       "stream": "stdout",
       "text": [
        "\n",
        "Number of features:47\n",
        "score:A_purchase:0.846527344903"
       ]
      },
      {
       "output_type": "stream",
       "stream": "stdout",
       "text": [
        "\n",
        "Index([u'shopping_pt', u'record_type', u'day', u'state', u'location', u'group_size', u'homeowner', u'car_age', u'car_value', u'risk_factor', u'age_oldest', u'age_youngest', u'married_couple', u'C_previous', u'duration_previous', u'A', u'B', u'C', u'D', u'E', u'F', u'G', u'cost', u'duration_offers', u'A_init', u'B_init', u'C_init', u'D_init', u'E_init', u'F_init', u'G_init', u'A_change', u'B_change', u'C_change', u'D_change', u'E_change', u'F_change', u'G_change', u'A_var', u'B_var', u'C_var', u'D_var', u'E_var', u'F_var', u'G_var', u'init_cost', u'cost_var'], dtype='object')\n",
        "score:B_purchase:0.886486663823"
       ]
      },
      {
       "output_type": "stream",
       "stream": "stdout",
       "text": [
        "\n",
        "Index([u'shopping_pt', u'record_type', u'day', u'state', u'location', u'group_size', u'homeowner', u'car_age', u'car_value', u'risk_factor', u'age_oldest', u'age_youngest', u'married_couple', u'C_previous', u'duration_previous', u'A', u'B', u'C', u'D', u'E', u'F', u'G', u'cost', u'duration_offers', u'A_init', u'B_init', u'C_init', u'D_init', u'E_init', u'F_init', u'G_init', u'A_change', u'B_change', u'C_change', u'D_change', u'E_change', u'F_change', u'G_change', u'A_var', u'B_var', u'C_var', u'D_var', u'E_var', u'F_var', u'G_var', u'init_cost', u'cost_var'], dtype='object')\n",
        "score:C_purchase:0.728847478757"
       ]
      },
      {
       "output_type": "stream",
       "stream": "stdout",
       "text": [
        "\n",
        "Index([u'shopping_pt', u'record_type', u'day', u'state', u'location', u'group_size', u'homeowner', u'car_age', u'car_value', u'risk_factor', u'age_oldest', u'age_youngest', u'married_couple', u'C_previous', u'duration_previous', u'A', u'B', u'C', u'D', u'E', u'F', u'G', u'cost', u'duration_offers', u'A_init', u'B_init', u'C_init', u'D_init', u'E_init', u'F_init', u'G_init', u'A_change', u'B_change', u'C_change', u'D_change', u'E_change', u'F_change', u'G_change', u'A_var', u'B_var', u'C_var', u'D_var', u'E_var', u'F_var', u'G_var', u'init_cost', u'cost_var'], dtype='object')\n",
        "score:D_purchase:0.842590466192"
       ]
      },
      {
       "output_type": "stream",
       "stream": "stdout",
       "text": [
        "\n",
        "Index([u'shopping_pt', u'record_type', u'day', u'state', u'location', u'group_size', u'homeowner', u'car_age', u'car_value', u'risk_factor', u'age_oldest', u'age_youngest', u'married_couple', u'C_previous', u'duration_previous', u'A', u'B', u'C', u'D', u'E', u'F', u'G', u'cost', u'duration_offers', u'A_init', u'B_init', u'C_init', u'D_init', u'E_init', u'F_init', u'G_init', u'A_change', u'B_change', u'C_change', u'D_change', u'E_change', u'F_change', u'G_change', u'A_var', u'B_var', u'C_var', u'D_var', u'E_var', u'F_var', u'G_var', u'init_cost', u'cost_var'], dtype='object')\n",
        "score:E_purchase:0.892326367245"
       ]
      },
      {
       "output_type": "stream",
       "stream": "stdout",
       "text": [
        "\n",
        "Index([u'shopping_pt', u'record_type', u'day', u'state', u'location', u'group_size', u'homeowner', u'car_age', u'car_value', u'risk_factor', u'age_oldest', u'age_youngest', u'married_couple', u'C_previous', u'duration_previous', u'A', u'B', u'C', u'D', u'E', u'F', u'G', u'cost', u'duration_offers', u'A_init', u'B_init', u'C_init', u'D_init', u'E_init', u'F_init', u'G_init', u'A_change', u'B_change', u'C_change', u'D_change', u'E_change', u'F_change', u'G_change', u'A_var', u'B_var', u'C_var', u'D_var', u'E_var', u'F_var', u'G_var', u'init_cost', u'cost_var'], dtype='object')\n",
        "score:F_purchase:0.790295593977"
       ]
      },
      {
       "output_type": "stream",
       "stream": "stdout",
       "text": [
        "\n",
        "Index([u'shopping_pt', u'record_type', u'day', u'state', u'location', u'group_size', u'homeowner', u'car_age', u'car_value', u'risk_factor', u'age_oldest', u'age_youngest', u'married_couple', u'C_previous', u'duration_previous', u'A', u'B', u'C', u'D', u'E', u'F', u'G', u'cost', u'duration_offers', u'A_init', u'B_init', u'C_init', u'D_init', u'E_init', u'F_init', u'G_init', u'A_change', u'B_change', u'C_change', u'D_change', u'E_change', u'F_change', u'G_change', u'A_var', u'B_var', u'C_var', u'D_var', u'E_var', u'F_var', u'G_var', u'init_cost', u'cost_var'], dtype='object')\n",
        "score:G_purchase:0.681375282963"
       ]
      },
      {
       "output_type": "stream",
       "stream": "stdout",
       "text": [
        "\n",
        "Index([u'shopping_pt', u'record_type', u'day', u'state', u'location', u'group_size', u'homeowner', u'car_age', u'car_value', u'risk_factor', u'age_oldest', u'age_youngest', u'married_couple', u'C_previous', u'duration_previous', u'A', u'B', u'C', u'D', u'E', u'F', u'G', u'cost', u'duration_offers', u'A_init', u'B_init', u'C_init', u'D_init', u'E_init', u'F_init', u'G_init', u'A_change', u'B_change', u'C_change', u'D_change', u'E_change', u'F_change', u'G_change', u'A_var', u'B_var', u'C_var', u'D_var', u'E_var', u'F_var', u'G_var', u'init_cost', u'cost_var'], dtype='object')\n",
        "Number of features:48"
       ]
      },
      {
       "output_type": "stream",
       "stream": "stdout",
       "text": [
        "\n",
        "score:A_purchase:0.845083822709"
       ]
      },
      {
       "output_type": "stream",
       "stream": "stdout",
       "text": [
        "\n",
        "Index([u'shopping_pt', u'record_type', u'day', u'state', u'location', u'group_size', u'homeowner', u'car_age', u'car_value', u'risk_factor', u'age_oldest', u'age_youngest', u'married_couple', u'C_previous', u'duration_previous', u'A', u'B', u'C', u'D', u'E', u'F', u'G', u'cost', u'duration_offers', u'A_init', u'B_init', u'C_init', u'D_init', u'E_init', u'F_init', u'G_init', u'A_change', u'B_change', u'C_change', u'D_change', u'E_change', u'F_change', u'G_change', u'A_var', u'B_var', u'C_var', u'D_var', u'E_var', u'F_var', u'G_var', u'init_cost', u'cost_var'], dtype='object')\n",
        "score:B_purchase:0.886486663823"
       ]
      },
      {
       "output_type": "stream",
       "stream": "stdout",
       "text": [
        "\n",
        "Index([u'shopping_pt', u'record_type', u'day', u'state', u'location', u'group_size', u'homeowner', u'car_age', u'car_value', u'risk_factor', u'age_oldest', u'age_youngest', u'married_couple', u'C_previous', u'duration_previous', u'A', u'B', u'C', u'D', u'E', u'F', u'G', u'cost', u'duration_offers', u'A_init', u'B_init', u'C_init', u'D_init', u'E_init', u'F_init', u'G_init', u'A_change', u'B_change', u'C_change', u'D_change', u'E_change', u'F_change', u'G_change', u'A_var', u'B_var', u'C_var', u'D_var', u'E_var', u'F_var', u'G_var', u'init_cost', u'cost_var'], dtype='object')\n",
        "score:C_purchase:0.728650634822"
       ]
      },
      {
       "output_type": "stream",
       "stream": "stdout",
       "text": [
        "\n",
        "Index([u'shopping_pt', u'record_type', u'day', u'state', u'location', u'group_size', u'homeowner', u'car_age', u'car_value', u'risk_factor', u'age_oldest', u'age_youngest', u'married_couple', u'C_previous', u'duration_previous', u'A', u'B', u'C', u'D', u'E', u'F', u'G', u'cost', u'duration_offers', u'A_init', u'B_init', u'C_init', u'D_init', u'E_init', u'F_init', u'G_init', u'A_change', u'B_change', u'C_change', u'D_change', u'E_change', u'F_change', u'G_change', u'A_var', u'B_var', u'C_var', u'D_var', u'E_var', u'F_var', u'G_var', u'init_cost', u'cost_var'], dtype='object')\n",
        "score:D_purchase:0.833830911059"
       ]
      },
      {
       "output_type": "stream",
       "stream": "stdout",
       "text": [
        "\n",
        "Index([u'shopping_pt', u'record_type', u'day', u'state', u'location', u'group_size', u'homeowner', u'car_age', u'car_value', u'risk_factor', u'age_oldest', u'age_youngest', u'married_couple', u'C_previous', u'duration_previous', u'A', u'B', u'C', u'D', u'E', u'F', u'G', u'cost', u'duration_offers', u'A_init', u'B_init', u'C_init', u'D_init', u'E_init', u'F_init', u'G_init', u'A_change', u'B_change', u'C_change', u'D_change', u'E_change', u'F_change', u'G_change', u'A_var', u'B_var', u'C_var', u'D_var', u'E_var', u'F_var', u'G_var', u'init_cost', u'cost_var'], dtype='object')\n",
        "score:E_purchase:0.89239198189"
       ]
      },
      {
       "output_type": "stream",
       "stream": "stdout",
       "text": [
        "\n",
        "Index([u'shopping_pt', u'record_type', u'day', u'state', u'location', u'group_size', u'homeowner', u'car_age', u'car_value', u'risk_factor', u'age_oldest', u'age_youngest', u'married_couple', u'C_previous', u'duration_previous', u'A', u'B', u'C', u'D', u'E', u'F', u'G', u'cost', u'duration_offers', u'A_init', u'B_init', u'C_init', u'D_init', u'E_init', u'F_init', u'G_init', u'A_change', u'B_change', u'C_change', u'D_change', u'E_change', u'F_change', u'G_change', u'A_var', u'B_var', u'C_var', u'D_var', u'E_var', u'F_var', u'G_var', u'init_cost', u'cost_var'], dtype='object')\n",
        "score:F_purchase:0.795413536301"
       ]
      },
      {
       "output_type": "stream",
       "stream": "stdout",
       "text": [
        "\n",
        "Index([u'shopping_pt', u'record_type', u'day', u'state', u'location', u'group_size', u'homeowner', u'car_age', u'car_value', u'risk_factor', u'age_oldest', u'age_youngest', u'married_couple', u'C_previous', u'duration_previous', u'A', u'B', u'C', u'D', u'E', u'F', u'G', u'cost', u'duration_offers', u'A_init', u'B_init', u'C_init', u'D_init', u'E_init', u'F_init', u'G_init', u'A_change', u'B_change', u'C_change', u'D_change', u'E_change', u'F_change', u'G_change', u'A_var', u'B_var', u'C_var', u'D_var', u'E_var', u'F_var', u'G_var', u'init_cost', u'cost_var'], dtype='object')\n",
        "score:G_purchase:0.676454184574"
       ]
      },
      {
       "output_type": "stream",
       "stream": "stdout",
       "text": [
        "\n",
        "Index([u'shopping_pt', u'record_type', u'day', u'state', u'location', u'group_size', u'homeowner', u'car_age', u'car_value', u'risk_factor', u'age_oldest', u'age_youngest', u'married_couple', u'C_previous', u'duration_previous', u'A', u'B', u'C', u'D', u'E', u'F', u'G', u'cost', u'duration_offers', u'A_init', u'B_init', u'C_init', u'D_init', u'E_init', u'F_init', u'G_init', u'A_change', u'B_change', u'C_change', u'D_change', u'E_change', u'F_change', u'G_change', u'A_var', u'B_var', u'C_var', u'D_var', u'E_var', u'F_var', u'G_var', u'init_cost', u'cost_var'], dtype='object')\n"
       ]
      }
     ],
     "prompt_number": 2
    },
    {
     "cell_type": "code",
     "collapsed": false,
     "input": [
      "import pylab as pl\n",
      "% pylab inline\n",
      "print modelGScores.values()\n",
      "pl.plot(modelAScores.keys(), modelAScores.values())"
     ],
     "language": "python",
     "metadata": {},
     "outputs": [
      {
       "output_type": "stream",
       "stream": "stdout",
       "text": [
        "Populating the interactive namespace from numpy and matplotlib\n",
        "[0.75335454873527774, 0.75335454873527774, 0.75601194186542431, 0.75594632722023558, 0.75594632722023558, 0.70056756668088316, 0.70069879597126083, 0.69787736622814212, 0.69689314655030998, 0.70706341655457494, 0.69991142022899511, 0.7020438961976313, 0.70312653784324664, 0.70319215248843547, 0.6915127456448279, 0.69489189987205147, 0.69499032183983467, 0.69397329483940817, 0.69456382664610739, 0.69482628522686263, 0.69226731406449915, 0.69367802893605857, 0.69456382664610739, 0.69518716577540107, 0.69518716577540107, 0.69525278042058991, 0.6938420655490305, 0.69502312916242903, 0.69462944129129622, 0.69446540467832418, 0.69453101932351302, 0.69410452412978574, 0.69453101932351302, 0.69387487287162497, 0.69371083625865293, 0.69207047012893275, 0.69216889209671595, 0.69266100193563207, 0.692825038548604, 0.69269380925822643, 0.69289065319379284, 0.69243135067747119, 0.69121747974147829, 0.69233292870968799, 0.68344214428660477, 0.67537154292838164, 0.68137528296315741, 0.67645418457399686]\n"
       ]
      },
      {
       "metadata": {},
       "output_type": "pyout",
       "prompt_number": 3,
       "text": [
        "[<matplotlib.lines.Line2D at 0x10bb9e6d0>]"
       ]
      },
      {
       "metadata": {},
       "output_type": "display_data",
       "png": "[encoded data removed]",
       "text": [
        "<matplotlib.figure.Figure at 0x10dc4c690>"
       ]
      }
     ],
     "prompt_number": 3
    },
    {
     "cell_type": "code",
     "collapsed": false,
     "input": [
      "import pylab as pl\n",
      "% pylab inline\n",
      "print modelGScores.values()\n",
      "pl.plot(modelGScores.keys(), modelGScores.values())"
     ],
     "language": "python",
     "metadata": {},
     "outputs": [
      {
       "output_type": "stream",
       "stream": "stdout",
       "text": [
        "Populating the interactive namespace from numpy and matplotlib\n",
        "[0.75335454873527774, 0.75335454873527774, 0.75601194186542431, 0.75594632722023558, 0.75594632722023558, 0.70056756668088316, 0.70069879597126083, 0.69787736622814212, 0.69689314655030998, 0.70706341655457494, 0.69991142022899511, 0.7020438961976313, 0.70312653784324664, 0.70319215248843547, 0.6915127456448279, 0.69489189987205147, 0.69499032183983467, 0.69397329483940817, 0.69456382664610739, 0.69482628522686263, 0.69226731406449915, 0.69367802893605857, 0.69456382664610739, 0.69518716577540107, 0.69518716577540107, 0.69525278042058991, 0.6938420655490305, 0.69502312916242903, 0.69462944129129622, 0.69446540467832418, 0.69453101932351302, 0.69410452412978574, 0.69453101932351302, 0.69387487287162497, 0.69371083625865293, 0.69207047012893275, 0.69216889209671595, 0.69266100193563207, 0.692825038548604, 0.69269380925822643, 0.69289065319379284, 0.69243135067747119, 0.69121747974147829, 0.69233292870968799, 0.68344214428660477, 0.67537154292838164, 0.68137528296315741, 0.67645418457399686]\n"
       ]
      },
      {
       "metadata": {},
       "output_type": "pyout",
       "prompt_number": 4,
       "text": [
        "[<matplotlib.lines.Line2D at 0x10bad5090>]"
       ]
      },
      {
       "metadata": {},
       "output_type": "display_data",
       "png": "[encoded data removed]",
       "text": [
        "<matplotlib.figure.Figure at 0x1056765d0>"
       ]
      }
     ],
     "prompt_number": 4
    },
    {
     "cell_type": "code",
     "collapsed": false,
     "input": [
      "import pylab as pl\n",
      "% pylab inline\n",
      "print modelGScores.values()\n",
      "pl.plot(modelBScores.keys(), modelBScores.values())"
     ],
     "language": "python",
     "metadata": {},
     "outputs": [
      {
       "output_type": "stream",
       "stream": "stdout",
       "text": [
        "Populating the interactive namespace from numpy and matplotlib\n",
        "[0.75335454873527774, 0.75335454873527774, 0.75601194186542431, 0.75594632722023558, 0.75594632722023558, 0.70056756668088316, 0.70069879597126083, 0.69787736622814212, 0.69689314655030998, 0.70706341655457494, 0.69991142022899511, 0.7020438961976313, 0.70312653784324664, 0.70319215248843547, 0.6915127456448279, 0.69489189987205147, 0.69499032183983467, 0.69397329483940817, 0.69456382664610739, 0.69482628522686263, 0.69226731406449915, 0.69367802893605857, 0.69456382664610739, 0.69518716577540107, 0.69518716577540107, 0.69525278042058991, 0.6938420655490305, 0.69502312916242903, 0.69462944129129622, 0.69446540467832418, 0.69453101932351302, 0.69410452412978574, 0.69453101932351302, 0.69387487287162497, 0.69371083625865293, 0.69207047012893275, 0.69216889209671595, 0.69266100193563207, 0.692825038548604, 0.69269380925822643, 0.69289065319379284, 0.69243135067747119, 0.69121747974147829, 0.69233292870968799, 0.68344214428660477, 0.67537154292838164, 0.68137528296315741, 0.67645418457399686]\n"
       ]
      },
      {
       "metadata": {},
       "output_type": "pyout",
       "prompt_number": 5,
       "text": [
        "[<matplotlib.lines.Line2D at 0x10baffbd0>]"
       ]
      },
      {
       "metadata": {},
       "output_type": "display_data",
       "png": "[encoded data removed]",
       "text": [
        "<matplotlib.figure.Figure at 0x10bad1fd0>"
       ]
      }
     ],
     "prompt_number": 5
    },
    {
     "cell_type": "code",
     "collapsed": false,
     "input": [
      "import pylab as pl\n",
      "% pylab inline\n",
      "print modelCScores.values()\n",
      "pl.plot(modelCScores.keys(), modelCScores.values())"
     ],
     "language": "python",
     "metadata": {},
     "outputs": [
      {
       "output_type": "stream",
       "stream": "stdout",
       "text": [
        "Populating the interactive namespace from numpy and matplotlib\n",
        "[0.64364686197959387, 0.71736491584921758, 0.67307503034677341, 0.72353269249696528, 0.7251402513040911, 0.72346707785177655, 0.75381385125159939, 0.75387946589678811, 0.75387946589678811, 0.75368262196122171, 0.73649158492175448, 0.73619631901840488, 0.73642597027656576, 0.73665562153472652, 0.74908959679800535, 0.74826941373314526, 0.74879433089465564, 0.7494504773465438, 0.75322331944490006, 0.75292805354155046, 0.75364981463862735, 0.75368262196122171, 0.75312489747711686, 0.75368262196122171, 0.75364981463862735, 0.75364981463862735, 0.75653685902693479, 0.75643843705915159, 0.75643843705915159, 0.756635280994718, 0.75614317115580199, 0.75607755651061315, 0.75591351989764111, 0.75617597847839635, 0.7556182539942915, 0.75545421738131946, 0.75594632722023558, 0.75588071257504674, 0.75584790525245238, 0.75483087825202588, 0.75446999770348744, 0.75634001509136839, 0.75653685902693479, 0.75535579541353626, 0.75614317115580199, 0.71168924904038577, 0.72884747875725864, 0.72865063482169223]\n"
       ]
      },
      {
       "metadata": {},
       "output_type": "pyout",
       "prompt_number": 6,
       "text": [
        "[<matplotlib.lines.Line2D at 0x10bb29d90>]"
       ]
      },
      {
       "metadata": {},
       "output_type": "display_data",
       "png": "[encoded data removed]",
       "text": [
        "<matplotlib.figure.Figure at 0x10824be50>"
       ]
      }
     ],
     "prompt_number": 6
    },
    {
     "cell_type": "code",
     "collapsed": false,
     "input": [
      "max(modelCScores.values())"
     ],
     "language": "python",
     "metadata": {},
     "outputs": [
      {
       "metadata": {},
       "output_type": "pyout",
       "prompt_number": 8,
       "text": [
        "0.756635280994718"
       ]
      }
     ],
     "prompt_number": 8
    },
    {
     "cell_type": "code",
     "collapsed": false,
     "input": [
      "import pylab as pl\n",
      "% pylab inline\n",
      "print modelCScores.values()\n",
      "pl.plot(modelDScores.keys(), modelDScores.values())"
     ],
     "language": "python",
     "metadata": {},
     "outputs": [
      {
       "output_type": "stream",
       "stream": "stdout",
       "text": [
        "Populating the interactive namespace from numpy and matplotlib\n",
        "[0.64364686197959387, 0.71736491584921758, 0.67307503034677341, 0.72353269249696528, 0.7251402513040911, 0.72346707785177655, 0.75381385125159939, 0.75387946589678811, 0.75387946589678811, 0.75368262196122171, 0.73649158492175448, 0.73619631901840488, 0.73642597027656576, 0.73665562153472652, 0.74908959679800535, 0.74826941373314526, 0.74879433089465564, 0.7494504773465438, 0.75322331944490006, 0.75292805354155046, 0.75364981463862735, 0.75368262196122171, 0.75312489747711686, 0.75368262196122171, 0.75364981463862735, 0.75364981463862735, 0.75653685902693479, 0.75643843705915159, 0.75643843705915159, 0.756635280994718, 0.75614317115580199, 0.75607755651061315, 0.75591351989764111, 0.75617597847839635, 0.7556182539942915, 0.75545421738131946, 0.75594632722023558, 0.75588071257504674, 0.75584790525245238, 0.75483087825202588, 0.75446999770348744, 0.75634001509136839, 0.75653685902693479, 0.75535579541353626, 0.75614317115580199, 0.71168924904038577, 0.72884747875725864, 0.72865063482169223]\n"
       ]
      },
      {
       "metadata": {},
       "output_type": "pyout",
       "prompt_number": 10,
       "text": [
        "[<matplotlib.lines.Line2D at 0x10c4ad790>]"
       ]
      },
      {
       "metadata": {},
       "output_type": "display_data",
       "png": "[encoded data removed]",
       "text": [
        "<matplotlib.figure.Figure at 0x10c429d50>"
       ]
      }
     ],
     "prompt_number": 10
    },
    {
     "cell_type": "code",
     "collapsed": false,
     "input": [
      "import pylab as pl\n",
      "% pylab inline\n",
      "print modelEScores.values()\n",
      "pl.plot(modelEScores.keys(), modelEScores.values())"
     ],
     "language": "python",
     "metadata": {},
     "outputs": [
      {
       "output_type": "stream",
       "stream": "stdout",
       "text": [
        "Populating the interactive namespace from numpy and matplotlib\n",
        "[0.89245759653554668, 0.89245759653554668, 0.89245759653554668, 0.89245759653554668, 0.89245759653554668, 0.89245759653554668, 0.89245759653554668, 0.89245759653554668, 0.89245759653554668, 0.89245759653554668, 0.89245759653554668, 0.89245759653554668, 0.89235917456776348, 0.89235917456776348, 0.89232636724516912, 0.89235917456776348, 0.89235917456776348, 0.89235917456776348, 0.89235917456776348, 0.89235917456776348, 0.89235917456776348, 0.89235917456776348, 0.89235917456776348, 0.89235917456776348, 0.89235917456776348, 0.89235917456776348, 0.89235917456776348, 0.89235917456776348, 0.89235917456776348, 0.89235917456776348, 0.89235917456776348, 0.89235917456776348, 0.89235917456776348, 0.89235917456776348, 0.89235917456776348, 0.89232636724516912, 0.89232636724516912, 0.89232636724516912, 0.89232636724516912, 0.89232636724516912, 0.89232636724516912, 0.89232636724516912, 0.89232636724516912, 0.89232636724516912, 0.89232636724516912, 0.89229355992257475, 0.89232636724516912, 0.89239198189035795]\n"
       ]
      },
      {
       "metadata": {},
       "output_type": "pyout",
       "prompt_number": 11,
       "text": [
        "[<matplotlib.lines.Line2D at 0x10c4bee50>]"
       ]
      },
      {
       "metadata": {},
       "output_type": "display_data",
       "png": "[encoded data removed]",
       "text": [
        "<matplotlib.figure.Figure at 0x10c416b50>"
       ]
      }
     ],
     "prompt_number": 11
    },
    {
     "cell_type": "code",
     "collapsed": false,
     "input": [
      "import pylab as pl\n",
      "% pylab inline\n",
      "print modelCScores.values()\n",
      "pl.plot(modelFScores.keys(), modelFScores.values())"
     ],
     "language": "python",
     "metadata": {},
     "outputs": [
      {
       "output_type": "stream",
       "stream": "stdout",
       "text": [
        "Populating the interactive namespace from numpy and matplotlib\n",
        "[0.64364686197959387, 0.71736491584921758, 0.67307503034677341, 0.72353269249696528, 0.7251402513040911, 0.72346707785177655, 0.75381385125159939, 0.75387946589678811, 0.75387946589678811, 0.75368262196122171, 0.73649158492175448, 0.73619631901840488, 0.73642597027656576, 0.73665562153472652, 0.74908959679800535, 0.74826941373314526, 0.74879433089465564, 0.7494504773465438, 0.75322331944490006, 0.75292805354155046, 0.75364981463862735, 0.75368262196122171, 0.75312489747711686, 0.75368262196122171, 0.75364981463862735, 0.75364981463862735, 0.75653685902693479, 0.75643843705915159, 0.75643843705915159, 0.756635280994718, 0.75614317115580199, 0.75607755651061315, 0.75591351989764111, 0.75617597847839635, 0.7556182539942915, 0.75545421738131946, 0.75594632722023558, 0.75588071257504674, 0.75584790525245238, 0.75483087825202588, 0.75446999770348744, 0.75634001509136839, 0.75653685902693479, 0.75535579541353626, 0.75614317115580199, 0.71168924904038577, 0.72884747875725864, 0.72865063482169223]\n"
       ]
      },
      {
       "metadata": {},
       "output_type": "pyout",
       "prompt_number": 12,
       "text": [
        "[<matplotlib.lines.Line2D at 0x10c806f90>]"
       ]
      },
      {
       "metadata": {},
       "output_type": "display_data",
       "png": "[encoded data removed]",
       "text": [
        "<matplotlib.figure.Figure at 0x10c7e75d0>"
       ]
      }
     ],
     "prompt_number": 12
    },
    {
     "cell_type": "code",
     "collapsed": false,
     "input": [
      "import pylab as pl\n",
      "% pylab inline\n",
      "print modelCScores.values()\n",
      "pl.plot(modelDScores.keys(), modelDScores.values())"
     ],
     "language": "python",
     "metadata": {},
     "outputs": []
    }
   ],
   "metadata": {}
  }
 ]
}