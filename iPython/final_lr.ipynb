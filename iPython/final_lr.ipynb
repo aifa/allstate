{
 "metadata": {
  "name": ""
 },
 "nbformat": 3,
 "nbformat_minor": 0,
 "worksheets": [
  {
   "cells": [
    {
     "cell_type": "code",
     "collapsed": false,
     "input": [
      "__author__ = 'aifa'\n",
      "\n",
      "import os\n",
      "import pandas as pd\n",
      "import numpy as np\n",
      "import pylab as pl\n",
      "\n",
      "from sklearn import clone\n",
      "\n",
      "from sklearn.ensemble.weight_boosting import AdaBoostClassifier\n",
      "from sklearn.ensemble.forest import (RandomForestClassifier,RandomForestRegressor,\n",
      "                                        ExtraTreesClassifier)\n",
      "\n",
      "from sklearn.linear_model import LogisticRegression\n",
      "from sklearn import svm\n",
      "\n",
      "import math as math\n",
      "from sklearn.externals.six.moves import xrange\n",
      "from sklearn.tree import DecisionTreeClassifier\n",
      "\n",
      "from sklearn.svm import SVR\n",
      "from sklearn.cross_validation import StratifiedKFold\n",
      "\n",
      "from sklearn.feature_selection import RFE\n",
      "from sklearn.pipeline import Pipeline\n",
      "\n",
      "train_sets={}\n",
      "train_1 = pd.read_csv(\"/Users/aifa/Dropbox/kaggle/insurance/future/train_all_split_1.csv\", header=0, encoding=\"UTF-8\", error_bad_lines=False, sep=\",\", index_col=0)\n",
      "train_sets[1]=train_1\n",
      "train_2 = pd.read_csv(\"/Users/aifa/Dropbox/kaggle/insurance/future/train_all_split_2.csv\", header=0, encoding=\"UTF-8\", error_bad_lines=False, sep=\",\", index_col=0)\n",
      "train_sets[2]=train_2\n",
      "train_3 = pd.read_csv(\"/Users/aifa/Dropbox/kaggle/insurance/future/train_all_split_3.csv\", header=0, encoding=\"UTF-8\", error_bad_lines=False, sep=\",\", index_col=0)\n",
      "train_sets[3]=train_3\n",
      "train_4 = pd.read_csv(\"/Users/aifa/Dropbox/kaggle/insurance/future/train_all_split_4.csv\", header=0, encoding=\"UTF-8\", error_bad_lines=False, sep=\",\", index_col=0)\n",
      "train_sets[4]=train_4\n",
      "train_5 = pd.read_csv(\"/Users/aifa/Dropbox/kaggle/insurance/future/train_all_split_5.csv\", header=0, encoding=\"UTF-8\", error_bad_lines=False, sep=\",\", index_col=0)\n",
      "train_sets[5]=train_5\n",
      "train_6 = pd.read_csv(\"/Users/aifa/Dropbox/kaggle/insurance/future/train_all_split_6.csv\", header=0, encoding=\"UTF-8\", error_bad_lines=False, sep=\",\", index_col=0)\n",
      "train_sets[6]=train_6\n",
      "train_7 = pd.read_csv(\"/Users/aifa/Dropbox/kaggle/insurance/future/train_all_split_7.csv\", header=0, encoding=\"UTF-8\", error_bad_lines=False, sep=\",\", index_col=0)\n",
      "train_sets[7]=train_7\n",
      "train_8 = pd.read_csv(\"/Users/aifa/Dropbox/kaggle/insurance/future/train_all_split_8.csv\", header=0, encoding=\"UTF-8\", error_bad_lines=False, sep=\",\", index_col=0)\n",
      "train_sets[8]=train_8\n",
      "train_9 = pd.read_csv(\"/Users/aifa/Dropbox/kaggle/insurance/future/train_all_split_9.csv\", header=0, encoding=\"UTF-8\", error_bad_lines=False, sep=\",\", index_col=0)\n",
      "train_sets[9]=train_9\n",
      "train_10 = pd.read_csv(\"/Users/aifa/Dropbox/kaggle/insurance/future/train_all_split_10.csv\", header=0, encoding=\"UTF-8\", error_bad_lines=False, sep=\",\", index_col=0)\n",
      "train_sets[10]=train_10\n",
      "train_11 = pd.read_csv(\"/Users/aifa/Dropbox/kaggle/insurance/future/train_all_split_11.csv\", header=0, encoding=\"UTF-8\", error_bad_lines=False, sep=\",\", index_col=0)\n",
      "train_sets[11]=train_11\n",
      "train_12 = pd.read_csv(\"/Users/aifa/Dropbox/kaggle/insurance/future/train_all_split_12.csv\", header=0, encoding=\"UTF-8\", error_bad_lines=False, sep=\",\", index_col=0)\n",
      "train_sets[12]=train_12\n",
      "\n",
      "test_2 = pd.read_csv(\"/Users/aifa/Dropbox/kaggle/insurance/future/test_v2_all_future.csv\", header=0, encoding=\"UTF-8\", error_bad_lines=False, sep=\",\", index_col=0)\n",
      "\n",
      "\n",
      "results_df = pd.DataFrame(index=test_2.index)\n",
      "resultCol = pd.Series(index=test_2.index,dtype=object)\n",
      "\n",
      "#try random forest on feature A\n",
      "n_estimators = 10\n",
      "\n",
      "rfcModel = RandomForestClassifier(n_estimators=n_estimators)\n",
      "rfrmodel = RandomForestRegressor(n_estimators=n_estimators)\n",
      "lr = LogisticRegression()\n",
      "\n",
      "\n",
      "#svr =  SVR(C=1.0, epsilon=0.2)\n",
      "C = 10.0  # SVM regularization parameter\n",
      "svc = svm.SVC(kernel='linear', C=C)\n",
      "#rbf_svc = svm.SVC(kernel='rbf', gamma=0.7, C=C)\n",
      "#poly_svc = svm.SVC(kernel='poly', degree=3, C=C)\n",
      "\n",
      "A_features={}\n",
      "B_features={}\n",
      "C_features={}\n",
      "D_features={}\n",
      "E_features={}\n",
      "F_features={}\n",
      "G_features={}\n",
      "\n",
      "#1 offers\n",
      "A1_cols=['shopping_pt', 'day', 'state', 'group_size', 'homeowner', 'car_age', 'car_value', 'risk_factor', \n",
      "         'age_oldest', 'age_youngest', 'married_couple', 'C_previous', 'duration_previous', \n",
      "         'A', 'B', 'C', 'D', 'E', 'F', 'G', 'cost', 'A_init', 'B_init', 'C_init', 'D_init', 'E_init', 'F_init', \n",
      "         'G_init']\n",
      "\n",
      "B1_cols=['shopping_pt', 'day', 'state', 'group_size', 'homeowner', 'car_age', 'risk_factor', 'age_oldest', \n",
      "         'age_youngest', 'married_couple', 'C_previous', 'duration_previous', 'A', 'B', 'C', 'D', 'E', 'F', \n",
      "         'G', 'cost', 'A_init', 'B_init', 'C_init', 'D_init', 'E_init', 'F_init', 'G_init']\n",
      "C1_cols=['shopping_pt', 'day', 'state', 'group_size', 'homeowner', 'car_age', 'car_value', 'risk_factor', 'age_oldest',\n",
      " 'age_youngest', 'married_couple', 'C_previous', 'duration_previous', 'A', 'B', 'C', 'D', 'E', 'F', 'G', \n",
      " 'cost', 'A_init', 'B_init', 'C_init', 'D_init', 'E_init', 'F_init', 'G_init']\n",
      "D1_cols=['shopping_pt', 'day', 'state', 'location', 'group_size', 'homeowner', 'car_age', 'car_value', 'risk_factor', \n",
      "         'age_oldest', 'age_youngest', 'married_couple', 'C_previous', 'duration_previous', 'A', 'B', 'C', 'D', 'E', \n",
      "         'F', 'G', 'cost', 'A_init', 'B_init', 'C_init', 'D_init', 'E_init', 'F_init', 'G_init', 'A_change', \n",
      "         'B_change', 'C_change', 'D_change', 'E_change', 'F_change', 'C_var', 'D_var', 'init_cost']\n",
      "E1_cols=['shopping_pt', 'day', 'state', 'group_size', 'homeowner', 'car_age', 'car_value', 'risk_factor', \n",
      "         'age_oldest', 'age_youngest', 'married_couple', 'C_previous', 'duration_previous', 'A', 'B', 'C', 'D', \n",
      "         'E', 'F', 'G', 'cost', 'A_init', 'B_init', 'C_init', 'D_init', 'E_init', 'F_init', 'G_init']\n",
      "F1_cols=['shopping_pt', 'day', 'state', 'group_size', 'homeowner', 'car_age', 'car_value', 'risk_factor',\n",
      "         'age_youngest', 'married_couple', 'C_previous', 'duration_previous', 'A', 'B', 'C', 'D', 'E', 'F',\n",
      "         'G', 'cost', 'A_init', 'B_init', 'C_init', 'D_init', 'E_init', 'F_init', 'G_init']\n",
      "G1_cols=['shopping_pt', 'day', 'state', 'group_size', 'homeowner', 'car_age', 'car_value', 'risk_factor', \n",
      "         'age_oldest', 'married_couple', 'C_previous', 'duration_previous', 'A', 'B', 'C', 'D', 'E', 'F',\n",
      "         'G', 'A_init', 'B_init', 'C_init', 'D_init', 'E_init', 'F_init', 'G_init']\n",
      "\n",
      "#2 offers\n",
      "\n",
      "A2_cols=['shopping_pt', 'day', 'state', 'group_size', 'homeowner', 'car_age', 'car_value', 'risk_factor',\n",
      "         'age_oldest', 'age_youngest', 'married_couple', 'C_previous', 'duration_previous', 'A', 'B', 'C', \n",
      "         'D', 'E', 'F', 'G', 'cost', 'duration_offers', 'A_init', 'B_init', 'C_init', 'D_init', 'E_init', \n",
      "         'F_init', 'G_init', 'A_change', 'B_change', 'C_change', 'D_change', 'E_change', 'F_change', 'G_change', \n",
      "         'init_cost']\n",
      "\n",
      "B2_cols=['B']\n",
      "\n",
      "C2_cols=['shopping_pt', 'day', 'state', 'group_size', 'homeowner', 'car_age', 'car_value', 'risk_factor', 'age_oldest',\n",
      "         'age_youngest', 'married_couple', 'C_previous', 'duration_previous', 'A', 'B', 'C', 'D', 'E', 'F', 'G', \n",
      "         'cost', 'duration_offers', 'A_init', 'B_init', 'C_init', 'D_init', 'E_init', 'F_init', 'G_init', \n",
      "         'A_change', 'B_change', 'C_change', 'D_change', 'E_change', 'F_change', 'G_change', 'init_cost']\n",
      "\n",
      "D2_cols=['shopping_pt', 'C_previous', 'D', 'D_change', 'E_change', 'F_change', 'G_change']\n",
      "\n",
      "E2_cols=['shopping_pt', 'record_type', 'day', 'state', 'location', 'group_size', 'homeowner', 'car_age', 'car_value', \n",
      "         'risk_factor', 'age_oldest', 'age_youngest', 'married_couple', 'C_previous', 'duration_previous', 'A', 'B',\n",
      "         'C', 'D', 'E', 'F', 'G', 'cost', 'duration_offers', 'A_init', 'B_init', 'C_init', 'D_init', 'E_init',\n",
      "         'F_init', 'G_init', 'A_change', 'B_change', 'C_change', 'D_change', 'E_change', 'F_change', 'G_change',\n",
      "         'A_var', 'B_var', 'C_var', 'D_var', 'E_var', 'F_var', 'G_var', 'init_cost', 'cost_var']\n",
      "\n",
      "F2_cols=['shopping_pt', 'A', 'F']\n",
      "\n",
      "G2_cols=['shopping_pt', 'G']\n",
      "\n",
      "\n",
      "#3 offers\n",
      "A3_cols=['A']\n",
      "\n",
      "B3_cols=['B']\n",
      "\n",
      "C3_cols=['shopping_pt', 'day', 'state', 'group_size', 'homeowner', 'car_age', 'car_value', 'risk_factor', \n",
      "         'age_oldest', 'age_youngest', 'married_couple', 'C_previous', 'duration_previous', 'A', 'B', 'C', \n",
      "         'D', 'E', 'F', 'G', 'cost', 'duration_offers', 'A_init', 'B_init', 'C_init', 'D_init', 'E_init', \n",
      "         'F_init', 'G_init', 'A_change', 'B_change', 'C_change', 'D_change', 'E_change', 'F_change', 'G_change', \n",
      "         'A_var', 'B_var', 'C_var', 'D_var', 'E_var', 'F_var', 'G_var', 'init_cost']\n",
      "\n",
      "D3_cols=['D']\n",
      "\n",
      "E3_cols=['shopping_pt', 'group_size', 'homeowner', 'married_couple', 'A', 'E', 'B_init', 'C_init', 'A_var']\n",
      "\n",
      "F3_cols=['F']\n",
      "\n",
      "G3_cols=['shopping_pt', 'G', 'G_change', 'G_var']\n",
      "\n",
      "#4 offers\n",
      "A4_cols=['A']\n",
      "\n",
      "B4_cols=['B']\n",
      "\n",
      "C4_cols=['shopping_pt', 'day', 'state', 'group_size', 'homeowner', 'car_age', 'car_value', 'risk_factor', \n",
      "         'age_oldest', 'age_youngest', 'married_couple', 'C_previous', 'duration_previous', 'A', 'B', 'C', \n",
      "         'D', 'E', 'F', 'G', 'cost', 'duration_offers', 'A_init', 'B_init', 'C_init', 'D_init', 'E_init', \n",
      "         'F_init', 'G_init', 'A_change', 'B_change', 'C_change', 'D_change', 'E_change', 'F_change', 'G_change', \n",
      "         'A_var', 'B_var', 'C_var', 'D_var', 'E_var', 'F_var', 'G_var', 'init_cost']\n",
      "\n",
      "D4_cols=['D']\n",
      "\n",
      "E4_cols=['shopping_pt', 'group_size', 'homeowner', 'married_couple', 'A', 'C', 'E', 'B_init', 'E_change', \n",
      "         'A_var', 'B_var', 'E_var']\n",
      "\n",
      "F4_cols=['F', 'A_var']\n",
      "\n",
      "G4_cols=['shopping_pt', 'G', 'A_var', 'G_var']\n",
      "\n",
      "#5 offers\n",
      "A5_cols=['A']\n",
      "\n",
      "B5_cols=['B']\n",
      "\n",
      "C5_cols=['shopping_pt', 'group_size', 'homeowner', 'car_age', 'car_value', 'risk_factor', 'married_couple', \n",
      "         'C_previous', 'duration_previous', 'A', 'B', 'C', 'D', 'E', 'F', 'G', 'duration_offers', 'A_init', \n",
      "         'B_init', 'C_init', 'D_init', 'E_init', 'F_init', 'G_init', 'A_change', 'B_change', 'C_change', 'D_change', \n",
      "         'E_change', 'F_change', 'G_change', 'A_var', 'B_var', 'C_var', 'D_var', 'E_var', 'F_var', 'G_var']\n",
      "\n",
      "D5_cols=['D']\n",
      "\n",
      "E5_cols=['shopping_pt', 'homeowner', 'car_age', 'A', 'C', 'D', 'E', 'A_init', 'B_init', 'C_init', 'E_init', \n",
      "         'A_change', 'B_change', 'C_change', 'D_change', 'E_change', 'F_change', 'A_var', 'B_var', 'D_var', 'E_var']\n",
      "\n",
      "F5_cols=['F', 'A_var']\n",
      "\n",
      "G5_cols=['shopping_pt', 'G', 'G_init', 'G_change', 'A_var', 'G_var']\n",
      "\n",
      "#6 offers\n",
      "A6_cols=['A']\n",
      "\n",
      "B6_cols=['B']\n",
      "\n",
      "C6_cols=['shopping_pt', 'group_size', 'homeowner', 'car_age', 'car_value', 'risk_factor', 'married_couple', \n",
      "         'C_previous', 'duration_previous', 'A', 'B', 'C', 'D', 'E', 'F', 'G', 'duration_offers', 'A_init', \n",
      "         'B_init', 'C_init', 'D_init', 'E_init', 'F_init', 'G_init', 'A_change', 'B_change', 'C_change', 'D_change', \n",
      "         'E_change', 'F_change', 'G_change', 'A_var', 'B_var', 'C_var', 'D_var', 'E_var', 'F_var', 'G_var']\n",
      "\n",
      "D6_cols=['D']\n",
      "\n",
      "E6_cols=['shopping_pt', 'homeowner', 'car_age', 'A', 'C', 'D', 'E', 'A_init', 'B_init', 'C_init', 'E_init', \n",
      "         'A_change', 'B_change', 'C_change', 'D_change', 'E_change', 'F_change', 'A_var', 'B_var', 'D_var', 'E_var']\n",
      "\n",
      "F6_cols=['F', 'A_var']\n",
      "\n",
      "G6_cols=['shopping_pt', 'G', 'G_init', 'G_change', 'A_var', 'G_var']\n",
      "\n",
      "#7 offers\n",
      "A7_cols=['A']\n",
      "\n",
      "B7_cols=['B']\n",
      "\n",
      "C7_cols=['shopping_pt', 'day', 'state', 'group_size', 'homeowner', 'car_age', 'car_value', 'risk_factor', \n",
      "         'married_couple', 'C_previous', 'A', 'B', 'C', 'D', 'E', 'F', 'G', 'duration_offers', 'A_init',\n",
      "         'B_init', 'C_init', 'D_init', 'E_init', 'F_init', 'G_init', 'A_change', 'B_change', 'C_change', \n",
      "         'D_change', 'E_change', 'F_change', 'G_change', 'A_var', 'B_var', 'C_var', 'D_var', 'E_var', 'F_var', \n",
      "         'G_var']\n",
      "\n",
      "D7_cols=['D']\n",
      "\n",
      "E7_cols=['E']\n",
      "\n",
      "F7_cols=['F', 'A_var']\n",
      "\n",
      "G7_cols=['shopping_pt', 'G', 'G_init', 'A_var', 'E_var', 'G_var']\n",
      "\n",
      "#8 offers\n",
      "A8_cols=['A']\n",
      "\n",
      "B8_cols=['B']\n",
      "\n",
      "C8_cols=['shopping_pt', 'C', 'C_change', 'C_var']\n",
      "\n",
      "D8_cols=['D']\n",
      "\n",
      "E8_cols=['E']\n",
      "\n",
      "F8_cols=['F', 'A_var']\n",
      "\n",
      "G8_cols=['shopping_pt', 'G', 'E_var', 'G_var']\n",
      "\n",
      "\n",
      "#9 offers\n",
      "A9_cols=['A']\n",
      "\n",
      "B9_cols=['B']\n",
      "\n",
      "C9_cols=['shopping_pt', 'homeowner', 'C_previous', 'A', 'B', 'C', 'D', 'E', 'C_init', 'E_init', 'C_change', \n",
      "         'D_change', 'E_change', 'A_var', 'B_var', 'C_var', 'D_var', 'E_var', 'F_var', 'G_var']\n",
      "\n",
      "D9_cols=['D']\n",
      "\n",
      "E9_cols=['E']\n",
      "\n",
      "F9_cols=['shopping_pt', 'A', 'F', 'A_var', 'E_var', 'F_var']\n",
      "\n",
      "G9_cols=['shopping_pt', 'G', 'G_var']\n",
      "\n",
      "#10 offers\n",
      "A10_cols=['A']\n",
      "\n",
      "B10_cols=['shopping_pt', 'day', 'state', 'group_size', 'homeowner', 'car_age', 'car_value', 'risk_factor', \n",
      "          'age_oldest', 'married_couple', 'C_previous', 'A', 'B', 'C', 'D', 'E', 'F', 'G', 'cost', \n",
      "          'duration_offers', 'A_init', 'B_init', 'C_init', 'D_init', 'E_init', 'F_init', 'G_init', 'A_change', \n",
      "          'B_change', 'C_change', 'D_change', 'E_change', 'F_change', 'G_change', 'A_var', 'B_var', 'C_var', \n",
      "          'D_var', 'E_var', 'F_var', 'G_var', 'init_cost']\n",
      "\n",
      "C10_cols=['shopping_pt', 'group_size', 'homeowner', 'C_previous', 'A', 'C', 'D', 'E', 'A_init', 'C_init', \n",
      "          'D_init', 'E_init', 'C_change', 'D_change', 'E_change', 'A_var', 'B_var', 'C_var', 'D_var', 'E_var', \n",
      "          'F_var', 'G_var']\n",
      "\n",
      "D10_cols=['D']\n",
      "\n",
      "E10_cols=['E']\n",
      "\n",
      "F10_cols=['shopping_pt', 'A', 'F', 'A_var', 'E_var', 'F_var']\n",
      "\n",
      "G10_cols=['shopping_pt', 'G', 'G_var']\n",
      "\n",
      "#11 offers\n",
      "A11_cols=['A']\n",
      "\n",
      "B11_cols=['shopping_pt', 'day', 'state', 'group_size', 'homeowner', 'car_age', 'car_value', 'risk_factor', \n",
      "          'age_oldest', 'married_couple', 'C_previous', 'A', 'B', 'C', 'D', 'E', 'F', 'G', 'cost', \n",
      "          'duration_offers', 'A_init', 'B_init', 'C_init', 'D_init', 'E_init', 'F_init', 'G_init', 'A_change', \n",
      "          'B_change', 'C_change', 'D_change', 'E_change', 'F_change', 'G_change', 'A_var', 'B_var', 'C_var', \n",
      "          'D_var', 'E_var', 'F_var', 'G_var', 'init_cost']\n",
      "\n",
      "C11_cols=['shopping_pt', 'homeowner', 'C_previous', 'C', 'D', 'C_init', 'D_init', 'D_change', 'B_var', \n",
      "          'C_var', 'D_var', 'E_var', 'G_var']\n",
      "\n",
      "D11_cols=['shopping_pt', 'homeowner', 'B', 'C', 'D', 'E', 'G', 'A_init', 'E_init', 'D_change', \n",
      "          'B_var', 'D_var', 'G_var']\n",
      "\n",
      "E11_cols=['E']\n",
      "\n",
      "F11_cols=['F']\n",
      "\n",
      "G11_cols=['shopping_pt', 'G', 'G_init', 'G_change', 'D_var', 'G_var']\n",
      "\n",
      "#12 offers\n",
      "A12_cols=['shopping_pt', 'day', 'state', 'group_size', 'homeowner', 'car_age', 'car_value', 'risk_factor', \n",
      "          'age_oldest', 'age_youngest', 'married_couple', 'C_previous', 'duration_previous', 'A', 'B', 'C', 'D', \n",
      "          'E', 'F', 'G', 'cost', 'duration_offers', 'A_init', 'B_init', 'C_init', 'D_init', 'E_init', 'F_init', \n",
      "          'G_init', 'A_change', 'B_change', 'C_change', 'D_change', 'E_change', 'F_change', 'G_change', 'A_var', \n",
      "          'B_var', 'C_var', 'D_var', 'E_var', 'F_var', 'G_var', 'init_cost']\n",
      "\n",
      "B12_cols=['B']\n",
      "\n",
      "C12_cols=['C']\n",
      "\n",
      "D12_cols=['group_size', 'D', 'E', 'B_init', 'D_change']\n",
      "\n",
      "E12_cols=['E']\n",
      "\n",
      "F12_cols=['A', 'C', 'F', 'D_init']\n",
      "\n",
      "G12_cols=['shopping_pt', 'day', 'group_size', 'homeowner', 'car_age', 'car_value', 'risk_factor', 'age_oldest', \n",
      "          'married_couple', 'C_previous', 'duration_previous', 'A', 'B', 'C', 'D', 'F', 'G', 'duration_offers', \n",
      "          'B_init', 'C_init', 'D_init', 'E_init', 'F_init', 'G_init', 'A_change', 'B_change', 'C_change', 'D_change',\n",
      "          'E_change', 'F_change', 'G_change', 'C_var', 'G_var']\n",
      "\n",
      "A_features[1]=A1_cols\n",
      "A_features[2]=A2_cols\n",
      "A_features[3]=A3_cols\n",
      "A_features[4]=A4_cols\n",
      "A_features[5]=A5_cols\n",
      "A_features[6]=A6_cols\n",
      "A_features[7]=A7_cols\n",
      "A_features[8]=A8_cols\n",
      "A_features[9]=A9_cols\n",
      "A_features[10]=A10_cols\n",
      "A_features[11]=A11_cols\n",
      "A_features[12]=A12_cols\n",
      "\n",
      "B_features[1]=B1_cols\n",
      "B_features[2]=B2_cols\n",
      "B_features[3]=B3_cols\n",
      "B_features[4]=B4_cols\n",
      "B_features[5]=B5_cols\n",
      "B_features[6]=B6_cols\n",
      "B_features[7]=B7_cols\n",
      "B_features[8]=B8_cols\n",
      "B_features[9]=B9_cols\n",
      "B_features[10]=B10_cols\n",
      "B_features[11]=B11_cols\n",
      "B_features[12]=B12_cols\n",
      "\n",
      "C_features[1]=C1_cols\n",
      "C_features[2]=C2_cols\n",
      "C_features[3]=C3_cols\n",
      "C_features[4]=C4_cols\n",
      "C_features[5]=C5_cols\n",
      "C_features[6]=C6_cols\n",
      "C_features[7]=C7_cols\n",
      "C_features[8]=C8_cols\n",
      "C_features[9]=C9_cols\n",
      "C_features[10]=C10_cols\n",
      "C_features[11]=C11_cols\n",
      "C_features[12]=C12_cols\n",
      "\n",
      "D_features[1]=D1_cols\n",
      "D_features[2]=D2_cols\n",
      "D_features[3]=D3_cols\n",
      "D_features[4]=D4_cols\n",
      "D_features[5]=D5_cols\n",
      "D_features[6]=D6_cols\n",
      "D_features[7]=D7_cols\n",
      "D_features[8]=D8_cols\n",
      "D_features[9]=D9_cols\n",
      "D_features[10]=D10_cols\n",
      "D_features[11]=D11_cols\n",
      "D_features[12]=D12_cols\n",
      "\n",
      "E_features[1]=E1_cols\n",
      "E_features[2]=E2_cols\n",
      "E_features[3]=E3_cols\n",
      "E_features[4]=E4_cols\n",
      "E_features[5]=E5_cols\n",
      "E_features[6]=E6_cols\n",
      "E_features[7]=E7_cols\n",
      "E_features[8]=E8_cols\n",
      "E_features[9]=E9_cols\n",
      "E_features[10]=E10_cols\n",
      "E_features[11]=E11_cols\n",
      "E_features[12]=E12_cols\n",
      "\n",
      "F_features[1]=F1_cols\n",
      "F_features[2]=F2_cols\n",
      "F_features[3]=F3_cols\n",
      "F_features[4]=F4_cols\n",
      "F_features[5]=F5_cols\n",
      "F_features[6]=F6_cols\n",
      "F_features[7]=F7_cols\n",
      "F_features[8]=F8_cols\n",
      "F_features[9]=F9_cols\n",
      "F_features[10]=F10_cols\n",
      "F_features[11]=F11_cols\n",
      "F_features[12]=F12_cols\n",
      "\n",
      "G_features[1]=G1_cols\n",
      "G_features[2]=G2_cols\n",
      "G_features[3]=G3_cols\n",
      "G_features[4]=G4_cols\n",
      "G_features[5]=G5_cols\n",
      "G_features[6]=G6_cols\n",
      "G_features[7]=G7_cols\n",
      "G_features[8]=G8_cols\n",
      "G_features[9]=G9_cols\n",
      "G_features[10]=G10_cols\n",
      "G_features[11]=G11_cols\n",
      "G_features[12]=G12_cols\n",
      "\n",
      "def cleanup(df):\n",
      "\n",
      "    #find columns that contain null values\n",
      "    inds = pd.isnull(df).any(0).nonzero()\n",
      "\n",
      "    df['car_value'] = df['car_value'].fillna('0')\n",
      "    df['car_value']=df['car_value'].apply(lambda letter :  abs(ord(letter) - 96))\n",
      "    df['state']=df['state'].apply(lambda letter :  abs(ord(letter[0]) - 96 + ord(letter[1]) - 96))\n",
      "\n",
      "    #remove product feature\n",
      "    #df=df.drop(['product'], axis=1)\n",
      "    #df=df.drop(['state'], axis=1)\n",
      "    #df=df.drop(['location'], axis=1)\n",
      "    df=df.drop(['time'], axis=1)\n",
      "\n",
      "    #impute the null values\n",
      "    df['risk_factor'] = df['risk_factor'].fillna(0)\n",
      "    df['C_previous'] = df['C_previous'].fillna(0)\n",
      "    df['duration_previous'] = df['duration_previous'].fillna(0)\n",
      "    df['location'] = df['location'].fillna(0)\n",
      "\n",
      "    df['A_var'] = df['A_var'].fillna(0)\n",
      "    df['B_var'] = df['B_var'].fillna(0)\n",
      "    df['C_var'] = df['C_var'].fillna(0)\n",
      "    df['D_var'] = df['D_var'].fillna(0)\n",
      "    df['E_var'] = df['E_var'].fillna(0)\n",
      "    df['F_var'] = df['F_var'].fillna(0)\n",
      "    df['G_var'] = df['G_var'].fillna(0)\n",
      "    df['cost_var'] = df['cost_var'].fillna(0)\n",
      "    #drop any other rows that might contain null values (at this point only lines with empty key cols should be removed from the training sets)\n",
      "    df=df.dropna()\n",
      "\n",
      "    return df\n",
      "\n",
      "def cleanup_test(df):\n",
      "\n",
      "    #find columns that contain null values\n",
      "    inds = pd.isnull(df).any(0).nonzero()\n",
      "\n",
      "    df['car_value'] = df['car_value'].fillna('0')\n",
      "    df['car_value']=df['car_value'].apply(lambda letter :  abs(ord(letter) - 96))\n",
      "    df['state']=df['state'].apply(lambda letter :  abs(ord(letter[0]) - 96 + ord(letter[1]) - 96))\n",
      "\n",
      "    #remove product feature\n",
      "    #df=df.drop(['product'], axis=1)\n",
      "    #df=df.drop(['state'], axis=1)\n",
      "    #df=df.drop(['location'], axis=1)\n",
      "    df=df.drop(['time'], axis=1)\n",
      "    \n",
      "    #impute the null values\n",
      "    df['risk_factor'] = df['risk_factor'].fillna(0)\n",
      "    df['C_previous'] = df['C_previous'].fillna(0)\n",
      "    df['duration_previous'] = df['duration_previous'].fillna(0)\n",
      "    df['location'] = df['location'].fillna(0)\n",
      "\n",
      "    df['A_var'] = df['A_var'].fillna(0)\n",
      "    df['B_var'] = df['B_var'].fillna(0)\n",
      "    df['C_var'] = df['C_var'].fillna(0)\n",
      "    df['D_var'] = df['D_var'].fillna(0)\n",
      "    df['E_var'] = df['E_var'].fillna(0)\n",
      "    df['F_var'] = df['F_var'].fillna(0)\n",
      "    df['G_var'] = df['G_var'].fillna(0)\n",
      "    df['cost_var'] = df['cost_var'].fillna(0)\n",
      "\n",
      "    return df\n",
      "\n",
      "def train_model(train_df, model,feature_array, yName='A_purchase'):\n",
      "    input_df = train_df.copy(deep=True)\n",
      "    y = input_df[yName].values\n",
      "\n",
      "    #input_df=input_df.drop(['A_purchase'], axis=1)\n",
      "    #input_df=input_df.drop(['B_purchase'], axis=1)\n",
      "    #input_df=input_df.drop(['C_purchase'], axis=1)\n",
      "    #input_df=input_df.drop(['D_purchase'], axis=1)\n",
      "    #input_df=input_df.drop(['E_purchase'], axis=1)\n",
      "    #input_df=input_df.drop(['F_purchase'], axis=1)\n",
      "    #input_df=input_df.drop(['G_purchase'], axis=1)\n",
      "\n",
      "    #if (yName=='G_purchase'):\n",
      "    #    input_df=input_df.drop(['C_previous'], axis=1)\n",
      "    \n",
      "    input_df=input_df[feature_array]\n",
      "\n",
      "    \n",
      "    X = input_df.values\n",
      "\n",
      "    skf=StratifiedKFold(y, n_folds=3 )\n",
      "\n",
      "    best_model=None\n",
      "    best_model_score=0\n",
      "    for train_index, test_index in skf:\n",
      "        X_train, X_test = X[train_index], X[test_index]\n",
      "        y_train, y_test = y[train_index], y[test_index]\n",
      "        \n",
      "        #selector = RFE(select_model, step=1, n_features_to_select=features_to_select)\n",
      "        clf = clone(model)\n",
      "        #pipeline = Pipeline([('rfe', selector), ('lr', clf)])\n",
      "        pipeline = Pipeline([('lr', clf)])\n",
      "        pipeline = pipeline.fit(X_train, y_train)\n",
      "\n",
      "        print \"score:\"+ yName +\":\"+str(pipeline.score(X_test,y_test))\n",
      "\n",
      "        if best_model==None or best_model_score<clf.score(X_test, y_test):\n",
      "            best_model=clf\n",
      "            best_model_score=clf.score(X_test, y_test)\n",
      "            \n",
      "\n",
      "    trained_model = best_model\n",
      "\n",
      "    return trained_model, best_model_score\n",
      "\n",
      "def predict(test_2_df, model, feature_array, prodStr='A_purchase'):\n",
      "\n",
      "    test_df = test_2_df.copy(deep=True)\n",
      "    test_y = test_df[prodStr]\n",
      "\n",
      "    test_df=test_df[feature_array]\n",
      "\n",
      "    test_X = test_df.values\n",
      "\n",
      "    prediction = model.predict(test_X)\n",
      "    return prediction\n",
      "\n",
      "\n",
      "modelADict={}\n",
      "modelBDict={}\n",
      "modelCDict={}\n",
      "modelDDict={}\n",
      "modelEDict={}\n",
      "modelFDict={}\n",
      "modelGDict={}\n",
      "\n",
      "modelAScores={}\n",
      "modelBScores={}\n",
      "modelCScores={}\n",
      "modelDScores={}\n",
      "modelEScores={}\n",
      "modelFScores={}\n",
      "modelGScores={}\n",
      "\n",
      "for i in range(1,13):\n",
      "    print \"offers:\"+str(i)\n",
      "    train = cleanup(train_sets[i])\n",
      "    modelADict[i], modelAScores[i] = train_model(train, lr, A_features[i])\n",
      "    modelBDict[i], modelBScores[i] = train_model(train, lr, B_features[i], yName='B_purchase')\n",
      "    modelCDict[i], modelCScores[i] = train_model(train, lr, C_features[i], yName='C_purchase')\n",
      "    modelDDict[i], modelDScores[i] = train_model(train, lr, D_features[i], yName='D_purchase')\n",
      "    modelEDict[i], modelEScores[i] = train_model(train, lr, E_features[i], yName='E_purchase')\n",
      "    modelFDict[i], modelFScores[i] = train_model(train, lr, F_features[i], yName='F_purchase')\n",
      "    modelGDict[i], modelGScores[i] = train_model(train, lr, G_features[i], yName='G_purchase')"
     ],
     "language": "python",
     "metadata": {},
     "outputs": [
      {
       "output_type": "stream",
       "stream": "stdout",
       "text": [
        "offers:1\n",
        "score:A_purchase:0.726783560627"
       ]
      },
      {
       "output_type": "stream",
       "stream": "stdout",
       "text": [
        "\n",
        "score:A_purchase:0.724548490846"
       ]
      },
      {
       "output_type": "stream",
       "stream": "stdout",
       "text": [
        "\n",
        "score:A_purchase:0.724084611578"
       ]
      },
      {
       "output_type": "stream",
       "stream": "stdout",
       "text": [
        "\n",
        "score:B_purchase:0.719763738133"
       ]
      },
      {
       "output_type": "stream",
       "stream": "stdout",
       "text": [
        "\n",
        "score:B_purchase:0.717683077684"
       ]
      },
      {
       "output_type": "stream",
       "stream": "stdout",
       "text": [
        "\n",
        "score:B_purchase:0.718518060366"
       ]
      },
      {
       "output_type": "stream",
       "stream": "stdout",
       "text": [
        "\n",
        "score:C_purchase:0.594334663079"
       ]
      },
      {
       "output_type": "stream",
       "stream": "stdout",
       "text": [
        "\n",
        "score:C_purchase:0.594353043048"
       ]
      },
      {
       "output_type": "stream",
       "stream": "stdout",
       "text": [
        "\n",
        "score:C_purchase:0.594507669471"
       ]
      },
      {
       "output_type": "stream",
       "stream": "stdout",
       "text": [
        "\n",
        "score:D_purchase:0.690169156075"
       ]
      },
      {
       "output_type": "stream",
       "stream": "stdout",
       "text": [
        "\n",
        "score:D_purchase:0.695818901534"
       ]
      },
      {
       "output_type": "stream",
       "stream": "stdout",
       "text": [
        "\n",
        "score:D_purchase:0.686788718456"
       ]
      },
      {
       "output_type": "stream",
       "stream": "stdout",
       "text": [
        "\n",
        "score:E_purchase:0.728051458082"
       ]
      },
      {
       "output_type": "stream",
       "stream": "stdout",
       "text": [
        "\n",
        "score:E_purchase:0.735001237011"
       ]
      },
      {
       "output_type": "stream",
       "stream": "stdout",
       "text": [
        "\n",
        "score:E_purchase:0.727238990599"
       ]
      },
      {
       "output_type": "stream",
       "stream": "stdout",
       "text": [
        "\n",
        "score:F_purchase:0.616631103689"
       ]
      },
      {
       "output_type": "stream",
       "stream": "stdout",
       "text": [
        "\n",
        "score:F_purchase:0.619340672934"
       ]
      },
      {
       "output_type": "stream",
       "stream": "stdout",
       "text": [
        "\n",
        "score:F_purchase:0.619124195943"
       ]
      },
      {
       "output_type": "stream",
       "stream": "stdout",
       "text": [
        "\n",
        "score:G_purchase:0.522590221727"
       ]
      },
      {
       "output_type": "stream",
       "stream": "stdout",
       "text": [
        "\n",
        "score:G_purchase:0.521678624443"
       ]
      },
      {
       "output_type": "stream",
       "stream": "stdout",
       "text": [
        "\n",
        "score:G_purchase:0.519699406235"
       ]
      },
      {
       "output_type": "stream",
       "stream": "stdout",
       "text": [
        "\n",
        "offers:2\n",
        "score:A_purchase:0.80424900269"
       ]
      },
      {
       "output_type": "stream",
       "stream": "stdout",
       "text": [
        "\n",
        "score:A_purchase:0.808077684315"
       ]
      },
      {
       "output_type": "stream",
       "stream": "stdout",
       "text": [
        "\n",
        "score:A_purchase:0.802109104404"
       ]
      },
      {
       "output_type": "stream",
       "stream": "stdout",
       "text": [
        "\n",
        "score:B_purchase:0.836781395924"
       ]
      },
      {
       "output_type": "stream",
       "stream": "stdout",
       "text": [
        "\n",
        "score:B_purchase:0.837333003464\n",
        "score:B_purchase:0.837735032162"
       ]
      },
      {
       "output_type": "stream",
       "stream": "stdout",
       "text": [
        "\n",
        "score:C_purchase:0.665522466524"
       ]
      },
      {
       "output_type": "stream",
       "stream": "stdout",
       "text": [
        "\n",
        "score:C_purchase:0.665388421573"
       ]
      },
      {
       "output_type": "stream",
       "stream": "stdout",
       "text": [
        "\n",
        "score:C_purchase:0.666223404255"
       ]
      },
      {
       "output_type": "stream",
       "stream": "stdout",
       "text": [
        "\n",
        "score:D_purchase:0.771871231098"
       ]
      },
      {
       "output_type": "stream",
       "stream": "stdout",
       "text": [
        "\n",
        "score:D_purchase:0.773255813953"
       ]
      },
      {
       "output_type": "stream",
       "stream": "stdout",
       "text": [
        "\n",
        "score:D_purchase:0.771091044038"
       ]
      },
      {
       "output_type": "stream",
       "stream": "stdout",
       "text": [
        "\n",
        "score:E_purchase:0.8375235798"
       ]
      },
      {
       "output_type": "stream",
       "stream": "stdout",
       "text": [
        "\n",
        "score:E_purchase:0.841446066304"
       ]
      },
      {
       "output_type": "stream",
       "stream": "stdout",
       "text": [
        "\n",
        "score:E_purchase:0.836219693221"
       ]
      },
      {
       "output_type": "stream",
       "stream": "stdout",
       "text": [
        "\n",
        "score:F_purchase:0.758264526703"
       ]
      },
      {
       "output_type": "stream",
       "stream": "stdout",
       "text": [
        "\n",
        "score:F_purchase:0.763885452746"
       ]
      },
      {
       "output_type": "stream",
       "stream": "stdout",
       "text": [
        "\n",
        "score:F_purchase:0.758257050965"
       ]
      },
      {
       "output_type": "stream",
       "stream": "stdout",
       "text": [
        "\n",
        "score:G_purchase:0.71373349414"
       ]
      },
      {
       "output_type": "stream",
       "stream": "stdout",
       "text": [
        "\n",
        "score:G_purchase:0.714250371103"
       ]
      },
      {
       "output_type": "stream",
       "stream": "stdout",
       "text": [
        "\n",
        "score:G_purchase:0.716724393864"
       ]
      },
      {
       "output_type": "stream",
       "stream": "stdout",
       "text": [
        "\n",
        "offers:3\n",
        "score:A_purchase:0.880581345756"
       ]
      },
      {
       "output_type": "stream",
       "stream": "stdout",
       "text": [
        "\n",
        "score:A_purchase:0.877657480315"
       ]
      },
      {
       "output_type": "stream",
       "stream": "stdout",
       "text": [
        "\n",
        "score:A_purchase:0.879035433071"
       ]
      },
      {
       "output_type": "stream",
       "stream": "stdout",
       "text": [
        "\n",
        "score:B_purchase:0.886486663823"
       ]
      },
      {
       "output_type": "stream",
       "stream": "stdout",
       "text": [
        "\n",
        "score:B_purchase:0.887368766404\n",
        "score:B_purchase:0.887992125984"
       ]
      },
      {
       "output_type": "stream",
       "stream": "stdout",
       "text": [
        "\n",
        "score:C_purchase:0.756536859027"
       ]
      },
      {
       "output_type": "stream",
       "stream": "stdout",
       "text": [
        "\n",
        "score:C_purchase:0.765124671916"
       ]
      },
      {
       "output_type": "stream",
       "stream": "stdout",
       "text": [
        "\n",
        "score:C_purchase:0.761384514436"
       ]
      },
      {
       "output_type": "stream",
       "stream": "stdout",
       "text": [
        "\n",
        "score:D_purchase:0.903612086218"
       ]
      },
      {
       "output_type": "stream",
       "stream": "stdout",
       "text": [
        "\n",
        "score:D_purchase:0.907939632546"
       ]
      },
      {
       "output_type": "stream",
       "stream": "stdout",
       "text": [
        "\n",
        "score:D_purchase:0.908300524934"
       ]
      },
      {
       "output_type": "stream",
       "stream": "stdout",
       "text": [
        "\n",
        "score:E_purchase:0.892457596536"
       ]
      },
      {
       "output_type": "stream",
       "stream": "stdout",
       "text": [
        "\n",
        "score:E_purchase:0.889665354331"
       ]
      },
      {
       "output_type": "stream",
       "stream": "stdout",
       "text": [
        "\n",
        "score:E_purchase:0.886942257218"
       ]
      },
      {
       "output_type": "stream",
       "stream": "stdout",
       "text": [
        "\n",
        "score:F_purchase:0.84370591516"
       ]
      },
      {
       "output_type": "stream",
       "stream": "stdout",
       "text": [
        "\n",
        "score:F_purchase:0.844980314961"
       ]
      },
      {
       "output_type": "stream",
       "stream": "stdout",
       "text": [
        "\n",
        "score:F_purchase:0.842683727034"
       ]
      },
      {
       "output_type": "stream",
       "stream": "stdout",
       "text": [
        "\n",
        "score:G_purchase:0.75594632722"
       ]
      },
      {
       "output_type": "stream",
       "stream": "stdout",
       "text": [
        "\n",
        "score:G_purchase:0.757119422572"
       ]
      },
      {
       "output_type": "stream",
       "stream": "stdout",
       "text": [
        "\n",
        "score:G_purchase:0.762467191601"
       ]
      },
      {
       "output_type": "stream",
       "stream": "stdout",
       "text": [
        "\n",
        "offers:4\n",
        "score:A_purchase:0.902531099446"
       ]
      },
      {
       "output_type": "stream",
       "stream": "stdout",
       "text": [
        "\n",
        "score:A_purchase:0.901592780355"
       ]
      },
      {
       "output_type": "stream",
       "stream": "stdout",
       "text": [
        "\n",
        "score:A_purchase:0.905152266926"
       ]
      },
      {
       "output_type": "stream",
       "stream": "stdout",
       "text": [
        "\n",
        "score:B_purchase:0.91101603509"
       ]
      },
      {
       "output_type": "stream",
       "stream": "stdout",
       "text": [
        "\n",
        "score:B_purchase:0.908783662316\n",
        "score:B_purchase:0.911947650379"
       ]
      },
      {
       "output_type": "stream",
       "stream": "stdout",
       "text": [
        "\n",
        "score:C_purchase:0.803624074207"
       ]
      },
      {
       "output_type": "stream",
       "stream": "stdout",
       "text": [
        "\n",
        "score:C_purchase:0.801783338726"
       ]
      },
      {
       "output_type": "stream",
       "stream": "stdout",
       "text": [
        "\n",
        "score:C_purchase:0.805702369396"
       ]
      },
      {
       "output_type": "stream",
       "stream": "stdout",
       "text": [
        "\n",
        "score:D_purchase:0.92784209391"
       ]
      },
      {
       "output_type": "stream",
       "stream": "stdout",
       "text": [
        "\n",
        "score:D_purchase:0.92870240535"
       ]
      },
      {
       "output_type": "stream",
       "stream": "stdout",
       "text": [
        "\n",
        "score:D_purchase:0.928450724481"
       ]
      },
      {
       "output_type": "stream",
       "stream": "stdout",
       "text": [
        "\n",
        "score:E_purchase:0.916444955778"
       ]
      },
      {
       "output_type": "stream",
       "stream": "stdout",
       "text": [
        "\n",
        "score:E_purchase:0.912918419444"
       ]
      },
      {
       "output_type": "stream",
       "stream": "stdout",
       "text": [
        "\n",
        "score:E_purchase:0.910940926905"
       ]
      },
      {
       "output_type": "stream",
       "stream": "stdout",
       "text": [
        "\n",
        "score:F_purchase:0.866542029194"
       ]
      },
      {
       "output_type": "stream",
       "stream": "stdout",
       "text": [
        "\n",
        "score:F_purchase:0.869845036494"
       ]
      },
      {
       "output_type": "stream",
       "stream": "stdout",
       "text": [
        "\n",
        "score:F_purchase:0.867867543954"
       ]
      },
      {
       "output_type": "stream",
       "stream": "stdout",
       "text": [
        "\n",
        "score:G_purchase:0.781548860286"
       ]
      },
      {
       "output_type": "stream",
       "stream": "stdout",
       "text": [
        "\n",
        "score:G_purchase:0.783123000036"
       ]
      },
      {
       "output_type": "stream",
       "stream": "stdout",
       "text": [
        "\n",
        "score:G_purchase:0.780750008989"
       ]
      },
      {
       "output_type": "stream",
       "stream": "stdout",
       "text": [
        "\n",
        "offers:5\n",
        "score:A_purchase:0.916739410567"
       ]
      },
      {
       "output_type": "stream",
       "stream": "stdout",
       "text": [
        "\n",
        "score:A_purchase:0.915575508168"
       ]
      },
      {
       "output_type": "stream",
       "stream": "stdout",
       "text": [
        "\n",
        "score:A_purchase:0.916282163196"
       ]
      },
      {
       "output_type": "stream",
       "stream": "stdout",
       "text": [
        "\n",
        "score:B_purchase:0.924180072328"
       ]
      },
      {
       "output_type": "stream",
       "stream": "stdout",
       "text": [
        "\n",
        "score:B_purchase:0.923057737873\n",
        "score:B_purchase:0.924969863241"
       ]
      },
      {
       "output_type": "stream",
       "stream": "stdout",
       "text": [
        "\n",
        "score:C_purchase:0.825830319657"
       ]
      },
      {
       "output_type": "stream",
       "stream": "stdout",
       "text": [
        "\n",
        "score:C_purchase:0.826786382342"
       ]
      },
      {
       "output_type": "stream",
       "stream": "stdout",
       "text": [
        "\n",
        "score:C_purchase:0.824583281373"
       ]
      },
      {
       "output_type": "stream",
       "stream": "stdout",
       "text": [
        "\n",
        "score:D_purchase:0.938853556138"
       ]
      },
      {
       "output_type": "stream",
       "stream": "stdout",
       "text": [
        "\n",
        "score:D_purchase:0.940433137964"
       ]
      },
      {
       "output_type": "stream",
       "stream": "stdout",
       "text": [
        "\n",
        "score:D_purchase:0.940682545621"
       ]
      },
      {
       "output_type": "stream",
       "stream": "stdout",
       "text": [
        "\n",
        "score:E_purchase:0.928960385751"
       ]
      },
      {
       "output_type": "stream",
       "stream": "stdout",
       "text": [
        "\n",
        "score:E_purchase:0.928129026894"
       ]
      },
      {
       "output_type": "stream",
       "stream": "stdout",
       "text": [
        "\n",
        "score:E_purchase:0.925510246498"
       ]
      },
      {
       "output_type": "stream",
       "stream": "stdout",
       "text": [
        "\n",
        "score:F_purchase:0.880658436214"
       ]
      },
      {
       "output_type": "stream",
       "stream": "stdout",
       "text": [
        "\n",
        "score:F_purchase:0.879827077358"
       ]
      },
      {
       "output_type": "stream",
       "stream": "stdout",
       "text": [
        "\n",
        "score:F_purchase:0.880824707985"
       ]
      },
      {
       "output_type": "stream",
       "stream": "stdout",
       "text": [
        "\n",
        "score:G_purchase:0.80005819512"
       ]
      },
      {
       "output_type": "stream",
       "stream": "stdout",
       "text": [
        "\n",
        "score:G_purchase:0.793199484558"
       ]
      },
      {
       "output_type": "stream",
       "stream": "stdout",
       "text": [
        "\n",
        "score:G_purchase:0.798104501808"
       ]
      },
      {
       "output_type": "stream",
       "stream": "stdout",
       "text": [
        "\n",
        "offers:6\n",
        "score:A_purchase:0.926578249337"
       ]
      },
      {
       "output_type": "stream",
       "stream": "stdout",
       "text": [
        "\n",
        "score:A_purchase:0.925035810918"
       ]
      },
      {
       "output_type": "stream",
       "stream": "stdout",
       "text": [
        "\n",
        "score:A_purchase:0.929014801846"
       ]
      },
      {
       "output_type": "stream",
       "stream": "stdout",
       "text": [
        "\n",
        "score:B_purchase:0.93374005305"
       ]
      },
      {
       "output_type": "stream",
       "stream": "stdout",
       "text": [
        "\n",
        "score:B_purchase:0.937025836914\n",
        "score:B_purchase:0.933524324898"
       ]
      },
      {
       "output_type": "stream",
       "stream": "stdout",
       "text": [
        "\n",
        "score:C_purchase:0.844774535809"
       ]
      },
      {
       "output_type": "stream",
       "stream": "stdout",
       "text": [
        "\n",
        "score:C_purchase:0.837763276566"
       ]
      },
      {
       "output_type": "stream",
       "stream": "stdout",
       "text": [
        "\n",
        "score:C_purchase:0.839567085787"
       ]
      },
      {
       "output_type": "stream",
       "stream": "stdout",
       "text": [
        "\n",
        "score:D_purchase:0.947161803714"
       ]
      },
      {
       "output_type": "stream",
       "stream": "stdout",
       "text": [
        "\n",
        "score:D_purchase:0.948856703273"
       ]
      },
      {
       "output_type": "stream",
       "stream": "stdout",
       "text": [
        "\n",
        "score:D_purchase:0.948644490424"
       ]
      },
      {
       "output_type": "stream",
       "stream": "stdout",
       "text": [
        "\n",
        "score:E_purchase:0.936976127321"
       ]
      },
      {
       "output_type": "stream",
       "stream": "stdout",
       "text": [
        "\n",
        "score:E_purchase:0.936972783702"
       ]
      },
      {
       "output_type": "stream",
       "stream": "stdout",
       "text": [
        "\n",
        "score:E_purchase:0.938564380073"
       ]
      },
      {
       "output_type": "stream",
       "stream": "stdout",
       "text": [
        "\n",
        "score:F_purchase:0.888116710875"
       ]
      },
      {
       "output_type": "stream",
       "stream": "stdout",
       "text": [
        "\n",
        "score:F_purchase:0.887845509046"
       ]
      },
      {
       "output_type": "stream",
       "stream": "stdout",
       "text": [
        "\n",
        "score:F_purchase:0.89240808531"
       ]
      },
      {
       "output_type": "stream",
       "stream": "stdout",
       "text": [
        "\n",
        "score:G_purchase:0.807851458886"
       ]
      },
      {
       "output_type": "stream",
       "stream": "stdout",
       "text": [
        "\n",
        "score:G_purchase:0.811077510743"
       ]
      },
      {
       "output_type": "stream",
       "stream": "stdout",
       "text": [
        "\n",
        "score:G_purchase:0.809910340071"
       ]
      },
      {
       "output_type": "stream",
       "stream": "stdout",
       "text": [
        "\n",
        "offers:7\n",
        "score:A_purchase:0.932822255592"
       ]
      },
      {
       "output_type": "stream",
       "stream": "stdout",
       "text": [
        "\n",
        "score:A_purchase:0.935667430649\n",
        "score:A_purchase:0.931710401518"
       ]
      },
      {
       "output_type": "stream",
       "stream": "stdout",
       "text": [
        "\n",
        "score:B_purchase:0.940172291156\n",
        "score:B_purchase:0.939856160594"
       ]
      },
      {
       "output_type": "stream",
       "stream": "stdout",
       "text": [
        "\n",
        "score:B_purchase:0.940720834651\n",
        "score:C_purchase:0.841065359994"
       ]
      },
      {
       "output_type": "stream",
       "stream": "stdout",
       "text": [
        "\n",
        "score:C_purchase:0.84383150241"
       ]
      },
      {
       "output_type": "stream",
       "stream": "stdout",
       "text": [
        "\n",
        "score:C_purchase:0.851248814417"
       ]
      },
      {
       "output_type": "stream",
       "stream": "stdout",
       "text": [
        "\n",
        "score:D_purchase:0.951552991385"
       ]
      },
      {
       "output_type": "stream",
       "stream": "stdout",
       "text": [
        "\n",
        "score:D_purchase:0.952185252509\n",
        "score:D_purchase:0.953367056592"
       ]
      },
      {
       "output_type": "stream",
       "stream": "stdout",
       "text": [
        "\n",
        "score:E_purchase:0.941990041887\n",
        "score:E_purchase:0.947759424642"
       ]
      },
      {
       "output_type": "stream",
       "stream": "stdout",
       "text": [
        "\n",
        "score:E_purchase:0.938665823585\n",
        "score:F_purchase:0.897178534735"
       ]
      },
      {
       "output_type": "stream",
       "stream": "stdout",
       "text": [
        "\n",
        "score:F_purchase:0.88974946653"
       ]
      },
      {
       "output_type": "stream",
       "stream": "stdout",
       "text": [
        "\n",
        "score:F_purchase:0.894957319001"
       ]
      },
      {
       "output_type": "stream",
       "stream": "stdout",
       "text": [
        "\n",
        "score:G_purchase:0.818462024816"
       ]
      },
      {
       "output_type": "stream",
       "stream": "stdout",
       "text": [
        "\n",
        "score:G_purchase:0.81743460049"
       ]
      },
      {
       "output_type": "stream",
       "stream": "stdout",
       "text": [
        "\n",
        "score:G_purchase:0.820186531774"
       ]
      },
      {
       "output_type": "stream",
       "stream": "stdout",
       "text": [
        "\n",
        "offers:8\n",
        "score:A_purchase:0.940469293163"
       ]
      },
      {
       "output_type": "stream",
       "stream": "stdout",
       "text": [
        "\n",
        "score:A_purchase:0.943937418514\n",
        "score:A_purchase:0.932782848037\n",
        "score:B_purchase:0.944090382387"
       ]
      },
      {
       "output_type": "stream",
       "stream": "stdout",
       "text": [
        "\n",
        "score:B_purchase:0.946834709547\n",
        "score:B_purchase:0.944372012169\n",
        "score:C_purchase:0.853852838934"
       ]
      },
      {
       "output_type": "stream",
       "stream": "stdout",
       "text": [
        "\n",
        "score:C_purchase:0.852093292771"
       ]
      },
      {
       "output_type": "stream",
       "stream": "stdout",
       "text": [
        "\n",
        "score:C_purchase:0.847892220774"
       ]
      },
      {
       "output_type": "stream",
       "stream": "stdout",
       "text": [
        "\n",
        "score:D_purchase:0.953215527231\n",
        "score:D_purchase:0.957120092713"
       ]
      },
      {
       "output_type": "stream",
       "stream": "stdout",
       "text": [
        "\n",
        "score:D_purchase:0.951470375199\n",
        "score:E_purchase:0.946697566628\n",
        "score:E_purchase:0.947848761408"
       ]
      },
      {
       "output_type": "stream",
       "stream": "stdout",
       "text": [
        "\n",
        "score:E_purchase:0.949297406925\n",
        "score:F_purchase:0.894988412514"
       ]
      },
      {
       "output_type": "stream",
       "stream": "stdout",
       "text": [
        "\n",
        "score:F_purchase:0.8942488773\n",
        "score:F_purchase:0.901781833985"
       ]
      },
      {
       "output_type": "stream",
       "stream": "stdout",
       "text": [
        "\n",
        "score:G_purchase:0.827636152955"
       ]
      },
      {
       "output_type": "stream",
       "stream": "stdout",
       "text": [
        "\n",
        "score:G_purchase:0.825148486165"
       ]
      },
      {
       "output_type": "stream",
       "stream": "stdout",
       "text": [
        "\n",
        "score:G_purchase:0.822830653339"
       ]
      },
      {
       "output_type": "stream",
       "stream": "stdout",
       "text": [
        "\n",
        "offers:9\n",
        "score:A_purchase:0.944310759711"
       ]
      },
      {
       "output_type": "stream",
       "stream": "stdout",
       "text": [
        "\n",
        "score:A_purchase:0.940852819807\n",
        "score:A_purchase:0.942916093535\n",
        "score:B_purchase:0.943279477484\n",
        "score:B_purchase:0.952200825309\n",
        "score:B_purchase:0.948074277854\n",
        "score:C_purchase:0.833963561361"
       ]
      },
      {
       "output_type": "stream",
       "stream": "stdout",
       "text": [
        "\n",
        "score:C_purchase:0.833218707015"
       ]
      },
      {
       "output_type": "stream",
       "stream": "stdout",
       "text": [
        "\n",
        "score:C_purchase:0.843878954608"
       ]
      },
      {
       "output_type": "stream",
       "stream": "stdout",
       "text": [
        "\n",
        "score:D_purchase:0.951873496047\n",
        "score:D_purchase:0.953920220083\n",
        "score:D_purchase:0.963204951857\n",
        "score:E_purchase:0.951873496047"
       ]
      },
      {
       "output_type": "stream",
       "stream": "stdout",
       "text": [
        "\n",
        "score:E_purchase:0.957015130674\n",
        "score:E_purchase:0.954951856946\n",
        "score:F_purchase:0.893434169818\n",
        "score:F_purchase:0.899587345254"
       ]
      },
      {
       "output_type": "stream",
       "stream": "stdout",
       "text": [
        "\n",
        "score:F_purchase:0.889270976616\n",
        "score:G_purchase:0.818150567205"
       ]
      },
      {
       "output_type": "stream",
       "stream": "stdout",
       "text": [
        "\n",
        "score:G_purchase:0.824277854195\n",
        "score:G_purchase:0.819807427785\n",
        "offers:10\n",
        "score:A_purchase:0.949152542373"
       ]
      },
      {
       "output_type": "stream",
       "stream": "stdout",
       "text": [
        "\n",
        "score:A_purchase:0.946892655367\n",
        "score:A_purchase:0.951357466063\n",
        "score:B_purchase:0.954802259887"
       ]
      },
      {
       "output_type": "stream",
       "stream": "stdout",
       "text": [
        "\n",
        "score:B_purchase:0.944632768362\n",
        "score:B_purchase:0.950226244344"
       ]
      },
      {
       "output_type": "stream",
       "stream": "stdout",
       "text": [
        "\n",
        "score:C_purchase:0.833898305085\n",
        "score:C_purchase:0.829378531073"
       ]
      },
      {
       "output_type": "stream",
       "stream": "stdout",
       "text": [
        "\n",
        "score:C_purchase:0.817873303167\n",
        "score:D_purchase:0.95593220339\n",
        "score:D_purchase:0.952542372881\n",
        "score:D_purchase:0.947963800905\n",
        "score:E_purchase:0.964971751412"
       ]
      },
      {
       "output_type": "stream",
       "stream": "stdout",
       "text": [
        "\n",
        "score:E_purchase:0.961581920904\n",
        "score:E_purchase:0.957013574661\n",
        "score:F_purchase:0.88813559322\n",
        "score:F_purchase:0.90395480226\n",
        "score:F_purchase:0.890271493213\n",
        "score:G_purchase:0.827118644068\n",
        "score:G_purchase:0.813559322034"
       ]
      },
      {
       "output_type": "stream",
       "stream": "stdout",
       "text": [
        "\n",
        "score:G_purchase:0.824660633484\n",
        "offers:11\n",
        "score:A_purchase:0.937142857143"
       ]
      },
      {
       "output_type": "stream",
       "stream": "stdout",
       "text": [
        "\n",
        "score:A_purchase:0.954285714286\n",
        "score:A_purchase:0.948571428571\n",
        "score:B_purchase:0.925714285714\n",
        "score:B_purchase:0.931428571429\n",
        "score:B_purchase:0.931428571429\n",
        "score:C_purchase:0.805714285714\n",
        "score:C_purchase:0.811428571429\n",
        "score:C_purchase:0.811428571429\n",
        "score:D_purchase:0.885714285714\n",
        "score:D_purchase:0.845714285714\n",
        "score:D_purchase:0.897142857143"
       ]
      },
      {
       "output_type": "stream",
       "stream": "stdout",
       "text": [
        "\n",
        "score:E_purchase:0.942857142857\n",
        "score:E_purchase:0.937142857143\n",
        "score:E_purchase:0.96\n",
        "score:F_purchase:0.908571428571\n",
        "score:F_purchase:0.92\n",
        "score:F_purchase:0.88\n",
        "score:G_purchase:0.817142857143\n",
        "score:G_purchase:0.754285714286\n",
        "score:G_purchase:0.817142857143\n",
        "offers:12\n",
        "score:A_purchase:0.705882352941"
       ]
      },
      {
       "output_type": "stream",
       "stream": "stdout",
       "text": [
        "\n",
        "score:A_purchase:0.764705882353\n",
        "score:A_purchase:0.5625\n",
        "score:B_purchase:0.941176470588\n",
        "score:B_purchase:0.941176470588\n",
        "score:B_purchase:0.9375\n",
        "score:C_purchase:0.823529411765\n",
        "score:C_purchase:0.823529411765\n",
        "score:C_purchase:0.875\n",
        "score:D_purchase:0.941176470588\n",
        "score:D_purchase:0.941176470588\n",
        "score:D_purchase:0.9375\n",
        "score:E_purchase:0.941176470588\n",
        "score:E_purchase:0.941176470588\n",
        "score:E_purchase:0.875\n",
        "score:F_purchase:0.764705882353\n",
        "score:F_purchase:0.882352941176\n",
        "score:F_purchase:0.75\n",
        "score:G_purchase:0.647058823529\n",
        "score:G_purchase:0.588235294118\n",
        "score:G_purchase:0.6875\n"
       ]
      }
     ],
     "prompt_number": 1
    },
    {
     "cell_type": "code",
     "collapsed": false,
     "input": [
      "test_2 = cleanup_test(test_2)\n",
      "correct=0\n",
      "for key, cdf in test_2.iterrows():\n",
      "    A= predict(cdf,modelADict[test_2.total_offers.loc[key]], A_features[test_2.total_offers.loc[key]])\n",
      "    B= predict(cdf,modelBDict[test_2.total_offers.loc[key]], B_features[test_2.total_offers.loc[key]],prodStr='B_purchase')\n",
      "    C= predict(cdf,modelCDict[test_2.total_offers.loc[key]], C_features[test_2.total_offers.loc[key]],prodStr='C_purchase')\n",
      "    D= predict(cdf,modelDDict[test_2.total_offers.loc[key]], D_features[test_2.total_offers.loc[key]],prodStr='D_purchase')\n",
      "    E= predict(cdf,modelEDict[test_2.total_offers.loc[key]], E_features[test_2.total_offers.loc[key]],prodStr='E_purchase')\n",
      "    F= predict(cdf,modelFDict[test_2.total_offers.loc[key]], F_features[test_2.total_offers.loc[key]],prodStr='F_purchase')\n",
      "    G= predict(cdf,modelGDict[test_2.total_offers.loc[key]], G_features[test_2.total_offers.loc[key]],prodStr='G_purchase')\n",
      "\n",
      "    resultCol.loc[key]=str(int(A))+str(int(B))+str(int(C))+str(int(D))+str(int(E))+str(int(F))+str(int(G))\n",
      "\n",
      "    if test_2.A.loc[key]==A and test_2.B.loc[key]==B and test_2.C.loc[key]==C and test_2.D.loc[key]==D\\\n",
      "        and test_2.E.loc[key]==E and test_2.F.loc[key]==F and test_2.G.loc[key]==G:\n",
      "        correct += 1\n",
      "\n",
      "\n",
      "res = float(correct)/float(len(test_2))\n",
      "print(len(test_2))\n",
      "print correct\n",
      "print str(res)\n",
      "\n",
      "results_df[\"plan\"]=resultCol\n",
      "results_df.to_csv(\"results.csv\")"
     ],
     "language": "python",
     "metadata": {},
     "outputs": [
      {
       "output_type": "stream",
       "stream": "stdout",
       "text": [
        "55716\n",
        "37536\n",
        "0.67370234762\n"
       ]
      }
     ],
     "prompt_number": 2
    },
    {
     "cell_type": "code",
     "collapsed": false,
     "input": [
      "def cleanup_sec(df):\n",
      "\n",
      "    #find columns that contain null values\n",
      "    inds = pd.isnull(df).any(0).nonzero()\n",
      "\n",
      "    df['car_value'] = df['car_value'].fillna('0')\n",
      "    #df['car_value']=df['car_value'].apply(lambda letter :  abs(ord(letter) - 96))\n",
      "    #df['state']=df['state'].apply(lambda letter :  abs(ord(letter[0]) - 96 + ord(letter[1]) - 96))\n",
      "\n",
      "    #remove product feature\n",
      "    #df=df.drop(['product'], axis=1)\n",
      "    #df=df.drop(['state'], axis=1)\n",
      "    #df=df.drop(['location'], axis=1)\n",
      "    df=df.drop(['time'], axis=1)\n",
      "\n",
      "    #impute the null values\n",
      "    df['risk_factor'] = df['risk_factor'].fillna(0)\n",
      "    df['C_previous'] = df['C_previous'].fillna(0)\n",
      "    df['duration_previous'] = df['duration_previous'].fillna(0)\n",
      "    df['location'] = df['location'].fillna(0)\n",
      "\n",
      "    df['A_var'] = df['A_var'].fillna(0)\n",
      "    df['B_var'] = df['B_var'].fillna(0)\n",
      "    df['C_var'] = df['C_var'].fillna(0)\n",
      "    df['D_var'] = df['D_var'].fillna(0)\n",
      "    df['E_var'] = df['E_var'].fillna(0)\n",
      "    df['F_var'] = df['F_var'].fillna(0)\n",
      "    df['G_var'] = df['G_var'].fillna(0)\n",
      "    df['cost_var'] = df['cost_var'].fillna(0)\n",
      "    #drop any other rows that might contain null values (at this point only lines with empty key cols should be removed from the training sets)\n",
      "    df=df.dropna()\n",
      "\n",
      "    return df\n",
      "\n",
      "\n",
      "for t in range(1, 13):\n",
      "    print \"test with train set\" + str(t)\n",
      "    test = cleanup_sec(train_sets[t])\n",
      "    correct=0\n",
      "    for key, cdf in test.iterrows():\n",
      "        A= predict(cdf,modelADict[test.total_offers.loc[key]], A_features[test.total_offers.loc[key]])\n",
      "        B= predict(cdf,modelBDict[test.total_offers.loc[key]], B_features[test.total_offers.loc[key]],prodStr='B_purchase')\n",
      "        C= predict(cdf,modelCDict[test.total_offers.loc[key]], C_features[test.total_offers.loc[key]],prodStr='C_purchase')\n",
      "        D= predict(cdf,modelDDict[test.total_offers.loc[key]], D_features[test.total_offers.loc[key]],prodStr='D_purchase')\n",
      "        E= predict(cdf,modelEDict[test.total_offers.loc[key]], E_features[test.total_offers.loc[key]],prodStr='E_purchase')\n",
      "        F= predict(cdf,modelFDict[test.total_offers.loc[key]], F_features[test.total_offers.loc[key]],prodStr='F_purchase')\n",
      "        G= predict(cdf,modelGDict[test.total_offers.loc[key]], G_features[test.total_offers.loc[key]],prodStr='G_purchase')\n",
      "    \n",
      "        resultCol.loc[key]=str(int(A))+str(int(B))+str(int(C))+str(int(D))+str(int(E))+str(int(F))+str(int(G))\n",
      "    \n",
      "        if test.A_purchase.loc[key]==A and test.B_purchase.loc[key]==B and test.C_purchase.loc[key]==C and test.D_purchase.loc[key]==D\\\n",
      "            and test.E_purchase.loc[key]==E and test.F_purchase.loc[key]==F and test.G_purchase.loc[key]==G:\n",
      "            correct += 1\n",
      "    \n",
      "    \n",
      "    res = float(correct)/float(len(test))\n",
      "    print(len(test))\n",
      "    print correct\n",
      "    print str(res)\n"
     ],
     "language": "python",
     "metadata": {},
     "outputs": [
      {
       "output_type": "stream",
       "stream": "stdout",
       "text": [
        "test with train set1\n",
        "97009"
       ]
      },
      {
       "output_type": "stream",
       "stream": "stdout",
       "text": [
        "\n",
        "8332\n",
        "0.0858889381398\n",
        "test with train set2\n",
        "97009"
       ]
      },
      {
       "output_type": "stream",
       "stream": "stdout",
       "text": [
        "\n",
        "24403\n",
        "0.251553979528\n",
        "test with train set3\n",
        "91441"
       ]
      },
      {
       "output_type": "stream",
       "stream": "stdout",
       "text": [
        "\n",
        "37067\n",
        "0.405365208167\n",
        "test with train set4\n",
        "83440"
       ]
      },
      {
       "output_type": "stream",
       "stream": "stdout",
       "text": [
        "\n",
        "39196\n",
        "0.46975071908\n",
        "test with train set5\n",
        "72171"
       ]
      },
      {
       "output_type": "stream",
       "stream": "stdout",
       "text": [
        "\n",
        "36945\n",
        "0.511909215613\n",
        "test with train set6\n",
        "56548"
       ]
      },
      {
       "output_type": "stream",
       "stream": "stdout",
       "text": [
        "\n",
        "30847\n",
        "0.54550116715\n",
        "test with train set7\n",
        "37958"
       ]
      },
      {
       "output_type": "stream",
       "stream": "stdout",
       "text": [
        "\n",
        "21479\n",
        "0.565862268823\n",
        "test with train set8\n",
        "20710"
       ]
      },
      {
       "output_type": "stream",
       "stream": "stdout",
       "text": [
        "\n",
        "12004\n",
        "0.579623370352\n",
        "test with train set9\n",
        "8725"
       ]
      },
      {
       "output_type": "stream",
       "stream": "stdout",
       "text": [
        "\n",
        "4917\n",
        "0.563553008596\n",
        "test with train set10\n",
        "2654"
       ]
      },
      {
       "output_type": "stream",
       "stream": "stdout",
       "text": [
        "\n",
        "1495\n",
        "0.563300678222\n",
        "test with train set11\n",
        "525"
       ]
      },
      {
       "output_type": "stream",
       "stream": "stdout",
       "text": [
        "\n",
        "277\n",
        "0.527619047619\n",
        "test with train set12\n",
        "50"
       ]
      },
      {
       "output_type": "stream",
       "stream": "stdout",
       "text": [
        "\n",
        "27\n",
        "0.54\n"
       ]
      }
     ],
     "prompt_number": 12
    },
    {
     "cell_type": "code",
     "collapsed": false,
     "input": [],
     "language": "python",
     "metadata": {},
     "outputs": []
    }
   ],
   "metadata": {}
  }
 ]
}