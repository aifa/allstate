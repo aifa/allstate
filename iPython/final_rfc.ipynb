{
 "metadata": {
  "name": ""
 },
 "nbformat": 3,
 "nbformat_minor": 0,
 "worksheets": [
  {
   "cells": [
    {
     "cell_type": "code",
     "collapsed": false,
     "input": [
      "__author__ = 'aifa'\n",
      "\n",
      "import os\n",
      "import pandas as pd\n",
      "import numpy as np\n",
      "import pylab as pl\n",
      "\n",
      "from sklearn import clone\n",
      "\n",
      "from sklearn.ensemble.weight_boosting import AdaBoostClassifier\n",
      "from sklearn.ensemble.forest import (RandomForestClassifier,RandomForestRegressor,\n",
      "                                        ExtraTreesClassifier)\n",
      "\n",
      "from sklearn.linear_model import LogisticRegression\n",
      "from sklearn import svm\n",
      "\n",
      "import math as math\n",
      "from sklearn.externals.six.moves import xrange\n",
      "from sklearn.tree import DecisionTreeClassifier\n",
      "\n",
      "from sklearn.svm import SVR\n",
      "from sklearn.cross_validation import StratifiedKFold\n",
      "\n",
      "from sklearn.feature_selection import RFE\n",
      "from sklearn.pipeline import Pipeline\n",
      "\n",
      "train_sets={}\n",
      "train_1 = pd.read_csv(\"/Users/aifa/Dropbox/kaggle/insurance/future/train_all_split_1.csv\", header=0, encoding=\"UTF-8\", error_bad_lines=False, sep=\",\", index_col=0)\n",
      "train_sets[1]=train_1\n",
      "train_2 = pd.read_csv(\"/Users/aifa/Dropbox/kaggle/insurance/future/train_all_split_2.csv\", header=0, encoding=\"UTF-8\", error_bad_lines=False, sep=\",\", index_col=0)\n",
      "train_sets[2]=train_2\n",
      "train_3 = pd.read_csv(\"/Users/aifa/Dropbox/kaggle/insurance/future/train_all_split_3.csv\", header=0, encoding=\"UTF-8\", error_bad_lines=False, sep=\",\", index_col=0)\n",
      "train_sets[3]=train_3\n",
      "train_4 = pd.read_csv(\"/Users/aifa/Dropbox/kaggle/insurance/future/train_all_split_4.csv\", header=0, encoding=\"UTF-8\", error_bad_lines=False, sep=\",\", index_col=0)\n",
      "train_sets[4]=train_4\n",
      "train_5 = pd.read_csv(\"/Users/aifa/Dropbox/kaggle/insurance/future/train_all_split_5.csv\", header=0, encoding=\"UTF-8\", error_bad_lines=False, sep=\",\", index_col=0)\n",
      "train_sets[5]=train_5\n",
      "train_6 = pd.read_csv(\"/Users/aifa/Dropbox/kaggle/insurance/future/train_all_split_6.csv\", header=0, encoding=\"UTF-8\", error_bad_lines=False, sep=\",\", index_col=0)\n",
      "train_sets[6]=train_6\n",
      "train_7 = pd.read_csv(\"/Users/aifa/Dropbox/kaggle/insurance/future/train_all_split_7.csv\", header=0, encoding=\"UTF-8\", error_bad_lines=False, sep=\",\", index_col=0)\n",
      "train_sets[7]=train_7\n",
      "train_8 = pd.read_csv(\"/Users/aifa/Dropbox/kaggle/insurance/future/train_all_split_8.csv\", header=0, encoding=\"UTF-8\", error_bad_lines=False, sep=\",\", index_col=0)\n",
      "train_sets[8]=train_8\n",
      "train_9 = pd.read_csv(\"/Users/aifa/Dropbox/kaggle/insurance/future/train_all_split_9.csv\", header=0, encoding=\"UTF-8\", error_bad_lines=False, sep=\",\", index_col=0)\n",
      "train_sets[9]=train_9\n",
      "train_10 = pd.read_csv(\"/Users/aifa/Dropbox/kaggle/insurance/future/train_all_split_10.csv\", header=0, encoding=\"UTF-8\", error_bad_lines=False, sep=\",\", index_col=0)\n",
      "train_sets[10]=train_10\n",
      "train_11 = pd.read_csv(\"/Users/aifa/Dropbox/kaggle/insurance/future/train_all_split_11.csv\", header=0, encoding=\"UTF-8\", error_bad_lines=False, sep=\",\", index_col=0)\n",
      "train_sets[11]=train_11\n",
      "train_12 = pd.read_csv(\"/Users/aifa/Dropbox/kaggle/insurance/future/train_all_split_12.csv\", header=0, encoding=\"UTF-8\", error_bad_lines=False, sep=\",\", index_col=0)\n",
      "train_sets[12]=train_12\n",
      "\n",
      "test_2 = pd.read_csv(\"/Users/aifa/Dropbox/kaggle/insurance/future/test_v2_all_future.csv\", header=0, encoding=\"UTF-8\", error_bad_lines=False, sep=\",\", index_col=0)\n",
      "\n",
      "\n",
      "results_df = pd.DataFrame(index=test_2.index)\n",
      "resultCol = pd.Series(index=test_2.index,dtype=object)\n",
      "\n",
      "#try random forest on feature A\n",
      "n_estimators = 100\n",
      "\n",
      "rfcModel = RandomForestClassifier(n_estimators=n_estimators)\n",
      "rfrmodel = RandomForestRegressor(n_estimators=n_estimators)\n",
      "lr = LogisticRegression()\n",
      "\n",
      "\n",
      "#svr =  SVR(C=1.0, epsilon=0.2)\n",
      "C = 10.0  # SVM regularization parameter\n",
      "svc = svm.SVC(kernel='linear', C=C)\n",
      "#rbf_svc = svm.SVC(kernel='rbf', gamma=0.7, C=C)\n",
      "#poly_svc = svm.SVC(kernel='poly', degree=3, C=C)\n",
      "\n",
      "A_features={}\n",
      "B_features={}\n",
      "C_features={}\n",
      "D_features={}\n",
      "E_features={}\n",
      "F_features={}\n",
      "G_features={}\n",
      "\n",
      "#1 offers\n",
      "A1_cols=['shopping_pt', 'day', 'state', 'group_size', 'homeowner', 'car_age', 'car_value', 'risk_factor', \n",
      "         'age_oldest', 'age_youngest', 'married_couple', 'C_previous', 'duration_previous', \n",
      "         'A', 'B', 'C', 'D', 'E', 'F', 'G', 'cost', 'A_init', 'B_init', 'C_init', 'D_init', 'E_init', 'F_init', \n",
      "         'G_init']\n",
      "\n",
      "B1_cols=['shopping_pt', 'day', 'state', 'group_size', 'homeowner', 'car_age', 'risk_factor', 'age_oldest', \n",
      "         'age_youngest', 'married_couple', 'C_previous', 'duration_previous', 'A', 'B', 'C', 'D', 'E', 'F', \n",
      "         'G', 'cost', 'A_init', 'B_init', 'C_init', 'D_init', 'E_init', 'F_init', 'G_init']\n",
      "C1_cols=['shopping_pt', 'day', 'state', 'group_size', 'homeowner', 'car_age', 'car_value', 'risk_factor', 'age_oldest',\n",
      " 'age_youngest', 'married_couple', 'C_previous', 'duration_previous', 'A', 'B', 'C', 'D', 'E', 'F', 'G', \n",
      " 'cost', 'A_init', 'B_init', 'C_init', 'D_init', 'E_init', 'F_init', 'G_init']\n",
      "D1_cols=['shopping_pt', 'day', 'state', 'location', 'group_size', 'homeowner', 'car_age', 'car_value', 'risk_factor', \n",
      "         'age_oldest', 'age_youngest', 'married_couple', 'C_previous', 'duration_previous', 'A', 'B', 'C', 'D', 'E', \n",
      "         'F', 'G', 'cost', 'A_init', 'B_init', 'C_init', 'D_init', 'E_init', 'F_init', 'G_init', 'A_change', \n",
      "         'B_change', 'C_change', 'D_change', 'E_change', 'F_change', 'C_var', 'D_var', 'init_cost']\n",
      "E1_cols=['shopping_pt', 'day', 'state', 'group_size', 'homeowner', 'car_age', 'car_value', 'risk_factor', \n",
      "         'age_oldest', 'age_youngest', 'married_couple', 'C_previous', 'duration_previous', 'A', 'B', 'C', 'D', \n",
      "         'E', 'F', 'G', 'cost', 'A_init', 'B_init', 'C_init', 'D_init', 'E_init', 'F_init', 'G_init']\n",
      "F1_cols=['shopping_pt', 'day', 'state', 'group_size', 'homeowner', 'car_age', 'car_value', 'risk_factor',\n",
      "         'age_youngest', 'married_couple', 'C_previous', 'duration_previous', 'A', 'B', 'C', 'D', 'E', 'F',\n",
      "         'G', 'cost', 'A_init', 'B_init', 'C_init', 'D_init', 'E_init', 'F_init', 'G_init']\n",
      "G1_cols=['shopping_pt', 'day', 'state', 'group_size', 'homeowner', 'car_age', 'car_value', 'risk_factor', \n",
      "         'age_oldest', 'married_couple', 'C_previous', 'duration_previous', 'A', 'B', 'C', 'D', 'E', 'F',\n",
      "         'G', 'A_init', 'B_init', 'C_init', 'D_init', 'E_init', 'F_init', 'G_init']\n",
      "\n",
      "#2 offers\n",
      "\n",
      "A2_cols=['shopping_pt', 'day', 'state', 'group_size', 'homeowner', 'car_age', 'car_value', 'risk_factor',\n",
      "         'age_oldest', 'age_youngest', 'married_couple', 'C_previous', 'duration_previous', 'A', 'B', 'C', \n",
      "         'D', 'E', 'F', 'G', 'cost', 'duration_offers', 'A_init', 'B_init', 'C_init', 'D_init', 'E_init', \n",
      "         'F_init', 'G_init', 'A_change', 'B_change', 'C_change', 'D_change', 'E_change', 'F_change', 'G_change', \n",
      "         'init_cost']\n",
      "\n",
      "B2_cols=['B']\n",
      "\n",
      "C2_cols=['shopping_pt', 'day', 'state', 'group_size', 'homeowner', 'car_age', 'car_value', 'risk_factor', 'age_oldest',\n",
      "         'age_youngest', 'married_couple', 'C_previous', 'duration_previous', 'A', 'B', 'C', 'D', 'E', 'F', 'G', \n",
      "         'cost', 'duration_offers', 'A_init', 'B_init', 'C_init', 'D_init', 'E_init', 'F_init', 'G_init', \n",
      "         'A_change', 'B_change', 'C_change', 'D_change', 'E_change', 'F_change', 'G_change', 'init_cost']\n",
      "\n",
      "D2_cols=['shopping_pt', 'C_previous', 'D', 'D_change', 'E_change', 'F_change', 'G_change']\n",
      "\n",
      "E2_cols=['shopping_pt', 'record_type', 'day', 'state', 'location', 'group_size', 'homeowner', 'car_age', 'car_value', \n",
      "         'risk_factor', 'age_oldest', 'age_youngest', 'married_couple', 'C_previous', 'duration_previous', 'A', 'B',\n",
      "         'C', 'D', 'E', 'F', 'G', 'cost', 'duration_offers', 'A_init', 'B_init', 'C_init', 'D_init', 'E_init',\n",
      "         'F_init', 'G_init', 'A_change', 'B_change', 'C_change', 'D_change', 'E_change', 'F_change', 'G_change',\n",
      "         'A_var', 'B_var', 'C_var', 'D_var', 'E_var', 'F_var', 'G_var', 'init_cost', 'cost_var']\n",
      "\n",
      "F2_cols=['shopping_pt', 'A', 'F']\n",
      "\n",
      "G2_cols=['shopping_pt', 'G']\n",
      "\n",
      "\n",
      "#3 offers\n",
      "A3_cols=['A']\n",
      "\n",
      "B3_cols=['B']\n",
      "\n",
      "C3_cols=['shopping_pt', 'day', 'state', 'group_size', 'homeowner', 'car_age', 'car_value', 'risk_factor', \n",
      "         'age_oldest', 'age_youngest', 'married_couple', 'C_previous', 'duration_previous', 'A', 'B', 'C', \n",
      "         'D', 'E', 'F', 'G', 'cost', 'duration_offers', 'A_init', 'B_init', 'C_init', 'D_init', 'E_init', \n",
      "         'F_init', 'G_init', 'A_change', 'B_change', 'C_change', 'D_change', 'E_change', 'F_change', 'G_change', \n",
      "         'A_var', 'B_var', 'C_var', 'D_var', 'E_var', 'F_var', 'G_var', 'init_cost']\n",
      "\n",
      "D3_cols=['D']\n",
      "\n",
      "E3_cols=['shopping_pt', 'group_size', 'homeowner', 'married_couple', 'A', 'E', 'B_init', 'C_init', 'A_var']\n",
      "\n",
      "F3_cols=['F']\n",
      "\n",
      "G3_cols=['shopping_pt', 'G', 'G_change', 'G_var']\n",
      "\n",
      "#4 offers\n",
      "A4_cols=['A']\n",
      "\n",
      "B4_cols=['B']\n",
      "\n",
      "C4_cols=['shopping_pt', 'day', 'state', 'group_size', 'homeowner', 'car_age', 'car_value', 'risk_factor', \n",
      "         'age_oldest', 'age_youngest', 'married_couple', 'C_previous', 'duration_previous', 'A', 'B', 'C', \n",
      "         'D', 'E', 'F', 'G', 'cost', 'duration_offers', 'A_init', 'B_init', 'C_init', 'D_init', 'E_init', \n",
      "         'F_init', 'G_init', 'A_change', 'B_change', 'C_change', 'D_change', 'E_change', 'F_change', 'G_change', \n",
      "         'A_var', 'B_var', 'C_var', 'D_var', 'E_var', 'F_var', 'G_var', 'init_cost']\n",
      "\n",
      "D4_cols=['D']\n",
      "\n",
      "E4_cols=['shopping_pt', 'group_size', 'homeowner', 'married_couple', 'A', 'C', 'E', 'B_init', 'E_change', \n",
      "         'A_var', 'B_var', 'E_var']\n",
      "\n",
      "F4_cols=['F', 'A_var']\n",
      "\n",
      "G4_cols=['shopping_pt', 'G', 'A_var', 'G_var']\n",
      "\n",
      "#5 offers\n",
      "A5_cols=['A']\n",
      "\n",
      "B5_cols=['B']\n",
      "\n",
      "C5_cols=['shopping_pt', 'group_size', 'homeowner', 'car_age', 'car_value', 'risk_factor', 'married_couple', \n",
      "         'C_previous', 'duration_previous', 'A', 'B', 'C', 'D', 'E', 'F', 'G', 'duration_offers', 'A_init', \n",
      "         'B_init', 'C_init', 'D_init', 'E_init', 'F_init', 'G_init', 'A_change', 'B_change', 'C_change', 'D_change', \n",
      "         'E_change', 'F_change', 'G_change', 'A_var', 'B_var', 'C_var', 'D_var', 'E_var', 'F_var', 'G_var']\n",
      "\n",
      "D5_cols=['D']\n",
      "\n",
      "E5_cols=['shopping_pt', 'homeowner', 'car_age', 'A', 'C', 'D', 'E', 'A_init', 'B_init', 'C_init', 'E_init', \n",
      "         'A_change', 'B_change', 'C_change', 'D_change', 'E_change', 'F_change', 'A_var', 'B_var', 'D_var', 'E_var']\n",
      "\n",
      "F5_cols=['F', 'A_var']\n",
      "\n",
      "G5_cols=['shopping_pt', 'G', 'G_init', 'G_change', 'A_var', 'G_var']\n",
      "\n",
      "#6 offers\n",
      "A6_cols=['A']\n",
      "\n",
      "B6_cols=['B']\n",
      "\n",
      "C6_cols=['shopping_pt', 'group_size', 'homeowner', 'car_age', 'car_value', 'risk_factor', 'married_couple', \n",
      "         'C_previous', 'duration_previous', 'A', 'B', 'C', 'D', 'E', 'F', 'G', 'duration_offers', 'A_init', \n",
      "         'B_init', 'C_init', 'D_init', 'E_init', 'F_init', 'G_init', 'A_change', 'B_change', 'C_change', 'D_change', \n",
      "         'E_change', 'F_change', 'G_change', 'A_var', 'B_var', 'C_var', 'D_var', 'E_var', 'F_var', 'G_var']\n",
      "\n",
      "D6_cols=['D']\n",
      "\n",
      "E6_cols=['shopping_pt', 'homeowner', 'car_age', 'A', 'C', 'D', 'E', 'A_init', 'B_init', 'C_init', 'E_init', \n",
      "         'A_change', 'B_change', 'C_change', 'D_change', 'E_change', 'F_change', 'A_var', 'B_var', 'D_var', 'E_var']\n",
      "\n",
      "F6_cols=['F', 'A_var']\n",
      "\n",
      "G6_cols=['shopping_pt', 'G', 'G_init', 'G_change', 'A_var', 'G_var']\n",
      "\n",
      "#7 offers\n",
      "A7_cols=['A']\n",
      "\n",
      "B7_cols=['B']\n",
      "\n",
      "C7_cols=['shopping_pt', 'day', 'state', 'group_size', 'homeowner', 'car_age', 'car_value', 'risk_factor', \n",
      "         'married_couple', 'C_previous', 'A', 'B', 'C', 'D', 'E', 'F', 'G', 'duration_offers', 'A_init',\n",
      "         'B_init', 'C_init', 'D_init', 'E_init', 'F_init', 'G_init', 'A_change', 'B_change', 'C_change', \n",
      "         'D_change', 'E_change', 'F_change', 'G_change', 'A_var', 'B_var', 'C_var', 'D_var', 'E_var', 'F_var', \n",
      "         'G_var']\n",
      "\n",
      "D7_cols=['D']\n",
      "\n",
      "E7_cols=['E']\n",
      "\n",
      "F7_cols=['F', 'A_var']\n",
      "\n",
      "G7_cols=['shopping_pt', 'G', 'G_init', 'A_var', 'E_var', 'G_var']\n",
      "\n",
      "#8 offers\n",
      "A8_cols=['A']\n",
      "\n",
      "B8_cols=['B']\n",
      "\n",
      "C8_cols=['shopping_pt', 'C', 'C_change', 'C_var']\n",
      "\n",
      "D8_cols=['D']\n",
      "\n",
      "E8_cols=['E']\n",
      "\n",
      "F8_cols=['F', 'A_var']\n",
      "\n",
      "G8_cols=['shopping_pt', 'G', 'E_var', 'G_var']\n",
      "\n",
      "\n",
      "#9 offers\n",
      "A9_cols=['A']\n",
      "\n",
      "B9_cols=['B']\n",
      "\n",
      "C9_cols=['shopping_pt', 'homeowner', 'C_previous', 'A', 'B', 'C', 'D', 'E', 'C_init', 'E_init', 'C_change', \n",
      "         'D_change', 'E_change', 'A_var', 'B_var', 'C_var', 'D_var', 'E_var', 'F_var', 'G_var']\n",
      "\n",
      "D9_cols=['D']\n",
      "\n",
      "E9_cols=['E']\n",
      "\n",
      "F9_cols=['shopping_pt', 'A', 'F', 'A_var', 'E_var', 'F_var']\n",
      "\n",
      "G9_cols=['shopping_pt', 'G', 'G_var']\n",
      "\n",
      "#10 offers\n",
      "A10_cols=['A']\n",
      "\n",
      "B10_cols=['shopping_pt', 'day', 'state', 'group_size', 'homeowner', 'car_age', 'car_value', 'risk_factor', \n",
      "          'age_oldest', 'married_couple', 'C_previous', 'A', 'B', 'C', 'D', 'E', 'F', 'G', 'cost', \n",
      "          'duration_offers', 'A_init', 'B_init', 'C_init', 'D_init', 'E_init', 'F_init', 'G_init', 'A_change', \n",
      "          'B_change', 'C_change', 'D_change', 'E_change', 'F_change', 'G_change', 'A_var', 'B_var', 'C_var', \n",
      "          'D_var', 'E_var', 'F_var', 'G_var', 'init_cost']\n",
      "\n",
      "C10_cols=['shopping_pt', 'group_size', 'homeowner', 'C_previous', 'A', 'C', 'D', 'E', 'A_init', 'C_init', \n",
      "          'D_init', 'E_init', 'C_change', 'D_change', 'E_change', 'A_var', 'B_var', 'C_var', 'D_var', 'E_var', \n",
      "          'F_var', 'G_var']\n",
      "\n",
      "D10_cols=['D']\n",
      "\n",
      "E10_cols=['E']\n",
      "\n",
      "F10_cols=['shopping_pt', 'A', 'F', 'A_var', 'E_var', 'F_var']\n",
      "\n",
      "G10_cols=['shopping_pt', 'G', 'G_var']\n",
      "\n",
      "#11 offers\n",
      "A11_cols=['A']\n",
      "\n",
      "B11_cols=['shopping_pt', 'day', 'state', 'group_size', 'homeowner', 'car_age', 'car_value', 'risk_factor', \n",
      "          'age_oldest', 'married_couple', 'C_previous', 'A', 'B', 'C', 'D', 'E', 'F', 'G', 'cost', \n",
      "          'duration_offers', 'A_init', 'B_init', 'C_init', 'D_init', 'E_init', 'F_init', 'G_init', 'A_change', \n",
      "          'B_change', 'C_change', 'D_change', 'E_change', 'F_change', 'G_change', 'A_var', 'B_var', 'C_var', \n",
      "          'D_var', 'E_var', 'F_var', 'G_var', 'init_cost']\n",
      "\n",
      "C11_cols=['shopping_pt', 'homeowner', 'C_previous', 'C', 'D', 'C_init', 'D_init', 'D_change', 'B_var', \n",
      "          'C_var', 'D_var', 'E_var', 'G_var']\n",
      "\n",
      "D11_cols=['shopping_pt', 'homeowner', 'B', 'C', 'D', 'E', 'G', 'A_init', 'E_init', 'D_change', \n",
      "          'B_var', 'D_var', 'G_var']\n",
      "\n",
      "E11_cols=['E']\n",
      "\n",
      "F11_cols=['F']\n",
      "\n",
      "G11_cols=['shopping_pt', 'G', 'G_init', 'G_change', 'D_var', 'G_var']\n",
      "\n",
      "#12 offers\n",
      "A12_cols=['shopping_pt', 'day', 'state', 'group_size', 'homeowner', 'car_age', 'car_value', 'risk_factor', \n",
      "          'age_oldest', 'age_youngest', 'married_couple', 'C_previous', 'duration_previous', 'A', 'B', 'C', 'D', \n",
      "          'E', 'F', 'G', 'cost', 'duration_offers', 'A_init', 'B_init', 'C_init', 'D_init', 'E_init', 'F_init', \n",
      "          'G_init', 'A_change', 'B_change', 'C_change', 'D_change', 'E_change', 'F_change', 'G_change', 'A_var', \n",
      "          'B_var', 'C_var', 'D_var', 'E_var', 'F_var', 'G_var', 'init_cost']\n",
      "\n",
      "B12_cols=['B']\n",
      "\n",
      "C12_cols=['C']\n",
      "\n",
      "D12_cols=['group_size', 'D', 'E', 'B_init', 'D_change']\n",
      "\n",
      "E12_cols=['E']\n",
      "\n",
      "F12_cols=['A', 'C', 'F', 'D_init']\n",
      "\n",
      "G12_cols=['shopping_pt', 'day', 'group_size', 'homeowner', 'car_age', 'car_value', 'risk_factor', 'age_oldest', \n",
      "          'married_couple', 'C_previous', 'duration_previous', 'A', 'B', 'C', 'D', 'F', 'G', 'duration_offers', \n",
      "          'B_init', 'C_init', 'D_init', 'E_init', 'F_init', 'G_init', 'A_change', 'B_change', 'C_change', 'D_change',\n",
      "          'E_change', 'F_change', 'G_change', 'C_var', 'G_var']\n",
      "\n",
      "A_features[1]=A1_cols\n",
      "A_features[2]=A2_cols\n",
      "A_features[3]=A3_cols\n",
      "A_features[4]=A4_cols\n",
      "A_features[5]=A5_cols\n",
      "A_features[6]=A6_cols\n",
      "A_features[7]=A7_cols\n",
      "A_features[8]=A8_cols\n",
      "A_features[9]=A9_cols\n",
      "A_features[10]=A10_cols\n",
      "A_features[11]=A11_cols\n",
      "A_features[12]=A12_cols\n",
      "\n",
      "B_features[1]=B1_cols\n",
      "B_features[2]=B2_cols\n",
      "B_features[3]=B3_cols\n",
      "B_features[4]=B4_cols\n",
      "B_features[5]=B5_cols\n",
      "B_features[6]=B6_cols\n",
      "B_features[7]=B7_cols\n",
      "B_features[8]=B8_cols\n",
      "B_features[9]=B9_cols\n",
      "B_features[10]=B10_cols\n",
      "B_features[11]=B11_cols\n",
      "B_features[12]=B12_cols\n",
      "\n",
      "C_features[1]=C1_cols\n",
      "C_features[2]=C2_cols\n",
      "C_features[3]=C3_cols\n",
      "C_features[4]=C4_cols\n",
      "C_features[5]=C5_cols\n",
      "C_features[6]=C6_cols\n",
      "C_features[7]=C7_cols\n",
      "C_features[8]=C8_cols\n",
      "C_features[9]=C9_cols\n",
      "C_features[10]=C10_cols\n",
      "C_features[11]=C11_cols\n",
      "C_features[12]=C12_cols\n",
      "\n",
      "D_features[1]=D1_cols\n",
      "D_features[2]=D2_cols\n",
      "D_features[3]=D3_cols\n",
      "D_features[4]=D4_cols\n",
      "D_features[5]=D5_cols\n",
      "D_features[6]=D6_cols\n",
      "D_features[7]=D7_cols\n",
      "D_features[8]=D8_cols\n",
      "D_features[9]=D9_cols\n",
      "D_features[10]=D10_cols\n",
      "D_features[11]=D11_cols\n",
      "D_features[12]=D12_cols\n",
      "\n",
      "E_features[1]=E1_cols\n",
      "E_features[2]=E2_cols\n",
      "E_features[3]=E3_cols\n",
      "E_features[4]=E4_cols\n",
      "E_features[5]=E5_cols\n",
      "E_features[6]=E6_cols\n",
      "E_features[7]=E7_cols\n",
      "E_features[8]=E8_cols\n",
      "E_features[9]=E9_cols\n",
      "E_features[10]=E10_cols\n",
      "E_features[11]=E11_cols\n",
      "E_features[12]=E12_cols\n",
      "\n",
      "F_features[1]=F1_cols\n",
      "F_features[2]=F2_cols\n",
      "F_features[3]=F3_cols\n",
      "F_features[4]=F4_cols\n",
      "F_features[5]=F5_cols\n",
      "F_features[6]=F6_cols\n",
      "F_features[7]=F7_cols\n",
      "F_features[8]=F8_cols\n",
      "F_features[9]=F9_cols\n",
      "F_features[10]=F10_cols\n",
      "F_features[11]=F11_cols\n",
      "F_features[12]=F12_cols\n",
      "\n",
      "G_features[1]=G1_cols\n",
      "G_features[2]=G2_cols\n",
      "G_features[3]=G3_cols\n",
      "G_features[4]=G4_cols\n",
      "G_features[5]=G5_cols\n",
      "G_features[6]=G6_cols\n",
      "G_features[7]=G7_cols\n",
      "G_features[8]=G8_cols\n",
      "G_features[9]=G9_cols\n",
      "G_features[10]=G10_cols\n",
      "G_features[11]=G11_cols\n",
      "G_features[12]=G12_cols\n",
      "\n",
      "def cleanup(df):\n",
      "\n",
      "    #find columns that contain null values\n",
      "    inds = pd.isnull(df).any(0).nonzero()\n",
      "\n",
      "    df['car_value'] = df['car_value'].fillna('0')\n",
      "    df['car_value']=df['car_value'].apply(lambda letter :  abs(ord(letter) - 96))\n",
      "    df['state']=df['state'].apply(lambda letter :  abs(ord(letter[0]) - 96 + ord(letter[1]) - 96))\n",
      "\n",
      "    #remove product feature\n",
      "    #df=df.drop(['product'], axis=1)\n",
      "    #df=df.drop(['state'], axis=1)\n",
      "    #df=df.drop(['location'], axis=1)\n",
      "    df=df.drop(['time'], axis=1)\n",
      "\n",
      "    #impute the null values\n",
      "    df['risk_factor'] = df['risk_factor'].fillna(0)\n",
      "    df['C_previous'] = df['C_previous'].fillna(0)\n",
      "    df['duration_previous'] = df['duration_previous'].fillna(0)\n",
      "    df['location'] = df['location'].fillna(0)\n",
      "\n",
      "    df['A_var'] = df['A_var'].fillna(0)\n",
      "    df['B_var'] = df['B_var'].fillna(0)\n",
      "    df['C_var'] = df['C_var'].fillna(0)\n",
      "    df['D_var'] = df['D_var'].fillna(0)\n",
      "    df['E_var'] = df['E_var'].fillna(0)\n",
      "    df['F_var'] = df['F_var'].fillna(0)\n",
      "    df['G_var'] = df['G_var'].fillna(0)\n",
      "    df['cost_var'] = df['cost_var'].fillna(0)\n",
      "    #drop any other rows that might contain null values (at this point only lines with empty key cols should be removed from the training sets)\n",
      "    df=df.dropna()\n",
      "\n",
      "    return df\n",
      "\n",
      "def cleanup_test(df):\n",
      "\n",
      "    #find columns that contain null values\n",
      "    inds = pd.isnull(df).any(0).nonzero()\n",
      "\n",
      "    df['car_value'] = df['car_value'].fillna('0')\n",
      "    df['car_value']=df['car_value'].apply(lambda letter :  abs(ord(letter) - 96))\n",
      "    df['state']=df['state'].apply(lambda letter :  abs(ord(letter[0]) - 96 + ord(letter[1]) - 96))\n",
      "\n",
      "    #remove product feature\n",
      "    #df=df.drop(['product'], axis=1)\n",
      "    #df=df.drop(['state'], axis=1)\n",
      "    #df=df.drop(['location'], axis=1)\n",
      "    df=df.drop(['time'], axis=1)\n",
      "    \n",
      "    #impute the null values\n",
      "    df['risk_factor'] = df['risk_factor'].fillna(0)\n",
      "    df['C_previous'] = df['C_previous'].fillna(0)\n",
      "    df['duration_previous'] = df['duration_previous'].fillna(0)\n",
      "    df['location'] = df['location'].fillna(0)\n",
      "\n",
      "    df['A_var'] = df['A_var'].fillna(0)\n",
      "    df['B_var'] = df['B_var'].fillna(0)\n",
      "    df['C_var'] = df['C_var'].fillna(0)\n",
      "    df['D_var'] = df['D_var'].fillna(0)\n",
      "    df['E_var'] = df['E_var'].fillna(0)\n",
      "    df['F_var'] = df['F_var'].fillna(0)\n",
      "    df['G_var'] = df['G_var'].fillna(0)\n",
      "    df['cost_var'] = df['cost_var'].fillna(0)\n",
      "\n",
      "    return df\n",
      "\n",
      "def train_model(train_df, model,feature_array, yName='A_purchase'):\n",
      "    input_df = train_df.copy(deep=True)\n",
      "    y = input_df[yName].values\n",
      "\n",
      "    #input_df=input_df.drop(['A_purchase'], axis=1)\n",
      "    #input_df=input_df.drop(['B_purchase'], axis=1)\n",
      "    #input_df=input_df.drop(['C_purchase'], axis=1)\n",
      "    #input_df=input_df.drop(['D_purchase'], axis=1)\n",
      "    #input_df=input_df.drop(['E_purchase'], axis=1)\n",
      "    #input_df=input_df.drop(['F_purchase'], axis=1)\n",
      "    #input_df=input_df.drop(['G_purchase'], axis=1)\n",
      "\n",
      "    #if (yName=='G_purchase'):\n",
      "    #    input_df=input_df.drop(['C_previous'], axis=1)\n",
      "    \n",
      "    input_df=input_df[feature_array]\n",
      "\n",
      "    \n",
      "    X = input_df.values\n",
      "\n",
      "    skf=StratifiedKFold(y, n_folds=3 )\n",
      "\n",
      "    best_model=None\n",
      "    best_model_score=0\n",
      "    for train_index, test_index in skf:\n",
      "        X_train, X_test = X[train_index], X[test_index]\n",
      "        y_train, y_test = y[train_index], y[test_index]\n",
      "        \n",
      "        #selector = RFE(select_model, step=1, n_features_to_select=features_to_select)\n",
      "        clf = clone(model)\n",
      "        #pipeline = Pipeline([('rfe', selector), ('lr', clf)])\n",
      "        pipeline = Pipeline([('lr', clf)])\n",
      "        pipeline = pipeline.fit(X_train, y_train)\n",
      "\n",
      "        print \"score:\"+ yName +\":\"+str(pipeline.score(X_test,y_test))\n",
      "\n",
      "        if best_model==None or best_model_score<clf.score(X_test, y_test):\n",
      "            best_model=clf\n",
      "            best_model_score=clf.score(X_test, y_test)\n",
      "            \n",
      "\n",
      "    trained_model = best_model\n",
      "\n",
      "    return trained_model, best_model_score\n",
      "\n",
      "def predict(test_2_df, model, feature_array, prodStr='A_purchase'):\n",
      "\n",
      "    test_df = test_2_df.copy(deep=True)\n",
      "    test_y = test_df[prodStr]\n",
      "\n",
      "    test_df=test_df[feature_array]\n",
      "\n",
      "    test_X = test_df.values\n",
      "\n",
      "    prediction = model.predict(test_X)\n",
      "    return prediction\n",
      "\n",
      "\n",
      "modelADict={}\n",
      "modelBDict={}\n",
      "modelCDict={}\n",
      "modelDDict={}\n",
      "modelEDict={}\n",
      "modelFDict={}\n",
      "modelGDict={}\n",
      "\n",
      "modelAScores={}\n",
      "modelBScores={}\n",
      "modelCScores={}\n",
      "modelDScores={}\n",
      "modelEScores={}\n",
      "modelFScores={}\n",
      "modelGScores={}\n",
      "\n",
      "for i in range(1,13):\n",
      "    print \"offers:\"+str(i)\n",
      "    train = cleanup(train_sets[i])\n",
      "    modelADict[i], modelAScores[i] = train_model(train, rfcModel, A_features[i])\n",
      "    modelBDict[i], modelBScores[i] = train_model(train, rfcModel, B_features[i], yName='B_purchase')\n",
      "    modelCDict[i], modelCScores[i] = train_model(train, rfcModel, C_features[i], yName='C_purchase')\n",
      "    modelDDict[i], modelDScores[i] = train_model(train, rfcModel, D_features[i], yName='D_purchase')\n",
      "    modelEDict[i], modelEScores[i] = train_model(train, rfcModel, E_features[i], yName='E_purchase')\n",
      "    modelFDict[i], modelFScores[i] = train_model(train, rfcModel, F_features[i], yName='F_purchase')\n",
      "    modelGDict[i], modelGScores[i] = train_model(train, rfcModel, G_features[i], yName='G_purchase')"
     ],
     "language": "python",
     "metadata": {},
     "outputs": [
      {
       "output_type": "stream",
       "stream": "stdout",
       "text": [
        "offers:1\n",
        "score:A_purchase:0.759192256548"
       ]
      },
      {
       "output_type": "stream",
       "stream": "stdout",
       "text": [
        "\n",
        "score:A_purchase:0.758844631371"
       ]
      },
      {
       "output_type": "stream",
       "stream": "stdout",
       "text": [
        "\n",
        "score:A_purchase:0.756556160317"
       ]
      },
      {
       "output_type": "stream",
       "stream": "stdout",
       "text": [
        "\n",
        "score:B_purchase:0.727371122862"
       ]
      },
      {
       "output_type": "stream",
       "stream": "stdout",
       "text": [
        "\n",
        "score:B_purchase:0.724548490846"
       ]
      },
      {
       "output_type": "stream",
       "stream": "stdout",
       "text": [
        "\n",
        "score:B_purchase:0.726620484908"
       ]
      },
      {
       "output_type": "stream",
       "stream": "stdout",
       "text": [
        "\n",
        "score:C_purchase:0.739833627114"
       ]
      },
      {
       "output_type": "stream",
       "stream": "stdout",
       "text": [
        "\n",
        "score:C_purchase:0.740011133102"
       ]
      },
      {
       "output_type": "stream",
       "stream": "stdout",
       "text": [
        "\n",
        "score:C_purchase:0.743845868382"
       ]
      },
      {
       "output_type": "stream",
       "stream": "stdout",
       "text": [
        "\n",
        "score:D_purchase:0.761573429817"
       ]
      },
      {
       "output_type": "stream",
       "stream": "stdout",
       "text": [
        "\n",
        "score:D_purchase:0.763483424048"
       ]
      },
      {
       "output_type": "stream",
       "stream": "stdout",
       "text": [
        "\n",
        "score:D_purchase:0.761318654132"
       ]
      },
      {
       "output_type": "stream",
       "stream": "stdout",
       "text": [
        "\n",
        "score:E_purchase:0.742122027399"
       ]
      },
      {
       "output_type": "stream",
       "stream": "stdout",
       "text": [
        "\n",
        "score:E_purchase:0.745979713013"
       ]
      },
      {
       "output_type": "stream",
       "stream": "stdout",
       "text": [
        "\n",
        "score:E_purchase:0.743722167244"
       ]
      },
      {
       "output_type": "stream",
       "stream": "stdout",
       "text": [
        "\n",
        "score:F_purchase:0.706218882395"
       ]
      },
      {
       "output_type": "stream",
       "stream": "stdout",
       "text": [
        "\n",
        "score:F_purchase:0.710879515092"
       ]
      },
      {
       "output_type": "stream",
       "stream": "stdout",
       "text": [
        "\n",
        "score:F_purchase:0.708219940623"
       ]
      },
      {
       "output_type": "stream",
       "stream": "stdout",
       "text": [
        "\n",
        "score:G_purchase:0.637937965798"
       ]
      },
      {
       "output_type": "stream",
       "stream": "stdout",
       "text": [
        "\n",
        "score:G_purchase:0.63706086096"
       ]
      },
      {
       "output_type": "stream",
       "stream": "stdout",
       "text": [
        "\n",
        "score:G_purchase:0.636133102425"
       ]
      },
      {
       "output_type": "stream",
       "stream": "stdout",
       "text": [
        "\n",
        "offers:2"
       ]
      },
      {
       "output_type": "stream",
       "stream": "stdout",
       "text": [
        "\n",
        "score:A_purchase:0.840646936945"
       ]
      },
      {
       "output_type": "stream",
       "stream": "stdout",
       "text": [
        "\n",
        "score:A_purchase:0.844136566056"
       ]
      },
      {
       "output_type": "stream",
       "stream": "stdout",
       "text": [
        "\n",
        "score:A_purchase:0.84388916378"
       ]
      },
      {
       "output_type": "stream",
       "stream": "stdout",
       "text": [
        "\n",
        "score:B_purchase:0.836781395924"
       ]
      },
      {
       "output_type": "stream",
       "stream": "stdout",
       "text": [
        "\n",
        "score:B_purchase:0.837333003464"
       ]
      },
      {
       "output_type": "stream",
       "stream": "stdout",
       "text": [
        "\n",
        "score:B_purchase:0.837735032162"
       ]
      },
      {
       "output_type": "stream",
       "stream": "stdout",
       "text": [
        "\n",
        "score:C_purchase:0.82503015122"
       ]
      },
      {
       "output_type": "stream",
       "stream": "stdout",
       "text": [
        "\n",
        "score:C_purchase:0.828488372093"
       ]
      },
      {
       "output_type": "stream",
       "stream": "stdout",
       "text": [
        "\n",
        "score:C_purchase:0.825952498763"
       ]
      },
      {
       "output_type": "stream",
       "stream": "stdout",
       "text": [
        "\n",
        "score:D_purchase:0.853789776417"
       ]
      },
      {
       "output_type": "stream",
       "stream": "stdout",
       "text": [
        "\n",
        "score:D_purchase:0.854867639782"
       ]
      },
      {
       "output_type": "stream",
       "stream": "stdout",
       "text": [
        "\n",
        "score:D_purchase:0.851094755072"
       ]
      },
      {
       "output_type": "stream",
       "stream": "stdout",
       "text": [
        "\n",
        "score:E_purchase:0.842007607385"
       ]
      },
      {
       "output_type": "stream",
       "stream": "stdout",
       "text": [
        "\n",
        "score:E_purchase:0.846023008412"
       ]
      },
      {
       "output_type": "stream",
       "stream": "stdout",
       "text": [
        "\n",
        "score:E_purchase:0.840703859476"
       ]
      },
      {
       "output_type": "stream",
       "stream": "stdout",
       "text": [
        "\n",
        "score:F_purchase:0.812072857717"
       ]
      },
      {
       "output_type": "stream",
       "stream": "stdout",
       "text": [
        "\n",
        "score:F_purchase:0.815406976744"
       ]
      },
      {
       "output_type": "stream",
       "stream": "stdout",
       "text": [
        "\n",
        "score:F_purchase:0.813180356259"
       ]
      },
      {
       "output_type": "stream",
       "stream": "stdout",
       "text": [
        "\n",
        "score:G_purchase:0.744286730371"
       ]
      },
      {
       "output_type": "stream",
       "stream": "stdout",
       "text": [
        "\n",
        "score:G_purchase:0.745175655616"
       ]
      },
      {
       "output_type": "stream",
       "stream": "stdout",
       "text": [
        "\n",
        "score:G_purchase:0.746350816428"
       ]
      },
      {
       "output_type": "stream",
       "stream": "stdout",
       "text": [
        "\n",
        "offers:3"
       ]
      },
      {
       "output_type": "stream",
       "stream": "stdout",
       "text": [
        "\n",
        "score:A_purchase:0.880581345756"
       ]
      },
      {
       "output_type": "stream",
       "stream": "stdout",
       "text": [
        "\n",
        "score:A_purchase:0.877657480315"
       ]
      },
      {
       "output_type": "stream",
       "stream": "stdout",
       "text": [
        "\n",
        "score:A_purchase:0.879035433071"
       ]
      },
      {
       "output_type": "stream",
       "stream": "stdout",
       "text": [
        "\n",
        "score:B_purchase:0.886486663823"
       ]
      },
      {
       "output_type": "stream",
       "stream": "stdout",
       "text": [
        "\n",
        "score:B_purchase:0.887368766404"
       ]
      },
      {
       "output_type": "stream",
       "stream": "stdout",
       "text": [
        "\n",
        "score:B_purchase:0.887992125984"
       ]
      },
      {
       "output_type": "stream",
       "stream": "stdout",
       "text": [
        "\n",
        "score:C_purchase:0.875922705948"
       ]
      },
      {
       "output_type": "stream",
       "stream": "stdout",
       "text": [
        "\n",
        "score:C_purchase:0.877854330709"
       ]
      },
      {
       "output_type": "stream",
       "stream": "stdout",
       "text": [
        "\n",
        "score:C_purchase:0.877099737533"
       ]
      },
      {
       "output_type": "stream",
       "stream": "stdout",
       "text": [
        "\n",
        "score:D_purchase:0.903612086218"
       ]
      },
      {
       "output_type": "stream",
       "stream": "stdout",
       "text": [
        "\n",
        "score:D_purchase:0.907939632546"
       ]
      },
      {
       "output_type": "stream",
       "stream": "stdout",
       "text": [
        "\n",
        "score:D_purchase:0.908300524934"
       ]
      },
      {
       "output_type": "stream",
       "stream": "stdout",
       "text": [
        "\n",
        "score:E_purchase:0.891867064729"
       ]
      },
      {
       "output_type": "stream",
       "stream": "stdout",
       "text": [
        "\n",
        "score:E_purchase:0.888615485564"
       ]
      },
      {
       "output_type": "stream",
       "stream": "stdout",
       "text": [
        "\n",
        "score:E_purchase:0.886581364829"
       ]
      },
      {
       "output_type": "stream",
       "stream": "stdout",
       "text": [
        "\n",
        "score:F_purchase:0.874905678948"
       ]
      },
      {
       "output_type": "stream",
       "stream": "stdout",
       "text": [
        "\n",
        "score:F_purchase:0.878805774278"
       ]
      },
      {
       "output_type": "stream",
       "stream": "stdout",
       "text": [
        "\n",
        "score:F_purchase:0.874343832021"
       ]
      },
      {
       "output_type": "stream",
       "stream": "stdout",
       "text": [
        "\n",
        "score:G_purchase:0.795347921656"
       ]
      },
      {
       "output_type": "stream",
       "stream": "stdout",
       "text": [
        "\n",
        "score:G_purchase:0.795833333333"
       ]
      },
      {
       "output_type": "stream",
       "stream": "stdout",
       "text": [
        "\n",
        "score:G_purchase:0.801706036745"
       ]
      },
      {
       "output_type": "stream",
       "stream": "stdout",
       "text": [
        "\n",
        "offers:4"
       ]
      },
      {
       "output_type": "stream",
       "stream": "stdout",
       "text": [
        "\n",
        "score:A_purchase:0.902531099446"
       ]
      },
      {
       "output_type": "stream",
       "stream": "stdout",
       "text": [
        "\n",
        "score:A_purchase:0.901592780355"
       ]
      },
      {
       "output_type": "stream",
       "stream": "stdout",
       "text": [
        "\n",
        "score:A_purchase:0.905152266926"
       ]
      },
      {
       "output_type": "stream",
       "stream": "stdout",
       "text": [
        "\n",
        "score:B_purchase:0.91101603509"
       ]
      },
      {
       "output_type": "stream",
       "stream": "stdout",
       "text": [
        "\n",
        "score:B_purchase:0.908783662316"
       ]
      },
      {
       "output_type": "stream",
       "stream": "stdout",
       "text": [
        "\n",
        "score:B_purchase:0.911947650379"
       ]
      },
      {
       "output_type": "stream",
       "stream": "stdout",
       "text": [
        "\n",
        "score:C_purchase:0.899331272021"
       ]
      },
      {
       "output_type": "stream",
       "stream": "stdout",
       "text": [
        "\n",
        "score:C_purchase:0.904936540467"
       ]
      },
      {
       "output_type": "stream",
       "stream": "stdout",
       "text": [
        "\n",
        "score:C_purchase:0.903318592025"
       ]
      },
      {
       "output_type": "stream",
       "stream": "stdout",
       "text": [
        "\n",
        "score:D_purchase:0.92784209391"
       ]
      },
      {
       "output_type": "stream",
       "stream": "stdout",
       "text": [
        "\n",
        "score:D_purchase:0.92870240535"
       ]
      },
      {
       "output_type": "stream",
       "stream": "stdout",
       "text": [
        "\n",
        "score:D_purchase:0.928450724481"
       ]
      },
      {
       "output_type": "stream",
       "stream": "stdout",
       "text": [
        "\n",
        "score:E_purchase:0.914072050047"
       ]
      },
      {
       "output_type": "stream",
       "stream": "stdout",
       "text": [
        "\n",
        "score:E_purchase:0.910940926905"
       ]
      },
      {
       "output_type": "stream",
       "stream": "stdout",
       "text": [
        "\n",
        "score:E_purchase:0.909215115234"
       ]
      },
      {
       "output_type": "stream",
       "stream": "stdout",
       "text": [
        "\n",
        "score:F_purchase:0.899942475013"
       ]
      },
      {
       "output_type": "stream",
       "stream": "stdout",
       "text": [
        "\n",
        "score:F_purchase:0.901520871535"
       ]
      },
      {
       "output_type": "stream",
       "stream": "stdout",
       "text": [
        "\n",
        "score:F_purchase:0.902959047927"
       ]
      },
      {
       "output_type": "stream",
       "stream": "stdout",
       "text": [
        "\n",
        "score:G_purchase:0.825195944488"
       ]
      },
      {
       "output_type": "stream",
       "stream": "stdout",
       "text": [
        "\n",
        "score:G_purchase:0.827922194657"
       ]
      },
      {
       "output_type": "stream",
       "stream": "stdout",
       "text": [
        "\n",
        "score:G_purchase:0.823859346349"
       ]
      },
      {
       "output_type": "stream",
       "stream": "stdout",
       "text": [
        "\n",
        "offers:5"
       ]
      },
      {
       "output_type": "stream",
       "stream": "stdout",
       "text": [
        "\n",
        "score:A_purchase:0.916739410567"
       ]
      },
      {
       "output_type": "stream",
       "stream": "stdout",
       "text": [
        "\n",
        "score:A_purchase:0.915575508168"
       ]
      },
      {
       "output_type": "stream",
       "stream": "stdout",
       "text": [
        "\n",
        "score:A_purchase:0.916282163196"
       ]
      },
      {
       "output_type": "stream",
       "stream": "stdout",
       "text": [
        "\n",
        "score:B_purchase:0.924180072328"
       ]
      },
      {
       "output_type": "stream",
       "stream": "stdout",
       "text": [
        "\n",
        "score:B_purchase:0.923057737873"
       ]
      },
      {
       "output_type": "stream",
       "stream": "stdout",
       "text": [
        "\n",
        "score:B_purchase:0.924969863241"
       ]
      },
      {
       "output_type": "stream",
       "stream": "stdout",
       "text": [
        "\n",
        "score:C_purchase:0.917155089995"
       ]
      },
      {
       "output_type": "stream",
       "stream": "stdout",
       "text": [
        "\n",
        "score:C_purchase:0.917820177079"
       ]
      },
      {
       "output_type": "stream",
       "stream": "stdout",
       "text": [
        "\n",
        "score:C_purchase:0.917778609137"
       ]
      },
      {
       "output_type": "stream",
       "stream": "stdout",
       "text": [
        "\n",
        "score:D_purchase:0.938853556138"
       ]
      },
      {
       "output_type": "stream",
       "stream": "stdout",
       "text": [
        "\n",
        "score:D_purchase:0.940433137964"
       ]
      },
      {
       "output_type": "stream",
       "stream": "stdout",
       "text": [
        "\n",
        "score:D_purchase:0.940682545621"
       ]
      },
      {
       "output_type": "stream",
       "stream": "stdout",
       "text": [
        "\n",
        "score:E_purchase:0.920771501018"
       ]
      },
      {
       "output_type": "stream",
       "stream": "stdout",
       "text": [
        "\n",
        "score:E_purchase:0.916780978509"
       ]
      },
      {
       "output_type": "stream",
       "stream": "stdout",
       "text": [
        "\n",
        "score:E_purchase:0.916531570853"
       ]
      },
      {
       "output_type": "stream",
       "stream": "stdout",
       "text": [
        "\n",
        "score:F_purchase:0.917113522052"
       ]
      },
      {
       "output_type": "stream",
       "stream": "stdout",
       "text": [
        "\n",
        "score:F_purchase:0.917030386166"
       ]
      },
      {
       "output_type": "stream",
       "stream": "stdout",
       "text": [
        "\n",
        "score:F_purchase:0.914536309598"
       ]
      },
      {
       "output_type": "stream",
       "stream": "stdout",
       "text": [
        "\n",
        "score:G_purchase:0.843787670948"
       ]
      },
      {
       "output_type": "stream",
       "stream": "stdout",
       "text": [
        "\n",
        "score:G_purchase:0.839464604897"
       ]
      },
      {
       "output_type": "stream",
       "stream": "stdout",
       "text": [
        "\n",
        "score:G_purchase:0.846614291059"
       ]
      },
      {
       "output_type": "stream",
       "stream": "stdout",
       "text": [
        "\n",
        "offers:6"
       ]
      },
      {
       "output_type": "stream",
       "stream": "stdout",
       "text": [
        "\n",
        "score:A_purchase:0.926578249337"
       ]
      },
      {
       "output_type": "stream",
       "stream": "stdout",
       "text": [
        "\n",
        "score:A_purchase:0.925035810918"
       ]
      },
      {
       "output_type": "stream",
       "stream": "stdout",
       "text": [
        "\n",
        "score:A_purchase:0.929014801846"
       ]
      },
      {
       "output_type": "stream",
       "stream": "stdout",
       "text": [
        "\n",
        "score:B_purchase:0.93374005305"
       ]
      },
      {
       "output_type": "stream",
       "stream": "stdout",
       "text": [
        "\n",
        "score:B_purchase:0.937025836914"
       ]
      },
      {
       "output_type": "stream",
       "stream": "stdout",
       "text": [
        "\n",
        "score:B_purchase:0.933524324898"
       ]
      },
      {
       "output_type": "stream",
       "stream": "stdout",
       "text": [
        "\n",
        "score:C_purchase:0.930291777188"
       ]
      },
      {
       "output_type": "stream",
       "stream": "stdout",
       "text": [
        "\n",
        "score:C_purchase:0.926786566927"
       ]
      },
      {
       "output_type": "stream",
       "stream": "stdout",
       "text": [
        "\n",
        "score:C_purchase:0.928590376147"
       ]
      },
      {
       "output_type": "stream",
       "stream": "stdout",
       "text": [
        "\n",
        "score:D_purchase:0.947161803714"
       ]
      },
      {
       "output_type": "stream",
       "stream": "stdout",
       "text": [
        "\n",
        "score:D_purchase:0.948856703273"
       ]
      },
      {
       "output_type": "stream",
       "stream": "stdout",
       "text": [
        "\n",
        "score:D_purchase:0.948644490424"
       ]
      },
      {
       "output_type": "stream",
       "stream": "stdout",
       "text": [
        "\n",
        "score:E_purchase:0.929230769231"
       ]
      },
      {
       "output_type": "stream",
       "stream": "stdout",
       "text": [
        "\n",
        "score:E_purchase:0.929067855059"
       ]
      },
      {
       "output_type": "stream",
       "stream": "stdout",
       "text": [
        "\n",
        "score:E_purchase:0.930394185368"
       ]
      },
      {
       "output_type": "stream",
       "stream": "stdout",
       "text": [
        "\n",
        "score:F_purchase:0.926047745358"
       ]
      },
      {
       "output_type": "stream",
       "stream": "stdout",
       "text": [
        "\n",
        "score:F_purchase:0.926574354077"
       ]
      },
      {
       "output_type": "stream",
       "stream": "stdout",
       "text": [
        "\n",
        "score:F_purchase:0.93044723858"
       ]
      },
      {
       "output_type": "stream",
       "stream": "stdout",
       "text": [
        "\n",
        "score:G_purchase:0.850663129973"
       ]
      },
      {
       "output_type": "stream",
       "stream": "stdout",
       "text": [
        "\n",
        "score:G_purchase:0.857658231206"
       ]
      },
      {
       "output_type": "stream",
       "stream": "stdout",
       "text": [
        "\n",
        "score:G_purchase:0.859143721152"
       ]
      },
      {
       "output_type": "stream",
       "stream": "stdout",
       "text": [
        "\n",
        "offers:7"
       ]
      },
      {
       "output_type": "stream",
       "stream": "stdout",
       "text": [
        "\n",
        "score:A_purchase:0.932822255592"
       ]
      },
      {
       "output_type": "stream",
       "stream": "stdout",
       "text": [
        "\n",
        "score:A_purchase:0.935667430649"
       ]
      },
      {
       "output_type": "stream",
       "stream": "stdout",
       "text": [
        "\n",
        "score:A_purchase:0.931710401518"
       ]
      },
      {
       "output_type": "stream",
       "stream": "stdout",
       "text": [
        "\n",
        "score:B_purchase:0.940172291156"
       ]
      },
      {
       "output_type": "stream",
       "stream": "stdout",
       "text": [
        "\n",
        "score:B_purchase:0.939856160594"
       ]
      },
      {
       "output_type": "stream",
       "stream": "stdout",
       "text": [
        "\n",
        "score:B_purchase:0.940720834651"
       ]
      },
      {
       "output_type": "stream",
       "stream": "stdout",
       "text": [
        "\n",
        "score:C_purchase:0.93424484312"
       ]
      },
      {
       "output_type": "stream",
       "stream": "stdout",
       "text": [
        "\n",
        "score:C_purchase:0.933454516715"
       ]
      },
      {
       "output_type": "stream",
       "stream": "stdout",
       "text": [
        "\n",
        "score:C_purchase:0.933528295922"
       ]
      },
      {
       "output_type": "stream",
       "stream": "stdout",
       "text": [
        "\n",
        "score:D_purchase:0.951552991385"
       ]
      },
      {
       "output_type": "stream",
       "stream": "stdout",
       "text": [
        "\n",
        "score:D_purchase:0.952185252509"
       ]
      },
      {
       "output_type": "stream",
       "stream": "stdout",
       "text": [
        "\n",
        "score:D_purchase:0.953367056592"
       ]
      },
      {
       "output_type": "stream",
       "stream": "stdout",
       "text": [
        "\n",
        "score:E_purchase:0.941990041887"
       ]
      },
      {
       "output_type": "stream",
       "stream": "stdout",
       "text": [
        "\n",
        "score:E_purchase:0.947759424642"
       ]
      },
      {
       "output_type": "stream",
       "stream": "stdout",
       "text": [
        "\n",
        "score:E_purchase:0.938665823585"
       ]
      },
      {
       "output_type": "stream",
       "stream": "stdout",
       "text": [
        "\n",
        "score:F_purchase:0.936220659132"
       ]
      },
      {
       "output_type": "stream",
       "stream": "stdout",
       "text": [
        "\n",
        "score:F_purchase:0.93582549593"
       ]
      },
      {
       "output_type": "stream",
       "stream": "stdout",
       "text": [
        "\n",
        "score:F_purchase:0.93218463484"
       ]
      },
      {
       "output_type": "stream",
       "stream": "stdout",
       "text": [
        "\n",
        "score:G_purchase:0.859638030507"
       ]
      },
      {
       "output_type": "stream",
       "stream": "stdout",
       "text": [
        "\n",
        "score:G_purchase:0.864221923654"
       ]
      },
      {
       "output_type": "stream",
       "stream": "stdout",
       "text": [
        "\n",
        "score:G_purchase:0.865001580778"
       ]
      },
      {
       "output_type": "stream",
       "stream": "stdout",
       "text": [
        "\n",
        "offers:8"
       ]
      },
      {
       "output_type": "stream",
       "stream": "stdout",
       "text": [
        "\n",
        "score:A_purchase:0.940469293163"
       ]
      },
      {
       "output_type": "stream",
       "stream": "stdout",
       "text": [
        "\n",
        "score:A_purchase:0.943937418514"
       ]
      },
      {
       "output_type": "stream",
       "stream": "stdout",
       "text": [
        "\n",
        "score:A_purchase:0.932782848037"
       ]
      },
      {
       "output_type": "stream",
       "stream": "stdout",
       "text": [
        "\n",
        "score:B_purchase:0.944090382387"
       ]
      },
      {
       "output_type": "stream",
       "stream": "stdout",
       "text": [
        "\n",
        "score:B_purchase:0.946834709547"
       ]
      },
      {
       "output_type": "stream",
       "stream": "stdout",
       "text": [
        "\n",
        "score:B_purchase:0.944372012169"
       ]
      },
      {
       "output_type": "stream",
       "stream": "stdout",
       "text": [
        "\n",
        "score:C_purchase:0.934820393975"
       ]
      },
      {
       "output_type": "stream",
       "stream": "stdout",
       "text": [
        "\n",
        "score:C_purchase:0.937563378241"
       ]
      },
      {
       "output_type": "stream",
       "stream": "stdout",
       "text": [
        "\n",
        "score:C_purchase:0.93568013907"
       ]
      },
      {
       "output_type": "stream",
       "stream": "stdout",
       "text": [
        "\n",
        "score:D_purchase:0.953215527231"
       ]
      },
      {
       "output_type": "stream",
       "stream": "stdout",
       "text": [
        "\n",
        "score:D_purchase:0.957120092713"
       ]
      },
      {
       "output_type": "stream",
       "stream": "stdout",
       "text": [
        "\n",
        "score:D_purchase:0.951470375199"
       ]
      },
      {
       "output_type": "stream",
       "stream": "stdout",
       "text": [
        "\n",
        "score:E_purchase:0.946697566628"
       ]
      },
      {
       "output_type": "stream",
       "stream": "stdout",
       "text": [
        "\n",
        "score:E_purchase:0.947848761408"
       ]
      },
      {
       "output_type": "stream",
       "stream": "stdout",
       "text": [
        "\n",
        "score:E_purchase:0.949297406925"
       ]
      },
      {
       "output_type": "stream",
       "stream": "stdout",
       "text": [
        "\n",
        "score:F_purchase:0.94090382387"
       ]
      },
      {
       "output_type": "stream",
       "stream": "stdout",
       "text": [
        "\n",
        "score:F_purchase:0.940750398378"
       ]
      },
      {
       "output_type": "stream",
       "stream": "stdout",
       "text": [
        "\n",
        "score:F_purchase:0.939446617413"
       ]
      },
      {
       "output_type": "stream",
       "stream": "stdout",
       "text": [
        "\n",
        "score:G_purchase:0.882097334878"
       ]
      },
      {
       "output_type": "stream",
       "stream": "stdout",
       "text": [
        "\n",
        "score:G_purchase:0.875851079241"
       ]
      },
      {
       "output_type": "stream",
       "stream": "stdout",
       "text": [
        "\n",
        "score:G_purchase:0.872519194553"
       ]
      },
      {
       "output_type": "stream",
       "stream": "stdout",
       "text": [
        "\n",
        "offers:9"
       ]
      },
      {
       "output_type": "stream",
       "stream": "stdout",
       "text": [
        "\n",
        "score:A_purchase:0.944310759711"
       ]
      },
      {
       "output_type": "stream",
       "stream": "stdout",
       "text": [
        "\n",
        "score:A_purchase:0.940852819807"
       ]
      },
      {
       "output_type": "stream",
       "stream": "stdout",
       "text": [
        "\n",
        "score:A_purchase:0.942916093535"
       ]
      },
      {
       "output_type": "stream",
       "stream": "stdout",
       "text": [
        "\n",
        "score:B_purchase:0.943279477484"
       ]
      },
      {
       "output_type": "stream",
       "stream": "stdout",
       "text": [
        "\n",
        "score:B_purchase:0.952200825309"
       ]
      },
      {
       "output_type": "stream",
       "stream": "stdout",
       "text": [
        "\n",
        "score:B_purchase:0.948074277854"
       ]
      },
      {
       "output_type": "stream",
       "stream": "stdout",
       "text": [
        "\n",
        "score:C_purchase:0.93056033001"
       ]
      },
      {
       "output_type": "stream",
       "stream": "stdout",
       "text": [
        "\n",
        "score:C_purchase:0.933287482806"
       ]
      },
      {
       "output_type": "stream",
       "stream": "stdout",
       "text": [
        "\n",
        "score:C_purchase:0.938445667125"
       ]
      },
      {
       "output_type": "stream",
       "stream": "stdout",
       "text": [
        "\n",
        "score:D_purchase:0.951873496047"
       ]
      },
      {
       "output_type": "stream",
       "stream": "stdout",
       "text": [
        "\n",
        "score:D_purchase:0.953920220083"
       ]
      },
      {
       "output_type": "stream",
       "stream": "stdout",
       "text": [
        "\n",
        "score:D_purchase:0.963204951857"
       ]
      },
      {
       "output_type": "stream",
       "stream": "stdout",
       "text": [
        "\n",
        "score:E_purchase:0.951873496047"
       ]
      },
      {
       "output_type": "stream",
       "stream": "stdout",
       "text": [
        "\n",
        "score:E_purchase:0.957015130674"
       ]
      },
      {
       "output_type": "stream",
       "stream": "stdout",
       "text": [
        "\n",
        "score:E_purchase:0.954951856946"
       ]
      },
      {
       "output_type": "stream",
       "stream": "stdout",
       "text": [
        "\n",
        "score:F_purchase:0.937091784118"
       ]
      },
      {
       "output_type": "stream",
       "stream": "stdout",
       "text": [
        "\n",
        "score:F_purchase:0.94325997249"
       ]
      },
      {
       "output_type": "stream",
       "stream": "stdout",
       "text": [
        "\n",
        "score:F_purchase:0.927785419532"
       ]
      },
      {
       "output_type": "stream",
       "stream": "stdout",
       "text": [
        "\n",
        "score:G_purchase:0.878308697147"
       ]
      },
      {
       "output_type": "stream",
       "stream": "stdout",
       "text": [
        "\n",
        "score:G_purchase:0.885488308116"
       ]
      },
      {
       "output_type": "stream",
       "stream": "stdout",
       "text": [
        "\n",
        "score:G_purchase:0.879298486933"
       ]
      },
      {
       "output_type": "stream",
       "stream": "stdout",
       "text": [
        "\n",
        "offers:10\n",
        "score:A_purchase:0.949152542373"
       ]
      },
      {
       "output_type": "stream",
       "stream": "stdout",
       "text": [
        "\n",
        "score:A_purchase:0.946892655367"
       ]
      },
      {
       "output_type": "stream",
       "stream": "stdout",
       "text": [
        "\n",
        "score:A_purchase:0.951357466063"
       ]
      },
      {
       "output_type": "stream",
       "stream": "stdout",
       "text": [
        "\n",
        "score:B_purchase:0.95593220339"
       ]
      },
      {
       "output_type": "stream",
       "stream": "stdout",
       "text": [
        "\n",
        "score:B_purchase:0.944632768362"
       ]
      },
      {
       "output_type": "stream",
       "stream": "stdout",
       "text": [
        "\n",
        "score:B_purchase:0.949095022624"
       ]
      },
      {
       "output_type": "stream",
       "stream": "stdout",
       "text": [
        "\n",
        "score:C_purchase:0.928813559322"
       ]
      },
      {
       "output_type": "stream",
       "stream": "stdout",
       "text": [
        "\n",
        "score:C_purchase:0.935593220339"
       ]
      },
      {
       "output_type": "stream",
       "stream": "stdout",
       "text": [
        "\n",
        "score:C_purchase:0.938914027149"
       ]
      },
      {
       "output_type": "stream",
       "stream": "stdout",
       "text": [
        "\n",
        "score:D_purchase:0.95593220339"
       ]
      },
      {
       "output_type": "stream",
       "stream": "stdout",
       "text": [
        "\n",
        "score:D_purchase:0.952542372881"
       ]
      },
      {
       "output_type": "stream",
       "stream": "stdout",
       "text": [
        "\n",
        "score:D_purchase:0.947963800905"
       ]
      },
      {
       "output_type": "stream",
       "stream": "stdout",
       "text": [
        "\n",
        "score:E_purchase:0.964971751412"
       ]
      },
      {
       "output_type": "stream",
       "stream": "stdout",
       "text": [
        "\n",
        "score:E_purchase:0.961581920904"
       ]
      },
      {
       "output_type": "stream",
       "stream": "stdout",
       "text": [
        "\n",
        "score:E_purchase:0.957013574661"
       ]
      },
      {
       "output_type": "stream",
       "stream": "stdout",
       "text": [
        "\n",
        "score:F_purchase:0.932203389831"
       ]
      },
      {
       "output_type": "stream",
       "stream": "stdout",
       "text": [
        "\n",
        "score:F_purchase:0.946892655367"
       ]
      },
      {
       "output_type": "stream",
       "stream": "stdout",
       "text": [
        "\n",
        "score:F_purchase:0.932126696833"
       ]
      },
      {
       "output_type": "stream",
       "stream": "stdout",
       "text": [
        "\n",
        "score:G_purchase:0.891525423729"
       ]
      },
      {
       "output_type": "stream",
       "stream": "stdout",
       "text": [
        "\n",
        "score:G_purchase:0.873446327684"
       ]
      },
      {
       "output_type": "stream",
       "stream": "stdout",
       "text": [
        "\n",
        "score:G_purchase:0.902714932127"
       ]
      },
      {
       "output_type": "stream",
       "stream": "stdout",
       "text": [
        "\n",
        "offers:11\n",
        "score:A_purchase:0.937142857143"
       ]
      },
      {
       "output_type": "stream",
       "stream": "stdout",
       "text": [
        "\n",
        "score:A_purchase:0.954285714286"
       ]
      },
      {
       "output_type": "stream",
       "stream": "stdout",
       "text": [
        "\n",
        "score:A_purchase:0.948571428571"
       ]
      },
      {
       "output_type": "stream",
       "stream": "stdout",
       "text": [
        "\n",
        "score:B_purchase:0.937142857143"
       ]
      },
      {
       "output_type": "stream",
       "stream": "stdout",
       "text": [
        "\n",
        "score:B_purchase:0.931428571429"
       ]
      },
      {
       "output_type": "stream",
       "stream": "stdout",
       "text": [
        "\n",
        "score:B_purchase:0.948571428571"
       ]
      },
      {
       "output_type": "stream",
       "stream": "stdout",
       "text": [
        "\n",
        "score:C_purchase:0.925714285714"
       ]
      },
      {
       "output_type": "stream",
       "stream": "stdout",
       "text": [
        "\n",
        "score:C_purchase:0.942857142857"
       ]
      },
      {
       "output_type": "stream",
       "stream": "stdout",
       "text": [
        "\n",
        "score:C_purchase:0.897142857143"
       ]
      },
      {
       "output_type": "stream",
       "stream": "stdout",
       "text": [
        "\n",
        "score:D_purchase:0.931428571429"
       ]
      },
      {
       "output_type": "stream",
       "stream": "stdout",
       "text": [
        "\n",
        "score:D_purchase:0.92"
       ]
      },
      {
       "output_type": "stream",
       "stream": "stdout",
       "text": [
        "\n",
        "score:D_purchase:0.948571428571"
       ]
      },
      {
       "output_type": "stream",
       "stream": "stdout",
       "text": [
        "\n",
        "score:E_purchase:0.942857142857"
       ]
      },
      {
       "output_type": "stream",
       "stream": "stdout",
       "text": [
        "\n",
        "score:E_purchase:0.937142857143"
       ]
      },
      {
       "output_type": "stream",
       "stream": "stdout",
       "text": [
        "\n",
        "score:E_purchase:0.96\n",
        "score:F_purchase:0.942857142857"
       ]
      },
      {
       "output_type": "stream",
       "stream": "stdout",
       "text": [
        "\n",
        "score:F_purchase:0.948571428571"
       ]
      },
      {
       "output_type": "stream",
       "stream": "stdout",
       "text": [
        "\n",
        "score:F_purchase:0.937142857143"
       ]
      },
      {
       "output_type": "stream",
       "stream": "stdout",
       "text": [
        "\n",
        "score:G_purchase:0.868571428571"
       ]
      },
      {
       "output_type": "stream",
       "stream": "stdout",
       "text": [
        "\n",
        "score:G_purchase:0.851428571429"
       ]
      },
      {
       "output_type": "stream",
       "stream": "stdout",
       "text": [
        "\n",
        "score:G_purchase:0.84"
       ]
      },
      {
       "output_type": "stream",
       "stream": "stdout",
       "text": [
        "\n",
        "offers:12\n",
        "score:A_purchase:0.764705882353"
       ]
      },
      {
       "output_type": "stream",
       "stream": "stdout",
       "text": [
        "\n",
        "score:A_purchase:0.647058823529"
       ]
      },
      {
       "output_type": "stream",
       "stream": "stdout",
       "text": [
        "\n",
        "score:A_purchase:0.625\n",
        "score:B_purchase:0.941176470588"
       ]
      },
      {
       "output_type": "stream",
       "stream": "stdout",
       "text": [
        "\n",
        "score:B_purchase:0.941176470588\n",
        "score:B_purchase:0.9375"
       ]
      },
      {
       "output_type": "stream",
       "stream": "stdout",
       "text": [
        "\n",
        "score:C_purchase:0.882352941176\n",
        "score:C_purchase:0.941176470588"
       ]
      },
      {
       "output_type": "stream",
       "stream": "stdout",
       "text": [
        "\n",
        "score:C_purchase:0.9375\n",
        "score:D_purchase:0.764705882353"
       ]
      },
      {
       "output_type": "stream",
       "stream": "stdout",
       "text": [
        "\n",
        "score:D_purchase:0.941176470588\n",
        "score:D_purchase:0.9375"
       ]
      },
      {
       "output_type": "stream",
       "stream": "stdout",
       "text": [
        "\n",
        "score:E_purchase:0.941176470588\n",
        "score:E_purchase:0.941176470588"
       ]
      },
      {
       "output_type": "stream",
       "stream": "stdout",
       "text": [
        "\n",
        "score:E_purchase:0.875\n",
        "score:F_purchase:0.941176470588"
       ]
      },
      {
       "output_type": "stream",
       "stream": "stdout",
       "text": [
        "\n",
        "score:F_purchase:0.823529411765"
       ]
      },
      {
       "output_type": "stream",
       "stream": "stdout",
       "text": [
        "\n",
        "score:F_purchase:0.75\n",
        "score:G_purchase:0.647058823529"
       ]
      },
      {
       "output_type": "stream",
       "stream": "stdout",
       "text": [
        "\n",
        "score:G_purchase:0.647058823529\n",
        "score:G_purchase:0.8125"
       ]
      },
      {
       "output_type": "stream",
       "stream": "stdout",
       "text": [
        "\n"
       ]
      }
     ],
     "prompt_number": 14
    },
    {
     "cell_type": "code",
     "collapsed": false,
     "input": [
      "test_2 = cleanup_test(test_2)\n",
      "correct=0\n",
      "for key, cdf in test_2.iterrows():\n",
      "    A= predict(cdf,modelADict[test_2.total_offers.loc[key]], A_features[test_2.total_offers.loc[key]])\n",
      "    B= predict(cdf,modelBDict[test_2.total_offers.loc[key]], B_features[test_2.total_offers.loc[key]],prodStr='B_purchase')\n",
      "    C= predict(cdf,modelCDict[test_2.total_offers.loc[key]], C_features[test_2.total_offers.loc[key]],prodStr='C_purchase')\n",
      "    D= predict(cdf,modelDDict[test_2.total_offers.loc[key]], D_features[test_2.total_offers.loc[key]],prodStr='D_purchase')\n",
      "    E= predict(cdf,modelEDict[test_2.total_offers.loc[key]], E_features[test_2.total_offers.loc[key]],prodStr='E_purchase')\n",
      "    F= predict(cdf,modelFDict[test_2.total_offers.loc[key]], F_features[test_2.total_offers.loc[key]],prodStr='F_purchase')\n",
      "    G= predict(cdf,modelGDict[test_2.total_offers.loc[key]], G_features[test_2.total_offers.loc[key]],prodStr='G_purchase')\n",
      "\n",
      "    resultCol.loc[key]=str(int(A))+str(int(B))+str(int(C))+str(int(D))+str(int(E))+str(int(F))+str(int(G))\n",
      "\n",
      "    if test_2.A.loc[key]==A and test_2.B.loc[key]==B and test_2.C.loc[key]==C and test_2.D.loc[key]==D\\\n",
      "        and test_2.E.loc[key]==E and test_2.F.loc[key]==F and test_2.G.loc[key]==G:\n",
      "        correct += 1\n",
      "\n",
      "\n",
      "res = float(correct)/float(len(test_2))\n",
      "print(len(test_2))\n",
      "print correct\n",
      "print str(res)\n",
      "\n",
      "results_df[\"plan\"]=resultCol\n",
      "results_df.to_csv(\"results.csv\")"
     ],
     "language": "python",
     "metadata": {},
     "outputs": [
      {
       "output_type": "stream",
       "stream": "stdout",
       "text": [
        "55716\n",
        "52684\n",
        "0.945581161605\n"
       ]
      }
     ],
     "prompt_number": 15
    },
    {
     "cell_type": "code",
     "collapsed": false,
     "input": [
      "#test_2 = cleanup_test(test_2)\n",
      "correct=0\n",
      "for key, row in test_2.iterrows():\n",
      "    total_offers=int(row['total_offers'])\n",
      "    if total_offers<=8:\n",
      "        resultCol.loc[key]=str(int(row['A']))+str(int(row['B']))+str(int(row['C']))+\\\n",
      "        str(int(row['D']))+str(int(row['E']))+str(int(row['F']))+str(int(row['G']))\n",
      "    else:\n",
      "        A= predict(row,modelADict[test_2.total_offers.loc[key]], A_features[test_2.total_offers.loc[key]])\n",
      "        B= predict(row,modelBDict[test_2.total_offers.loc[key]], B_features[test_2.total_offers.loc[key]],prodStr='B_purchase')\n",
      "        C= predict(row,modelCDict[test_2.total_offers.loc[key]], C_features[test_2.total_offers.loc[key]],prodStr='C_purchase')\n",
      "        D= predict(row,modelDDict[test_2.total_offers.loc[key]], D_features[test_2.total_offers.loc[key]],prodStr='D_purchase')\n",
      "        E= predict(row,modelEDict[test_2.total_offers.loc[key]], E_features[test_2.total_offers.loc[key]],prodStr='E_purchase')\n",
      "        F= predict(row,modelFDict[test_2.total_offers.loc[key]], F_features[test_2.total_offers.loc[key]],prodStr='F_purchase')\n",
      "        G= predict(row,modelGDict[test_2.total_offers.loc[key]], G_features[test_2.total_offers.loc[key]],prodStr='G_purchase')\n",
      "    \n",
      "        resultCol.loc[key]=str(int(A))+str(int(B))+str(int(C))+str(int(D))+str(int(E))+str(int(F))+str(int(G))\n",
      "\n",
      "    if test_2.A.loc[key]==A and test_2.B.loc[key]==B and test_2.C.loc[key]==C and test_2.D.loc[key]==D\\\n",
      "        and test_2.E.loc[key]==E and test_2.F.loc[key]==F and test_2.G.loc[key]==G:\n",
      "        correct += 1\n",
      "\n",
      "\n",
      "res = float(correct)/float(len(test_2))\n",
      "print(len(test_2))\n",
      "print correct\n",
      "print str(res)\n",
      "\n",
      "results_df[\"plan\"]=resultCol\n",
      "results_df.to_csv(\"results.csv\")\n",
      "    \n",
      "    \n"
     ],
     "language": "python",
     "metadata": {},
     "outputs": [
      {
       "output_type": "stream",
       "stream": "stdout",
       "text": [
        "55716\n",
        "578\n",
        "0.0103740397731\n"
       ]
      }
     ],
     "prompt_number": 29
    },
    {
     "cell_type": "code",
     "collapsed": false,
     "input": [
      "def cleanup_sec(df):\n",
      "\n",
      "    #find columns that contain null values\n",
      "    inds = pd.isnull(df).any(0).nonzero()\n",
      "\n",
      "    df['car_value'] = df['car_value'].fillna('0')\n",
      "    #df['car_value']=df['car_value'].apply(lambda letter :  abs(ord(letter) - 96))\n",
      "    #df['state']=df['state'].apply(lambda letter :  abs(ord(letter[0]) - 96 + ord(letter[1]) - 96))\n",
      "\n",
      "    #remove product feature\n",
      "    #df=df.drop(['product'], axis=1)\n",
      "    #df=df.drop(['state'], axis=1)\n",
      "    #df=df.drop(['location'], axis=1)\n",
      "    df=df.drop(['time'], axis=1)\n",
      "\n",
      "    #impute the null values\n",
      "    df['risk_factor'] = df['risk_factor'].fillna(0)\n",
      "    df['C_previous'] = df['C_previous'].fillna(0)\n",
      "    df['duration_previous'] = df['duration_previous'].fillna(0)\n",
      "    df['location'] = df['location'].fillna(0)\n",
      "\n",
      "    df['A_var'] = df['A_var'].fillna(0)\n",
      "    df['B_var'] = df['B_var'].fillna(0)\n",
      "    df['C_var'] = df['C_var'].fillna(0)\n",
      "    df['D_var'] = df['D_var'].fillna(0)\n",
      "    df['E_var'] = df['E_var'].fillna(0)\n",
      "    df['F_var'] = df['F_var'].fillna(0)\n",
      "    df['G_var'] = df['G_var'].fillna(0)\n",
      "    df['cost_var'] = df['cost_var'].fillna(0)\n",
      "    #drop any other rows that might contain null values (at this point only lines with empty key cols should be removed from the training sets)\n",
      "    df=df.dropna()\n",
      "\n",
      "    return df\n",
      "\n",
      "for t in range(1, 13):\n",
      "    print \"test with train set\" + str(t)\n",
      "    test = cleanup_sec(train_sets[t])\n",
      "    correct=0\n",
      "    for key, cdf in test.iterrows():\n",
      "        A= predict(cdf,modelADict[test.total_offers.loc[key]], A_features[test.total_offers.loc[key]])\n",
      "        B= predict(cdf,modelBDict[test.total_offers.loc[key]], B_features[test.total_offers.loc[key]],prodStr='B_purchase')\n",
      "        C= predict(cdf,modelCDict[test.total_offers.loc[key]], C_features[test.total_offers.loc[key]],prodStr='C_purchase')\n",
      "        D= predict(cdf,modelDDict[test.total_offers.loc[key]], D_features[test.total_offers.loc[key]],prodStr='D_purchase')\n",
      "        E= predict(cdf,modelEDict[test.total_offers.loc[key]], E_features[test.total_offers.loc[key]],prodStr='E_purchase')\n",
      "        F= predict(cdf,modelFDict[test.total_offers.loc[key]], F_features[test.total_offers.loc[key]],prodStr='F_purchase')\n",
      "        G= predict(cdf,modelGDict[test.total_offers.loc[key]], G_features[test.total_offers.loc[key]],prodStr='G_purchase')\n",
      "    \n",
      "        resultCol.loc[key]=str(int(A))+str(int(B))+str(int(C))+str(int(D))+str(int(E))+str(int(F))+str(int(G))\n",
      "    \n",
      "        if test.A_purchase.loc[key]==A and test.B_purchase.loc[key]==B and test.C_purchase.loc[key]==C and test.D_purchase.loc[key]==D\\\n",
      "            and test.E_purchase.loc[key]==E and test.F_purchase.loc[key]==F and test.G_purchase.loc[key]==G:\n",
      "            correct += 1\n",
      "    \n",
      "    \n",
      "    res = float(correct)/float(len(test))\n",
      "    print(len(test))\n",
      "    print correct\n",
      "    print str(res)"
     ],
     "language": "python",
     "metadata": {},
     "outputs": [
      {
       "output_type": "stream",
       "stream": "stdout",
       "text": [
        "test with train set1\n",
        "97009"
       ]
      },
      {
       "output_type": "stream",
       "stream": "stdout",
       "text": [
        "\n",
        "51848\n",
        "0.5344658743\n",
        "test with train set2\n",
        "97009"
       ]
      },
      {
       "output_type": "stream",
       "stream": "stdout",
       "text": [
        "\n",
        "44478\n",
        "0.458493541836\n",
        "test with train set3\n",
        "91441"
       ]
      },
      {
       "output_type": "stream",
       "stream": "stdout",
       "text": [
        "\n",
        "50132\n",
        "0.548244223051\n",
        "test with train set4\n",
        "83440"
       ]
      },
      {
       "output_type": "stream",
       "stream": "stdout",
       "text": [
        "\n",
        "51147\n",
        "0.612979386385\n",
        "test with train set5\n",
        "72171"
       ]
      },
      {
       "output_type": "stream",
       "stream": "stdout",
       "text": [
        "\n",
        "47802\n",
        "0.662343600615\n",
        "test with train set6\n",
        "56548"
       ]
      },
      {
       "output_type": "stream",
       "stream": "stdout",
       "text": [
        "\n",
        "39596\n",
        "0.700219282733\n",
        "test with train set7\n",
        "37958"
       ]
      },
      {
       "output_type": "stream",
       "stream": "stdout",
       "text": [
        "\n",
        "27323\n",
        "0.719821908425\n",
        "test with train set8\n",
        "20710"
       ]
      },
      {
       "output_type": "stream",
       "stream": "stdout",
       "text": [
        "\n",
        "14923\n",
        "0.720569773056\n",
        "test with train set9\n",
        "8725"
       ]
      },
      {
       "output_type": "stream",
       "stream": "stdout",
       "text": [
        "\n",
        "6482\n",
        "0.742922636103\n",
        "test with train set10\n",
        "2654"
       ]
      },
      {
       "output_type": "stream",
       "stream": "stdout",
       "text": [
        "\n",
        "2046\n",
        "0.770911831198\n",
        "test with train set11\n",
        "525"
       ]
      },
      {
       "output_type": "stream",
       "stream": "stdout",
       "text": [
        "\n",
        "418\n",
        "0.79619047619\n",
        "test with train set12\n",
        "50"
       ]
      },
      {
       "output_type": "stream",
       "stream": "stdout",
       "text": [
        "\n",
        "35\n",
        "0.7\n"
       ]
      }
     ],
     "prompt_number": 16
    },
    {
     "cell_type": "code",
     "collapsed": false,
     "input": [
      "total_offers_count={}\n",
      "for key, row in test_2.iterrows():\n",
      "    total_offers=int(row['total_offers'])\n",
      "    if not total_offers_count.has_key(total_offers):\n",
      "        total_offers_count[total_offers]=1\n",
      "    else:\n",
      "        total_offers_count[total_offers]+=1"
     ],
     "language": "python",
     "metadata": {},
     "outputs": [],
     "prompt_number": 25
    },
    {
     "cell_type": "code",
     "collapsed": false,
     "input": [
      "import pylab as pl\n",
      "print total_offers_count.values()\n",
      "pl.plot(total_offers_count.keys(), total_offers_count.values())"
     ],
     "language": "python",
     "metadata": {},
     "outputs": [
      {
       "output_type": "stream",
       "stream": "stdout",
       "text": [
        "[18943, 13298, 9251, 6528, 4203, 2175, 959, 281, 70, 8]\n"
       ]
      },
      {
       "metadata": {},
       "output_type": "pyout",
       "prompt_number": 27,
       "text": [
        "[<matplotlib.lines.Line2D at 0x1419d6dd0>]"
       ]
      },
      {
       "metadata": {},
       "output_type": "display_data",
       "png": "[encoded data removed]",
       "text": [
        "<matplotlib.figure.Figure at 0x11a965710>"
       ]
      }
     ],
     "prompt_number": 27
    },
    {
     "cell_type": "code",
     "collapsed": false,
     "input": [],
     "language": "python",
     "metadata": {},
     "outputs": []
    }
   ],
   "metadata": {}
  }
 ]
}