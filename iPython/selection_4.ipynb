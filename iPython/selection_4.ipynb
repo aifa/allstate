{
 "metadata": {
  "name": ""
 },
 "nbformat": 3,
 "nbformat_minor": 0,
 "worksheets": [
  {
   "cells": [
    {
     "cell_type": "code",
     "collapsed": false,
     "input": [
      "__author__ = 'aifa'\n",
      "\n",
      "import os\n",
      "import pandas as pd\n",
      "import numpy as np\n",
      "import pylab as pl\n",
      "\n",
      "from sklearn import clone\n",
      "\n",
      "from sklearn.ensemble.weight_boosting import AdaBoostClassifier\n",
      "from sklearn.ensemble.forest import (RandomForestClassifier,RandomForestRegressor,\n",
      "                                        ExtraTreesClassifier)\n",
      "\n",
      "from sklearn.linear_model import LogisticRegression\n",
      "from sklearn import svm\n",
      "\n",
      "import math as math\n",
      "from sklearn.externals.six.moves import xrange\n",
      "from sklearn.tree import DecisionTreeClassifier\n",
      "\n",
      "from sklearn.svm import SVR\n",
      "from sklearn.cross_validation import StratifiedKFold\n",
      "\n",
      "from sklearn.feature_selection import RFE\n",
      "from sklearn.pipeline import Pipeline\n",
      "\n",
      "train_sets={}\n",
      "train_1 = pd.read_csv(\"/Users/aifa/Dropbox/kaggle/insurance/future/train_all_split_1.csv\", header=0, encoding=\"UTF-8\", error_bad_lines=False, sep=\",\", index_col=0)\n",
      "train_sets[1]=train_1\n",
      "train_2 = pd.read_csv(\"/Users/aifa/Dropbox/kaggle/insurance/future/train_all_split_2.csv\", header=0, encoding=\"UTF-8\", error_bad_lines=False, sep=\",\", index_col=0)\n",
      "train_sets[2]=train_2\n",
      "train_3 = pd.read_csv(\"/Users/aifa/Dropbox/kaggle/insurance/future/train_all_split_3.csv\", header=0, encoding=\"UTF-8\", error_bad_lines=False, sep=\",\", index_col=0)\n",
      "train_sets[3]=train_3\n",
      "train_4 = pd.read_csv(\"/Users/aifa/Dropbox/kaggle/insurance/future/train_all_split_4.csv\", header=0, encoding=\"UTF-8\", error_bad_lines=False, sep=\",\", index_col=0)\n",
      "train_sets[4]=train_4\n",
      "train_5 = pd.read_csv(\"/Users/aifa/Dropbox/kaggle/insurance/future/train_all_split_5.csv\", header=0, encoding=\"UTF-8\", error_bad_lines=False, sep=\",\", index_col=0)\n",
      "train_sets[5]=train_5\n",
      "train_6 = pd.read_csv(\"/Users/aifa/Dropbox/kaggle/insurance/future/train_all_split_6.csv\", header=0, encoding=\"UTF-8\", error_bad_lines=False, sep=\",\", index_col=0)\n",
      "train_sets[6]=train_6\n",
      "train_7 = pd.read_csv(\"/Users/aifa/Dropbox/kaggle/insurance/future/train_all_split_7.csv\", header=0, encoding=\"UTF-8\", error_bad_lines=False, sep=\",\", index_col=0)\n",
      "train_sets[7]=train_7\n",
      "train_8 = pd.read_csv(\"/Users/aifa/Dropbox/kaggle/insurance/future/train_all_split_8.csv\", header=0, encoding=\"UTF-8\", error_bad_lines=False, sep=\",\", index_col=0)\n",
      "train_sets[8]=train_8\n",
      "train_9 = pd.read_csv(\"/Users/aifa/Dropbox/kaggle/insurance/future/train_all_split_9.csv\", header=0, encoding=\"UTF-8\", error_bad_lines=False, sep=\",\", index_col=0)\n",
      "train_sets[9]=train_9\n",
      "train_10 = pd.read_csv(\"/Users/aifa/Dropbox/kaggle/insurance/future/train_all_split_10.csv\", header=0, encoding=\"UTF-8\", error_bad_lines=False, sep=\",\", index_col=0)\n",
      "train_sets[10]=train_10\n",
      "train_11 = pd.read_csv(\"/Users/aifa/Dropbox/kaggle/insurance/future/train_all_split_11.csv\", header=0, encoding=\"UTF-8\", error_bad_lines=False, sep=\",\", index_col=0)\n",
      "train_sets[11]=train_11\n",
      "train_12 = pd.read_csv(\"/Users/aifa/Dropbox/kaggle/insurance/future/train_all_split_12.csv\", header=0, encoding=\"UTF-8\", error_bad_lines=False, sep=\",\", index_col=0)\n",
      "train_sets[12]=train_12\n",
      "\n",
      "test_2 = pd.read_csv(\"/Users/aifa/Dropbox/kaggle/insurance/future/test_v2_all_future.csv\", header=0, encoding=\"UTF-8\", error_bad_lines=False, sep=\",\", index_col=0)\n",
      "\n",
      "\n",
      "results_df = pd.DataFrame(index=test_2.index)\n",
      "resultCol = pd.Series(index=test_2.index,dtype=object)\n",
      "\n",
      "#try random forest on feature A\n",
      "n_estimators = 100\n",
      "\n",
      "rfcModel = RandomForestClassifier(n_estimators=n_estimators, max_features=None)\n",
      "rfrmodel = RandomForestRegressor(n_estimators=n_estimators)\n",
      "lr = LogisticRegression()\n",
      "\n",
      "\n",
      "#svr =  SVR(C=1.0, epsilon=0.2)\n",
      "#C = 10.0  # SVM regularization parameter\n",
      "#svc = svm.SVC(kernel='linear', C=C)\n",
      "#rbf_svc = svm.SVC(kernel='rbf', gamma=0.7, C=C)\n",
      "#poly_svc = svm.SVC(kernel='poly', degree=3, C=C)\n",
      "\n",
      "def cleanup(df):\n",
      "\n",
      "    #find columns that contain null values\n",
      "    inds = pd.isnull(df).any(0).nonzero()\n",
      "\n",
      "    df['car_value'] = df['car_value'].fillna('0')\n",
      "    df['car_value']=df['car_value'].apply(lambda letter :  abs(ord(letter) - 96))\n",
      "    df['state']=df['state'].apply(lambda letter :  abs(ord(letter[0]) - 96 + ord(letter[1]) - 96))\n",
      "\n",
      "    #remove product feature\n",
      "    #df=df.drop(['product'], axis=1)\n",
      "    #df=df.drop(['state'], axis=1)\n",
      "    #df=df.drop(['location'], axis=1)\n",
      "    df=df.drop(['time'], axis=1)\n",
      "\n",
      "    #impute the null values\n",
      "    df['risk_factor'] = df['risk_factor'].fillna(0)\n",
      "    df['C_previous'] = df['C_previous'].fillna(0)\n",
      "    df['duration_previous'] = df['duration_previous'].fillna(0)\n",
      "    df['location'] = df['location'].fillna(0)\n",
      "\n",
      "    df['A_var'] = df['A_var'].fillna(0)\n",
      "    df['B_var'] = df['B_var'].fillna(0)\n",
      "    df['C_var'] = df['C_var'].fillna(0)\n",
      "    df['D_var'] = df['D_var'].fillna(0)\n",
      "    df['E_var'] = df['E_var'].fillna(0)\n",
      "    df['F_var'] = df['F_var'].fillna(0)\n",
      "    df['G_var'] = df['G_var'].fillna(0)\n",
      "    df['cost_var'] = df['cost_var'].fillna(0)\n",
      "    #drop any other rows that might contain null values (at this point only lines with empty key cols should be removed from the training sets)\n",
      "    df=df.dropna()\n",
      "\n",
      "    return df\n",
      "\n",
      "def cleanup_test(df):\n",
      "\n",
      "    #find columns that contain null values\n",
      "    inds = pd.isnull(df).any(0).nonzero()\n",
      "\n",
      "    df['car_value'] = df['car_value'].fillna('0')\n",
      "    df['car_value']=df['car_value'].apply(lambda letter :  abs(ord(letter) - 96))\n",
      "    df['state']=df['state'].apply(lambda letter :  abs(ord(letter[0]) - 96 + ord(letter[1]) - 96))\n",
      "\n",
      "    #remove product feature\n",
      "    #df=df.drop(['product'], axis=1)\n",
      "    #df=df.drop(['state'], axis=1)\n",
      "    #df=df.drop(['location'], axis=1)\n",
      "    df=df.drop(['time'], axis=1)\n",
      "    \n",
      "    #impute the null values\n",
      "    df['risk_factor'] = df['risk_factor'].fillna(0)\n",
      "    df['C_previous'] = df['C_previous'].fillna(0)\n",
      "    df['duration_previous'] = df['duration_previous'].fillna(0)\n",
      "    df['location'] = df['location'].fillna(0)\n",
      "\n",
      "    df['A_var'] = df['A_var'].fillna(0)\n",
      "    df['B_var'] = df['B_var'].fillna(0)\n",
      "    df['C_var'] = df['C_var'].fillna(0)\n",
      "    df['D_var'] = df['D_var'].fillna(0)\n",
      "    df['E_var'] = df['E_var'].fillna(0)\n",
      "    df['F_var'] = df['F_var'].fillna(0)\n",
      "    df['G_var'] = df['G_var'].fillna(0)\n",
      "    df['cost_var'] = df['cost_var'].fillna(0)\n",
      "\n",
      "    return df\n",
      "\n",
      "def train_model(train_df, select_model, model, feature_number=1, yName='A_purchase'):\n",
      "    input_df = train_df.copy(deep=True)\n",
      "    y = input_df[yName].values\n",
      "    \n",
      "    input_df=input_df.drop(['total_offers'], axis=1)\n",
      "    input_df=input_df.drop(['A_purchase'], axis=1)\n",
      "    input_df=input_df.drop(['B_purchase'], axis=1)\n",
      "    input_df=input_df.drop(['C_purchase'], axis=1)\n",
      "    input_df=input_df.drop(['D_purchase'], axis=1)\n",
      "    input_df=input_df.drop(['E_purchase'], axis=1)\n",
      "    input_df=input_df.drop(['F_purchase'], axis=1)\n",
      "    input_df=input_df.drop(['G_purchase'], axis=1)\n",
      "\n",
      "    #if (yName=='G_purchase'):\n",
      "    #    input_df=input_df.drop(['C_previous'], axis=1)\n",
      "\n",
      "\n",
      "    X = input_df.values\n",
      "\n",
      "    skf=StratifiedKFold(y, n_folds=3 )\n",
      "\n",
      "    best_model=None\n",
      "    best_model_score=0\n",
      "    for train_index, test_index in skf:\n",
      "        #print(\"TRAIN:\", train_index, \"TEST:\", test_index)\n",
      "        X_train, X_test = X[train_index], X[test_index]\n",
      "        y_train, y_test = y[train_index], y[test_index]\n",
      "        \n",
      "        selector = RFE(select_model, step=1, n_features_to_select=feature_number)\n",
      "        clf = clone(model)\n",
      "        pipeline = Pipeline([('rfe', selector), ('lr', clf)])\n",
      "        pipeline = pipeline.fit(X_train, y_train)\n",
      "\n",
      "        print \"score:\"+ yName +\":\"+str(pipeline.score(X_test,y_test))\n",
      "\n",
      "        if best_model==None or best_model_score<pipeline.score(X_test, y_test):\n",
      "            best_model=pipeline\n",
      "            best_model_score=pipeline.score(X_test, y_test)\n",
      "        break\n",
      "\n",
      "    trained_model = best_model\n",
      "    \n",
      "    idx=0\n",
      "    for i in input_df.columns:\n",
      "        if (selector.support_[idx]==False):\n",
      "            input_df=input_df.drop([i], axis=1)\n",
      "        idx += 1\n",
      "    \n",
      "    print input_df.columns\n",
      "    return trained_model, best_model_score\n",
      "\n",
      "def predict(test_2_df, model, prodStr='A_purchase'):\n",
      "\n",
      "    test_df = test_2_df.copy(deep=True)\n",
      "    test_y = test_df[prodStr]\n",
      "\n",
      "    if prodStr=='total_offers':\n",
      "        test_df=test_df.drop([prodStr])\n",
      "    else:\n",
      "        test_df=test_df.drop(['A_purchase'])\n",
      "        test_df=test_df.drop(['B_purchase'])\n",
      "        test_df=test_df.drop(['C_purchase'])\n",
      "        test_df=test_df.drop(['D_purchase'])\n",
      "        test_df=test_df.drop(['E_purchase'])\n",
      "        test_df=test_df.drop(['F_purchase'])\n",
      "        test_df=test_df.drop(['G_purchase'])\n",
      "\n",
      "    if (prodStr=='G_purchase'):\n",
      "        test_df=test_df.drop(['C_previous'])\n",
      "\n",
      "    test_X = test_df.values\n",
      "\n",
      "    prediction = model.predict(test_X)\n",
      "\n",
      "    #print prodStr +\":\"+str(prediction)\n",
      "\n",
      "    return prediction\n",
      "\n",
      "\n",
      "\n",
      "modelADict={}\n",
      "modelBDict={}\n",
      "modelCDict={}\n",
      "modelDDict={}\n",
      "modelEDict={}\n",
      "modelFDict={}\n",
      "modelGDict={}\n",
      "\n",
      "modelAScores={}\n",
      "modelBScores={}\n",
      "modelCScores={}\n",
      "modelDScores={}\n",
      "modelEScores={}\n",
      "modelFScores={}\n",
      "modelGScores={}\n",
      "\n",
      "\n",
      "train = cleanup(train_sets[4])\n",
      "print \"Number of offers:\" + str(4)\n",
      "print len(train.columns)\n",
      "for feat in range(1,49):\n",
      "    print \"Number of features:\" + str(feat)\n",
      "\n",
      "\n",
      "    modelADict[feat], modelAScores[feat] = train_model(train, lr, lr, feature_number=feat)\n",
      "    modelBDict[feat], modelBScores[feat] = train_model(train, lr, lr, feature_number=feat, yName='B_purchase')\n",
      "    modelCDict[feat], modelCScores[feat] = train_model(train, lr, lr, feature_number=feat, yName='C_purchase')\n",
      "    modelDDict[feat], modelDScores[feat] = train_model(train, lr, lr, feature_number=feat, yName='D_purchase')\n",
      "    modelEDict[feat], modelEScores[feat] = train_model(train, lr, lr, feature_number=feat, yName='E_purchase')\n",
      "    modelFDict[feat], modelFScores[feat] = train_model(train, lr, lr, feature_number=feat, yName='F_purchase')\n",
      "    modelGDict[feat], modelGScores[feat] = train_model(train, lr, lr, feature_number=feat, yName='G_purchase')"
     ],
     "language": "python",
     "metadata": {},
     "outputs": [
      {
       "output_type": "stream",
       "stream": "stdout",
       "text": [
        "Number of offers:4\n",
        "55\n",
        "Number of features:1\n",
        "score:A_purchase:0.902531099446"
       ]
      },
      {
       "output_type": "stream",
       "stream": "stdout",
       "text": [
        "\n",
        "Index([u'A'], dtype='object')"
       ]
      },
      {
       "output_type": "stream",
       "stream": "stdout",
       "text": [
        "\n",
        "score:B_purchase:0.91101603509"
       ]
      },
      {
       "output_type": "stream",
       "stream": "stdout",
       "text": [
        "\n",
        "Index([u'B'], dtype='object')"
       ]
      },
      {
       "output_type": "stream",
       "stream": "stdout",
       "text": [
        "\n",
        "score:C_purchase:0.732005464874"
       ]
      },
      {
       "output_type": "stream",
       "stream": "stdout",
       "text": [
        "\n",
        "Index([u'C'], dtype='object')"
       ]
      },
      {
       "output_type": "stream",
       "stream": "stdout",
       "text": [
        "\n",
        "score:D_purchase:0.92784209391"
       ]
      },
      {
       "output_type": "stream",
       "stream": "stdout",
       "text": [
        "\n",
        "Index([u'D'], dtype='object')"
       ]
      },
      {
       "output_type": "stream",
       "stream": "stdout",
       "text": [
        "\n",
        "score:E_purchase:0.916444955778"
       ]
      },
      {
       "output_type": "stream",
       "stream": "stdout",
       "text": [
        "\n",
        "Index([u'E'], dtype='object')"
       ]
      },
      {
       "output_type": "stream",
       "stream": "stdout",
       "text": [
        "\n",
        "score:F_purchase:0.863737686057"
       ]
      },
      {
       "output_type": "stream",
       "stream": "stdout",
       "text": [
        "\n",
        "Index([u'F'], dtype='object')"
       ]
      },
      {
       "output_type": "stream",
       "stream": "stdout",
       "text": [
        "\n",
        "score:G_purchase:0.77849284533"
       ]
      },
      {
       "output_type": "stream",
       "stream": "stdout",
       "text": [
        "\n",
        "Index([u'G'], dtype='object')"
       ]
      },
      {
       "output_type": "stream",
       "stream": "stdout",
       "text": [
        "\n",
        "Number of features:2\n",
        "score:A_purchase:0.842633206299"
       ]
      },
      {
       "output_type": "stream",
       "stream": "stdout",
       "text": [
        "\n",
        "Index([u'A', u'A_var'], dtype='object')"
       ]
      },
      {
       "output_type": "stream",
       "stream": "stdout",
       "text": [
        "\n",
        "score:B_purchase:0.91101603509"
       ]
      },
      {
       "output_type": "stream",
       "stream": "stdout",
       "text": [
        "\n",
        "Index([u'B', u'E_var'], dtype='object')"
       ]
      },
      {
       "output_type": "stream",
       "stream": "stdout",
       "text": [
        "\n",
        "score:C_purchase:0.732005464874"
       ]
      },
      {
       "output_type": "stream",
       "stream": "stdout",
       "text": [
        "\n",
        "Index([u'shopping_pt', u'C'], dtype='object')"
       ]
      },
      {
       "output_type": "stream",
       "stream": "stdout",
       "text": [
        "\n",
        "score:D_purchase:0.926655641044"
       ]
      },
      {
       "output_type": "stream",
       "stream": "stdout",
       "text": [
        "\n",
        "Index([u'D', u'D_var'], dtype='object')"
       ]
      },
      {
       "output_type": "stream",
       "stream": "stdout",
       "text": [
        "\n",
        "score:E_purchase:0.916444955778"
       ]
      },
      {
       "output_type": "stream",
       "stream": "stdout",
       "text": [
        "\n",
        "Index([u'shopping_pt', u'E'], dtype='object')"
       ]
      },
      {
       "output_type": "stream",
       "stream": "stdout",
       "text": [
        "\n",
        "score:F_purchase:0.866542029194"
       ]
      },
      {
       "output_type": "stream",
       "stream": "stdout",
       "text": [
        "\n",
        "Index([u'F', u'A_var'], dtype='object')"
       ]
      },
      {
       "output_type": "stream",
       "stream": "stdout",
       "text": [
        "\n",
        "score:G_purchase:0.77849284533"
       ]
      },
      {
       "output_type": "stream",
       "stream": "stdout",
       "text": [
        "\n",
        "Index([u'shopping_pt', u'G'], dtype='object')"
       ]
      },
      {
       "output_type": "stream",
       "stream": "stdout",
       "text": [
        "\n",
        "Number of features:3\n",
        "score:A_purchase:0.894333788739"
       ]
      },
      {
       "output_type": "stream",
       "stream": "stdout",
       "text": [
        "\n",
        "Index([u'A', u'A_var', u'B_var'], dtype='object')"
       ]
      },
      {
       "output_type": "stream",
       "stream": "stdout",
       "text": [
        "\n",
        "score:B_purchase:0.91101603509"
       ]
      },
      {
       "output_type": "stream",
       "stream": "stdout",
       "text": [
        "\n",
        "Index([u'shopping_pt', u'B', u'E_var'], dtype='object')"
       ]
      },
      {
       "output_type": "stream",
       "stream": "stdout",
       "text": [
        "\n",
        "score:C_purchase:0.731969511757"
       ]
      },
      {
       "output_type": "stream",
       "stream": "stdout",
       "text": [
        "\n",
        "Index([u'shopping_pt', u'C', u'C_var'], dtype='object')"
       ]
      },
      {
       "output_type": "stream",
       "stream": "stdout",
       "text": [
        "\n",
        "score:D_purchase:0.916732580715"
       ]
      },
      {
       "output_type": "stream",
       "stream": "stdout",
       "text": [
        "\n",
        "Index([u'D', u'D_change', u'D_var'], dtype='object')"
       ]
      },
      {
       "output_type": "stream",
       "stream": "stdout",
       "text": [
        "\n",
        "score:E_purchase:0.916444955778"
       ]
      },
      {
       "output_type": "stream",
       "stream": "stdout",
       "text": [
        "\n",
        "Index([u'shopping_pt', u'E', u'A_var'], dtype='object')"
       ]
      },
      {
       "output_type": "stream",
       "stream": "stdout",
       "text": [
        "\n",
        "score:F_purchase:0.866542029194"
       ]
      },
      {
       "output_type": "stream",
       "stream": "stdout",
       "text": [
        "\n",
        "Index([u'shopping_pt', u'F', u'A_var'], dtype='object')"
       ]
      },
      {
       "output_type": "stream",
       "stream": "stdout",
       "text": [
        "\n",
        "score:G_purchase:0.781405047818"
       ]
      },
      {
       "output_type": "stream",
       "stream": "stdout",
       "text": [
        "\n",
        "Index([u'shopping_pt', u'G', u'G_var'], dtype='object')"
       ]
      },
      {
       "output_type": "stream",
       "stream": "stdout",
       "text": [
        "\n",
        "Number of features:4\n",
        "score:A_purchase:0.894333788739"
       ]
      },
      {
       "output_type": "stream",
       "stream": "stdout",
       "text": [
        "\n",
        "Index([u'shopping_pt', u'A', u'A_var', u'B_var'], dtype='object')"
       ]
      },
      {
       "output_type": "stream",
       "stream": "stdout",
       "text": [
        "\n",
        "score:B_purchase:0.91101603509"
       ]
      },
      {
       "output_type": "stream",
       "stream": "stdout",
       "text": [
        "\n",
        "Index([u'shopping_pt', u'B', u'E_init', u'E_var'], dtype='object')"
       ]
      },
      {
       "output_type": "stream",
       "stream": "stdout",
       "text": [
        "\n",
        "score:C_purchase:0.767131660315"
       ]
      },
      {
       "output_type": "stream",
       "stream": "stdout",
       "text": [
        "\n",
        "Index([u'shopping_pt', u'C', u'C_change', u'C_var'], dtype='object')"
       ]
      },
      {
       "output_type": "stream",
       "stream": "stdout",
       "text": [
        "\n",
        "score:D_purchase:0.917128065003"
       ]
      },
      {
       "output_type": "stream",
       "stream": "stdout",
       "text": [
        "\n",
        "Index([u'shopping_pt', u'D', u'D_change', u'D_var'], dtype='object')"
       ]
      },
      {
       "output_type": "stream",
       "stream": "stdout",
       "text": [
        "\n",
        "score:E_purchase:0.916444955778"
       ]
      },
      {
       "output_type": "stream",
       "stream": "stdout",
       "text": [
        "\n",
        "Index([u'shopping_pt', u'A', u'E', u'A_var'], dtype='object')"
       ]
      },
      {
       "output_type": "stream",
       "stream": "stdout",
       "text": [
        "\n",
        "score:F_purchase:0.826166678651"
       ]
      },
      {
       "output_type": "stream",
       "stream": "stdout",
       "text": [
        "\n",
        "Index([u'shopping_pt', u'F', u'A_var', u'F_var'], dtype='object')"
       ]
      },
      {
       "output_type": "stream",
       "stream": "stdout",
       "text": [
        "\n",
        "score:G_purchase:0.781548860286"
       ]
      },
      {
       "output_type": "stream",
       "stream": "stdout",
       "text": [
        "\n",
        "Index([u'shopping_pt', u'G', u'A_var', u'G_var'], dtype='object')"
       ]
      },
      {
       "output_type": "stream",
       "stream": "stdout",
       "text": [
        "\n",
        "Number of features:5\n",
        "score:A_purchase:0.868375638168"
       ]
      },
      {
       "output_type": "stream",
       "stream": "stdout",
       "text": [
        "\n",
        "Index([u'shopping_pt', u'A', u'E', u'A_var', u'B_var'], dtype='object')"
       ]
      },
      {
       "output_type": "stream",
       "stream": "stdout",
       "text": [
        "\n",
        "score:B_purchase:0.91101603509"
       ]
      },
      {
       "output_type": "stream",
       "stream": "stdout",
       "text": [
        "\n",
        "Index([u'shopping_pt', u'B', u'E_init', u'B_var', u'E_var'], dtype='object')"
       ]
      },
      {
       "output_type": "stream",
       "stream": "stdout",
       "text": [
        "\n",
        "score:C_purchase:0.766664269792"
       ]
      },
      {
       "output_type": "stream",
       "stream": "stdout",
       "text": [
        "\n",
        "Index([u'shopping_pt', u'C', u'C_change', u'C_var', u'D_var'], dtype='object')"
       ]
      },
      {
       "output_type": "stream",
       "stream": "stdout",
       "text": [
        "\n",
        "score:D_purchase:0.883188322428"
       ]
      },
      {
       "output_type": "stream",
       "stream": "stdout",
       "text": [
        "\n",
        "Index([u'shopping_pt', u'C_previous', u'D', u'D_change', u'D_var'], dtype='object')"
       ]
      },
      {
       "output_type": "stream",
       "stream": "stdout",
       "text": [
        "\n",
        "score:E_purchase:0.916444955778"
       ]
      },
      {
       "output_type": "stream",
       "stream": "stdout",
       "text": [
        "\n",
        "Index([u'shopping_pt', u'A', u'E', u'A_var', u'E_var'], dtype='object')"
       ]
      },
      {
       "output_type": "stream",
       "stream": "stdout",
       "text": [
        "\n",
        "score:F_purchase:0.745559790034"
       ]
      },
      {
       "output_type": "stream",
       "stream": "stdout",
       "text": [
        "\n",
        "Index([u'shopping_pt', u'F', u'F_change', u'A_var', u'F_var'], dtype='object')"
       ]
      },
      {
       "output_type": "stream",
       "stream": "stdout",
       "text": [
        "\n",
        "score:G_purchase:0.778960235852"
       ]
      },
      {
       "output_type": "stream",
       "stream": "stdout",
       "text": [
        "\n",
        "Index([u'shopping_pt', u'G', u'G_change', u'A_var', u'G_var'], dtype='object')"
       ]
      },
      {
       "output_type": "stream",
       "stream": "stdout",
       "text": [
        "\n",
        "Number of features:6\n",
        "score:A_purchase:0.878298698497"
       ]
      },
      {
       "output_type": "stream",
       "stream": "stdout",
       "text": [
        "\n",
        "Index([u'shopping_pt', u'A', u'E', u'F', u'A_var', u'B_var'], dtype='object')"
       ]
      },
      {
       "output_type": "stream",
       "stream": "stdout",
       "text": [
        "\n",
        "score:B_purchase:0.91101603509"
       ]
      },
      {
       "output_type": "stream",
       "stream": "stdout",
       "text": [
        "\n",
        "Index([u'shopping_pt', u'B', u'E_init', u'B_change', u'B_var', u'E_var'], dtype='object')"
       ]
      },
      {
       "output_type": "stream",
       "stream": "stdout",
       "text": [
        "\n",
        "score:C_purchase:0.767527144603"
       ]
      },
      {
       "output_type": "stream",
       "stream": "stdout",
       "text": [
        "\n",
        "Index([u'shopping_pt', u'C', u'D', u'C_change', u'C_var', u'D_var'], dtype='object')"
       ]
      },
      {
       "output_type": "stream",
       "stream": "stdout",
       "text": [
        "\n",
        "score:D_purchase:0.864061264112"
       ]
      },
      {
       "output_type": "stream",
       "stream": "stdout",
       "text": [
        "\n",
        "Index([u'shopping_pt', u'homeowner', u'C_previous', u'D', u'D_change', u'D_var'], dtype='object')"
       ]
      },
      {
       "output_type": "stream",
       "stream": "stdout",
       "text": [
        "\n",
        "score:E_purchase:0.916444955778"
       ]
      },
      {
       "output_type": "stream",
       "stream": "stdout",
       "text": [
        "\n",
        "Index([u'shopping_pt', u'A', u'E', u'E_change', u'A_var', u'E_var'], dtype='object')"
       ]
      },
      {
       "output_type": "stream",
       "stream": "stdout",
       "text": [
        "\n",
        "score:F_purchase:0.84601279931"
       ]
      },
      {
       "output_type": "stream",
       "stream": "stdout",
       "text": [
        "\n",
        "Index([u'shopping_pt', u'A', u'F', u'F_change', u'A_var', u'F_var'], dtype='object')"
       ]
      },
      {
       "output_type": "stream",
       "stream": "stdout",
       "text": [
        "\n",
        "score:G_purchase:0.751528007478"
       ]
      },
      {
       "output_type": "stream",
       "stream": "stdout",
       "text": [
        "\n",
        "Index([u'shopping_pt', u'G', u'F_init', u'G_change', u'A_var', u'G_var'], dtype='object')"
       ]
      },
      {
       "output_type": "stream",
       "stream": "stdout",
       "text": [
        "\n",
        "Number of features:7\n",
        "score:A_purchase:0.875925792766"
       ]
      },
      {
       "output_type": "stream",
       "stream": "stdout",
       "text": [
        "\n",
        "Index([u'shopping_pt', u'A', u'E', u'F', u'A_init', u'A_var', u'B_var'], dtype='object')"
       ]
      },
      {
       "output_type": "stream",
       "stream": "stdout",
       "text": [
        "\n",
        "score:B_purchase:0.91101603509"
       ]
      },
      {
       "output_type": "stream",
       "stream": "stdout",
       "text": [
        "\n",
        "Index([u'shopping_pt', u'B', u'E_init', u'B_change', u'B_var', u'E_var', u'G_var'], dtype='object')"
       ]
      },
      {
       "output_type": "stream",
       "stream": "stdout",
       "text": [
        "\n",
        "score:C_purchase:0.793197670238"
       ]
      },
      {
       "output_type": "stream",
       "stream": "stdout",
       "text": [
        "\n",
        "Index([u'shopping_pt', u'homeowner', u'C', u'D', u'C_change', u'C_var', u'D_var'], dtype='object')"
       ]
      },
      {
       "output_type": "stream",
       "stream": "stdout",
       "text": [
        "\n",
        "score:D_purchase:0.86470842022"
       ]
      },
      {
       "output_type": "stream",
       "stream": "stdout",
       "text": [
        "\n",
        "Index([u'shopping_pt', u'homeowner', u'C_previous', u'D', u'D_init', u'D_change', u'D_var'], dtype='object')"
       ]
      },
      {
       "output_type": "stream",
       "stream": "stdout",
       "text": [
        "\n",
        "score:E_purchase:0.916444955778"
       ]
      },
      {
       "output_type": "stream",
       "stream": "stdout",
       "text": [
        "\n",
        "Index([u'shopping_pt', u'homeowner', u'A', u'E', u'E_change', u'A_var', u'E_var'], dtype='object')"
       ]
      },
      {
       "output_type": "stream",
       "stream": "stdout",
       "text": [
        "\n",
        "score:F_purchase:0.850938376357"
       ]
      },
      {
       "output_type": "stream",
       "stream": "stdout",
       "text": [
        "\n",
        "Index([u'shopping_pt', u'A', u'F', u'A_init', u'F_change', u'A_var', u'F_var'], dtype='object')"
       ]
      },
      {
       "output_type": "stream",
       "stream": "stdout",
       "text": [
        "\n",
        "score:G_purchase:0.745020493277"
       ]
      },
      {
       "output_type": "stream",
       "stream": "stdout",
       "text": [
        "\n",
        "Index([u'shopping_pt', u'E', u'G', u'F_init', u'G_change', u'A_var', u'G_var'], dtype='object')"
       ]
      },
      {
       "output_type": "stream",
       "stream": "stdout",
       "text": [
        "\n",
        "Number of features:8\n",
        "score:A_purchase:0.880923276048"
       ]
      },
      {
       "output_type": "stream",
       "stream": "stdout",
       "text": [
        "\n",
        "Index([u'shopping_pt', u'homeowner', u'A', u'E', u'F', u'A_init', u'A_var', u'B_var'], dtype='object')"
       ]
      },
      {
       "output_type": "stream",
       "stream": "stdout",
       "text": [
        "\n",
        "score:B_purchase:0.91101603509"
       ]
      },
      {
       "output_type": "stream",
       "stream": "stdout",
       "text": [
        "\n",
        "Index([u'shopping_pt', u'B', u'F', u'E_init', u'B_change', u'B_var', u'E_var', u'G_var'], dtype='object')"
       ]
      },
      {
       "output_type": "stream",
       "stream": "stdout",
       "text": [
        "\n",
        "score:C_purchase:0.788308046308"
       ]
      },
      {
       "output_type": "stream",
       "stream": "stdout",
       "text": [
        "\n",
        "Index([u'shopping_pt', u'homeowner', u'C_previous', u'C', u'D', u'C_change', u'C_var', u'D_var'], dtype='object')"
       ]
      },
      {
       "output_type": "stream",
       "stream": "stdout",
       "text": [
        "\n",
        "score:D_purchase:0.880779463579"
       ]
      },
      {
       "output_type": "stream",
       "stream": "stdout",
       "text": [
        "\n",
        "Index([u'shopping_pt', u'homeowner', u'C_previous', u'D', u'G', u'D_init', u'D_change', u'D_var'], dtype='object')"
       ]
      },
      {
       "output_type": "stream",
       "stream": "stdout",
       "text": [
        "\n",
        "score:E_purchase:0.916444955778"
       ]
      },
      {
       "output_type": "stream",
       "stream": "stdout",
       "text": [
        "\n",
        "Index([u'shopping_pt', u'homeowner', u'A', u'E', u'E_change', u'A_var', u'B_var', u'E_var'], dtype='object')"
       ]
      },
      {
       "output_type": "stream",
       "stream": "stdout",
       "text": [
        "\n",
        "score:F_purchase:0.840440066154"
       ]
      },
      {
       "output_type": "stream",
       "stream": "stdout",
       "text": [
        "\n",
        "Index([u'shopping_pt', u'A', u'F', u'A_init', u'F_init', u'F_change', u'A_var', u'F_var'], dtype='object')"
       ]
      },
      {
       "output_type": "stream",
       "stream": "stdout",
       "text": [
        "\n",
        "score:G_purchase:0.75062917955"
       ]
      },
      {
       "output_type": "stream",
       "stream": "stdout",
       "text": [
        "\n",
        "Index([u'shopping_pt', u'E', u'G', u'F_init', u'G_init', u'G_change', u'A_var', u'G_var'], dtype='object')"
       ]
      },
      {
       "output_type": "stream",
       "stream": "stdout",
       "text": [
        "\n",
        "Number of features:9\n",
        "score:A_purchase:0.877939167326"
       ]
      },
      {
       "output_type": "stream",
       "stream": "stdout",
       "text": [
        "\n",
        "Index([u'shopping_pt', u'homeowner', u'A', u'E', u'F', u'A_init', u'F_change', u'A_var', u'B_var'], dtype='object')"
       ]
      },
      {
       "output_type": "stream",
       "stream": "stdout",
       "text": [
        "\n",
        "score:B_purchase:0.91101603509"
       ]
      },
      {
       "output_type": "stream",
       "stream": "stdout",
       "text": [
        "\n",
        "Index([u'shopping_pt', u'B', u'F', u'E_init', u'B_change', u'B_var', u'C_var', u'E_var', u'G_var'], dtype='object')"
       ]
      },
      {
       "output_type": "stream",
       "stream": "stdout",
       "text": [
        "\n",
        "score:C_purchase:0.789602358524"
       ]
      },
      {
       "output_type": "stream",
       "stream": "stdout",
       "text": [
        "\n",
        "Index([u'shopping_pt', u'homeowner', u'C_previous', u'C', u'D', u'C_init', u'C_change', u'C_var', u'D_var'], dtype='object')"
       ]
      },
      {
       "output_type": "stream",
       "stream": "stdout",
       "text": [
        "\n",
        "score:D_purchase:0.882505213202"
       ]
      },
      {
       "output_type": "stream",
       "stream": "stdout",
       "text": [
        "\n",
        "Index([u'shopping_pt', u'homeowner', u'C_previous', u'D', u'G', u'D_init', u'C_change', u'D_change', u'D_var'], dtype='object')"
       ]
      },
      {
       "output_type": "stream",
       "stream": "stdout",
       "text": [
        "\n",
        "score:E_purchase:0.916444955778"
       ]
      },
      {
       "output_type": "stream",
       "stream": "stdout",
       "text": [
        "\n",
        "Index([u'shopping_pt', u'homeowner', u'A', u'E', u'B_init', u'E_change', u'A_var', u'B_var', u'E_var'], dtype='object')"
       ]
      },
      {
       "output_type": "stream",
       "stream": "stdout",
       "text": [
        "\n",
        "score:F_purchase:0.842345581362"
       ]
      },
      {
       "output_type": "stream",
       "stream": "stdout",
       "text": [
        "\n",
        "Index([u'shopping_pt', u'A', u'F', u'A_init', u'F_init', u'F_change', u'A_var', u'B_var', u'F_var'], dtype='object')"
       ]
      },
      {
       "output_type": "stream",
       "stream": "stdout",
       "text": [
        "\n",
        "score:G_purchase:0.74836413317"
       ]
      },
      {
       "output_type": "stream",
       "stream": "stdout",
       "text": [
        "\n",
        "Index([u'shopping_pt', u'E', u'G', u'F_init', u'G_init', u'G_change', u'A_var', u'C_var', u'G_var'], dtype='object')"
       ]
      },
      {
       "output_type": "stream",
       "stream": "stdout",
       "text": [
        "\n",
        "Number of features:10\n",
        "score:A_purchase:0.878802042137"
       ]
      },
      {
       "output_type": "stream",
       "stream": "stdout",
       "text": [
        "\n",
        "Index([u'shopping_pt', u'homeowner', u'A', u'E', u'F', u'A_init', u'A_change', u'F_change', u'A_var', u'B_var'], dtype='object')"
       ]
      },
      {
       "output_type": "stream",
       "stream": "stdout",
       "text": [
        "\n",
        "score:B_purchase:0.91101603509"
       ]
      },
      {
       "output_type": "stream",
       "stream": "stdout",
       "text": [
        "\n",
        "Index([u'shopping_pt', u'B', u'F', u'G', u'E_init', u'B_change', u'B_var', u'C_var', u'E_var', u'G_var'], dtype='object')"
       ]
      },
      {
       "output_type": "stream",
       "stream": "stdout",
       "text": [
        "\n",
        "score:C_purchase:0.790141655282"
       ]
      },
      {
       "output_type": "stream",
       "stream": "stdout",
       "text": [
        "\n",
        "Index([u'shopping_pt', u'homeowner', u'C_previous', u'C', u'D', u'C_init', u'C_change', u'D_change', u'C_var', u'D_var'], dtype='object')"
       ]
      },
      {
       "output_type": "stream",
       "stream": "stdout",
       "text": [
        "\n",
        "score:D_purchase:0.881210900985"
       ]
      },
      {
       "output_type": "stream",
       "stream": "stdout",
       "text": [
        "\n",
        "Index([u'shopping_pt', u'homeowner', u'C_previous', u'D', u'G', u'D_init', u'C_change', u'D_change', u'C_var', u'D_var'], dtype='object')"
       ]
      },
      {
       "output_type": "stream",
       "stream": "stdout",
       "text": [
        "\n",
        "score:E_purchase:0.916444955778"
       ]
      },
      {
       "output_type": "stream",
       "stream": "stdout",
       "text": [
        "\n",
        "Index([u'shopping_pt', u'homeowner', u'married_couple', u'A', u'E', u'B_init', u'E_change', u'A_var', u'B_var', u'E_var'], dtype='object')"
       ]
      },
      {
       "output_type": "stream",
       "stream": "stdout",
       "text": [
        "\n",
        "score:F_purchase:0.847918314518"
       ]
      },
      {
       "output_type": "stream",
       "stream": "stdout",
       "text": [
        "\n",
        "Index([u'shopping_pt', u'A', u'E', u'F', u'A_init', u'F_init', u'F_change', u'A_var', u'B_var', u'F_var'], dtype='object')"
       ]
      },
      {
       "output_type": "stream",
       "stream": "stdout",
       "text": [
        "\n",
        "score:G_purchase:0.744301430934"
       ]
      },
      {
       "output_type": "stream",
       "stream": "stdout",
       "text": [
        "\n",
        "Index([u'shopping_pt', u'E', u'G', u'F_init', u'G_init', u'G_change', u'A_var', u'C_var', u'E_var', u'G_var'], dtype='object')"
       ]
      },
      {
       "output_type": "stream",
       "stream": "stdout",
       "text": [
        "\n",
        "Number of features:11\n",
        "score:A_purchase:0.87700438628"
       ]
      },
      {
       "output_type": "stream",
       "stream": "stdout",
       "text": [
        "\n",
        "Index([u'shopping_pt', u'homeowner', u'A', u'C', u'E', u'F', u'A_init', u'A_change', u'F_change', u'A_var', u'B_var'], dtype='object')"
       ]
      },
      {
       "output_type": "stream",
       "stream": "stdout",
       "text": [
        "\n",
        "score:B_purchase:0.91101603509"
       ]
      },
      {
       "output_type": "stream",
       "stream": "stdout",
       "text": [
        "\n",
        "Index([u'shopping_pt', u'B', u'F', u'G', u'E_init', u'B_change', u'A_var', u'B_var', u'C_var', u'E_var', u'G_var'], dtype='object')"
       ]
      },
      {
       "output_type": "stream",
       "stream": "stdout",
       "text": [
        "\n",
        "score:C_purchase:0.790896670741"
       ]
      },
      {
       "output_type": "stream",
       "stream": "stdout",
       "text": [
        "\n",
        "Index([u'shopping_pt', u'homeowner', u'married_couple', u'C_previous', u'C', u'D', u'C_init', u'C_change', u'D_change', u'C_var', u'D_var'], dtype='object')"
       ]
      },
      {
       "output_type": "stream",
       "stream": "stdout",
       "text": [
        "\n",
        "score:D_purchase:0.878406557849"
       ]
      },
      {
       "output_type": "stream",
       "stream": "stdout",
       "text": [
        "\n",
        "Index([u'shopping_pt', u'homeowner', u'C_previous', u'D', u'E', u'G', u'D_init', u'C_change', u'D_change', u'C_var', u'D_var'], dtype='object')"
       ]
      },
      {
       "output_type": "stream",
       "stream": "stdout",
       "text": [
        "\n",
        "score:E_purchase:0.916444955778"
       ]
      },
      {
       "output_type": "stream",
       "stream": "stdout",
       "text": [
        "\n",
        "Index([u'shopping_pt', u'group_size', u'homeowner', u'married_couple', u'A', u'E', u'B_init', u'E_change', u'A_var', u'B_var', u'E_var'], dtype='object')"
       ]
      },
      {
       "output_type": "stream",
       "stream": "stdout",
       "text": [
        "\n",
        "score:F_purchase:0.848205939455"
       ]
      },
      {
       "output_type": "stream",
       "stream": "stdout",
       "text": [
        "\n",
        "Index([u'shopping_pt', u'A', u'E', u'F', u'A_init', u'F_init', u'A_change', u'F_change', u'A_var', u'B_var', u'F_var'], dtype='object')"
       ]
      },
      {
       "output_type": "stream",
       "stream": "stdout",
       "text": [
        "\n",
        "score:G_purchase:0.747501258359"
       ]
      },
      {
       "output_type": "stream",
       "stream": "stdout",
       "text": [
        "\n",
        "Index([u'shopping_pt', u'E', u'G', u'F_init', u'G_init', u'G_change', u'A_var', u'B_var', u'C_var', u'E_var', u'G_var'], dtype='object')"
       ]
      },
      {
       "output_type": "stream",
       "stream": "stdout",
       "text": [
        "\n",
        "Number of features:12\n",
        "score:A_purchase:0.877327964335"
       ]
      },
      {
       "output_type": "stream",
       "stream": "stdout",
       "text": [
        "\n",
        "Index([u'shopping_pt', u'homeowner', u'A', u'C', u'E', u'F', u'A_init', u'A_change', u'F_change', u'A_var', u'B_var', u'E_var'], dtype='object')"
       ]
      },
      {
       "output_type": "stream",
       "stream": "stdout",
       "text": [
        "\n",
        "score:B_purchase:0.91101603509"
       ]
      },
      {
       "output_type": "stream",
       "stream": "stdout",
       "text": [
        "\n",
        "Index([u'shopping_pt', u'B', u'E', u'F', u'G', u'E_init', u'B_change', u'A_var', u'B_var', u'C_var', u'E_var', u'G_var'], dtype='object')"
       ]
      },
      {
       "output_type": "stream",
       "stream": "stdout",
       "text": [
        "\n",
        "score:C_purchase:0.790932623858"
       ]
      },
      {
       "output_type": "stream",
       "stream": "stdout",
       "text": [
        "\n",
        "Index([u'shopping_pt', u'homeowner', u'married_couple', u'C_previous', u'C', u'D', u'C_init', u'C_change', u'D_change', u'B_var', u'C_var', u'D_var'], dtype='object')"
       ]
      },
      {
       "output_type": "stream",
       "stream": "stdout",
       "text": [
        "\n",
        "score:D_purchase:0.87901776084"
       ]
      },
      {
       "output_type": "stream",
       "stream": "stdout",
       "text": [
        "\n",
        "Index([u'shopping_pt', u'homeowner', u'C_previous', u'B', u'D', u'E', u'G', u'D_init', u'C_change', u'D_change', u'C_var', u'D_var'], dtype='object')"
       ]
      },
      {
       "output_type": "stream",
       "stream": "stdout",
       "text": [
        "\n",
        "score:E_purchase:0.916444955778"
       ]
      },
      {
       "output_type": "stream",
       "stream": "stdout",
       "text": [
        "\n",
        "Index([u'shopping_pt', u'group_size', u'homeowner', u'married_couple', u'A', u'E', u'A_init', u'B_init', u'E_change', u'A_var', u'B_var', u'E_var'], dtype='object')"
       ]
      },
      {
       "output_type": "stream",
       "stream": "stdout",
       "text": [
        "\n",
        "score:F_purchase:0.847990220752"
       ]
      },
      {
       "output_type": "stream",
       "stream": "stdout",
       "text": [
        "\n",
        "Index([u'shopping_pt', u'A', u'E', u'F', u'A_init', u'F_init', u'A_change', u'F_change', u'A_var', u'B_var', u'E_var', u'F_var'], dtype='object')"
       ]
      },
      {
       "output_type": "stream",
       "stream": "stdout",
       "text": [
        "\n",
        "score:G_purchase:0.74120946286"
       ]
      },
      {
       "output_type": "stream",
       "stream": "stdout",
       "text": [
        "\n",
        "Index([u'shopping_pt', u'C', u'E', u'G', u'F_init', u'G_init', u'G_change', u'A_var', u'B_var', u'C_var', u'E_var', u'G_var'], dtype='object')"
       ]
      },
      {
       "output_type": "stream",
       "stream": "stdout",
       "text": [
        "\n",
        "Number of features:13\n",
        "score:A_purchase:0.876177464586"
       ]
      },
      {
       "output_type": "stream",
       "stream": "stdout",
       "text": [
        "\n",
        "Index([u'shopping_pt', u'homeowner', u'A', u'C', u'E', u'F', u'A_init', u'E_init', u'A_change', u'F_change', u'A_var', u'B_var', u'E_var'], dtype='object')"
       ]
      },
      {
       "output_type": "stream",
       "stream": "stdout",
       "text": [
        "\n",
        "score:B_purchase:0.91101603509"
       ]
      },
      {
       "output_type": "stream",
       "stream": "stdout",
       "text": [
        "\n",
        "Index([u'shopping_pt', u'A', u'B', u'E', u'F', u'G', u'E_init', u'B_change', u'A_var', u'B_var', u'C_var', u'E_var', u'G_var'], dtype='object')"
       ]
      },
      {
       "output_type": "stream",
       "stream": "stdout",
       "text": [
        "\n",
        "score:C_purchase:0.791148342561"
       ]
      },
      {
       "output_type": "stream",
       "stream": "stdout",
       "text": [
        "\n",
        "Index([u'shopping_pt', u'homeowner', u'married_couple', u'C_previous', u'C', u'D', u'C_init', u'C_change', u'D_change', u'A_var', u'B_var', u'C_var', u'D_var'], dtype='object')"
       ]
      },
      {
       "output_type": "stream",
       "stream": "stdout",
       "text": [
        "\n",
        "score:D_purchase:0.880204213705"
       ]
      },
      {
       "output_type": "stream",
       "stream": "stdout",
       "text": [
        "\n",
        "Index([u'shopping_pt', u'homeowner', u'C_previous', u'B', u'C', u'D', u'E', u'G', u'D_init', u'C_change', u'D_change', u'C_var', u'D_var'], dtype='object')"
       ]
      },
      {
       "output_type": "stream",
       "stream": "stdout",
       "text": [
        "\n",
        "score:E_purchase:0.916444955778"
       ]
      },
      {
       "output_type": "stream",
       "stream": "stdout",
       "text": [
        "\n",
        "Index([u'shopping_pt', u'group_size', u'homeowner', u'married_couple', u'A', u'C', u'E', u'A_init', u'B_init', u'E_change', u'A_var', u'B_var', u'E_var'], dtype='object')"
       ]
      },
      {
       "output_type": "stream",
       "stream": "stdout",
       "text": [
        "\n",
        "score:F_purchase:0.835442582872"
       ]
      },
      {
       "output_type": "stream",
       "stream": "stdout",
       "text": [
        "\n",
        "Index([u'shopping_pt', u'A', u'E', u'F', u'G', u'A_init', u'F_init', u'A_change', u'F_change', u'A_var', u'B_var', u'E_var', u'F_var'], dtype='object')"
       ]
      },
      {
       "output_type": "stream",
       "stream": "stdout",
       "text": [
        "\n",
        "score:G_purchase:0.736859135687"
       ]
      },
      {
       "output_type": "stream",
       "stream": "stdout",
       "text": [
        "\n",
        "Index([u'shopping_pt', u'C', u'D', u'E', u'G', u'F_init', u'G_init', u'G_change', u'A_var', u'B_var', u'C_var', u'E_var', u'G_var'], dtype='object')"
       ]
      },
      {
       "output_type": "stream",
       "stream": "stdout",
       "text": [
        "\n",
        "Number of features:14\n",
        "score:A_purchase:0.876357230172"
       ]
      },
      {
       "output_type": "stream",
       "stream": "stdout",
       "text": [
        "\n",
        "Index([u'shopping_pt', u'homeowner', u'A', u'C', u'E', u'F', u'A_init', u'E_init', u'A_change', u'F_change', u'A_var', u'B_var', u'E_var', u'F_var'], dtype='object')"
       ]
      },
      {
       "output_type": "stream",
       "stream": "stdout",
       "text": [
        "\n",
        "score:B_purchase:0.91101603509"
       ]
      },
      {
       "output_type": "stream",
       "stream": "stdout",
       "text": [
        "\n",
        "Index([u'shopping_pt', u'A', u'B', u'E', u'F', u'G', u'D_init', u'E_init', u'B_change', u'A_var', u'B_var', u'C_var', u'E_var', u'G_var'], dtype='object')"
       ]
      },
      {
       "output_type": "stream",
       "stream": "stdout",
       "text": [
        "\n",
        "score:C_purchase:0.791364061264"
       ]
      },
      {
       "output_type": "stream",
       "stream": "stdout",
       "text": [
        "\n",
        "Index([u'shopping_pt', u'homeowner', u'married_couple', u'C_previous', u'C', u'D', u'C_init', u'A_change', u'C_change', u'D_change', u'A_var', u'B_var', u'C_var', u'D_var'], dtype='object')"
       ]
      },
      {
       "output_type": "stream",
       "stream": "stdout",
       "text": [
        "\n",
        "score:D_purchase:0.880563744877"
       ]
      },
      {
       "output_type": "stream",
       "stream": "stdout",
       "text": [
        "\n",
        "Index([u'shopping_pt', u'homeowner', u'C_previous', u'B', u'C', u'D', u'E', u'G', u'D_init', u'C_change', u'D_change', u'C_var', u'D_var', u'G_var'], dtype='object')"
       ]
      },
      {
       "output_type": "stream",
       "stream": "stdout",
       "text": [
        "\n",
        "score:E_purchase:0.916444955778"
       ]
      },
      {
       "output_type": "stream",
       "stream": "stdout",
       "text": [
        "\n",
        "Index([u'shopping_pt', u'group_size', u'homeowner', u'married_couple', u'A', u'C', u'E', u'A_init', u'B_init', u'E_init', u'E_change', u'A_var', u'B_var', u'E_var'], dtype='object')"
       ]
      },
      {
       "output_type": "stream",
       "stream": "stdout",
       "text": [
        "\n",
        "score:F_purchase:0.837024520026"
       ]
      },
      {
       "output_type": "stream",
       "stream": "stdout",
       "text": [
        "\n",
        "Index([u'shopping_pt', u'A', u'E', u'F', u'G', u'A_init', u'E_init', u'F_init', u'A_change', u'F_change', u'A_var', u'B_var', u'E_var', u'F_var'], dtype='object')"
       ]
      },
      {
       "output_type": "stream",
       "stream": "stdout",
       "text": [
        "\n",
        "score:G_purchase:0.73732652621"
       ]
      },
      {
       "output_type": "stream",
       "stream": "stdout",
       "text": [
        "\n",
        "Index([u'shopping_pt', u'homeowner', u'C', u'D', u'E', u'G', u'F_init', u'G_init', u'G_change', u'A_var', u'B_var', u'C_var', u'E_var', u'G_var'], dtype='object')"
       ]
      },
      {
       "output_type": "stream",
       "stream": "stdout",
       "text": [
        "\n",
        "Number of features:15\n",
        "score:A_purchase:0.87624937082"
       ]
      },
      {
       "output_type": "stream",
       "stream": "stdout",
       "text": [
        "\n",
        "Index([u'shopping_pt', u'homeowner', u'A', u'C', u'E', u'F', u'A_init', u'E_init', u'A_change', u'B_change', u'F_change', u'A_var', u'B_var', u'E_var', u'F_var'], dtype='object')"
       ]
      },
      {
       "output_type": "stream",
       "stream": "stdout",
       "text": [
        "\n",
        "score:B_purchase:0.91101603509"
       ]
      },
      {
       "output_type": "stream",
       "stream": "stdout",
       "text": [
        "\n",
        "Index([u'shopping_pt', u'A', u'B', u'E', u'F', u'G', u'D_init', u'E_init', u'B_change', u'A_var', u'B_var', u'C_var', u'D_var', u'E_var', u'G_var'], dtype='object')"
       ]
      },
      {
       "output_type": "stream",
       "stream": "stdout",
       "text": [
        "\n",
        "score:C_purchase:0.792083123607"
       ]
      },
      {
       "output_type": "stream",
       "stream": "stdout",
       "text": [
        "\n",
        "Index([u'shopping_pt', u'homeowner', u'married_couple', u'C_previous', u'C', u'D', u'C_init', u'D_init', u'A_change', u'C_change', u'D_change', u'A_var', u'B_var', u'C_var', u'D_var'], dtype='object')"
       ]
      },
      {
       "output_type": "stream",
       "stream": "stdout",
       "text": [
        "\n",
        "score:D_purchase:0.880096354354"
       ]
      },
      {
       "output_type": "stream",
       "stream": "stdout",
       "text": [
        "\n",
        "Index([u'shopping_pt', u'homeowner', u'C_previous', u'B', u'C', u'D', u'E', u'G', u'D_init', u'E_init', u'C_change', u'D_change', u'C_var', u'D_var', u'G_var'], dtype='object')"
       ]
      },
      {
       "output_type": "stream",
       "stream": "stdout",
       "text": [
        "\n",
        "score:E_purchase:0.916444955778"
       ]
      },
      {
       "output_type": "stream",
       "stream": "stdout",
       "text": [
        "\n",
        "Index([u'shopping_pt', u'group_size', u'homeowner', u'married_couple', u'A', u'C', u'E', u'A_init', u'B_init', u'C_init', u'E_init', u'E_change', u'A_var', u'B_var', u'E_var'], dtype='object')"
       ]
      },
      {
       "output_type": "stream",
       "stream": "stdout",
       "text": [
        "\n",
        "score:F_purchase:0.835298770403"
       ]
      },
      {
       "output_type": "stream",
       "stream": "stdout",
       "text": [
        "\n",
        "Index([u'shopping_pt', u'A', u'D', u'E', u'F', u'G', u'A_init', u'E_init', u'F_init', u'A_change', u'F_change', u'A_var', u'B_var', u'E_var', u'F_var'], dtype='object')"
       ]
      },
      {
       "output_type": "stream",
       "stream": "stdout",
       "text": [
        "\n",
        "score:G_purchase:0.730351621486"
       ]
      },
      {
       "output_type": "stream",
       "stream": "stdout",
       "text": [
        "\n",
        "Index([u'shopping_pt', u'homeowner', u'C', u'D', u'E', u'F', u'G', u'F_init', u'G_init', u'G_change', u'A_var', u'B_var', u'C_var', u'E_var', u'G_var'], dtype='object')"
       ]
      },
      {
       "output_type": "stream",
       "stream": "stdout",
       "text": [
        "\n",
        "Number of features:16\n",
        "score:A_purchase:0.877327964335"
       ]
      },
      {
       "output_type": "stream",
       "stream": "stdout",
       "text": [
        "\n",
        "Index([u'shopping_pt', u'homeowner', u'car_age', u'A', u'C', u'E', u'F', u'A_init', u'E_init', u'A_change', u'B_change', u'F_change', u'A_var', u'B_var', u'E_var', u'F_var'], dtype='object')"
       ]
      },
      {
       "output_type": "stream",
       "stream": "stdout",
       "text": [
        "\n",
        "score:B_purchase:0.91101603509"
       ]
      },
      {
       "output_type": "stream",
       "stream": "stdout",
       "text": [
        "\n",
        "Index([u'shopping_pt', u'A', u'B', u'E', u'F', u'G', u'D_init', u'E_init', u'B_change', u'F_change', u'A_var', u'B_var', u'C_var', u'D_var', u'E_var', u'G_var'], dtype='object')"
       ]
      },
      {
       "output_type": "stream",
       "stream": "stdout",
       "text": [
        "\n",
        "score:C_purchase:0.797583950529"
       ]
      },
      {
       "output_type": "stream",
       "stream": "stdout",
       "text": [
        "\n",
        "Index([u'shopping_pt', u'homeowner', u'married_couple', u'C_previous', u'C', u'D', u'E', u'C_init', u'D_init', u'A_change', u'C_change', u'D_change', u'A_var', u'B_var', u'C_var', u'D_var'], dtype='object')"
       ]
      },
      {
       "output_type": "stream",
       "stream": "stdout",
       "text": [
        "\n",
        "score:D_purchase:0.88002444812"
       ]
      },
      {
       "output_type": "stream",
       "stream": "stdout",
       "text": [
        "\n",
        "Index([u'shopping_pt', u'homeowner', u'C_previous', u'B', u'C', u'D', u'E', u'G', u'C_init', u'D_init', u'E_init', u'C_change', u'D_change', u'C_var', u'D_var', u'G_var'], dtype='object')"
       ]
      },
      {
       "output_type": "stream",
       "stream": "stdout",
       "text": [
        "\n",
        "score:E_purchase:0.916444955778"
       ]
      },
      {
       "output_type": "stream",
       "stream": "stdout",
       "text": [
        "\n",
        "Index([u'shopping_pt', u'group_size', u'homeowner', u'married_couple', u'A', u'C', u'E', u'A_init', u'B_init', u'C_init', u'E_init', u'E_change', u'A_var', u'B_var', u'D_var', u'E_var'], dtype='object')"
       ]
      },
      {
       "output_type": "stream",
       "stream": "stdout",
       "text": [
        "\n",
        "score:F_purchase:0.835874020278"
       ]
      },
      {
       "output_type": "stream",
       "stream": "stdout",
       "text": [
        "\n",
        "Index([u'shopping_pt', u'A', u'D', u'E', u'F', u'G', u'A_init', u'D_init', u'E_init', u'F_init', u'A_change', u'F_change', u'A_var', u'B_var', u'E_var', u'F_var'], dtype='object')"
       ]
      },
      {
       "output_type": "stream",
       "stream": "stdout",
       "text": [
        "\n",
        "score:G_purchase:0.730459480837"
       ]
      },
      {
       "output_type": "stream",
       "stream": "stdout",
       "text": [
        "\n",
        "Index([u'shopping_pt', u'homeowner', u'C', u'D', u'E', u'F', u'G', u'F_init', u'G_init', u'B_change', u'G_change', u'A_var', u'B_var', u'C_var', u'E_var', u'G_var'], dtype='object')"
       ]
      },
      {
       "output_type": "stream",
       "stream": "stdout",
       "text": [
        "\n",
        "Number of features:17\n",
        "score:A_purchase:0.877292011217"
       ]
      },
      {
       "output_type": "stream",
       "stream": "stdout",
       "text": [
        "\n",
        "Index([u'shopping_pt', u'homeowner', u'car_age', u'A', u'C', u'E', u'F', u'A_init', u'E_init', u'A_change', u'B_change', u'E_change', u'F_change', u'A_var', u'B_var', u'E_var', u'F_var'], dtype='object')"
       ]
      },
      {
       "output_type": "stream",
       "stream": "stdout",
       "text": [
        "\n",
        "score:B_purchase:0.91101603509"
       ]
      },
      {
       "output_type": "stream",
       "stream": "stdout",
       "text": [
        "\n",
        "Index([u'shopping_pt', u'A', u'B', u'E', u'F', u'G', u'D_init', u'E_init', u'B_change', u'E_change', u'F_change', u'A_var', u'B_var', u'C_var', u'D_var', u'E_var', u'G_var'], dtype='object')"
       ]
      },
      {
       "output_type": "stream",
       "stream": "stdout",
       "text": [
        "\n",
        "score:C_purchase:0.798159200403"
       ]
      },
      {
       "output_type": "stream",
       "stream": "stdout",
       "text": [
        "\n",
        "Index([u'shopping_pt', u'homeowner', u'married_couple', u'C_previous', u'B', u'C', u'D', u'E', u'C_init', u'D_init', u'A_change', u'C_change', u'D_change', u'A_var', u'B_var', u'C_var', u'D_var'], dtype='object')"
       ]
      },
      {
       "output_type": "stream",
       "stream": "stdout",
       "text": [
        "\n",
        "score:D_purchase:0.881642338391"
       ]
      },
      {
       "output_type": "stream",
       "stream": "stdout",
       "text": [
        "\n",
        "Index([u'shopping_pt', u'homeowner', u'C_previous', u'B', u'C', u'D', u'E', u'G', u'A_init', u'C_init', u'D_init', u'E_init', u'C_change', u'D_change', u'C_var', u'D_var', u'G_var'], dtype='object')"
       ]
      },
      {
       "output_type": "stream",
       "stream": "stdout",
       "text": [
        "\n",
        "score:E_purchase:0.916444955778"
       ]
      },
      {
       "output_type": "stream",
       "stream": "stdout",
       "text": [
        "\n",
        "Index([u'shopping_pt', u'group_size', u'homeowner', u'married_couple', u'A', u'C', u'E', u'A_init', u'B_init', u'C_init', u'E_init', u'D_change', u'E_change', u'A_var', u'B_var', u'D_var', u'E_var'], dtype='object')"
       ]
      },
      {
       "output_type": "stream",
       "stream": "stdout",
       "text": [
        "\n",
        "score:F_purchase:0.835694254692"
       ]
      },
      {
       "output_type": "stream",
       "stream": "stdout",
       "text": [
        "\n",
        "Index([u'shopping_pt', u'A', u'D', u'E', u'F', u'G', u'A_init', u'D_init', u'E_init', u'F_init', u'A_change', u'E_change', u'F_change', u'A_var', u'B_var', u'E_var', u'F_var'], dtype='object')"
       ]
      },
      {
       "output_type": "stream",
       "stream": "stdout",
       "text": [
        "\n",
        "score:G_purchase:0.731502121234"
       ]
      },
      {
       "output_type": "stream",
       "stream": "stdout",
       "text": [
        "\n",
        "Index([u'shopping_pt', u'homeowner', u'married_couple', u'C', u'D', u'E', u'F', u'G', u'F_init', u'G_init', u'B_change', u'G_change', u'A_var', u'B_var', u'C_var', u'E_var', u'G_var'], dtype='object')"
       ]
      },
      {
       "output_type": "stream",
       "stream": "stdout",
       "text": [
        "\n",
        "Number of features:18\n",
        "score:A_purchase:0.877399870569"
       ]
      },
      {
       "output_type": "stream",
       "stream": "stdout",
       "text": [
        "\n",
        "Index([u'shopping_pt', u'homeowner', u'car_age', u'A', u'C', u'E', u'F', u'A_init', u'E_init', u'F_init', u'A_change', u'B_change', u'E_change', u'F_change', u'A_var', u'B_var', u'E_var', u'F_var'], dtype='object')"
       ]
      },
      {
       "output_type": "stream",
       "stream": "stdout",
       "text": [
        "\n",
        "score:B_purchase:0.91101603509"
       ]
      },
      {
       "output_type": "stream",
       "stream": "stdout",
       "text": [
        "\n",
        "Index([u'shopping_pt', u'homeowner', u'A', u'B', u'E', u'F', u'G', u'D_init', u'E_init', u'B_change', u'E_change', u'F_change', u'A_var', u'B_var', u'C_var', u'D_var', u'E_var', u'G_var'], dtype='object')"
       ]
      },
      {
       "output_type": "stream",
       "stream": "stdout",
       "text": [
        "\n",
        "score:C_purchase:0.797907528583"
       ]
      },
      {
       "output_type": "stream",
       "stream": "stdout",
       "text": [
        "\n",
        "Index([u'shopping_pt', u'homeowner', u'married_couple', u'C_previous', u'B', u'C', u'D', u'E', u'C_init', u'D_init', u'A_change', u'C_change', u'D_change', u'A_var', u'B_var', u'C_var', u'D_var', u'E_var'], dtype='object')"
       ]
      },
      {
       "output_type": "stream",
       "stream": "stdout",
       "text": [
        "\n",
        "score:D_purchase:0.880204213705"
       ]
      },
      {
       "output_type": "stream",
       "stream": "stdout",
       "text": [
        "\n",
        "Index([u'shopping_pt', u'homeowner', u'C_previous', u'B', u'C', u'D', u'E', u'G', u'A_init', u'C_init', u'D_init', u'E_init', u'F_init', u'C_change', u'D_change', u'C_var', u'D_var', u'G_var'], dtype='object')"
       ]
      },
      {
       "output_type": "stream",
       "stream": "stdout",
       "text": [
        "\n",
        "score:E_purchase:0.916444955778"
       ]
      },
      {
       "output_type": "stream",
       "stream": "stdout",
       "text": [
        "\n",
        "Index([u'shopping_pt', u'group_size', u'homeowner', u'married_couple', u'A', u'C', u'E', u'A_init', u'B_init', u'C_init', u'E_init', u'C_change', u'D_change', u'E_change', u'A_var', u'B_var', u'D_var', u'E_var'], dtype='object')"
       ]
      },
      {
       "output_type": "stream",
       "stream": "stdout",
       "text": [
        "\n",
        "score:F_purchase:0.83195513051"
       ]
      },
      {
       "output_type": "stream",
       "stream": "stdout",
       "text": [
        "\n",
        "Index([u'shopping_pt', u'A', u'B', u'D', u'E', u'F', u'G', u'A_init', u'D_init', u'E_init', u'F_init', u'A_change', u'E_change', u'F_change', u'A_var', u'B_var', u'E_var', u'F_var'], dtype='object')"
       ]
      },
      {
       "output_type": "stream",
       "stream": "stdout",
       "text": [
        "\n",
        "score:G_purchase:0.731394261883"
       ]
      },
      {
       "output_type": "stream",
       "stream": "stdout",
       "text": [
        "\n",
        "Index([u'shopping_pt', u'homeowner', u'married_couple', u'C', u'D', u'E', u'F', u'G', u'F_init', u'G_init', u'B_change', u'G_change', u'A_var', u'B_var', u'C_var', u'E_var', u'F_var', u'G_var'], dtype='object')"
       ]
      },
      {
       "output_type": "stream",
       "stream": "stdout",
       "text": [
        "\n",
        "Number of features:19\n",
        "score:A_purchase:0.87750772992"
       ]
      },
      {
       "output_type": "stream",
       "stream": "stdout",
       "text": [
        "\n",
        "Index([u'shopping_pt', u'homeowner', u'car_age', u'married_couple', u'A', u'C', u'E', u'F', u'A_init', u'E_init', u'F_init', u'A_change', u'B_change', u'E_change', u'F_change', u'A_var', u'B_var', u'E_var', u'F_var'], dtype='object')"
       ]
      },
      {
       "output_type": "stream",
       "stream": "stdout",
       "text": [
        "\n",
        "score:B_purchase:0.91101603509"
       ]
      },
      {
       "output_type": "stream",
       "stream": "stdout",
       "text": [
        "\n",
        "Index([u'shopping_pt', u'homeowner', u'A', u'B', u'E', u'F', u'G', u'D_init', u'E_init', u'G_init', u'B_change', u'E_change', u'F_change', u'A_var', u'B_var', u'C_var', u'D_var', u'E_var', u'G_var'], dtype='object')"
       ]
      },
      {
       "output_type": "stream",
       "stream": "stdout",
       "text": [
        "\n",
        "score:C_purchase:0.798015387934"
       ]
      },
      {
       "output_type": "stream",
       "stream": "stdout",
       "text": [
        "\n",
        "Index([u'shopping_pt', u'homeowner', u'married_couple', u'C_previous', u'B', u'C', u'D', u'E', u'C_init', u'D_init', u'A_change', u'C_change', u'D_change', u'E_change', u'A_var', u'B_var', u'C_var', u'D_var', u'E_var'], dtype='object')"
       ]
      },
      {
       "output_type": "stream",
       "stream": "stdout",
       "text": [
        "\n",
        "score:D_purchase:0.881462572805"
       ]
      },
      {
       "output_type": "stream",
       "stream": "stdout",
       "text": [
        "\n",
        "Index([u'shopping_pt', u'homeowner', u'C_previous', u'B', u'C', u'D', u'E', u'G', u'duration_offers', u'A_init', u'C_init', u'D_init', u'E_init', u'F_init', u'C_change', u'D_change', u'C_var', u'D_var', u'G_var'], dtype='object')"
       ]
      },
      {
       "output_type": "stream",
       "stream": "stdout",
       "text": [
        "\n",
        "score:E_purchase:0.916444955778"
       ]
      },
      {
       "output_type": "stream",
       "stream": "stdout",
       "text": [
        "\n",
        "Index([u'shopping_pt', u'group_size', u'homeowner', u'car_age', u'married_couple', u'A', u'C', u'E', u'A_init', u'B_init', u'C_init', u'E_init', u'C_change', u'D_change', u'E_change', u'A_var', u'B_var', u'D_var', u'E_var'], dtype='object')"
       ]
      },
      {
       "output_type": "stream",
       "stream": "stdout",
       "text": [
        "\n",
        "score:F_purchase:0.832170849213"
       ]
      },
      {
       "output_type": "stream",
       "stream": "stdout",
       "text": [
        "\n",
        "Index([u'shopping_pt', u'homeowner', u'A', u'B', u'D', u'E', u'F', u'G', u'A_init', u'D_init', u'E_init', u'F_init', u'A_change', u'E_change', u'F_change', u'A_var', u'B_var', u'E_var', u'F_var'], dtype='object')"
       ]
      },
      {
       "output_type": "stream",
       "stream": "stdout",
       "text": [
        "\n",
        "score:G_purchase:0.73117854318"
       ]
      },
      {
       "output_type": "stream",
       "stream": "stdout",
       "text": [
        "\n",
        "Index([u'shopping_pt', u'homeowner', u'married_couple', u'C', u'D', u'E', u'F', u'G', u'F_init', u'G_init', u'B_change', u'F_change', u'G_change', u'A_var', u'B_var', u'C_var', u'E_var', u'F_var', u'G_var'], dtype='object')"
       ]
      },
      {
       "output_type": "stream",
       "stream": "stdout",
       "text": [
        "\n",
        "Number of features:20\n",
        "score:A_purchase:0.8772560581"
       ]
      },
      {
       "output_type": "stream",
       "stream": "stdout",
       "text": [
        "\n",
        "Index([u'shopping_pt', u'group_size', u'homeowner', u'car_age', u'married_couple', u'A', u'C', u'E', u'F', u'A_init', u'E_init', u'F_init', u'A_change', u'B_change', u'E_change', u'F_change', u'A_var', u'B_var', u'E_var', u'F_var'], dtype='object')"
       ]
      },
      {
       "output_type": "stream",
       "stream": "stdout",
       "text": [
        "\n",
        "score:B_purchase:0.91101603509"
       ]
      },
      {
       "output_type": "stream",
       "stream": "stdout",
       "text": [
        "\n",
        "Index([u'shopping_pt', u'homeowner', u'A', u'B', u'E', u'F', u'G', u'A_init', u'D_init', u'E_init', u'G_init', u'B_change', u'E_change', u'F_change', u'A_var', u'B_var', u'C_var', u'D_var', u'E_var', u'G_var'], dtype='object')"
       ]
      },
      {
       "output_type": "stream",
       "stream": "stdout",
       "text": [
        "\n",
        "score:C_purchase:0.797907528583"
       ]
      },
      {
       "output_type": "stream",
       "stream": "stdout",
       "text": [
        "\n",
        "Index([u'shopping_pt', u'homeowner', u'married_couple', u'C_previous', u'B', u'C', u'D', u'E', u'C_init', u'D_init', u'A_change', u'C_change', u'D_change', u'E_change', u'A_var', u'B_var', u'C_var', u'D_var', u'E_var', u'F_var'], dtype='object')"
       ]
      },
      {
       "output_type": "stream",
       "stream": "stdout",
       "text": [
        "\n",
        "score:D_purchase:0.881606385274"
       ]
      },
      {
       "output_type": "stream",
       "stream": "stdout",
       "text": [
        "\n",
        "Index([u'shopping_pt', u'homeowner', u'C_previous', u'B', u'C', u'D', u'E', u'G', u'duration_offers', u'A_init', u'C_init', u'D_init', u'E_init', u'F_init', u'C_change', u'D_change', u'G_change', u'C_var', u'D_var', u'G_var'], dtype='object')"
       ]
      },
      {
       "output_type": "stream",
       "stream": "stdout",
       "text": [
        "\n",
        "score:E_purchase:0.916444955778"
       ]
      },
      {
       "output_type": "stream",
       "stream": "stdout",
       "text": [
        "\n",
        "Index([u'shopping_pt', u'group_size', u'homeowner', u'car_age', u'married_couple', u'A', u'C', u'E', u'A_init', u'B_init', u'C_init', u'E_init', u'C_change', u'D_change', u'E_change', u'F_change', u'A_var', u'B_var', u'D_var', u'E_var'], dtype='object')"
       ]
      },
      {
       "output_type": "stream",
       "stream": "stdout",
       "text": [
        "\n",
        "score:F_purchase:0.83220680233"
       ]
      },
      {
       "output_type": "stream",
       "stream": "stdout",
       "text": [
        "\n",
        "Index([u'shopping_pt', u'homeowner', u'married_couple', u'A', u'B', u'D', u'E', u'F', u'G', u'A_init', u'D_init', u'E_init', u'F_init', u'A_change', u'E_change', u'F_change', u'A_var', u'B_var', u'E_var', u'F_var'], dtype='object')"
       ]
      },
      {
       "output_type": "stream",
       "stream": "stdout",
       "text": [
        "\n",
        "score:G_purchase:0.731034730711"
       ]
      },
      {
       "output_type": "stream",
       "stream": "stdout",
       "text": [
        "\n",
        "Index([u'shopping_pt', u'homeowner', u'married_couple', u'C', u'D', u'E', u'F', u'G', u'F_init', u'G_init', u'B_change', u'E_change', u'F_change', u'G_change', u'A_var', u'B_var', u'C_var', u'E_var', u'F_var', u'G_var'], dtype='object')"
       ]
      },
      {
       "output_type": "stream",
       "stream": "stdout",
       "text": [
        "\n",
        "Number of features:21\n",
        "score:A_purchase:0.876788667577"
       ]
      },
      {
       "output_type": "stream",
       "stream": "stdout",
       "text": [
        "\n",
        "Index([u'shopping_pt', u'group_size', u'homeowner', u'car_age', u'married_couple', u'A', u'C', u'D', u'E', u'F', u'A_init', u'E_init', u'F_init', u'A_change', u'B_change', u'E_change', u'F_change', u'A_var', u'B_var', u'E_var', u'F_var'], dtype='object')"
       ]
      },
      {
       "output_type": "stream",
       "stream": "stdout",
       "text": [
        "\n",
        "score:B_purchase:0.91101603509"
       ]
      },
      {
       "output_type": "stream",
       "stream": "stdout",
       "text": [
        "\n",
        "Index([u'shopping_pt', u'homeowner', u'A', u'B', u'E', u'F', u'G', u'A_init', u'D_init', u'E_init', u'F_init', u'G_init', u'B_change', u'E_change', u'F_change', u'A_var', u'B_var', u'C_var', u'D_var', u'E_var', u'G_var'], dtype='object')"
       ]
      },
      {
       "output_type": "stream",
       "stream": "stdout",
       "text": [
        "\n",
        "score:C_purchase:0.795498669735"
       ]
      },
      {
       "output_type": "stream",
       "stream": "stdout",
       "text": [
        "\n",
        "Index([u'shopping_pt', u'homeowner', u'married_couple', u'C_previous', u'B', u'C', u'D', u'E', u'C_init', u'D_init', u'E_init', u'A_change', u'C_change', u'D_change', u'E_change', u'A_var', u'B_var', u'C_var', u'D_var', u'E_var', u'F_var'], dtype='object')"
       ]
      },
      {
       "output_type": "stream",
       "stream": "stdout",
       "text": [
        "\n",
        "score:D_purchase:0.881714244625"
       ]
      },
      {
       "output_type": "stream",
       "stream": "stdout",
       "text": [
        "\n",
        "Index([u'shopping_pt', u'homeowner', u'C_previous', u'A', u'B', u'C', u'D', u'E', u'G', u'duration_offers', u'A_init', u'C_init', u'D_init', u'E_init', u'F_init', u'C_change', u'D_change', u'G_change', u'C_var', u'D_var', u'G_var'], dtype='object')"
       ]
      },
      {
       "output_type": "stream",
       "stream": "stdout",
       "text": [
        "\n",
        "score:E_purchase:0.916409002661"
       ]
      },
      {
       "output_type": "stream",
       "stream": "stdout",
       "text": [
        "\n",
        "Index([u'shopping_pt', u'group_size', u'homeowner', u'car_age', u'married_couple', u'A', u'C', u'D', u'E', u'A_init', u'B_init', u'C_init', u'E_init', u'C_change', u'E_change', u'F_change', u'A_var', u'B_var', u'D_var', u'E_var', u'F_var'], dtype='object')"
       ]
      },
      {
       "output_type": "stream",
       "stream": "stdout",
       "text": [
        "\n",
        "score:F_purchase:0.832134896095"
       ]
      },
      {
       "output_type": "stream",
       "stream": "stdout",
       "text": [
        "\n",
        "Index([u'shopping_pt', u'group_size', u'homeowner', u'married_couple', u'A', u'B', u'D', u'E', u'F', u'G', u'A_init', u'D_init', u'E_init', u'F_init', u'A_change', u'E_change', u'F_change', u'A_var', u'B_var', u'E_var', u'F_var'], dtype='object')"
       ]
      },
      {
       "output_type": "stream",
       "stream": "stdout",
       "text": [
        "\n",
        "score:G_purchase:0.732149277342"
       ]
      },
      {
       "output_type": "stream",
       "stream": "stdout",
       "text": [
        "\n",
        "Index([u'shopping_pt', u'homeowner', u'married_couple', u'C', u'D', u'E', u'F', u'G', u'E_init', u'F_init', u'G_init', u'B_change', u'E_change', u'F_change', u'G_change', u'A_var', u'B_var', u'C_var', u'E_var', u'F_var', u'G_var'], dtype='object')"
       ]
      },
      {
       "output_type": "stream",
       "stream": "stdout",
       "text": [
        "\n",
        "Number of features:22\n",
        "score:A_purchase:0.877220104983"
       ]
      },
      {
       "output_type": "stream",
       "stream": "stdout",
       "text": [
        "\n",
        "Index([u'shopping_pt', u'group_size', u'homeowner', u'car_age', u'married_couple', u'A', u'C', u'D', u'E', u'F', u'A_init', u'D_init', u'E_init', u'F_init', u'A_change', u'B_change', u'E_change', u'F_change', u'A_var', u'B_var', u'E_var', u'F_var'], dtype='object')"
       ]
      },
      {
       "output_type": "stream",
       "stream": "stdout",
       "text": [
        "\n",
        "score:B_purchase:0.91101603509"
       ]
      },
      {
       "output_type": "stream",
       "stream": "stdout",
       "text": [
        "\n",
        "Index([u'shopping_pt', u'homeowner', u'A', u'B', u'E', u'F', u'G', u'A_init', u'D_init', u'E_init', u'F_init', u'G_init', u'B_change', u'E_change', u'F_change', u'G_change', u'A_var', u'B_var', u'C_var', u'D_var', u'E_var', u'G_var'], dtype='object')"
       ]
      },
      {
       "output_type": "stream",
       "stream": "stdout",
       "text": [
        "\n",
        "score:C_purchase:0.797799669231"
       ]
      },
      {
       "output_type": "stream",
       "stream": "stdout",
       "text": [
        "\n",
        "Index([u'shopping_pt', u'homeowner', u'married_couple', u'C_previous', u'A', u'B', u'C', u'D', u'E', u'C_init', u'D_init', u'E_init', u'A_change', u'C_change', u'D_change', u'E_change', u'A_var', u'B_var', u'C_var', u'D_var', u'E_var', u'F_var'], dtype='object')"
       ]
      },
      {
       "output_type": "stream",
       "stream": "stdout",
       "text": [
        "\n",
        "score:D_purchase:0.881858057094"
       ]
      },
      {
       "output_type": "stream",
       "stream": "stdout",
       "text": [
        "\n",
        "Index([u'shopping_pt', u'homeowner', u'C_previous', u'A', u'B', u'C', u'D', u'E', u'G', u'duration_offers', u'A_init', u'C_init', u'D_init', u'E_init', u'F_init', u'C_change', u'D_change', u'F_change', u'G_change', u'C_var', u'D_var', u'G_var'], dtype='object')"
       ]
      },
      {
       "output_type": "stream",
       "stream": "stdout",
       "text": [
        "\n",
        "score:E_purchase:0.916444955778"
       ]
      },
      {
       "output_type": "stream",
       "stream": "stdout",
       "text": [
        "\n",
        "Index([u'shopping_pt', u'group_size', u'homeowner', u'car_age', u'married_couple', u'A', u'C', u'D', u'E', u'A_init', u'B_init', u'C_init', u'E_init', u'C_change', u'D_change', u'E_change', u'F_change', u'A_var', u'B_var', u'D_var', u'E_var', u'F_var'], dtype='object')"
       ]
      },
      {
       "output_type": "stream",
       "stream": "stdout",
       "text": [
        "\n",
        "score:F_purchase:0.832278708564"
       ]
      },
      {
       "output_type": "stream",
       "stream": "stdout",
       "text": [
        "\n",
        "Index([u'shopping_pt', u'group_size', u'homeowner', u'married_couple', u'A', u'B', u'D', u'E', u'F', u'G', u'A_init', u'D_init', u'E_init', u'F_init', u'A_change', u'E_change', u'F_change', u'A_var', u'B_var', u'E_var', u'F_var', u'G_var'], dtype='object')"
       ]
      },
      {
       "output_type": "stream",
       "stream": "stdout",
       "text": [
        "\n",
        "score:G_purchase:0.729740418494"
       ]
      },
      {
       "output_type": "stream",
       "stream": "stdout",
       "text": [
        "\n",
        "Index([u'shopping_pt', u'homeowner', u'married_couple', u'C', u'D', u'E', u'F', u'G', u'A_init', u'E_init', u'F_init', u'G_init', u'B_change', u'E_change', u'F_change', u'G_change', u'A_var', u'B_var', u'C_var', u'E_var', u'F_var', u'G_var'], dtype='object')"
       ]
      },
      {
       "output_type": "stream",
       "stream": "stdout",
       "text": [
        "\n",
        "Number of features:23\n",
        "score:A_purchase:0.8772560581"
       ]
      },
      {
       "output_type": "stream",
       "stream": "stdout",
       "text": [
        "\n",
        "Index([u'shopping_pt', u'group_size', u'homeowner', u'car_age', u'married_couple', u'A', u'C', u'D', u'E', u'F', u'A_init', u'D_init', u'E_init', u'F_init', u'A_change', u'B_change', u'E_change', u'F_change', u'A_var', u'B_var', u'D_var', u'E_var', u'F_var'], dtype='object')"
       ]
      },
      {
       "output_type": "stream",
       "stream": "stdout",
       "text": [
        "\n",
        "score:B_purchase:0.91101603509"
       ]
      },
      {
       "output_type": "stream",
       "stream": "stdout",
       "text": [
        "\n",
        "Index([u'shopping_pt', u'homeowner', u'A', u'B', u'E', u'F', u'G', u'A_init', u'D_init', u'E_init', u'F_init', u'G_init', u'B_change', u'C_change', u'E_change', u'F_change', u'G_change', u'A_var', u'B_var', u'C_var', u'D_var', u'E_var', u'G_var'], dtype='object')"
       ]
      },
      {
       "output_type": "stream",
       "stream": "stdout",
       "text": [
        "\n",
        "score:C_purchase:0.799525418854"
       ]
      },
      {
       "output_type": "stream",
       "stream": "stdout",
       "text": [
        "\n",
        "Index([u'shopping_pt', u'homeowner', u'married_couple', u'C_previous', u'A', u'B', u'C', u'D', u'E', u'G', u'C_init', u'D_init', u'E_init', u'A_change', u'C_change', u'D_change', u'E_change', u'A_var', u'B_var', u'C_var', u'D_var', u'E_var', u'F_var'], dtype='object')"
       ]
      },
      {
       "output_type": "stream",
       "stream": "stdout",
       "text": [
        "\n",
        "score:D_purchase:0.882037822679"
       ]
      },
      {
       "output_type": "stream",
       "stream": "stdout",
       "text": [
        "\n",
        "Index([u'shopping_pt', u'homeowner', u'C_previous', u'A', u'B', u'C', u'D', u'E', u'G', u'duration_offers', u'A_init', u'C_init', u'D_init', u'E_init', u'F_init', u'C_change', u'D_change', u'F_change', u'G_change', u'C_var', u'D_var', u'E_var', u'G_var'], dtype='object')"
       ]
      },
      {
       "output_type": "stream",
       "stream": "stdout",
       "text": [
        "\n",
        "score:E_purchase:0.916444955778"
       ]
      },
      {
       "output_type": "stream",
       "stream": "stdout",
       "text": [
        "\n",
        "Index([u'shopping_pt', u'group_size', u'homeowner', u'car_age', u'married_couple', u'A', u'C', u'D', u'E', u'A_init', u'B_init', u'C_init', u'E_init', u'C_change', u'D_change', u'E_change', u'F_change', u'A_var', u'B_var', u'C_var', u'D_var', u'E_var', u'F_var'], dtype='object')"
       ]
      },
      {
       "output_type": "stream",
       "stream": "stdout",
       "text": [
        "\n",
        "score:F_purchase:0.832314661681"
       ]
      },
      {
       "output_type": "stream",
       "stream": "stdout",
       "text": [
        "\n",
        "Index([u'shopping_pt', u'group_size', u'homeowner', u'married_couple', u'A', u'B', u'D', u'E', u'F', u'G', u'A_init', u'D_init', u'E_init', u'F_init', u'A_change', u'B_change', u'E_change', u'F_change', u'A_var', u'B_var', u'E_var', u'F_var', u'G_var'], dtype='object')"
       ]
      },
      {
       "output_type": "stream",
       "stream": "stdout",
       "text": [
        "\n",
        "score:G_purchase:0.731250449414"
       ]
      },
      {
       "output_type": "stream",
       "stream": "stdout",
       "text": [
        "\n",
        "Index([u'shopping_pt', u'homeowner', u'married_couple', u'A', u'C', u'D', u'E', u'F', u'G', u'A_init', u'E_init', u'F_init', u'G_init', u'B_change', u'E_change', u'F_change', u'G_change', u'A_var', u'B_var', u'C_var', u'E_var', u'F_var', u'G_var'], dtype='object')"
       ]
      },
      {
       "output_type": "stream",
       "stream": "stdout",
       "text": [
        "\n",
        "Number of features:24\n",
        "score:A_purchase:0.877399870569"
       ]
      },
      {
       "output_type": "stream",
       "stream": "stdout",
       "text": [
        "\n",
        "Index([u'shopping_pt', u'group_size', u'homeowner', u'car_age', u'married_couple', u'A', u'C', u'D', u'E', u'F', u'A_init', u'D_init', u'E_init', u'F_init', u'A_change', u'B_change', u'D_change', u'E_change', u'F_change', u'A_var', u'B_var', u'D_var', u'E_var', u'F_var'], dtype='object')"
       ]
      },
      {
       "output_type": "stream",
       "stream": "stdout",
       "text": [
        "\n",
        "score:B_purchase:0.91101603509"
       ]
      },
      {
       "output_type": "stream",
       "stream": "stdout",
       "text": [
        "\n",
        "Index([u'shopping_pt', u'homeowner', u'A', u'B', u'E', u'F', u'G', u'A_init', u'B_init', u'D_init', u'E_init', u'F_init', u'G_init', u'B_change', u'C_change', u'E_change', u'F_change', u'G_change', u'A_var', u'B_var', u'C_var', u'D_var', u'E_var', u'G_var'], dtype='object')"
       ]
      },
      {
       "output_type": "stream",
       "stream": "stdout",
       "text": [
        "\n",
        "score:C_purchase:0.801574746531"
       ]
      },
      {
       "output_type": "stream",
       "stream": "stdout",
       "text": [
        "\n",
        "Index([u'shopping_pt', u'homeowner', u'married_couple', u'C_previous', u'A', u'B', u'C', u'D', u'E', u'F', u'G', u'C_init', u'D_init', u'E_init', u'A_change', u'C_change', u'D_change', u'E_change', u'A_var', u'B_var', u'C_var', u'D_var', u'E_var', u'F_var'], dtype='object')"
       ]
      },
      {
       "output_type": "stream",
       "stream": "stdout",
       "text": [
        "\n",
        "score:D_purchase:0.881894010211"
       ]
      },
      {
       "output_type": "stream",
       "stream": "stdout",
       "text": [
        "\n",
        "Index([u'shopping_pt', u'homeowner', u'C_previous', u'A', u'B', u'C', u'D', u'E', u'G', u'duration_offers', u'A_init', u'C_init', u'D_init', u'E_init', u'F_init', u'B_change', u'C_change', u'D_change', u'F_change', u'G_change', u'C_var', u'D_var', u'E_var', u'G_var'], dtype='object')"
       ]
      },
      {
       "output_type": "stream",
       "stream": "stdout",
       "text": [
        "\n",
        "score:E_purchase:0.916444955778"
       ]
      },
      {
       "output_type": "stream",
       "stream": "stdout",
       "text": [
        "\n",
        "Index([u'shopping_pt', u'group_size', u'homeowner', u'car_age', u'married_couple', u'A', u'C', u'D', u'E', u'A_init', u'B_init', u'C_init', u'E_init', u'A_change', u'C_change', u'D_change', u'E_change', u'F_change', u'A_var', u'B_var', u'C_var', u'D_var', u'E_var', u'F_var'], dtype='object')"
       ]
      },
      {
       "output_type": "stream",
       "stream": "stdout",
       "text": [
        "\n",
        "score:F_purchase:0.831523693104"
       ]
      },
      {
       "output_type": "stream",
       "stream": "stdout",
       "text": [
        "\n",
        "Index([u'shopping_pt', u'group_size', u'homeowner', u'married_couple', u'A', u'B', u'C', u'D', u'E', u'F', u'G', u'A_init', u'D_init', u'E_init', u'F_init', u'A_change', u'B_change', u'E_change', u'F_change', u'A_var', u'B_var', u'E_var', u'F_var', u'G_var'], dtype='object')"
       ]
      },
      {
       "output_type": "stream",
       "stream": "stdout",
       "text": [
        "\n",
        "score:G_purchase:0.728589918746"
       ]
      },
      {
       "output_type": "stream",
       "stream": "stdout",
       "text": [
        "\n",
        "Index([u'shopping_pt', u'homeowner', u'married_couple', u'A', u'B', u'C', u'D', u'E', u'F', u'G', u'A_init', u'E_init', u'F_init', u'G_init', u'B_change', u'E_change', u'F_change', u'G_change', u'A_var', u'B_var', u'C_var', u'E_var', u'F_var', u'G_var'], dtype='object')"
       ]
      },
      {
       "output_type": "stream",
       "stream": "stdout",
       "text": [
        "\n",
        "Number of features:25\n",
        "score:A_purchase:0.876465089523"
       ]
      },
      {
       "output_type": "stream",
       "stream": "stdout",
       "text": [
        "\n",
        "Index([u'shopping_pt', u'group_size', u'homeowner', u'car_age', u'married_couple', u'A', u'C', u'D', u'E', u'F', u'A_init', u'B_init', u'D_init', u'E_init', u'F_init', u'A_change', u'B_change', u'D_change', u'E_change', u'F_change', u'A_var', u'B_var', u'D_var', u'E_var', u'F_var'], dtype='object')"
       ]
      },
      {
       "output_type": "stream",
       "stream": "stdout",
       "text": [
        "\n",
        "score:B_purchase:0.91101603509"
       ]
      },
      {
       "output_type": "stream",
       "stream": "stdout",
       "text": [
        "\n",
        "Index([u'shopping_pt', u'homeowner', u'A', u'B', u'D', u'E', u'F', u'G', u'A_init', u'B_init', u'D_init', u'E_init', u'F_init', u'G_init', u'B_change', u'C_change', u'E_change', u'F_change', u'G_change', u'A_var', u'B_var', u'C_var', u'D_var', u'E_var', u'G_var'], dtype='object')"
       ]
      },
      {
       "output_type": "stream",
       "stream": "stdout",
       "text": [
        "\n",
        "score:C_purchase:0.801790465233"
       ]
      },
      {
       "output_type": "stream",
       "stream": "stdout",
       "text": [
        "\n",
        "Index([u'shopping_pt', u'homeowner', u'married_couple', u'C_previous', u'A', u'B', u'C', u'D', u'E', u'F', u'G', u'C_init', u'D_init', u'E_init', u'G_init', u'A_change', u'C_change', u'D_change', u'E_change', u'A_var', u'B_var', u'C_var', u'D_var', u'E_var', u'F_var'], dtype='object')"
       ]
      },
      {
       "output_type": "stream",
       "stream": "stdout",
       "text": [
        "\n",
        "score:D_purchase:0.881858057094"
       ]
      },
      {
       "output_type": "stream",
       "stream": "stdout",
       "text": [
        "\n",
        "Index([u'shopping_pt', u'homeowner', u'C_previous', u'A', u'B', u'C', u'D', u'E', u'G', u'duration_offers', u'A_init', u'C_init', u'D_init', u'E_init', u'F_init', u'B_change', u'C_change', u'D_change', u'F_change', u'G_change', u'A_var', u'C_var', u'D_var', u'E_var', u'G_var'], dtype='object')"
       ]
      },
      {
       "output_type": "stream",
       "stream": "stdout",
       "text": [
        "\n",
        "score:E_purchase:0.916444955778"
       ]
      },
      {
       "output_type": "stream",
       "stream": "stdout",
       "text": [
        "\n",
        "Index([u'shopping_pt', u'group_size', u'homeowner', u'car_age', u'married_couple', u'A', u'C', u'D', u'E', u'A_init', u'B_init', u'C_init', u'E_init', u'A_change', u'B_change', u'C_change', u'D_change', u'E_change', u'F_change', u'A_var', u'B_var', u'C_var', u'D_var', u'E_var', u'F_var'], dtype='object')"
       ]
      },
      {
       "output_type": "stream",
       "stream": "stdout",
       "text": [
        "\n",
        "score:F_purchase:0.832062989861"
       ]
      },
      {
       "output_type": "stream",
       "stream": "stdout",
       "text": [
        "\n",
        "Index([u'shopping_pt', u'group_size', u'homeowner', u'married_couple', u'A', u'B', u'C', u'D', u'E', u'F', u'G', u'A_init', u'D_init', u'E_init', u'F_init', u'A_change', u'B_change', u'E_change', u'F_change', u'A_var', u'B_var', u'D_var', u'E_var', u'F_var', u'G_var'], dtype='object')"
       ]
      },
      {
       "output_type": "stream",
       "stream": "stdout",
       "text": [
        "\n",
        "score:G_purchase:0.729632559143"
       ]
      },
      {
       "output_type": "stream",
       "stream": "stdout",
       "text": [
        "\n",
        "Index([u'shopping_pt', u'homeowner', u'married_couple', u'A', u'B', u'C', u'D', u'E', u'F', u'G', u'A_init', u'C_init', u'E_init', u'F_init', u'G_init', u'B_change', u'E_change', u'F_change', u'G_change', u'A_var', u'B_var', u'C_var', u'E_var', u'F_var', u'G_var'], dtype='object')"
       ]
      },
      {
       "output_type": "stream",
       "stream": "stdout",
       "text": [
        "\n",
        "Number of features:26\n",
        "score:A_purchase:0.876788667577"
       ]
      },
      {
       "output_type": "stream",
       "stream": "stdout",
       "text": [
        "\n",
        "Index([u'shopping_pt', u'group_size', u'homeowner', u'car_age', u'married_couple', u'A', u'C', u'D', u'E', u'F', u'G', u'A_init', u'B_init', u'D_init', u'E_init', u'F_init', u'A_change', u'B_change', u'D_change', u'E_change', u'F_change', u'A_var', u'B_var', u'D_var', u'E_var', u'F_var'], dtype='object')"
       ]
      },
      {
       "output_type": "stream",
       "stream": "stdout",
       "text": [
        "\n",
        "score:B_purchase:0.91101603509"
       ]
      },
      {
       "output_type": "stream",
       "stream": "stdout",
       "text": [
        "\n",
        "Index([u'shopping_pt', u'homeowner', u'C_previous', u'A', u'B', u'D', u'E', u'F', u'G', u'A_init', u'B_init', u'D_init', u'E_init', u'F_init', u'G_init', u'B_change', u'C_change', u'E_change', u'F_change', u'G_change', u'A_var', u'B_var', u'C_var', u'D_var', u'E_var', u'G_var'], dtype='object')"
       ]
      },
      {
       "output_type": "stream",
       "stream": "stdout",
       "text": [
        "\n",
        "score:C_purchase:0.801718558999"
       ]
      },
      {
       "output_type": "stream",
       "stream": "stdout",
       "text": [
        "\n",
        "Index([u'shopping_pt', u'homeowner', u'married_couple', u'C_previous', u'A', u'B', u'C', u'D', u'E', u'F', u'G', u'C_init', u'D_init', u'E_init', u'G_init', u'A_change', u'B_change', u'C_change', u'D_change', u'E_change', u'A_var', u'B_var', u'C_var', u'D_var', u'E_var', u'F_var'], dtype='object')"
       ]
      },
      {
       "output_type": "stream",
       "stream": "stdout",
       "text": [
        "\n",
        "score:D_purchase:0.881534479039"
       ]
      },
      {
       "output_type": "stream",
       "stream": "stdout",
       "text": [
        "\n",
        "Index([u'shopping_pt', u'homeowner', u'C_previous', u'A', u'B', u'C', u'D', u'E', u'G', u'duration_offers', u'A_init', u'C_init', u'D_init', u'E_init', u'F_init', u'B_change', u'C_change', u'D_change', u'F_change', u'G_change', u'A_var', u'C_var', u'D_var', u'E_var', u'F_var', u'G_var'], dtype='object')"
       ]
      },
      {
       "output_type": "stream",
       "stream": "stdout",
       "text": [
        "\n",
        "score:E_purchase:0.916444955778"
       ]
      },
      {
       "output_type": "stream",
       "stream": "stdout",
       "text": [
        "\n",
        "Index([u'shopping_pt', u'group_size', u'homeowner', u'car_age', u'married_couple', u'A', u'C', u'D', u'E', u'G', u'A_init', u'B_init', u'C_init', u'E_init', u'A_change', u'B_change', u'C_change', u'D_change', u'E_change', u'F_change', u'A_var', u'B_var', u'C_var', u'D_var', u'E_var', u'F_var'], dtype='object')"
       ]
      },
      {
       "output_type": "stream",
       "stream": "stdout",
       "text": [
        "\n",
        "score:F_purchase:0.831991083627"
       ]
      },
      {
       "output_type": "stream",
       "stream": "stdout",
       "text": [
        "\n",
        "Index([u'shopping_pt', u'group_size', u'homeowner', u'married_couple', u'A', u'B', u'C', u'D', u'E', u'F', u'G', u'A_init', u'D_init', u'E_init', u'F_init', u'A_change', u'B_change', u'C_change', u'E_change', u'F_change', u'A_var', u'B_var', u'D_var', u'E_var', u'F_var', u'G_var'], dtype='object')"
       ]
      },
      {
       "output_type": "stream",
       "stream": "stdout",
       "text": [
        "\n",
        "score:G_purchase:0.729524699791"
       ]
      },
      {
       "output_type": "stream",
       "stream": "stdout",
       "text": [
        "\n",
        "Index([u'shopping_pt', u'homeowner', u'married_couple', u'A', u'B', u'C', u'D', u'E', u'F', u'G', u'A_init', u'C_init', u'E_init', u'F_init', u'G_init', u'B_change', u'C_change', u'E_change', u'F_change', u'G_change', u'A_var', u'B_var', u'C_var', u'E_var', u'F_var', u'G_var'], dtype='object')"
       ]
      },
      {
       "output_type": "stream",
       "stream": "stdout",
       "text": [
        "\n",
        "Number of features:27\n",
        "score:A_purchase:0.876860573812"
       ]
      },
      {
       "output_type": "stream",
       "stream": "stdout",
       "text": [
        "\n",
        "Index([u'shopping_pt', u'group_size', u'homeowner', u'car_age', u'married_couple', u'A', u'C', u'D', u'E', u'F', u'G', u'A_init', u'B_init', u'D_init', u'E_init', u'F_init', u'A_change', u'B_change', u'D_change', u'E_change', u'F_change', u'G_change', u'A_var', u'B_var', u'D_var', u'E_var', u'F_var'], dtype='object')"
       ]
      },
      {
       "output_type": "stream",
       "stream": "stdout",
       "text": [
        "\n",
        "score:B_purchase:0.91101603509"
       ]
      },
      {
       "output_type": "stream",
       "stream": "stdout",
       "text": [
        "\n",
        "Index([u'shopping_pt', u'homeowner', u'risk_factor', u'C_previous', u'A', u'B', u'D', u'E', u'F', u'G', u'A_init', u'B_init', u'D_init', u'E_init', u'F_init', u'G_init', u'B_change', u'C_change', u'E_change', u'F_change', u'G_change', u'A_var', u'B_var', u'C_var', u'D_var', u'E_var', u'G_var'], dtype='object')"
       ]
      },
      {
       "output_type": "stream",
       "stream": "stdout",
       "text": [
        "\n",
        "score:C_purchase:0.80207809017"
       ]
      },
      {
       "output_type": "stream",
       "stream": "stdout",
       "text": [
        "\n",
        "Index([u'shopping_pt', u'homeowner', u'married_couple', u'C_previous', u'A', u'B', u'C', u'D', u'E', u'F', u'G', u'C_init', u'D_init', u'E_init', u'G_init', u'A_change', u'B_change', u'C_change', u'D_change', u'E_change', u'F_change', u'A_var', u'B_var', u'C_var', u'D_var', u'E_var', u'F_var'], dtype='object')"
       ]
      },
      {
       "output_type": "stream",
       "stream": "stdout",
       "text": [
        "\n",
        "score:D_purchase:0.882541166319"
       ]
      },
      {
       "output_type": "stream",
       "stream": "stdout",
       "text": [
        "\n",
        "Index([u'shopping_pt', u'homeowner', u'C_previous', u'A', u'B', u'C', u'D', u'E', u'G', u'duration_offers', u'A_init', u'C_init', u'D_init', u'E_init', u'F_init', u'G_init', u'B_change', u'C_change', u'D_change', u'F_change', u'G_change', u'A_var', u'C_var', u'D_var', u'E_var', u'F_var', u'G_var'], dtype='object')"
       ]
      },
      {
       "output_type": "stream",
       "stream": "stdout",
       "text": [
        "\n",
        "score:E_purchase:0.916444955778"
       ]
      },
      {
       "output_type": "stream",
       "stream": "stdout",
       "text": [
        "\n",
        "Index([u'shopping_pt', u'group_size', u'homeowner', u'car_age', u'married_couple', u'A', u'C', u'D', u'E', u'G', u'A_init', u'B_init', u'C_init', u'E_init', u'A_change', u'B_change', u'C_change', u'D_change', u'E_change', u'F_change', u'A_var', u'B_var', u'C_var', u'D_var', u'E_var', u'F_var', u'G_var'], dtype='object')"
       ]
      },
      {
       "output_type": "stream",
       "stream": "stdout",
       "text": [
        "\n",
        "score:F_purchase:0.831559646221"
       ]
      },
      {
       "output_type": "stream",
       "stream": "stdout",
       "text": [
        "\n",
        "Index([u'shopping_pt', u'group_size', u'homeowner', u'married_couple', u'A', u'B', u'C', u'D', u'E', u'F', u'G', u'A_init', u'D_init', u'E_init', u'F_init', u'A_change', u'B_change', u'C_change', u'E_change', u'F_change', u'A_var', u'B_var', u'C_var', u'D_var', u'E_var', u'F_var', u'G_var'], dtype='object')"
       ]
      },
      {
       "output_type": "stream",
       "stream": "stdout",
       "text": [
        "\n",
        "score:G_purchase:0.729812324729"
       ]
      },
      {
       "output_type": "stream",
       "stream": "stdout",
       "text": [
        "\n",
        "Index([u'shopping_pt', u'homeowner', u'married_couple', u'A', u'B', u'C', u'D', u'E', u'F', u'G', u'A_init', u'C_init', u'E_init', u'F_init', u'G_init', u'B_change', u'C_change', u'E_change', u'F_change', u'G_change', u'A_var', u'B_var', u'C_var', u'D_var', u'E_var', u'F_var', u'G_var'], dtype='object')"
       ]
      },
      {
       "output_type": "stream",
       "stream": "stdout",
       "text": [
        "\n",
        "Number of features:28\n",
        "score:A_purchase:0.876968433163"
       ]
      },
      {
       "output_type": "stream",
       "stream": "stdout",
       "text": [
        "\n",
        "Index([u'shopping_pt', u'group_size', u'homeowner', u'car_age', u'married_couple', u'A', u'B', u'C', u'D', u'E', u'F', u'G', u'A_init', u'B_init', u'D_init', u'E_init', u'F_init', u'A_change', u'B_change', u'D_change', u'E_change', u'F_change', u'G_change', u'A_var', u'B_var', u'D_var', u'E_var', u'F_var'], dtype='object')"
       ]
      },
      {
       "output_type": "stream",
       "stream": "stdout",
       "text": [
        "\n",
        "score:B_purchase:0.91101603509"
       ]
      },
      {
       "output_type": "stream",
       "stream": "stdout",
       "text": [
        "\n",
        "Index([u'shopping_pt', u'group_size', u'homeowner', u'risk_factor', u'C_previous', u'A', u'B', u'D', u'E', u'F', u'G', u'A_init', u'B_init', u'D_init', u'E_init', u'F_init', u'G_init', u'B_change', u'C_change', u'E_change', u'F_change', u'G_change', u'A_var', u'B_var', u'C_var', u'D_var', u'E_var', u'G_var'], dtype='object')"
       ]
      },
      {
       "output_type": "stream",
       "stream": "stdout",
       "text": [
        "\n",
        "score:C_purchase:0.802006183936"
       ]
      },
      {
       "output_type": "stream",
       "stream": "stdout",
       "text": [
        "\n",
        "Index([u'shopping_pt', u'homeowner', u'married_couple', u'C_previous', u'A', u'B', u'C', u'D', u'E', u'F', u'G', u'C_init', u'D_init', u'E_init', u'G_init', u'A_change', u'B_change', u'C_change', u'D_change', u'E_change', u'F_change', u'A_var', u'B_var', u'C_var', u'D_var', u'E_var', u'F_var', u'G_var'], dtype='object')"
       ]
      },
      {
       "output_type": "stream",
       "stream": "stdout",
       "text": [
        "\n",
        "score:D_purchase:0.883332134896"
       ]
      },
      {
       "output_type": "stream",
       "stream": "stdout",
       "text": [
        "\n",
        "Index([u'shopping_pt', u'homeowner', u'risk_factor', u'C_previous', u'A', u'B', u'C', u'D', u'E', u'G', u'duration_offers', u'A_init', u'C_init', u'D_init', u'E_init', u'F_init', u'G_init', u'B_change', u'C_change', u'D_change', u'F_change', u'G_change', u'A_var', u'C_var', u'D_var', u'E_var', u'F_var', u'G_var'], dtype='object')"
       ]
      },
      {
       "output_type": "stream",
       "stream": "stdout",
       "text": [
        "\n",
        "score:E_purchase:0.916444955778"
       ]
      },
      {
       "output_type": "stream",
       "stream": "stdout",
       "text": [
        "\n",
        "Index([u'shopping_pt', u'group_size', u'homeowner', u'car_age', u'married_couple', u'A', u'C', u'D', u'E', u'G', u'A_init', u'B_init', u'C_init', u'E_init', u'G_init', u'A_change', u'B_change', u'C_change', u'D_change', u'E_change', u'F_change', u'A_var', u'B_var', u'C_var', u'D_var', u'E_var', u'F_var', u'G_var'], dtype='object')"
       ]
      },
      {
       "output_type": "stream",
       "stream": "stdout",
       "text": [
        "\n",
        "score:F_purchase:0.831379880636"
       ]
      },
      {
       "output_type": "stream",
       "stream": "stdout",
       "text": [
        "\n",
        "Index([u'shopping_pt', u'group_size', u'homeowner', u'married_couple', u'A', u'B', u'C', u'D', u'E', u'F', u'G', u'A_init', u'D_init', u'E_init', u'F_init', u'A_change', u'B_change', u'C_change', u'E_change', u'F_change', u'G_change', u'A_var', u'B_var', u'C_var', u'D_var', u'E_var', u'F_var', u'G_var'], dtype='object')"
       ]
      },
      {
       "output_type": "stream",
       "stream": "stdout",
       "text": [
        "\n",
        "score:G_purchase:0.729129215503"
       ]
      },
      {
       "output_type": "stream",
       "stream": "stdout",
       "text": [
        "\n",
        "Index([u'shopping_pt', u'homeowner', u'married_couple', u'A', u'B', u'C', u'D', u'E', u'F', u'G', u'A_init', u'C_init', u'E_init', u'F_init', u'G_init', u'B_change', u'C_change', u'D_change', u'E_change', u'F_change', u'G_change', u'A_var', u'B_var', u'C_var', u'D_var', u'E_var', u'F_var', u'G_var'], dtype='object')"
       ]
      },
      {
       "output_type": "stream",
       "stream": "stdout",
       "text": [
        "\n",
        "Number of features:29\n",
        "score:A_purchase:0.877076292515"
       ]
      },
      {
       "output_type": "stream",
       "stream": "stdout",
       "text": [
        "\n",
        "Index([u'shopping_pt', u'group_size', u'homeowner', u'car_age', u'married_couple', u'A', u'B', u'C', u'D', u'E', u'F', u'G', u'A_init', u'B_init', u'D_init', u'E_init', u'F_init', u'A_change', u'B_change', u'D_change', u'E_change', u'F_change', u'G_change', u'A_var', u'B_var', u'D_var', u'E_var', u'F_var', u'G_var'], dtype='object')"
       ]
      },
      {
       "output_type": "stream",
       "stream": "stdout",
       "text": [
        "\n",
        "score:B_purchase:0.91101603509"
       ]
      },
      {
       "output_type": "stream",
       "stream": "stdout",
       "text": [
        "\n",
        "Index([u'shopping_pt', u'group_size', u'homeowner', u'risk_factor', u'C_previous', u'A', u'B', u'D', u'E', u'F', u'G', u'A_init', u'B_init', u'D_init', u'E_init', u'F_init', u'G_init', u'B_change', u'C_change', u'D_change', u'E_change', u'F_change', u'G_change', u'A_var', u'B_var', u'C_var', u'D_var', u'E_var', u'G_var'], dtype='object')"
       ]
      },
      {
       "output_type": "stream",
       "stream": "stdout",
       "text": [
        "\n",
        "score:C_purchase:0.801790465233"
       ]
      },
      {
       "output_type": "stream",
       "stream": "stdout",
       "text": [
        "\n",
        "Index([u'shopping_pt', u'homeowner', u'married_couple', u'C_previous', u'A', u'B', u'C', u'D', u'E', u'F', u'G', u'B_init', u'C_init', u'D_init', u'E_init', u'G_init', u'A_change', u'B_change', u'C_change', u'D_change', u'E_change', u'F_change', u'A_var', u'B_var', u'C_var', u'D_var', u'E_var', u'F_var', u'G_var'], dtype='object')"
       ]
      },
      {
       "output_type": "stream",
       "stream": "stdout",
       "text": [
        "\n",
        "score:D_purchase:0.883260228662"
       ]
      },
      {
       "output_type": "stream",
       "stream": "stdout",
       "text": [
        "\n",
        "Index([u'shopping_pt', u'homeowner', u'risk_factor', u'C_previous', u'A', u'B', u'C', u'D', u'E', u'G', u'duration_offers', u'A_init', u'B_init', u'C_init', u'D_init', u'E_init', u'F_init', u'G_init', u'B_change', u'C_change', u'D_change', u'F_change', u'G_change', u'A_var', u'C_var', u'D_var', u'E_var', u'F_var', u'G_var'], dtype='object')"
       ]
      },
      {
       "output_type": "stream",
       "stream": "stdout",
       "text": [
        "\n",
        "score:E_purchase:0.916444955778"
       ]
      },
      {
       "output_type": "stream",
       "stream": "stdout",
       "text": [
        "\n",
        "Index([u'shopping_pt', u'group_size', u'homeowner', u'car_age', u'married_couple', u'A', u'B', u'C', u'D', u'E', u'G', u'A_init', u'B_init', u'C_init', u'E_init', u'G_init', u'A_change', u'B_change', u'C_change', u'D_change', u'E_change', u'F_change', u'A_var', u'B_var', u'C_var', u'D_var', u'E_var', u'F_var', u'G_var'], dtype='object')"
       ]
      },
      {
       "output_type": "stream",
       "stream": "stdout",
       "text": [
        "\n",
        "score:F_purchase:0.830912490113"
       ]
      },
      {
       "output_type": "stream",
       "stream": "stdout",
       "text": [
        "\n",
        "Index([u'shopping_pt', u'group_size', u'homeowner', u'married_couple', u'A', u'B', u'C', u'D', u'E', u'F', u'G', u'A_init', u'B_init', u'D_init', u'E_init', u'F_init', u'A_change', u'B_change', u'C_change', u'E_change', u'F_change', u'G_change', u'A_var', u'B_var', u'C_var', u'D_var', u'E_var', u'F_var', u'G_var'], dtype='object')"
       ]
      },
      {
       "output_type": "stream",
       "stream": "stdout",
       "text": [
        "\n",
        "score:G_purchase:0.729201121737"
       ]
      },
      {
       "output_type": "stream",
       "stream": "stdout",
       "text": [
        "\n",
        "Index([u'shopping_pt', u'homeowner', u'married_couple', u'A', u'B', u'C', u'D', u'E', u'F', u'G', u'A_init', u'C_init', u'E_init', u'F_init', u'G_init', u'A_change', u'B_change', u'C_change', u'D_change', u'E_change', u'F_change', u'G_change', u'A_var', u'B_var', u'C_var', u'D_var', u'E_var', u'F_var', u'G_var'], dtype='object')"
       ]
      },
      {
       "output_type": "stream",
       "stream": "stdout",
       "text": [
        "\n",
        "Number of features:30\n",
        "score:A_purchase:0.876968433163"
       ]
      },
      {
       "output_type": "stream",
       "stream": "stdout",
       "text": [
        "\n",
        "Index([u'shopping_pt', u'group_size', u'homeowner', u'car_age', u'married_couple', u'A', u'B', u'C', u'D', u'E', u'F', u'G', u'A_init', u'B_init', u'C_init', u'D_init', u'E_init', u'F_init', u'A_change', u'B_change', u'D_change', u'E_change', u'F_change', u'G_change', u'A_var', u'B_var', u'D_var', u'E_var', u'F_var', u'G_var'], dtype='object')"
       ]
      },
      {
       "output_type": "stream",
       "stream": "stdout",
       "text": [
        "\n",
        "score:B_purchase:0.91101603509"
       ]
      },
      {
       "output_type": "stream",
       "stream": "stdout",
       "text": [
        "\n",
        "Index([u'shopping_pt', u'group_size', u'homeowner', u'risk_factor', u'C_previous', u'A', u'B', u'D', u'E', u'F', u'G', u'A_init', u'B_init', u'D_init', u'E_init', u'F_init', u'G_init', u'A_change', u'B_change', u'C_change', u'D_change', u'E_change', u'F_change', u'G_change', u'A_var', u'B_var', u'C_var', u'D_var', u'E_var', u'G_var'], dtype='object')"
       ]
      },
      {
       "output_type": "stream",
       "stream": "stdout",
       "text": [
        "\n",
        "score:C_purchase:0.802653340045"
       ]
      },
      {
       "output_type": "stream",
       "stream": "stdout",
       "text": [
        "\n",
        "Index([u'shopping_pt', u'homeowner', u'risk_factor', u'married_couple', u'C_previous', u'A', u'B', u'C', u'D', u'E', u'F', u'G', u'B_init', u'C_init', u'D_init', u'E_init', u'G_init', u'A_change', u'B_change', u'C_change', u'D_change', u'E_change', u'F_change', u'A_var', u'B_var', u'C_var', u'D_var', u'E_var', u'F_var', u'G_var'], dtype='object')"
       ]
      },
      {
       "output_type": "stream",
       "stream": "stdout",
       "text": [
        "\n",
        "score:D_purchase:0.883224275545"
       ]
      },
      {
       "output_type": "stream",
       "stream": "stdout",
       "text": [
        "\n",
        "Index([u'shopping_pt', u'homeowner', u'risk_factor', u'C_previous', u'A', u'B', u'C', u'D', u'E', u'G', u'duration_offers', u'A_init', u'B_init', u'C_init', u'D_init', u'E_init', u'F_init', u'G_init', u'B_change', u'C_change', u'D_change', u'F_change', u'G_change', u'A_var', u'B_var', u'C_var', u'D_var', u'E_var', u'F_var', u'G_var'], dtype='object')"
       ]
      },
      {
       "output_type": "stream",
       "stream": "stdout",
       "text": [
        "\n",
        "score:E_purchase:0.916444955778"
       ]
      },
      {
       "output_type": "stream",
       "stream": "stdout",
       "text": [
        "\n",
        "Index([u'shopping_pt', u'group_size', u'homeowner', u'car_age', u'married_couple', u'C_previous', u'A', u'B', u'C', u'D', u'E', u'G', u'A_init', u'B_init', u'C_init', u'E_init', u'G_init', u'A_change', u'B_change', u'C_change', u'D_change', u'E_change', u'F_change', u'A_var', u'B_var', u'C_var', u'D_var', u'E_var', u'F_var', u'G_var'], dtype='object')"
       ]
      },
      {
       "output_type": "stream",
       "stream": "stdout",
       "text": [
        "\n",
        "score:F_purchase:0.821492773423"
       ]
      },
      {
       "output_type": "stream",
       "stream": "stdout",
       "text": [
        "\n",
        "Index([u'shopping_pt', u'group_size', u'homeowner', u'car_age', u'married_couple', u'A', u'B', u'C', u'D', u'E', u'F', u'G', u'A_init', u'B_init', u'D_init', u'E_init', u'F_init', u'A_change', u'B_change', u'C_change', u'E_change', u'F_change', u'G_change', u'A_var', u'B_var', u'C_var', u'D_var', u'E_var', u'F_var', u'G_var'], dtype='object')"
       ]
      },
      {
       "output_type": "stream",
       "stream": "stdout",
       "text": [
        "\n",
        "score:G_purchase:0.728805637449"
       ]
      },
      {
       "output_type": "stream",
       "stream": "stdout",
       "text": [
        "\n",
        "Index([u'shopping_pt', u'homeowner', u'married_couple', u'A', u'B', u'C', u'D', u'E', u'F', u'G', u'A_init', u'B_init', u'C_init', u'E_init', u'F_init', u'G_init', u'A_change', u'B_change', u'C_change', u'D_change', u'E_change', u'F_change', u'G_change', u'A_var', u'B_var', u'C_var', u'D_var', u'E_var', u'F_var', u'G_var'], dtype='object')"
       ]
      },
      {
       "output_type": "stream",
       "stream": "stdout",
       "text": [
        "\n",
        "Number of features:31\n",
        "score:A_purchase:0.876716761343"
       ]
      },
      {
       "output_type": "stream",
       "stream": "stdout",
       "text": [
        "\n",
        "Index([u'shopping_pt', u'group_size', u'homeowner', u'car_age', u'married_couple', u'duration_previous', u'A', u'B', u'C', u'D', u'E', u'F', u'G', u'A_init', u'B_init', u'C_init', u'D_init', u'E_init', u'F_init', u'A_change', u'B_change', u'D_change', u'E_change', u'F_change', u'G_change', u'A_var', u'B_var', u'D_var', u'E_var', u'F_var', u'G_var'], dtype='object')"
       ]
      },
      {
       "output_type": "stream",
       "stream": "stdout",
       "text": [
        "\n",
        "score:B_purchase:0.91101603509"
       ]
      },
      {
       "output_type": "stream",
       "stream": "stdout",
       "text": [
        "\n",
        "Index([u'shopping_pt', u'group_size', u'homeowner', u'risk_factor', u'C_previous', u'A', u'B', u'D', u'E', u'F', u'G', u'duration_offers', u'A_init', u'B_init', u'D_init', u'E_init', u'F_init', u'G_init', u'A_change', u'B_change', u'C_change', u'D_change', u'E_change', u'F_change', u'G_change', u'A_var', u'B_var', u'C_var', u'D_var', u'E_var', u'G_var'], dtype='object')"
       ]
      },
      {
       "output_type": "stream",
       "stream": "stdout",
       "text": [
        "\n",
        "score:C_purchase:0.80283310563"
       ]
      },
      {
       "output_type": "stream",
       "stream": "stdout",
       "text": [
        "\n",
        "Index([u'shopping_pt', u'group_size', u'homeowner', u'risk_factor', u'married_couple', u'C_previous', u'A', u'B', u'C', u'D', u'E', u'F', u'G', u'B_init', u'C_init', u'D_init', u'E_init', u'G_init', u'A_change', u'B_change', u'C_change', u'D_change', u'E_change', u'F_change', u'A_var', u'B_var', u'C_var', u'D_var', u'E_var', u'F_var', u'G_var'], dtype='object')"
       ]
      },
      {
       "output_type": "stream",
       "stream": "stdout",
       "text": [
        "\n",
        "score:D_purchase:0.883332134896"
       ]
      },
      {
       "output_type": "stream",
       "stream": "stdout",
       "text": [
        "\n",
        "Index([u'shopping_pt', u'group_size', u'homeowner', u'risk_factor', u'married_couple', u'C_previous', u'A', u'B', u'C', u'D', u'E', u'G', u'duration_offers', u'A_init', u'B_init', u'C_init', u'D_init', u'E_init', u'F_init', u'G_init', u'B_change', u'C_change', u'D_change', u'F_change', u'G_change', u'A_var', u'C_var', u'D_var', u'E_var', u'F_var', u'G_var'], dtype='object')"
       ]
      },
      {
       "output_type": "stream",
       "stream": "stdout",
       "text": [
        "\n",
        "score:E_purchase:0.916444955778"
       ]
      },
      {
       "output_type": "stream",
       "stream": "stdout",
       "text": [
        "\n",
        "Index([u'shopping_pt', u'group_size', u'homeowner', u'car_age', u'married_couple', u'C_previous', u'A', u'B', u'C', u'D', u'E', u'G', u'A_init', u'B_init', u'C_init', u'D_init', u'E_init', u'G_init', u'A_change', u'B_change', u'C_change', u'D_change', u'E_change', u'F_change', u'A_var', u'B_var', u'C_var', u'D_var', u'E_var', u'F_var', u'G_var'], dtype='object')"
       ]
      },
      {
       "output_type": "stream",
       "stream": "stdout",
       "text": [
        "\n",
        "score:F_purchase:0.821420867189"
       ]
      },
      {
       "output_type": "stream",
       "stream": "stdout",
       "text": [
        "\n",
        "Index([u'shopping_pt', u'group_size', u'homeowner', u'car_age', u'married_couple', u'A', u'B', u'C', u'D', u'E', u'F', u'G', u'A_init', u'B_init', u'C_init', u'D_init', u'E_init', u'F_init', u'A_change', u'B_change', u'C_change', u'E_change', u'F_change', u'G_change', u'A_var', u'B_var', u'C_var', u'D_var', u'E_var', u'F_var', u'G_var'], dtype='object')"
       ]
      },
      {
       "output_type": "stream",
       "stream": "stdout",
       "text": [
        "\n",
        "score:G_purchase:0.728518012512"
       ]
      },
      {
       "output_type": "stream",
       "stream": "stdout",
       "text": [
        "\n",
        "Index([u'shopping_pt', u'homeowner', u'married_couple', u'A', u'B', u'C', u'D', u'E', u'F', u'G', u'A_init', u'B_init', u'C_init', u'D_init', u'E_init', u'F_init', u'G_init', u'A_change', u'B_change', u'C_change', u'D_change', u'E_change', u'F_change', u'G_change', u'A_var', u'B_var', u'C_var', u'D_var', u'E_var', u'F_var', u'G_var'], dtype='object')"
       ]
      },
      {
       "output_type": "stream",
       "stream": "stdout",
       "text": [
        "\n",
        "Number of features:32\n",
        "score:A_purchase:0.876680808226"
       ]
      },
      {
       "output_type": "stream",
       "stream": "stdout",
       "text": [
        "\n",
        "Index([u'shopping_pt', u'group_size', u'homeowner', u'car_age', u'married_couple', u'duration_previous', u'A', u'B', u'C', u'D', u'E', u'F', u'G', u'A_init', u'B_init', u'C_init', u'D_init', u'E_init', u'F_init', u'A_change', u'B_change', u'D_change', u'E_change', u'F_change', u'G_change', u'A_var', u'B_var', u'C_var', u'D_var', u'E_var', u'F_var', u'G_var'], dtype='object')"
       ]
      },
      {
       "output_type": "stream",
       "stream": "stdout",
       "text": [
        "\n",
        "score:B_purchase:0.91101603509"
       ]
      },
      {
       "output_type": "stream",
       "stream": "stdout",
       "text": [
        "\n",
        "Index([u'shopping_pt', u'group_size', u'homeowner', u'car_age', u'risk_factor', u'C_previous', u'A', u'B', u'D', u'E', u'F', u'G', u'duration_offers', u'A_init', u'B_init', u'D_init', u'E_init', u'F_init', u'G_init', u'A_change', u'B_change', u'C_change', u'D_change', u'E_change', u'F_change', u'G_change', u'A_var', u'B_var', u'C_var', u'D_var', u'E_var', u'G_var'], dtype='object')"
       ]
      },
      {
       "output_type": "stream",
       "stream": "stdout",
       "text": [
        "\n",
        "score:C_purchase:0.802545480693"
       ]
      },
      {
       "output_type": "stream",
       "stream": "stdout",
       "text": [
        "\n",
        "Index([u'shopping_pt', u'group_size', u'homeowner', u'risk_factor', u'married_couple', u'C_previous', u'A', u'B', u'C', u'D', u'E', u'F', u'G', u'B_init', u'C_init', u'D_init', u'E_init', u'F_init', u'G_init', u'A_change', u'B_change', u'C_change', u'D_change', u'E_change', u'F_change', u'A_var', u'B_var', u'C_var', u'D_var', u'E_var', u'F_var', u'G_var'], dtype='object')"
       ]
      },
      {
       "output_type": "stream",
       "stream": "stdout",
       "text": [
        "\n",
        "score:D_purchase:0.883260228662"
       ]
      },
      {
       "output_type": "stream",
       "stream": "stdout",
       "text": [
        "\n",
        "Index([u'shopping_pt', u'group_size', u'homeowner', u'risk_factor', u'married_couple', u'C_previous', u'A', u'B', u'C', u'D', u'E', u'G', u'duration_offers', u'A_init', u'B_init', u'C_init', u'D_init', u'E_init', u'F_init', u'G_init', u'B_change', u'C_change', u'D_change', u'F_change', u'G_change', u'A_var', u'B_var', u'C_var', u'D_var', u'E_var', u'F_var', u'G_var'], dtype='object')"
       ]
      },
      {
       "output_type": "stream",
       "stream": "stdout",
       "text": [
        "\n",
        "score:E_purchase:0.916444955778"
       ]
      },
      {
       "output_type": "stream",
       "stream": "stdout",
       "text": [
        "\n",
        "Index([u'shopping_pt', u'group_size', u'homeowner', u'car_age', u'risk_factor', u'married_couple', u'C_previous', u'A', u'B', u'C', u'D', u'E', u'G', u'A_init', u'B_init', u'C_init', u'D_init', u'E_init', u'G_init', u'A_change', u'B_change', u'C_change', u'D_change', u'E_change', u'F_change', u'A_var', u'B_var', u'C_var', u'D_var', u'E_var', u'F_var', u'G_var'], dtype='object')"
       ]
      },
      {
       "output_type": "stream",
       "stream": "stdout",
       "text": [
        "\n",
        "score:F_purchase:0.820917523549"
       ]
      },
      {
       "output_type": "stream",
       "stream": "stdout",
       "text": [
        "\n",
        "Index([u'shopping_pt', u'group_size', u'homeowner', u'car_age', u'married_couple', u'C_previous', u'A', u'B', u'C', u'D', u'E', u'F', u'G', u'A_init', u'B_init', u'C_init', u'D_init', u'E_init', u'F_init', u'A_change', u'B_change', u'C_change', u'E_change', u'F_change', u'G_change', u'A_var', u'B_var', u'C_var', u'D_var', u'E_var', u'F_var', u'G_var'], dtype='object')"
       ]
      },
      {
       "output_type": "stream",
       "stream": "stdout",
       "text": [
        "\n",
        "score:G_purchase:0.728014668872"
       ]
      },
      {
       "output_type": "stream",
       "stream": "stdout",
       "text": [
        "\n",
        "Index([u'shopping_pt', u'homeowner', u'married_couple', u'C_previous', u'A', u'B', u'C', u'D', u'E', u'F', u'G', u'A_init', u'B_init', u'C_init', u'D_init', u'E_init', u'F_init', u'G_init', u'A_change', u'B_change', u'C_change', u'D_change', u'E_change', u'F_change', u'G_change', u'A_var', u'B_var', u'C_var', u'D_var', u'E_var', u'F_var', u'G_var'], dtype='object')"
       ]
      },
      {
       "output_type": "stream",
       "stream": "stdout",
       "text": [
        "\n",
        "Number of features:33\n",
        "score:A_purchase:0.876213417703"
       ]
      },
      {
       "output_type": "stream",
       "stream": "stdout",
       "text": [
        "\n",
        "Index([u'shopping_pt', u'group_size', u'homeowner', u'car_age', u'married_couple', u'C_previous', u'duration_previous', u'A', u'B', u'C', u'D', u'E', u'F', u'G', u'A_init', u'B_init', u'C_init', u'D_init', u'E_init', u'F_init', u'A_change', u'B_change', u'D_change', u'E_change', u'F_change', u'G_change', u'A_var', u'B_var', u'C_var', u'D_var', u'E_var', u'F_var', u'G_var'], dtype='object')"
       ]
      },
      {
       "output_type": "stream",
       "stream": "stdout",
       "text": [
        "\n",
        "score:B_purchase:0.91101603509"
       ]
      },
      {
       "output_type": "stream",
       "stream": "stdout",
       "text": [
        "\n",
        "Index([u'shopping_pt', u'group_size', u'homeowner', u'car_age', u'risk_factor', u'married_couple', u'C_previous', u'A', u'B', u'D', u'E', u'F', u'G', u'duration_offers', u'A_init', u'B_init', u'D_init', u'E_init', u'F_init', u'G_init', u'A_change', u'B_change', u'C_change', u'D_change', u'E_change', u'F_change', u'G_change', u'A_var', u'B_var', u'C_var', u'D_var', u'E_var', u'G_var'], dtype='object')"
       ]
      },
      {
       "output_type": "stream",
       "stream": "stdout",
       "text": [
        "\n",
        "score:C_purchase:0.802114043288"
       ]
      },
      {
       "output_type": "stream",
       "stream": "stdout",
       "text": [
        "\n",
        "Index([u'shopping_pt', u'group_size', u'homeowner', u'risk_factor', u'married_couple', u'C_previous', u'A', u'B', u'C', u'D', u'E', u'F', u'G', u'B_init', u'C_init', u'D_init', u'E_init', u'F_init', u'G_init', u'A_change', u'B_change', u'C_change', u'D_change', u'E_change', u'F_change', u'G_change', u'A_var', u'B_var', u'C_var', u'D_var', u'E_var', u'F_var', u'G_var'], dtype='object')"
       ]
      },
      {
       "output_type": "stream",
       "stream": "stdout",
       "text": [
        "\n",
        "score:D_purchase:0.883368088013"
       ]
      },
      {
       "output_type": "stream",
       "stream": "stdout",
       "text": [
        "\n",
        "Index([u'shopping_pt', u'group_size', u'homeowner', u'risk_factor', u'married_couple', u'C_previous', u'A', u'B', u'C', u'D', u'E', u'G', u'duration_offers', u'A_init', u'B_init', u'C_init', u'D_init', u'E_init', u'F_init', u'G_init', u'B_change', u'C_change', u'D_change', u'E_change', u'F_change', u'G_change', u'A_var', u'B_var', u'C_var', u'D_var', u'E_var', u'F_var', u'G_var'], dtype='object')"
       ]
      },
      {
       "output_type": "stream",
       "stream": "stdout",
       "text": [
        "\n",
        "score:E_purchase:0.916444955778"
       ]
      },
      {
       "output_type": "stream",
       "stream": "stdout",
       "text": [
        "\n",
        "Index([u'shopping_pt', u'group_size', u'homeowner', u'car_age', u'risk_factor', u'married_couple', u'C_previous', u'A', u'B', u'C', u'D', u'E', u'G', u'duration_offers', u'A_init', u'B_init', u'C_init', u'D_init', u'E_init', u'G_init', u'A_change', u'B_change', u'C_change', u'D_change', u'E_change', u'F_change', u'A_var', u'B_var', u'C_var', u'D_var', u'E_var', u'F_var', u'G_var'], dtype='object')"
       ]
      },
      {
       "output_type": "stream",
       "stream": "stdout",
       "text": [
        "\n",
        "score:F_purchase:0.821025382901"
       ]
      },
      {
       "output_type": "stream",
       "stream": "stdout",
       "text": [
        "\n",
        "Index([u'shopping_pt', u'group_size', u'homeowner', u'car_age', u'married_couple', u'C_previous', u'A', u'B', u'C', u'D', u'E', u'F', u'G', u'A_init', u'B_init', u'C_init', u'D_init', u'E_init', u'F_init', u'A_change', u'B_change', u'C_change', u'D_change', u'E_change', u'F_change', u'G_change', u'A_var', u'B_var', u'C_var', u'D_var', u'E_var', u'F_var', u'G_var'], dtype='object')"
       ]
      },
      {
       "output_type": "stream",
       "stream": "stdout",
       "text": [
        "\n",
        "score:G_purchase:0.727798950169"
       ]
      },
      {
       "output_type": "stream",
       "stream": "stdout",
       "text": [
        "\n",
        "Index([u'shopping_pt', u'group_size', u'homeowner', u'married_couple', u'C_previous', u'A', u'B', u'C', u'D', u'E', u'F', u'G', u'A_init', u'B_init', u'C_init', u'D_init', u'E_init', u'F_init', u'G_init', u'A_change', u'B_change', u'C_change', u'D_change', u'E_change', u'F_change', u'G_change', u'A_var', u'B_var', u'C_var', u'D_var', u'E_var', u'F_var', u'G_var'], dtype='object')"
       ]
      },
      {
       "output_type": "stream",
       "stream": "stdout",
       "text": [
        "\n",
        "Number of features:34\n",
        "score:A_purchase:0.876572948875"
       ]
      },
      {
       "output_type": "stream",
       "stream": "stdout",
       "text": [
        "\n",
        "Index([u'shopping_pt', u'group_size', u'homeowner', u'car_age', u'married_couple', u'C_previous', u'duration_previous', u'A', u'B', u'C', u'D', u'E', u'F', u'G', u'A_init', u'B_init', u'C_init', u'D_init', u'E_init', u'F_init', u'G_init', u'A_change', u'B_change', u'D_change', u'E_change', u'F_change', u'G_change', u'A_var', u'B_var', u'C_var', u'D_var', u'E_var', u'F_var', u'G_var'], dtype='object')"
       ]
      },
      {
       "output_type": "stream",
       "stream": "stdout",
       "text": [
        "\n",
        "score:B_purchase:0.91101603509"
       ]
      },
      {
       "output_type": "stream",
       "stream": "stdout",
       "text": [
        "\n",
        "Index([u'shopping_pt', u'group_size', u'homeowner', u'car_age', u'risk_factor', u'C_previous', u'A', u'B', u'D', u'E', u'F', u'G', u'duration_offers', u'A_init', u'B_init', u'C_init', u'D_init', u'E_init', u'F_init', u'G_init', u'A_change', u'B_change', u'C_change', u'D_change', u'E_change', u'F_change', u'G_change', u'A_var', u'B_var', u'C_var', u'D_var', u'E_var', u'F_var', u'G_var'], dtype='object')"
       ]
      },
      {
       "output_type": "stream",
       "stream": "stdout",
       "text": [
        "\n",
        "score:C_purchase:0.802149996405"
       ]
      },
      {
       "output_type": "stream",
       "stream": "stdout",
       "text": [
        "\n",
        "Index([u'shopping_pt', u'group_size', u'homeowner', u'car_value', u'risk_factor', u'married_couple', u'C_previous', u'A', u'B', u'C', u'D', u'E', u'F', u'G', u'B_init', u'C_init', u'D_init', u'E_init', u'F_init', u'G_init', u'A_change', u'B_change', u'C_change', u'D_change', u'E_change', u'F_change', u'G_change', u'A_var', u'B_var', u'C_var', u'D_var', u'E_var', u'F_var', u'G_var'], dtype='object')"
       ]
      },
      {
       "output_type": "stream",
       "stream": "stdout",
       "text": [
        "\n",
        "score:D_purchase:0.883296181779"
       ]
      },
      {
       "output_type": "stream",
       "stream": "stdout",
       "text": [
        "\n",
        "Index([u'shopping_pt', u'group_size', u'homeowner', u'risk_factor', u'married_couple', u'C_previous', u'A', u'B', u'C', u'D', u'E', u'G', u'duration_offers', u'A_init', u'B_init', u'C_init', u'D_init', u'E_init', u'F_init', u'G_init', u'A_change', u'B_change', u'C_change', u'D_change', u'E_change', u'F_change', u'G_change', u'A_var', u'B_var', u'C_var', u'D_var', u'E_var', u'F_var', u'G_var'], dtype='object')"
       ]
      },
      {
       "output_type": "stream",
       "stream": "stdout",
       "text": [
        "\n",
        "score:E_purchase:0.916444955778"
       ]
      },
      {
       "output_type": "stream",
       "stream": "stdout",
       "text": [
        "\n",
        "Index([u'shopping_pt', u'group_size', u'homeowner', u'car_age', u'car_value', u'risk_factor', u'married_couple', u'C_previous', u'A', u'B', u'C', u'D', u'E', u'G', u'duration_offers', u'A_init', u'B_init', u'C_init', u'D_init', u'E_init', u'G_init', u'A_change', u'B_change', u'C_change', u'D_change', u'E_change', u'F_change', u'A_var', u'B_var', u'C_var', u'D_var', u'E_var', u'F_var', u'G_var'], dtype='object')"
       ]
      },
      {
       "output_type": "stream",
       "stream": "stdout",
       "text": [
        "\n",
        "score:F_purchase:0.817501977421"
       ]
      },
      {
       "output_type": "stream",
       "stream": "stdout",
       "text": [
        "\n",
        "Index([u'shopping_pt', u'state', u'group_size', u'homeowner', u'car_age', u'married_couple', u'C_previous', u'A', u'B', u'C', u'D', u'E', u'F', u'G', u'A_init', u'B_init', u'C_init', u'D_init', u'E_init', u'F_init', u'A_change', u'B_change', u'C_change', u'D_change', u'E_change', u'F_change', u'G_change', u'A_var', u'B_var', u'C_var', u'D_var', u'E_var', u'F_var', u'G_var'], dtype='object')"
       ]
      },
      {
       "output_type": "stream",
       "stream": "stdout",
       "text": [
        "\n",
        "score:G_purchase:0.729201121737"
       ]
      },
      {
       "output_type": "stream",
       "stream": "stdout",
       "text": [
        "\n",
        "Index([u'shopping_pt', u'group_size', u'homeowner', u'risk_factor', u'married_couple', u'C_previous', u'A', u'B', u'C', u'D', u'E', u'F', u'G', u'A_init', u'B_init', u'C_init', u'D_init', u'E_init', u'F_init', u'G_init', u'A_change', u'B_change', u'C_change', u'D_change', u'E_change', u'F_change', u'G_change', u'A_var', u'B_var', u'C_var', u'D_var', u'E_var', u'F_var', u'G_var'], dtype='object')"
       ]
      },
      {
       "output_type": "stream",
       "stream": "stdout",
       "text": [
        "\n",
        "Number of features:35\n",
        "score:A_purchase:0.876213417703"
       ]
      },
      {
       "output_type": "stream",
       "stream": "stdout",
       "text": [
        "\n",
        "Index([u'shopping_pt', u'group_size', u'homeowner', u'car_age', u'car_value', u'married_couple', u'C_previous', u'duration_previous', u'A', u'B', u'C', u'D', u'E', u'F', u'G', u'A_init', u'B_init', u'C_init', u'D_init', u'E_init', u'F_init', u'G_init', u'A_change', u'B_change', u'D_change', u'E_change', u'F_change', u'G_change', u'A_var', u'B_var', u'C_var', u'D_var', u'E_var', u'F_var', u'G_var'], dtype='object')"
       ]
      },
      {
       "output_type": "stream",
       "stream": "stdout",
       "text": [
        "\n",
        "score:B_purchase:0.91101603509"
       ]
      },
      {
       "output_type": "stream",
       "stream": "stdout",
       "text": [
        "\n",
        "Index([u'shopping_pt', u'group_size', u'homeowner', u'car_age', u'risk_factor', u'married_couple', u'C_previous', u'A', u'B', u'D', u'E', u'F', u'G', u'duration_offers', u'A_init', u'B_init', u'C_init', u'D_init', u'E_init', u'F_init', u'G_init', u'A_change', u'B_change', u'C_change', u'D_change', u'E_change', u'F_change', u'G_change', u'A_var', u'B_var', u'C_var', u'D_var', u'E_var', u'F_var', u'G_var'], dtype='object')"
       ]
      },
      {
       "output_type": "stream",
       "stream": "stdout",
       "text": [
        "\n",
        "score:C_purchase:0.802149996405"
       ]
      },
      {
       "output_type": "stream",
       "stream": "stdout",
       "text": [
        "\n",
        "Index([u'shopping_pt', u'group_size', u'homeowner', u'car_value', u'risk_factor', u'married_couple', u'C_previous', u'A', u'B', u'C', u'D', u'E', u'F', u'G', u'A_init', u'B_init', u'C_init', u'D_init', u'E_init', u'F_init', u'G_init', u'A_change', u'B_change', u'C_change', u'D_change', u'E_change', u'F_change', u'G_change', u'A_var', u'B_var', u'C_var', u'D_var', u'E_var', u'F_var', u'G_var'], dtype='object')"
       ]
      },
      {
       "output_type": "stream",
       "stream": "stdout",
       "text": [
        "\n",
        "score:D_purchase:0.883547853599"
       ]
      },
      {
       "output_type": "stream",
       "stream": "stdout",
       "text": [
        "\n",
        "Index([u'shopping_pt', u'group_size', u'homeowner', u'risk_factor', u'married_couple', u'C_previous', u'A', u'B', u'C', u'D', u'E', u'F', u'G', u'duration_offers', u'A_init', u'B_init', u'C_init', u'D_init', u'E_init', u'F_init', u'G_init', u'A_change', u'B_change', u'C_change', u'D_change', u'E_change', u'F_change', u'G_change', u'A_var', u'B_var', u'C_var', u'D_var', u'E_var', u'F_var', u'G_var'], dtype='object')"
       ]
      },
      {
       "output_type": "stream",
       "stream": "stdout",
       "text": [
        "\n",
        "score:E_purchase:0.916444955778"
       ]
      },
      {
       "output_type": "stream",
       "stream": "stdout",
       "text": [
        "\n",
        "Index([u'shopping_pt', u'group_size', u'homeowner', u'car_age', u'car_value', u'risk_factor', u'age_youngest', u'married_couple', u'C_previous', u'A', u'B', u'C', u'D', u'E', u'G', u'duration_offers', u'A_init', u'B_init', u'C_init', u'D_init', u'E_init', u'G_init', u'A_change', u'B_change', u'C_change', u'D_change', u'E_change', u'F_change', u'A_var', u'B_var', u'C_var', u'D_var', u'E_var', u'F_var', u'G_var'], dtype='object')"
       ]
      },
      {
       "output_type": "stream",
       "stream": "stdout",
       "text": [
        "\n",
        "score:F_purchase:0.817466024304"
       ]
      },
      {
       "output_type": "stream",
       "stream": "stdout",
       "text": [
        "\n",
        "Index([u'shopping_pt', u'state', u'group_size', u'homeowner', u'car_age', u'married_couple', u'C_previous', u'A', u'B', u'C', u'D', u'E', u'F', u'G', u'A_init', u'B_init', u'C_init', u'D_init', u'E_init', u'F_init', u'G_init', u'A_change', u'B_change', u'C_change', u'D_change', u'E_change', u'F_change', u'G_change', u'A_var', u'B_var', u'C_var', u'D_var', u'E_var', u'F_var', u'G_var'], dtype='object')"
       ]
      },
      {
       "output_type": "stream",
       "stream": "stdout",
       "text": [
        "\n",
        "score:G_purchase:0.728985403034"
       ]
      },
      {
       "output_type": "stream",
       "stream": "stdout",
       "text": [
        "\n",
        "Index([u'shopping_pt', u'group_size', u'homeowner', u'car_value', u'risk_factor', u'married_couple', u'C_previous', u'A', u'B', u'C', u'D', u'E', u'F', u'G', u'A_init', u'B_init', u'C_init', u'D_init', u'E_init', u'F_init', u'G_init', u'A_change', u'B_change', u'C_change', u'D_change', u'E_change', u'F_change', u'G_change', u'A_var', u'B_var', u'C_var', u'D_var', u'E_var', u'F_var', u'G_var'], dtype='object')"
       ]
      },
      {
       "output_type": "stream",
       "stream": "stdout",
       "text": [
        "\n",
        "Number of features:36\n",
        "score:A_purchase:0.87650104264"
       ]
      },
      {
       "output_type": "stream",
       "stream": "stdout",
       "text": [
        "\n",
        "Index([u'shopping_pt', u'group_size', u'homeowner', u'car_age', u'car_value', u'married_couple', u'C_previous', u'duration_previous', u'A', u'B', u'C', u'D', u'E', u'F', u'G', u'A_init', u'B_init', u'C_init', u'D_init', u'E_init', u'F_init', u'G_init', u'A_change', u'B_change', u'C_change', u'D_change', u'E_change', u'F_change', u'G_change', u'A_var', u'B_var', u'C_var', u'D_var', u'E_var', u'F_var', u'G_var'], dtype='object')"
       ]
      },
      {
       "output_type": "stream",
       "stream": "stdout",
       "text": [
        "\n",
        "score:B_purchase:0.91101603509"
       ]
      },
      {
       "output_type": "stream",
       "stream": "stdout",
       "text": [
        "\n",
        "Index([u'shopping_pt', u'group_size', u'homeowner', u'car_age', u'car_value', u'risk_factor', u'married_couple', u'C_previous', u'A', u'B', u'D', u'E', u'F', u'G', u'duration_offers', u'A_init', u'B_init', u'C_init', u'D_init', u'E_init', u'F_init', u'G_init', u'A_change', u'B_change', u'C_change', u'D_change', u'E_change', u'F_change', u'G_change', u'A_var', u'B_var', u'C_var', u'D_var', u'E_var', u'F_var', u'G_var'], dtype='object')"
       ]
      },
      {
       "output_type": "stream",
       "stream": "stdout",
       "text": [
        "\n",
        "score:C_purchase:0.80232976199"
       ]
      },
      {
       "output_type": "stream",
       "stream": "stdout",
       "text": [
        "\n",
        "Index([u'shopping_pt', u'group_size', u'homeowner', u'car_value', u'risk_factor', u'married_couple', u'C_previous', u'A', u'B', u'C', u'D', u'E', u'F', u'G', u'duration_offers', u'A_init', u'B_init', u'C_init', u'D_init', u'E_init', u'F_init', u'G_init', u'A_change', u'B_change', u'C_change', u'D_change', u'E_change', u'F_change', u'G_change', u'A_var', u'B_var', u'C_var', u'D_var', u'E_var', u'F_var', u'G_var'], dtype='object')"
       ]
      },
      {
       "output_type": "stream",
       "stream": "stdout",
       "text": [
        "\n",
        "score:D_purchase:0.883044509959"
       ]
      },
      {
       "output_type": "stream",
       "stream": "stdout",
       "text": [
        "\n",
        "Index([u'shopping_pt', u'group_size', u'homeowner', u'car_value', u'risk_factor', u'married_couple', u'C_previous', u'A', u'B', u'C', u'D', u'E', u'F', u'G', u'duration_offers', u'A_init', u'B_init', u'C_init', u'D_init', u'E_init', u'F_init', u'G_init', u'A_change', u'B_change', u'C_change', u'D_change', u'E_change', u'F_change', u'G_change', u'A_var', u'B_var', u'C_var', u'D_var', u'E_var', u'F_var', u'G_var'], dtype='object')"
       ]
      },
      {
       "output_type": "stream",
       "stream": "stdout",
       "text": [
        "\n",
        "score:E_purchase:0.916444955778"
       ]
      },
      {
       "output_type": "stream",
       "stream": "stdout",
       "text": [
        "\n",
        "Index([u'shopping_pt', u'group_size', u'homeowner', u'car_age', u'car_value', u'risk_factor', u'age_youngest', u'married_couple', u'C_previous', u'A', u'B', u'C', u'D', u'E', u'G', u'duration_offers', u'A_init', u'B_init', u'C_init', u'D_init', u'E_init', u'F_init', u'G_init', u'A_change', u'B_change', u'C_change', u'D_change', u'E_change', u'F_change', u'A_var', u'B_var', u'C_var', u'D_var', u'E_var', u'F_var', u'G_var'], dtype='object')"
       ]
      },
      {
       "output_type": "stream",
       "stream": "stdout",
       "text": [
        "\n",
        "score:F_purchase:0.817466024304"
       ]
      },
      {
       "output_type": "stream",
       "stream": "stdout",
       "text": [
        "\n",
        "Index([u'shopping_pt', u'state', u'group_size', u'homeowner', u'car_age', u'married_couple', u'C_previous', u'A', u'B', u'C', u'D', u'E', u'F', u'G', u'duration_offers', u'A_init', u'B_init', u'C_init', u'D_init', u'E_init', u'F_init', u'G_init', u'A_change', u'B_change', u'C_change', u'D_change', u'E_change', u'F_change', u'G_change', u'A_var', u'B_var', u'C_var', u'D_var', u'E_var', u'F_var', u'G_var'], dtype='object')"
       ]
      },
      {
       "output_type": "stream",
       "stream": "stdout",
       "text": [
        "\n",
        "score:G_purchase:0.728625871863"
       ]
      },
      {
       "output_type": "stream",
       "stream": "stdout",
       "text": [
        "\n",
        "Index([u'shopping_pt', u'group_size', u'homeowner', u'car_value', u'risk_factor', u'married_couple', u'C_previous', u'duration_previous', u'A', u'B', u'C', u'D', u'E', u'F', u'G', u'A_init', u'B_init', u'C_init', u'D_init', u'E_init', u'F_init', u'G_init', u'A_change', u'B_change', u'C_change', u'D_change', u'E_change', u'F_change', u'G_change', u'A_var', u'B_var', u'C_var', u'D_var', u'E_var', u'F_var', u'G_var'], dtype='object')"
       ]
      },
      {
       "output_type": "stream",
       "stream": "stdout",
       "text": [
        "\n",
        "Number of features:37\n",
        "score:A_purchase:0.876105558352"
       ]
      },
      {
       "output_type": "stream",
       "stream": "stdout",
       "text": [
        "\n",
        "Index([u'shopping_pt', u'day', u'group_size', u'homeowner', u'car_age', u'car_value', u'married_couple', u'C_previous', u'duration_previous', u'A', u'B', u'C', u'D', u'E', u'F', u'G', u'A_init', u'B_init', u'C_init', u'D_init', u'E_init', u'F_init', u'G_init', u'A_change', u'B_change', u'C_change', u'D_change', u'E_change', u'F_change', u'G_change', u'A_var', u'B_var', u'C_var', u'D_var', u'E_var', u'F_var', u'G_var'], dtype='object')"
       ]
      },
      {
       "output_type": "stream",
       "stream": "stdout",
       "text": [
        "\n",
        "score:B_purchase:0.91101603509"
       ]
      },
      {
       "output_type": "stream",
       "stream": "stdout",
       "text": [
        "\n",
        "Index([u'shopping_pt', u'day', u'group_size', u'homeowner', u'car_age', u'car_value', u'risk_factor', u'married_couple', u'C_previous', u'A', u'B', u'D', u'E', u'F', u'G', u'duration_offers', u'A_init', u'B_init', u'C_init', u'D_init', u'E_init', u'F_init', u'G_init', u'A_change', u'B_change', u'C_change', u'D_change', u'E_change', u'F_change', u'G_change', u'A_var', u'B_var', u'C_var', u'D_var', u'E_var', u'F_var', u'G_var'], dtype='object')"
       ]
      },
      {
       "output_type": "stream",
       "stream": "stdout",
       "text": [
        "\n",
        "score:C_purchase:0.80258143381"
       ]
      },
      {
       "output_type": "stream",
       "stream": "stdout",
       "text": [
        "\n",
        "Index([u'shopping_pt', u'group_size', u'homeowner', u'car_age', u'car_value', u'risk_factor', u'married_couple', u'C_previous', u'A', u'B', u'C', u'D', u'E', u'F', u'G', u'duration_offers', u'A_init', u'B_init', u'C_init', u'D_init', u'E_init', u'F_init', u'G_init', u'A_change', u'B_change', u'C_change', u'D_change', u'E_change', u'F_change', u'G_change', u'A_var', u'B_var', u'C_var', u'D_var', u'E_var', u'F_var', u'G_var'], dtype='object')"
       ]
      },
      {
       "output_type": "stream",
       "stream": "stdout",
       "text": [
        "\n",
        "score:D_purchase:0.883044509959"
       ]
      },
      {
       "output_type": "stream",
       "stream": "stdout",
       "text": [
        "\n",
        "Index([u'shopping_pt', u'group_size', u'homeowner', u'car_age', u'car_value', u'risk_factor', u'married_couple', u'C_previous', u'A', u'B', u'C', u'D', u'E', u'F', u'G', u'duration_offers', u'A_init', u'B_init', u'C_init', u'D_init', u'E_init', u'F_init', u'G_init', u'A_change', u'B_change', u'C_change', u'D_change', u'E_change', u'F_change', u'G_change', u'A_var', u'B_var', u'C_var', u'D_var', u'E_var', u'F_var', u'G_var'], dtype='object')"
       ]
      },
      {
       "output_type": "stream",
       "stream": "stdout",
       "text": [
        "\n",
        "score:E_purchase:0.916444955778"
       ]
      },
      {
       "output_type": "stream",
       "stream": "stdout",
       "text": [
        "\n",
        "Index([u'shopping_pt', u'state', u'group_size', u'homeowner', u'car_age', u'car_value', u'risk_factor', u'age_youngest', u'married_couple', u'C_previous', u'A', u'B', u'C', u'D', u'E', u'G', u'duration_offers', u'A_init', u'B_init', u'C_init', u'D_init', u'E_init', u'F_init', u'G_init', u'A_change', u'B_change', u'C_change', u'D_change', u'E_change', u'F_change', u'A_var', u'B_var', u'C_var', u'D_var', u'E_var', u'F_var', u'G_var'], dtype='object')"
       ]
      },
      {
       "output_type": "stream",
       "stream": "stdout",
       "text": [
        "\n",
        "score:F_purchase:0.817753649241"
       ]
      },
      {
       "output_type": "stream",
       "stream": "stdout",
       "text": [
        "\n",
        "Index([u'shopping_pt', u'state', u'group_size', u'homeowner', u'car_age', u'married_couple', u'C_previous', u'duration_previous', u'A', u'B', u'C', u'D', u'E', u'F', u'G', u'duration_offers', u'A_init', u'B_init', u'C_init', u'D_init', u'E_init', u'F_init', u'G_init', u'A_change', u'B_change', u'C_change', u'D_change', u'E_change', u'F_change', u'G_change', u'A_var', u'B_var', u'C_var', u'D_var', u'E_var', u'F_var', u'G_var'], dtype='object')"
       ]
      },
      {
       "output_type": "stream",
       "stream": "stdout",
       "text": [
        "\n",
        "score:G_purchase:0.724203638455"
       ]
      },
      {
       "output_type": "stream",
       "stream": "stdout",
       "text": [
        "\n",
        "Index([u'shopping_pt', u'state', u'group_size', u'homeowner', u'car_value', u'risk_factor', u'married_couple', u'C_previous', u'duration_previous', u'A', u'B', u'C', u'D', u'E', u'F', u'G', u'A_init', u'B_init', u'C_init', u'D_init', u'E_init', u'F_init', u'G_init', u'A_change', u'B_change', u'C_change', u'D_change', u'E_change', u'F_change', u'G_change', u'A_var', u'B_var', u'C_var', u'D_var', u'E_var', u'F_var', u'G_var'], dtype='object')"
       ]
      },
      {
       "output_type": "stream",
       "stream": "stdout",
       "text": [
        "\n",
        "Number of features:38\n",
        "score:A_purchase:0.876141511469"
       ]
      },
      {
       "output_type": "stream",
       "stream": "stdout",
       "text": [
        "\n",
        "Index([u'shopping_pt', u'day', u'group_size', u'homeowner', u'car_age', u'car_value', u'married_couple', u'C_previous', u'duration_previous', u'A', u'B', u'C', u'D', u'E', u'F', u'G', u'duration_offers', u'A_init', u'B_init', u'C_init', u'D_init', u'E_init', u'F_init', u'G_init', u'A_change', u'B_change', u'C_change', u'D_change', u'E_change', u'F_change', u'G_change', u'A_var', u'B_var', u'C_var', u'D_var', u'E_var', u'F_var', u'G_var'], dtype='object')"
       ]
      },
      {
       "output_type": "stream",
       "stream": "stdout",
       "text": [
        "\n",
        "score:B_purchase:0.91101603509"
       ]
      },
      {
       "output_type": "stream",
       "stream": "stdout",
       "text": [
        "\n",
        "Index([u'shopping_pt', u'day', u'state', u'group_size', u'homeowner', u'car_age', u'car_value', u'risk_factor', u'married_couple', u'C_previous', u'A', u'B', u'D', u'E', u'F', u'G', u'duration_offers', u'A_init', u'B_init', u'C_init', u'D_init', u'E_init', u'F_init', u'G_init', u'A_change', u'B_change', u'C_change', u'D_change', u'E_change', u'F_change', u'G_change', u'A_var', u'B_var', u'C_var', u'D_var', u'E_var', u'F_var', u'G_var'], dtype='object')"
       ]
      },
      {
       "output_type": "stream",
       "stream": "stdout",
       "text": [
        "\n",
        "score:C_purchase:0.802797152513"
       ]
      },
      {
       "output_type": "stream",
       "stream": "stdout",
       "text": [
        "\n",
        "Index([u'shopping_pt', u'group_size', u'homeowner', u'car_age', u'car_value', u'risk_factor', u'married_couple', u'C_previous', u'duration_previous', u'A', u'B', u'C', u'D', u'E', u'F', u'G', u'duration_offers', u'A_init', u'B_init', u'C_init', u'D_init', u'E_init', u'F_init', u'G_init', u'A_change', u'B_change', u'C_change', u'D_change', u'E_change', u'F_change', u'G_change', u'A_var', u'B_var', u'C_var', u'D_var', u'E_var', u'F_var', u'G_var'], dtype='object')"
       ]
      },
      {
       "output_type": "stream",
       "stream": "stdout",
       "text": [
        "\n",
        "score:D_purchase:0.883188322428"
       ]
      },
      {
       "output_type": "stream",
       "stream": "stdout",
       "text": [
        "\n",
        "Index([u'shopping_pt', u'group_size', u'homeowner', u'car_age', u'car_value', u'risk_factor', u'married_couple', u'C_previous', u'duration_previous', u'A', u'B', u'C', u'D', u'E', u'F', u'G', u'duration_offers', u'A_init', u'B_init', u'C_init', u'D_init', u'E_init', u'F_init', u'G_init', u'A_change', u'B_change', u'C_change', u'D_change', u'E_change', u'F_change', u'G_change', u'A_var', u'B_var', u'C_var', u'D_var', u'E_var', u'F_var', u'G_var'], dtype='object')"
       ]
      },
      {
       "output_type": "stream",
       "stream": "stdout",
       "text": [
        "\n",
        "score:E_purchase:0.916444955778"
       ]
      },
      {
       "output_type": "stream",
       "stream": "stdout",
       "text": [
        "\n",
        "Index([u'shopping_pt', u'state', u'group_size', u'homeowner', u'car_age', u'car_value', u'risk_factor', u'age_oldest', u'age_youngest', u'married_couple', u'C_previous', u'A', u'B', u'C', u'D', u'E', u'G', u'duration_offers', u'A_init', u'B_init', u'C_init', u'D_init', u'E_init', u'F_init', u'G_init', u'A_change', u'B_change', u'C_change', u'D_change', u'E_change', u'F_change', u'A_var', u'B_var', u'C_var', u'D_var', u'E_var', u'F_var', u'G_var'], dtype='object')"
       ]
      },
      {
       "output_type": "stream",
       "stream": "stdout",
       "text": [
        "\n",
        "score:F_purchase:0.818940102107"
       ]
      },
      {
       "output_type": "stream",
       "stream": "stdout",
       "text": [
        "\n",
        "Index([u'shopping_pt', u'state', u'group_size', u'homeowner', u'car_age', u'risk_factor', u'married_couple', u'C_previous', u'duration_previous', u'A', u'B', u'C', u'D', u'E', u'F', u'G', u'duration_offers', u'A_init', u'B_init', u'C_init', u'D_init', u'E_init', u'F_init', u'G_init', u'A_change', u'B_change', u'C_change', u'D_change', u'E_change', u'F_change', u'G_change', u'A_var', u'B_var', u'C_var', u'D_var', u'E_var', u'F_var', u'G_var'], dtype='object')"
       ]
      },
      {
       "output_type": "stream",
       "stream": "stdout",
       "text": [
        "\n",
        "score:G_purchase:0.723916013518"
       ]
      },
      {
       "output_type": "stream",
       "stream": "stdout",
       "text": [
        "\n",
        "Index([u'shopping_pt', u'state', u'group_size', u'homeowner', u'car_value', u'risk_factor', u'married_couple', u'C_previous', u'duration_previous', u'A', u'B', u'C', u'D', u'E', u'F', u'G', u'duration_offers', u'A_init', u'B_init', u'C_init', u'D_init', u'E_init', u'F_init', u'G_init', u'A_change', u'B_change', u'C_change', u'D_change', u'E_change', u'F_change', u'G_change', u'A_var', u'B_var', u'C_var', u'D_var', u'E_var', u'F_var', u'G_var'], dtype='object')"
       ]
      },
      {
       "output_type": "stream",
       "stream": "stdout",
       "text": [
        "\n",
        "Number of features:39\n",
        "score:A_purchase:0.876177464586"
       ]
      },
      {
       "output_type": "stream",
       "stream": "stdout",
       "text": [
        "\n",
        "Index([u'shopping_pt', u'day', u'group_size', u'homeowner', u'car_age', u'car_value', u'risk_factor', u'married_couple', u'C_previous', u'duration_previous', u'A', u'B', u'C', u'D', u'E', u'F', u'G', u'duration_offers', u'A_init', u'B_init', u'C_init', u'D_init', u'E_init', u'F_init', u'G_init', u'A_change', u'B_change', u'C_change', u'D_change', u'E_change', u'F_change', u'G_change', u'A_var', u'B_var', u'C_var', u'D_var', u'E_var', u'F_var', u'G_var'], dtype='object')"
       ]
      },
      {
       "output_type": "stream",
       "stream": "stdout",
       "text": [
        "\n",
        "score:B_purchase:0.91101603509"
       ]
      },
      {
       "output_type": "stream",
       "stream": "stdout",
       "text": [
        "\n",
        "Index([u'shopping_pt', u'day', u'state', u'group_size', u'homeowner', u'car_age', u'car_value', u'risk_factor', u'married_couple', u'C_previous', u'duration_previous', u'A', u'B', u'D', u'E', u'F', u'G', u'duration_offers', u'A_init', u'B_init', u'C_init', u'D_init', u'E_init', u'F_init', u'G_init', u'A_change', u'B_change', u'C_change', u'D_change', u'E_change', u'F_change', u'G_change', u'A_var', u'B_var', u'C_var', u'D_var', u'E_var', u'F_var', u'G_var'], dtype='object')"
       ]
      },
      {
       "output_type": "stream",
       "stream": "stdout",
       "text": [
        "\n",
        "score:C_purchase:0.80258143381"
       ]
      },
      {
       "output_type": "stream",
       "stream": "stdout",
       "text": [
        "\n",
        "Index([u'shopping_pt', u'day', u'group_size', u'homeowner', u'car_age', u'car_value', u'risk_factor', u'married_couple', u'C_previous', u'duration_previous', u'A', u'B', u'C', u'D', u'E', u'F', u'G', u'duration_offers', u'A_init', u'B_init', u'C_init', u'D_init', u'E_init', u'F_init', u'G_init', u'A_change', u'B_change', u'C_change', u'D_change', u'E_change', u'F_change', u'G_change', u'A_var', u'B_var', u'C_var', u'D_var', u'E_var', u'F_var', u'G_var'], dtype='object')"
       ]
      },
      {
       "output_type": "stream",
       "stream": "stdout",
       "text": [
        "\n",
        "score:D_purchase:0.883763572302"
       ]
      },
      {
       "output_type": "stream",
       "stream": "stdout",
       "text": [
        "\n",
        "Index([u'shopping_pt', u'group_size', u'homeowner', u'car_age', u'car_value', u'risk_factor', u'age_youngest', u'married_couple', u'C_previous', u'duration_previous', u'A', u'B', u'C', u'D', u'E', u'F', u'G', u'duration_offers', u'A_init', u'B_init', u'C_init', u'D_init', u'E_init', u'F_init', u'G_init', u'A_change', u'B_change', u'C_change', u'D_change', u'E_change', u'F_change', u'G_change', u'A_var', u'B_var', u'C_var', u'D_var', u'E_var', u'F_var', u'G_var'], dtype='object')"
       ]
      },
      {
       "output_type": "stream",
       "stream": "stdout",
       "text": [
        "\n",
        "score:E_purchase:0.916444955778"
       ]
      },
      {
       "output_type": "stream",
       "stream": "stdout",
       "text": [
        "\n",
        "Index([u'shopping_pt', u'state', u'group_size', u'homeowner', u'car_age', u'car_value', u'risk_factor', u'age_oldest', u'age_youngest', u'married_couple', u'C_previous', u'duration_previous', u'A', u'B', u'C', u'D', u'E', u'G', u'duration_offers', u'A_init', u'B_init', u'C_init', u'D_init', u'E_init', u'F_init', u'G_init', u'A_change', u'B_change', u'C_change', u'D_change', u'E_change', u'F_change', u'A_var', u'B_var', u'C_var', u'D_var', u'E_var', u'F_var', u'G_var'], dtype='object')"
       ]
      },
      {
       "output_type": "stream",
       "stream": "stdout",
       "text": [
        "\n",
        "score:F_purchase:0.818796289638"
       ]
      },
      {
       "output_type": "stream",
       "stream": "stdout",
       "text": [
        "\n",
        "Index([u'shopping_pt', u'state', u'group_size', u'homeowner', u'car_age', u'car_value', u'risk_factor', u'married_couple', u'C_previous', u'duration_previous', u'A', u'B', u'C', u'D', u'E', u'F', u'G', u'duration_offers', u'A_init', u'B_init', u'C_init', u'D_init', u'E_init', u'F_init', u'G_init', u'A_change', u'B_change', u'C_change', u'D_change', u'E_change', u'F_change', u'G_change', u'A_var', u'B_var', u'C_var', u'D_var', u'E_var', u'F_var', u'G_var'], dtype='object')"
       ]
      },
      {
       "output_type": "stream",
       "stream": "stdout",
       "text": [
        "\n",
        "score:G_purchase:0.722370029482"
       ]
      },
      {
       "output_type": "stream",
       "stream": "stdout",
       "text": [
        "\n",
        "Index([u'shopping_pt', u'state', u'group_size', u'homeowner', u'car_age', u'car_value', u'risk_factor', u'married_couple', u'C_previous', u'duration_previous', u'A', u'B', u'C', u'D', u'E', u'F', u'G', u'duration_offers', u'A_init', u'B_init', u'C_init', u'D_init', u'E_init', u'F_init', u'G_init', u'A_change', u'B_change', u'C_change', u'D_change', u'E_change', u'F_change', u'G_change', u'A_var', u'B_var', u'C_var', u'D_var', u'E_var', u'F_var', u'G_var'], dtype='object')"
       ]
      },
      {
       "output_type": "stream",
       "stream": "stdout",
       "text": [
        "\n",
        "Number of features:40\n",
        "score:A_purchase:0.876141511469"
       ]
      },
      {
       "output_type": "stream",
       "stream": "stdout",
       "text": [
        "\n",
        "Index([u'shopping_pt', u'day', u'state', u'group_size', u'homeowner', u'car_age', u'car_value', u'risk_factor', u'married_couple', u'C_previous', u'duration_previous', u'A', u'B', u'C', u'D', u'E', u'F', u'G', u'duration_offers', u'A_init', u'B_init', u'C_init', u'D_init', u'E_init', u'F_init', u'G_init', u'A_change', u'B_change', u'C_change', u'D_change', u'E_change', u'F_change', u'G_change', u'A_var', u'B_var', u'C_var', u'D_var', u'E_var', u'F_var', u'G_var'], dtype='object')"
       ]
      },
      {
       "output_type": "stream",
       "stream": "stdout",
       "text": [
        "\n",
        "score:B_purchase:0.91101603509"
       ]
      },
      {
       "output_type": "stream",
       "stream": "stdout",
       "text": [
        "\n",
        "Index([u'shopping_pt', u'day', u'state', u'group_size', u'homeowner', u'car_age', u'car_value', u'risk_factor', u'married_couple', u'C_previous', u'duration_previous', u'A', u'B', u'C', u'D', u'E', u'F', u'G', u'duration_offers', u'A_init', u'B_init', u'C_init', u'D_init', u'E_init', u'F_init', u'G_init', u'A_change', u'B_change', u'C_change', u'D_change', u'E_change', u'F_change', u'G_change', u'A_var', u'B_var', u'C_var', u'D_var', u'E_var', u'F_var', u'G_var'], dtype='object')"
       ]
      },
      {
       "output_type": "stream",
       "stream": "stdout",
       "text": [
        "\n",
        "score:C_purchase:0.803012871216"
       ]
      },
      {
       "output_type": "stream",
       "stream": "stdout",
       "text": [
        "\n",
        "Index([u'shopping_pt', u'day', u'group_size', u'homeowner', u'car_age', u'car_value', u'risk_factor', u'age_youngest', u'married_couple', u'C_previous', u'duration_previous', u'A', u'B', u'C', u'D', u'E', u'F', u'G', u'duration_offers', u'A_init', u'B_init', u'C_init', u'D_init', u'E_init', u'F_init', u'G_init', u'A_change', u'B_change', u'C_change', u'D_change', u'E_change', u'F_change', u'G_change', u'A_var', u'B_var', u'C_var', u'D_var', u'E_var', u'F_var', u'G_var'], dtype='object')"
       ]
      },
      {
       "output_type": "stream",
       "stream": "stdout",
       "text": [
        "\n",
        "score:D_purchase:0.883619759833"
       ]
      },
      {
       "output_type": "stream",
       "stream": "stdout",
       "text": [
        "\n",
        "Index([u'shopping_pt', u'day', u'group_size', u'homeowner', u'car_age', u'car_value', u'risk_factor', u'age_youngest', u'married_couple', u'C_previous', u'duration_previous', u'A', u'B', u'C', u'D', u'E', u'F', u'G', u'duration_offers', u'A_init', u'B_init', u'C_init', u'D_init', u'E_init', u'F_init', u'G_init', u'A_change', u'B_change', u'C_change', u'D_change', u'E_change', u'F_change', u'G_change', u'A_var', u'B_var', u'C_var', u'D_var', u'E_var', u'F_var', u'G_var'], dtype='object')"
       ]
      },
      {
       "output_type": "stream",
       "stream": "stdout",
       "text": [
        "\n",
        "score:E_purchase:0.916444955778"
       ]
      },
      {
       "output_type": "stream",
       "stream": "stdout",
       "text": [
        "\n",
        "Index([u'shopping_pt', u'state', u'group_size', u'homeowner', u'car_age', u'car_value', u'risk_factor', u'age_oldest', u'age_youngest', u'married_couple', u'C_previous', u'duration_previous', u'A', u'B', u'C', u'D', u'E', u'F', u'G', u'duration_offers', u'A_init', u'B_init', u'C_init', u'D_init', u'E_init', u'F_init', u'G_init', u'A_change', u'B_change', u'C_change', u'D_change', u'E_change', u'F_change', u'A_var', u'B_var', u'C_var', u'D_var', u'E_var', u'F_var', u'G_var'], dtype='object')"
       ]
      },
      {
       "output_type": "stream",
       "stream": "stdout",
       "text": [
        "\n",
        "score:F_purchase:0.818688430287"
       ]
      },
      {
       "output_type": "stream",
       "stream": "stdout",
       "text": [
        "\n",
        "Index([u'shopping_pt', u'day', u'state', u'group_size', u'homeowner', u'car_age', u'car_value', u'risk_factor', u'married_couple', u'C_previous', u'duration_previous', u'A', u'B', u'C', u'D', u'E', u'F', u'G', u'duration_offers', u'A_init', u'B_init', u'C_init', u'D_init', u'E_init', u'F_init', u'G_init', u'A_change', u'B_change', u'C_change', u'D_change', u'E_change', u'F_change', u'G_change', u'A_var', u'B_var', u'C_var', u'D_var', u'E_var', u'F_var', u'G_var'], dtype='object')"
       ]
      },
      {
       "output_type": "stream",
       "stream": "stdout",
       "text": [
        "\n",
        "score:G_purchase:0.722585748184"
       ]
      },
      {
       "output_type": "stream",
       "stream": "stdout",
       "text": [
        "\n",
        "Index([u'shopping_pt', u'day', u'state', u'group_size', u'homeowner', u'car_age', u'car_value', u'risk_factor', u'married_couple', u'C_previous', u'duration_previous', u'A', u'B', u'C', u'D', u'E', u'F', u'G', u'duration_offers', u'A_init', u'B_init', u'C_init', u'D_init', u'E_init', u'F_init', u'G_init', u'A_change', u'B_change', u'C_change', u'D_change', u'E_change', u'F_change', u'G_change', u'A_var', u'B_var', u'C_var', u'D_var', u'E_var', u'F_var', u'G_var'], dtype='object')"
       ]
      },
      {
       "output_type": "stream",
       "stream": "stdout",
       "text": [
        "\n",
        "Number of features:41\n",
        "score:A_purchase:0.874991011721"
       ]
      },
      {
       "output_type": "stream",
       "stream": "stdout",
       "text": [
        "\n",
        "Index([u'shopping_pt', u'day', u'state', u'group_size', u'homeowner', u'car_age', u'car_value', u'risk_factor', u'married_couple', u'C_previous', u'duration_previous', u'A', u'B', u'C', u'D', u'E', u'F', u'G', u'duration_offers', u'A_init', u'B_init', u'C_init', u'D_init', u'E_init', u'F_init', u'G_init', u'A_change', u'B_change', u'C_change', u'D_change', u'E_change', u'F_change', u'G_change', u'A_var', u'B_var', u'C_var', u'D_var', u'E_var', u'F_var', u'G_var', u'init_cost'], dtype='object')"
       ]
      },
      {
       "output_type": "stream",
       "stream": "stdout",
       "text": [
        "\n",
        "score:B_purchase:0.91101603509"
       ]
      },
      {
       "output_type": "stream",
       "stream": "stdout",
       "text": [
        "\n",
        "Index([u'shopping_pt', u'day', u'state', u'group_size', u'homeowner', u'car_age', u'car_value', u'risk_factor', u'age_oldest', u'married_couple', u'C_previous', u'duration_previous', u'A', u'B', u'C', u'D', u'E', u'F', u'G', u'duration_offers', u'A_init', u'B_init', u'C_init', u'D_init', u'E_init', u'F_init', u'G_init', u'A_change', u'B_change', u'C_change', u'D_change', u'E_change', u'F_change', u'G_change', u'A_var', u'B_var', u'C_var', u'D_var', u'E_var', u'F_var', u'G_var'], dtype='object')"
       ]
      },
      {
       "output_type": "stream",
       "stream": "stdout",
       "text": [
        "\n",
        "score:C_purchase:0.80232976199"
       ]
      },
      {
       "output_type": "stream",
       "stream": "stdout",
       "text": [
        "\n",
        "Index([u'shopping_pt', u'day', u'group_size', u'homeowner', u'car_age', u'car_value', u'risk_factor', u'age_oldest', u'married_couple', u'C_previous', u'duration_previous', u'A', u'B', u'C', u'D', u'E', u'F', u'G', u'cost', u'duration_offers', u'A_init', u'B_init', u'C_init', u'D_init', u'E_init', u'F_init', u'G_init', u'A_change', u'B_change', u'C_change', u'D_change', u'E_change', u'F_change', u'G_change', u'A_var', u'B_var', u'C_var', u'D_var', u'E_var', u'F_var', u'G_var'], dtype='object')"
       ]
      },
      {
       "output_type": "stream",
       "stream": "stdout",
       "text": [
        "\n",
        "score:D_purchase:0.883727619185"
       ]
      },
      {
       "output_type": "stream",
       "stream": "stdout",
       "text": [
        "\n",
        "Index([u'shopping_pt', u'day', u'state', u'group_size', u'homeowner', u'car_age', u'car_value', u'risk_factor', u'age_youngest', u'married_couple', u'C_previous', u'duration_previous', u'A', u'B', u'C', u'D', u'E', u'F', u'G', u'duration_offers', u'A_init', u'B_init', u'C_init', u'D_init', u'E_init', u'F_init', u'G_init', u'A_change', u'B_change', u'C_change', u'D_change', u'E_change', u'F_change', u'G_change', u'A_var', u'B_var', u'C_var', u'D_var', u'E_var', u'F_var', u'G_var'], dtype='object')"
       ]
      },
      {
       "output_type": "stream",
       "stream": "stdout",
       "text": [
        "\n",
        "score:E_purchase:0.916444955778"
       ]
      },
      {
       "output_type": "stream",
       "stream": "stdout",
       "text": [
        "\n",
        "Index([u'shopping_pt', u'state', u'group_size', u'homeowner', u'car_age', u'car_value', u'risk_factor', u'age_oldest', u'age_youngest', u'married_couple', u'C_previous', u'duration_previous', u'A', u'B', u'C', u'D', u'E', u'F', u'G', u'duration_offers', u'A_init', u'B_init', u'C_init', u'D_init', u'E_init', u'F_init', u'G_init', u'A_change', u'B_change', u'C_change', u'D_change', u'E_change', u'F_change', u'G_change', u'A_var', u'B_var', u'C_var', u'D_var', u'E_var', u'F_var', u'G_var'], dtype='object')"
       ]
      },
      {
       "output_type": "stream",
       "stream": "stdout",
       "text": [
        "\n",
        "score:F_purchase:0.820126554972"
       ]
      },
      {
       "output_type": "stream",
       "stream": "stdout",
       "text": [
        "\n",
        "Index([u'shopping_pt', u'day', u'state', u'group_size', u'homeowner', u'car_age', u'car_value', u'risk_factor', u'married_couple', u'C_previous', u'duration_previous', u'A', u'B', u'C', u'D', u'E', u'F', u'G', u'duration_offers', u'A_init', u'B_init', u'C_init', u'D_init', u'E_init', u'F_init', u'G_init', u'A_change', u'B_change', u'C_change', u'D_change', u'E_change', u'F_change', u'G_change', u'A_var', u'B_var', u'C_var', u'D_var', u'E_var', u'F_var', u'G_var', u'init_cost'], dtype='object')"
       ]
      },
      {
       "output_type": "stream",
       "stream": "stdout",
       "text": [
        "\n",
        "score:G_purchase:0.722837420004"
       ]
      },
      {
       "output_type": "stream",
       "stream": "stdout",
       "text": [
        "\n",
        "Index([u'shopping_pt', u'day', u'state', u'group_size', u'homeowner', u'car_age', u'car_value', u'risk_factor', u'age_oldest', u'married_couple', u'C_previous', u'duration_previous', u'A', u'B', u'C', u'D', u'E', u'F', u'G', u'duration_offers', u'A_init', u'B_init', u'C_init', u'D_init', u'E_init', u'F_init', u'G_init', u'A_change', u'B_change', u'C_change', u'D_change', u'E_change', u'F_change', u'G_change', u'A_var', u'B_var', u'C_var', u'D_var', u'E_var', u'F_var', u'G_var'], dtype='object')"
       ]
      },
      {
       "output_type": "stream",
       "stream": "stdout",
       "text": [
        "\n",
        "Number of features:42\n",
        "score:A_purchase:0.875674120946"
       ]
      },
      {
       "output_type": "stream",
       "stream": "stdout",
       "text": [
        "\n",
        "Index([u'shopping_pt', u'day', u'state', u'group_size', u'homeowner', u'car_age', u'car_value', u'risk_factor', u'married_couple', u'C_previous', u'duration_previous', u'A', u'B', u'C', u'D', u'E', u'F', u'G', u'cost', u'duration_offers', u'A_init', u'B_init', u'C_init', u'D_init', u'E_init', u'F_init', u'G_init', u'A_change', u'B_change', u'C_change', u'D_change', u'E_change', u'F_change', u'G_change', u'A_var', u'B_var', u'C_var', u'D_var', u'E_var', u'F_var', u'G_var', u'init_cost'], dtype='object')"
       ]
      },
      {
       "output_type": "stream",
       "stream": "stdout",
       "text": [
        "\n",
        "score:B_purchase:0.91101603509"
       ]
      },
      {
       "output_type": "stream",
       "stream": "stdout",
       "text": [
        "\n",
        "Index([u'shopping_pt', u'day', u'state', u'group_size', u'homeowner', u'car_age', u'car_value', u'risk_factor', u'age_oldest', u'age_youngest', u'married_couple', u'C_previous', u'duration_previous', u'A', u'B', u'C', u'D', u'E', u'F', u'G', u'duration_offers', u'A_init', u'B_init', u'C_init', u'D_init', u'E_init', u'F_init', u'G_init', u'A_change', u'B_change', u'C_change', u'D_change', u'E_change', u'F_change', u'G_change', u'A_var', u'B_var', u'C_var', u'D_var', u'E_var', u'F_var', u'G_var'], dtype='object')"
       ]
      },
      {
       "output_type": "stream",
       "stream": "stdout",
       "text": [
        "\n",
        "score:C_purchase:0.802114043288"
       ]
      },
      {
       "output_type": "stream",
       "stream": "stdout",
       "text": [
        "\n",
        "Index([u'shopping_pt', u'day', u'state', u'group_size', u'homeowner', u'car_age', u'car_value', u'risk_factor', u'age_youngest', u'married_couple', u'C_previous', u'duration_previous', u'A', u'B', u'C', u'D', u'E', u'F', u'G', u'cost', u'duration_offers', u'A_init', u'B_init', u'C_init', u'D_init', u'E_init', u'F_init', u'G_init', u'A_change', u'B_change', u'C_change', u'D_change', u'E_change', u'F_change', u'G_change', u'A_var', u'B_var', u'C_var', u'D_var', u'E_var', u'F_var', u'G_var'], dtype='object')"
       ]
      },
      {
       "output_type": "stream",
       "stream": "stdout",
       "text": [
        "\n",
        "score:D_purchase:0.883583806716"
       ]
      },
      {
       "output_type": "stream",
       "stream": "stdout",
       "text": [
        "\n",
        "Index([u'shopping_pt', u'day', u'state', u'group_size', u'homeowner', u'car_age', u'car_value', u'risk_factor', u'age_youngest', u'married_couple', u'C_previous', u'duration_previous', u'A', u'B', u'C', u'D', u'E', u'F', u'G', u'cost', u'duration_offers', u'A_init', u'B_init', u'C_init', u'D_init', u'E_init', u'F_init', u'G_init', u'A_change', u'B_change', u'C_change', u'D_change', u'E_change', u'F_change', u'G_change', u'A_var', u'B_var', u'C_var', u'D_var', u'E_var', u'F_var', u'G_var'], dtype='object')"
       ]
      },
      {
       "output_type": "stream",
       "stream": "stdout",
       "text": [
        "\n",
        "score:E_purchase:0.916444955778"
       ]
      },
      {
       "output_type": "stream",
       "stream": "stdout",
       "text": [
        "\n",
        "Index([u'shopping_pt', u'state', u'group_size', u'homeowner', u'car_age', u'car_value', u'risk_factor', u'age_oldest', u'age_youngest', u'married_couple', u'C_previous', u'duration_previous', u'A', u'B', u'C', u'D', u'E', u'F', u'G', u'cost', u'duration_offers', u'A_init', u'B_init', u'C_init', u'D_init', u'E_init', u'F_init', u'G_init', u'A_change', u'B_change', u'C_change', u'D_change', u'E_change', u'F_change', u'G_change', u'A_var', u'B_var', u'C_var', u'D_var', u'E_var', u'F_var', u'G_var'], dtype='object')"
       ]
      },
      {
       "output_type": "stream",
       "stream": "stdout",
       "text": [
        "\n",
        "score:F_purchase:0.820593945495"
       ]
      },
      {
       "output_type": "stream",
       "stream": "stdout",
       "text": [
        "\n",
        "Index([u'shopping_pt', u'day', u'state', u'group_size', u'homeowner', u'car_age', u'car_value', u'risk_factor', u'married_couple', u'C_previous', u'duration_previous', u'A', u'B', u'C', u'D', u'E', u'F', u'G', u'cost', u'duration_offers', u'A_init', u'B_init', u'C_init', u'D_init', u'E_init', u'F_init', u'G_init', u'A_change', u'B_change', u'C_change', u'D_change', u'E_change', u'F_change', u'G_change', u'A_var', u'B_var', u'C_var', u'D_var', u'E_var', u'F_var', u'G_var', u'init_cost'], dtype='object')"
       ]
      },
      {
       "output_type": "stream",
       "stream": "stdout",
       "text": [
        "\n",
        "score:G_purchase:0.721291435967"
       ]
      },
      {
       "output_type": "stream",
       "stream": "stdout",
       "text": [
        "\n",
        "Index([u'shopping_pt', u'day', u'state', u'group_size', u'homeowner', u'car_age', u'car_value', u'risk_factor', u'age_oldest', u'married_couple', u'C_previous', u'duration_previous', u'A', u'B', u'C', u'D', u'E', u'F', u'G', u'cost', u'duration_offers', u'A_init', u'B_init', u'C_init', u'D_init', u'E_init', u'F_init', u'G_init', u'A_change', u'B_change', u'C_change', u'D_change', u'E_change', u'F_change', u'G_change', u'A_var', u'B_var', u'C_var', u'D_var', u'E_var', u'F_var', u'G_var'], dtype='object')"
       ]
      },
      {
       "output_type": "stream",
       "stream": "stdout",
       "text": [
        "\n",
        "Number of features:43\n",
        "score:A_purchase:0.876824620695"
       ]
      },
      {
       "output_type": "stream",
       "stream": "stdout",
       "text": [
        "\n",
        "Index([u'shopping_pt', u'day', u'state', u'group_size', u'homeowner', u'car_age', u'car_value', u'risk_factor', u'age_youngest', u'married_couple', u'C_previous', u'duration_previous', u'A', u'B', u'C', u'D', u'E', u'F', u'G', u'cost', u'duration_offers', u'A_init', u'B_init', u'C_init', u'D_init', u'E_init', u'F_init', u'G_init', u'A_change', u'B_change', u'C_change', u'D_change', u'E_change', u'F_change', u'G_change', u'A_var', u'B_var', u'C_var', u'D_var', u'E_var', u'F_var', u'G_var', u'init_cost'], dtype='object')"
       ]
      },
      {
       "output_type": "stream",
       "stream": "stdout",
       "text": [
        "\n",
        "score:B_purchase:0.91101603509"
       ]
      },
      {
       "output_type": "stream",
       "stream": "stdout",
       "text": [
        "\n",
        "Index([u'shopping_pt', u'day', u'state', u'group_size', u'homeowner', u'car_age', u'car_value', u'risk_factor', u'age_oldest', u'age_youngest', u'married_couple', u'C_previous', u'duration_previous', u'A', u'B', u'C', u'D', u'E', u'F', u'G', u'duration_offers', u'A_init', u'B_init', u'C_init', u'D_init', u'E_init', u'F_init', u'G_init', u'A_change', u'B_change', u'C_change', u'D_change', u'E_change', u'F_change', u'G_change', u'A_var', u'B_var', u'C_var', u'D_var', u'E_var', u'F_var', u'G_var', u'init_cost'], dtype='object')"
       ]
      },
      {
       "output_type": "stream",
       "stream": "stdout",
       "text": [
        "\n",
        "score:C_purchase:0.801035449773"
       ]
      },
      {
       "output_type": "stream",
       "stream": "stdout",
       "text": [
        "\n",
        "Index([u'shopping_pt', u'day', u'state', u'group_size', u'homeowner', u'car_age', u'car_value', u'risk_factor', u'age_oldest', u'age_youngest', u'married_couple', u'C_previous', u'duration_previous', u'A', u'B', u'C', u'D', u'E', u'F', u'G', u'cost', u'duration_offers', u'A_init', u'B_init', u'C_init', u'D_init', u'E_init', u'F_init', u'G_init', u'A_change', u'B_change', u'C_change', u'D_change', u'E_change', u'F_change', u'G_change', u'A_var', u'B_var', u'C_var', u'D_var', u'E_var', u'F_var', u'G_var'], dtype='object')"
       ]
      },
      {
       "output_type": "stream",
       "stream": "stdout",
       "text": [
        "\n",
        "score:D_purchase:0.884806212699"
       ]
      },
      {
       "output_type": "stream",
       "stream": "stdout",
       "text": [
        "\n",
        "Index([u'shopping_pt', u'day', u'state', u'group_size', u'homeowner', u'car_age', u'car_value', u'risk_factor', u'age_youngest', u'married_couple', u'C_previous', u'duration_previous', u'A', u'B', u'C', u'D', u'E', u'F', u'G', u'cost', u'duration_offers', u'A_init', u'B_init', u'C_init', u'D_init', u'E_init', u'F_init', u'G_init', u'A_change', u'B_change', u'C_change', u'D_change', u'E_change', u'F_change', u'G_change', u'A_var', u'B_var', u'C_var', u'D_var', u'E_var', u'F_var', u'G_var', u'init_cost'], dtype='object')"
       ]
      },
      {
       "output_type": "stream",
       "stream": "stdout",
       "text": [
        "\n",
        "score:E_purchase:0.916444955778"
       ]
      },
      {
       "output_type": "stream",
       "stream": "stdout",
       "text": [
        "\n",
        "Index([u'shopping_pt', u'state', u'group_size', u'homeowner', u'car_age', u'car_value', u'risk_factor', u'age_oldest', u'age_youngest', u'married_couple', u'C_previous', u'duration_previous', u'A', u'B', u'C', u'D', u'E', u'F', u'G', u'cost', u'duration_offers', u'A_init', u'B_init', u'C_init', u'D_init', u'E_init', u'F_init', u'G_init', u'A_change', u'B_change', u'C_change', u'D_change', u'E_change', u'F_change', u'G_change', u'A_var', u'B_var', u'C_var', u'D_var', u'E_var', u'F_var', u'G_var', u'init_cost'], dtype='object')"
       ]
      },
      {
       "output_type": "stream",
       "stream": "stdout",
       "text": [
        "\n",
        "score:F_purchase:0.821528726541"
       ]
      },
      {
       "output_type": "stream",
       "stream": "stdout",
       "text": [
        "\n",
        "Index([u'shopping_pt', u'day', u'state', u'group_size', u'homeowner', u'car_age', u'car_value', u'risk_factor', u'age_youngest', u'married_couple', u'C_previous', u'duration_previous', u'A', u'B', u'C', u'D', u'E', u'F', u'G', u'cost', u'duration_offers', u'A_init', u'B_init', u'C_init', u'D_init', u'E_init', u'F_init', u'G_init', u'A_change', u'B_change', u'C_change', u'D_change', u'E_change', u'F_change', u'G_change', u'A_var', u'B_var', u'C_var', u'D_var', u'E_var', u'F_var', u'G_var', u'init_cost'], dtype='object')"
       ]
      },
      {
       "output_type": "stream",
       "stream": "stdout",
       "text": [
        "\n",
        "score:G_purchase:0.721039764148"
       ]
      },
      {
       "output_type": "stream",
       "stream": "stdout",
       "text": [
        "\n",
        "Index([u'shopping_pt', u'day', u'state', u'group_size', u'homeowner', u'car_age', u'car_value', u'risk_factor', u'age_oldest', u'age_youngest', u'married_couple', u'C_previous', u'duration_previous', u'A', u'B', u'C', u'D', u'E', u'F', u'G', u'cost', u'duration_offers', u'A_init', u'B_init', u'C_init', u'D_init', u'E_init', u'F_init', u'G_init', u'A_change', u'B_change', u'C_change', u'D_change', u'E_change', u'F_change', u'G_change', u'A_var', u'B_var', u'C_var', u'D_var', u'E_var', u'F_var', u'G_var'], dtype='object')"
       ]
      },
      {
       "output_type": "stream",
       "stream": "stdout",
       "text": [
        "\n",
        "Number of features:44\n",
        "score:A_purchase:0.876177464586"
       ]
      },
      {
       "output_type": "stream",
       "stream": "stdout",
       "text": [
        "\n",
        "Index([u'shopping_pt', u'day', u'state', u'group_size', u'homeowner', u'car_age', u'car_value', u'risk_factor', u'age_oldest', u'age_youngest', u'married_couple', u'C_previous', u'duration_previous', u'A', u'B', u'C', u'D', u'E', u'F', u'G', u'cost', u'duration_offers', u'A_init', u'B_init', u'C_init', u'D_init', u'E_init', u'F_init', u'G_init', u'A_change', u'B_change', u'C_change', u'D_change', u'E_change', u'F_change', u'G_change', u'A_var', u'B_var', u'C_var', u'D_var', u'E_var', u'F_var', u'G_var', u'init_cost'], dtype='object')"
       ]
      },
      {
       "output_type": "stream",
       "stream": "stdout",
       "text": [
        "\n",
        "score:B_purchase:0.91101603509"
       ]
      },
      {
       "output_type": "stream",
       "stream": "stdout",
       "text": [
        "\n",
        "Index([u'shopping_pt', u'day', u'state', u'group_size', u'homeowner', u'car_age', u'car_value', u'risk_factor', u'age_oldest', u'age_youngest', u'married_couple', u'C_previous', u'duration_previous', u'A', u'B', u'C', u'D', u'E', u'F', u'G', u'cost', u'duration_offers', u'A_init', u'B_init', u'C_init', u'D_init', u'E_init', u'F_init', u'G_init', u'A_change', u'B_change', u'C_change', u'D_change', u'E_change', u'F_change', u'G_change', u'A_var', u'B_var', u'C_var', u'D_var', u'E_var', u'F_var', u'G_var', u'init_cost'], dtype='object')"
       ]
      },
      {
       "output_type": "stream",
       "stream": "stdout",
       "text": [
        "\n",
        "score:C_purchase:0.80434313655"
       ]
      },
      {
       "output_type": "stream",
       "stream": "stdout",
       "text": [
        "\n",
        "Index([u'shopping_pt', u'day', u'state', u'group_size', u'homeowner', u'car_age', u'car_value', u'risk_factor', u'age_oldest', u'age_youngest', u'married_couple', u'C_previous', u'duration_previous', u'A', u'B', u'C', u'D', u'E', u'F', u'G', u'cost', u'duration_offers', u'A_init', u'B_init', u'C_init', u'D_init', u'E_init', u'F_init', u'G_init', u'A_change', u'B_change', u'C_change', u'D_change', u'E_change', u'F_change', u'G_change', u'A_var', u'B_var', u'C_var', u'D_var', u'E_var', u'F_var', u'G_var', u'init_cost'], dtype='object')"
       ]
      },
      {
       "output_type": "stream",
       "stream": "stdout",
       "text": [
        "\n",
        "score:D_purchase:0.88642410297"
       ]
      },
      {
       "output_type": "stream",
       "stream": "stdout",
       "text": [
        "\n",
        "Index([u'shopping_pt', u'day', u'state', u'group_size', u'homeowner', u'car_age', u'car_value', u'risk_factor', u'age_oldest', u'age_youngest', u'married_couple', u'C_previous', u'duration_previous', u'A', u'B', u'C', u'D', u'E', u'F', u'G', u'cost', u'duration_offers', u'A_init', u'B_init', u'C_init', u'D_init', u'E_init', u'F_init', u'G_init', u'A_change', u'B_change', u'C_change', u'D_change', u'E_change', u'F_change', u'G_change', u'A_var', u'B_var', u'C_var', u'D_var', u'E_var', u'F_var', u'G_var', u'init_cost'], dtype='object')"
       ]
      },
      {
       "output_type": "stream",
       "stream": "stdout",
       "text": [
        "\n",
        "score:E_purchase:0.916444955778"
       ]
      },
      {
       "output_type": "stream",
       "stream": "stdout",
       "text": [
        "\n",
        "Index([u'shopping_pt', u'day', u'state', u'group_size', u'homeowner', u'car_age', u'car_value', u'risk_factor', u'age_oldest', u'age_youngest', u'married_couple', u'C_previous', u'duration_previous', u'A', u'B', u'C', u'D', u'E', u'F', u'G', u'cost', u'duration_offers', u'A_init', u'B_init', u'C_init', u'D_init', u'E_init', u'F_init', u'G_init', u'A_change', u'B_change', u'C_change', u'D_change', u'E_change', u'F_change', u'G_change', u'A_var', u'B_var', u'C_var', u'D_var', u'E_var', u'F_var', u'G_var', u'init_cost'], dtype='object')"
       ]
      },
      {
       "output_type": "stream",
       "stream": "stdout",
       "text": [
        "\n",
        "score:F_purchase:0.821241101604"
       ]
      },
      {
       "output_type": "stream",
       "stream": "stdout",
       "text": [
        "\n",
        "Index([u'shopping_pt', u'day', u'state', u'group_size', u'homeowner', u'car_age', u'car_value', u'risk_factor', u'age_oldest', u'age_youngest', u'married_couple', u'C_previous', u'duration_previous', u'A', u'B', u'C', u'D', u'E', u'F', u'G', u'cost', u'duration_offers', u'A_init', u'B_init', u'C_init', u'D_init', u'E_init', u'F_init', u'G_init', u'A_change', u'B_change', u'C_change', u'D_change', u'E_change', u'F_change', u'G_change', u'A_var', u'B_var', u'C_var', u'D_var', u'E_var', u'F_var', u'G_var', u'init_cost'], dtype='object')"
       ]
      },
      {
       "output_type": "stream",
       "stream": "stdout",
       "text": [
        "\n",
        "score:G_purchase:0.72201049831"
       ]
      },
      {
       "output_type": "stream",
       "stream": "stdout",
       "text": [
        "\n",
        "Index([u'shopping_pt', u'day', u'state', u'group_size', u'homeowner', u'car_age', u'car_value', u'risk_factor', u'age_oldest', u'age_youngest', u'married_couple', u'C_previous', u'duration_previous', u'A', u'B', u'C', u'D', u'E', u'F', u'G', u'cost', u'duration_offers', u'A_init', u'B_init', u'C_init', u'D_init', u'E_init', u'F_init', u'G_init', u'A_change', u'B_change', u'C_change', u'D_change', u'E_change', u'F_change', u'G_change', u'A_var', u'B_var', u'C_var', u'D_var', u'E_var', u'F_var', u'G_var', u'init_cost'], dtype='object')"
       ]
      },
      {
       "output_type": "stream",
       "stream": "stdout",
       "text": [
        "\n",
        "Number of features:45\n",
        "score:A_purchase:0.876824620695"
       ]
      },
      {
       "output_type": "stream",
       "stream": "stdout",
       "text": [
        "\n",
        "Index([u'shopping_pt', u'day', u'state', u'group_size', u'homeowner', u'car_age', u'car_value', u'risk_factor', u'age_oldest', u'age_youngest', u'married_couple', u'C_previous', u'duration_previous', u'A', u'B', u'C', u'D', u'E', u'F', u'G', u'cost', u'duration_offers', u'A_init', u'B_init', u'C_init', u'D_init', u'E_init', u'F_init', u'G_init', u'A_change', u'B_change', u'C_change', u'D_change', u'E_change', u'F_change', u'G_change', u'A_var', u'B_var', u'C_var', u'D_var', u'E_var', u'F_var', u'G_var', u'init_cost', u'cost_var'], dtype='object')"
       ]
      },
      {
       "output_type": "stream",
       "stream": "stdout",
       "text": [
        "\n",
        "score:B_purchase:0.91101603509"
       ]
      },
      {
       "output_type": "stream",
       "stream": "stdout",
       "text": [
        "\n",
        "Index([u'shopping_pt', u'day', u'state', u'group_size', u'homeowner', u'car_age', u'car_value', u'risk_factor', u'age_oldest', u'age_youngest', u'married_couple', u'C_previous', u'duration_previous', u'A', u'B', u'C', u'D', u'E', u'F', u'G', u'cost', u'duration_offers', u'A_init', u'B_init', u'C_init', u'D_init', u'E_init', u'F_init', u'G_init', u'A_change', u'B_change', u'C_change', u'D_change', u'E_change', u'F_change', u'G_change', u'A_var', u'B_var', u'C_var', u'D_var', u'E_var', u'F_var', u'G_var', u'init_cost', u'cost_var'], dtype='object')"
       ]
      },
      {
       "output_type": "stream",
       "stream": "stdout",
       "text": [
        "\n",
        "score:C_purchase:0.802940964982"
       ]
      },
      {
       "output_type": "stream",
       "stream": "stdout",
       "text": [
        "\n",
        "Index([u'shopping_pt', u'day', u'state', u'group_size', u'homeowner', u'car_age', u'car_value', u'risk_factor', u'age_oldest', u'age_youngest', u'married_couple', u'C_previous', u'duration_previous', u'A', u'B', u'C', u'D', u'E', u'F', u'G', u'cost', u'duration_offers', u'A_init', u'B_init', u'C_init', u'D_init', u'E_init', u'F_init', u'G_init', u'A_change', u'B_change', u'C_change', u'D_change', u'E_change', u'F_change', u'G_change', u'A_var', u'B_var', u'C_var', u'D_var', u'E_var', u'F_var', u'G_var', u'init_cost', u'cost_var'], dtype='object')"
       ]
      },
      {
       "output_type": "stream",
       "stream": "stdout",
       "text": [
        "\n",
        "score:D_purchase:0.884554540879"
       ]
      },
      {
       "output_type": "stream",
       "stream": "stdout",
       "text": [
        "\n",
        "Index([u'shopping_pt', u'day', u'state', u'group_size', u'homeowner', u'car_age', u'car_value', u'risk_factor', u'age_oldest', u'age_youngest', u'married_couple', u'C_previous', u'duration_previous', u'A', u'B', u'C', u'D', u'E', u'F', u'G', u'cost', u'duration_offers', u'A_init', u'B_init', u'C_init', u'D_init', u'E_init', u'F_init', u'G_init', u'A_change', u'B_change', u'C_change', u'D_change', u'E_change', u'F_change', u'G_change', u'A_var', u'B_var', u'C_var', u'D_var', u'E_var', u'F_var', u'G_var', u'init_cost', u'cost_var'], dtype='object')"
       ]
      },
      {
       "output_type": "stream",
       "stream": "stdout",
       "text": [
        "\n",
        "score:E_purchase:0.916444955778"
       ]
      },
      {
       "output_type": "stream",
       "stream": "stdout",
       "text": [
        "\n",
        "Index([u'shopping_pt', u'day', u'state', u'location', u'group_size', u'homeowner', u'car_age', u'car_value', u'risk_factor', u'age_oldest', u'age_youngest', u'married_couple', u'C_previous', u'duration_previous', u'A', u'B', u'C', u'D', u'E', u'F', u'G', u'cost', u'duration_offers', u'A_init', u'B_init', u'C_init', u'D_init', u'E_init', u'F_init', u'G_init', u'A_change', u'B_change', u'C_change', u'D_change', u'E_change', u'F_change', u'G_change', u'A_var', u'B_var', u'C_var', u'D_var', u'E_var', u'F_var', u'G_var', u'init_cost'], dtype='object')"
       ]
      },
      {
       "output_type": "stream",
       "stream": "stdout",
       "text": [
        "\n",
        "score:F_purchase:0.81991083627"
       ]
      },
      {
       "output_type": "stream",
       "stream": "stdout",
       "text": [
        "\n",
        "Index([u'shopping_pt', u'day', u'state', u'location', u'group_size', u'homeowner', u'car_age', u'car_value', u'risk_factor', u'age_oldest', u'age_youngest', u'married_couple', u'C_previous', u'duration_previous', u'A', u'B', u'C', u'D', u'E', u'F', u'G', u'cost', u'duration_offers', u'A_init', u'B_init', u'C_init', u'D_init', u'E_init', u'F_init', u'G_init', u'A_change', u'B_change', u'C_change', u'D_change', u'E_change', u'F_change', u'G_change', u'A_var', u'B_var', u'C_var', u'D_var', u'E_var', u'F_var', u'G_var', u'init_cost'], dtype='object')"
       ]
      },
      {
       "output_type": "stream",
       "stream": "stdout",
       "text": [
        "\n",
        "score:G_purchase:0.71535917164"
       ]
      },
      {
       "output_type": "stream",
       "stream": "stdout",
       "text": [
        "\n",
        "Index([u'shopping_pt', u'day', u'state', u'location', u'group_size', u'homeowner', u'car_age', u'car_value', u'risk_factor', u'age_oldest', u'age_youngest', u'married_couple', u'C_previous', u'duration_previous', u'A', u'B', u'C', u'D', u'E', u'F', u'G', u'cost', u'duration_offers', u'A_init', u'B_init', u'C_init', u'D_init', u'E_init', u'F_init', u'G_init', u'A_change', u'B_change', u'C_change', u'D_change', u'E_change', u'F_change', u'G_change', u'A_var', u'B_var', u'C_var', u'D_var', u'E_var', u'F_var', u'G_var', u'init_cost'], dtype='object')"
       ]
      },
      {
       "output_type": "stream",
       "stream": "stdout",
       "text": [
        "\n",
        "Number of features:46\n",
        "score:A_purchase:0.872078809233"
       ]
      },
      {
       "output_type": "stream",
       "stream": "stdout",
       "text": [
        "\n",
        "Index([u'shopping_pt', u'day', u'state', u'location', u'group_size', u'homeowner', u'car_age', u'car_value', u'risk_factor', u'age_oldest', u'age_youngest', u'married_couple', u'C_previous', u'duration_previous', u'A', u'B', u'C', u'D', u'E', u'F', u'G', u'cost', u'duration_offers', u'A_init', u'B_init', u'C_init', u'D_init', u'E_init', u'F_init', u'G_init', u'A_change', u'B_change', u'C_change', u'D_change', u'E_change', u'F_change', u'G_change', u'A_var', u'B_var', u'C_var', u'D_var', u'E_var', u'F_var', u'G_var', u'init_cost', u'cost_var'], dtype='object')\n",
        "score:B_purchase:0.91101603509"
       ]
      },
      {
       "output_type": "stream",
       "stream": "stdout",
       "text": [
        "\n",
        "Index([u'shopping_pt', u'day', u'state', u'location', u'group_size', u'homeowner', u'car_age', u'car_value', u'risk_factor', u'age_oldest', u'age_youngest', u'married_couple', u'C_previous', u'duration_previous', u'A', u'B', u'C', u'D', u'E', u'F', u'G', u'cost', u'duration_offers', u'A_init', u'B_init', u'C_init', u'D_init', u'E_init', u'F_init', u'G_init', u'A_change', u'B_change', u'C_change', u'D_change', u'E_change', u'F_change', u'G_change', u'A_var', u'B_var', u'C_var', u'D_var', u'E_var', u'F_var', u'G_var', u'init_cost', u'cost_var'], dtype='object')\n",
        "score:C_purchase:0.768641691235"
       ]
      },
      {
       "output_type": "stream",
       "stream": "stdout",
       "text": [
        "\n",
        "Index([u'shopping_pt', u'day', u'state', u'location', u'group_size', u'homeowner', u'car_age', u'car_value', u'risk_factor', u'age_oldest', u'age_youngest', u'married_couple', u'C_previous', u'duration_previous', u'A', u'B', u'C', u'D', u'E', u'F', u'G', u'cost', u'duration_offers', u'A_init', u'B_init', u'C_init', u'D_init', u'E_init', u'F_init', u'G_init', u'A_change', u'B_change', u'C_change', u'D_change', u'E_change', u'F_change', u'G_change', u'A_var', u'B_var', u'C_var', u'D_var', u'E_var', u'F_var', u'G_var', u'init_cost', u'cost_var'], dtype='object')\n",
        "score:D_purchase:0.879844682534"
       ]
      },
      {
       "output_type": "stream",
       "stream": "stdout",
       "text": [
        "\n",
        "Index([u'shopping_pt', u'day', u'state', u'location', u'group_size', u'homeowner', u'car_age', u'car_value', u'risk_factor', u'age_oldest', u'age_youngest', u'married_couple', u'C_previous', u'duration_previous', u'A', u'B', u'C', u'D', u'E', u'F', u'G', u'cost', u'duration_offers', u'A_init', u'B_init', u'C_init', u'D_init', u'E_init', u'F_init', u'G_init', u'A_change', u'B_change', u'C_change', u'D_change', u'E_change', u'F_change', u'G_change', u'A_var', u'B_var', u'C_var', u'D_var', u'E_var', u'F_var', u'G_var', u'init_cost', u'cost_var'], dtype='object')\n",
        "score:E_purchase:0.916409002661"
       ]
      },
      {
       "output_type": "stream",
       "stream": "stdout",
       "text": [
        "\n",
        "Index([u'shopping_pt', u'day', u'state', u'location', u'group_size', u'homeowner', u'car_age', u'car_value', u'risk_factor', u'age_oldest', u'age_youngest', u'married_couple', u'C_previous', u'duration_previous', u'A', u'B', u'C', u'D', u'E', u'F', u'G', u'cost', u'duration_offers', u'A_init', u'B_init', u'C_init', u'D_init', u'E_init', u'F_init', u'G_init', u'A_change', u'B_change', u'C_change', u'D_change', u'E_change', u'F_change', u'G_change', u'A_var', u'B_var', u'C_var', u'D_var', u'E_var', u'F_var', u'G_var', u'init_cost', u'cost_var'], dtype='object')\n",
        "score:F_purchase:0.81689077443"
       ]
      },
      {
       "output_type": "stream",
       "stream": "stdout",
       "text": [
        "\n",
        "Index([u'shopping_pt', u'day', u'state', u'location', u'group_size', u'homeowner', u'car_age', u'car_value', u'risk_factor', u'age_oldest', u'age_youngest', u'married_couple', u'C_previous', u'duration_previous', u'A', u'B', u'C', u'D', u'E', u'F', u'G', u'cost', u'duration_offers', u'A_init', u'B_init', u'C_init', u'D_init', u'E_init', u'F_init', u'G_init', u'A_change', u'B_change', u'C_change', u'D_change', u'E_change', u'F_change', u'G_change', u'A_var', u'B_var', u'C_var', u'D_var', u'E_var', u'F_var', u'G_var', u'init_cost', u'cost_var'], dtype='object')\n",
        "score:G_purchase:0.69540519163"
       ]
      },
      {
       "output_type": "stream",
       "stream": "stdout",
       "text": [
        "\n",
        "Index([u'shopping_pt', u'day', u'state', u'location', u'group_size', u'homeowner', u'car_age', u'car_value', u'risk_factor', u'age_oldest', u'age_youngest', u'married_couple', u'C_previous', u'duration_previous', u'A', u'B', u'C', u'D', u'E', u'F', u'G', u'cost', u'duration_offers', u'A_init', u'B_init', u'C_init', u'D_init', u'E_init', u'F_init', u'G_init', u'A_change', u'B_change', u'C_change', u'D_change', u'E_change', u'F_change', u'G_change', u'A_var', u'B_var', u'C_var', u'D_var', u'E_var', u'F_var', u'G_var', u'init_cost', u'cost_var'], dtype='object')\n",
        "Number of features:47"
       ]
      },
      {
       "output_type": "stream",
       "stream": "stdout",
       "text": [
        "\n",
        "score:A_purchase:0.852736032214"
       ]
      },
      {
       "output_type": "stream",
       "stream": "stdout",
       "text": [
        "\n",
        "Index([u'shopping_pt', u'record_type', u'day', u'state', u'location', u'group_size', u'homeowner', u'car_age', u'car_value', u'risk_factor', u'age_oldest', u'age_youngest', u'married_couple', u'C_previous', u'duration_previous', u'A', u'B', u'C', u'D', u'E', u'F', u'G', u'cost', u'duration_offers', u'A_init', u'B_init', u'C_init', u'D_init', u'E_init', u'F_init', u'G_init', u'A_change', u'B_change', u'C_change', u'D_change', u'E_change', u'F_change', u'G_change', u'A_var', u'B_var', u'C_var', u'D_var', u'E_var', u'F_var', u'G_var', u'init_cost', u'cost_var'], dtype='object')\n",
        "score:B_purchase:0.91101603509"
       ]
      },
      {
       "output_type": "stream",
       "stream": "stdout",
       "text": [
        "\n",
        "Index([u'shopping_pt', u'record_type', u'day', u'state', u'location', u'group_size', u'homeowner', u'car_age', u'car_value', u'risk_factor', u'age_oldest', u'age_youngest', u'married_couple', u'C_previous', u'duration_previous', u'A', u'B', u'C', u'D', u'E', u'F', u'G', u'cost', u'duration_offers', u'A_init', u'B_init', u'C_init', u'D_init', u'E_init', u'F_init', u'G_init', u'A_change', u'B_change', u'C_change', u'D_change', u'E_change', u'F_change', u'G_change', u'A_var', u'B_var', u'C_var', u'D_var', u'E_var', u'F_var', u'G_var', u'init_cost', u'cost_var'], dtype='object')\n",
        "score:C_purchase:0.759150068311"
       ]
      },
      {
       "output_type": "stream",
       "stream": "stdout",
       "text": [
        "\n",
        "Index([u'shopping_pt', u'record_type', u'day', u'state', u'location', u'group_size', u'homeowner', u'car_age', u'car_value', u'risk_factor', u'age_oldest', u'age_youngest', u'married_couple', u'C_previous', u'duration_previous', u'A', u'B', u'C', u'D', u'E', u'F', u'G', u'cost', u'duration_offers', u'A_init', u'B_init', u'C_init', u'D_init', u'E_init', u'F_init', u'G_init', u'A_change', u'B_change', u'C_change', u'D_change', u'E_change', u'F_change', u'G_change', u'A_var', u'B_var', u'C_var', u'D_var', u'E_var', u'F_var', u'G_var', u'init_cost', u'cost_var'], dtype='object')\n",
        "score:D_purchase:0.870676637664"
       ]
      },
      {
       "output_type": "stream",
       "stream": "stdout",
       "text": [
        "\n",
        "Index([u'shopping_pt', u'record_type', u'day', u'state', u'location', u'group_size', u'homeowner', u'car_age', u'car_value', u'risk_factor', u'age_oldest', u'age_youngest', u'married_couple', u'C_previous', u'duration_previous', u'A', u'B', u'C', u'D', u'E', u'F', u'G', u'cost', u'duration_offers', u'A_init', u'B_init', u'C_init', u'D_init', u'E_init', u'F_init', u'G_init', u'A_change', u'B_change', u'C_change', u'D_change', u'E_change', u'F_change', u'G_change', u'A_var', u'B_var', u'C_var', u'D_var', u'E_var', u'F_var', u'G_var', u'init_cost', u'cost_var'], dtype='object')\n",
        "score:E_purchase:0.916444955778"
       ]
      },
      {
       "output_type": "stream",
       "stream": "stdout",
       "text": [
        "\n",
        "Index([u'shopping_pt', u'record_type', u'day', u'state', u'location', u'group_size', u'homeowner', u'car_age', u'car_value', u'risk_factor', u'age_oldest', u'age_youngest', u'married_couple', u'C_previous', u'duration_previous', u'A', u'B', u'C', u'D', u'E', u'F', u'G', u'cost', u'duration_offers', u'A_init', u'B_init', u'C_init', u'D_init', u'E_init', u'F_init', u'G_init', u'A_change', u'B_change', u'C_change', u'D_change', u'E_change', u'F_change', u'G_change', u'A_var', u'B_var', u'C_var', u'D_var', u'E_var', u'F_var', u'G_var', u'init_cost', u'cost_var'], dtype='object')\n",
        "score:F_purchase:0.80872941684"
       ]
      },
      {
       "output_type": "stream",
       "stream": "stdout",
       "text": [
        "\n",
        "Index([u'shopping_pt', u'record_type', u'day', u'state', u'location', u'group_size', u'homeowner', u'car_age', u'car_value', u'risk_factor', u'age_oldest', u'age_youngest', u'married_couple', u'C_previous', u'duration_previous', u'A', u'B', u'C', u'D', u'E', u'F', u'G', u'cost', u'duration_offers', u'A_init', u'B_init', u'C_init', u'D_init', u'E_init', u'F_init', u'G_init', u'A_change', u'B_change', u'C_change', u'D_change', u'E_change', u'F_change', u'G_change', u'A_var', u'B_var', u'C_var', u'D_var', u'E_var', u'F_var', u'G_var', u'init_cost', u'cost_var'], dtype='object')\n",
        "score:G_purchase:0.716006327749"
       ]
      },
      {
       "output_type": "stream",
       "stream": "stdout",
       "text": [
        "\n",
        "Index([u'shopping_pt', u'record_type', u'day', u'state', u'location', u'group_size', u'homeowner', u'car_age', u'car_value', u'risk_factor', u'age_oldest', u'age_youngest', u'married_couple', u'C_previous', u'duration_previous', u'A', u'B', u'C', u'D', u'E', u'F', u'G', u'cost', u'duration_offers', u'A_init', u'B_init', u'C_init', u'D_init', u'E_init', u'F_init', u'G_init', u'A_change', u'B_change', u'C_change', u'D_change', u'E_change', u'F_change', u'G_change', u'A_var', u'B_var', u'C_var', u'D_var', u'E_var', u'F_var', u'G_var', u'init_cost', u'cost_var'], dtype='object')\n",
        "Number of features:48\n",
        "score:A_purchase:0.850722657654"
       ]
      },
      {
       "output_type": "stream",
       "stream": "stdout",
       "text": [
        "\n",
        "Index([u'shopping_pt', u'record_type', u'day', u'state', u'location', u'group_size', u'homeowner', u'car_age', u'car_value', u'risk_factor', u'age_oldest', u'age_youngest', u'married_couple', u'C_previous', u'duration_previous', u'A', u'B', u'C', u'D', u'E', u'F', u'G', u'cost', u'duration_offers', u'A_init', u'B_init', u'C_init', u'D_init', u'E_init', u'F_init', u'G_init', u'A_change', u'B_change', u'C_change', u'D_change', u'E_change', u'F_change', u'G_change', u'A_var', u'B_var', u'C_var', u'D_var', u'E_var', u'F_var', u'G_var', u'init_cost', u'cost_var'], dtype='object')\n",
        "score:B_purchase:0.91101603509"
       ]
      },
      {
       "output_type": "stream",
       "stream": "stdout",
       "text": [
        "\n",
        "Index([u'shopping_pt', u'record_type', u'day', u'state', u'location', u'group_size', u'homeowner', u'car_age', u'car_value', u'risk_factor', u'age_oldest', u'age_youngest', u'married_couple', u'C_previous', u'duration_previous', u'A', u'B', u'C', u'D', u'E', u'F', u'G', u'cost', u'duration_offers', u'A_init', u'B_init', u'C_init', u'D_init', u'E_init', u'F_init', u'G_init', u'A_change', u'B_change', u'C_change', u'D_change', u'E_change', u'F_change', u'G_change', u'A_var', u'B_var', u'C_var', u'D_var', u'E_var', u'F_var', u'G_var', u'init_cost', u'cost_var'], dtype='object')\n",
        "score:C_purchase:0.767059754081"
       ]
      },
      {
       "output_type": "stream",
       "stream": "stdout",
       "text": [
        "\n",
        "Index([u'shopping_pt', u'record_type', u'day', u'state', u'location', u'group_size', u'homeowner', u'car_age', u'car_value', u'risk_factor', u'age_oldest', u'age_youngest', u'married_couple', u'C_previous', u'duration_previous', u'A', u'B', u'C', u'D', u'E', u'F', u'G', u'cost', u'duration_offers', u'A_init', u'B_init', u'C_init', u'D_init', u'E_init', u'F_init', u'G_init', u'A_change', u'B_change', u'C_change', u'D_change', u'E_change', u'F_change', u'G_change', u'A_var', u'B_var', u'C_var', u'D_var', u'E_var', u'F_var', u'G_var', u'init_cost', u'cost_var'], dtype='object')\n",
        "score:D_purchase:0.849212626735"
       ]
      },
      {
       "output_type": "stream",
       "stream": "stdout",
       "text": [
        "\n",
        "Index([u'shopping_pt', u'record_type', u'day', u'state', u'location', u'group_size', u'homeowner', u'car_age', u'car_value', u'risk_factor', u'age_oldest', u'age_youngest', u'married_couple', u'C_previous', u'duration_previous', u'A', u'B', u'C', u'D', u'E', u'F', u'G', u'cost', u'duration_offers', u'A_init', u'B_init', u'C_init', u'D_init', u'E_init', u'F_init', u'G_init', u'A_change', u'B_change', u'C_change', u'D_change', u'E_change', u'F_change', u'G_change', u'A_var', u'B_var', u'C_var', u'D_var', u'E_var', u'F_var', u'G_var', u'init_cost', u'cost_var'], dtype='object')\n",
        "score:E_purchase:0.916444955778"
       ]
      },
      {
       "output_type": "stream",
       "stream": "stdout",
       "text": [
        "\n",
        "Index([u'shopping_pt', u'record_type', u'day', u'state', u'location', u'group_size', u'homeowner', u'car_age', u'car_value', u'risk_factor', u'age_oldest', u'age_youngest', u'married_couple', u'C_previous', u'duration_previous', u'A', u'B', u'C', u'D', u'E', u'F', u'G', u'cost', u'duration_offers', u'A_init', u'B_init', u'C_init', u'D_init', u'E_init', u'F_init', u'G_init', u'A_change', u'B_change', u'C_change', u'D_change', u'E_change', u'F_change', u'G_change', u'A_var', u'B_var', u'C_var', u'D_var', u'E_var', u'F_var', u'G_var', u'init_cost', u'cost_var'], dtype='object')\n",
        "score:F_purchase:0.822751132523"
       ]
      },
      {
       "output_type": "stream",
       "stream": "stdout",
       "text": [
        "\n",
        "Index([u'shopping_pt', u'record_type', u'day', u'state', u'location', u'group_size', u'homeowner', u'car_age', u'car_value', u'risk_factor', u'age_oldest', u'age_youngest', u'married_couple', u'C_previous', u'duration_previous', u'A', u'B', u'C', u'D', u'E', u'F', u'G', u'cost', u'duration_offers', u'A_init', u'B_init', u'C_init', u'D_init', u'E_init', u'F_init', u'G_init', u'A_change', u'B_change', u'C_change', u'D_change', u'E_change', u'F_change', u'G_change', u'A_var', u'B_var', u'C_var', u'D_var', u'E_var', u'F_var', u'G_var', u'init_cost', u'cost_var'], dtype='object')\n",
        "score:G_purchase:0.697634284893"
       ]
      },
      {
       "output_type": "stream",
       "stream": "stdout",
       "text": [
        "\n",
        "Index([u'shopping_pt', u'record_type', u'day', u'state', u'location', u'group_size', u'homeowner', u'car_age', u'car_value', u'risk_factor', u'age_oldest', u'age_youngest', u'married_couple', u'C_previous', u'duration_previous', u'A', u'B', u'C', u'D', u'E', u'F', u'G', u'cost', u'duration_offers', u'A_init', u'B_init', u'C_init', u'D_init', u'E_init', u'F_init', u'G_init', u'A_change', u'B_change', u'C_change', u'D_change', u'E_change', u'F_change', u'G_change', u'A_var', u'B_var', u'C_var', u'D_var', u'E_var', u'F_var', u'G_var', u'init_cost', u'cost_var'], dtype='object')\n"
       ]
      }
     ],
     "prompt_number": 1
    },
    {
     "cell_type": "code",
     "collapsed": false,
     "input": [],
     "language": "python",
     "metadata": {},
     "outputs": []
    }
   ],
   "metadata": {}
  }
 ]
}