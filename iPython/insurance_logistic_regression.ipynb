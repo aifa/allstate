{
 "metadata": {
  "name": ""
 },
 "nbformat": 3,
 "nbformat_minor": 0,
 "worksheets": [
  {
   "cells": [
    {
     "cell_type": "code",
     "collapsed": false,
     "input": [],
     "language": "python",
     "metadata": {},
     "outputs": []
    },
    {
     "cell_type": "code",
     "collapsed": false,
     "input": [
      "__author__ = 'aifa'\n",
      "\n",
      "import os\n",
      "import pandas as pd\n",
      "import numpy as np\n",
      "import pylab as pl\n",
      "\n",
      "from sklearn import clone\n",
      "\n",
      "from sklearn.ensemble.weight_boosting import AdaBoostClassifier\n",
      "from sklearn.ensemble.forest import (RandomForestClassifier,RandomForestRegressor,\n",
      "                                        ExtraTreesClassifier)\n",
      "\n",
      "from sklearn.linear_model import LogisticRegression\n",
      "from sklearn import svm\n",
      "\n",
      "import math as math\n",
      "from sklearn.externals.six.moves import xrange\n",
      "from sklearn.tree import DecisionTreeClassifier\n",
      "\n",
      "from sklearn.svm import SVR\n",
      "from sklearn.cross_validation import StratifiedKFold\n",
      "\n",
      "from sklearn.feature_selection import RFE\n",
      "from sklearn.pipeline import Pipeline\n",
      "\n",
      "train_sets={}\n",
      "train_1 = pd.read_csv(\"/Users/aifa/Dropbox/kaggle/insurance/future/train_all_split_1.csv\", header=0, encoding=\"UTF-8\", error_bad_lines=False, sep=\",\", index_col=0)\n",
      "train_sets[1]=train_1\n",
      "train_2 = pd.read_csv(\"/Users/aifa/Dropbox/kaggle/insurance/future/train_all_split_2.csv\", header=0, encoding=\"UTF-8\", error_bad_lines=False, sep=\",\", index_col=0)\n",
      "train_sets[2]=train_2\n",
      "train_3 = pd.read_csv(\"/Users/aifa/Dropbox/kaggle/insurance/future/train_all_split_3.csv\", header=0, encoding=\"UTF-8\", error_bad_lines=False, sep=\",\", index_col=0)\n",
      "train_sets[3]=train_3\n",
      "train_4 = pd.read_csv(\"/Users/aifa/Dropbox/kaggle/insurance/future/train_all_split_4.csv\", header=0, encoding=\"UTF-8\", error_bad_lines=False, sep=\",\", index_col=0)\n",
      "train_sets[4]=train_4\n",
      "train_5 = pd.read_csv(\"/Users/aifa/Dropbox/kaggle/insurance/future/train_all_split_5.csv\", header=0, encoding=\"UTF-8\", error_bad_lines=False, sep=\",\", index_col=0)\n",
      "train_sets[5]=train_5\n",
      "train_6 = pd.read_csv(\"/Users/aifa/Dropbox/kaggle/insurance/future/train_all_split_6.csv\", header=0, encoding=\"UTF-8\", error_bad_lines=False, sep=\",\", index_col=0)\n",
      "train_sets[6]=train_6\n",
      "train_7 = pd.read_csv(\"/Users/aifa/Dropbox/kaggle/insurance/future/train_all_split_7.csv\", header=0, encoding=\"UTF-8\", error_bad_lines=False, sep=\",\", index_col=0)\n",
      "train_sets[7]=train_7\n",
      "train_8 = pd.read_csv(\"/Users/aifa/Dropbox/kaggle/insurance/future/train_all_split_8.csv\", header=0, encoding=\"UTF-8\", error_bad_lines=False, sep=\",\", index_col=0)\n",
      "train_sets[8]=train_8\n",
      "train_9 = pd.read_csv(\"/Users/aifa/Dropbox/kaggle/insurance/future/train_all_split_9.csv\", header=0, encoding=\"UTF-8\", error_bad_lines=False, sep=\",\", index_col=0)\n",
      "train_sets[9]=train_9\n",
      "train_10 = pd.read_csv(\"/Users/aifa/Dropbox/kaggle/insurance/future/train_all_split_10.csv\", header=0, encoding=\"UTF-8\", error_bad_lines=False, sep=\",\", index_col=0)\n",
      "train_sets[10]=train_10\n",
      "train_11 = pd.read_csv(\"/Users/aifa/Dropbox/kaggle/insurance/future/train_all_split_11.csv\", header=0, encoding=\"UTF-8\", error_bad_lines=False, sep=\",\", index_col=0)\n",
      "train_sets[11]=train_11\n",
      "train_12 = pd.read_csv(\"/Users/aifa/Dropbox/kaggle/insurance/future/train_all_split_12.csv\", header=0, encoding=\"UTF-8\", error_bad_lines=False, sep=\",\", index_col=0)\n",
      "train_sets[12]=train_12\n",
      "\n",
      "test_2 = pd.read_csv(\"/Users/aifa/Dropbox/kaggle/insurance/future/test_v2_all_future.csv\", header=0, encoding=\"UTF-8\", error_bad_lines=False, sep=\",\", index_col=0)\n",
      "\n",
      "\n",
      "results_df = pd.DataFrame(index=test_2.index)\n",
      "resultCol = pd.Series(index=test_2.index,dtype=object)\n",
      "\n",
      "#try random forest on feature A\n",
      "n_estimators = 100\n",
      "\n",
      "rfcModel = RandomForestClassifier(n_estimators=n_estimators, max_features=None)\n",
      "rfrmodel = RandomForestRegressor(n_estimators=n_estimators)\n",
      "lr = LogisticRegression()\n",
      "\n",
      "\n",
      "#svr =  SVR(C=1.0, epsilon=0.2)\n",
      "C = 10.0  # SVM regularization parameter\n",
      "svc = svm.SVC(kernel='linear', C=C)\n",
      "#rbf_svc = svm.SVC(kernel='rbf', gamma=0.7, C=C)\n",
      "#poly_svc = svm.SVC(kernel='poly', degree=3, C=C)\n",
      "\n",
      "def cleanup(df):\n",
      "\n",
      "    #find columns that contain null values\n",
      "    inds = pd.isnull(df).any(0).nonzero()\n",
      "\n",
      "    df['car_value'] = df['car_value'].fillna('0')\n",
      "    df['car_value']=df['car_value'].apply(lambda letter :  abs(ord(letter) - 96))\n",
      "    df['state']=df['state'].apply(lambda letter :  abs(ord(letter[0]) - 96 + ord(letter[1]) - 96))\n",
      "\n",
      "    #remove product feature\n",
      "    #df=df.drop(['product'], axis=1)\n",
      "    #df=df.drop(['state'], axis=1)\n",
      "    #df=df.drop(['location'], axis=1)\n",
      "    df=df.drop(['time'], axis=1)\n",
      "\n",
      "    #impute the null values\n",
      "    df['risk_factor'] = df['risk_factor'].fillna(0)\n",
      "    df['C_previous'] = df['C_previous'].fillna(0)\n",
      "    df['duration_previous'] = df['duration_previous'].fillna(0)\n",
      "    df['location'] = df['location'].fillna(0)\n",
      "\n",
      "    df['A_var'] = df['A_var'].fillna(0)\n",
      "    df['B_var'] = df['B_var'].fillna(0)\n",
      "    df['C_var'] = df['C_var'].fillna(0)\n",
      "    df['D_var'] = df['D_var'].fillna(0)\n",
      "    df['E_var'] = df['E_var'].fillna(0)\n",
      "    df['F_var'] = df['F_var'].fillna(0)\n",
      "    df['G_var'] = df['G_var'].fillna(0)\n",
      "    df['cost_var'] = df['cost_var'].fillna(0)\n",
      "    #drop any other rows that might contain null values (at this point only lines with empty key cols should be removed from the training sets)\n",
      "    df=df.dropna()\n",
      "\n",
      "    return df\n",
      "\n",
      "\n",
      "\n",
      "def cleanup_test(df):\n",
      "\n",
      "    #find columns that contain null values\n",
      "    inds = pd.isnull(df).any(0).nonzero()\n",
      "\n",
      "    df['car_value'] = df['car_value'].fillna('0')\n",
      "    df['car_value']=df['car_value'].apply(lambda letter :  abs(ord(letter) - 96))\n",
      "    df['state']=df['state'].apply(lambda letter :  abs(ord(letter[0]) - 96 + ord(letter[1]) - 96))\n",
      "\n",
      "    #remove product feature\n",
      "    #df=df.drop(['product'], axis=1)\n",
      "    #df=df.drop(['state'], axis=1)\n",
      "    #df=df.drop(['location'], axis=1)\n",
      "    df=df.drop(['time'], axis=1)\n",
      "    \n",
      "    #impute the null values\n",
      "    df['risk_factor'] = df['risk_factor'].fillna(0)\n",
      "    df['C_previous'] = df['C_previous'].fillna(0)\n",
      "    df['duration_previous'] = df['duration_previous'].fillna(0)\n",
      "    df['location'] = df['location'].fillna(0)\n",
      "\n",
      "    df['A_var'] = df['A_var'].fillna(0)\n",
      "    df['B_var'] = df['B_var'].fillna(0)\n",
      "    df['C_var'] = df['C_var'].fillna(0)\n",
      "    df['D_var'] = df['D_var'].fillna(0)\n",
      "    df['E_var'] = df['E_var'].fillna(0)\n",
      "    df['F_var'] = df['F_var'].fillna(0)\n",
      "    df['G_var'] = df['G_var'].fillna(0)\n",
      "    df['cost_var'] = df['cost_var'].fillna(0)\n",
      "\n",
      "    return df\n",
      "\n",
      "def train_model(train_df, select_model, model, feature_number=1, yName='A_purchase'):\n",
      "    input_df = train_df.copy(deep=True)\n",
      "    y = input_df[yName].values\n",
      "\n",
      "    #input_df=input_df.drop(['A_purchase'], axis=1)\n",
      "    #input_df=input_df.drop(['B_purchase'], axis=1)\n",
      "    #input_df=input_df.drop(['C_purchase'], axis=1)\n",
      "    #input_df=input_df.drop(['D_purchase'], axis=1)\n",
      "    #input_df=input_df.drop(['E_purchase'], axis=1)\n",
      "    #input_df=input_df.drop(['F_purchase'], axis=1)\n",
      "    #input_df=input_df.drop(['G_purchase'], axis=1)\n",
      "\n",
      "    #if (yName=='G_purchase'):\n",
      "    #    input_df=input_df.drop(['C_previous'], axis=1)\n",
      "    \n",
      "    if (yName=='A_purchase'):\n",
      "        input_df=input_df[['shopping_pt', 'day', 'state', 'group_size', 'homeowner', 'car_age', 'car_value', 'risk_factor', 'age_oldest', \n",
      "        'age_youngest', 'married_couple', 'C_previous', 'duration_previous', 'A', 'B', 'C', 'D', 'E', 'F', 'G', 'cost', 'A_init', \n",
      "        'B_init', 'C_init', 'D_init', 'E_init', 'F_init', 'G_init', 'init_cost']]\n",
      "    if (yName=='B_purchase'):\n",
      "        input_df=input_df[['shopping_pt', \n",
      "            'state', 'homeowner', 'car_age', 'risk_factor', 'married_couple', 'C_previous', 'A', 'B', 'C', 'D', 'E', 'F', \n",
      "            'G', 'A_init', 'B_init', 'C_init', 'D_init', 'E_init', 'F_init', 'G_init']]\n",
      "    if (yName=='C_purchase'):\n",
      "        input_df=input_df[['shopping_pt', 'group_size', 'homeowner', 'car_age', 'car_value', 'risk_factor', 'age_oldest', \n",
      "                           'age_youngest', 'married_couple', 'C_previous', 'duration_previous', 'A', 'B', 'C', 'D', 'E', 'F', \n",
      "                            'G', 'cost', 'A_init', 'B_init', 'C_init', 'D_init', 'E_init', 'F_init', 'G_init']]\n",
      "    if (yName=='D_purchase'):\n",
      "       input_df=input_df[['shopping_pt', 'homeowner', 'married_couple', 'C_previous', 'C', 'C_init']]\n",
      "    if (yName=='E_purchase'):\n",
      "        input_df=input_df[['E']]\n",
      "    #if (yName=='F_purchase'):\n",
      "    #    input_df=input_df[['F', 'A_var', 'E_var']]\n",
      "    #if (yName=='G_purchase'):\n",
      "    #    input_df=input_df[['G', 'total_offers', 'E_var']]\n",
      "\n",
      "\n",
      "    #input_df=input_df[['shopping_pt', 'record_type', 'day', 'state', 'location', 'group_size', 'homeowner', 'car_age', 'car_value', 'risk_factor',\n",
      "    #             'age_oldest', 'age_youngest', 'married_couple', 'C_previous', 'duration_previous']]\n",
      "\n",
      "    X = input_df.values\n",
      "\n",
      "    skf=StratifiedKFold(y, n_folds=3 )\n",
      "\n",
      "    best_model=None\n",
      "    best_model_score=0\n",
      "    for train_index, test_index in skf:\n",
      "        #print(\"TRAIN:\", train_index, \"TEST:\", test_index)\n",
      "        X_train, X_test = X[train_index], X[test_index]\n",
      "        y_train, y_test = y[train_index], y[test_index]\n",
      "        \n",
      "        #selector = RFE(select_model, step=1, n_features_to_select=features_to_select)\n",
      "        clf = clone(model)\n",
      "        #pipeline = Pipeline([('rfe', selector), ('lr', clf)])\n",
      "        pipeline = Pipeline([('lr', clf)])\n",
      "        pipeline = pipeline.fit(X_train, y_train)\n",
      "\n",
      "        print \"score:\"+ yName +\":\"+str(pipeline.score(X_test,y_test))\n",
      "\n",
      "        if best_model==None or best_model_score<clf.score(X_test, y_test):\n",
      "            best_model=clf\n",
      "            best_model_score=clf.score(X_test, y_test)\n",
      "            \n",
      "\n",
      "    trained_model = best_model\n",
      "\n",
      "    return trained_model, best_model_score\n",
      "\n",
      "def predict(test_2_df, model, prodStr='A_purchase'):\n",
      "\n",
      "    test_df = test_2_df.copy(deep=True)\n",
      "    test_y = test_df[prodStr]\n",
      "\n",
      "#    if prodStr=='total_offers':\n",
      "#        test_df=test_df.drop([prodStr])\n",
      "#    else:\n",
      "#        test_df=test_df.drop(['A_purchase'])\n",
      "#        test_df=test_df.drop(['B_purchase'])\n",
      "#        test_df=test_df.drop(['C_purchase'])\n",
      "#        test_df=test_df.drop(['D_purchase'])\n",
      "#        test_df=test_df.drop(['E_purchase'])\n",
      "#        test_df=test_df.drop(['F_purchase'])\n",
      "#        test_df=test_df.drop(['G_purchase'])\n",
      "\n",
      " #   if (prodStr=='G_purchase'):\n",
      " #       test_df=test_df.drop(['C_previous'])\n",
      "\n",
      "    if (prodStr=='A_purchase'):\n",
      "        test_df=test_df[['A']]\n",
      "    if (prodStr=='B_purchase'):\n",
      "        test_df=test_df[['B']]\n",
      "    if (prodStr=='C_purchase'):\n",
      "        test_df=test_df[['shopping_pt', 'C', 'total_offers', 'C_change', 'C_var', 'D_var']]\n",
      "    if (prodStr=='D_purchase'):\n",
      "        test_df=test_df[['D']]\n",
      "    if (prodStr=='E_purchase'):\n",
      "        test_df=test_df[['E']]\n",
      "    if (prodStr=='F_purchase'):\n",
      "        test_df=test_df[['F', 'A_var', 'E_var']]\n",
      "    if (prodStr=='G_purchase'):\n",
      "        test_df=test_df[['G', 'total_offers', 'E_var']]\n",
      "\n",
      " #   test_df=test_df[['shopping_pt', 'record_type', 'day', 'state', 'location', 'group_size', 'homeowner', 'car_age', 'car_value', 'risk_factor',\n",
      " #                'age_oldest', 'age_youngest', 'married_couple', 'C_previous', 'duration_previous']]\n",
      "\n",
      "    test_X = test_df.values\n",
      "\n",
      "    prediction = model.predict(test_X)\n",
      "\n",
      "    #print prodStr +\":\"+str(prediction)\n",
      "\n",
      "    return prediction\n",
      "\n",
      "\n",
      "modelADict={}\n",
      "modelBDict={}\n",
      "modelCDict={}\n",
      "modelDDict={}\n",
      "modelEDict={}\n",
      "modelFDict={}\n",
      "modelGDict={}\n",
      "\n",
      "modelAScores={}\n",
      "modelBScores={}\n",
      "modelCScores={}\n",
      "modelDScores={}\n",
      "modelEScores={}\n",
      "modelFScores={}\n",
      "modelGScores={}\n",
      "\n",
      "for i in range(1,13):\n",
      "    print \"offers:\"+str(i)\n",
      "    train = cleanup(train_sets[i])\n",
      "    modelADict[i], modelAScores[i] = train_model(train, lr, lr)\n",
      "    modelBDict[i], modelAScores[i] = train_model(train, lr, lr, yName='B_purchase')\n",
      "    modelCDict[i], modelAScores[i] = train_model(train, lr, lr, yName='C_purchase')\n",
      "    modelDDict[i], modelAScores[i] = train_model(train, lr, lr, yName='D_purchase')\n",
      "    modelEDict[i], modelAScores[i] = train_model(train, lr, lr, yName='E_purchase')\n",
      "    modelFDict[i], modelAScores[i] = train_model(train, lr, lr, yName='F_purchase')\n",
      "    modelGDict[i], modelAScores[i] = train_model(train, lr, lr, yName='G_purchase')"
     ],
     "language": "python",
     "metadata": {},
     "outputs": [
      {
       "output_type": "stream",
       "stream": "stdout",
       "text": [
        "offers:1\n",
        "score:A_purchase:0.702136871076"
       ]
      },
      {
       "output_type": "stream",
       "stream": "stdout",
       "text": [
        "\n",
        "score:A_purchase:0.702993567541"
       ]
      },
      {
       "output_type": "stream",
       "stream": "stdout",
       "text": [
        "\n",
        "score:A_purchase:0.703024492825"
       ]
      },
      {
       "output_type": "stream",
       "stream": "stdout",
       "text": [
        "\n",
        "score:B_purchase:0.526486687077"
       ]
      },
      {
       "output_type": "stream",
       "stream": "stdout",
       "text": [
        "\n",
        "score:B_purchase:0.53330653142"
       ]
      },
      {
       "output_type": "stream",
       "stream": "stdout",
       "text": [
        "\n",
        "score:B_purchase:0.53077065809"
       ]
      },
      {
       "output_type": "stream",
       "stream": "stdout",
       "text": [
        "\n",
        "score:C_purchase:0.576769644679"
       ]
      },
      {
       "output_type": "stream",
       "stream": "stdout",
       "text": [
        "\n",
        "score:C_purchase:0.577127659574"
       ]
      },
      {
       "output_type": "stream",
       "stream": "stdout",
       "text": [
        "\n",
        "score:C_purchase:0.577003958436"
       ]
      },
      {
       "output_type": "stream",
       "stream": "stdout",
       "text": [
        "\n",
        "score:D_purchase:0.636793765655"
       ]
      },
      {
       "output_type": "stream",
       "stream": "stdout",
       "text": [
        "\n",
        "score:D_purchase:0.636473280554"
       ]
      },
      {
       "output_type": "stream",
       "stream": "stdout",
       "text": [
        "\n",
        "score:D_purchase:0.635823849579"
       ]
      },
      {
       "output_type": "stream",
       "stream": "stdout",
       "text": [
        "\n",
        "score:E_purchase:0.648947026626"
       ]
      },
      {
       "output_type": "stream",
       "stream": "stdout",
       "text": [
        "\n",
        "score:E_purchase:0.645719940623"
       ]
      },
      {
       "output_type": "stream",
       "stream": "stdout",
       "text": [
        "\n",
        "score:E_purchase:0.637555665512"
       ]
      },
      {
       "output_type": "stream",
       "stream": "stdout",
       "text": [
        "\n",
        "score:F_purchase:0.520982156663"
       ]
      },
      {
       "output_type": "stream",
       "stream": "stdout",
       "text": [
        "\n",
        "score:F_purchase:0.520472538347"
       ]
      },
      {
       "output_type": "stream",
       "stream": "stdout",
       "text": [
        "\n",
        "score:F_purchase:0.523688767937"
       ]
      },
      {
       "output_type": "stream",
       "stream": "stdout",
       "text": [
        "\n",
        "score:G_purchase:0.455175186319"
       ]
      },
      {
       "output_type": "stream",
       "stream": "stdout",
       "text": [
        "\n",
        "score:G_purchase:0.450612320633"
       ]
      },
      {
       "output_type": "stream",
       "stream": "stdout",
       "text": [
        "\n",
        "score:G_purchase:0.454787234043"
       ]
      },
      {
       "output_type": "stream",
       "stream": "stdout",
       "text": [
        "\n",
        "offers:2\n",
        "score:A_purchase:0.702600735999"
       ]
      },
      {
       "output_type": "stream",
       "stream": "stdout",
       "text": [
        "\n",
        "score:A_purchase:0.702931716972"
       ]
      },
      {
       "output_type": "stream",
       "stream": "stdout",
       "text": [
        "\n",
        "score:A_purchase:0.703890400792"
       ]
      },
      {
       "output_type": "stream",
       "stream": "stdout",
       "text": [
        "\n",
        "score:B_purchase:0.527909206172"
       ]
      },
      {
       "output_type": "stream",
       "stream": "stdout",
       "text": [
        "\n",
        "score:B_purchase:0.533677634834"
       ]
      },
      {
       "output_type": "stream",
       "stream": "stdout",
       "text": [
        "\n",
        "score:B_purchase:0.530646956952"
       ]
      },
      {
       "output_type": "stream",
       "stream": "stdout",
       "text": [
        "\n",
        "score:C_purchase:0.585119213285"
       ]
      },
      {
       "output_type": "stream",
       "stream": "stdout",
       "text": [
        "\n",
        "score:C_purchase:0.585477486393"
       ]
      },
      {
       "output_type": "stream",
       "stream": "stdout",
       "text": [
        "\n",
        "score:C_purchase:0.5834673429"
       ]
      },
      {
       "output_type": "stream",
       "stream": "stdout",
       "text": [
        "\n",
        "score:D_purchase:0.639948047129"
       ]
      },
      {
       "output_type": "stream",
       "stream": "stdout",
       "text": [
        "\n",
        "score:D_purchase:0.639349332014"
       ]
      },
      {
       "output_type": "stream",
       "stream": "stdout",
       "text": [
        "\n",
        "score:D_purchase:0.640029688273"
       ]
      },
      {
       "output_type": "stream",
       "stream": "stdout",
       "text": [
        "\n",
        "score:E_purchase:0.64888517797"
       ]
      },
      {
       "output_type": "stream",
       "stream": "stdout",
       "text": [
        "\n",
        "score:E_purchase:0.644792182088"
       ]
      },
      {
       "output_type": "stream",
       "stream": "stdout",
       "text": [
        "\n",
        "score:E_purchase:0.63863805047"
       ]
      },
      {
       "output_type": "stream",
       "stream": "stdout",
       "text": [
        "\n",
        "score:F_purchase:0.520054426818"
       ]
      },
      {
       "output_type": "stream",
       "stream": "stdout",
       "text": [
        "\n",
        "score:F_purchase:0.521462147452"
       ]
      },
      {
       "output_type": "stream",
       "stream": "stdout",
       "text": [
        "\n",
        "score:F_purchase:0.523193963384"
       ]
      },
      {
       "output_type": "stream",
       "stream": "stdout",
       "text": [
        "\n",
        "score:G_purchase:0.455237034975"
       ]
      },
      {
       "output_type": "stream",
       "stream": "stdout",
       "text": [
        "\n",
        "score:G_purchase:0.450643245918"
       ]
      },
      {
       "output_type": "stream",
       "stream": "stdout",
       "text": [
        "\n",
        "score:G_purchase:0.454756308758"
       ]
      },
      {
       "output_type": "stream",
       "stream": "stdout",
       "text": [
        "\n",
        "offers:3\n",
        "score:A_purchase:0.704898133263"
       ]
      },
      {
       "output_type": "stream",
       "stream": "stdout",
       "text": [
        "\n",
        "score:A_purchase:0.705150918635"
       ]
      },
      {
       "output_type": "stream",
       "stream": "stdout",
       "text": [
        "\n",
        "score:A_purchase:0.701049868766"
       ]
      },
      {
       "output_type": "stream",
       "stream": "stdout",
       "text": [
        "\n",
        "score:B_purchase:0.529608608641"
       ]
      },
      {
       "output_type": "stream",
       "stream": "stdout",
       "text": [
        "\n",
        "score:B_purchase:0.528215223097"
       ]
      },
      {
       "output_type": "stream",
       "stream": "stdout",
       "text": [
        "\n",
        "score:B_purchase:0.532906824147"
       ]
      },
      {
       "output_type": "stream",
       "stream": "stdout",
       "text": [
        "\n",
        "score:C_purchase:0.584167186116"
       ]
      },
      {
       "output_type": "stream",
       "stream": "stdout",
       "text": [
        "\n",
        "score:C_purchase:0.585958005249"
       ]
      },
      {
       "output_type": "stream",
       "stream": "stdout",
       "text": [
        "\n",
        "score:C_purchase:0.593569553806"
       ]
      },
      {
       "output_type": "stream",
       "stream": "stdout",
       "text": [
        "\n",
        "score:D_purchase:0.640923854204"
       ]
      },
      {
       "output_type": "stream",
       "stream": "stdout",
       "text": [
        "\n",
        "score:D_purchase:0.63907480315"
       ]
      },
      {
       "output_type": "stream",
       "stream": "stdout",
       "text": [
        "\n",
        "score:D_purchase:0.638877952756"
       ]
      },
      {
       "output_type": "stream",
       "stream": "stdout",
       "text": [
        "\n",
        "score:E_purchase:0.642268954431"
       ]
      },
      {
       "output_type": "stream",
       "stream": "stdout",
       "text": [
        "\n",
        "score:E_purchase:0.641010498688"
       ]
      },
      {
       "output_type": "stream",
       "stream": "stdout",
       "text": [
        "\n",
        "score:E_purchase:0.64717847769"
       ]
      },
      {
       "output_type": "stream",
       "stream": "stdout",
       "text": [
        "\n",
        "score:F_purchase:0.521570814606"
       ]
      },
      {
       "output_type": "stream",
       "stream": "stdout",
       "text": [
        "\n",
        "score:F_purchase:0.521686351706"
       ]
      },
      {
       "output_type": "stream",
       "stream": "stdout",
       "text": [
        "\n",
        "score:F_purchase:0.521030183727"
       ]
      },
      {
       "output_type": "stream",
       "stream": "stdout",
       "text": [
        "\n",
        "score:G_purchase:0.454512647223"
       ]
      },
      {
       "output_type": "stream",
       "stream": "stdout",
       "text": [
        "\n",
        "score:G_purchase:0.453576115486"
       ]
      },
      {
       "output_type": "stream",
       "stream": "stdout",
       "text": [
        "\n",
        "score:G_purchase:0.451509186352"
       ]
      },
      {
       "output_type": "stream",
       "stream": "stdout",
       "text": [
        "\n",
        "offers:4\n",
        "score:A_purchase:0.701445315309"
       ]
      },
      {
       "output_type": "stream",
       "stream": "stdout",
       "text": [
        "\n",
        "score:A_purchase:0.70165030741"
       ]
      },
      {
       "output_type": "stream",
       "stream": "stdout",
       "text": [
        "\n",
        "score:A_purchase:0.703376119081"
       ]
      },
      {
       "output_type": "stream",
       "stream": "stdout",
       "text": [
        "\n",
        "score:B_purchase:0.529661321637"
       ]
      },
      {
       "output_type": "stream",
       "stream": "stdout",
       "text": [
        "\n",
        "score:B_purchase:0.530003954985"
       ]
      },
      {
       "output_type": "stream",
       "stream": "stdout",
       "text": [
        "\n",
        "score:B_purchase:0.526336605185"
       ]
      },
      {
       "output_type": "stream",
       "stream": "stdout",
       "text": [
        "\n",
        "score:C_purchase:0.587402027756"
       ]
      },
      {
       "output_type": "stream",
       "stream": "stdout",
       "text": [
        "\n",
        "score:C_purchase:0.591126451659"
       ]
      },
      {
       "output_type": "stream",
       "stream": "stdout",
       "text": [
        "\n",
        "score:C_purchase:0.588897278251"
       ]
      },
      {
       "output_type": "stream",
       "stream": "stdout",
       "text": [
        "\n",
        "score:D_purchase:0.6355432516"
       ]
      },
      {
       "output_type": "stream",
       "stream": "stdout",
       "text": [
        "\n",
        "score:D_purchase:0.639233451983"
       ]
      },
      {
       "output_type": "stream",
       "stream": "stdout",
       "text": [
        "\n",
        "score:D_purchase:0.639988494589"
       ]
      },
      {
       "output_type": "stream",
       "stream": "stdout",
       "text": [
        "\n",
        "score:E_purchase:0.639821672539"
       ]
      },
      {
       "output_type": "stream",
       "stream": "stdout",
       "text": [
        "\n",
        "score:E_purchase:0.6473591486"
       ]
      },
      {
       "output_type": "stream",
       "stream": "stdout",
       "text": [
        "\n",
        "score:E_purchase:0.643080573832"
       ]
      },
      {
       "output_type": "stream",
       "stream": "stdout",
       "text": [
        "\n",
        "score:F_purchase:0.52196735457"
       ]
      },
      {
       "output_type": "stream",
       "stream": "stdout",
       "text": [
        "\n",
        "score:F_purchase:0.521410851041"
       ]
      },
      {
       "output_type": "stream",
       "stream": "stdout",
       "text": [
        "\n",
        "score:F_purchase:0.517348002733"
       ]
      },
      {
       "output_type": "stream",
       "stream": "stdout",
       "text": [
        "\n",
        "score:G_purchase:0.454123822535"
       ]
      },
      {
       "output_type": "stream",
       "stream": "stdout",
       "text": [
        "\n",
        "score:G_purchase:0.453888469421"
       ]
      },
      {
       "output_type": "stream",
       "stream": "stdout",
       "text": [
        "\n",
        "score:G_purchase:0.453816560601"
       ]
      },
      {
       "output_type": "stream",
       "stream": "stdout",
       "text": [
        "\n",
        "offers:5\n",
        "score:A_purchase:0.699546909423"
       ]
      },
      {
       "output_type": "stream",
       "stream": "stdout",
       "text": [
        "\n",
        "score:A_purchase:0.699754749137"
       ]
      },
      {
       "output_type": "stream",
       "stream": "stdout",
       "text": [
        "\n",
        "score:A_purchase:0.701500602735"
       ]
      },
      {
       "output_type": "stream",
       "stream": "stdout",
       "text": [
        "\n",
        "score:B_purchase:0.528910504219"
       ]
      },
      {
       "output_type": "stream",
       "stream": "stdout",
       "text": [
        "\n",
        "score:B_purchase:0.529783431018"
       ]
      },
      {
       "output_type": "stream",
       "stream": "stdout",
       "text": [
        "\n",
        "score:B_purchase:0.527705033878"
       ]
      },
      {
       "output_type": "stream",
       "stream": "stdout",
       "text": [
        "\n",
        "score:C_purchase:0.592675728478"
       ]
      },
      {
       "output_type": "stream",
       "stream": "stdout",
       "text": [
        "\n",
        "score:C_purchase:0.59907719167"
       ]
      },
      {
       "output_type": "stream",
       "stream": "stdout",
       "text": [
        "\n",
        "score:C_purchase:0.5867730806"
       ]
      },
      {
       "output_type": "stream",
       "stream": "stdout",
       "text": [
        "\n",
        "score:D_purchase:0.63794321819"
       ]
      },
      {
       "output_type": "stream",
       "stream": "stdout",
       "text": [
        "\n",
        "score:D_purchase:0.638358897618"
       ]
      },
      {
       "output_type": "stream",
       "stream": "stdout",
       "text": [
        "\n",
        "score:D_purchase:0.640561998587"
       ]
      },
      {
       "output_type": "stream",
       "stream": "stdout",
       "text": [
        "\n",
        "score:E_purchase:0.644677224924"
       ]
      },
      {
       "output_type": "stream",
       "stream": "stdout",
       "text": [
        "\n",
        "score:E_purchase:0.638940848817"
       ]
      },
      {
       "output_type": "stream",
       "stream": "stdout",
       "text": [
        "\n",
        "score:E_purchase:0.64239098807"
       ]
      },
      {
       "output_type": "stream",
       "stream": "stdout",
       "text": [
        "\n",
        "score:F_purchase:0.518809494118"
       ]
      },
      {
       "output_type": "stream",
       "stream": "stdout",
       "text": [
        "\n",
        "score:F_purchase:0.520222804173"
       ]
      },
      {
       "output_type": "stream",
       "stream": "stdout",
       "text": [
        "\n",
        "score:F_purchase:0.51943301326"
       ]
      },
      {
       "output_type": "stream",
       "stream": "stdout",
       "text": [
        "\n",
        "score:G_purchase:0.452965872719"
       ]
      },
      {
       "output_type": "stream",
       "stream": "stdout",
       "text": [
        "\n",
        "score:G_purchase:0.454046639232"
       ]
      },
      {
       "output_type": "stream",
       "stream": "stdout",
       "text": [
        "\n",
        "score:G_purchase:0.453672527747"
       ]
      },
      {
       "output_type": "stream",
       "stream": "stdout",
       "text": [
        "\n",
        "offers:6\n",
        "score:A_purchase:0.703819628647"
       ]
      },
      {
       "output_type": "stream",
       "stream": "stdout",
       "text": [
        "\n",
        "score:A_purchase:0.698657753727"
       ]
      },
      {
       "output_type": "stream",
       "stream": "stdout",
       "text": [
        "\n",
        "score:A_purchase:0.694678762799"
       ]
      },
      {
       "output_type": "stream",
       "stream": "stdout",
       "text": [
        "\n",
        "score:B_purchase:0.52625994695"
       ]
      },
      {
       "output_type": "stream",
       "stream": "stdout",
       "text": [
        "\n",
        "score:B_purchase:0.524643217147"
       ]
      },
      {
       "output_type": "stream",
       "stream": "stdout",
       "text": [
        "\n",
        "score:B_purchase:0.529099686986"
       ]
      },
      {
       "output_type": "stream",
       "stream": "stdout",
       "text": [
        "\n",
        "score:C_purchase:0.606684350133"
       ]
      },
      {
       "output_type": "stream",
       "stream": "stdout",
       "text": [
        "\n",
        "score:C_purchase:0.587882646294"
       ]
      },
      {
       "output_type": "stream",
       "stream": "stdout",
       "text": [
        "\n",
        "score:C_purchase:0.593134914319"
       ]
      },
      {
       "output_type": "stream",
       "stream": "stdout",
       "text": [
        "\n",
        "score:D_purchase:0.639575596817"
       ]
      },
      {
       "output_type": "stream",
       "stream": "stdout",
       "text": [
        "\n",
        "score:D_purchase:0.643800732134"
       ]
      },
      {
       "output_type": "stream",
       "stream": "stdout",
       "text": [
        "\n",
        "score:D_purchase:0.64348241286"
       ]
      },
      {
       "output_type": "stream",
       "stream": "stdout",
       "text": [
        "\n",
        "score:E_purchase:0.643554376658"
       ]
      },
      {
       "output_type": "stream",
       "stream": "stdout",
       "text": [
        "\n",
        "score:E_purchase:0.641678603639"
       ]
      },
      {
       "output_type": "stream",
       "stream": "stdout",
       "text": [
        "\n",
        "score:E_purchase:0.635948856703"
       ]
      },
      {
       "output_type": "stream",
       "stream": "stdout",
       "text": [
        "\n",
        "score:F_purchase:0.511087533156"
       ]
      },
      {
       "output_type": "stream",
       "stream": "stdout",
       "text": [
        "\n",
        "score:F_purchase:0.520717279431"
       ]
      },
      {
       "output_type": "stream",
       "stream": "stdout",
       "text": [
        "\n",
        "score:F_purchase:0.521247811555"
       ]
      },
      {
       "output_type": "stream",
       "stream": "stdout",
       "text": [
        "\n",
        "score:G_purchase:0.448222811671"
       ]
      },
      {
       "output_type": "stream",
       "stream": "stdout",
       "text": [
        "\n",
        "score:G_purchase:0.457955329195"
       ]
      },
      {
       "output_type": "stream",
       "stream": "stdout",
       "text": [
        "\n",
        "score:G_purchase:0.458008382408"
       ]
      },
      {
       "output_type": "stream",
       "stream": "stdout",
       "text": [
        "\n",
        "offers:7\n",
        "score:A_purchase:0.696988856398"
       ]
      },
      {
       "output_type": "stream",
       "stream": "stdout",
       "text": [
        "\n",
        "score:A_purchase:0.693353354936"
       ]
      },
      {
       "output_type": "stream",
       "stream": "stdout",
       "text": [
        "\n",
        "score:A_purchase:0.695937401201"
       ]
      },
      {
       "output_type": "stream",
       "stream": "stdout",
       "text": [
        "\n",
        "score:B_purchase:0.527068679365"
       ]
      },
      {
       "output_type": "stream",
       "stream": "stdout",
       "text": [
        "\n",
        "score:B_purchase:0.518770252114"
       ]
      },
      {
       "output_type": "stream",
       "stream": "stdout",
       "text": [
        "\n",
        "score:B_purchase:0.52205184951"
       ]
      },
      {
       "output_type": "stream",
       "stream": "stdout",
       "text": [
        "\n",
        "score:C_purchase:0.601043230854"
       ]
      },
      {
       "output_type": "stream",
       "stream": "stdout",
       "text": [
        "\n",
        "score:C_purchase:0.587291551411"
       ]
      },
      {
       "output_type": "stream",
       "stream": "stdout",
       "text": [
        "\n",
        "score:C_purchase:0.590815681315"
       ]
      },
      {
       "output_type": "stream",
       "stream": "stdout",
       "text": [
        "\n",
        "score:D_purchase:0.651228957559"
       ]
      },
      {
       "output_type": "stream",
       "stream": "stdout",
       "text": [
        "\n",
        "score:D_purchase:0.647277325535"
       ]
      },
      {
       "output_type": "stream",
       "stream": "stdout",
       "text": [
        "\n",
        "score:D_purchase:0.649304457793"
       ]
      },
      {
       "output_type": "stream",
       "stream": "stdout",
       "text": [
        "\n",
        "score:E_purchase:0.632182091204"
       ]
      },
      {
       "output_type": "stream",
       "stream": "stdout",
       "text": [
        "\n",
        "score:E_purchase:0.64142891014"
       ]
      },
      {
       "output_type": "stream",
       "stream": "stdout",
       "text": [
        "\n",
        "score:E_purchase:0.643692696807"
       ]
      },
      {
       "output_type": "stream",
       "stream": "stdout",
       "text": [
        "\n",
        "score:F_purchase:0.515846044416"
       ]
      },
      {
       "output_type": "stream",
       "stream": "stdout",
       "text": [
        "\n",
        "score:F_purchase:0.514502489528"
       ]
      },
      {
       "output_type": "stream",
       "stream": "stdout",
       "text": [
        "\n",
        "score:F_purchase:0.510354094214"
       ]
      },
      {
       "output_type": "stream",
       "stream": "stdout",
       "text": [
        "\n",
        "score:G_purchase:0.458626412708"
       ]
      },
      {
       "output_type": "stream",
       "stream": "stdout",
       "text": [
        "\n",
        "score:G_purchase:0.45894254327"
       ]
      },
      {
       "output_type": "stream",
       "stream": "stdout",
       "text": [
        "\n",
        "score:G_purchase:0.467040784066"
       ]
      },
      {
       "output_type": "stream",
       "stream": "stdout",
       "text": [
        "\n",
        "offers:8\n",
        "score:A_purchase:0.695973348783"
       ]
      },
      {
       "output_type": "stream",
       "stream": "stdout",
       "text": [
        "\n",
        "score:A_purchase:0.688830943068"
       ]
      },
      {
       "output_type": "stream",
       "stream": "stdout",
       "text": [
        "\n",
        "score:A_purchase:0.685643922932"
       ]
      },
      {
       "output_type": "stream",
       "stream": "stdout",
       "text": [
        "\n",
        "score:B_purchase:0.527085747393"
       ]
      },
      {
       "output_type": "stream",
       "stream": "stdout",
       "text": [
        "\n",
        "score:B_purchase:0.518180501231"
       ]
      },
      {
       "output_type": "stream",
       "stream": "stdout",
       "text": [
        "\n",
        "score:B_purchase:0.508909169926"
       ]
      },
      {
       "output_type": "stream",
       "stream": "stdout",
       "text": [
        "\n",
        "score:C_purchase:0.585457705678"
       ]
      },
      {
       "output_type": "stream",
       "stream": "stdout",
       "text": [
        "\n",
        "score:C_purchase:0.589308996089"
       ]
      },
      {
       "output_type": "stream",
       "stream": "stdout",
       "text": [
        "\n",
        "score:C_purchase:0.59119223526"
       ]
      },
      {
       "output_type": "stream",
       "stream": "stdout",
       "text": [
        "\n",
        "score:D_purchase:0.662949015064"
       ]
      },
      {
       "output_type": "stream",
       "stream": "stdout",
       "text": [
        "\n",
        "score:D_purchase:0.663334781979"
       ]
      },
      {
       "output_type": "stream",
       "stream": "stdout",
       "text": [
        "\n",
        "score:D_purchase:0.661741271911"
       ]
      },
      {
       "output_type": "stream",
       "stream": "stdout",
       "text": [
        "\n",
        "score:E_purchase:0.640787949015"
       ]
      },
      {
       "output_type": "stream",
       "stream": "stdout",
       "text": [
        "\n",
        "score:E_purchase:0.622193249312"
       ]
      },
      {
       "output_type": "stream",
       "stream": "stdout",
       "text": [
        "\n",
        "score:E_purchase:0.637838620889"
       ]
      },
      {
       "output_type": "stream",
       "stream": "stdout",
       "text": [
        "\n",
        "score:F_purchase:0.515498261877"
       ]
      },
      {
       "output_type": "stream",
       "stream": "stdout",
       "text": [
        "\n",
        "score:F_purchase:0.507750253513"
       ]
      },
      {
       "output_type": "stream",
       "stream": "stdout",
       "text": [
        "\n",
        "score:F_purchase:0.498913515863"
       ]
      },
      {
       "output_type": "stream",
       "stream": "stdout",
       "text": [
        "\n",
        "score:G_purchase:0.470741599073"
       ]
      },
      {
       "output_type": "stream",
       "stream": "stdout",
       "text": [
        "\n",
        "score:G_purchase:0.470809792844"
       ]
      },
      {
       "output_type": "stream",
       "stream": "stdout",
       "text": [
        "\n",
        "score:G_purchase:0.465449804433"
       ]
      },
      {
       "output_type": "stream",
       "stream": "stdout",
       "text": [
        "\n",
        "offers:9\n",
        "score:A_purchase:0.690615331729"
       ]
      },
      {
       "output_type": "stream",
       "stream": "stdout",
       "text": [
        "\n",
        "score:A_purchase:0.692228335626"
       ]
      },
      {
       "output_type": "stream",
       "stream": "stdout",
       "text": [
        "\n",
        "score:A_purchase:0.695667125172"
       ]
      },
      {
       "output_type": "stream",
       "stream": "stdout",
       "text": [
        "\n",
        "score:B_purchase:0.518047438982\n",
        "score:B_purchase:0.512035763411"
       ]
      },
      {
       "output_type": "stream",
       "stream": "stdout",
       "text": [
        "\n",
        "score:B_purchase:0.503782668501\n",
        "score:C_purchase:0.576830525954"
       ]
      },
      {
       "output_type": "stream",
       "stream": "stdout",
       "text": [
        "\n",
        "score:C_purchase:0.589064649243"
       ]
      },
      {
       "output_type": "stream",
       "stream": "stdout",
       "text": [
        "\n",
        "score:C_purchase:0.589064649243"
       ]
      },
      {
       "output_type": "stream",
       "stream": "stdout",
       "text": [
        "\n",
        "score:D_purchase:0.677896184256"
       ]
      },
      {
       "output_type": "stream",
       "stream": "stdout",
       "text": [
        "\n",
        "score:D_purchase:0.676066024759"
       ]
      },
      {
       "output_type": "stream",
       "stream": "stdout",
       "text": [
        "\n",
        "score:D_purchase:0.676753782669"
       ]
      },
      {
       "output_type": "stream",
       "stream": "stdout",
       "text": [
        "\n",
        "score:E_purchase:0.620831900997"
       ]
      },
      {
       "output_type": "stream",
       "stream": "stdout",
       "text": [
        "\n",
        "score:E_purchase:0.639270976616\n",
        "score:E_purchase:0.638927097662"
       ]
      },
      {
       "output_type": "stream",
       "stream": "stdout",
       "text": [
        "\n",
        "score:F_purchase:0.51220350636"
       ]
      },
      {
       "output_type": "stream",
       "stream": "stdout",
       "text": [
        "\n",
        "score:F_purchase:0.510660247593"
       ]
      },
      {
       "output_type": "stream",
       "stream": "stdout",
       "text": [
        "\n",
        "score:F_purchase:0.510316368638"
       ]
      },
      {
       "output_type": "stream",
       "stream": "stdout",
       "text": [
        "\n",
        "score:G_purchase:0.467858370574"
       ]
      },
      {
       "output_type": "stream",
       "stream": "stdout",
       "text": [
        "\n",
        "score:G_purchase:0.480055020633"
       ]
      },
      {
       "output_type": "stream",
       "stream": "stdout",
       "text": [
        "\n",
        "score:G_purchase:0.472833562586"
       ]
      },
      {
       "output_type": "stream",
       "stream": "stdout",
       "text": [
        "\n",
        "offers:10\n",
        "score:A_purchase:0.68813559322"
       ]
      },
      {
       "output_type": "stream",
       "stream": "stdout",
       "text": [
        "\n",
        "score:A_purchase:0.691525423729\n",
        "score:A_purchase:0.680995475113\n",
        "score:B_purchase:0.527683615819"
       ]
      },
      {
       "output_type": "stream",
       "stream": "stdout",
       "text": [
        "\n",
        "score:B_purchase:0.485875706215\n",
        "score:B_purchase:0.532805429864\n",
        "score:C_purchase:0.583050847458"
       ]
      },
      {
       "output_type": "stream",
       "stream": "stdout",
       "text": [
        "\n",
        "score:C_purchase:0.567231638418\n",
        "score:C_purchase:0.571266968326"
       ]
      },
      {
       "output_type": "stream",
       "stream": "stdout",
       "text": [
        "\n",
        "score:D_purchase:0.684745762712\n",
        "score:D_purchase:0.693785310734"
       ]
      },
      {
       "output_type": "stream",
       "stream": "stdout",
       "text": [
        "\n",
        "score:D_purchase:0.678733031674\n",
        "score:E_purchase:0.625988700565\n",
        "score:E_purchase:0.625988700565"
       ]
      },
      {
       "output_type": "stream",
       "stream": "stdout",
       "text": [
        "\n",
        "score:E_purchase:0.631221719457\n",
        "score:F_purchase:0.514124293785\n",
        "score:F_purchase:0.49604519774"
       ]
      },
      {
       "output_type": "stream",
       "stream": "stdout",
       "text": [
        "\n",
        "score:F_purchase:0.509049773756\n",
        "score:G_purchase:0.475706214689"
       ]
      },
      {
       "output_type": "stream",
       "stream": "stdout",
       "text": [
        "\n",
        "score:G_purchase:0.473446327684\n",
        "score:G_purchase:0.47963800905"
       ]
      },
      {
       "output_type": "stream",
       "stream": "stdout",
       "text": [
        "\n",
        "offers:11\n",
        "score:A_purchase:0.668571428571"
       ]
      },
      {
       "output_type": "stream",
       "stream": "stdout",
       "text": [
        "\n",
        "score:A_purchase:0.657142857143\n",
        "score:A_purchase:0.657142857143\n",
        "score:B_purchase:0.485714285714\n",
        "score:B_purchase:0.514285714286\n",
        "score:B_purchase:0.491428571429\n",
        "score:C_purchase:0.548571428571\n",
        "score:C_purchase:0.508571428571\n",
        "score:C_purchase:0.542857142857\n",
        "score:D_purchase:0.662857142857"
       ]
      },
      {
       "output_type": "stream",
       "stream": "stdout",
       "text": [
        "\n",
        "score:D_purchase:0.68\n",
        "score:D_purchase:0.714285714286\n",
        "score:E_purchase:0.662857142857\n",
        "score:E_purchase:0.594285714286\n",
        "score:E_purchase:0.6\n",
        "score:F_purchase:0.48\n",
        "score:F_purchase:0.485714285714\n",
        "score:F_purchase:0.502857142857\n",
        "score:G_purchase:0.525714285714"
       ]
      },
      {
       "output_type": "stream",
       "stream": "stdout",
       "text": [
        "\n",
        "score:G_purchase:0.502857142857\n",
        "score:G_purchase:0.462857142857\n",
        "offers:12\n",
        "score:A_purchase:0.529411764706"
       ]
      },
      {
       "output_type": "stream",
       "stream": "stdout",
       "text": [
        "\n",
        "score:A_purchase:0.588235294118\n",
        "score:A_purchase:0.4375\n",
        "score:B_purchase:0.588235294118\n",
        "score:B_purchase:0.588235294118\n",
        "score:B_purchase:0.625\n",
        "score:C_purchase:0.235294117647\n",
        "score:C_purchase:0.411764705882\n",
        "score:C_purchase:0.4375\n",
        "score:D_purchase:0.588235294118\n",
        "score:D_purchase:0.470588235294\n",
        "score:D_purchase:0.4375\n",
        "score:E_purchase:0.588235294118\n",
        "score:E_purchase:0.588235294118\n",
        "score:E_purchase:0.5\n",
        "score:F_purchase:0.117647058824\n",
        "score:F_purchase:0.411764705882\n",
        "score:F_purchase:0.25\n",
        "score:G_purchase:0.352941176471\n",
        "score:G_purchase:0.470588235294\n",
        "score:G_purchase:0.625\n"
       ]
      }
     ],
     "prompt_number": 3
    },
    {
     "cell_type": "code",
     "collapsed": false,
     "input": [
      "test_2 = cleanup_test(test_2)\n",
      "correct=0\n",
      "for key, cdf in test_2.iterrows():\n",
      "    A= predict(cdf,modelADict[test_2.total_offers.loc[key]])\n",
      "    B= predict(cdf,modelBDict[test_2.total_offers.loc[key]],prodStr='B_purchase')\n",
      "    C= predict(cdf,modelCDict[test_2.total_offers.loc[key]],prodStr='C_purchase')\n",
      "    D= predict(cdf,modelDDict[test_2.total_offers.loc[key]],prodStr='D_purchase')\n",
      "    E= predict(cdf,modelEDict[test_2.total_offers.loc[key]],prodStr='E_purchase')\n",
      "    F= predict(cdf,modelFDict[test_2.total_offers.loc[key]],prodStr='F_purchase')\n",
      "    G= predict(cdf,modelGDict[test_2.total_offers.loc[key]],prodStr='G_purchase')\n",
      "\n",
      "    resultCol.loc[key]=str(int(A))+str(int(B))+str(int(C))+str(int(D))+str(int(E))+str(int(F))+str(int(G))\n",
      "\n",
      "    if test_2.A.loc[key]==A and test_2.B.loc[key]==B and test_2.C.loc[key]==C and test_2.D.loc[key]==D\\\n",
      "        and test_2.E.loc[key]==E and test_2.F.loc[key]==F and test_2.G.loc[key]==G:\n",
      "        correct += 1\n",
      "\n",
      "\n",
      "res = float(correct)/float(len(test_2))\n",
      "print(len(test_2))\n",
      "print correct\n",
      "print str(res)\n",
      "\n",
      "results_df[\"plan\"]=resultCol\n",
      "results_df.to_csv(\"results.csv\")\n"
     ],
     "language": "python",
     "metadata": {},
     "outputs": [
      {
       "output_type": "stream",
       "stream": "stdout",
       "text": [
        "55716\n",
        "2155\n",
        "0.038678297078\n"
       ]
      }
     ],
     "prompt_number": 4
    },
    {
     "cell_type": "code",
     "collapsed": false,
     "input": [
      "correct=0\n",
      "#test_2 = cleanup_test(test_2)\n",
      "\n",
      "def predict(test_2_df, model, prodStr='A_purchase'):\n",
      "\n",
      "    test_df = test_2_df.copy(deep=True)\n",
      "    test_y = test_df[prodStr]\n",
      "\n",
      "    if (prodStr=='A_purchase'):\n",
      "        test_df=test_df[['A']]\n",
      "\n",
      "\n",
      "    test_X = test_df.values\n",
      "\n",
      "    prediction = model.predict(test_X)\n",
      "\n",
      "    #print prodStr +\":\"+str(prediction)\n",
      "\n",
      "    return prediction\n",
      "\n",
      "for key, cdf in test_2.iterrows():\n",
      "    A= predict(cdf,modelADict[test_2.total_offers.loc[key]])\n",
      "    #B= predict(cdf,modelBDict[test_2.total_offers.loc[key]],prodStr='B_purchase')\n",
      "    #C= predict(cdf,modelCDict[test_2.total_offers.loc[key]],prodStr='C_purchase')\n",
      "    #D= predict(cdf,modelDDict[test_2.total_offers.loc[key]],prodStr='D_purchase')\n",
      "    #E= predict(cdf,modelEDict[test_2.total_offers.loc[key]],prodStr='E_purchase')\n",
      "    #F= predict(cdf,modelFDict[test_2.total_offers.loc[key]],prodStr='F_purchase')\n",
      "    #G= predict(cdf,modelGDict[test_2.total_offers.loc[key]],prodStr='G_purchase')\n",
      "\n",
      "    resultCol.loc[key]=str(int(A))+str(int(B))+str(int(C))+str(int(D))+str(int(E))+str(int(F))+str(int(G))\n",
      "\n",
      "    if test_2.A.loc[key]==A and test_2.B.loc[key]==B and test_2.C.loc[key]==C and test_2.D.loc[key]==D\\\n",
      "        and test_2.E.loc[key]==E and test_2.F.loc[key]==F and test_2.G.loc[key]==G:\n",
      "        correct += 1\n",
      "\n",
      "\n",
      "res = float(correct)/float(len(test_2))\n",
      "print(len(test_2))\n",
      "print correct\n",
      "print str(res)\n",
      "\n",
      "results_df[\"plan\"]=resultCol\n",
      "results_df.to_csv(\"results.csv\")"
     ],
     "language": "python",
     "metadata": {},
     "outputs": [
      {
       "output_type": "stream",
       "stream": "stdout",
       "text": [
        "55716\n",
        "457\n",
        "0.00820231172374\n"
       ]
      }
     ],
     "prompt_number": 17
    },
    {
     "cell_type": "code",
     "collapsed": false,
     "input": [],
     "language": "python",
     "metadata": {},
     "outputs": []
    }
   ],
   "metadata": {}
  }
 ]
}