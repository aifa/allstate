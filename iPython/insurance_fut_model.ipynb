{
 "metadata": {
  "name": ""
 },
 "nbformat": 3,
 "nbformat_minor": 0,
 "worksheets": [
  {
   "cells": [
    {
     "cell_type": "code",
     "collapsed": false,
     "input": [
      "__author__ = 'aifa'\n",
      "\n",
      "import os\n",
      "import pandas as pd\n",
      "import numpy as np\n",
      "import pylab as pl\n",
      "\n",
      "from sklearn import clone\n",
      "\n",
      "from sklearn.ensemble.weight_boosting import AdaBoostClassifier\n",
      "from sklearn.ensemble.forest import (RandomForestClassifier,RandomForestRegressor,\n",
      "                                        ExtraTreesClassifier)\n",
      "\n",
      "from sklearn.linear_model import LogisticRegression\n",
      "from sklearn import svm\n",
      "\n",
      "import math as math\n",
      "from sklearn.externals.six.moves import xrange\n",
      "from sklearn.tree import DecisionTreeClassifier\n",
      "\n",
      "from sklearn.svm import SVR\n",
      "from sklearn.cross_validation import StratifiedKFold\n",
      "\n",
      "train_sets={}\n",
      "train_1 = pd.read_csv(\"/Users/aifa/Dropbox/kaggle/insurance/future/train_all_split_1.csv\", header=0, encoding=\"UTF-8\", error_bad_lines=False, sep=\",\", index_col=0)\n",
      "train_sets[1]=train_1\n",
      "train_2 = pd.read_csv(\"/Users/aifa/Dropbox/kaggle/insurance/future/train_all_split_2.csv\", header=0, encoding=\"UTF-8\", error_bad_lines=False, sep=\",\", index_col=0)\n",
      "train_sets[2]=train_2\n",
      "train_3 = pd.read_csv(\"/Users/aifa/Dropbox/kaggle/insurance/future/train_all_split_3.csv\", header=0, encoding=\"UTF-8\", error_bad_lines=False, sep=\",\", index_col=0)\n",
      "train_sets[3]=train_3\n",
      "train_4 = pd.read_csv(\"/Users/aifa/Dropbox/kaggle/insurance/future/train_all_split_4.csv\", header=0, encoding=\"UTF-8\", error_bad_lines=False, sep=\",\", index_col=0)\n",
      "train_sets[4]=train_4\n",
      "train_5 = pd.read_csv(\"/Users/aifa/Dropbox/kaggle/insurance/future/train_all_split_5.csv\", header=0, encoding=\"UTF-8\", error_bad_lines=False, sep=\",\", index_col=0)\n",
      "train_sets[5]=train_5\n",
      "train_6 = pd.read_csv(\"/Users/aifa/Dropbox/kaggle/insurance/future/train_all_split_6.csv\", header=0, encoding=\"UTF-8\", error_bad_lines=False, sep=\",\", index_col=0)\n",
      "train_sets[6]=train_6\n",
      "train_7 = pd.read_csv(\"/Users/aifa/Dropbox/kaggle/insurance/future/train_all_split_7.csv\", header=0, encoding=\"UTF-8\", error_bad_lines=False, sep=\",\", index_col=0)\n",
      "train_sets[7]=train_7\n",
      "train_8 = pd.read_csv(\"/Users/aifa/Dropbox/kaggle/insurance/future/train_all_split_8.csv\", header=0, encoding=\"UTF-8\", error_bad_lines=False, sep=\",\", index_col=0)\n",
      "train_sets[8]=train_8\n",
      "train_9 = pd.read_csv(\"/Users/aifa/Dropbox/kaggle/insurance/future/train_all_split_9.csv\", header=0, encoding=\"UTF-8\", error_bad_lines=False, sep=\",\", index_col=0)\n",
      "train_sets[9]=train_9\n",
      "train_10 = pd.read_csv(\"/Users/aifa/Dropbox/kaggle/insurance/future/train_all_split_10.csv\", header=0, encoding=\"UTF-8\", error_bad_lines=False, sep=\",\", index_col=0)\n",
      "train_sets[10]=train_10\n",
      "train_11 = pd.read_csv(\"/Users/aifa/Dropbox/kaggle/insurance/future/train_all_split_11.csv\", header=0, encoding=\"UTF-8\", error_bad_lines=False, sep=\",\", index_col=0)\n",
      "train_sets[11]=train_11\n",
      "train_12 = pd.read_csv(\"/Users/aifa/Dropbox/kaggle/insurance/future/train_all_split_12.csv\", header=0, encoding=\"UTF-8\", error_bad_lines=False, sep=\",\", index_col=0)\n",
      "train_sets[12]=train_12\n",
      "\n",
      "test_2 = pd.read_csv(\"/Users/aifa/Dropbox/kaggle/insurance/future/test_v2_all_future.csv\", header=0, encoding=\"UTF-8\", error_bad_lines=False, sep=\",\", index_col=0)\n",
      "\n",
      "\n",
      "results_df = pd.DataFrame(index=test_2.index)\n",
      "resultCol = pd.Series(index=test_2.index,dtype=object)\n",
      "\n",
      "#try random forest on feature A\n",
      "n_estimators = 100\n",
      "\n",
      "rfcModel = RandomForestClassifier(n_estimators=n_estimators)\n",
      "rfrmodel = RandomForestRegressor(n_estimators=n_estimators)\n",
      "lr = LogisticRegression()\n",
      "\n",
      "\n",
      "#svr =  SVR(C=1.0, epsilon=0.2)\n",
      "#C = 10.0  # SVM regularization parameter\n",
      "#svc = svm.SVC(kernel='linear', C=C)\n",
      "#rbf_svc = svm.SVC(kernel='rbf', gamma=0.7, C=C)\n",
      "#poly_svc = svm.SVC(kernel='poly', degree=3, C=C)\n",
      "\n",
      "def cleanup(df):\n",
      "\n",
      "    #find columns that contain null values\n",
      "    inds = pd.isnull(df).any(0).nonzero()\n",
      "\n",
      "    df['car_value'] = df['car_value'].fillna('0')\n",
      "    df['car_value']=df['car_value'].apply(lambda letter :  abs(ord(letter) - 96))\n",
      "    df['state']=df['state'].apply(lambda letter :  abs(ord(letter[0]) - 96 + ord(letter[1]) - 96))\n",
      "\n",
      "    #remove product feature\n",
      "    #df=df.drop(['product'], axis=1)\n",
      "    #df=df.drop(['state'], axis=1)\n",
      "    #df=df.drop(['location'], axis=1)\n",
      "    df=df.drop(['time'], axis=1)\n",
      "\n",
      "    #impute the null values\n",
      "    df['risk_factor'] = df['risk_factor'].fillna(0)\n",
      "    df['C_previous'] = df['C_previous'].fillna(0)\n",
      "    df['duration_previous'] = df['duration_previous'].fillna(0)\n",
      "    df['location'] = df['location'].fillna(0)\n",
      "\n",
      "    df['A_var'] = df['A_var'].fillna(0)\n",
      "    df['B_var'] = df['B_var'].fillna(0)\n",
      "    df['C_var'] = df['C_var'].fillna(0)\n",
      "    df['D_var'] = df['D_var'].fillna(0)\n",
      "    df['E_var'] = df['E_var'].fillna(0)\n",
      "    df['F_var'] = df['F_var'].fillna(0)\n",
      "    df['G_var'] = df['G_var'].fillna(0)\n",
      "    df['cost_var'] = df['cost_var'].fillna(0)\n",
      "    #drop any other rows that might contain null values (at this point only lines with empty key cols should be removed from the training sets)\n",
      "    df=df.dropna()\n",
      "\n",
      "    return df\n",
      "\n",
      "def cleanup_test(df):\n",
      "\n",
      "    #find columns that contain null values\n",
      "    inds = pd.isnull(df).any(0).nonzero()\n",
      "\n",
      "    df['car_value'] = df['car_value'].fillna('0')\n",
      "    df['car_value']=df['car_value'].apply(lambda letter :  abs(ord(letter) - 96))\n",
      "    df['state']=df['state'].apply(lambda letter :  abs(ord(letter[0]) - 96 + ord(letter[1]) - 96))\n",
      "\n",
      "    #remove product feature\n",
      "    #df=df.drop(['product'], axis=1)\n",
      "    #df=df.drop(['state'], axis=1)\n",
      "    #df=df.drop(['location'], axis=1)\n",
      "    df=df.drop(['time'], axis=1)\n",
      "    \n",
      "    #impute the null values\n",
      "    df['risk_factor'] = df['risk_factor'].fillna(0)\n",
      "    df['C_previous'] = df['C_previous'].fillna(0)\n",
      "    df['duration_previous'] = df['duration_previous'].fillna(0)\n",
      "    df['location'] = df['location'].fillna(0)\n",
      "\n",
      "    df['A_var'] = df['A_var'].fillna(0)\n",
      "    df['B_var'] = df['B_var'].fillna(0)\n",
      "    df['C_var'] = df['C_var'].fillna(0)\n",
      "    df['D_var'] = df['D_var'].fillna(0)\n",
      "    df['E_var'] = df['E_var'].fillna(0)\n",
      "    df['F_var'] = df['F_var'].fillna(0)\n",
      "    df['G_var'] = df['G_var'].fillna(0)\n",
      "    df['cost_var'] = df['cost_var'].fillna(0)\n",
      "\n",
      "    return df\n",
      "\n",
      "def train_model(train_df, select_model, model, yName='A_purchase'):\n",
      "    input_df = train_df.copy(deep=True)\n",
      "    y = input_df[yName].values\n",
      "\n",
      "    input_df=input_df.drop(['A_purchase'], axis=1)\n",
      "    input_df=input_df.drop(['B_purchase'], axis=1)\n",
      "    input_df=input_df.drop(['C_purchase'], axis=1)\n",
      "    input_df=input_df.drop(['D_purchase'], axis=1)\n",
      "    input_df=input_df.drop(['E_purchase'], axis=1)\n",
      "    input_df=input_df.drop(['F_purchase'], axis=1)\n",
      "    input_df=input_df.drop(['G_purchase'], axis=1)\n",
      "\n",
      "    if (yName=='G_purchase'):\n",
      "        input_df=input_df.drop(['C_previous'], axis=1)\n",
      "\n",
      "\n",
      "    X = input_df.values\n",
      "\n",
      "    skf=StratifiedKFold(y, n_folds=3 )\n",
      "\n",
      "    best_model=None\n",
      "    for train_index, test_index in skf:\n",
      "        print(\"TRAIN:\", train_index, \"TEST:\", test_index)\n",
      "        X_train, X_test = X[train_index], X[test_index]\n",
      "        y_train, y_test = y[train_index], y[test_index]\n",
      "\n",
      "        clf = clone(model)\n",
      "        clf = clf.fit(X_train, y_train)\n",
      "\n",
      "        print yName +\":\"+str(clf.score(X_test,y_test))\n",
      "\n",
      "        if best_model==None or best_model.score(X_test,y_test)<clf.score(X_test, y_test):\n",
      "            best_model=clf\n",
      "\n",
      "    trained_model = best_model\n",
      "\n",
      "    return trained_model\n",
      "\n",
      "def predict(test_2_df, model, prodStr='A_purchase'):\n",
      "\n",
      "    test_df = test_2_df.copy(deep=True)\n",
      "    test_y = test_df[prodStr]\n",
      "\n",
      "    if prodStr=='total_offers':\n",
      "        test_df=test_df.drop([prodStr])\n",
      "    else:\n",
      "        test_df=test_df.drop(['A_purchase'])\n",
      "        test_df=test_df.drop(['B_purchase'])\n",
      "        test_df=test_df.drop(['C_purchase'])\n",
      "        test_df=test_df.drop(['D_purchase'])\n",
      "        test_df=test_df.drop(['E_purchase'])\n",
      "        test_df=test_df.drop(['F_purchase'])\n",
      "        test_df=test_df.drop(['G_purchase'])\n",
      "\n",
      "    if (prodStr=='G_purchase'):\n",
      "        test_df=test_df.drop(['C_previous'])\n",
      "\n",
      "    test_X = test_df.values\n",
      "\n",
      "    prediction = model.predict(test_X)\n",
      "\n",
      "    #print prodStr +\":\"+str(prediction)\n",
      "\n",
      "    return prediction\n",
      "\n",
      "\n",
      "modelADict={}\n",
      "modelBDict={}\n",
      "modelCDict={}\n",
      "modelDDict={}\n",
      "modelEDict={}\n",
      "modelFDict={}\n",
      "modelGDict={}\n",
      "\n",
      "for i in range(1,13):\n",
      "    train = cleanup(train_sets[i])\n",
      "    modelADict[i] = train_model(train, lr, rfcModel)\n",
      "    modelBDict[i] = train_model(train, lr, rfcModel, yName='B_purchase')\n",
      "    modelCDict[i] = train_model(train, lr, rfcModel, yName='C_purchase')\n",
      "    modelDDict[i] = train_model(train, lr, rfcModel, yName='D_purchase')\n",
      "    modelEDict[i] = train_model(train, lr, rfcModel, yName='E_purchase')\n",
      "    modelFDict[i] = train_model(train, lr, rfcModel, yName='F_purchase')\n",
      "    modelGDict[i] = train_model(train, lr, rfcModel, yName='G_purchase')\n",
      "\n",
      "correct=0\n",
      "test_2 = cleanup_test(test_2)\n",
      "\n",
      "for key, cdf in test_2.iterrows():\n",
      "    A= predict(cdf,modelADict[test_2.total_offers.loc[key]])\n",
      "    B= predict(cdf,modelBDict[test_2.total_offers.loc[key]],prodStr='B_purchase')\n",
      "    C= predict(cdf,modelCDict[test_2.total_offers.loc[key]],prodStr='C_purchase')\n",
      "    D= predict(cdf,modelDDict[test_2.total_offers.loc[key]],prodStr='D_purchase')\n",
      "    E= predict(cdf,modelEDict[test_2.total_offers.loc[key]],prodStr='E_purchase')\n",
      "    F= predict(cdf,modelFDict[test_2.total_offers.loc[key]],prodStr='F_purchase')\n",
      "    G= predict(cdf,modelGDict[test_2.total_offers.loc[key]],prodStr='G_purchase')\n",
      "\n",
      "    resultCol.loc[key]=str(int(A))+str(int(B))+str(int(C))+str(int(D))+str(int(E))+str(int(F))+str(int(G))\n",
      "\n",
      "    if test_2.A.loc[key]==A and test_2.B.loc[key]==B and test_2.C.loc[key]==C and test_2.D.loc[key]==D\\\n",
      "        and test_2.E.loc[key]==E and test_2.F.loc[key]==F and test_2.G.loc[key]==G:\n",
      "        correct += 1\n",
      "\n",
      "\n",
      "res = float(correct)/float(len(test_2))\n",
      "print(len(test_2))\n",
      "print correct\n",
      "print str(res)\n",
      "\n",
      "results_df[\"plan\"]=resultCol\n",
      "results_df.to_csv(\"results.csv\")\n"
     ],
     "language": "python",
     "metadata": {},
     "outputs": []
    },
    {
     "cell_type": "code",
     "collapsed": false,
     "input": [
      "len(test_2)"
     ],
     "language": "python",
     "metadata": {
      "slideshow": {
       "slide_type": "-"
      }
     },
     "outputs": []
    },
    {
     "cell_type": "code",
     "collapsed": false,
     "input": [
      "test_2 = pd.read_csv(\"/Users/aifa/Dropbox/kaggle/insurance/future/test_v2_all_future.csv\", header=0, encoding=\"UTF-8\", error_bad_lines=False, sep=\",\", index_col=0)\n",
      "len(test_2)"
     ],
     "language": "python",
     "metadata": {},
     "outputs": []
    },
    {
     "cell_type": "code",
     "collapsed": false,
     "input": [
      "def cleanup_test(df):\n",
      "\n",
      "    #find columns that contain null values\n",
      "    inds = pd.isnull(df).any(0).nonzero()\n",
      "\n",
      "    df['car_value'] = df['car_value'].fillna('0')\n",
      "    df['car_value']=df['car_value'].apply(lambda letter :  abs(ord(letter) - 96))\n",
      "    df['state']=df['state'].apply(lambda letter :  abs(ord(letter[0]) - 96 + ord(letter[1]) - 96))\n",
      "\n",
      "    #remove product feature\n",
      "    #df=df.drop(['product'], axis=1)\n",
      "    #df=df.drop(['state'], axis=1)\n",
      "    #df=df.drop(['location'], axis=1)\n",
      "    df=df.drop(['time'], axis=1)\n",
      "    \n",
      "    #impute the null values\n",
      "    df['risk_factor'] = df['risk_factor'].fillna(0)\n",
      "    df['C_previous'] = df['C_previous'].fillna(0)\n",
      "    df['duration_previous'] = df['duration_previous'].fillna(0)\n",
      "    df['location'] = df['location'].fillna(0)\n",
      "\n",
      "    df['A_var'] = df['A_var'].fillna(0)\n",
      "    df['B_var'] = df['B_var'].fillna(0)\n",
      "    df['C_var'] = df['C_var'].fillna(0)\n",
      "    df['D_var'] = df['D_var'].fillna(0)\n",
      "    df['E_var'] = df['E_var'].fillna(0)\n",
      "    df['F_var'] = df['F_var'].fillna(0)\n",
      "    df['G_var'] = df['G_var'].fillna(0)\n",
      "    df['cost_var'] = df['cost_var'].fillna(0)\n",
      "\n",
      "    return df"
     ],
     "language": "python",
     "metadata": {},
     "outputs": []
    },
    {
     "cell_type": "code",
     "collapsed": false,
     "input": [
      "test_2=cleanup_test(test_2)"
     ],
     "language": "python",
     "metadata": {},
     "outputs": []
    },
    {
     "cell_type": "code",
     "collapsed": false,
     "input": [
      "test_2[\"time\"] = pd.Series(index=test_2.index)\n",
      "test_2['time'] = test_2['time'].fillna(0)"
     ],
     "language": "python",
     "metadata": {},
     "outputs": []
    },
    {
     "cell_type": "code",
     "collapsed": false,
     "input": [],
     "language": "python",
     "metadata": {},
     "outputs": []
    },
    {
     "cell_type": "code",
     "collapsed": false,
     "input": [
      "print test_2.columns"
     ],
     "language": "python",
     "metadata": {},
     "outputs": []
    },
    {
     "cell_type": "code",
     "collapsed": false,
     "input": [
      "train_sets[3].columns"
     ],
     "language": "python",
     "metadata": {},
     "outputs": []
    },
    {
     "cell_type": "code",
     "collapsed": false,
     "input": [
      "print len(test_2.columns)"
     ],
     "language": "python",
     "metadata": {},
     "outputs": []
    },
    {
     "cell_type": "code",
     "collapsed": false,
     "input": [
      "print len(train_sets[3].columns)"
     ],
     "language": "python",
     "metadata": {},
     "outputs": []
    },
    {
     "cell_type": "code",
     "collapsed": false,
     "input": [
      "correct=0\n",
      "for key, cdf in test_2.iterrows():\n",
      "    A= predict(cdf,modelADict[test_2.total_offers.loc[key]])\n",
      "    B= predict(cdf,modelBDict[test_2.total_offers.loc[key]],prodStr='B_purchase')\n",
      "    C= predict(cdf,modelCDict[test_2.total_offers.loc[key]],prodStr='C_purchase')\n",
      "    D= predict(cdf,modelDDict[test_2.total_offers.loc[key]],prodStr='D_purchase')\n",
      "    E= predict(cdf,modelEDict[test_2.total_offers.loc[key]],prodStr='E_purchase')\n",
      "    F= predict(cdf,modelFDict[test_2.total_offers.loc[key]],prodStr='F_purchase')\n",
      "    G= predict(cdf,modelGDict[test_2.total_offers.loc[key]],prodStr='G_purchase')\n",
      "\n",
      "    resultCol.loc[key]=str(int(A))+str(int(B))+str(int(C))+str(int(D))+str(int(E))+str(int(F))+str(int(G))\n",
      "\n",
      "    #print resultCol.loc[key]\n",
      "    if test_2.A.loc[key]==A and test_2.B.loc[key]==B and test_2.C.loc[key]==C and test_2.D.loc[key]==D\\\n",
      "        and test_2.E.loc[key]==E and test_2.F.loc[key]==F and test_2.G.loc[key]==G:\n",
      "        correct += 1\n",
      "\n",
      "\n",
      "res = float(correct)/float(len(test_2))\n",
      "print(len(test_2))\n",
      "print correct\n",
      "print str(res)\n",
      "\n",
      "results_df[\"plan\"]=resultCol\n",
      "results_df.to_csv(\"/Users/aifa/Dropbox/kaggle/insurance/future/results.csv\")"
     ],
     "language": "python",
     "metadata": {},
     "outputs": [
      {
       "output_type": "stream",
       "stream": "stdout",
       "text": [
        "55716\n",
        "51305\n",
        "0.920830641108\n"
       ]
      }
     ],
     "prompt_number": 14
    },
    {
     "cell_type": "code",
     "collapsed": false,
     "input": [
      "len(modelADict[3].feature_importances_)"
     ],
     "language": "python",
     "metadata": {},
     "outputs": [
      {
       "metadata": {},
       "output_type": "pyout",
       "prompt_number": 26,
       "text": [
        "48"
       ]
      }
     ],
     "prompt_number": 26
    },
    {
     "cell_type": "code",
     "collapsed": false,
     "input": [
      "modelADict[3].feature_importances_"
     ],
     "language": "python",
     "metadata": {},
     "outputs": [
      {
       "metadata": {},
       "output_type": "pyout",
       "prompt_number": 21,
       "text": [
        "array([ 0.        ,  0.        ,  0.01426748,  0.02190027,  0.03023008,\n",
        "        0.00433279,  0.00513603,  0.08955568,  0.01646089,  0.01232899,\n",
        "        0.02503362,  0.02548715,  0.00367807,  0.01257275,  0.01988518,\n",
        "        0.26070904,  0.00553   ,  0.01129402,  0.00727646,  0.02562696,\n",
        "        0.08785035,  0.00973424,  0.04144614,  0.00405558,  0.        ,\n",
        "        0.06446299,  0.00456891,  0.00808952,  0.00754857,  0.00472108,\n",
        "        0.01803773,  0.00928303,  0.01585049,  0.00201059,  0.00320619,\n",
        "        0.0025167 ,  0.00281847,  0.00438868,  0.00376864,  0.02383346,\n",
        "        0.00218925,  0.00459914,  0.00354598,  0.00229101,  0.00696414,\n",
        "        0.0059482 ,  0.03550419,  0.02946124])"
       ]
      }
     ],
     "prompt_number": 21
    },
    {
     "cell_type": "code",
     "collapsed": false,
     "input": [
      "modelADict[4].feature_importances_"
     ],
     "language": "python",
     "metadata": {},
     "outputs": [
      {
       "metadata": {},
       "output_type": "pyout",
       "prompt_number": 22,
       "text": [
        "array([ 0.        ,  0.        ,  0.01089138,  0.01845412,  0.02406428,\n",
        "        0.00347469,  0.00422091,  0.07839271,  0.0130836 ,  0.00959667,\n",
        "        0.02010376,  0.01994088,  0.00289505,  0.00941861,  0.01542042,\n",
        "        0.29595419,  0.00479616,  0.00926442,  0.00619549,  0.02137509,\n",
        "        0.08155411,  0.00802617,  0.03576758,  0.00461371,  0.        ,\n",
        "        0.08259241,  0.00432967,  0.00697832,  0.00624358,  0.00579914,\n",
        "        0.01912567,  0.00750363,  0.02238253,  0.00259581,  0.00351539,\n",
        "        0.00271428,  0.00363058,  0.00624743,  0.00425184,  0.03305132,\n",
        "        0.00235258,  0.00513184,  0.00364865,  0.00317607,  0.00966282,\n",
        "        0.00580865,  0.02835532,  0.0333985 ])"
       ]
      }
     ],
     "prompt_number": 22
    },
    {
     "cell_type": "code",
     "collapsed": true,
     "input": [
      "modelADict[5].feature_importances_"
     ],
     "language": "python",
     "metadata": {},
     "outputs": [
      {
       "metadata": {},
       "output_type": "pyout",
       "prompt_number": 23,
       "text": [
        "array([ 0.        ,  0.        ,  0.00951163,  0.01612291,  0.02014679,\n",
        "        0.00296778,  0.0036217 ,  0.07615196,  0.0109488 ,  0.00821359,\n",
        "        0.01682793,  0.01750203,  0.00241376,  0.00823444,  0.01335698,\n",
        "        0.31191469,  0.00373831,  0.00838373,  0.00576265,  0.02272524,\n",
        "        0.08895362,  0.00668956,  0.03451989,  0.0048784 ,  0.        ,\n",
        "        0.07770173,  0.00362109,  0.00648595,  0.00535528,  0.00566785,\n",
        "        0.02179535,  0.00651203,  0.02776546,  0.00254468,  0.00354188,\n",
        "        0.0027953 ,  0.00368179,  0.00671786,  0.00443352,  0.03732215,\n",
        "        0.0031444 ,  0.00611099,  0.00459368,  0.00408452,  0.01169237,\n",
        "        0.00672271,  0.02577178,  0.02835125])"
       ]
      }
     ],
     "prompt_number": 23
    },
    {
     "cell_type": "code",
     "collapsed": false,
     "input": [
      "np.sort(modelADict[5].feature_importances_)"
     ],
     "language": "python",
     "metadata": {},
     "outputs": [
      {
       "metadata": {},
       "output_type": "pyout",
       "prompt_number": 27,
       "text": [
        "array([ 0.        ,  0.        ,  0.        ,  0.00241376,  0.00254468,\n",
        "        0.0027953 ,  0.00296778,  0.0031444 ,  0.00354188,  0.00362109,\n",
        "        0.0036217 ,  0.00368179,  0.00373831,  0.00408452,  0.00443352,\n",
        "        0.00459368,  0.0048784 ,  0.00535528,  0.00566785,  0.00576265,\n",
        "        0.00611099,  0.00648595,  0.00651203,  0.00668956,  0.00671786,\n",
        "        0.00672271,  0.00821359,  0.00823444,  0.00838373,  0.00951163,\n",
        "        0.0109488 ,  0.01169237,  0.01335698,  0.01612291,  0.01682793,\n",
        "        0.01750203,  0.02014679,  0.02179535,  0.02272524,  0.02577178,\n",
        "        0.02776546,  0.02835125,  0.03451989,  0.03732215,  0.07615196,\n",
        "        0.07770173,  0.08895362,  0.31191469])"
       ]
      }
     ],
     "prompt_number": 27
    },
    {
     "cell_type": "code",
     "collapsed": false,
     "input": [
      "test_2 = pd.read_csv(\"/Users/aifa/Dropbox/kaggle/insurance/future/test_v2_all_future.csv\", header=0, encoding=\"UTF-8\", error_bad_lines=False, sep=\",\", index_col=0)"
     ],
     "language": "python",
     "metadata": {},
     "outputs": []
    },
    {
     "cell_type": "code",
     "collapsed": false,
     "input": [
      "modelADict[5].feature_importances_"
     ],
     "language": "python",
     "metadata": {},
     "outputs": [
      {
       "html": [
        "<div style=\"max-height:1000px;max-width:1500px;overflow:auto;\">\n",
        "<table border=\"1\" class=\"dataframe\">\n",
        "  <thead>\n",
        "    <tr style=\"text-align: right;\">\n",
        "      <th></th>\n",
        "      <th>shopping_pt</th>\n",
        "      <th>record_type</th>\n",
        "      <th>day</th>\n",
        "      <th>state</th>\n",
        "      <th>location</th>\n",
        "      <th>group_size</th>\n",
        "      <th>homeowner</th>\n",
        "      <th>car_age</th>\n",
        "      <th>car_value</th>\n",
        "      <th>risk_factor</th>\n",
        "      <th>age_oldest</th>\n",
        "      <th>age_youngest</th>\n",
        "      <th>married_couple</th>\n",
        "      <th>C_previous</th>\n",
        "      <th>duration_previous</th>\n",
        "      <th>A</th>\n",
        "      <th>B</th>\n",
        "      <th>C</th>\n",
        "      <th>D</th>\n",
        "      <th>E</th>\n",
        "      <th></th>\n",
        "    </tr>\n",
        "    <tr>\n",
        "      <th>customer_ID</th>\n",
        "      <th></th>\n",
        "      <th></th>\n",
        "      <th></th>\n",
        "      <th></th>\n",
        "      <th></th>\n",
        "      <th></th>\n",
        "      <th></th>\n",
        "      <th></th>\n",
        "      <th></th>\n",
        "      <th></th>\n",
        "      <th></th>\n",
        "      <th></th>\n",
        "      <th></th>\n",
        "      <th></th>\n",
        "      <th></th>\n",
        "      <th></th>\n",
        "      <th></th>\n",
        "      <th></th>\n",
        "      <th></th>\n",
        "      <th></th>\n",
        "    </tr>\n",
        "  </thead>\n",
        "  <tbody>\n",
        "    <tr>\n",
        "      <th>10000001</th>\n",
        "      <td> 2</td>\n",
        "      <td> 0</td>\n",
        "      <td> 1</td>\n",
        "      <td> 38</td>\n",
        "      <td> 10002</td>\n",
        "      <td> 1</td>\n",
        "      <td> 0</td>\n",
        "      <td>  9</td>\n",
        "      <td> 6</td>\n",
        "      <td> 0</td>\n",
        "      <td> 24</td>\n",
        "      <td> 24</td>\n",
        "      <td> 0</td>\n",
        "      <td> 3</td>\n",
        "      <td>  9</td>\n",
        "      <td> 2</td>\n",
        "      <td> 1</td>\n",
        "      <td> 1</td>\n",
        "      <td> 3</td>\n",
        "      <td> 1</td>\n",
        "      <td>...</td>\n",
        "    </tr>\n",
        "    <tr>\n",
        "      <th>10000002</th>\n",
        "      <td> 2</td>\n",
        "      <td> 0</td>\n",
        "      <td> 4</td>\n",
        "      <td> 47</td>\n",
        "      <td> 10003</td>\n",
        "      <td> 1</td>\n",
        "      <td> 1</td>\n",
        "      <td>  7</td>\n",
        "      <td> 6</td>\n",
        "      <td> 0</td>\n",
        "      <td> 74</td>\n",
        "      <td> 74</td>\n",
        "      <td> 0</td>\n",
        "      <td> 2</td>\n",
        "      <td> 15</td>\n",
        "      <td> 2</td>\n",
        "      <td> 0</td>\n",
        "      <td> 2</td>\n",
        "      <td> 3</td>\n",
        "      <td> 1</td>\n",
        "      <td>...</td>\n",
        "    </tr>\n",
        "    <tr>\n",
        "      <th>10000003</th>\n",
        "      <td> 3</td>\n",
        "      <td> 0</td>\n",
        "      <td> 3</td>\n",
        "      <td> 45</td>\n",
        "      <td> 10004</td>\n",
        "      <td> 1</td>\n",
        "      <td> 0</td>\n",
        "      <td>  4</td>\n",
        "      <td> 4</td>\n",
        "      <td> 4</td>\n",
        "      <td> 26</td>\n",
        "      <td> 26</td>\n",
        "      <td> 0</td>\n",
        "      <td> 3</td>\n",
        "      <td>  1</td>\n",
        "      <td> 1</td>\n",
        "      <td> 0</td>\n",
        "      <td> 2</td>\n",
        "      <td> 1</td>\n",
        "      <td> 0</td>\n",
        "      <td>...</td>\n",
        "    </tr>\n",
        "    <tr>\n",
        "      <th>10000004</th>\n",
        "      <td> 9</td>\n",
        "      <td> 0</td>\n",
        "      <td> 1</td>\n",
        "      <td> 38</td>\n",
        "      <td> 10005</td>\n",
        "      <td> 1</td>\n",
        "      <td> 0</td>\n",
        "      <td> 13</td>\n",
        "      <td> 6</td>\n",
        "      <td> 3</td>\n",
        "      <td> 22</td>\n",
        "      <td> 22</td>\n",
        "      <td> 0</td>\n",
        "      <td> 1</td>\n",
        "      <td>  3</td>\n",
        "      <td> 2</td>\n",
        "      <td> 0</td>\n",
        "      <td> 1</td>\n",
        "      <td> 1</td>\n",
        "      <td> 1</td>\n",
        "      <td>...</td>\n",
        "    </tr>\n",
        "    <tr>\n",
        "      <th>10000006</th>\n",
        "      <td> 2</td>\n",
        "      <td> 0</td>\n",
        "      <td> 2</td>\n",
        "      <td> 40</td>\n",
        "      <td> 10007</td>\n",
        "      <td> 1</td>\n",
        "      <td> 0</td>\n",
        "      <td> 11</td>\n",
        "      <td> 5</td>\n",
        "      <td> 0</td>\n",
        "      <td> 27</td>\n",
        "      <td> 27</td>\n",
        "      <td> 0</td>\n",
        "      <td> 3</td>\n",
        "      <td> 12</td>\n",
        "      <td> 0</td>\n",
        "      <td> 0</td>\n",
        "      <td> 1</td>\n",
        "      <td> 1</td>\n",
        "      <td> 0</td>\n",
        "      <td>...</td>\n",
        "    </tr>\n",
        "  </tbody>\n",
        "</table>\n",
        "<p>5 rows \u00d7 55 columns</p>\n",
        "</div>"
       ],
       "metadata": {},
       "output_type": "pyout",
       "prompt_number": 28,
       "text": [
        "             shopping_pt  record_type  day  state  location  group_size  \\\n",
        "customer_ID                                                               \n",
        "10000001               2            0    1     38     10002           1   \n",
        "10000002               2            0    4     47     10003           1   \n",
        "10000003               3            0    3     45     10004           1   \n",
        "10000004               9            0    1     38     10005           1   \n",
        "10000006               2            0    2     40     10007           1   \n",
        "\n",
        "             homeowner  car_age  car_value  risk_factor  age_oldest  \\\n",
        "customer_ID                                                           \n",
        "10000001             0        9          6            0          24   \n",
        "10000002             1        7          6            0          74   \n",
        "10000003             0        4          4            4          26   \n",
        "10000004             0       13          6            3          22   \n",
        "10000006             0       11          5            0          27   \n",
        "\n",
        "             age_youngest  married_couple  C_previous  duration_previous  A  \\\n",
        "customer_ID                                                                   \n",
        "10000001               24               0           3                  9  2   \n",
        "10000002               74               0           2                 15  2   \n",
        "10000003               26               0           3                  1  1   \n",
        "10000004               22               0           1                  3  2   \n",
        "10000006               27               0           3                 12  0   \n",
        "\n",
        "             B  C  D  E      \n",
        "customer_ID                  \n",
        "10000001     1  1  3  1 ...  \n",
        "10000002     0  2  3  1 ...  \n",
        "10000003     0  2  1  0 ...  \n",
        "10000004     0  1  1  1 ...  \n",
        "10000006     0  1  1  0 ...  \n",
        "\n",
        "[5 rows x 55 columns]"
       ]
      }
     ],
     "prompt_number": 28
    },
    {
     "cell_type": "code",
     "collapsed": false,
     "input": [
      "test_2.total_offers.plot()"
     ],
     "language": "python",
     "metadata": {},
     "outputs": []
    },
    {
     "cell_type": "code",
     "collapsed": false,
     "input": [
      "test_2.total_offers.hist()"
     ],
     "language": "python",
     "metadata": {},
     "outputs": []
    },
    {
     "cell_type": "code",
     "collapsed": false,
     "input": [
      "test_2.head()"
     ],
     "language": "python",
     "metadata": {},
     "outputs": []
    },
    {
     "cell_type": "code",
     "collapsed": false,
     "input": [
      "test_2=test_2.drop(['time'], axis=1)"
     ],
     "language": "python",
     "metadata": {},
     "outputs": []
    },
    {
     "cell_type": "code",
     "collapsed": false,
     "input": [
      "test_2.head()"
     ],
     "language": "python",
     "metadata": {},
     "outputs": []
    },
    {
     "cell_type": "code",
     "collapsed": false,
     "input": [
      "test_2['A'].hist()"
     ],
     "language": "python",
     "metadata": {},
     "outputs": []
    },
    {
     "cell_type": "code",
     "collapsed": false,
     "input": [
      "% pylab inline\n",
      "test_2.total_offers.plot()\n"
     ],
     "language": "python",
     "metadata": {},
     "outputs": [
      {
       "output_type": "stream",
       "stream": "stdout",
       "text": [
        "Populating the interactive namespace from numpy and matplotlib\n"
       ]
      },
      {
       "metadata": {},
       "output_type": "pyout",
       "prompt_number": 19,
       "text": [
        "<matplotlib.axes.AxesSubplot at 0x128579750>"
       ]
      },
      {
       "metadata": {},
       "output_type": "display_data",
       "png": "[encoded data removed]",
       "text": [
        "<matplotlib.figure.Figure at 0x128577810>"
       ]
      }
     ],
     "prompt_number": 19
    },
    {
     "cell_type": "code",
     "collapsed": false,
     "input": [
      "test_2.B.plot()"
     ],
     "language": "python",
     "metadata": {},
     "outputs": [
      {
       "metadata": {},
       "output_type": "pyout",
       "prompt_number": 18,
       "text": [
        "<matplotlib.axes.AxesSubplot at 0x12853de50>"
       ]
      },
      {
       "metadata": {},
       "output_type": "display_data",
       "png": "[encoded data removed]",
       "text": [
        "<matplotlib.figure.Figure at 0x12850a790>"
       ]
      }
     ],
     "prompt_number": 18
    },
    {
     "cell_type": "code",
     "collapsed": false,
     "input": [
      "train_sets[5].columns"
     ],
     "language": "python",
     "metadata": {},
     "outputs": [
      {
       "metadata": {},
       "output_type": "pyout",
       "prompt_number": 29,
       "text": [
        "Index([u'shopping_pt', u'record_type', u'day', u'time', u'state', u'location', u'group_size', u'homeowner', u'car_age', u'car_value', u'risk_factor', u'age_oldest', u'age_youngest', u'married_couple', u'C_previous', u'duration_previous', u'A', u'B', u'C', u'D', u'E', u'F', u'G', u'cost', u'duration_offers', u'total_offers', u'A_init', u'B_init', u'C_init', u'D_init', u'E_init', u'F_init', u'G_init', u'A_purchase', u'B_purchase', u'C_purchase', u'D_purchase', u'E_purchase', u'F_purchase', u'G_purchase', u'A_change', u'B_change', u'C_change', u'D_change', u'E_change', u'F_change', u'G_change', u'A_var', u'B_var', u'C_var', u'D_var', u'E_var', u'F_var', u'G_var', u'init_cost', u'cost_var'], dtype='object')"
       ]
      }
     ],
     "prompt_number": 29
    },
    {
     "cell_type": "code",
     "collapsed": false,
     "input": [
      "cleanup(train_sets[5]).columns"
     ],
     "language": "python",
     "metadata": {},
     "outputs": [
      {
       "ename": "TypeError",
       "evalue": "ord() expected string of length 1, but numpy.int64 found",
       "output_type": "pyerr",
       "traceback": [
        "\u001b[0;31m---------------------------------------------------------------------------\u001b[0m\n\u001b[0;31mTypeError\u001b[0m                                 Traceback (most recent call last)",
        "\u001b[0;32m<ipython-input-30-11a54ffdbd57>\u001b[0m in \u001b[0;36m<module>\u001b[0;34m()\u001b[0m\n\u001b[0;32m----> 1\u001b[0;31m \u001b[0mcleanup\u001b[0m\u001b[0;34m(\u001b[0m\u001b[0mtrain_sets\u001b[0m\u001b[0;34m[\u001b[0m\u001b[0;36m5\u001b[0m\u001b[0;34m]\u001b[0m\u001b[0;34m)\u001b[0m\u001b[0;34m.\u001b[0m\u001b[0mcolumns\u001b[0m\u001b[0;34m\u001b[0m\u001b[0m\n\u001b[0m",
        "\u001b[0;32m<ipython-input-1-8859921386fc>\u001b[0m in \u001b[0;36mcleanup\u001b[0;34m(df)\u001b[0m\n\u001b[1;32m     74\u001b[0m \u001b[0;34m\u001b[0m\u001b[0m\n\u001b[1;32m     75\u001b[0m     \u001b[0mdf\u001b[0m\u001b[0;34m[\u001b[0m\u001b[0;34m'car_value'\u001b[0m\u001b[0;34m]\u001b[0m \u001b[0;34m=\u001b[0m \u001b[0mdf\u001b[0m\u001b[0;34m[\u001b[0m\u001b[0;34m'car_value'\u001b[0m\u001b[0;34m]\u001b[0m\u001b[0;34m.\u001b[0m\u001b[0mfillna\u001b[0m\u001b[0;34m(\u001b[0m\u001b[0;34m'0'\u001b[0m\u001b[0;34m)\u001b[0m\u001b[0;34m\u001b[0m\u001b[0m\n\u001b[0;32m---> 76\u001b[0;31m     \u001b[0mdf\u001b[0m\u001b[0;34m[\u001b[0m\u001b[0;34m'car_value'\u001b[0m\u001b[0;34m]\u001b[0m\u001b[0;34m=\u001b[0m\u001b[0mdf\u001b[0m\u001b[0;34m[\u001b[0m\u001b[0;34m'car_value'\u001b[0m\u001b[0;34m]\u001b[0m\u001b[0;34m.\u001b[0m\u001b[0mapply\u001b[0m\u001b[0;34m(\u001b[0m\u001b[0;32mlambda\u001b[0m \u001b[0mletter\u001b[0m \u001b[0;34m:\u001b[0m  \u001b[0mabs\u001b[0m\u001b[0;34m(\u001b[0m\u001b[0mord\u001b[0m\u001b[0;34m(\u001b[0m\u001b[0mletter\u001b[0m\u001b[0;34m)\u001b[0m \u001b[0;34m-\u001b[0m \u001b[0;36m96\u001b[0m\u001b[0;34m)\u001b[0m\u001b[0;34m)\u001b[0m\u001b[0;34m\u001b[0m\u001b[0m\n\u001b[0m\u001b[1;32m     77\u001b[0m     \u001b[0mdf\u001b[0m\u001b[0;34m[\u001b[0m\u001b[0;34m'state'\u001b[0m\u001b[0;34m]\u001b[0m\u001b[0;34m=\u001b[0m\u001b[0mdf\u001b[0m\u001b[0;34m[\u001b[0m\u001b[0;34m'state'\u001b[0m\u001b[0;34m]\u001b[0m\u001b[0;34m.\u001b[0m\u001b[0mapply\u001b[0m\u001b[0;34m(\u001b[0m\u001b[0;32mlambda\u001b[0m \u001b[0mletter\u001b[0m \u001b[0;34m:\u001b[0m  \u001b[0mabs\u001b[0m\u001b[0;34m(\u001b[0m\u001b[0mord\u001b[0m\u001b[0;34m(\u001b[0m\u001b[0mletter\u001b[0m\u001b[0;34m[\u001b[0m\u001b[0;36m0\u001b[0m\u001b[0;34m]\u001b[0m\u001b[0;34m)\u001b[0m \u001b[0;34m-\u001b[0m \u001b[0;36m96\u001b[0m \u001b[0;34m+\u001b[0m \u001b[0mord\u001b[0m\u001b[0;34m(\u001b[0m\u001b[0mletter\u001b[0m\u001b[0;34m[\u001b[0m\u001b[0;36m1\u001b[0m\u001b[0;34m]\u001b[0m\u001b[0;34m)\u001b[0m \u001b[0;34m-\u001b[0m \u001b[0;36m96\u001b[0m\u001b[0;34m)\u001b[0m\u001b[0;34m)\u001b[0m\u001b[0;34m\u001b[0m\u001b[0m\n\u001b[1;32m     78\u001b[0m \u001b[0;34m\u001b[0m\u001b[0m\n",
        "\u001b[0;32m/Applications/anaconda/lib/python2.7/site-packages/pandas/core/series.pyc\u001b[0m in \u001b[0;36mapply\u001b[0;34m(self, func, convert_dtype, args, **kwds)\u001b[0m\n\u001b[1;32m   2021\u001b[0m             \u001b[0mvalues\u001b[0m \u001b[0;34m=\u001b[0m \u001b[0mlib\u001b[0m\u001b[0;34m.\u001b[0m\u001b[0mmap_infer\u001b[0m\u001b[0;34m(\u001b[0m\u001b[0mvalues\u001b[0m\u001b[0;34m,\u001b[0m \u001b[0mlib\u001b[0m\u001b[0;34m.\u001b[0m\u001b[0mTimestamp\u001b[0m\u001b[0;34m)\u001b[0m\u001b[0;34m\u001b[0m\u001b[0m\n\u001b[1;32m   2022\u001b[0m \u001b[0;34m\u001b[0m\u001b[0m\n\u001b[0;32m-> 2023\u001b[0;31m         \u001b[0mmapped\u001b[0m \u001b[0;34m=\u001b[0m \u001b[0mlib\u001b[0m\u001b[0;34m.\u001b[0m\u001b[0mmap_infer\u001b[0m\u001b[0;34m(\u001b[0m\u001b[0mvalues\u001b[0m\u001b[0;34m,\u001b[0m \u001b[0mf\u001b[0m\u001b[0;34m,\u001b[0m \u001b[0mconvert\u001b[0m\u001b[0;34m=\u001b[0m\u001b[0mconvert_dtype\u001b[0m\u001b[0;34m)\u001b[0m\u001b[0;34m\u001b[0m\u001b[0m\n\u001b[0m\u001b[1;32m   2024\u001b[0m         \u001b[0;32mif\u001b[0m \u001b[0mlen\u001b[0m\u001b[0;34m(\u001b[0m\u001b[0mmapped\u001b[0m\u001b[0;34m)\u001b[0m \u001b[0;32mand\u001b[0m \u001b[0misinstance\u001b[0m\u001b[0;34m(\u001b[0m\u001b[0mmapped\u001b[0m\u001b[0;34m[\u001b[0m\u001b[0;36m0\u001b[0m\u001b[0;34m]\u001b[0m\u001b[0;34m,\u001b[0m \u001b[0mSeries\u001b[0m\u001b[0;34m)\u001b[0m\u001b[0;34m:\u001b[0m\u001b[0;34m\u001b[0m\u001b[0m\n\u001b[1;32m   2025\u001b[0m             \u001b[0;32mfrom\u001b[0m \u001b[0mpandas\u001b[0m\u001b[0;34m.\u001b[0m\u001b[0mcore\u001b[0m\u001b[0;34m.\u001b[0m\u001b[0mframe\u001b[0m \u001b[0;32mimport\u001b[0m \u001b[0mDataFrame\u001b[0m\u001b[0;34m\u001b[0m\u001b[0m\n",
        "\u001b[0;32m/Applications/anaconda/lib/python2.7/site-packages/pandas/lib.so\u001b[0m in \u001b[0;36mpandas.lib.map_infer (pandas/lib.c:44780)\u001b[0;34m()\u001b[0m\n",
        "\u001b[0;32m<ipython-input-1-8859921386fc>\u001b[0m in \u001b[0;36m<lambda>\u001b[0;34m(letter)\u001b[0m\n\u001b[1;32m     74\u001b[0m \u001b[0;34m\u001b[0m\u001b[0m\n\u001b[1;32m     75\u001b[0m     \u001b[0mdf\u001b[0m\u001b[0;34m[\u001b[0m\u001b[0;34m'car_value'\u001b[0m\u001b[0;34m]\u001b[0m \u001b[0;34m=\u001b[0m \u001b[0mdf\u001b[0m\u001b[0;34m[\u001b[0m\u001b[0;34m'car_value'\u001b[0m\u001b[0;34m]\u001b[0m\u001b[0;34m.\u001b[0m\u001b[0mfillna\u001b[0m\u001b[0;34m(\u001b[0m\u001b[0;34m'0'\u001b[0m\u001b[0;34m)\u001b[0m\u001b[0;34m\u001b[0m\u001b[0m\n\u001b[0;32m---> 76\u001b[0;31m     \u001b[0mdf\u001b[0m\u001b[0;34m[\u001b[0m\u001b[0;34m'car_value'\u001b[0m\u001b[0;34m]\u001b[0m\u001b[0;34m=\u001b[0m\u001b[0mdf\u001b[0m\u001b[0;34m[\u001b[0m\u001b[0;34m'car_value'\u001b[0m\u001b[0;34m]\u001b[0m\u001b[0;34m.\u001b[0m\u001b[0mapply\u001b[0m\u001b[0;34m(\u001b[0m\u001b[0;32mlambda\u001b[0m \u001b[0mletter\u001b[0m \u001b[0;34m:\u001b[0m  \u001b[0mabs\u001b[0m\u001b[0;34m(\u001b[0m\u001b[0mord\u001b[0m\u001b[0;34m(\u001b[0m\u001b[0mletter\u001b[0m\u001b[0;34m)\u001b[0m \u001b[0;34m-\u001b[0m \u001b[0;36m96\u001b[0m\u001b[0;34m)\u001b[0m\u001b[0;34m)\u001b[0m\u001b[0;34m\u001b[0m\u001b[0m\n\u001b[0m\u001b[1;32m     77\u001b[0m     \u001b[0mdf\u001b[0m\u001b[0;34m[\u001b[0m\u001b[0;34m'state'\u001b[0m\u001b[0;34m]\u001b[0m\u001b[0;34m=\u001b[0m\u001b[0mdf\u001b[0m\u001b[0;34m[\u001b[0m\u001b[0;34m'state'\u001b[0m\u001b[0;34m]\u001b[0m\u001b[0;34m.\u001b[0m\u001b[0mapply\u001b[0m\u001b[0;34m(\u001b[0m\u001b[0;32mlambda\u001b[0m \u001b[0mletter\u001b[0m \u001b[0;34m:\u001b[0m  \u001b[0mabs\u001b[0m\u001b[0;34m(\u001b[0m\u001b[0mord\u001b[0m\u001b[0;34m(\u001b[0m\u001b[0mletter\u001b[0m\u001b[0;34m[\u001b[0m\u001b[0;36m0\u001b[0m\u001b[0;34m]\u001b[0m\u001b[0;34m)\u001b[0m \u001b[0;34m-\u001b[0m \u001b[0;36m96\u001b[0m \u001b[0;34m+\u001b[0m \u001b[0mord\u001b[0m\u001b[0;34m(\u001b[0m\u001b[0mletter\u001b[0m\u001b[0;34m[\u001b[0m\u001b[0;36m1\u001b[0m\u001b[0;34m]\u001b[0m\u001b[0;34m)\u001b[0m \u001b[0;34m-\u001b[0m \u001b[0;36m96\u001b[0m\u001b[0;34m)\u001b[0m\u001b[0;34m)\u001b[0m\u001b[0;34m\u001b[0m\u001b[0m\n\u001b[1;32m     78\u001b[0m \u001b[0;34m\u001b[0m\u001b[0m\n",
        "\u001b[0;31mTypeError\u001b[0m: ord() expected string of length 1, but numpy.int64 found"
       ]
      }
     ],
     "prompt_number": 30
    },
    {
     "cell_type": "code",
     "collapsed": false,
     "input": [
      "df=pd.read_csv(\"/Users/aifa/Dropbox/kaggle/insurance/future/train_all_split_5.csv\", header=0, encoding=\"UTF-8\", error_bad_lines=False, sep=\",\", index_col=0)\n",
      "\n",
      "cleanup(df).columns"
     ],
     "language": "python",
     "metadata": {},
     "outputs": [
      {
       "metadata": {},
       "output_type": "pyout",
       "prompt_number": 31,
       "text": [
        "Index([u'shopping_pt', u'record_type', u'day', u'state', u'location', u'group_size', u'homeowner', u'car_age', u'car_value', u'risk_factor', u'age_oldest', u'age_youngest', u'married_couple', u'C_previous', u'duration_previous', u'A', u'B', u'C', u'D', u'E', u'F', u'G', u'cost', u'duration_offers', u'total_offers', u'A_init', u'B_init', u'C_init', u'D_init', u'E_init', u'F_init', u'G_init', u'A_purchase', u'B_purchase', u'C_purchase', u'D_purchase', u'E_purchase', u'F_purchase', u'G_purchase', u'A_change', u'B_change', u'C_change', u'D_change', u'E_change', u'F_change', u'G_change', u'A_var', u'B_var', u'C_var', u'D_var', u'E_var', u'F_var', u'G_var', u'init_cost', u'cost_var'], dtype='object')"
       ]
      }
     ],
     "prompt_number": 31
    },
    {
     "cell_type": "code",
     "collapsed": false,
     "input": [],
     "language": "python",
     "metadata": {},
     "outputs": []
    }
   ],
   "metadata": {}
  }
 ]
}