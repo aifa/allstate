{
 "metadata": {
  "name": ""
 },
 "nbformat": 3,
 "nbformat_minor": 0,
 "worksheets": [
  {
   "cells": [
    {
     "cell_type": "code",
     "collapsed": false,
     "input": [
      "__author__ = 'aifa'\n",
      "\n",
      "import os\n",
      "import pandas as pd\n",
      "import numpy as np\n",
      "import pylab as pl\n",
      "\n",
      "from sklearn import clone\n",
      "\n",
      "from sklearn.ensemble.weight_boosting import AdaBoostClassifier\n",
      "from sklearn.ensemble.forest import (RandomForestClassifier,RandomForestRegressor,\n",
      "                                        ExtraTreesClassifier)\n",
      "\n",
      "from sklearn.feature_selection import RFE\n",
      "from sklearn.linear_model import LogisticRegression\n",
      "from sklearn import svm\n",
      "\n",
      "import math as math\n",
      "from sklearn.externals.six.moves import xrange\n",
      "from sklearn.tree import DecisionTreeClassifier\n",
      "\n",
      "from sklearn.svm import SVR\n",
      "from sklearn.cross_validation import StratifiedKFold\n",
      "\n",
      "from sklearn.feature_selection import chi2\n",
      "\n",
      "train_sets={}\n",
      "train_1 = pd.read_csv(\"/Users/aifa/Dropbox/kaggle/insurance/future/train_all_split_1.csv\", header=0, encoding=\"UTF-8\", error_bad_lines=False, sep=\",\", index_col=0)\n",
      "train_sets[1]=train_1\n",
      "train_2 = pd.read_csv(\"/Users/aifa/Dropbox/kaggle/insurance/future/train_all_split_2.csv\", header=0, encoding=\"UTF-8\", error_bad_lines=False, sep=\",\", index_col=0)\n",
      "train_sets[2]=train_2\n",
      "train_3 = pd.read_csv(\"/Users/aifa/Dropbox/kaggle/insurance/future/train_all_split_3.csv\", header=0, encoding=\"UTF-8\", error_bad_lines=False, sep=\",\", index_col=0)\n",
      "train_sets[3]=train_3\n",
      "train_4 = pd.read_csv(\"/Users/aifa/Dropbox/kaggle/insurance/future/train_all_split_4.csv\", header=0, encoding=\"UTF-8\", error_bad_lines=False, sep=\",\", index_col=0)\n",
      "train_sets[4]=train_4\n",
      "train_5 = pd.read_csv(\"/Users/aifa/Dropbox/kaggle/insurance/future/train_all_split_5.csv\", header=0, encoding=\"UTF-8\", error_bad_lines=False, sep=\",\", index_col=0)\n",
      "train_sets[5]=train_5\n",
      "train_6 = pd.read_csv(\"/Users/aifa/Dropbox/kaggle/insurance/future/train_all_split_6.csv\", header=0, encoding=\"UTF-8\", error_bad_lines=False, sep=\",\", index_col=0)\n",
      "train_sets[6]=train_6\n",
      "train_7 = pd.read_csv(\"/Users/aifa/Dropbox/kaggle/insurance/future/train_all_split_7.csv\", header=0, encoding=\"UTF-8\", error_bad_lines=False, sep=\",\", index_col=0)\n",
      "train_sets[7]=train_7\n",
      "train_8 = pd.read_csv(\"/Users/aifa/Dropbox/kaggle/insurance/future/train_all_split_8.csv\", header=0, encoding=\"UTF-8\", error_bad_lines=False, sep=\",\", index_col=0)\n",
      "train_sets[8]=train_8\n",
      "train_9 = pd.read_csv(\"/Users/aifa/Dropbox/kaggle/insurance/future/train_all_split_9.csv\", header=0, encoding=\"UTF-8\", error_bad_lines=False, sep=\",\", index_col=0)\n",
      "train_sets[9]=train_9\n",
      "train_10 = pd.read_csv(\"/Users/aifa/Dropbox/kaggle/insurance/future/train_all_split_10.csv\", header=0, encoding=\"UTF-8\", error_bad_lines=False, sep=\",\", index_col=0)\n",
      "train_sets[10]=train_10\n",
      "train_11 = pd.read_csv(\"/Users/aifa/Dropbox/kaggle/insurance/future/train_all_split_11.csv\", header=0, encoding=\"UTF-8\", error_bad_lines=False, sep=\",\", index_col=0)\n",
      "train_sets[11]=train_11\n",
      "train_12 = pd.read_csv(\"/Users/aifa/Dropbox/kaggle/insurance/future/train_all_split_12.csv\", header=0, encoding=\"UTF-8\", error_bad_lines=False, sep=\",\", index_col=0)\n",
      "train_sets[12]=train_12\n",
      "\n",
      "test_2 = pd.read_csv(\"/Users/aifa/Dropbox/kaggle/insurance/future/test_v2_all_future.csv\", header=0, encoding=\"UTF-8\", error_bad_lines=False, sep=\",\", index_col=0)\n",
      "\n",
      "\n",
      "results_df = pd.DataFrame(index=test_2.index)\n",
      "resultCol = pd.Series(index=test_2.index,dtype=object)\n",
      "\n",
      "#try random forest on feature A\n",
      "n_estimators = 100\n",
      "\n",
      "rfcModel = RandomForestClassifier(n_estimators=n_estimators)\n",
      "rfrmodel = RandomForestRegressor(n_estimators=n_estimators)\n",
      "lr = LogisticRegression()\n",
      "\n",
      "\n",
      "#svr =  SVR(C=1.0, epsilon=0.2)\n",
      "#C = 10.0  # SVM regularization parameter\n",
      "#svc = svm.SVC(kernel='linear', C=C)\n",
      "#rbf_svc = svm.SVC(kernel='rbf', gamma=0.7, C=C)\n",
      "#poly_svc = svm.SVC(kernel='poly', degree=3, C=C)\n",
      "\n",
      "def cleanup(df):\n",
      "\n",
      "    #find columns that contain null values\n",
      "    inds = pd.isnull(df).any(0).nonzero()\n",
      "\n",
      "    df['car_value'] = df['car_value'].fillna('0')\n",
      "    df['car_value']=df['car_value'].apply(lambda letter :  abs(ord(letter) - 96))\n",
      "    df['state']=df['state'].apply(lambda letter :  abs(ord(letter[0]) - 96 + ord(letter[1]) - 96))\n",
      "\n",
      "    #remove product feature\n",
      "    #df=df.drop(['product'], axis=1)\n",
      "    #df=df.drop(['state'], axis=1)\n",
      "    #df=df.drop(['location'], axis=1)\n",
      "    df=df.drop(['time'], axis=1)\n",
      "\n",
      "    #impute the null values\n",
      "    df['risk_factor'] = df['risk_factor'].fillna(0)\n",
      "    df['C_previous'] = df['C_previous'].fillna(0)\n",
      "    df['duration_previous'] = df['duration_previous'].fillna(0)\n",
      "    df['location'] = df['location'].fillna(0)\n",
      "\n",
      "    df['A_var'] = df['A_var'].fillna(0)\n",
      "    df['B_var'] = df['B_var'].fillna(0)\n",
      "    df['C_var'] = df['C_var'].fillna(0)\n",
      "    df['D_var'] = df['D_var'].fillna(0)\n",
      "    df['E_var'] = df['E_var'].fillna(0)\n",
      "    df['F_var'] = df['F_var'].fillna(0)\n",
      "    df['G_var'] = df['G_var'].fillna(0)\n",
      "    df['cost_var'] = df['cost_var'].fillna(0)\n",
      "    #drop any other rows that might contain null values (at this point only lines with empty key cols should be removed from the training sets)\n",
      "    df=df.dropna()\n",
      "\n",
      "    return df\n",
      "\n",
      "def filter_features(train_df, model, prodStr='A_purchase', features_to_select=1):\n",
      "\n",
      "    input_df = train_df.copy(deep=True)\n",
      "    y = input_df[prodStr].values\n",
      "\n",
      "    input_df=input_df.drop(['A_purchase'], axis=1)\n",
      "    input_df=input_df.drop(['B_purchase'], axis=1)\n",
      "    input_df=input_df.drop(['C_purchase'], axis=1)\n",
      "    input_df=input_df.drop(['D_purchase'], axis=1)\n",
      "    input_df=input_df.drop(['E_purchase'], axis=1)\n",
      "    input_df=input_df.drop(['F_purchase'], axis=1)\n",
      "    input_df=input_df.drop(['G_purchase'], axis=1)\n",
      "\n",
      "    if (prodStr=='G_purchase'):\n",
      "        input_df=input_df.drop(['C_previous'], axis=1)\n",
      "\n",
      "\n",
      "    print len(input_df.columns)\n",
      "\n",
      "    X = input_df.values\n",
      "\n",
      "    #chi, p_val = chi2(X, y)\n",
      "    #print chi\n",
      "    #print p_val\n",
      "    \n",
      "    selector = RFE(model, step=1, n_features_to_select=features_to_select)\n",
      "    selector = selector.fit(X, y)\n",
      "\n",
      "#    rfecv = RFECV(estimator=model, step=1, cv=StratifiedKFold(y, 2))\n",
      "#    rfecv.fit(X, y)\n",
      "#    print(\"Optimal number of features : %d\" % rfecv.n_features_)\n",
      "\n",
      "    idx=0\n",
      "    for i in input_df.columns:\n",
      "        if (selector.support_[idx]==False):\n",
      "            input_df=input_df.drop([i], axis=1)\n",
      "        idx += 1\n",
      "\n",
      "    return input_df\n",
      "\n",
      "filtered_A={}\n",
      "filtered_B={}\n",
      "filtered_C={}\n",
      "filtered_D={}\n",
      "filtered_E={}\n",
      "filtered_F={}\n",
      "filtered_G={}\n",
      "for i in range(1,13):\n",
      "    train = cleanup(train_sets[i])\n",
      "    filtered_A[i] = filter_features(train, lr)\n",
      "    #filtered_B[i] = filter_features(train, lr, yName='B_purchase')\n",
      "    #filtered_C[i] = filter_features(train, lr, yName='C_purchase')\n",
      "    #filtered_D[i] = filter_features(train, lr, yName='D_purchase')\n",
      "    #filtered_E[i] = filter_features(train, lr, yName='E_purchase')\n",
      "    #filtered_F[i] = filter_features(train, lr, yName='F_purchase')\n",
      "    #filtered_G[i] = filter_features(train, lr, yName='G_purchase')\n",
      "    print str(i) +\":\"\n",
      "    print filtered_A[i].columns\n",
      "    #print filtered_B[i].columns\n",
      "    #print filtered_C[i].columns\n",
      "    #print filtered_D[i].columns\n",
      "    #print filtered_E[i].columns\n",
      "    #print filtered_F[i].columns\n",
      "    #print filtered_G[i].columns"
     ],
     "language": "python",
     "metadata": {},
     "outputs": [
      {
       "output_type": "stream",
       "stream": "stdout",
       "text": [
        "48\n",
        "1:"
       ]
      },
      {
       "output_type": "stream",
       "stream": "stdout",
       "text": [
        "\n",
        "Index([u'A_init'], dtype='object')\n",
        "48"
       ]
      },
      {
       "output_type": "stream",
       "stream": "stdout",
       "text": [
        "\n",
        "2:"
       ]
      },
      {
       "output_type": "stream",
       "stream": "stdout",
       "text": [
        "\n",
        "Index([u'A'], dtype='object')\n",
        "48"
       ]
      },
      {
       "output_type": "stream",
       "stream": "stdout",
       "text": [
        "\n",
        "3:"
       ]
      },
      {
       "output_type": "stream",
       "stream": "stdout",
       "text": [
        "\n",
        "Index([u'A'], dtype='object')\n",
        "48"
       ]
      },
      {
       "output_type": "stream",
       "stream": "stdout",
       "text": [
        "\n",
        "4:"
       ]
      },
      {
       "output_type": "stream",
       "stream": "stdout",
       "text": [
        "\n",
        "Index([u'A'], dtype='object')\n",
        "48"
       ]
      },
      {
       "output_type": "stream",
       "stream": "stdout",
       "text": [
        "\n",
        "5:"
       ]
      },
      {
       "output_type": "stream",
       "stream": "stdout",
       "text": [
        "\n",
        "Index([u'A'], dtype='object')\n",
        "48"
       ]
      },
      {
       "output_type": "stream",
       "stream": "stdout",
       "text": [
        "\n",
        "6:"
       ]
      },
      {
       "output_type": "stream",
       "stream": "stdout",
       "text": [
        "\n",
        "Index([u'A'], dtype='object')\n",
        "48"
       ]
      },
      {
       "output_type": "stream",
       "stream": "stdout",
       "text": [
        "\n",
        "7:"
       ]
      },
      {
       "output_type": "stream",
       "stream": "stdout",
       "text": [
        "\n",
        "Index([u'A'], dtype='object')\n",
        "48"
       ]
      },
      {
       "output_type": "stream",
       "stream": "stdout",
       "text": [
        "\n",
        "8:"
       ]
      },
      {
       "output_type": "stream",
       "stream": "stdout",
       "text": [
        "\n",
        "Index([u'A'], dtype='object')\n",
        "48"
       ]
      },
      {
       "output_type": "stream",
       "stream": "stdout",
       "text": [
        "\n",
        "9:"
       ]
      },
      {
       "output_type": "stream",
       "stream": "stdout",
       "text": [
        "\n",
        "Index([u'A'], dtype='object')\n",
        "48"
       ]
      },
      {
       "output_type": "stream",
       "stream": "stdout",
       "text": [
        "\n",
        "10:"
       ]
      },
      {
       "output_type": "stream",
       "stream": "stdout",
       "text": [
        "\n",
        "Index([u'A'], dtype='object')\n",
        "48"
       ]
      },
      {
       "output_type": "stream",
       "stream": "stdout",
       "text": [
        "\n",
        "11:"
       ]
      },
      {
       "output_type": "stream",
       "stream": "stdout",
       "text": [
        "\n",
        "Index([u'A'], dtype='object')\n",
        "48"
       ]
      },
      {
       "output_type": "stream",
       "stream": "stdout",
       "text": [
        "\n",
        "12:"
       ]
      },
      {
       "output_type": "stream",
       "stream": "stdout",
       "text": [
        "\n",
        "Index([u'A'], dtype='object')\n"
       ]
      }
     ],
     "prompt_number": 8
    },
    {
     "cell_type": "code",
     "collapsed": false,
     "input": [
      "__author__ = 'aifa'\n",
      "\n",
      "import os\n",
      "import pandas as pd\n",
      "import numpy as np\n",
      "import pylab as pl\n",
      "\n",
      "from sklearn import clone\n",
      "\n",
      "from sklearn.ensemble.weight_boosting import AdaBoostClassifier\n",
      "from sklearn.ensemble.forest import (RandomForestClassifier,RandomForestRegressor,\n",
      "                                        ExtraTreesClassifier)\n",
      "\n",
      "from sklearn.feature_selection import RFE\n",
      "from sklearn.linear_model import LogisticRegression\n",
      "from sklearn import svm\n",
      "\n",
      "import math as math\n",
      "from sklearn.externals.six.moves import xrange\n",
      "from sklearn.tree import DecisionTreeClassifier\n",
      "\n",
      "from sklearn.svm import SVR\n",
      "from sklearn.cross_validation import StratifiedKFold\n",
      "\n",
      "from sklearn.feature_selection import chi2\n",
      "\n",
      "train_sets={}\n",
      "train_1 = pd.read_csv(\"/Users/aifa/Dropbox/kaggle/insurance/future/train_all_split_1.csv\", header=0, encoding=\"UTF-8\", error_bad_lines=False, sep=\",\", index_col=0)\n",
      "train_sets[1]=train_1\n",
      "train_2 = pd.read_csv(\"/Users/aifa/Dropbox/kaggle/insurance/future/train_all_split_2.csv\", header=0, encoding=\"UTF-8\", error_bad_lines=False, sep=\",\", index_col=0)\n",
      "train_sets[2]=train_2\n",
      "train_3 = pd.read_csv(\"/Users/aifa/Dropbox/kaggle/insurance/future/train_all_split_3.csv\", header=0, encoding=\"UTF-8\", error_bad_lines=False, sep=\",\", index_col=0)\n",
      "train_sets[3]=train_3\n",
      "train_4 = pd.read_csv(\"/Users/aifa/Dropbox/kaggle/insurance/future/train_all_split_4.csv\", header=0, encoding=\"UTF-8\", error_bad_lines=False, sep=\",\", index_col=0)\n",
      "train_sets[4]=train_4\n",
      "train_5 = pd.read_csv(\"/Users/aifa/Dropbox/kaggle/insurance/future/train_all_split_5.csv\", header=0, encoding=\"UTF-8\", error_bad_lines=False, sep=\",\", index_col=0)\n",
      "train_sets[5]=train_5\n",
      "train_6 = pd.read_csv(\"/Users/aifa/Dropbox/kaggle/insurance/future/train_all_split_6.csv\", header=0, encoding=\"UTF-8\", error_bad_lines=False, sep=\",\", index_col=0)\n",
      "train_sets[6]=train_6\n",
      "train_7 = pd.read_csv(\"/Users/aifa/Dropbox/kaggle/insurance/future/train_all_split_7.csv\", header=0, encoding=\"UTF-8\", error_bad_lines=False, sep=\",\", index_col=0)\n",
      "train_sets[7]=train_7\n",
      "train_8 = pd.read_csv(\"/Users/aifa/Dropbox/kaggle/insurance/future/train_all_split_8.csv\", header=0, encoding=\"UTF-8\", error_bad_lines=False, sep=\",\", index_col=0)\n",
      "train_sets[8]=train_8\n",
      "train_9 = pd.read_csv(\"/Users/aifa/Dropbox/kaggle/insurance/future/train_all_split_9.csv\", header=0, encoding=\"UTF-8\", error_bad_lines=False, sep=\",\", index_col=0)\n",
      "train_sets[9]=train_9\n",
      "train_10 = pd.read_csv(\"/Users/aifa/Dropbox/kaggle/insurance/future/train_all_split_10.csv\", header=0, encoding=\"UTF-8\", error_bad_lines=False, sep=\",\", index_col=0)\n",
      "train_sets[10]=train_10\n",
      "train_11 = pd.read_csv(\"/Users/aifa/Dropbox/kaggle/insurance/future/train_all_split_11.csv\", header=0, encoding=\"UTF-8\", error_bad_lines=False, sep=\",\", index_col=0)\n",
      "train_sets[11]=train_11\n",
      "train_12 = pd.read_csv(\"/Users/aifa/Dropbox/kaggle/insurance/future/train_all_split_12.csv\", header=0, encoding=\"UTF-8\", error_bad_lines=False, sep=\",\", index_col=0)\n",
      "train_sets[12]=train_12\n",
      "\n",
      "test_2 = pd.read_csv(\"/Users/aifa/Dropbox/kaggle/insurance/future/test_v2_all_future.csv\", header=0, encoding=\"UTF-8\", error_bad_lines=False, sep=\",\", index_col=0)\n",
      "\n",
      "\n",
      "results_df = pd.DataFrame(index=test_2.index)\n",
      "resultCol = pd.Series(index=test_2.index,dtype=object)\n",
      "\n",
      "#try random forest on feature A\n",
      "n_estimators = 100\n",
      "\n",
      "rfcModel = RandomForestClassifier(n_estimators=n_estimators)\n",
      "rfrmodel = RandomForestRegressor(n_estimators=n_estimators)\n",
      "lr = LogisticRegression()\n",
      "\n",
      "\n",
      "#svr =  SVR(C=1.0, epsilon=0.2)\n",
      "#C = 10.0  # SVM regularization parameter\n",
      "#svc = svm.SVC(kernel='linear', C=C)\n",
      "#rbf_svc = svm.SVC(kernel='rbf', gamma=0.7, C=C)\n",
      "#poly_svc = svm.SVC(kernel='poly', degree=3, C=C)\n",
      "\n",
      "def cleanup(df):\n",
      "\n",
      "    #find columns that contain null values\n",
      "    inds = pd.isnull(df).any(0).nonzero()\n",
      "\n",
      "    df['car_value'] = df['car_value'].fillna('0')\n",
      "    df['car_value']=df['car_value'].apply(lambda letter :  abs(ord(letter) - 96))\n",
      "    df['state']=df['state'].apply(lambda letter :  abs(ord(letter[0]) - 96 + ord(letter[1]) - 96))\n",
      "\n",
      "    #remove product feature\n",
      "    #df=df.drop(['product'], axis=1)\n",
      "    #df=df.drop(['state'], axis=1)\n",
      "    #df=df.drop(['location'], axis=1)\n",
      "    df=df.drop(['time'], axis=1)\n",
      "\n",
      "    #impute the null values\n",
      "    df['risk_factor'] = df['risk_factor'].fillna(0)\n",
      "    df['C_previous'] = df['C_previous'].fillna(0)\n",
      "    df['duration_previous'] = df['duration_previous'].fillna(0)\n",
      "    df['location'] = df['location'].fillna(0)\n",
      "\n",
      "    df['A_var'] = df['A_var'].fillna(0)\n",
      "    df['B_var'] = df['B_var'].fillna(0)\n",
      "    df['C_var'] = df['C_var'].fillna(0)\n",
      "    df['D_var'] = df['D_var'].fillna(0)\n",
      "    df['E_var'] = df['E_var'].fillna(0)\n",
      "    df['F_var'] = df['F_var'].fillna(0)\n",
      "    df['G_var'] = df['G_var'].fillna(0)\n",
      "    df['cost_var'] = df['cost_var'].fillna(0)\n",
      "    #drop any other rows that might contain null values (at this point only lines with empty key cols should be removed from the training sets)\n",
      "    df=df.dropna()\n",
      "\n",
      "    return df\n",
      "\n",
      "def filter_features(train_df, model, prodStr='A_purchase', features_to_select=1):\n",
      "\n",
      "    input_df = train_df.copy(deep=True)\n",
      "    y = input_df[prodStr].values\n",
      "    input_df=input_df.drop([prodStr], axis=1)\n",
      "    print \"Total features:\"+str(len(input_df.columns))\n",
      "    X = input_df.values\n",
      "    #chi, p_val = chi2(X, y)\n",
      "    #print chi\n",
      "    #print p_val\n",
      "    \n",
      "    selector = RFE(model, step=1, n_features_to_select=features_to_select)\n",
      "    selector = selector.fit(X, y)\n",
      "\n",
      "#    rfecv = RFECV(estimator=model, step=1, cv=StratifiedKFold(y, 2))\n",
      "#    rfecv.fit(X, y)\n",
      "#    print(\"Optimal number of features : %d\" % rfecv.n_features_)\n",
      "\n",
      "    idx=0\n",
      "    for i in input_df.columns:\n",
      "        if (selector.support_[idx]==False):\n",
      "            input_df=input_df.drop([i], axis=1)\n",
      "        idx += 1\n",
      "\n",
      "    return input_df\n",
      "\n",
      "train = cleanup(train_sets[7])\n",
      "for f in range(1,30):\n",
      "\n",
      "    filtered_A = filter_features(train, lr, features_to_select = f)\n",
      "    filtered_B = filter_features(train, lr, prodStr='B_purchase', features_to_select = f)\n",
      "    filtered_C = filter_features(train, lr, prodStr='C_purchase', features_to_select = f)\n",
      "    filtered_D = filter_features(train, lr, prodStr='D_purchase', features_to_select = f)\n",
      "    filtered_E = filter_features(train, lr, prodStr='E_purchase', features_to_select = f)\n",
      "    filtered_F = filter_features(train, lr, prodStr='F_purchase', features_to_select = f)\n",
      "    filtered_G = filter_features(train, lr, prodStr='G_purchase', features_to_select = f)\n",
      "    print \"# of features:\"+str(f) +\":\"\n",
      "    print \"A:\" \n",
      "    print filtered_A.columns\n",
      "    print \"B:\" \n",
      "    print filtered_B.columns\n",
      "    print \"C:\" \n",
      "    print filtered_C.columns\n",
      "    print \"D:\" \n",
      "    print filtered_D.columns\n",
      "    print \"E:\" \n",
      "    print filtered_E.columns\n",
      "    print \"F:\" \n",
      "    print filtered_F.columns\n",
      "    print \"G:\" \n",
      "    print filtered_G.columns"
     ],
     "language": "python",
     "metadata": {},
     "outputs": [
      {
       "output_type": "stream",
       "stream": "stdout",
       "text": [
        "Total features:54\n",
        "Total features:54"
       ]
      },
      {
       "output_type": "stream",
       "stream": "stdout",
       "text": [
        "\n",
        "Total features:54"
       ]
      },
      {
       "output_type": "stream",
       "stream": "stdout",
       "text": [
        "\n",
        "Total features:54"
       ]
      },
      {
       "output_type": "stream",
       "stream": "stdout",
       "text": [
        "\n",
        "Total features:54"
       ]
      },
      {
       "output_type": "stream",
       "stream": "stdout",
       "text": [
        "\n",
        "Total features:54"
       ]
      },
      {
       "output_type": "stream",
       "stream": "stdout",
       "text": [
        "\n",
        "Total features:54"
       ]
      },
      {
       "output_type": "stream",
       "stream": "stdout",
       "text": [
        "\n",
        "# of features:1:"
       ]
      },
      {
       "output_type": "stream",
       "stream": "stdout",
       "text": [
        "\n",
        "A:\n",
        "Index([u'A'], dtype='object')\n",
        "B:\n",
        "Index([u'B'], dtype='object')\n",
        "C:\n",
        "Index([u'C'], dtype='object')\n",
        "D:\n",
        "Index([u'D'], dtype='object')\n",
        "E:\n",
        "Index([u'E'], dtype='object')\n",
        "F:\n",
        "Index([u'F'], dtype='object')\n",
        "G:\n",
        "Index([u'G'], dtype='object')\n",
        "Total features:54\n",
        "Total features:54"
       ]
      },
      {
       "output_type": "stream",
       "stream": "stdout",
       "text": [
        "\n",
        "Total features:54"
       ]
      },
      {
       "output_type": "stream",
       "stream": "stdout",
       "text": [
        "\n",
        "Total features:54"
       ]
      },
      {
       "output_type": "stream",
       "stream": "stdout",
       "text": [
        "\n",
        "Total features:54"
       ]
      },
      {
       "output_type": "stream",
       "stream": "stdout",
       "text": [
        "\n",
        "Total features:54"
       ]
      },
      {
       "output_type": "stream",
       "stream": "stdout",
       "text": [
        "\n",
        "Total features:54"
       ]
      },
      {
       "output_type": "stream",
       "stream": "stdout",
       "text": [
        "\n",
        "# of features:2:"
       ]
      },
      {
       "output_type": "stream",
       "stream": "stdout",
       "text": [
        "\n",
        "A:\n",
        "Index([u'A', u'A_var'], dtype='object')\n",
        "B:\n",
        "Index([u'B', u'E_purchase'], dtype='object')\n",
        "C:\n",
        "Index([u'C', u'total_offers'], dtype='object')\n",
        "D:\n",
        "Index([u'D', u'C_purchase'], dtype='object')\n",
        "E:\n",
        "Index([u'E', u'B_purchase'], dtype='object')\n",
        "F:\n",
        "Index([u'F', u'A_purchase'], dtype='object')\n",
        "G:\n",
        "Index([u'G', u'total_offers'], dtype='object')\n",
        "Total features:54\n",
        "Total features:54"
       ]
      },
      {
       "output_type": "stream",
       "stream": "stdout",
       "text": [
        "\n",
        "Total features:54"
       ]
      },
      {
       "output_type": "stream",
       "stream": "stdout",
       "text": [
        "\n",
        "Total features:54"
       ]
      },
      {
       "output_type": "stream",
       "stream": "stdout",
       "text": [
        "\n",
        "Total features:54"
       ]
      },
      {
       "output_type": "stream",
       "stream": "stdout",
       "text": [
        "\n",
        "Total features:54"
       ]
      },
      {
       "output_type": "stream",
       "stream": "stdout",
       "text": [
        "\n",
        "Total features:54"
       ]
      },
      {
       "output_type": "stream",
       "stream": "stdout",
       "text": [
        "\n",
        "# of features:3:"
       ]
      },
      {
       "output_type": "stream",
       "stream": "stdout",
       "text": [
        "\n",
        "A:\n",
        "Index([u'A', u'F_purchase', u'A_var'], dtype='object')\n",
        "B:\n",
        "Index([u'B', u'E', u'E_purchase'], dtype='object')\n",
        "C:\n",
        "Index([u'C', u'total_offers', u'D_purchase'], dtype='object')\n",
        "D:\n",
        "Index([u'C', u'D', u'C_purchase'], dtype='object')\n",
        "E:\n",
        "Index([u'B', u'E', u'B_purchase'], dtype='object')\n",
        "F:\n",
        "Index([u'A', u'F', u'A_purchase'], dtype='object')\n",
        "G:\n",
        "Index([u'G', u'total_offers', u'E_var'], dtype='object')\n",
        "Total features:54\n",
        "Total features:54"
       ]
      },
      {
       "output_type": "stream",
       "stream": "stdout",
       "text": [
        "\n",
        "Total features:54"
       ]
      },
      {
       "output_type": "stream",
       "stream": "stdout",
       "text": [
        "\n",
        "Total features:54"
       ]
      },
      {
       "output_type": "stream",
       "stream": "stdout",
       "text": [
        "\n",
        "Total features:54"
       ]
      },
      {
       "output_type": "stream",
       "stream": "stdout",
       "text": [
        "\n",
        "Total features:54"
       ]
      },
      {
       "output_type": "stream",
       "stream": "stdout",
       "text": [
        "\n",
        "Total features:54"
       ]
      },
      {
       "output_type": "stream",
       "stream": "stdout",
       "text": [
        "\n",
        "# of features:4:"
       ]
      },
      {
       "output_type": "stream",
       "stream": "stdout",
       "text": [
        "\n",
        "A:\n",
        "Index([u'A', u'F', u'F_purchase', u'A_var'], dtype='object')\n",
        "B:\n",
        "Index([u'B', u'E', u'E_purchase', u'E_var'], dtype='object')\n",
        "C:\n",
        "Index([u'C', u'D', u'total_offers', u'D_purchase'], dtype='object')\n",
        "D:\n",
        "Index([u'C', u'D', u'total_offers', u'C_purchase'], dtype='object')\n",
        "E:\n",
        "Index([u'B', u'E', u'B_purchase', u'A_var'], dtype='object')\n",
        "F:\n",
        "Index([u'A', u'F', u'A_purchase', u'A_var'], dtype='object')\n",
        "G:\n",
        "Index([u'G', u'total_offers', u'E_var', u'G_var'], dtype='object')\n",
        "Total features:54\n",
        "Total features:54"
       ]
      },
      {
       "output_type": "stream",
       "stream": "stdout",
       "text": [
        "\n",
        "Total features:54"
       ]
      },
      {
       "output_type": "stream",
       "stream": "stdout",
       "text": [
        "\n",
        "Total features:54"
       ]
      },
      {
       "output_type": "stream",
       "stream": "stdout",
       "text": [
        "\n",
        "Total features:54"
       ]
      },
      {
       "output_type": "stream",
       "stream": "stdout",
       "text": [
        "\n",
        "Total features:54"
       ]
      },
      {
       "output_type": "stream",
       "stream": "stdout",
       "text": [
        "\n",
        "Total features:54"
       ]
      },
      {
       "output_type": "stream",
       "stream": "stdout",
       "text": [
        "\n",
        "# of features:5:"
       ]
      },
      {
       "output_type": "stream",
       "stream": "stdout",
       "text": [
        "\n",
        "A:\n",
        "Index([u'A', u'F', u'E_purchase', u'F_purchase', u'A_var'], dtype='object')\n",
        "B:\n",
        "Index([u'B', u'E', u'E_purchase', u'B_var', u'E_var'], dtype='object')\n",
        "C:\n",
        "Index([u'shopping_pt', u'C', u'D', u'total_offers', u'D_purchase'], dtype='object')\n",
        "D:\n",
        "Index([u'C', u'D', u'total_offers', u'C_purchase', u'D_var'], dtype='object')\n",
        "E:\n",
        "Index([u'B', u'E', u'A_purchase', u'B_purchase', u'A_var'], dtype='object')\n",
        "F:\n",
        "Index([u'A', u'F', u'total_offers', u'A_purchase', u'A_var'], dtype='object')\n",
        "G:\n",
        "Index([u'G', u'total_offers', u'A_var', u'E_var', u'G_var'], dtype='object')\n",
        "Total features:54\n",
        "Total features:54"
       ]
      },
      {
       "output_type": "stream",
       "stream": "stdout",
       "text": [
        "\n",
        "Total features:54"
       ]
      },
      {
       "output_type": "stream",
       "stream": "stdout",
       "text": [
        "\n",
        "Total features:54"
       ]
      },
      {
       "output_type": "stream",
       "stream": "stdout",
       "text": [
        "\n",
        "Total features:54"
       ]
      },
      {
       "output_type": "stream",
       "stream": "stdout",
       "text": [
        "\n",
        "Total features:54"
       ]
      },
      {
       "output_type": "stream",
       "stream": "stdout",
       "text": [
        "\n",
        "Total features:54"
       ]
      },
      {
       "output_type": "stream",
       "stream": "stdout",
       "text": [
        "\n",
        "# of features:6:"
       ]
      },
      {
       "output_type": "stream",
       "stream": "stdout",
       "text": [
        "\n",
        "A:\n",
        "Index([u'A', u'F', u'E_purchase', u'F_purchase', u'A_var', u'B_var'], dtype='object')\n",
        "B:\n",
        "Index([u'B', u'E', u'total_offers', u'E_purchase', u'B_var', u'E_var'], dtype='object')\n",
        "C:\n",
        "Index([u'shopping_pt', u'C', u'D', u'total_offers', u'D_purchase', u'C_var'], dtype='object')\n",
        "D:\n",
        "Index([u'C', u'D', u'total_offers', u'C_purchase', u'D_change', u'D_var'], dtype='object')\n",
        "E:\n",
        "Index([u'A', u'B', u'E', u'A_purchase', u'B_purchase', u'A_var'], dtype='object')\n",
        "F:\n",
        "Index([u'A', u'F', u'total_offers', u'A_purchase', u'A_var', u'F_var'], dtype='object')\n",
        "G:\n",
        "Index([u'shopping_pt', u'G', u'total_offers', u'A_var', u'E_var', u'G_var'], dtype='object')\n",
        "Total features:54\n",
        "Total features:54"
       ]
      },
      {
       "output_type": "stream",
       "stream": "stdout",
       "text": [
        "\n",
        "Total features:54"
       ]
      },
      {
       "output_type": "stream",
       "stream": "stdout",
       "text": [
        "\n",
        "Total features:54"
       ]
      },
      {
       "output_type": "stream",
       "stream": "stdout",
       "text": [
        "\n",
        "Total features:54"
       ]
      },
      {
       "output_type": "stream",
       "stream": "stdout",
       "text": [
        "\n",
        "Total features:54"
       ]
      },
      {
       "output_type": "stream",
       "stream": "stdout",
       "text": [
        "\n",
        "Total features:54"
       ]
      },
      {
       "output_type": "stream",
       "stream": "stdout",
       "text": [
        "\n",
        "# of features:7:"
       ]
      },
      {
       "output_type": "stream",
       "stream": "stdout",
       "text": [
        "\n",
        "A:\n",
        "Index([u'A', u'E', u'F', u'E_purchase', u'F_purchase', u'A_var', u'B_var'], dtype='object')\n",
        "B:\n",
        "Index([u'B', u'E', u'total_offers', u'E_init', u'E_purchase', u'B_var', u'E_var'], dtype='object')\n",
        "C:\n",
        "Index([u'shopping_pt', u'C', u'D', u'total_offers', u'D_purchase', u'C_change', u'C_var'], dtype='object')\n",
        "D:\n",
        "Index([u'shopping_pt', u'C', u'D', u'total_offers', u'C_purchase', u'D_change', u'D_var'], dtype='object')\n",
        "E:\n",
        "Index([u'A', u'B', u'E', u'total_offers', u'A_purchase', u'B_purchase', u'A_var'], dtype='object')\n",
        "F:\n",
        "Index([u'A', u'F', u'total_offers', u'F_init', u'A_purchase', u'A_var', u'F_var'], dtype='object')\n",
        "G:\n",
        "Index([u'shopping_pt', u'G', u'total_offers', u'G_init', u'A_var', u'E_var', u'G_var'], dtype='object')\n",
        "Total features:54\n",
        "Total features:54"
       ]
      },
      {
       "output_type": "stream",
       "stream": "stdout",
       "text": [
        "\n",
        "Total features:54"
       ]
      },
      {
       "output_type": "stream",
       "stream": "stdout",
       "text": [
        "\n",
        "Total features:54"
       ]
      },
      {
       "output_type": "stream",
       "stream": "stdout",
       "text": [
        "\n",
        "Total features:54"
       ]
      },
      {
       "output_type": "stream",
       "stream": "stdout",
       "text": [
        "\n",
        "Total features:54"
       ]
      },
      {
       "output_type": "stream",
       "stream": "stdout",
       "text": [
        "\n",
        "Total features:54"
       ]
      },
      {
       "output_type": "stream",
       "stream": "stdout",
       "text": [
        "\n",
        "# of features:8:"
       ]
      },
      {
       "output_type": "stream",
       "stream": "stdout",
       "text": [
        "\n",
        "A:\n",
        "Index([u'A', u'E', u'F', u'total_offers', u'E_purchase', u'F_purchase', u'A_var', u'B_var'], dtype='object')\n",
        "B:\n",
        "Index([u'B', u'E', u'total_offers', u'B_init', u'E_init', u'E_purchase', u'B_var', u'E_var'], dtype='object')\n",
        "C:\n",
        "Index([u'shopping_pt', u'C', u'D', u'total_offers', u'D_purchase', u'C_change', u'C_var', u'D_var'], dtype='object')\n",
        "D:\n",
        "Index([u'shopping_pt', u'C', u'D', u'total_offers', u'C_purchase', u'E_purchase', u'D_change', u'D_var'], dtype='object')\n",
        "E:\n",
        "Index([u'A', u'B', u'E', u'total_offers', u'A_purchase', u'B_purchase', u'D_purchase', u'A_var'], dtype='object')\n",
        "F:\n",
        "Index([u'A', u'F', u'total_offers', u'A_init', u'F_init', u'A_purchase', u'A_var', u'F_var'], dtype='object')\n",
        "G:\n",
        "Index([u'shopping_pt', u'G', u'total_offers', u'G_init', u'E_purchase', u'A_var', u'E_var', u'G_var'], dtype='object')\n",
        "Total features:54\n",
        "Total features:54"
       ]
      },
      {
       "output_type": "stream",
       "stream": "stdout",
       "text": [
        "\n",
        "Total features:54"
       ]
      },
      {
       "output_type": "stream",
       "stream": "stdout",
       "text": [
        "\n",
        "Total features:54"
       ]
      },
      {
       "output_type": "stream",
       "stream": "stdout",
       "text": [
        "\n",
        "Total features:54"
       ]
      },
      {
       "output_type": "stream",
       "stream": "stdout",
       "text": [
        "\n",
        "Total features:54"
       ]
      },
      {
       "output_type": "stream",
       "stream": "stdout",
       "text": [
        "\n",
        "Total features:54"
       ]
      },
      {
       "output_type": "stream",
       "stream": "stdout",
       "text": [
        "\n",
        "# of features:9:"
       ]
      },
      {
       "output_type": "stream",
       "stream": "stdout",
       "text": [
        "\n",
        "A:\n",
        "Index([u'A', u'E', u'F', u'total_offers', u'E_purchase', u'F_purchase', u'A_var', u'B_var', u'E_var'], dtype='object')\n",
        "B:\n",
        "Index([u'B', u'D', u'E', u'total_offers', u'B_init', u'E_init', u'E_purchase', u'B_var', u'E_var'], dtype='object')\n",
        "C:\n",
        "Index([u'shopping_pt', u'homeowner', u'C', u'D', u'total_offers', u'D_purchase', u'C_change', u'C_var', u'D_var'], dtype='object')\n",
        "D:\n",
        "Index([u'shopping_pt', u'C', u'D', u'E', u'total_offers', u'C_purchase', u'E_purchase', u'D_change', u'D_var'], dtype='object')\n",
        "E:\n",
        "Index([u'A', u'B', u'D', u'E', u'total_offers', u'A_purchase', u'B_purchase', u'D_purchase', u'A_var'], dtype='object')\n",
        "F:\n",
        "Index([u'A', u'F', u'total_offers', u'A_init', u'F_init', u'A_purchase', u'F_change', u'A_var', u'F_var'], dtype='object')\n",
        "G:\n",
        "Index([u'shopping_pt', u'G', u'total_offers', u'F_init', u'G_init', u'E_purchase', u'A_var', u'E_var', u'G_var'], dtype='object')\n",
        "Total features:54\n",
        "Total features:54"
       ]
      },
      {
       "output_type": "stream",
       "stream": "stdout",
       "text": [
        "\n",
        "Total features:54"
       ]
      },
      {
       "output_type": "stream",
       "stream": "stdout",
       "text": [
        "\n",
        "Total features:54"
       ]
      },
      {
       "output_type": "stream",
       "stream": "stdout",
       "text": [
        "\n",
        "Total features:54"
       ]
      },
      {
       "output_type": "stream",
       "stream": "stdout",
       "text": [
        "\n",
        "Total features:54"
       ]
      },
      {
       "output_type": "stream",
       "stream": "stdout",
       "text": [
        "\n",
        "Total features:54"
       ]
      },
      {
       "output_type": "stream",
       "stream": "stdout",
       "text": [
        "\n",
        "# of features:10:"
       ]
      },
      {
       "output_type": "stream",
       "stream": "stdout",
       "text": [
        "\n",
        "A:\n",
        "Index([u'A', u'E', u'F', u'total_offers', u'A_init', u'E_purchase', u'F_purchase', u'A_var', u'B_var', u'E_var'], dtype='object')\n",
        "B:\n",
        "Index([u'B', u'D', u'E', u'total_offers', u'B_init', u'E_init', u'D_purchase', u'E_purchase', u'B_var', u'E_var'], dtype='object')\n",
        "C:\n",
        "Index([u'shopping_pt', u'homeowner', u'C_previous', u'C', u'D', u'total_offers', u'D_purchase', u'C_change', u'C_var', u'D_var'], dtype='object')\n",
        "D:\n",
        "Index([u'shopping_pt', u'C', u'D', u'E', u'total_offers', u'C_purchase', u'E_purchase', u'D_change', u'D_var', u'E_var'], dtype='object')\n",
        "E:\n",
        "Index([u'A', u'B', u'D', u'E', u'total_offers', u'A_purchase', u'B_purchase', u'D_purchase', u'F_purchase', u'A_var'], dtype='object')\n",
        "F:\n",
        "Index([u'A', u'F', u'total_offers', u'A_init', u'F_init', u'A_purchase', u'E_purchase', u'F_change', u'A_var', u'F_var'], dtype='object')\n",
        "G:\n",
        "Index([u'shopping_pt', u'G', u'total_offers', u'F_init', u'G_init', u'E_purchase', u'A_var', u'C_var', u'E_var', u'G_var'], dtype='object')\n",
        "Total features:54\n",
        "Total features:54"
       ]
      },
      {
       "output_type": "stream",
       "stream": "stdout",
       "text": [
        "\n",
        "Total features:54"
       ]
      },
      {
       "output_type": "stream",
       "stream": "stdout",
       "text": [
        "\n",
        "Total features:54"
       ]
      },
      {
       "output_type": "stream",
       "stream": "stdout",
       "text": [
        "\n",
        "Total features:54"
       ]
      },
      {
       "output_type": "stream",
       "stream": "stdout",
       "text": [
        "\n",
        "Total features:54"
       ]
      },
      {
       "output_type": "stream",
       "stream": "stdout",
       "text": [
        "\n",
        "Total features:54"
       ]
      },
      {
       "output_type": "stream",
       "stream": "stdout",
       "text": [
        "\n",
        "# of features:11:"
       ]
      },
      {
       "output_type": "stream",
       "stream": "stdout",
       "text": [
        "\n",
        "A:\n",
        "Index([u'shopping_pt', u'A', u'E', u'F', u'total_offers', u'A_init', u'E_purchase', u'F_purchase', u'A_var', u'B_var', u'E_var'], dtype='object')\n",
        "B:\n",
        "Index([u'shopping_pt', u'B', u'D', u'E', u'total_offers', u'B_init', u'E_init', u'D_purchase', u'E_purchase', u'B_var', u'E_var'], dtype='object')\n",
        "C:\n",
        "Index([u'shopping_pt', u'homeowner', u'C_previous', u'C', u'D', u'total_offers', u'D_purchase', u'C_change', u'B_var', u'C_var', u'D_var'], dtype='object')\n",
        "D:\n",
        "Index([u'shopping_pt', u'B', u'C', u'D', u'E', u'total_offers', u'C_purchase', u'E_purchase', u'D_change', u'D_var', u'E_var'], dtype='object')\n",
        "E:\n",
        "Index([u'A', u'B', u'D', u'E', u'F', u'total_offers', u'A_purchase', u'B_purchase', u'D_purchase', u'F_purchase', u'A_var'], dtype='object')\n",
        "F:\n",
        "Index([u'A', u'F', u'total_offers', u'A_init', u'F_init', u'A_purchase', u'E_purchase', u'F_change', u'A_var', u'B_var', u'F_var'], dtype='object')\n",
        "G:\n",
        "Index([u'shopping_pt', u'G', u'total_offers', u'F_init', u'G_init', u'E_purchase', u'A_var', u'B_var', u'C_var', u'E_var', u'G_var'], dtype='object')\n",
        "Total features:54\n",
        "Total features:54"
       ]
      },
      {
       "output_type": "stream",
       "stream": "stdout",
       "text": [
        "\n",
        "Total features:54"
       ]
      },
      {
       "output_type": "stream",
       "stream": "stdout",
       "text": [
        "\n",
        "Total features:54"
       ]
      },
      {
       "output_type": "stream",
       "stream": "stdout",
       "text": [
        "\n",
        "Total features:54"
       ]
      },
      {
       "output_type": "stream",
       "stream": "stdout",
       "text": [
        "\n",
        "Total features:54"
       ]
      },
      {
       "output_type": "stream",
       "stream": "stdout",
       "text": [
        "\n",
        "Total features:54"
       ]
      },
      {
       "output_type": "stream",
       "stream": "stdout",
       "text": [
        "\n",
        "# of features:12:"
       ]
      },
      {
       "output_type": "stream",
       "stream": "stdout",
       "text": [
        "\n",
        "A:\n",
        "Index([u'shopping_pt', u'A', u'E', u'F', u'total_offers', u'A_init', u'F_init', u'E_purchase', u'F_purchase', u'A_var', u'B_var', u'E_var'], dtype='object')\n",
        "B:\n",
        "Index([u'shopping_pt', u'B', u'D', u'E', u'F', u'total_offers', u'B_init', u'E_init', u'A_purchase', u'D_purchase', u'E_purchase', u'E_var'], dtype='object')\n",
        "C:\n",
        "Index([u'shopping_pt', u'homeowner', u'C_previous', u'C', u'D', u'total_offers', u'B_purchase', u'D_purchase', u'C_change', u'B_var', u'C_var', u'D_var'], dtype='object')\n",
        "D:\n",
        "Index([u'shopping_pt', u'B', u'C', u'D', u'E', u'total_offers', u'B_purchase', u'C_purchase', u'E_purchase', u'D_change', u'D_var', u'E_var'], dtype='object')\n",
        "E:\n",
        "Index([u'shopping_pt', u'A', u'B', u'D', u'E', u'F', u'total_offers', u'A_purchase', u'B_purchase', u'D_purchase', u'F_purchase', u'A_var'], dtype='object')\n",
        "F:\n",
        "Index([u'A', u'E', u'F', u'total_offers', u'A_init', u'F_init', u'A_purchase', u'E_purchase', u'F_change', u'A_var', u'B_var', u'F_var'], dtype='object')\n",
        "G:\n",
        "Index([u'shopping_pt', u'G', u'total_offers', u'F_init', u'G_init', u'D_purchase', u'E_purchase', u'A_var', u'B_var', u'C_var', u'E_var', u'G_var'], dtype='object')\n",
        "Total features:54\n",
        "Total features:54"
       ]
      },
      {
       "output_type": "stream",
       "stream": "stdout",
       "text": [
        "\n",
        "Total features:54"
       ]
      },
      {
       "output_type": "stream",
       "stream": "stdout",
       "text": [
        "\n",
        "Total features:54"
       ]
      },
      {
       "output_type": "stream",
       "stream": "stdout",
       "text": [
        "\n",
        "Total features:54"
       ]
      },
      {
       "output_type": "stream",
       "stream": "stdout",
       "text": [
        "\n",
        "Total features:54"
       ]
      },
      {
       "output_type": "stream",
       "stream": "stdout",
       "text": [
        "\n",
        "Total features:54"
       ]
      },
      {
       "output_type": "stream",
       "stream": "stdout",
       "text": [
        "\n",
        "# of features:13:"
       ]
      },
      {
       "output_type": "stream",
       "stream": "stdout",
       "text": [
        "\n",
        "A:\n",
        "Index([u'shopping_pt', u'A', u'E', u'F', u'total_offers', u'A_init', u'F_init', u'B_purchase', u'E_purchase', u'F_purchase', u'A_var', u'B_var', u'E_var'], dtype='object')\n",
        "B:\n",
        "Index([u'shopping_pt', u'B', u'D', u'E', u'total_offers', u'B_init', u'E_init', u'D_purchase', u'E_purchase', u'B_change', u'A_var', u'B_var', u'E_var'], dtype='object')\n",
        "C:\n",
        "Index([u'shopping_pt', u'homeowner', u'C_previous', u'B', u'C', u'D', u'total_offers', u'B_purchase', u'D_purchase', u'C_change', u'B_var', u'C_var', u'D_var'], dtype='object')\n",
        "D:\n",
        "Index([u'shopping_pt', u'B', u'C', u'D', u'E', u'total_offers', u'B_purchase', u'C_purchase', u'E_purchase', u'D_change', u'B_var', u'D_var', u'E_var'], dtype='object')\n",
        "E:\n",
        "Index([u'shopping_pt', u'A', u'B', u'D', u'E', u'F', u'total_offers', u'A_purchase', u'B_purchase', u'D_purchase', u'F_purchase', u'A_var', u'E_var'], dtype='object')\n",
        "F:\n",
        "Index([u'shopping_pt', u'A', u'E', u'F', u'total_offers', u'A_init', u'F_init', u'A_purchase', u'E_purchase', u'F_change', u'A_var', u'B_var', u'F_var'], dtype='object')\n",
        "G:\n",
        "Index([u'shopping_pt', u'G', u'total_offers', u'F_init', u'G_init', u'C_purchase', u'D_purchase', u'E_purchase', u'A_var', u'B_var', u'C_var', u'E_var', u'G_var'], dtype='object')\n",
        "Total features:54\n",
        "Total features:54"
       ]
      },
      {
       "output_type": "stream",
       "stream": "stdout",
       "text": [
        "\n",
        "Total features:54"
       ]
      },
      {
       "output_type": "stream",
       "stream": "stdout",
       "text": [
        "\n",
        "Total features:54"
       ]
      },
      {
       "output_type": "stream",
       "stream": "stdout",
       "text": [
        "\n",
        "Total features:54"
       ]
      },
      {
       "output_type": "stream",
       "stream": "stdout",
       "text": [
        "\n",
        "Total features:54"
       ]
      },
      {
       "output_type": "stream",
       "stream": "stdout",
       "text": [
        "\n",
        "Total features:54"
       ]
      },
      {
       "output_type": "stream",
       "stream": "stdout",
       "text": [
        "\n",
        "# of features:14:"
       ]
      },
      {
       "output_type": "stream",
       "stream": "stdout",
       "text": [
        "\n",
        "A:\n",
        "Index([u'shopping_pt', u'A', u'B', u'E', u'F', u'total_offers', u'A_init', u'F_init', u'B_purchase', u'E_purchase', u'F_purchase', u'A_var', u'B_var', u'E_var'], dtype='object')\n",
        "B:\n",
        "Index([u'shopping_pt', u'B', u'D', u'E', u'total_offers', u'B_init', u'E_init', u'A_purchase', u'D_purchase', u'E_purchase', u'B_change', u'A_var', u'B_var', u'E_var'], dtype='object')\n",
        "C:\n",
        "Index([u'shopping_pt', u'homeowner', u'C_previous', u'B', u'C', u'D', u'total_offers', u'C_init', u'B_purchase', u'D_purchase', u'C_change', u'B_var', u'C_var', u'D_var'], dtype='object')\n",
        "D:\n",
        "Index([u'shopping_pt', u'B', u'C', u'D', u'E', u'total_offers', u'D_init', u'B_purchase', u'C_purchase', u'E_purchase', u'D_change', u'B_var', u'D_var', u'E_var'], dtype='object')\n",
        "E:\n",
        "Index([u'shopping_pt', u'A', u'B', u'D', u'E', u'F', u'total_offers', u'A_purchase', u'B_purchase', u'C_purchase', u'D_purchase', u'F_purchase', u'A_var', u'E_var'], dtype='object')\n",
        "F:\n",
        "Index([u'shopping_pt', u'A', u'E', u'F', u'total_offers', u'A_init', u'F_init', u'A_purchase', u'E_purchase', u'A_change', u'F_change', u'A_var', u'B_var', u'F_var'], dtype='object')\n",
        "G:\n",
        "Index([u'shopping_pt', u'G', u'total_offers', u'F_init', u'G_init', u'C_purchase', u'D_purchase', u'E_purchase', u'G_change', u'A_var', u'B_var', u'C_var', u'E_var', u'G_var'], dtype='object')\n",
        "Total features:54\n",
        "Total features:54"
       ]
      },
      {
       "output_type": "stream",
       "stream": "stdout",
       "text": [
        "\n",
        "Total features:54"
       ]
      },
      {
       "output_type": "stream",
       "stream": "stdout",
       "text": [
        "\n",
        "Total features:54"
       ]
      },
      {
       "output_type": "stream",
       "stream": "stdout",
       "text": [
        "\n",
        "Total features:54"
       ]
      },
      {
       "output_type": "stream",
       "stream": "stdout",
       "text": [
        "\n",
        "Total features:54"
       ]
      },
      {
       "output_type": "stream",
       "stream": "stdout",
       "text": [
        "\n",
        "Total features:54"
       ]
      },
      {
       "output_type": "stream",
       "stream": "stdout",
       "text": [
        "\n",
        "# of features:15:"
       ]
      },
      {
       "output_type": "stream",
       "stream": "stdout",
       "text": [
        "\n",
        "A:\n",
        "Index([u'shopping_pt', u'A', u'B', u'E', u'F', u'total_offers', u'A_init', u'F_init', u'B_purchase', u'C_purchase', u'E_purchase', u'F_purchase', u'A_var', u'B_var', u'E_var'], dtype='object')\n",
        "B:\n",
        "Index([u'shopping_pt', u'B', u'D', u'E', u'F', u'total_offers', u'B_init', u'E_init', u'A_purchase', u'D_purchase', u'E_purchase', u'B_change', u'A_var', u'B_var', u'E_var'], dtype='object')\n",
        "C:\n",
        "Index([u'shopping_pt', u'homeowner', u'C_previous', u'B', u'C', u'D', u'total_offers', u'C_init', u'B_purchase', u'D_purchase', u'C_change', u'A_var', u'B_var', u'C_var', u'D_var'], dtype='object')\n",
        "D:\n",
        "Index([u'shopping_pt', u'B', u'C', u'D', u'E', u'total_offers', u'D_init', u'B_purchase', u'C_purchase', u'E_purchase', u'D_change', u'A_var', u'B_var', u'D_var', u'E_var'], dtype='object')\n",
        "E:\n",
        "Index([u'shopping_pt', u'A', u'B', u'C', u'D', u'E', u'F', u'total_offers', u'A_purchase', u'B_purchase', u'C_purchase', u'D_purchase', u'F_purchase', u'A_var', u'E_var'], dtype='object')\n",
        "F:\n",
        "Index([u'shopping_pt', u'A', u'E', u'F', u'total_offers', u'A_init', u'F_init', u'A_purchase', u'E_purchase', u'A_change', u'F_change', u'A_var', u'B_var', u'E_var', u'F_var'], dtype='object')\n",
        "G:\n",
        "Index([u'shopping_pt', u'G', u'total_offers', u'F_init', u'G_init', u'A_purchase', u'C_purchase', u'D_purchase', u'E_purchase', u'G_change', u'A_var', u'B_var', u'C_var', u'E_var', u'G_var'], dtype='object')\n",
        "Total features:54\n",
        "Total features:54"
       ]
      },
      {
       "output_type": "stream",
       "stream": "stdout",
       "text": [
        "\n",
        "Total features:54"
       ]
      },
      {
       "output_type": "stream",
       "stream": "stdout",
       "text": [
        "\n",
        "Total features:54"
       ]
      },
      {
       "output_type": "stream",
       "stream": "stdout",
       "text": [
        "\n",
        "Total features:54"
       ]
      },
      {
       "output_type": "stream",
       "stream": "stdout",
       "text": [
        "\n",
        "Total features:54"
       ]
      },
      {
       "output_type": "stream",
       "stream": "stdout",
       "text": [
        "\n",
        "Total features:54"
       ]
      },
      {
       "output_type": "stream",
       "stream": "stdout",
       "text": [
        "\n",
        "# of features:16:"
       ]
      },
      {
       "output_type": "stream",
       "stream": "stdout",
       "text": [
        "\n",
        "A:\n",
        "Index([u'shopping_pt', u'A', u'B', u'E', u'F', u'total_offers', u'A_init', u'E_init', u'F_init', u'B_purchase', u'C_purchase', u'E_purchase', u'F_purchase', u'A_var', u'B_var', u'E_var'], dtype='object')\n",
        "B:\n",
        "Index([u'shopping_pt', u'B', u'C', u'D', u'E', u'F', u'total_offers', u'B_init', u'E_init', u'A_purchase', u'D_purchase', u'E_purchase', u'B_change', u'A_var', u'B_var', u'E_var'], dtype='object')\n",
        "C:\n",
        "Index([u'shopping_pt', u'homeowner', u'C_previous', u'B', u'C', u'D', u'total_offers', u'C_init', u'B_purchase', u'D_purchase', u'C_change', u'D_change', u'A_var', u'B_var', u'C_var', u'D_var'], dtype='object')\n",
        "D:\n",
        "Index([u'shopping_pt', u'B', u'C', u'D', u'E', u'total_offers', u'D_init', u'B_purchase', u'C_purchase', u'E_purchase', u'G_purchase', u'D_change', u'A_var', u'B_var', u'D_var', u'E_var'], dtype='object')\n",
        "E:\n",
        "Index([u'shopping_pt', u'A', u'B', u'C', u'D', u'E', u'F', u'total_offers', u'A_purchase', u'B_purchase', u'C_purchase', u'D_purchase', u'F_purchase', u'A_var', u'E_var', u'F_var'], dtype='object')\n",
        "F:\n",
        "Index([u'shopping_pt', u'A', u'E', u'F', u'total_offers', u'A_init', u'F_init', u'A_purchase', u'E_purchase', u'G_purchase', u'A_change', u'F_change', u'A_var', u'B_var', u'E_var', u'F_var'], dtype='object')\n",
        "G:\n",
        "Index([u'shopping_pt', u'A', u'G', u'total_offers', u'F_init', u'G_init', u'A_purchase', u'C_purchase', u'D_purchase', u'E_purchase', u'G_change', u'A_var', u'B_var', u'C_var', u'E_var', u'G_var'], dtype='object')\n",
        "Total features:54\n",
        "Total features:54"
       ]
      },
      {
       "output_type": "stream",
       "stream": "stdout",
       "text": [
        "\n",
        "Total features:54"
       ]
      },
      {
       "output_type": "stream",
       "stream": "stdout",
       "text": [
        "\n",
        "Total features:54"
       ]
      },
      {
       "output_type": "stream",
       "stream": "stdout",
       "text": [
        "\n",
        "Total features:54"
       ]
      },
      {
       "output_type": "stream",
       "stream": "stdout",
       "text": [
        "\n",
        "Total features:54"
       ]
      },
      {
       "output_type": "stream",
       "stream": "stdout",
       "text": [
        "\n",
        "Total features:54"
       ]
      },
      {
       "output_type": "stream",
       "stream": "stdout",
       "text": [
        "\n",
        "# of features:17:"
       ]
      },
      {
       "output_type": "stream",
       "stream": "stdout",
       "text": [
        "\n",
        "A:\n",
        "Index([u'shopping_pt', u'A', u'B', u'E', u'F', u'G', u'total_offers', u'A_init', u'E_init', u'F_init', u'B_purchase', u'C_purchase', u'E_purchase', u'F_purchase', u'A_var', u'B_var', u'E_var'], dtype='object')\n",
        "B:\n",
        "Index([u'shopping_pt', u'B', u'C', u'D', u'E', u'F', u'total_offers', u'B_init', u'E_init', u'A_purchase', u'C_purchase', u'D_purchase', u'E_purchase', u'B_change', u'A_var', u'B_var', u'E_var'], dtype='object')\n",
        "C:\n",
        "Index([u'shopping_pt', u'homeowner', u'C_previous', u'B', u'C', u'D', u'total_offers', u'C_init', u'B_purchase', u'D_purchase', u'E_purchase', u'C_change', u'D_change', u'A_var', u'B_var', u'C_var', u'D_var'], dtype='object')\n",
        "D:\n",
        "Index([u'shopping_pt', u'B', u'C', u'D', u'E', u'total_offers', u'C_init', u'D_init', u'B_purchase', u'C_purchase', u'E_purchase', u'G_purchase', u'D_change', u'A_var', u'B_var', u'D_var', u'E_var'], dtype='object')\n",
        "E:\n",
        "Index([u'shopping_pt', u'A', u'B', u'C', u'D', u'E', u'F', u'total_offers', u'B_init', u'A_purchase', u'B_purchase', u'C_purchase', u'D_purchase', u'F_purchase', u'A_var', u'E_var', u'F_var'], dtype='object')\n",
        "F:\n",
        "Index([u'shopping_pt', u'A', u'E', u'F', u'total_offers', u'A_init', u'E_init', u'F_init', u'A_purchase', u'E_purchase', u'G_purchase', u'A_change', u'F_change', u'A_var', u'B_var', u'E_var', u'F_var'], dtype='object')\n",
        "G:\n",
        "Index([u'shopping_pt', u'A', u'B', u'G', u'total_offers', u'F_init', u'G_init', u'A_purchase', u'C_purchase', u'D_purchase', u'E_purchase', u'G_change', u'A_var', u'B_var', u'C_var', u'E_var', u'G_var'], dtype='object')\n",
        "Total features:54\n",
        "Total features:54"
       ]
      },
      {
       "output_type": "stream",
       "stream": "stdout",
       "text": [
        "\n",
        "Total features:54"
       ]
      },
      {
       "output_type": "stream",
       "stream": "stdout",
       "text": [
        "\n",
        "Total features:54"
       ]
      },
      {
       "output_type": "stream",
       "stream": "stdout",
       "text": [
        "\n",
        "Total features:54"
       ]
      },
      {
       "output_type": "stream",
       "stream": "stdout",
       "text": [
        "\n",
        "Total features:54"
       ]
      },
      {
       "output_type": "stream",
       "stream": "stdout",
       "text": [
        "\n",
        "Total features:54"
       ]
      },
      {
       "output_type": "stream",
       "stream": "stdout",
       "text": [
        "\n",
        "# of features:18:"
       ]
      },
      {
       "output_type": "stream",
       "stream": "stdout",
       "text": [
        "\n",
        "A:\n",
        "Index([u'shopping_pt', u'A', u'B', u'E', u'F', u'G', u'total_offers', u'A_init', u'E_init', u'F_init', u'B_purchase', u'C_purchase', u'E_purchase', u'F_purchase', u'G_purchase', u'A_var', u'B_var', u'E_var'], dtype='object')\n",
        "B:\n",
        "Index([u'shopping_pt', u'B', u'C', u'D', u'E', u'F', u'G', u'total_offers', u'B_init', u'E_init', u'A_purchase', u'C_purchase', u'D_purchase', u'E_purchase', u'B_change', u'A_var', u'B_var', u'E_var'], dtype='object')\n",
        "C:\n",
        "Index([u'shopping_pt', u'homeowner', u'C_previous', u'B', u'C', u'D', u'E', u'total_offers', u'C_init', u'B_purchase', u'D_purchase', u'E_purchase', u'C_change', u'D_change', u'A_var', u'B_var', u'C_var', u'D_var'], dtype='object')\n",
        "D:\n",
        "Index([u'shopping_pt', u'B', u'C', u'D', u'E', u'total_offers', u'C_init', u'D_init', u'B_purchase', u'C_purchase', u'E_purchase', u'G_purchase', u'D_change', u'E_change', u'A_var', u'B_var', u'D_var', u'E_var'], dtype='object')\n",
        "E:\n",
        "Index([u'shopping_pt', u'A', u'B', u'C', u'D', u'E', u'F', u'total_offers', u'B_init', u'E_init', u'A_purchase', u'B_purchase', u'C_purchase', u'D_purchase', u'F_purchase', u'A_var', u'E_var', u'F_var'], dtype='object')\n",
        "F:\n",
        "Index([u'shopping_pt', u'A', u'E', u'F', u'total_offers', u'A_init', u'E_init', u'F_init', u'A_purchase', u'D_purchase', u'E_purchase', u'G_purchase', u'A_change', u'F_change', u'A_var', u'B_var', u'E_var', u'F_var'], dtype='object')\n",
        "G:\n",
        "Index([u'shopping_pt', u'A', u'B', u'G', u'total_offers', u'F_init', u'G_init', u'A_purchase', u'B_purchase', u'C_purchase', u'D_purchase', u'E_purchase', u'G_change', u'A_var', u'B_var', u'C_var', u'E_var', u'G_var'], dtype='object')\n",
        "Total features:54\n",
        "Total features:54"
       ]
      },
      {
       "output_type": "stream",
       "stream": "stdout",
       "text": [
        "\n",
        "Total features:54"
       ]
      },
      {
       "output_type": "stream",
       "stream": "stdout",
       "text": [
        "\n",
        "Total features:54"
       ]
      },
      {
       "output_type": "stream",
       "stream": "stdout",
       "text": [
        "\n",
        "Total features:54"
       ]
      },
      {
       "output_type": "stream",
       "stream": "stdout",
       "text": [
        "\n",
        "Total features:54"
       ]
      },
      {
       "output_type": "stream",
       "stream": "stdout",
       "text": [
        "\n",
        "Total features:54"
       ]
      },
      {
       "output_type": "stream",
       "stream": "stdout",
       "text": [
        "\n",
        "# of features:19:"
       ]
      },
      {
       "output_type": "stream",
       "stream": "stdout",
       "text": [
        "\n",
        "A:\n",
        "Index([u'shopping_pt', u'A', u'B', u'E', u'F', u'G', u'total_offers', u'A_init', u'E_init', u'F_init', u'B_purchase', u'C_purchase', u'E_purchase', u'F_purchase', u'G_purchase', u'F_change', u'A_var', u'B_var', u'E_var'], dtype='object')\n",
        "B:\n",
        "Index([u'shopping_pt', u'B', u'C', u'D', u'E', u'F', u'G', u'total_offers', u'B_init', u'E_init', u'A_purchase', u'C_purchase', u'D_purchase', u'E_purchase', u'B_change', u'A_var', u'B_var', u'C_var', u'E_var'], dtype='object')\n",
        "C:\n",
        "Index([u'shopping_pt', u'homeowner', u'C_previous', u'B', u'C', u'D', u'E', u'total_offers', u'C_init', u'B_purchase', u'D_purchase', u'E_purchase', u'C_change', u'D_change', u'A_var', u'B_var', u'C_var', u'D_var', u'E_var'], dtype='object')\n",
        "D:\n",
        "Index([u'shopping_pt', u'B', u'C', u'D', u'E', u'total_offers', u'B_init', u'C_init', u'D_init', u'B_purchase', u'C_purchase', u'E_purchase', u'G_purchase', u'D_change', u'E_change', u'A_var', u'B_var', u'D_var', u'E_var'], dtype='object')\n",
        "E:\n",
        "Index([u'shopping_pt', u'A', u'B', u'C', u'D', u'E', u'F', u'total_offers', u'B_init', u'E_init', u'A_purchase', u'B_purchase', u'C_purchase', u'D_purchase', u'F_purchase', u'A_var', u'C_var', u'E_var', u'F_var'], dtype='object')\n",
        "F:\n",
        "Index([u'shopping_pt', u'A', u'D', u'E', u'F', u'total_offers', u'A_init', u'E_init', u'F_init', u'A_purchase', u'D_purchase', u'E_purchase', u'G_purchase', u'A_change', u'F_change', u'A_var', u'B_var', u'E_var', u'F_var'], dtype='object')\n",
        "G:\n",
        "Index([u'shopping_pt', u'A', u'B', u'F', u'G', u'total_offers', u'F_init', u'G_init', u'A_purchase', u'B_purchase', u'C_purchase', u'D_purchase', u'E_purchase', u'G_change', u'A_var', u'B_var', u'C_var', u'E_var', u'G_var'], dtype='object')\n",
        "Total features:54\n",
        "Total features:54"
       ]
      },
      {
       "output_type": "stream",
       "stream": "stdout",
       "text": [
        "\n",
        "Total features:54"
       ]
      },
      {
       "output_type": "stream",
       "stream": "stdout",
       "text": [
        "\n",
        "Total features:54"
       ]
      },
      {
       "output_type": "stream",
       "stream": "stdout",
       "text": [
        "\n",
        "Total features:54"
       ]
      },
      {
       "output_type": "stream",
       "stream": "stdout",
       "text": [
        "\n",
        "Total features:54"
       ]
      },
      {
       "output_type": "stream",
       "stream": "stdout",
       "text": [
        "\n",
        "Total features:54"
       ]
      },
      {
       "output_type": "stream",
       "stream": "stdout",
       "text": [
        "\n",
        "# of features:20:"
       ]
      },
      {
       "output_type": "stream",
       "stream": "stdout",
       "text": [
        "\n",
        "A:\n",
        "Index([u'shopping_pt', u'A', u'B', u'E', u'F', u'G', u'total_offers', u'A_init', u'E_init', u'F_init', u'B_purchase', u'C_purchase', u'E_purchase', u'F_purchase', u'G_purchase', u'F_change', u'A_var', u'B_var', u'E_var', u'F_var'], dtype='object')\n",
        "B:\n",
        "Index([u'shopping_pt', u'B', u'C', u'D', u'E', u'F', u'G', u'total_offers', u'B_init', u'E_init', u'A_purchase', u'C_purchase', u'D_purchase', u'E_purchase', u'G_purchase', u'B_change', u'A_var', u'B_var', u'C_var', u'E_var'], dtype='object')\n",
        "C:\n",
        "Index([u'shopping_pt', u'homeowner', u'married_couple', u'C_previous', u'B', u'C', u'D', u'E', u'total_offers', u'C_init', u'B_purchase', u'D_purchase', u'E_purchase', u'C_change', u'D_change', u'A_var', u'B_var', u'C_var', u'D_var', u'E_var'], dtype='object')\n",
        "D:\n",
        "Index([u'shopping_pt', u'B', u'C', u'D', u'E', u'total_offers', u'B_init', u'C_init', u'D_init', u'A_purchase', u'B_purchase', u'C_purchase', u'E_purchase', u'G_purchase', u'D_change', u'E_change', u'A_var', u'B_var', u'D_var', u'E_var'], dtype='object')\n",
        "E:\n",
        "Index([u'shopping_pt', u'A', u'B', u'C', u'D', u'E', u'F', u'total_offers', u'B_init', u'C_init', u'E_init', u'A_purchase', u'B_purchase', u'C_purchase', u'D_purchase', u'F_purchase', u'A_var', u'C_var', u'E_var', u'F_var'], dtype='object')\n",
        "F:\n",
        "Index([u'shopping_pt', u'A', u'D', u'E', u'F', u'total_offers', u'A_init', u'E_init', u'F_init', u'A_purchase', u'D_purchase', u'E_purchase', u'G_purchase', u'A_change', u'F_change', u'A_var', u'B_var', u'C_var', u'E_var', u'F_var'], dtype='object')\n",
        "G:\n",
        "Index([u'shopping_pt', u'A', u'B', u'C', u'F', u'G', u'total_offers', u'F_init', u'G_init', u'A_purchase', u'B_purchase', u'C_purchase', u'D_purchase', u'E_purchase', u'G_change', u'A_var', u'B_var', u'C_var', u'E_var', u'G_var'], dtype='object')\n",
        "Total features:54\n",
        "Total features:54"
       ]
      },
      {
       "output_type": "stream",
       "stream": "stdout",
       "text": [
        "\n",
        "Total features:54"
       ]
      },
      {
       "output_type": "stream",
       "stream": "stdout",
       "text": [
        "\n",
        "Total features:54"
       ]
      },
      {
       "output_type": "stream",
       "stream": "stdout",
       "text": [
        "\n",
        "Total features:54"
       ]
      },
      {
       "output_type": "stream",
       "stream": "stdout",
       "text": [
        "\n",
        "Total features:54"
       ]
      },
      {
       "output_type": "stream",
       "stream": "stdout",
       "text": [
        "\n",
        "Total features:54"
       ]
      },
      {
       "output_type": "stream",
       "stream": "stdout",
       "text": [
        "\n",
        "# of features:21:"
       ]
      },
      {
       "output_type": "stream",
       "stream": "stdout",
       "text": [
        "\n",
        "A:\n",
        "Index([u'shopping_pt', u'A', u'B', u'E', u'F', u'G', u'total_offers', u'A_init', u'E_init', u'F_init', u'B_purchase', u'C_purchase', u'E_purchase', u'F_purchase', u'G_purchase', u'A_change', u'F_change', u'A_var', u'B_var', u'E_var', u'F_var'], dtype='object')\n",
        "B:\n",
        "Index([u'shopping_pt', u'C_previous', u'B', u'C', u'D', u'E', u'F', u'G', u'total_offers', u'B_init', u'E_init', u'A_purchase', u'C_purchase', u'D_purchase', u'E_purchase', u'G_purchase', u'B_change', u'A_var', u'B_var', u'C_var', u'E_var'], dtype='object')\n",
        "C:\n",
        "Index([u'shopping_pt', u'homeowner', u'married_couple', u'C_previous', u'B', u'C', u'D', u'E', u'total_offers', u'C_init', u'D_init', u'B_purchase', u'D_purchase', u'E_purchase', u'C_change', u'D_change', u'A_var', u'B_var', u'C_var', u'D_var', u'E_var'], dtype='object')\n",
        "D:\n",
        "Index([u'shopping_pt', u'A', u'B', u'C', u'D', u'E', u'total_offers', u'B_init', u'C_init', u'D_init', u'A_purchase', u'B_purchase', u'C_purchase', u'E_purchase', u'G_purchase', u'D_change', u'E_change', u'A_var', u'B_var', u'D_var', u'E_var'], dtype='object')\n",
        "E:\n",
        "Index([u'shopping_pt', u'A', u'B', u'C', u'D', u'E', u'F', u'total_offers', u'B_init', u'C_init', u'E_init', u'A_purchase', u'B_purchase', u'C_purchase', u'D_purchase', u'F_purchase', u'E_change', u'A_var', u'C_var', u'E_var', u'F_var'], dtype='object')\n",
        "F:\n",
        "Index([u'shopping_pt', u'A', u'D', u'E', u'F', u'G', u'total_offers', u'A_init', u'E_init', u'F_init', u'A_purchase', u'D_purchase', u'E_purchase', u'G_purchase', u'A_change', u'F_change', u'A_var', u'B_var', u'C_var', u'E_var', u'F_var'], dtype='object')\n",
        "G:\n",
        "Index([u'shopping_pt', u'A', u'B', u'C', u'F', u'G', u'total_offers', u'F_init', u'G_init', u'A_purchase', u'B_purchase', u'C_purchase', u'D_purchase', u'E_purchase', u'F_purchase', u'G_change', u'A_var', u'B_var', u'C_var', u'E_var', u'G_var'], dtype='object')\n",
        "Total features:54\n",
        "Total features:54"
       ]
      },
      {
       "output_type": "stream",
       "stream": "stdout",
       "text": [
        "\n",
        "Total features:54"
       ]
      },
      {
       "output_type": "stream",
       "stream": "stdout",
       "text": [
        "\n",
        "Total features:54"
       ]
      },
      {
       "output_type": "stream",
       "stream": "stdout",
       "text": [
        "\n",
        "Total features:54"
       ]
      },
      {
       "output_type": "stream",
       "stream": "stdout",
       "text": [
        "\n",
        "Total features:54"
       ]
      },
      {
       "output_type": "stream",
       "stream": "stdout",
       "text": [
        "\n",
        "Total features:54"
       ]
      },
      {
       "output_type": "stream",
       "stream": "stdout",
       "text": [
        "\n",
        "# of features:22:"
       ]
      },
      {
       "output_type": "stream",
       "stream": "stdout",
       "text": [
        "\n",
        "A:\n",
        "Index([u'shopping_pt', u'A', u'B', u'E', u'F', u'G', u'total_offers', u'A_init', u'E_init', u'F_init', u'B_purchase', u'C_purchase', u'D_purchase', u'E_purchase', u'F_purchase', u'G_purchase', u'A_change', u'F_change', u'A_var', u'B_var', u'E_var', u'F_var'], dtype='object')\n",
        "B:\n",
        "Index([u'shopping_pt', u'C_previous', u'B', u'C', u'D', u'E', u'F', u'G', u'total_offers', u'B_init', u'E_init', u'A_purchase', u'C_purchase', u'D_purchase', u'E_purchase', u'G_purchase', u'B_change', u'G_change', u'A_var', u'B_var', u'C_var', u'E_var'], dtype='object')\n",
        "C:\n",
        "Index([u'shopping_pt', u'homeowner', u'married_couple', u'C_previous', u'B', u'C', u'D', u'E', u'total_offers', u'C_init', u'D_init', u'B_purchase', u'D_purchase', u'E_purchase', u'C_change', u'D_change', u'A_var', u'B_var', u'C_var', u'D_var', u'E_var', u'F_var'], dtype='object')\n",
        "D:\n",
        "Index([u'shopping_pt', u'A', u'B', u'C', u'D', u'E', u'total_offers', u'B_init', u'C_init', u'D_init', u'A_purchase', u'B_purchase', u'C_purchase', u'E_purchase', u'G_purchase', u'D_change', u'E_change', u'A_var', u'B_var', u'D_var', u'E_var', u'F_var'], dtype='object')\n",
        "E:\n",
        "Index([u'shopping_pt', u'A', u'B', u'C', u'D', u'E', u'F', u'total_offers', u'B_init', u'C_init', u'E_init', u'A_purchase', u'B_purchase', u'C_purchase', u'D_purchase', u'F_purchase', u'G_purchase', u'E_change', u'A_var', u'C_var', u'E_var', u'F_var'], dtype='object')\n",
        "F:\n",
        "Index([u'shopping_pt', u'A', u'D', u'E', u'F', u'G', u'total_offers', u'A_init', u'E_init', u'F_init', u'A_purchase', u'B_purchase', u'D_purchase', u'E_purchase', u'G_purchase', u'A_change', u'F_change', u'A_var', u'B_var', u'C_var', u'E_var', u'F_var'], dtype='object')\n",
        "G:\n",
        "Index([u'shopping_pt', u'A', u'B', u'C', u'E', u'F', u'G', u'total_offers', u'F_init', u'G_init', u'A_purchase', u'B_purchase', u'C_purchase', u'D_purchase', u'E_purchase', u'F_purchase', u'G_change', u'A_var', u'B_var', u'C_var', u'E_var', u'G_var'], dtype='object')\n",
        "Total features:54\n",
        "Total features:54"
       ]
      },
      {
       "output_type": "stream",
       "stream": "stdout",
       "text": [
        "\n",
        "Total features:54"
       ]
      },
      {
       "output_type": "stream",
       "stream": "stdout",
       "text": [
        "\n",
        "Total features:54"
       ]
      },
      {
       "output_type": "stream",
       "stream": "stdout",
       "text": [
        "\n",
        "Total features:54"
       ]
      },
      {
       "output_type": "stream",
       "stream": "stdout",
       "text": [
        "\n",
        "Total features:54"
       ]
      },
      {
       "output_type": "stream",
       "stream": "stdout",
       "text": [
        "\n",
        "Total features:54"
       ]
      },
      {
       "output_type": "stream",
       "stream": "stdout",
       "text": [
        "\n",
        "# of features:23:"
       ]
      },
      {
       "output_type": "stream",
       "stream": "stdout",
       "text": [
        "\n",
        "A:\n",
        "Index([u'shopping_pt', u'A', u'B', u'D', u'E', u'F', u'G', u'total_offers', u'A_init', u'E_init', u'F_init', u'B_purchase', u'C_purchase', u'D_purchase', u'E_purchase', u'F_purchase', u'G_purchase', u'A_change', u'F_change', u'A_var', u'B_var', u'E_var', u'F_var'], dtype='object')\n",
        "B:\n",
        "Index([u'shopping_pt', u'married_couple', u'C_previous', u'B', u'C', u'D', u'E', u'F', u'G', u'total_offers', u'B_init', u'E_init', u'A_purchase', u'C_purchase', u'D_purchase', u'E_purchase', u'G_purchase', u'B_change', u'G_change', u'A_var', u'B_var', u'C_var', u'E_var'], dtype='object')\n",
        "C:\n",
        "Index([u'shopping_pt', u'homeowner', u'married_couple', u'C_previous', u'B', u'C', u'D', u'E', u'total_offers', u'C_init', u'D_init', u'E_init', u'B_purchase', u'D_purchase', u'E_purchase', u'C_change', u'D_change', u'A_var', u'B_var', u'C_var', u'D_var', u'E_var', u'F_var'], dtype='object')\n",
        "D:\n",
        "Index([u'shopping_pt', u'A', u'B', u'C', u'D', u'E', u'total_offers', u'B_init', u'C_init', u'D_init', u'A_purchase', u'B_purchase', u'C_purchase', u'E_purchase', u'G_purchase', u'C_change', u'D_change', u'E_change', u'A_var', u'B_var', u'D_var', u'E_var', u'F_var'], dtype='object')\n",
        "E:\n",
        "Index([u'shopping_pt', u'A', u'B', u'C', u'D', u'E', u'F', u'G', u'total_offers', u'B_init', u'C_init', u'E_init', u'A_purchase', u'B_purchase', u'C_purchase', u'D_purchase', u'F_purchase', u'G_purchase', u'E_change', u'A_var', u'C_var', u'E_var', u'F_var'], dtype='object')\n",
        "F:\n",
        "Index([u'shopping_pt', u'A', u'B', u'D', u'E', u'F', u'G', u'total_offers', u'A_init', u'E_init', u'F_init', u'A_purchase', u'B_purchase', u'D_purchase', u'E_purchase', u'G_purchase', u'A_change', u'F_change', u'A_var', u'B_var', u'C_var', u'E_var', u'F_var'], dtype='object')\n",
        "G:\n",
        "Index([u'shopping_pt', u'homeowner', u'A', u'B', u'C', u'E', u'F', u'G', u'total_offers', u'F_init', u'G_init', u'A_purchase', u'B_purchase', u'C_purchase', u'D_purchase', u'E_purchase', u'F_purchase', u'G_change', u'A_var', u'B_var', u'C_var', u'E_var', u'G_var'], dtype='object')\n",
        "Total features:54\n",
        "Total features:54"
       ]
      },
      {
       "output_type": "stream",
       "stream": "stdout",
       "text": [
        "\n",
        "Total features:54"
       ]
      },
      {
       "output_type": "stream",
       "stream": "stdout",
       "text": [
        "\n",
        "Total features:54"
       ]
      },
      {
       "output_type": "stream",
       "stream": "stdout",
       "text": [
        "\n",
        "Total features:54"
       ]
      },
      {
       "output_type": "stream",
       "stream": "stdout",
       "text": [
        "\n",
        "Total features:54"
       ]
      },
      {
       "output_type": "stream",
       "stream": "stdout",
       "text": [
        "\n",
        "Total features:54"
       ]
      },
      {
       "output_type": "stream",
       "stream": "stdout",
       "text": [
        "\n",
        "# of features:24:"
       ]
      },
      {
       "output_type": "stream",
       "stream": "stdout",
       "text": [
        "\n",
        "A:\n",
        "Index([u'shopping_pt', u'homeowner', u'A', u'B', u'D', u'E', u'F', u'G', u'total_offers', u'A_init', u'E_init', u'F_init', u'B_purchase', u'C_purchase', u'D_purchase', u'E_purchase', u'F_purchase', u'G_purchase', u'A_change', u'F_change', u'A_var', u'B_var', u'E_var', u'F_var'], dtype='object')\n",
        "B:\n",
        "Index([u'shopping_pt', u'group_size', u'married_couple', u'C_previous', u'B', u'C', u'D', u'E', u'F', u'G', u'total_offers', u'B_init', u'E_init', u'A_purchase', u'C_purchase', u'D_purchase', u'E_purchase', u'G_purchase', u'B_change', u'G_change', u'A_var', u'B_var', u'C_var', u'E_var'], dtype='object')\n",
        "C:\n",
        "Index([u'shopping_pt', u'homeowner', u'married_couple', u'C_previous', u'B', u'C', u'D', u'E', u'total_offers', u'C_init', u'D_init', u'E_init', u'B_purchase', u'D_purchase', u'E_purchase', u'B_change', u'C_change', u'D_change', u'A_var', u'B_var', u'C_var', u'D_var', u'E_var', u'F_var'], dtype='object')\n",
        "D:\n",
        "Index([u'shopping_pt', u'A', u'B', u'C', u'D', u'E', u'total_offers', u'B_init', u'C_init', u'D_init', u'A_purchase', u'B_purchase', u'C_purchase', u'E_purchase', u'G_purchase', u'B_change', u'C_change', u'D_change', u'E_change', u'A_var', u'B_var', u'D_var', u'E_var', u'F_var'], dtype='object')\n",
        "E:\n",
        "Index([u'shopping_pt', u'homeowner', u'A', u'B', u'C', u'D', u'E', u'F', u'G', u'total_offers', u'B_init', u'C_init', u'E_init', u'A_purchase', u'B_purchase', u'C_purchase', u'D_purchase', u'F_purchase', u'G_purchase', u'E_change', u'A_var', u'C_var', u'E_var', u'F_var'], dtype='object')\n",
        "F:\n",
        "Index([u'shopping_pt', u'A', u'B', u'D', u'E', u'F', u'G', u'total_offers', u'A_init', u'B_init', u'E_init', u'F_init', u'A_purchase', u'B_purchase', u'D_purchase', u'E_purchase', u'G_purchase', u'A_change', u'F_change', u'A_var', u'B_var', u'C_var', u'E_var', u'F_var'], dtype='object')\n",
        "G:\n",
        "Index([u'shopping_pt', u'homeowner', u'A', u'B', u'C', u'E', u'F', u'G', u'total_offers', u'A_init', u'F_init', u'G_init', u'A_purchase', u'B_purchase', u'C_purchase', u'D_purchase', u'E_purchase', u'F_purchase', u'G_change', u'A_var', u'B_var', u'C_var', u'E_var', u'G_var'], dtype='object')\n",
        "Total features:54\n",
        "Total features:54"
       ]
      },
      {
       "output_type": "stream",
       "stream": "stdout",
       "text": [
        "\n",
        "Total features:54"
       ]
      },
      {
       "output_type": "stream",
       "stream": "stdout",
       "text": [
        "\n",
        "Total features:54"
       ]
      },
      {
       "output_type": "stream",
       "stream": "stdout",
       "text": [
        "\n",
        "Total features:54"
       ]
      },
      {
       "output_type": "stream",
       "stream": "stdout",
       "text": [
        "\n",
        "Total features:54"
       ]
      },
      {
       "output_type": "stream",
       "stream": "stdout",
       "text": [
        "\n",
        "Total features:54"
       ]
      },
      {
       "output_type": "stream",
       "stream": "stdout",
       "text": [
        "\n",
        "# of features:25:"
       ]
      },
      {
       "output_type": "stream",
       "stream": "stdout",
       "text": [
        "\n",
        "A:\n",
        "Index([u'shopping_pt', u'homeowner', u'A', u'B', u'D', u'E', u'F', u'G', u'total_offers', u'A_init', u'B_init', u'E_init', u'F_init', u'B_purchase', u'C_purchase', u'D_purchase', u'E_purchase', u'F_purchase', u'G_purchase', u'A_change', u'F_change', u'A_var', u'B_var', u'E_var', u'F_var'], dtype='object')\n",
        "B:\n",
        "Index([u'shopping_pt', u'group_size', u'married_couple', u'C_previous', u'B', u'C', u'D', u'E', u'F', u'G', u'total_offers', u'B_init', u'E_init', u'A_purchase', u'C_purchase', u'D_purchase', u'E_purchase', u'G_purchase', u'B_change', u'G_change', u'A_var', u'B_var', u'C_var', u'D_var', u'E_var'], dtype='object')\n",
        "C:\n",
        "Index([u'shopping_pt', u'homeowner', u'married_couple', u'C_previous', u'B', u'C', u'D', u'E', u'G', u'total_offers', u'C_init', u'D_init', u'E_init', u'B_purchase', u'D_purchase', u'E_purchase', u'G_purchase', u'C_change', u'D_change', u'A_var', u'B_var', u'C_var', u'D_var', u'E_var', u'F_var'], dtype='object')\n",
        "D:\n",
        "Index([u'shopping_pt', u'married_couple', u'A', u'B', u'C', u'D', u'E', u'total_offers', u'B_init', u'C_init', u'D_init', u'A_purchase', u'B_purchase', u'C_purchase', u'E_purchase', u'G_purchase', u'B_change', u'C_change', u'D_change', u'E_change', u'A_var', u'B_var', u'D_var', u'E_var', u'F_var'], dtype='object')\n",
        "E:\n",
        "Index([u'shopping_pt', u'homeowner', u'A', u'B', u'C', u'D', u'E', u'F', u'G', u'total_offers', u'B_init', u'C_init', u'E_init', u'A_purchase', u'B_purchase', u'C_purchase', u'D_purchase', u'F_purchase', u'G_purchase', u'A_change', u'E_change', u'A_var', u'C_var', u'E_var', u'F_var'], dtype='object')\n",
        "F:\n",
        "Index([u'shopping_pt', u'A', u'B', u'D', u'E', u'F', u'G', u'total_offers', u'A_init', u'B_init', u'E_init', u'F_init', u'A_purchase', u'B_purchase', u'D_purchase', u'E_purchase', u'G_purchase', u'A_change', u'F_change', u'A_var', u'B_var', u'C_var', u'E_var', u'F_var', u'G_var'], dtype='object')\n",
        "G:\n",
        "Index([u'shopping_pt', u'homeowner', u'A', u'B', u'C', u'E', u'F', u'G', u'total_offers', u'A_init', u'F_init', u'G_init', u'A_purchase', u'B_purchase', u'C_purchase', u'D_purchase', u'E_purchase', u'F_purchase', u'E_change', u'G_change', u'A_var', u'B_var', u'C_var', u'E_var', u'G_var'], dtype='object')\n",
        "Total features:54\n",
        "Total features:54"
       ]
      },
      {
       "output_type": "stream",
       "stream": "stdout",
       "text": [
        "\n",
        "Total features:54"
       ]
      },
      {
       "output_type": "stream",
       "stream": "stdout",
       "text": [
        "\n",
        "Total features:54"
       ]
      },
      {
       "output_type": "stream",
       "stream": "stdout",
       "text": [
        "\n",
        "Total features:54"
       ]
      },
      {
       "output_type": "stream",
       "stream": "stdout",
       "text": [
        "\n",
        "Total features:54"
       ]
      },
      {
       "output_type": "stream",
       "stream": "stdout",
       "text": [
        "\n",
        "Total features:54"
       ]
      },
      {
       "output_type": "stream",
       "stream": "stdout",
       "text": [
        "\n",
        "# of features:26:"
       ]
      },
      {
       "output_type": "stream",
       "stream": "stdout",
       "text": [
        "\n",
        "A:\n",
        "Index([u'shopping_pt', u'homeowner', u'A', u'B', u'D', u'E', u'F', u'G', u'total_offers', u'A_init', u'B_init', u'E_init', u'F_init', u'B_purchase', u'C_purchase', u'D_purchase', u'E_purchase', u'F_purchase', u'G_purchase', u'A_change', u'B_change', u'F_change', u'A_var', u'B_var', u'E_var', u'F_var'], dtype='object')\n",
        "B:\n",
        "Index([u'shopping_pt', u'group_size', u'married_couple', u'C_previous', u'B', u'C', u'D', u'E', u'F', u'G', u'total_offers', u'B_init', u'E_init', u'A_purchase', u'C_purchase', u'D_purchase', u'E_purchase', u'G_purchase', u'B_change', u'F_change', u'G_change', u'A_var', u'B_var', u'C_var', u'D_var', u'E_var'], dtype='object')\n",
        "C:\n",
        "Index([u'shopping_pt', u'homeowner', u'married_couple', u'C_previous', u'B', u'C', u'D', u'E', u'G', u'total_offers', u'C_init', u'D_init', u'E_init', u'B_purchase', u'D_purchase', u'E_purchase', u'G_purchase', u'C_change', u'D_change', u'E_change', u'A_var', u'B_var', u'C_var', u'D_var', u'E_var', u'F_var'], dtype='object')\n",
        "D:\n",
        "Index([u'shopping_pt', u'married_couple', u'A', u'B', u'C', u'D', u'E', u'G', u'total_offers', u'B_init', u'C_init', u'D_init', u'A_purchase', u'B_purchase', u'C_purchase', u'E_purchase', u'G_purchase', u'B_change', u'C_change', u'D_change', u'E_change', u'A_var', u'B_var', u'D_var', u'E_var', u'F_var'], dtype='object')\n",
        "E:\n",
        "Index([u'shopping_pt', u'homeowner', u'A', u'B', u'C', u'D', u'E', u'F', u'G', u'total_offers', u'B_init', u'C_init', u'E_init', u'A_purchase', u'B_purchase', u'C_purchase', u'D_purchase', u'F_purchase', u'G_purchase', u'A_change', u'D_change', u'E_change', u'A_var', u'C_var', u'E_var', u'F_var'], dtype='object')\n",
        "F:\n",
        "Index([u'shopping_pt', u'A', u'B', u'D', u'E', u'F', u'G', u'total_offers', u'A_init', u'B_init', u'E_init', u'F_init', u'A_purchase', u'B_purchase', u'D_purchase', u'E_purchase', u'G_purchase', u'A_change', u'F_change', u'A_var', u'B_var', u'C_var', u'D_var', u'E_var', u'F_var', u'G_var'], dtype='object')\n",
        "G:\n",
        "Index([u'shopping_pt', u'homeowner', u'A', u'B', u'C', u'E', u'F', u'G', u'total_offers', u'A_init', u'F_init', u'G_init', u'A_purchase', u'B_purchase', u'C_purchase', u'D_purchase', u'E_purchase', u'F_purchase', u'A_change', u'E_change', u'G_change', u'A_var', u'B_var', u'C_var', u'E_var', u'G_var'], dtype='object')\n",
        "Total features:54\n",
        "Total features:54"
       ]
      },
      {
       "output_type": "stream",
       "stream": "stdout",
       "text": [
        "\n",
        "Total features:54"
       ]
      },
      {
       "output_type": "stream",
       "stream": "stdout",
       "text": [
        "\n",
        "Total features:54"
       ]
      },
      {
       "output_type": "stream",
       "stream": "stdout",
       "text": [
        "\n",
        "Total features:54"
       ]
      },
      {
       "output_type": "stream",
       "stream": "stdout",
       "text": [
        "\n",
        "Total features:54"
       ]
      },
      {
       "output_type": "stream",
       "stream": "stdout",
       "text": [
        "\n",
        "Total features:54"
       ]
      },
      {
       "output_type": "stream",
       "stream": "stdout",
       "text": [
        "\n",
        "# of features:27:"
       ]
      },
      {
       "output_type": "stream",
       "stream": "stdout",
       "text": [
        "\n",
        "A:\n",
        "Index([u'shopping_pt', u'homeowner', u'A', u'B', u'D', u'E', u'F', u'G', u'total_offers', u'A_init', u'B_init', u'E_init', u'F_init', u'B_purchase', u'C_purchase', u'D_purchase', u'E_purchase', u'F_purchase', u'G_purchase', u'A_change', u'B_change', u'F_change', u'A_var', u'B_var', u'D_var', u'E_var', u'F_var'], dtype='object')\n",
        "B:\n",
        "Index([u'shopping_pt', u'group_size', u'homeowner', u'married_couple', u'C_previous', u'B', u'C', u'D', u'E', u'F', u'G', u'total_offers', u'B_init', u'E_init', u'A_purchase', u'C_purchase', u'D_purchase', u'E_purchase', u'G_purchase', u'A_change', u'B_change', u'F_change', u'G_change', u'C_var', u'D_var', u'E_var', u'F_var'], dtype='object')\n",
        "C:\n",
        "Index([u'shopping_pt', u'homeowner', u'married_couple', u'C_previous', u'B', u'C', u'D', u'E', u'G', u'total_offers', u'C_init', u'D_init', u'E_init', u'B_purchase', u'D_purchase', u'E_purchase', u'G_purchase', u'C_change', u'D_change', u'E_change', u'A_var', u'B_var', u'C_var', u'D_var', u'E_var', u'F_var', u'G_var'], dtype='object')\n",
        "D:\n",
        "Index([u'shopping_pt', u'married_couple', u'A', u'B', u'C', u'D', u'E', u'G', u'total_offers', u'B_init', u'C_init', u'D_init', u'A_purchase', u'B_purchase', u'C_purchase', u'E_purchase', u'G_purchase', u'B_change', u'C_change', u'D_change', u'E_change', u'A_var', u'B_var', u'C_var', u'D_var', u'E_var', u'F_var'], dtype='object')\n",
        "E:\n",
        "Index([u'shopping_pt', u'homeowner', u'A', u'B', u'C', u'D', u'E', u'F', u'G', u'total_offers', u'B_init', u'C_init', u'E_init', u'A_purchase', u'B_purchase', u'C_purchase', u'D_purchase', u'F_purchase', u'G_purchase', u'A_change', u'B_change', u'D_change', u'E_change', u'A_var', u'C_var', u'E_var', u'F_var'], dtype='object')\n",
        "F:\n",
        "Index([u'shopping_pt', u'A', u'B', u'D', u'E', u'F', u'G', u'total_offers', u'A_init', u'B_init', u'E_init', u'F_init', u'A_purchase', u'B_purchase', u'D_purchase', u'E_purchase', u'G_purchase', u'A_change', u'E_change', u'F_change', u'A_var', u'B_var', u'C_var', u'D_var', u'E_var', u'F_var', u'G_var'], dtype='object')\n",
        "G:\n",
        "Index([u'shopping_pt', u'homeowner', u'married_couple', u'A', u'B', u'C', u'E', u'F', u'G', u'total_offers', u'A_init', u'F_init', u'G_init', u'A_purchase', u'B_purchase', u'C_purchase', u'D_purchase', u'E_purchase', u'F_purchase', u'A_change', u'E_change', u'G_change', u'A_var', u'B_var', u'C_var', u'E_var', u'G_var'], dtype='object')\n",
        "Total features:54\n",
        "Total features:54"
       ]
      },
      {
       "output_type": "stream",
       "stream": "stdout",
       "text": [
        "\n",
        "Total features:54"
       ]
      },
      {
       "output_type": "stream",
       "stream": "stdout",
       "text": [
        "\n",
        "Total features:54"
       ]
      },
      {
       "output_type": "stream",
       "stream": "stdout",
       "text": [
        "\n",
        "Total features:54"
       ]
      },
      {
       "output_type": "stream",
       "stream": "stdout",
       "text": [
        "\n",
        "Total features:54"
       ]
      },
      {
       "output_type": "stream",
       "stream": "stdout",
       "text": [
        "\n",
        "Total features:54"
       ]
      },
      {
       "output_type": "stream",
       "stream": "stdout",
       "text": [
        "\n",
        "# of features:28:"
       ]
      },
      {
       "output_type": "stream",
       "stream": "stdout",
       "text": [
        "\n",
        "A:\n",
        "Index([u'shopping_pt', u'homeowner', u'A', u'B', u'D', u'E', u'F', u'G', u'total_offers', u'A_init', u'B_init', u'E_init', u'F_init', u'B_purchase', u'C_purchase', u'D_purchase', u'E_purchase', u'F_purchase', u'G_purchase', u'A_change', u'B_change', u'F_change', u'A_var', u'B_var', u'C_var', u'D_var', u'E_var', u'F_var'], dtype='object')\n",
        "B:\n",
        "Index([u'shopping_pt', u'group_size', u'homeowner', u'married_couple', u'C_previous', u'B', u'C', u'D', u'E', u'F', u'G', u'total_offers', u'B_init', u'E_init', u'A_purchase', u'C_purchase', u'D_purchase', u'E_purchase', u'G_purchase', u'B_change', u'F_change', u'G_change', u'A_var', u'B_var', u'C_var', u'D_var', u'E_var', u'F_var'], dtype='object')\n",
        "C:\n",
        "Index([u'shopping_pt', u'homeowner', u'married_couple', u'C_previous', u'B', u'C', u'D', u'E', u'G', u'total_offers', u'C_init', u'D_init', u'E_init', u'B_purchase', u'D_purchase', u'E_purchase', u'G_purchase', u'B_change', u'C_change', u'D_change', u'E_change', u'A_var', u'B_var', u'C_var', u'D_var', u'E_var', u'F_var', u'G_var'], dtype='object')\n",
        "D:\n",
        "Index([u'shopping_pt', u'married_couple', u'A', u'B', u'C', u'D', u'E', u'G', u'total_offers', u'B_init', u'C_init', u'D_init', u'A_purchase', u'B_purchase', u'C_purchase', u'E_purchase', u'G_purchase', u'A_change', u'B_change', u'C_change', u'D_change', u'E_change', u'A_var', u'B_var', u'C_var', u'D_var', u'E_var', u'F_var'], dtype='object')\n",
        "E:\n",
        "Index([u'shopping_pt', u'homeowner', u'A', u'B', u'C', u'D', u'E', u'F', u'G', u'total_offers', u'B_init', u'C_init', u'E_init', u'A_purchase', u'B_purchase', u'C_purchase', u'D_purchase', u'F_purchase', u'G_purchase', u'A_change', u'B_change', u'D_change', u'E_change', u'A_var', u'C_var', u'D_var', u'E_var', u'F_var'], dtype='object')\n",
        "F:\n",
        "Index([u'shopping_pt', u'married_couple', u'A', u'B', u'D', u'E', u'F', u'G', u'total_offers', u'A_init', u'B_init', u'E_init', u'F_init', u'A_purchase', u'B_purchase', u'D_purchase', u'E_purchase', u'G_purchase', u'A_change', u'E_change', u'F_change', u'A_var', u'B_var', u'C_var', u'D_var', u'E_var', u'F_var', u'G_var'], dtype='object')\n",
        "G:\n",
        "Index([u'shopping_pt', u'homeowner', u'married_couple', u'A', u'B', u'C', u'E', u'F', u'G', u'total_offers', u'A_init', u'F_init', u'G_init', u'A_purchase', u'B_purchase', u'C_purchase', u'D_purchase', u'E_purchase', u'F_purchase', u'A_change', u'E_change', u'G_change', u'A_var', u'B_var', u'C_var', u'D_var', u'E_var', u'G_var'], dtype='object')\n",
        "Total features:54\n",
        "Total features:54"
       ]
      },
      {
       "output_type": "stream",
       "stream": "stdout",
       "text": [
        "\n",
        "Total features:54"
       ]
      },
      {
       "output_type": "stream",
       "stream": "stdout",
       "text": [
        "\n",
        "Total features:54"
       ]
      },
      {
       "output_type": "stream",
       "stream": "stdout",
       "text": [
        "\n",
        "Total features:54"
       ]
      },
      {
       "output_type": "stream",
       "stream": "stdout",
       "text": [
        "\n",
        "Total features:54"
       ]
      },
      {
       "output_type": "stream",
       "stream": "stdout",
       "text": [
        "\n",
        "Total features:54"
       ]
      },
      {
       "output_type": "stream",
       "stream": "stdout",
       "text": [
        "\n",
        "# of features:29:"
       ]
      },
      {
       "output_type": "stream",
       "stream": "stdout",
       "text": [
        "\n",
        "A:\n",
        "Index([u'shopping_pt', u'homeowner', u'married_couple', u'A', u'B', u'D', u'E', u'F', u'G', u'total_offers', u'A_init', u'B_init', u'E_init', u'F_init', u'B_purchase', u'C_purchase', u'D_purchase', u'E_purchase', u'F_purchase', u'G_purchase', u'A_change', u'B_change', u'F_change', u'A_var', u'B_var', u'C_var', u'D_var', u'E_var', u'F_var'], dtype='object')\n",
        "B:\n",
        "Index([u'shopping_pt', u'group_size', u'homeowner', u'married_couple', u'C_previous', u'B', u'C', u'D', u'E', u'F', u'G', u'total_offers', u'A_init', u'B_init', u'E_init', u'A_purchase', u'C_purchase', u'D_purchase', u'E_purchase', u'G_purchase', u'B_change', u'F_change', u'G_change', u'A_var', u'B_var', u'C_var', u'D_var', u'E_var', u'F_var'], dtype='object')\n",
        "C:\n",
        "Index([u'shopping_pt', u'group_size', u'homeowner', u'married_couple', u'C_previous', u'B', u'C', u'D', u'E', u'G', u'total_offers', u'C_init', u'D_init', u'E_init', u'B_purchase', u'D_purchase', u'E_purchase', u'G_purchase', u'B_change', u'C_change', u'D_change', u'E_change', u'A_var', u'B_var', u'C_var', u'D_var', u'E_var', u'F_var', u'G_var'], dtype='object')\n",
        "D:\n",
        "Index([u'shopping_pt', u'married_couple', u'A', u'B', u'C', u'D', u'E', u'G', u'total_offers', u'B_init', u'C_init', u'D_init', u'E_init', u'A_purchase', u'B_purchase', u'C_purchase', u'E_purchase', u'G_purchase', u'A_change', u'B_change', u'C_change', u'D_change', u'E_change', u'A_var', u'B_var', u'C_var', u'D_var', u'E_var', u'F_var'], dtype='object')\n",
        "E:\n",
        "Index([u'shopping_pt', u'homeowner', u'C_previous', u'A', u'B', u'C', u'D', u'E', u'F', u'G', u'total_offers', u'B_init', u'C_init', u'E_init', u'A_purchase', u'B_purchase', u'C_purchase', u'D_purchase', u'F_purchase', u'G_purchase', u'A_change', u'B_change', u'D_change', u'E_change', u'A_var', u'C_var', u'D_var', u'E_var', u'F_var'], dtype='object')\n",
        "F:\n",
        "Index([u'shopping_pt', u'group_size', u'married_couple', u'A', u'B', u'D', u'E', u'F', u'G', u'total_offers', u'A_init', u'B_init', u'E_init', u'F_init', u'A_purchase', u'B_purchase', u'D_purchase', u'E_purchase', u'G_purchase', u'A_change', u'E_change', u'F_change', u'A_var', u'B_var', u'C_var', u'D_var', u'E_var', u'F_var', u'G_var'], dtype='object')\n",
        "G:\n",
        "Index([u'shopping_pt', u'homeowner', u'married_couple', u'A', u'B', u'C', u'E', u'F', u'G', u'total_offers', u'A_init', u'E_init', u'F_init', u'G_init', u'A_purchase', u'B_purchase', u'C_purchase', u'D_purchase', u'E_purchase', u'F_purchase', u'A_change', u'E_change', u'G_change', u'A_var', u'B_var', u'C_var', u'D_var', u'E_var', u'G_var'], dtype='object')\n"
       ]
      }
     ],
     "prompt_number": 21
    },
    {
     "cell_type": "code",
     "collapsed": false,
     "input": [],
     "language": "python",
     "metadata": {},
     "outputs": [],
     "prompt_number": 18
    },
    {
     "cell_type": "code",
     "collapsed": false,
     "input": [],
     "language": "python",
     "metadata": {},
     "outputs": []
    }
   ],
   "metadata": {}
  }
 ]
}