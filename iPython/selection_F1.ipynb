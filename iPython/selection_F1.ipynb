{
 "metadata": {
  "name": ""
 },
 "nbformat": 3,
 "nbformat_minor": 0,
 "worksheets": [
  {
   "cells": [
    {
     "cell_type": "code",
     "collapsed": false,
     "input": [
      "__author__ = 'aifa'\n",
      "\n",
      "import os\n",
      "import pandas as pd\n",
      "import numpy as np\n",
      "import pylab as pl\n",
      "\n",
      "from sklearn import clone\n",
      "\n",
      "from sklearn.ensemble.weight_boosting import AdaBoostClassifier\n",
      "from sklearn.ensemble.forest import (RandomForestClassifier,RandomForestRegressor,\n",
      "                                        ExtraTreesClassifier)\n",
      "\n",
      "from sklearn.linear_model import LogisticRegression\n",
      "from sklearn import svm\n",
      "\n",
      "import math as math\n",
      "from sklearn.externals.six.moves import xrange\n",
      "from sklearn.tree import DecisionTreeClassifier\n",
      "\n",
      "from sklearn.svm import SVR\n",
      "from sklearn.cross_validation import StratifiedKFold\n",
      "\n",
      "from sklearn.feature_selection import RFE\n",
      "from sklearn.pipeline import Pipeline\n",
      "\n",
      "from sklearn.svm import SVC\n",
      "from sklearn.feature_selection import RFECV\n",
      "from sklearn.metrics import zero_one_loss\n",
      "\n",
      "train_sets={}\n",
      "train_1 = pd.read_csv(\"/Users/aifa/Dropbox/kaggle/insurance/future/train_all_split_1.csv\", header=0, encoding=\"UTF-8\", error_bad_lines=False, sep=\",\", index_col=0)\n",
      "train_sets[1]=train_1\n",
      "train_2 = pd.read_csv(\"/Users/aifa/Dropbox/kaggle/insurance/future/train_all_split_2.csv\", header=0, encoding=\"UTF-8\", error_bad_lines=False, sep=\",\", index_col=0)\n",
      "train_sets[2]=train_2\n",
      "train_3 = pd.read_csv(\"/Users/aifa/Dropbox/kaggle/insurance/future/train_all_split_3.csv\", header=0, encoding=\"UTF-8\", error_bad_lines=False, sep=\",\", index_col=0)\n",
      "train_sets[3]=train_3\n",
      "train_4 = pd.read_csv(\"/Users/aifa/Dropbox/kaggle/insurance/future/train_all_split_4.csv\", header=0, encoding=\"UTF-8\", error_bad_lines=False, sep=\",\", index_col=0)\n",
      "train_sets[4]=train_4\n",
      "train_5 = pd.read_csv(\"/Users/aifa/Dropbox/kaggle/insurance/future/train_all_split_5.csv\", header=0, encoding=\"UTF-8\", error_bad_lines=False, sep=\",\", index_col=0)\n",
      "train_sets[5]=train_5\n",
      "train_6 = pd.read_csv(\"/Users/aifa/Dropbox/kaggle/insurance/future/train_all_split_6.csv\", header=0, encoding=\"UTF-8\", error_bad_lines=False, sep=\",\", index_col=0)\n",
      "train_sets[6]=train_6\n",
      "train_7 = pd.read_csv(\"/Users/aifa/Dropbox/kaggle/insurance/future/train_all_split_7.csv\", header=0, encoding=\"UTF-8\", error_bad_lines=False, sep=\",\", index_col=0)\n",
      "train_sets[7]=train_7\n",
      "train_8 = pd.read_csv(\"/Users/aifa/Dropbox/kaggle/insurance/future/train_all_split_8.csv\", header=0, encoding=\"UTF-8\", error_bad_lines=False, sep=\",\", index_col=0)\n",
      "train_sets[8]=train_8\n",
      "train_9 = pd.read_csv(\"/Users/aifa/Dropbox/kaggle/insurance/future/train_all_split_9.csv\", header=0, encoding=\"UTF-8\", error_bad_lines=False, sep=\",\", index_col=0)\n",
      "train_sets[9]=train_9\n",
      "train_10 = pd.read_csv(\"/Users/aifa/Dropbox/kaggle/insurance/future/train_all_split_10.csv\", header=0, encoding=\"UTF-8\", error_bad_lines=False, sep=\",\", index_col=0)\n",
      "train_sets[10]=train_10\n",
      "train_11 = pd.read_csv(\"/Users/aifa/Dropbox/kaggle/insurance/future/train_all_split_11.csv\", header=0, encoding=\"UTF-8\", error_bad_lines=False, sep=\",\", index_col=0)\n",
      "train_sets[11]=train_11\n",
      "train_12 = pd.read_csv(\"/Users/aifa/Dropbox/kaggle/insurance/future/train_all_split_12.csv\", header=0, encoding=\"UTF-8\", error_bad_lines=False, sep=\",\", index_col=0)\n",
      "train_sets[12]=train_12\n",
      "\n",
      "test_2 = pd.read_csv(\"/Users/aifa/Dropbox/kaggle/insurance/future/test_v2_all_future.csv\", header=0, encoding=\"UTF-8\", error_bad_lines=False, sep=\",\", index_col=0)\n",
      "\n",
      "\n",
      "results_df = pd.DataFrame(index=test_2.index)\n",
      "resultCol = pd.Series(index=test_2.index,dtype=object)\n",
      "\n",
      "#try random forest on feature A\n",
      "n_estimators = 100\n",
      "\n",
      "rfcModel = RandomForestClassifier(n_estimators=n_estimators, max_features=None)\n",
      "rfrmodel = RandomForestRegressor(n_estimators=n_estimators)\n",
      "lr = LogisticRegression()\n",
      "\n",
      "\n",
      "#svr =  SVR(C=1.0, epsilon=0.2)\n",
      "#C = 10.0  # SVM regularization parameter\n",
      "#svc = svm.SVC(kernel='linear', C=C)\n",
      "#rbf_svc = svm.SVC(kernel='rbf', gamma=0.7, C=C)\n",
      "#poly_svc = svm.SVC(kernel='poly', degree=3, C=C)\n",
      "\n",
      "def cleanup(df):\n",
      "\n",
      "    #find columns that contain null values\n",
      "    inds = pd.isnull(df).any(0).nonzero()\n",
      "\n",
      "    df['car_value'] = df['car_value'].fillna('0')\n",
      "    df['car_value']=df['car_value'].apply(lambda letter :  abs(ord(letter) - 96))\n",
      "    df['state']=df['state'].apply(lambda letter :  abs(ord(letter[0]) - 96 + ord(letter[1]) - 96))\n",
      "\n",
      "    #remove product feature\n",
      "    #df=df.drop(['product'], axis=1)\n",
      "    #df=df.drop(['state'], axis=1)\n",
      "    #df=df.drop(['location'], axis=1)\n",
      "    df=df.drop(['time'], axis=1)\n",
      "\n",
      "    #impute the null values\n",
      "    df['risk_factor'] = df['risk_factor'].fillna(0)\n",
      "    df['C_previous'] = df['C_previous'].fillna(0)\n",
      "    df['duration_previous'] = df['duration_previous'].fillna(0)\n",
      "    df['location'] = df['location'].fillna(0)\n",
      "\n",
      "    df['A_var'] = df['A_var'].fillna(0)\n",
      "    df['B_var'] = df['B_var'].fillna(0)\n",
      "    df['C_var'] = df['C_var'].fillna(0)\n",
      "    df['D_var'] = df['D_var'].fillna(0)\n",
      "    df['E_var'] = df['E_var'].fillna(0)\n",
      "    df['F_var'] = df['F_var'].fillna(0)\n",
      "    df['G_var'] = df['G_var'].fillna(0)\n",
      "    df['cost_var'] = df['cost_var'].fillna(0)\n",
      "    #drop any other rows that might contain null values (at this point only lines with empty key cols should be removed from the training sets)\n",
      "    df=df.dropna()\n",
      "\n",
      "    return df\n",
      "\n",
      "def cleanup_test(df):\n",
      "\n",
      "    #find columns that contain null values\n",
      "    inds = pd.isnull(df).any(0).nonzero()\n",
      "\n",
      "    df['car_value'] = df['car_value'].fillna('0')\n",
      "    df['car_value']=df['car_value'].apply(lambda letter :  abs(ord(letter) - 96))\n",
      "    df['state']=df['state'].apply(lambda letter :  abs(ord(letter[0]) - 96 + ord(letter[1]) - 96))\n",
      "\n",
      "    #remove product feature\n",
      "    #df=df.drop(['product'], axis=1)\n",
      "    #df=df.drop(['state'], axis=1)\n",
      "    #df=df.drop(['location'], axis=1)\n",
      "    df=df.drop(['time'], axis=1)\n",
      "    \n",
      "    #impute the null values\n",
      "    df['risk_factor'] = df['risk_factor'].fillna(0)\n",
      "    df['C_previous'] = df['C_previous'].fillna(0)\n",
      "    df['duration_previous'] = df['duration_previous'].fillna(0)\n",
      "    df['location'] = df['location'].fillna(0)\n",
      "\n",
      "    df['A_var'] = df['A_var'].fillna(0)\n",
      "    df['B_var'] = df['B_var'].fillna(0)\n",
      "    df['C_var'] = df['C_var'].fillna(0)\n",
      "    df['D_var'] = df['D_var'].fillna(0)\n",
      "    df['E_var'] = df['E_var'].fillna(0)\n",
      "    df['F_var'] = df['F_var'].fillna(0)\n",
      "    df['G_var'] = df['G_var'].fillna(0)\n",
      "    df['cost_var'] = df['cost_var'].fillna(0)\n",
      "\n",
      "    return df\n",
      "\n",
      "def select_features(train_df, select_model, yName='A_purchase'):\n",
      "    input_df = train_df.copy(deep=True)\n",
      "    y = input_df[yName].values\n",
      "    \n",
      "    input_df=input_df.drop(['total_offers'], axis=1)\n",
      "    input_df=input_df.drop(['A_purchase'], axis=1)\n",
      "    input_df=input_df.drop(['B_purchase'], axis=1)\n",
      "    input_df=input_df.drop(['C_purchase'], axis=1)\n",
      "    input_df=input_df.drop(['D_purchase'], axis=1)\n",
      "    input_df=input_df.drop(['E_purchase'], axis=1)\n",
      "    input_df=input_df.drop(['F_purchase'], axis=1)\n",
      "    input_df=input_df.drop(['G_purchase'], axis=1)\n",
      "\n",
      "    #if (yName=='G_purchase'):\n",
      "    #    input_df=input_df.drop(['C_previous'], axis=1)\n",
      "\n",
      "\n",
      "    X = input_df.values\n",
      "\n",
      "  # Create the RFE object and compute a cross-validated score.\n",
      "    #svc = SVC(kernel=\"linear\")\n",
      "    rfecv = RFECV(estimator=select_model,\n",
      "                  step=1,\n",
      "                  cv=StratifiedKFold(y, 3),\n",
      "                  scoring=\"f1\")\n",
      "    rfecv.fit(X, y)\n",
      "\n",
      "    print \"Optimal number of features : %d\" % rfecv.n_features_\n",
      "    \n",
      "    # Plot number of features VS. cross-validation scores\n",
      "    #pl.figure()\n",
      "    #pl.xlabel(\"Number of features selected\")\n",
      "    #pl.ylabel(\"Cross validation score (nb of misclassifications)\")\n",
      "    #pl.plot(xrange(1, len(rfecv.grid_scores_) + 1), rfecv.grid_scores_)\n",
      "    #pl.show()\n",
      "    \n",
      "    idx=0\n",
      "    for i in input_df.columns:\n",
      "        if (rfecv.support_[idx]==False):\n",
      "            input_df=input_df.drop([i], axis=1)\n",
      "        idx += 1\n",
      "        \n",
      "    print input_df.columns\n",
      "    \n",
      "    return input_df.columns\n",
      "\n",
      "def predict(test_2_df, model, prodStr='A_purchase'):\n",
      "\n",
      "    test_df = test_2_df.copy(deep=True)\n",
      "    test_y = test_df[prodStr]\n",
      "\n",
      "    if prodStr=='total_offers':\n",
      "        test_df=test_df.drop([prodStr])\n",
      "    else:\n",
      "        test_df=test_df.drop(['A_purchase'])\n",
      "        test_df=test_df.drop(['B_purchase'])\n",
      "        test_df=test_df.drop(['C_purchase'])\n",
      "        test_df=test_df.drop(['D_purchase'])\n",
      "        test_df=test_df.drop(['E_purchase'])\n",
      "        test_df=test_df.drop(['F_purchase'])\n",
      "        test_df=test_df.drop(['G_purchase'])\n",
      "\n",
      "    if (prodStr=='G_purchase'):\n",
      "        test_df=test_df.drop(['C_previous'])\n",
      "\n",
      "    test_X = test_df.values\n",
      "\n",
      "    prediction = model.predict(test_X)\n",
      "\n",
      "    #print prodStr +\":\"+str(prediction)\n",
      "\n",
      "    return prediction\n",
      "\n",
      "for offers in range(1,13):\n",
      "    train = cleanup(train_sets[offers])\n",
      "    print \"--------Number of offers:\" + str(offers)\n",
      "    print len(train.columns)\n",
      "    \n",
      "    print 'A:'\n",
      "    select_features(train, lr)\n",
      "    print 'B:'\n",
      "    select_features(train, lr, yName='B_purchase')\n",
      "    print 'C:'\n",
      "    select_features(train, lr, yName='C_purchase')\n",
      "    print 'D:'\n",
      "    select_features(train, lr, yName='D_purchase')\n",
      "    print 'E:'\n",
      "    select_features(train, lr, yName='E_purchase')\n",
      "    print 'F:'\n",
      "    select_features(train, lr, yName='F_purchase')\n",
      "    print 'G:'\n",
      "    select_features(train, lr, yName='G_purchase')\n"
     ],
     "language": "python",
     "metadata": {},
     "outputs": [
      {
       "output_type": "stream",
       "stream": "stdout",
       "text": [
        "--------Number of offers:1\n",
        "55\n",
        "A:\n",
        "Optimal number of features : 28"
       ]
      },
      {
       "output_type": "stream",
       "stream": "stdout",
       "text": [
        "\n",
        "Index([u'shopping_pt', u'day', u'state', u'group_size', u'homeowner', u'car_age', u'car_value', u'risk_factor', u'age_oldest', u'age_youngest', u'married_couple', u'C_previous', u'duration_previous', u'A', u'B', u'C', u'D', u'E', u'F', u'G', u'cost', u'A_init', u'B_init', u'C_init', u'D_init', u'E_init', u'F_init', u'G_init'], dtype='object')"
       ]
      },
      {
       "output_type": "stream",
       "stream": "stdout",
       "text": [
        "\n",
        "B:\n",
        "Optimal number of features : 27"
       ]
      },
      {
       "output_type": "stream",
       "stream": "stdout",
       "text": [
        "\n",
        "Index([u'shopping_pt', u'day', u'state', u'group_size', u'homeowner', u'car_age', u'risk_factor', u'age_oldest', u'age_youngest', u'married_couple', u'C_previous', u'duration_previous', u'A', u'B', u'C', u'D', u'E', u'F', u'G', u'cost', u'A_init', u'B_init', u'C_init', u'D_init', u'E_init', u'F_init', u'G_init'], dtype='object')"
       ]
      },
      {
       "output_type": "stream",
       "stream": "stderr",
       "text": [
        "/Applications/anaconda/lib/python2.7/site-packages/sklearn/metrics/metrics.py:1249: UserWarning: The sum of true positives and false positives are equal to zero for some labels. Precision is ill defined for those labels [ 1.  2.  4.]. The precision and recall are equal to zero for some labels. fbeta_score is ill defined for those labels [ 1.  2.  4.]. \n",
        "  average=average)\n",
        "/Applications/anaconda/lib/python2.7/site-packages/sklearn/metrics/metrics.py:1249: UserWarning: The sum of true positives and false positives are equal to zero for some labels. Precision is ill defined for those labels [ 2.  4.]. The precision and recall are equal to zero for some labels. fbeta_score is ill defined for those labels [ 2.  4.]. \n",
        "  average=average)\n"
       ]
      },
      {
       "output_type": "stream",
       "stream": "stderr",
       "text": [
        "/Applications/anaconda/lib/python2.7/site-packages/sklearn/metrics/metrics.py:1249: UserWarning: The sum of true positives and false positives are equal to zero for some labels. Precision is ill defined for those labels [ 2.]. The precision and recall are equal to zero for some labels. fbeta_score is ill defined for those labels [ 2.]. \n",
        "  average=average)\n",
        "/Applications/anaconda/lib/python2.7/site-packages/sklearn/metrics/metrics.py:1249: UserWarning: The precision and recall are equal to zero for some labels. fbeta_score is ill defined for those labels [ 2.]. \n",
        "  average=average)\n"
       ]
      },
      {
       "output_type": "stream",
       "stream": "stdout",
       "text": [
        "\n",
        "C:\n",
        "Optimal number of features : 28"
       ]
      },
      {
       "output_type": "stream",
       "stream": "stdout",
       "text": [
        "\n",
        "Index([u'shopping_pt', u'day', u'state', u'group_size', u'homeowner', u'car_age', u'car_value', u'risk_factor', u'age_oldest', u'age_youngest', u'married_couple', u'C_previous', u'duration_previous', u'A', u'B', u'C', u'D', u'E', u'F', u'G', u'cost', u'A_init', u'B_init', u'C_init', u'D_init', u'E_init', u'F_init', u'G_init'], dtype='object')"
       ]
      },
      {
       "output_type": "stream",
       "stream": "stdout",
       "text": [
        "\n",
        "D:\n",
        "Optimal number of features : 38"
       ]
      },
      {
       "output_type": "stream",
       "stream": "stdout",
       "text": [
        "\n",
        "Index([u'shopping_pt', u'day', u'state', u'location', u'group_size', u'homeowner', u'car_age', u'car_value', u'risk_factor', u'age_oldest', u'age_youngest', u'married_couple', u'C_previous', u'duration_previous', u'A', u'B', u'C', u'D', u'E', u'F', u'G', u'cost', u'A_init', u'B_init', u'C_init', u'D_init', u'E_init', u'F_init', u'G_init', u'A_change', u'B_change', u'C_change', u'D_change', u'E_change', u'F_change', u'C_var', u'D_var', u'init_cost'], dtype='object')"
       ]
      },
      {
       "output_type": "stream",
       "stream": "stdout",
       "text": [
        "\n",
        "E:\n",
        "Optimal number of features : 28"
       ]
      },
      {
       "output_type": "stream",
       "stream": "stdout",
       "text": [
        "\n",
        "Index([u'shopping_pt', u'day', u'state', u'group_size', u'homeowner', u'car_age', u'car_value', u'risk_factor', u'age_oldest', u'age_youngest', u'married_couple', u'C_previous', u'duration_previous', u'A', u'B', u'C', u'D', u'E', u'F', u'G', u'cost', u'A_init', u'B_init', u'C_init', u'D_init', u'E_init', u'F_init', u'G_init'], dtype='object')"
       ]
      },
      {
       "output_type": "stream",
       "stream": "stderr",
       "text": [
        "/Applications/anaconda/lib/python2.7/site-packages/sklearn/metrics/metrics.py:1249: UserWarning: The sum of true positives and false positives are equal to zero for some labels. Precision is ill defined for those labels [ 1.]. The precision and recall are equal to zero for some labels. fbeta_score is ill defined for those labels [ 1.]. \n",
        "  average=average)\n",
        "/Applications/anaconda/lib/python2.7/site-packages/sklearn/metrics/metrics.py:1249: UserWarning: The sum of true positives and false positives are equal to zero for some labels. Precision is ill defined for those labels [ 0.  1.  3.]. The precision and recall are equal to zero for some labels. fbeta_score is ill defined for those labels [ 0.  1.  3.]. \n",
        "  average=average)\n"
       ]
      },
      {
       "output_type": "stream",
       "stream": "stderr",
       "text": [
        "/Applications/anaconda/lib/python2.7/site-packages/sklearn/metrics/metrics.py:1249: UserWarning: The sum of true positives and false positives are equal to zero for some labels. Precision is ill defined for those labels [ 1.  3.]. The precision and recall are equal to zero for some labels. fbeta_score is ill defined for those labels [ 1.  3.]. \n",
        "  average=average)\n",
        "/Applications/anaconda/lib/python2.7/site-packages/sklearn/metrics/metrics.py:1249: UserWarning: The sum of true positives and false positives are equal to zero for some labels. Precision is ill defined for those labels [ 3.]. The precision and recall are equal to zero for some labels. fbeta_score is ill defined for those labels [ 3.]. \n",
        "  average=average)\n"
       ]
      },
      {
       "output_type": "stream",
       "stream": "stdout",
       "text": [
        "\n",
        "F:\n",
        "Optimal number of features : 27"
       ]
      },
      {
       "output_type": "stream",
       "stream": "stdout",
       "text": [
        "\n",
        "Index([u'shopping_pt', u'day', u'state', u'group_size', u'homeowner', u'car_age', u'car_value', u'risk_factor', u'age_youngest', u'married_couple', u'C_previous', u'duration_previous', u'A', u'B', u'C', u'D', u'E', u'F', u'G', u'cost', u'A_init', u'B_init', u'C_init', u'D_init', u'E_init', u'F_init', u'G_init'], dtype='object')"
       ]
      },
      {
       "output_type": "stream",
       "stream": "stderr",
       "text": [
        "/Applications/anaconda/lib/python2.7/site-packages/sklearn/metrics/metrics.py:1249: UserWarning: The precision and recall are equal to zero for some labels. fbeta_score is ill defined for those labels [ 3.]. \n",
        "  average=average)\n",
        "/Applications/anaconda/lib/python2.7/site-packages/sklearn/metrics/metrics.py:1249: UserWarning: The sum of true positives and false positives are equal to zero for some labels. Precision is ill defined for those labels [ 1.  3.  4.]. The precision and recall are equal to zero for some labels. fbeta_score is ill defined for those labels [ 1.  3.  4.]. \n",
        "  average=average)\n"
       ]
      },
      {
       "output_type": "stream",
       "stream": "stderr",
       "text": [
        "/Applications/anaconda/lib/python2.7/site-packages/sklearn/metrics/metrics.py:1249: UserWarning: The sum of true positives and false positives are equal to zero for some labels. Precision is ill defined for those labels [ 1.  4.]. The precision and recall are equal to zero for some labels. fbeta_score is ill defined for those labels [ 1.  4.]. \n",
        "  average=average)\n",
        "/Applications/anaconda/lib/python2.7/site-packages/sklearn/metrics/metrics.py:1249: UserWarning: The sum of true positives and false positives are equal to zero for some labels. Precision is ill defined for those labels [ 4.]. The precision and recall are equal to zero for some labels. fbeta_score is ill defined for those labels [ 4.]. \n",
        "  average=average)\n"
       ]
      },
      {
       "output_type": "stream",
       "stream": "stdout",
       "text": [
        "\n",
        "G:\n",
        "Optimal number of features : 26"
       ]
      },
      {
       "output_type": "stream",
       "stream": "stdout",
       "text": [
        "\n",
        "Index([u'shopping_pt', u'day', u'state', u'group_size', u'homeowner', u'car_age', u'car_value', u'risk_factor', u'age_oldest', u'married_couple', u'C_previous', u'duration_previous', u'A', u'B', u'C', u'D', u'E', u'F', u'G', u'A_init', u'B_init', u'C_init', u'D_init', u'E_init', u'F_init', u'G_init'], dtype='object')"
       ]
      },
      {
       "output_type": "stream",
       "stream": "stdout",
       "text": [
        "\n",
        "--------Number of offers:2"
       ]
      },
      {
       "output_type": "stream",
       "stream": "stdout",
       "text": [
        "\n",
        "55\n",
        "A:\n",
        "Optimal number of features : 37"
       ]
      },
      {
       "output_type": "stream",
       "stream": "stdout",
       "text": [
        "\n",
        "Index([u'shopping_pt', u'day', u'state', u'group_size', u'homeowner', u'car_age', u'car_value', u'risk_factor', u'age_oldest', u'age_youngest', u'married_couple', u'C_previous', u'duration_previous', u'A', u'B', u'C', u'D', u'E', u'F', u'G', u'cost', u'duration_offers', u'A_init', u'B_init', u'C_init', u'D_init', u'E_init', u'F_init', u'G_init', u'A_change', u'B_change', u'C_change', u'D_change', u'E_change', u'F_change', u'G_change', u'init_cost'], dtype='object')"
       ]
      },
      {
       "output_type": "stream",
       "stream": "stdout",
       "text": [
        "\n",
        "B:\n",
        "Optimal number of features : 1"
       ]
      },
      {
       "output_type": "stream",
       "stream": "stdout",
       "text": [
        "\n",
        "Index([u'B'], dtype='object')"
       ]
      },
      {
       "output_type": "stream",
       "stream": "stdout",
       "text": [
        "\n",
        "C:\n",
        "Optimal number of features : 37"
       ]
      },
      {
       "output_type": "stream",
       "stream": "stdout",
       "text": [
        "\n",
        "Index([u'shopping_pt', u'day', u'state', u'group_size', u'homeowner', u'car_age', u'car_value', u'risk_factor', u'age_oldest', u'age_youngest', u'married_couple', u'C_previous', u'duration_previous', u'A', u'B', u'C', u'D', u'E', u'F', u'G', u'cost', u'duration_offers', u'A_init', u'B_init', u'C_init', u'D_init', u'E_init', u'F_init', u'G_init', u'A_change', u'B_change', u'C_change', u'D_change', u'E_change', u'F_change', u'G_change', u'init_cost'], dtype='object')"
       ]
      },
      {
       "output_type": "stream",
       "stream": "stdout",
       "text": [
        "\n",
        "D:\n",
        "Optimal number of features : 7"
       ]
      },
      {
       "output_type": "stream",
       "stream": "stdout",
       "text": [
        "\n",
        "Index([u'shopping_pt', u'C_previous', u'D', u'D_change', u'E_change', u'F_change', u'G_change'], dtype='object')"
       ]
      },
      {
       "output_type": "stream",
       "stream": "stdout",
       "text": [
        "\n",
        "E:\n",
        "Optimal number of features : 47"
       ]
      },
      {
       "output_type": "stream",
       "stream": "stdout",
       "text": [
        "\n",
        "Index([u'shopping_pt', u'record_type', u'day', u'state', u'location', u'group_size', u'homeowner', u'car_age', u'car_value', u'risk_factor', u'age_oldest', u'age_youngest', u'married_couple', u'C_previous', u'duration_previous', u'A', u'B', u'C', u'D', u'E', u'F', u'G', u'cost', u'duration_offers', u'A_init', u'B_init', u'C_init', u'D_init', u'E_init', u'F_init', u'G_init', u'A_change', u'B_change', u'C_change', u'D_change', u'E_change', u'F_change', u'G_change', u'A_var', u'B_var', u'C_var', u'D_var', u'E_var', u'F_var', u'G_var', u'init_cost', u'cost_var'], dtype='object')\n",
        "F:\n",
        "Optimal number of features : 3"
       ]
      },
      {
       "output_type": "stream",
       "stream": "stdout",
       "text": [
        "\n",
        "Index([u'shopping_pt', u'A', u'F'], dtype='object')"
       ]
      },
      {
       "output_type": "stream",
       "stream": "stdout",
       "text": [
        "\n",
        "G:\n",
        "Optimal number of features : 2"
       ]
      },
      {
       "output_type": "stream",
       "stream": "stdout",
       "text": [
        "\n",
        "Index([u'shopping_pt', u'G'], dtype='object')"
       ]
      },
      {
       "output_type": "stream",
       "stream": "stdout",
       "text": [
        "\n",
        "--------Number of offers:3"
       ]
      },
      {
       "output_type": "stream",
       "stream": "stdout",
       "text": [
        "\n",
        "55\n",
        "A:\n",
        "Optimal number of features : 1"
       ]
      },
      {
       "output_type": "stream",
       "stream": "stdout",
       "text": [
        "\n",
        "Index([u'A'], dtype='object')"
       ]
      },
      {
       "output_type": "stream",
       "stream": "stdout",
       "text": [
        "\n",
        "B:\n",
        "Optimal number of features : 1"
       ]
      },
      {
       "output_type": "stream",
       "stream": "stdout",
       "text": [
        "\n",
        "Index([u'B'], dtype='object')"
       ]
      },
      {
       "output_type": "stream",
       "stream": "stdout",
       "text": [
        "\n",
        "C:\n",
        "Optimal number of features : 44"
       ]
      },
      {
       "output_type": "stream",
       "stream": "stdout",
       "text": [
        "\n",
        "Index([u'shopping_pt', u'day', u'state', u'group_size', u'homeowner', u'car_age', u'car_value', u'risk_factor', u'age_oldest', u'age_youngest', u'married_couple', u'C_previous', u'duration_previous', u'A', u'B', u'C', u'D', u'E', u'F', u'G', u'cost', u'duration_offers', u'A_init', u'B_init', u'C_init', u'D_init', u'E_init', u'F_init', u'G_init', u'A_change', u'B_change', u'C_change', u'D_change', u'E_change', u'F_change', u'G_change', u'A_var', u'B_var', u'C_var', u'D_var', u'E_var', u'F_var', u'G_var', u'init_cost'], dtype='object')\n",
        "D:\n",
        "Optimal number of features : 1"
       ]
      },
      {
       "output_type": "stream",
       "stream": "stdout",
       "text": [
        "\n",
        "Index([u'D'], dtype='object')"
       ]
      },
      {
       "output_type": "stream",
       "stream": "stdout",
       "text": [
        "\n",
        "E:\n",
        "Optimal number of features : 9"
       ]
      },
      {
       "output_type": "stream",
       "stream": "stdout",
       "text": [
        "\n",
        "Index([u'shopping_pt', u'group_size', u'homeowner', u'married_couple', u'A', u'E', u'B_init', u'C_init', u'A_var'], dtype='object')"
       ]
      },
      {
       "output_type": "stream",
       "stream": "stdout",
       "text": [
        "\n",
        "F:\n",
        "Optimal number of features : 1"
       ]
      },
      {
       "output_type": "stream",
       "stream": "stdout",
       "text": [
        "\n",
        "Index([u'F'], dtype='object')"
       ]
      },
      {
       "output_type": "stream",
       "stream": "stdout",
       "text": [
        "\n",
        "G:\n",
        "Optimal number of features : 4"
       ]
      },
      {
       "output_type": "stream",
       "stream": "stdout",
       "text": [
        "\n",
        "Index([u'shopping_pt', u'G', u'G_change', u'G_var'], dtype='object')"
       ]
      },
      {
       "output_type": "stream",
       "stream": "stdout",
       "text": [
        "\n",
        "--------Number of offers:4"
       ]
      },
      {
       "output_type": "stream",
       "stream": "stdout",
       "text": [
        "\n",
        "55\n",
        "A:\n",
        "Optimal number of features : 1"
       ]
      },
      {
       "output_type": "stream",
       "stream": "stdout",
       "text": [
        "\n",
        "Index([u'A'], dtype='object')"
       ]
      },
      {
       "output_type": "stream",
       "stream": "stdout",
       "text": [
        "\n",
        "B:\n",
        "Optimal number of features : 1"
       ]
      },
      {
       "output_type": "stream",
       "stream": "stdout",
       "text": [
        "\n",
        "Index([u'B'], dtype='object')"
       ]
      },
      {
       "output_type": "stream",
       "stream": "stdout",
       "text": [
        "\n",
        "C:\n",
        "Optimal number of features : 44"
       ]
      },
      {
       "output_type": "stream",
       "stream": "stdout",
       "text": [
        "\n",
        "Index([u'shopping_pt', u'day', u'state', u'group_size', u'homeowner', u'car_age', u'car_value', u'risk_factor', u'age_oldest', u'age_youngest', u'married_couple', u'C_previous', u'duration_previous', u'A', u'B', u'C', u'D', u'E', u'F', u'G', u'cost', u'duration_offers', u'A_init', u'B_init', u'C_init', u'D_init', u'E_init', u'F_init', u'G_init', u'A_change', u'B_change', u'C_change', u'D_change', u'E_change', u'F_change', u'G_change', u'A_var', u'B_var', u'C_var', u'D_var', u'E_var', u'F_var', u'G_var', u'init_cost'], dtype='object')\n",
        "D:\n",
        "Optimal number of features : 1"
       ]
      },
      {
       "output_type": "stream",
       "stream": "stdout",
       "text": [
        "\n",
        "Index([u'D'], dtype='object')"
       ]
      },
      {
       "output_type": "stream",
       "stream": "stdout",
       "text": [
        "\n",
        "E:\n",
        "Optimal number of features : 12"
       ]
      },
      {
       "output_type": "stream",
       "stream": "stdout",
       "text": [
        "\n",
        "Index([u'shopping_pt', u'group_size', u'homeowner', u'married_couple', u'A', u'C', u'E', u'B_init', u'E_change', u'A_var', u'B_var', u'E_var'], dtype='object')"
       ]
      },
      {
       "output_type": "stream",
       "stream": "stdout",
       "text": [
        "\n",
        "F:\n",
        "Optimal number of features : 2"
       ]
      },
      {
       "output_type": "stream",
       "stream": "stdout",
       "text": [
        "\n",
        "Index([u'F', u'A_var'], dtype='object')"
       ]
      },
      {
       "output_type": "stream",
       "stream": "stdout",
       "text": [
        "\n",
        "G:\n",
        "Optimal number of features : 4"
       ]
      },
      {
       "output_type": "stream",
       "stream": "stdout",
       "text": [
        "\n",
        "Index([u'shopping_pt', u'G', u'A_var', u'G_var'], dtype='object')"
       ]
      },
      {
       "output_type": "stream",
       "stream": "stdout",
       "text": [
        "\n",
        "--------Number of offers:5"
       ]
      },
      {
       "output_type": "stream",
       "stream": "stdout",
       "text": [
        "\n",
        "55\n",
        "A:\n",
        "Optimal number of features : 1"
       ]
      },
      {
       "output_type": "stream",
       "stream": "stdout",
       "text": [
        "\n",
        "Index([u'A'], dtype='object')"
       ]
      },
      {
       "output_type": "stream",
       "stream": "stdout",
       "text": [
        "\n",
        "B:\n",
        "Optimal number of features : 1"
       ]
      },
      {
       "output_type": "stream",
       "stream": "stdout",
       "text": [
        "\n",
        "Index([u'B'], dtype='object')"
       ]
      },
      {
       "output_type": "stream",
       "stream": "stdout",
       "text": [
        "\n",
        "C:\n",
        "Optimal number of features : 38"
       ]
      },
      {
       "output_type": "stream",
       "stream": "stdout",
       "text": [
        "\n",
        "Index([u'shopping_pt', u'group_size', u'homeowner', u'car_age', u'car_value', u'risk_factor', u'married_couple', u'C_previous', u'duration_previous', u'A', u'B', u'C', u'D', u'E', u'F', u'G', u'duration_offers', u'A_init', u'B_init', u'C_init', u'D_init', u'E_init', u'F_init', u'G_init', u'A_change', u'B_change', u'C_change', u'D_change', u'E_change', u'F_change', u'G_change', u'A_var', u'B_var', u'C_var', u'D_var', u'E_var', u'F_var', u'G_var'], dtype='object')"
       ]
      },
      {
       "output_type": "stream",
       "stream": "stdout",
       "text": [
        "\n",
        "D:\n",
        "Optimal number of features : 1"
       ]
      },
      {
       "output_type": "stream",
       "stream": "stdout",
       "text": [
        "\n",
        "Index([u'D'], dtype='object')"
       ]
      },
      {
       "output_type": "stream",
       "stream": "stdout",
       "text": [
        "\n",
        "E:\n",
        "Optimal number of features : 21"
       ]
      },
      {
       "output_type": "stream",
       "stream": "stdout",
       "text": [
        "\n",
        "Index([u'shopping_pt', u'homeowner', u'car_age', u'A', u'C', u'D', u'E', u'A_init', u'B_init', u'C_init', u'E_init', u'A_change', u'B_change', u'C_change', u'D_change', u'E_change', u'F_change', u'A_var', u'B_var', u'D_var', u'E_var'], dtype='object')"
       ]
      },
      {
       "output_type": "stream",
       "stream": "stdout",
       "text": [
        "\n",
        "F:\n",
        "Optimal number of features : 2"
       ]
      },
      {
       "output_type": "stream",
       "stream": "stdout",
       "text": [
        "\n",
        "Index([u'F', u'A_var'], dtype='object')"
       ]
      },
      {
       "output_type": "stream",
       "stream": "stdout",
       "text": [
        "\n",
        "G:\n",
        "Optimal number of features : 6"
       ]
      },
      {
       "output_type": "stream",
       "stream": "stdout",
       "text": [
        "\n",
        "Index([u'shopping_pt', u'G', u'G_init', u'G_change', u'A_var', u'G_var'], dtype='object')"
       ]
      },
      {
       "output_type": "stream",
       "stream": "stdout",
       "text": [
        "\n",
        "--------Number of offers:6"
       ]
      },
      {
       "output_type": "stream",
       "stream": "stdout",
       "text": [
        "\n",
        "55\n",
        "A:\n",
        "Optimal number of features : 1"
       ]
      },
      {
       "output_type": "stream",
       "stream": "stdout",
       "text": [
        "\n",
        "Index([u'A'], dtype='object')"
       ]
      },
      {
       "output_type": "stream",
       "stream": "stdout",
       "text": [
        "\n",
        "B:\n",
        "Optimal number of features : 1"
       ]
      },
      {
       "output_type": "stream",
       "stream": "stdout",
       "text": [
        "\n",
        "Index([u'B'], dtype='object')"
       ]
      },
      {
       "output_type": "stream",
       "stream": "stdout",
       "text": [
        "\n",
        "C:\n",
        "Optimal number of features : 39"
       ]
      },
      {
       "output_type": "stream",
       "stream": "stdout",
       "text": [
        "\n",
        "Index([u'shopping_pt', u'day', u'group_size', u'homeowner', u'car_age', u'car_value', u'risk_factor', u'married_couple', u'C_previous', u'duration_previous', u'A', u'B', u'C', u'D', u'E', u'F', u'G', u'duration_offers', u'A_init', u'B_init', u'C_init', u'D_init', u'E_init', u'F_init', u'G_init', u'A_change', u'B_change', u'C_change', u'D_change', u'E_change', u'F_change', u'G_change', u'A_var', u'B_var', u'C_var', u'D_var', u'E_var', u'F_var', u'G_var'], dtype='object')"
       ]
      },
      {
       "output_type": "stream",
       "stream": "stdout",
       "text": [
        "\n",
        "D:\n",
        "Optimal number of features : 1"
       ]
      },
      {
       "output_type": "stream",
       "stream": "stdout",
       "text": [
        "\n",
        "Index([u'D'], dtype='object')"
       ]
      },
      {
       "output_type": "stream",
       "stream": "stdout",
       "text": [
        "\n",
        "E:\n",
        "Optimal number of features : 1"
       ]
      },
      {
       "output_type": "stream",
       "stream": "stdout",
       "text": [
        "\n",
        "Index([u'E'], dtype='object')"
       ]
      },
      {
       "output_type": "stream",
       "stream": "stdout",
       "text": [
        "\n",
        "F:\n",
        "Optimal number of features : 2"
       ]
      },
      {
       "output_type": "stream",
       "stream": "stdout",
       "text": [
        "\n",
        "Index([u'F', u'A_var'], dtype='object')"
       ]
      },
      {
       "output_type": "stream",
       "stream": "stdout",
       "text": [
        "\n",
        "G:\n",
        "Optimal number of features : 4"
       ]
      },
      {
       "output_type": "stream",
       "stream": "stdout",
       "text": [
        "\n",
        "Index([u'shopping_pt', u'G', u'E_var', u'G_var'], dtype='object')"
       ]
      },
      {
       "output_type": "stream",
       "stream": "stdout",
       "text": [
        "\n",
        "--------Number of offers:7"
       ]
      },
      {
       "output_type": "stream",
       "stream": "stdout",
       "text": [
        "\n",
        "55\n",
        "A:\n",
        "Optimal number of features : 1"
       ]
      },
      {
       "output_type": "stream",
       "stream": "stdout",
       "text": [
        "\n",
        "Index([u'A'], dtype='object')"
       ]
      },
      {
       "output_type": "stream",
       "stream": "stdout",
       "text": [
        "\n",
        "B:\n",
        "Optimal number of features : 1"
       ]
      },
      {
       "output_type": "stream",
       "stream": "stdout",
       "text": [
        "\n",
        "Index([u'B'], dtype='object')"
       ]
      },
      {
       "output_type": "stream",
       "stream": "stdout",
       "text": [
        "\n",
        "C:\n",
        "Optimal number of features : 39"
       ]
      },
      {
       "output_type": "stream",
       "stream": "stdout",
       "text": [
        "\n",
        "Index([u'shopping_pt', u'day', u'state', u'group_size', u'homeowner', u'car_age', u'car_value', u'risk_factor', u'married_couple', u'C_previous', u'A', u'B', u'C', u'D', u'E', u'F', u'G', u'duration_offers', u'A_init', u'B_init', u'C_init', u'D_init', u'E_init', u'F_init', u'G_init', u'A_change', u'B_change', u'C_change', u'D_change', u'E_change', u'F_change', u'G_change', u'A_var', u'B_var', u'C_var', u'D_var', u'E_var', u'F_var', u'G_var'], dtype='object')\n",
        "D:\n",
        "Optimal number of features : 1"
       ]
      },
      {
       "output_type": "stream",
       "stream": "stdout",
       "text": [
        "\n",
        "Index([u'D'], dtype='object')"
       ]
      },
      {
       "output_type": "stream",
       "stream": "stdout",
       "text": [
        "\n",
        "E:\n",
        "Optimal number of features : 1"
       ]
      },
      {
       "output_type": "stream",
       "stream": "stdout",
       "text": [
        "\n",
        "Index([u'E'], dtype='object')"
       ]
      },
      {
       "output_type": "stream",
       "stream": "stdout",
       "text": [
        "\n",
        "F:\n",
        "Optimal number of features : 2"
       ]
      },
      {
       "output_type": "stream",
       "stream": "stdout",
       "text": [
        "\n",
        "Index([u'F', u'A_var'], dtype='object')"
       ]
      },
      {
       "output_type": "stream",
       "stream": "stdout",
       "text": [
        "\n",
        "G:\n",
        "Optimal number of features : 6"
       ]
      },
      {
       "output_type": "stream",
       "stream": "stdout",
       "text": [
        "\n",
        "Index([u'shopping_pt', u'G', u'G_init', u'A_var', u'E_var', u'G_var'], dtype='object')"
       ]
      },
      {
       "output_type": "stream",
       "stream": "stdout",
       "text": [
        "\n",
        "--------Number of offers:8"
       ]
      },
      {
       "output_type": "stream",
       "stream": "stdout",
       "text": [
        "\n",
        "55\n",
        "A:\n",
        "Optimal number of features : 1"
       ]
      },
      {
       "output_type": "stream",
       "stream": "stdout",
       "text": [
        "\n",
        "Index([u'A'], dtype='object')"
       ]
      },
      {
       "output_type": "stream",
       "stream": "stdout",
       "text": [
        "\n",
        "B:\n",
        "Optimal number of features : 1"
       ]
      },
      {
       "output_type": "stream",
       "stream": "stdout",
       "text": [
        "\n",
        "Index([u'B'], dtype='object')"
       ]
      },
      {
       "output_type": "stream",
       "stream": "stdout",
       "text": [
        "\n",
        "C:\n",
        "Optimal number of features : 4"
       ]
      },
      {
       "output_type": "stream",
       "stream": "stdout",
       "text": [
        "\n",
        "Index([u'shopping_pt', u'C', u'C_change', u'C_var'], dtype='object')"
       ]
      },
      {
       "output_type": "stream",
       "stream": "stdout",
       "text": [
        "\n",
        "D:\n",
        "Optimal number of features : 1"
       ]
      },
      {
       "output_type": "stream",
       "stream": "stdout",
       "text": [
        "\n",
        "Index([u'D'], dtype='object')"
       ]
      },
      {
       "output_type": "stream",
       "stream": "stdout",
       "text": [
        "\n",
        "E:\n",
        "Optimal number of features : 1"
       ]
      },
      {
       "output_type": "stream",
       "stream": "stdout",
       "text": [
        "\n",
        "Index([u'E'], dtype='object')"
       ]
      },
      {
       "output_type": "stream",
       "stream": "stdout",
       "text": [
        "\n",
        "F:\n",
        "Optimal number of features : 2"
       ]
      },
      {
       "output_type": "stream",
       "stream": "stdout",
       "text": [
        "\n",
        "Index([u'F', u'A_var'], dtype='object')"
       ]
      },
      {
       "output_type": "stream",
       "stream": "stdout",
       "text": [
        "\n",
        "G:\n",
        "Optimal number of features : 4"
       ]
      },
      {
       "output_type": "stream",
       "stream": "stdout",
       "text": [
        "\n",
        "Index([u'shopping_pt', u'G', u'E_var', u'G_var'], dtype='object')"
       ]
      },
      {
       "output_type": "stream",
       "stream": "stdout",
       "text": [
        "\n",
        "--------Number of offers:9"
       ]
      },
      {
       "output_type": "stream",
       "stream": "stdout",
       "text": [
        "\n",
        "55\n",
        "A:\n",
        "Optimal number of features : 1"
       ]
      },
      {
       "output_type": "stream",
       "stream": "stdout",
       "text": [
        "\n",
        "Index([u'A'], dtype='object')\n",
        "B:\n",
        "Optimal number of features : 1"
       ]
      },
      {
       "output_type": "stream",
       "stream": "stdout",
       "text": [
        "\n",
        "Index([u'B'], dtype='object')\n",
        "C:\n",
        "Optimal number of features : 20"
       ]
      },
      {
       "output_type": "stream",
       "stream": "stdout",
       "text": [
        "\n",
        "Index([u'shopping_pt', u'homeowner', u'C_previous', u'A', u'B', u'C', u'D', u'E', u'C_init', u'E_init', u'C_change', u'D_change', u'E_change', u'A_var', u'B_var', u'C_var', u'D_var', u'E_var', u'F_var', u'G_var'], dtype='object')\n",
        "D:\n",
        "Optimal number of features : 1"
       ]
      },
      {
       "output_type": "stream",
       "stream": "stdout",
       "text": [
        "\n",
        "Index([u'D'], dtype='object')\n",
        "E:\n",
        "Optimal number of features : 1"
       ]
      },
      {
       "output_type": "stream",
       "stream": "stdout",
       "text": [
        "\n",
        "Index([u'E'], dtype='object')\n",
        "F:\n",
        "Optimal number of features : 6"
       ]
      },
      {
       "output_type": "stream",
       "stream": "stdout",
       "text": [
        "\n",
        "Index([u'shopping_pt', u'A', u'F', u'A_var', u'E_var', u'F_var'], dtype='object')\n",
        "G:\n",
        "Optimal number of features : 3"
       ]
      },
      {
       "output_type": "stream",
       "stream": "stdout",
       "text": [
        "\n",
        "Index([u'shopping_pt', u'G', u'G_var'], dtype='object')\n",
        "--------Number of offers:10"
       ]
      },
      {
       "output_type": "stream",
       "stream": "stdout",
       "text": [
        "\n",
        "55\n",
        "A:\n",
        "Optimal number of features : 1"
       ]
      },
      {
       "output_type": "stream",
       "stream": "stdout",
       "text": [
        "\n",
        "Index([u'A'], dtype='object')\n",
        "B:\n",
        "Optimal number of features : 42"
       ]
      },
      {
       "output_type": "stream",
       "stream": "stdout",
       "text": [
        "\n",
        "Index([u'shopping_pt', u'day', u'state', u'group_size', u'homeowner', u'car_age', u'car_value', u'risk_factor', u'age_oldest', u'married_couple', u'C_previous', u'A', u'B', u'C', u'D', u'E', u'F', u'G', u'cost', u'duration_offers', u'A_init', u'B_init', u'C_init', u'D_init', u'E_init', u'F_init', u'G_init', u'A_change', u'B_change', u'C_change', u'D_change', u'E_change', u'F_change', u'G_change', u'A_var', u'B_var', u'C_var', u'D_var', u'E_var', u'F_var', u'G_var', u'init_cost'], dtype='object')\n",
        "C:\n",
        "Optimal number of features : 22"
       ]
      },
      {
       "output_type": "stream",
       "stream": "stdout",
       "text": [
        "\n",
        "Index([u'shopping_pt', u'group_size', u'homeowner', u'C_previous', u'A', u'C', u'D', u'E', u'A_init', u'C_init', u'D_init', u'E_init', u'C_change', u'D_change', u'E_change', u'A_var', u'B_var', u'C_var', u'D_var', u'E_var', u'F_var', u'G_var'], dtype='object')\n",
        "D:\n",
        "Optimal number of features : 1"
       ]
      },
      {
       "output_type": "stream",
       "stream": "stdout",
       "text": [
        "\n",
        "Index([u'D'], dtype='object')\n",
        "E:\n",
        "Optimal number of features : 1"
       ]
      },
      {
       "output_type": "stream",
       "stream": "stdout",
       "text": [
        "\n",
        "Index([u'E'], dtype='object')\n",
        "F:\n",
        "Optimal number of features : 6"
       ]
      },
      {
       "output_type": "stream",
       "stream": "stdout",
       "text": [
        "\n",
        "Index([u'shopping_pt', u'A', u'F', u'A_var', u'E_var', u'F_var'], dtype='object')\n",
        "G:\n",
        "Optimal number of features : 3"
       ]
      },
      {
       "output_type": "stream",
       "stream": "stdout",
       "text": [
        "\n",
        "Index([u'shopping_pt', u'G', u'G_var'], dtype='object')\n",
        "--------Number of offers:11"
       ]
      },
      {
       "output_type": "stream",
       "stream": "stdout",
       "text": [
        "\n",
        "55\n",
        "A:\n",
        "Optimal number of features : 1"
       ]
      },
      {
       "output_type": "stream",
       "stream": "stdout",
       "text": [
        "\n",
        "Index([u'A'], dtype='object')\n",
        "B:\n",
        "Optimal number of features : 1"
       ]
      },
      {
       "output_type": "stream",
       "stream": "stdout",
       "text": [
        "\n",
        "Index([u'B'], dtype='object')\n",
        "C:\n",
        "Optimal number of features : 13"
       ]
      },
      {
       "output_type": "stream",
       "stream": "stdout",
       "text": [
        "\n",
        "Index([u'shopping_pt', u'homeowner', u'C_previous', u'C', u'D', u'C_init', u'D_init', u'D_change', u'B_var', u'C_var', u'D_var', u'E_var', u'G_var'], dtype='object')\n",
        "D:\n",
        "Optimal number of features : 13"
       ]
      },
      {
       "output_type": "stream",
       "stream": "stdout",
       "text": [
        "\n",
        "Index([u'shopping_pt', u'homeowner', u'B', u'C', u'D', u'E', u'G', u'A_init', u'E_init', u'D_change', u'B_var', u'D_var', u'G_var'], dtype='object')\n",
        "E:\n",
        "Optimal number of features : 1"
       ]
      },
      {
       "output_type": "stream",
       "stream": "stdout",
       "text": [
        "\n",
        "Index([u'E'], dtype='object')\n",
        "F:\n",
        "Optimal number of features : 1"
       ]
      },
      {
       "output_type": "stream",
       "stream": "stdout",
       "text": [
        "\n",
        "Index([u'F'], dtype='object')\n",
        "G:\n",
        "Optimal number of features : 6"
       ]
      },
      {
       "output_type": "stream",
       "stream": "stdout",
       "text": [
        "\n",
        "Index([u'shopping_pt', u'G', u'G_init', u'G_change', u'D_var', u'G_var'], dtype='object')\n",
        "--------Number of offers:12"
       ]
      },
      {
       "output_type": "stream",
       "stream": "stderr",
       "text": [
        "/Applications/anaconda/lib/python2.7/site-packages/sklearn/metrics/metrics.py:1249: UserWarning: The precision and recall are equal to zero for some labels. fbeta_score is ill defined for those labels [ 4.]. \n",
        "  average=average)\n",
        "/Applications/anaconda/lib/python2.7/site-packages/sklearn/metrics/metrics.py:1249: UserWarning: The precision and recall are equal to zero for some labels. fbeta_score is ill defined for those labels [ 0.]. \n",
        "  average=average)\n"
       ]
      },
      {
       "output_type": "stream",
       "stream": "stdout",
       "text": [
        "\n",
        "55\n",
        "A:\n",
        "Optimal number of features : 44"
       ]
      },
      {
       "output_type": "stream",
       "stream": "stdout",
       "text": [
        "\n",
        "Index([u'shopping_pt', u'day', u'state', u'group_size', u'homeowner', u'car_age', u'car_value', u'risk_factor', u'age_oldest', u'age_youngest', u'married_couple', u'C_previous', u'duration_previous', u'A', u'B', u'C', u'D', u'E', u'F', u'G', u'cost', u'duration_offers', u'A_init', u'B_init', u'C_init', u'D_init', u'E_init', u'F_init', u'G_init', u'A_change', u'B_change', u'C_change', u'D_change', u'E_change', u'F_change', u'G_change', u'A_var', u'B_var', u'C_var', u'D_var', u'E_var', u'F_var', u'G_var', u'init_cost'], dtype='object')\n",
        "B:\n",
        "Optimal number of features : 1"
       ]
      },
      {
       "output_type": "stream",
       "stream": "stderr",
       "text": [
        "/Applications/anaconda/lib/python2.7/site-packages/sklearn/metrics/metrics.py:1249: UserWarning: The precision and recall are equal to zero for some labels. fbeta_score is ill defined for those labels [ 3.  4.]. \n",
        "  average=average)\n",
        "/Applications/anaconda/lib/python2.7/site-packages/sklearn/metrics/metrics.py:1249: UserWarning: The sum of true positives and false positives are equal to zero for some labels. Precision is ill defined for those labels [ 1.]. The precision and recall are equal to zero for some labels. fbeta_score is ill defined for those labels [ 1.  4.]. \n",
        "  average=average)\n"
       ]
      },
      {
       "output_type": "stream",
       "stream": "stdout",
       "text": [
        "\n",
        "Index([u'B'], dtype='object')\n",
        "C:\n",
        "Optimal number of features : 1"
       ]
      },
      {
       "output_type": "stream",
       "stream": "stderr",
       "text": [
        "/Applications/anaconda/lib/python2.7/site-packages/sklearn/metrics/metrics.py:1249: UserWarning: The sum of true positives and false positives are equal to zero for some labels. Precision is ill defined for those labels [ 1.]. The precision and recall are equal to zero for some labels. fbeta_score is ill defined for those labels [ 1.  2.]. \n",
        "  average=average)\n",
        "/Applications/anaconda/lib/python2.7/site-packages/sklearn/metrics/metrics.py:1249: UserWarning: The precision and recall are equal to zero for some labels. fbeta_score is ill defined for those labels [ 1.]. \n",
        "  average=average)\n"
       ]
      },
      {
       "output_type": "stream",
       "stream": "stdout",
       "text": [
        "\n",
        "Index([u'C'], dtype='object')\n",
        "D:\n",
        "Optimal number of features : 5"
       ]
      },
      {
       "output_type": "stream",
       "stream": "stdout",
       "text": [
        "\n",
        "Index([u'group_size', u'D', u'E', u'B_init', u'D_change'], dtype='object')\n",
        "E:\n",
        "Optimal number of features : 1"
       ]
      },
      {
       "output_type": "stream",
       "stream": "stderr",
       "text": [
        "/Applications/anaconda/lib/python2.7/site-packages/sklearn/metrics/metrics.py:1249: UserWarning: The sum of true positives and false positives are equal to zero for some labels. Precision is ill defined for those labels [ 1.  2.]. The precision and recall are equal to zero for some labels. fbeta_score is ill defined for those labels [ 1.  2.]. \n",
        "  average=average)\n",
        "/Applications/anaconda/lib/python2.7/site-packages/sklearn/metrics/metrics.py:1249: UserWarning: The precision and recall are equal to zero for some labels. fbeta_score is ill defined for those labels [ 0.  3.]. \n",
        "  average=average)\n"
       ]
      },
      {
       "output_type": "stream",
       "stream": "stderr",
       "text": [
        "/Applications/anaconda/lib/python2.7/site-packages/sklearn/metrics/metrics.py:1249: UserWarning: The sum of true positives and false positives are equal to zero for some labels. Precision is ill defined for those labels [ 0.]. The precision and recall are equal to zero for some labels. fbeta_score is ill defined for those labels [ 0.  3.]. \n",
        "  average=average)\n",
        "/Applications/anaconda/lib/python2.7/site-packages/sklearn/metrics/metrics.py:1249: UserWarning: The sum of true positives and false positives are equal to zero for some labels. Precision is ill defined for those labels [ 3.]. The precision and recall are equal to zero for some labels. fbeta_score is ill defined for those labels [ 0.  3.]. \n",
        "  average=average)\n"
       ]
      },
      {
       "output_type": "stream",
       "stream": "stderr",
       "text": [
        "/Applications/anaconda/lib/python2.7/site-packages/sklearn/metrics/metrics.py:1249: UserWarning: The precision and recall are equal to zero for some labels. fbeta_score is ill defined for those labels [ 1.  3.]. \n",
        "  average=average)\n",
        "/Applications/anaconda/lib/python2.7/site-packages/sklearn/metrics/metrics.py:1249: UserWarning: The sum of true positives and false positives are equal to zero for some labels. Precision is ill defined for those labels [ 3.]. The precision and recall are equal to zero for some labels. fbeta_score is ill defined for those labels [ 1.  3.]. \n",
        "  average=average)\n"
       ]
      },
      {
       "output_type": "stream",
       "stream": "stdout",
       "text": [
        "\n",
        "Index([u'E'], dtype='object')\n",
        "F:\n",
        "Optimal number of features : 4"
       ]
      },
      {
       "output_type": "stream",
       "stream": "stderr",
       "text": [
        "/Applications/anaconda/lib/python2.7/site-packages/sklearn/metrics/metrics.py:1249: UserWarning: The precision and recall are equal to zero for some labels. fbeta_score is ill defined for those labels [ 1.  4.]. \n",
        "  average=average)\n",
        "/Applications/anaconda/lib/python2.7/site-packages/sklearn/metrics/metrics.py:1249: UserWarning: The sum of true positives and false positives are equal to zero for some labels. Precision is ill defined for those labels [ 1.  4.]. The precision and recall are equal to zero for some labels. fbeta_score is ill defined for those labels [ 1.  2.  4.]. \n",
        "  average=average)\n"
       ]
      },
      {
       "output_type": "stream",
       "stream": "stdout",
       "text": [
        "\n",
        "Index([u'A', u'C', u'F', u'D_init'], dtype='object')\n",
        "G:\n",
        "Optimal number of features : 33"
       ]
      },
      {
       "output_type": "stream",
       "stream": "stdout",
       "text": [
        "\n",
        "Index([u'shopping_pt', u'day', u'group_size', u'homeowner', u'car_age', u'car_value', u'risk_factor', u'age_oldest', u'married_couple', u'C_previous', u'duration_previous', u'A', u'B', u'C', u'D', u'F', u'G', u'duration_offers', u'B_init', u'C_init', u'D_init', u'E_init', u'F_init', u'G_init', u'A_change', u'B_change', u'C_change', u'D_change', u'E_change', u'F_change', u'G_change', u'C_var', u'G_var'], dtype='object')\n"
       ]
      }
     ],
     "prompt_number": 9
    },
    {
     "cell_type": "code",
     "collapsed": false,
     "input": [],
     "language": "python",
     "metadata": {},
     "outputs": []
    }
   ],
   "metadata": {}
  }
 ]
}