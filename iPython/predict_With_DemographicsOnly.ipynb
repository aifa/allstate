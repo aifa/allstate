{
 "metadata": {
  "name": ""
 },
 "nbformat": 3,
 "nbformat_minor": 0,
 "worksheets": [
  {
   "cells": [
    {
     "cell_type": "code",
     "collapsed": false,
     "input": [
      "__author__ = 'aifa'\n",
      "\n",
      "import os\n",
      "import pandas as pd\n",
      "import numpy as np\n",
      "import pylab as pl\n",
      "\n",
      "from sklearn import clone\n",
      "\n",
      "from sklearn.ensemble.weight_boosting import AdaBoostClassifier\n",
      "from sklearn.ensemble.forest import (RandomForestClassifier,RandomForestRegressor,\n",
      "                                        ExtraTreesClassifier)\n",
      "\n",
      "from sklearn.linear_model import LogisticRegression\n",
      "from sklearn import svm\n",
      "\n",
      "import math as math\n",
      "from sklearn.externals.six.moves import xrange\n",
      "from sklearn.tree import DecisionTreeClassifier\n",
      "\n",
      "from sklearn.svm import SVR\n",
      "from sklearn.cross_validation import StratifiedKFold\n",
      "\n",
      "from sklearn.feature_selection import RFE\n",
      "from sklearn.pipeline import Pipeline\n",
      "\n",
      "train_sets={}\n",
      "train_1 = pd.read_csv(\"/Users/aifa/Dropbox/kaggle/insurance/future/train_all_split_1.csv\", header=0, encoding=\"UTF-8\", error_bad_lines=False, sep=\",\", index_col=0)\n",
      "train_sets[1]=train_1\n",
      "train_2 = pd.read_csv(\"/Users/aifa/Dropbox/kaggle/insurance/future/train_all_split_2.csv\", header=0, encoding=\"UTF-8\", error_bad_lines=False, sep=\",\", index_col=0)\n",
      "train_sets[2]=train_2\n",
      "train_3 = pd.read_csv(\"/Users/aifa/Dropbox/kaggle/insurance/future/train_all_split_3.csv\", header=0, encoding=\"UTF-8\", error_bad_lines=False, sep=\",\", index_col=0)\n",
      "train_sets[3]=train_3\n",
      "train_4 = pd.read_csv(\"/Users/aifa/Dropbox/kaggle/insurance/future/train_all_split_4.csv\", header=0, encoding=\"UTF-8\", error_bad_lines=False, sep=\",\", index_col=0)\n",
      "train_sets[4]=train_4\n",
      "train_5 = pd.read_csv(\"/Users/aifa/Dropbox/kaggle/insurance/future/train_all_split_5.csv\", header=0, encoding=\"UTF-8\", error_bad_lines=False, sep=\",\", index_col=0)\n",
      "train_sets[5]=train_5\n",
      "train_6 = pd.read_csv(\"/Users/aifa/Dropbox/kaggle/insurance/future/train_all_split_6.csv\", header=0, encoding=\"UTF-8\", error_bad_lines=False, sep=\",\", index_col=0)\n",
      "train_sets[6]=train_6\n",
      "train_7 = pd.read_csv(\"/Users/aifa/Dropbox/kaggle/insurance/future/train_all_split_7.csv\", header=0, encoding=\"UTF-8\", error_bad_lines=False, sep=\",\", index_col=0)\n",
      "train_sets[7]=train_7\n",
      "train_8 = pd.read_csv(\"/Users/aifa/Dropbox/kaggle/insurance/future/train_all_split_8.csv\", header=0, encoding=\"UTF-8\", error_bad_lines=False, sep=\",\", index_col=0)\n",
      "train_sets[8]=train_8\n",
      "train_9 = pd.read_csv(\"/Users/aifa/Dropbox/kaggle/insurance/future/train_all_split_9.csv\", header=0, encoding=\"UTF-8\", error_bad_lines=False, sep=\",\", index_col=0)\n",
      "train_sets[9]=train_9\n",
      "train_10 = pd.read_csv(\"/Users/aifa/Dropbox/kaggle/insurance/future/train_all_split_10.csv\", header=0, encoding=\"UTF-8\", error_bad_lines=False, sep=\",\", index_col=0)\n",
      "train_sets[10]=train_10\n",
      "train_11 = pd.read_csv(\"/Users/aifa/Dropbox/kaggle/insurance/future/train_all_split_11.csv\", header=0, encoding=\"UTF-8\", error_bad_lines=False, sep=\",\", index_col=0)\n",
      "train_sets[11]=train_11\n",
      "train_12 = pd.read_csv(\"/Users/aifa/Dropbox/kaggle/insurance/future/train_all_split_12.csv\", header=0, encoding=\"UTF-8\", error_bad_lines=False, sep=\",\", index_col=0)\n",
      "train_sets[12]=train_12\n",
      "\n",
      "test_2 = pd.read_csv(\"/Users/aifa/Dropbox/kaggle/insurance/future/test_v2_all_future.csv\", header=0, encoding=\"UTF-8\", error_bad_lines=False, sep=\",\", index_col=0)\n",
      "\n",
      "\n",
      "results_df = pd.DataFrame(index=test_2.index)\n",
      "resultCol = pd.Series(index=test_2.index,dtype=object)\n",
      "\n",
      "#try random forest on feature A\n",
      "n_estimators = 100\n",
      "\n",
      "rfcModel = RandomForestClassifier(n_estimators=n_estimators)\n",
      "rfrmodel = RandomForestRegressor(n_estimators=n_estimators)\n",
      "lr = LogisticRegression()\n",
      "\n",
      "\n",
      "#svr =  SVR(C=1.0, epsilon=0.2)\n",
      "C = 10.0  # SVM regularization parameter\n",
      "svc = svm.SVC(kernel='linear', C=C)\n",
      "#rbf_svc = svm.SVC(kernel='rbf', gamma=0.7, C=C)\n",
      "#poly_svc = svm.SVC(kernel='poly', degree=3, C=C)\n",
      "\n",
      "#A_cols=['A', 'cost', 'cost_var']\n",
      "#B_cols=['B', 'cost', 'cost_var']\n",
      "#C_cols=['shopping_pt', 'C', 'total_offers', 'C_change', 'C_var', 'D_var', 'cost', 'cost_var']\n",
      "#D_cols=['D', 'cost', 'cost_var']\n",
      "#E_cols=['E', 'cost', 'cost_var']\n",
      "#F_cols=['F', 'A_var', 'E_var', 'cost', 'cost_var']\n",
      "#G_cols=['G', 'total_offers', 'E_var', 'cost', 'cost_var']\n",
      "\n",
      "A_cols=['A']\n",
      "B_cols=['B']\n",
      "C_cols=['C','shopping_pt', 'total_offers', 'C_change', 'C_var', 'D_var']\n",
      "D_cols=['D', 'cost', 'cost_var']\n",
      "E_cols=['E', 'cost', 'cost_var']\n",
      "F_cols=['F', 'A_var', 'E_var']\n",
      "G_cols=['G','total_offers', 'E_var']\n",
      "\n",
      "def cleanup(df):\n",
      "\n",
      "    #find columns that contain null values\n",
      "    inds = pd.isnull(df).any(0).nonzero()\n",
      "\n",
      "    df['car_value'] = df['car_value'].fillna('0')\n",
      "    df['car_value']=df['car_value'].apply(lambda letter :  abs(ord(letter) - 96))\n",
      "    df['state']=df['state'].apply(lambda letter :  abs(ord(letter[0]) - 96 + ord(letter[1]) - 96))\n",
      "\n",
      "    #remove product feature\n",
      "    #df=df.drop(['product'], axis=1)\n",
      "    #df=df.drop(['state'], axis=1)\n",
      "    #df=df.drop(['location'], axis=1)\n",
      "    df=df.drop(['time'], axis=1)\n",
      "\n",
      "    #impute the null values\n",
      "    df['risk_factor'] = df['risk_factor'].fillna(0)\n",
      "    df['C_previous'] = df['C_previous'].fillna(0)\n",
      "    df['duration_previous'] = df['duration_previous'].fillna(0)\n",
      "    df['location'] = df['location'].fillna(0)\n",
      "\n",
      "    df['A_var'] = df['A_var'].fillna(0)\n",
      "    df['B_var'] = df['B_var'].fillna(0)\n",
      "    df['C_var'] = df['C_var'].fillna(0)\n",
      "    df['D_var'] = df['D_var'].fillna(0)\n",
      "    df['E_var'] = df['E_var'].fillna(0)\n",
      "    df['F_var'] = df['F_var'].fillna(0)\n",
      "    df['G_var'] = df['G_var'].fillna(0)\n",
      "    df['cost_var'] = df['cost_var'].fillna(0)\n",
      "    #drop any other rows that might contain null values (at this point only lines with empty key cols should be removed from the training sets)\n",
      "    df=df.dropna()\n",
      "\n",
      "    return df\n",
      "\n",
      "def cleanup_test(df):\n",
      "\n",
      "    #find columns that contain null values\n",
      "    inds = pd.isnull(df).any(0).nonzero()\n",
      "\n",
      "    df['car_value'] = df['car_value'].fillna('0')\n",
      "    df['car_value']=df['car_value'].apply(lambda letter :  abs(ord(letter) - 96))\n",
      "    df['state']=df['state'].apply(lambda letter :  abs(ord(letter[0]) - 96 + ord(letter[1]) - 96))\n",
      "\n",
      "    #remove product feature\n",
      "    #df=df.drop(['product'], axis=1)\n",
      "    #df=df.drop(['state'], axis=1)\n",
      "    #df=df.drop(['location'], axis=1)\n",
      "    df=df.drop(['time'], axis=1)\n",
      "    \n",
      "    #impute the null values\n",
      "    df['risk_factor'] = df['risk_factor'].fillna(0)\n",
      "    df['C_previous'] = df['C_previous'].fillna(0)\n",
      "    df['duration_previous'] = df['duration_previous'].fillna(0)\n",
      "    df['location'] = df['location'].fillna(0)\n",
      "\n",
      "    df['A_var'] = df['A_var'].fillna(0)\n",
      "    df['B_var'] = df['B_var'].fillna(0)\n",
      "    df['C_var'] = df['C_var'].fillna(0)\n",
      "    df['D_var'] = df['D_var'].fillna(0)\n",
      "    df['E_var'] = df['E_var'].fillna(0)\n",
      "    df['F_var'] = df['F_var'].fillna(0)\n",
      "    df['G_var'] = df['G_var'].fillna(0)\n",
      "    df['cost_var'] = df['cost_var'].fillna(0)\n",
      "\n",
      "    return df\n",
      "\n",
      "def train_model(train_df, select_model, model, feature_number=1, yName='A_purchase'):\n",
      "    input_df = train_df.copy(deep=True)\n",
      "    y = input_df[yName].values\n",
      "\n",
      "    #input_df=input_df.drop(['A_purchase'], axis=1)\n",
      "    #input_df=input_df.drop(['B_purchase'], axis=1)\n",
      "    #input_df=input_df.drop(['C_purchase'], axis=1)\n",
      "    #input_df=input_df.drop(['D_purchase'], axis=1)\n",
      "    #input_df=input_df.drop(['E_purchase'], axis=1)\n",
      "    #input_df=input_df.drop(['F_purchase'], axis=1)\n",
      "    #input_df=input_df.drop(['G_purchase'], axis=1)\n",
      "\n",
      "    #if (yName=='G_purchase'):\n",
      "    #    input_df=input_df.drop(['C_previous'], axis=1)\n",
      "    \n",
      "    if (yName=='A_purchase'):\n",
      "        input_df=input_df[A_cols]\n",
      "    if (yName=='B_purchase'):\n",
      "        input_df=input_df[B_cols]\n",
      "    if (yName=='C_purchase'):\n",
      "        input_df=input_df[C_cols]\n",
      "    if (yName=='D_purchase'):\n",
      "        input_df=input_df[D_cols]\n",
      "    if (yName=='E_purchase'):\n",
      "        input_df=input_df[E_cols]\n",
      "    if (yName=='F_purchase'):\n",
      "        input_df=input_df[F_cols]\n",
      "    if (yName=='G_purchase'):\n",
      "        input_df=input_df[G_cols]\n",
      "\n",
      "\n",
      "    #input_df=input_df[['shopping_pt', 'record_type', 'day', 'state', 'location', 'group_size', 'homeowner', 'car_age', \n",
      "    #                   'car_value', 'risk_factor','age_oldest', 'age_youngest', 'married_couple', 'C_previous', \n",
      "    #                   'duration_previous']]\n",
      "    \n",
      "    X = input_df.values\n",
      "\n",
      "    skf=StratifiedKFold(y, n_folds=3 )\n",
      "\n",
      "    best_model=None\n",
      "    best_model_score=0\n",
      "    for train_index, test_index in skf:\n",
      "        #print(\"TRAIN:\", train_index, \"TEST:\", test_index)\n",
      "        X_train, X_test = X[train_index], X[test_index]\n",
      "        y_train, y_test = y[train_index], y[test_index]\n",
      "        \n",
      "        #selector = RFE(select_model, step=1, n_features_to_select=features_to_select)\n",
      "        clf = clone(model)\n",
      "        #pipeline = Pipeline([('rfe', selector), ('lr', clf)])\n",
      "        pipeline = Pipeline([('lr', clf)])\n",
      "        pipeline = pipeline.fit(X_train, y_train)\n",
      "\n",
      "        print \"score:\"+ yName +\":\"+str(pipeline.score(X_test,y_test))\n",
      "\n",
      "        if best_model==None or best_model_score<clf.score(X_test, y_test):\n",
      "            best_model=clf\n",
      "            best_model_score=clf.score(X_test, y_test)\n",
      "            \n",
      "\n",
      "    trained_model = best_model\n",
      "\n",
      "    return trained_model, best_model_score\n",
      "\n",
      "def predict(test_2_df, model, prodStr='A_purchase'):\n",
      "\n",
      "    test_df = test_2_df.copy(deep=True)\n",
      "    test_y = test_df[prodStr]\n",
      "\n",
      "#    if prodStr=='total_offers':\n",
      "#        test_df=test_df.drop([prodStr])\n",
      "#    else:\n",
      "#        test_df=test_df.drop(['A_purchase'])\n",
      "#        test_df=test_df.drop(['B_purchase'])\n",
      "#        test_df=test_df.drop(['C_purchase'])\n",
      "#        test_df=test_df.drop(['D_purchase'])\n",
      "#        test_df=test_df.drop(['E_purchase'])\n",
      "#        test_df=test_df.drop(['F_purchase'])\n",
      "#        test_df=test_df.drop(['G_purchase'])\n",
      "\n",
      " #   if (prodStr=='G_purchase'):\n",
      " #       test_df=test_df.drop(['C_previous'])\n",
      "\n",
      "    if (prodStr=='A_purchase'):\n",
      "        test_df=test_df[A_cols]\n",
      "    if (prodStr=='B_purchase'):\n",
      "        test_df=test_df[B_cols]\n",
      "    if (prodStr=='C_purchase'):\n",
      "        test_df=test_df[C_cols]\n",
      "    if (prodStr=='D_purchase'):\n",
      "        test_df=test_df[D_cols]\n",
      "    if (prodStr=='E_purchase'):\n",
      "        test_df=test_df[E_cols]\n",
      "    if (prodStr=='F_purchase'):\n",
      "        test_df=test_df[F_cols]\n",
      "    if (prodStr=='G_purchase'):\n",
      "        test_df=test_df[G_cols]\n",
      "\n",
      " #   test_df=test_df[['shopping_pt', 'record_type', 'day', 'state', 'location', 'group_size', 'homeowner', 'car_age', \n",
      " #                    'car_value', 'risk_factor','age_oldest', 'age_youngest', 'married_couple', 'C_previous', \n",
      " #                    'duration_previous']]\n",
      "\n",
      "    test_X = test_df.values\n",
      "\n",
      "    prediction = model.predict(test_X)\n",
      "\n",
      "    #print prodStr +\":\"+str(prediction)\n",
      "\n",
      "    return prediction\n",
      "\n",
      "\n",
      "modelADict={}\n",
      "modelBDict={}\n",
      "modelCDict={}\n",
      "modelDDict={}\n",
      "modelEDict={}\n",
      "modelFDict={}\n",
      "modelGDict={}\n",
      "\n",
      "modelAScores={}\n",
      "modelBScores={}\n",
      "modelCScores={}\n",
      "modelDScores={}\n",
      "modelEScores={}\n",
      "modelFScores={}\n",
      "modelGScores={}\n",
      "\n",
      "for i in range(1,13):\n",
      "    print \"offers:\"+str(i)\n",
      "    train = cleanup(train_sets[i])\n",
      "    modelADict[i], modelAScores[i] = train_model(train, lr, lr)\n",
      "    modelBDict[i], modelAScores[i] = train_model(train, lr, lr, yName='B_purchase')\n",
      "    modelCDict[i], modelAScores[i] = train_model(train, lr, lr, yName='C_purchase')\n",
      "    modelDDict[i], modelAScores[i] = train_model(train, lr, lr, yName='D_purchase')\n",
      "    modelEDict[i], modelAScores[i] = train_model(train, lr, lr, yName='E_purchase')\n",
      "    modelFDict[i], modelAScores[i] = train_model(train, lr, lr, yName='F_purchase')\n",
      "    modelGDict[i], modelAScores[i] = train_model(train, lr, lr, yName='G_purchase')"
     ],
     "language": "python",
     "metadata": {},
     "outputs": [
      {
       "output_type": "stream",
       "stream": "stdout",
       "text": [
        "offers:1\n",
        "score:A_purchase:0.614188081764"
       ]
      },
      {
       "output_type": "stream",
       "stream": "stdout",
       "text": [
        "\n",
        "score:A_purchase:0.614207075705"
       ]
      },
      {
       "output_type": "stream",
       "stream": "stdout",
       "text": [
        "\n",
        "score:A_purchase:0.614176150421"
       ]
      },
      {
       "output_type": "stream",
       "stream": "stdout",
       "text": [
        "\n",
        "score:B_purchase:0.719887435445"
       ]
      },
      {
       "output_type": "stream",
       "stream": "stdout",
       "text": [
        "\n",
        "score:B_purchase:0.716971796141\n",
        "score:B_purchase:0.717497525977"
       ]
      },
      {
       "output_type": "stream",
       "stream": "stdout",
       "text": [
        "\n",
        "score:C_purchase:0.513529393574"
       ]
      },
      {
       "output_type": "stream",
       "stream": "stdout",
       "text": [
        "\n",
        "score:C_purchase:0.513112320633"
       ]
      },
      {
       "output_type": "stream",
       "stream": "stdout",
       "text": [
        "\n",
        "score:C_purchase:0.514905987135"
       ]
      },
      {
       "output_type": "stream",
       "stream": "stdout",
       "text": [
        "\n",
        "score:D_purchase:0.639948047129"
       ]
      },
      {
       "output_type": "stream",
       "stream": "stdout",
       "text": [
        "\n",
        "score:D_purchase:0.646214745176"
       ]
      },
      {
       "output_type": "stream",
       "stream": "stdout",
       "text": [
        "\n",
        "score:D_purchase:0.640369866403"
       ]
      },
      {
       "output_type": "stream",
       "stream": "stdout",
       "text": [
        "\n",
        "score:E_purchase:0.698271330055"
       ]
      },
      {
       "output_type": "stream",
       "stream": "stdout",
       "text": [
        "\n",
        "score:E_purchase:0.706302572984"
       ]
      },
      {
       "output_type": "stream",
       "stream": "stdout",
       "text": [
        "\n",
        "score:E_purchase:0.702344136566"
       ]
      },
      {
       "output_type": "stream",
       "stream": "stdout",
       "text": [
        "\n",
        "score:F_purchase:0.530135757801"
       ]
      },
      {
       "output_type": "stream",
       "stream": "stdout",
       "text": [
        "\n",
        "score:F_purchase:0.531543790203"
       ]
      },
      {
       "output_type": "stream",
       "stream": "stdout",
       "text": [
        "\n",
        "score:F_purchase:0.532316922316"
       ]
      },
      {
       "output_type": "stream",
       "stream": "stdout",
       "text": [
        "\n",
        "score:G_purchase:0.522126356805"
       ]
      },
      {
       "output_type": "stream",
       "stream": "stdout",
       "text": [
        "\n",
        "score:G_purchase:0.522049727857"
       ]
      },
      {
       "output_type": "stream",
       "stream": "stdout",
       "text": [
        "\n",
        "score:G_purchase:0.524523750619"
       ]
      },
      {
       "output_type": "stream",
       "stream": "stdout",
       "text": [
        "\n",
        "offers:2\n",
        "score:A_purchase:0.741070600241"
       ]
      },
      {
       "output_type": "stream",
       "stream": "stdout",
       "text": [
        "\n",
        "score:A_purchase:0.742701632855"
       ]
      },
      {
       "output_type": "stream",
       "stream": "stdout",
       "text": [
        "\n",
        "score:A_purchase:0.745206580901"
       ]
      },
      {
       "output_type": "stream",
       "stream": "stdout",
       "text": [
        "\n",
        "score:B_purchase:0.836781395924"
       ]
      },
      {
       "output_type": "stream",
       "stream": "stdout",
       "text": [
        "\n",
        "score:B_purchase:0.837333003464\n",
        "score:B_purchase:0.837735032162"
       ]
      },
      {
       "output_type": "stream",
       "stream": "stdout",
       "text": [
        "\n",
        "score:C_purchase:0.609054643288"
       ]
      },
      {
       "output_type": "stream",
       "stream": "stdout",
       "text": [
        "\n",
        "score:C_purchase:0.610372340426"
       ]
      },
      {
       "output_type": "stream",
       "stream": "stdout",
       "text": [
        "\n",
        "score:C_purchase:0.609908461158"
       ]
      },
      {
       "output_type": "stream",
       "stream": "stdout",
       "text": [
        "\n",
        "score:D_purchase:0.725330117203"
       ]
      },
      {
       "output_type": "stream",
       "stream": "stdout",
       "text": [
        "\n",
        "score:D_purchase:0.726929737754"
       ]
      },
      {
       "output_type": "stream",
       "stream": "stdout",
       "text": [
        "\n",
        "score:D_purchase:0.725847352796"
       ]
      },
      {
       "output_type": "stream",
       "stream": "stdout",
       "text": [
        "\n",
        "score:E_purchase:0.835266103844"
       ]
      },
      {
       "output_type": "stream",
       "stream": "stdout",
       "text": [
        "\n",
        "score:E_purchase:0.83853908956"
       ]
      },
      {
       "output_type": "stream",
       "stream": "stdout",
       "text": [
        "\n",
        "score:E_purchase:0.835230084117"
       ]
      },
      {
       "output_type": "stream",
       "stream": "stdout",
       "text": [
        "\n",
        "score:F_purchase:0.625599158858"
       ]
      },
      {
       "output_type": "stream",
       "stream": "stdout",
       "text": [
        "\n",
        "score:F_purchase:0.628865660564"
       ]
      },
      {
       "output_type": "stream",
       "stream": "stdout",
       "text": [
        "\n",
        "score:F_purchase:0.62629886195"
       ]
      },
      {
       "output_type": "stream",
       "stream": "stdout",
       "text": [
        "\n",
        "score:G_purchase:0.71373349414"
       ]
      },
      {
       "output_type": "stream",
       "stream": "stdout",
       "text": [
        "\n",
        "score:G_purchase:0.714250371103"
       ]
      },
      {
       "output_type": "stream",
       "stream": "stdout",
       "text": [
        "\n",
        "score:G_purchase:0.716724393864"
       ]
      },
      {
       "output_type": "stream",
       "stream": "stdout",
       "text": [
        "\n",
        "offers:3\n",
        "score:A_purchase:0.880581345756"
       ]
      },
      {
       "output_type": "stream",
       "stream": "stdout",
       "text": [
        "\n",
        "score:A_purchase:0.877657480315"
       ]
      },
      {
       "output_type": "stream",
       "stream": "stdout",
       "text": [
        "\n",
        "score:A_purchase:0.879035433071"
       ]
      },
      {
       "output_type": "stream",
       "stream": "stdout",
       "text": [
        "\n",
        "score:B_purchase:0.886486663823"
       ]
      },
      {
       "output_type": "stream",
       "stream": "stdout",
       "text": [
        "\n",
        "score:B_purchase:0.887368766404\n",
        "score:B_purchase:0.887992125984"
       ]
      },
      {
       "output_type": "stream",
       "stream": "stdout",
       "text": [
        "\n",
        "score:C_purchase:0.722909353368"
       ]
      },
      {
       "output_type": "stream",
       "stream": "stdout",
       "text": [
        "\n",
        "score:C_purchase:0.724934383202"
       ]
      },
      {
       "output_type": "stream",
       "stream": "stdout",
       "text": [
        "\n",
        "score:C_purchase:0.725426509186"
       ]
      },
      {
       "output_type": "stream",
       "stream": "stdout",
       "text": [
        "\n",
        "score:D_purchase:0.821757816345"
       ]
      },
      {
       "output_type": "stream",
       "stream": "stdout",
       "text": [
        "\n",
        "score:D_purchase:0.820177165354"
       ]
      },
      {
       "output_type": "stream",
       "stream": "stdout",
       "text": [
        "\n",
        "score:D_purchase:0.820734908136"
       ]
      },
      {
       "output_type": "stream",
       "stream": "stdout",
       "text": [
        "\n",
        "score:E_purchase:0.892457596536"
       ]
      },
      {
       "output_type": "stream",
       "stream": "stdout",
       "text": [
        "\n",
        "score:E_purchase:0.889665354331"
       ]
      },
      {
       "output_type": "stream",
       "stream": "stdout",
       "text": [
        "\n",
        "score:E_purchase:0.886942257218"
       ]
      },
      {
       "output_type": "stream",
       "stream": "stdout",
       "text": [
        "\n",
        "score:F_purchase:0.827597519766"
       ]
      },
      {
       "output_type": "stream",
       "stream": "stdout",
       "text": [
        "\n",
        "score:F_purchase:0.829560367454"
       ]
      },
      {
       "output_type": "stream",
       "stream": "stdout",
       "text": [
        "\n",
        "score:F_purchase:0.825688976378"
       ]
      },
      {
       "output_type": "stream",
       "stream": "stdout",
       "text": [
        "\n",
        "score:G_purchase:0.753354548735"
       ]
      },
      {
       "output_type": "stream",
       "stream": "stdout",
       "text": [
        "\n",
        "score:G_purchase:0.755380577428"
       ]
      },
      {
       "output_type": "stream",
       "stream": "stdout",
       "text": [
        "\n",
        "score:G_purchase:0.760367454068"
       ]
      },
      {
       "output_type": "stream",
       "stream": "stdout",
       "text": [
        "\n",
        "offers:4\n",
        "score:A_purchase:0.902531099446"
       ]
      },
      {
       "output_type": "stream",
       "stream": "stdout",
       "text": [
        "\n",
        "score:A_purchase:0.901592780355"
       ]
      },
      {
       "output_type": "stream",
       "stream": "stdout",
       "text": [
        "\n",
        "score:A_purchase:0.905152266926"
       ]
      },
      {
       "output_type": "stream",
       "stream": "stdout",
       "text": [
        "\n",
        "score:B_purchase:0.91101603509"
       ]
      },
      {
       "output_type": "stream",
       "stream": "stdout",
       "text": [
        "\n",
        "score:B_purchase:0.908783662316\n",
        "score:B_purchase:0.911947650379"
       ]
      },
      {
       "output_type": "stream",
       "stream": "stdout",
       "text": [
        "\n",
        "score:C_purchase:0.766664269792"
       ]
      },
      {
       "output_type": "stream",
       "stream": "stdout",
       "text": [
        "\n",
        "score:C_purchase:0.766691834754"
       ]
      },
      {
       "output_type": "stream",
       "stream": "stdout",
       "text": [
        "\n",
        "score:C_purchase:0.77301981088"
       ]
      },
      {
       "output_type": "stream",
       "stream": "stdout",
       "text": [
        "\n",
        "score:D_purchase:0.876716761343"
       ]
      },
      {
       "output_type": "stream",
       "stream": "stdout",
       "text": [
        "\n",
        "score:D_purchase:0.878725775716"
       ]
      },
      {
       "output_type": "stream",
       "stream": "stdout",
       "text": [
        "\n",
        "score:D_purchase:0.876532556718"
       ]
      },
      {
       "output_type": "stream",
       "stream": "stdout",
       "text": [
        "\n",
        "score:E_purchase:0.916444955778"
       ]
      },
      {
       "output_type": "stream",
       "stream": "stdout",
       "text": [
        "\n",
        "score:E_purchase:0.912918419444"
       ]
      },
      {
       "output_type": "stream",
       "stream": "stdout",
       "text": [
        "\n",
        "score:E_purchase:0.910940926905"
       ]
      },
      {
       "output_type": "stream",
       "stream": "stdout",
       "text": [
        "\n",
        "score:F_purchase:0.866542029194"
       ]
      },
      {
       "output_type": "stream",
       "stream": "stdout",
       "text": [
        "\n",
        "score:F_purchase:0.869845036494"
       ]
      },
      {
       "output_type": "stream",
       "stream": "stdout",
       "text": [
        "\n",
        "score:F_purchase:0.868011361593"
       ]
      },
      {
       "output_type": "stream",
       "stream": "stdout",
       "text": [
        "\n",
        "score:G_purchase:0.77849284533"
       ]
      },
      {
       "output_type": "stream",
       "stream": "stdout",
       "text": [
        "\n",
        "score:G_purchase:0.779994966383"
       ]
      },
      {
       "output_type": "stream",
       "stream": "stdout",
       "text": [
        "\n",
        "score:G_purchase:0.777370294467"
       ]
      },
      {
       "output_type": "stream",
       "stream": "stdout",
       "text": [
        "\n",
        "offers:5\n",
        "score:A_purchase:0.916739410567"
       ]
      },
      {
       "output_type": "stream",
       "stream": "stdout",
       "text": [
        "\n",
        "score:A_purchase:0.915575508168"
       ]
      },
      {
       "output_type": "stream",
       "stream": "stdout",
       "text": [
        "\n",
        "score:A_purchase:0.916282163196"
       ]
      },
      {
       "output_type": "stream",
       "stream": "stdout",
       "text": [
        "\n",
        "score:B_purchase:0.924180072328"
       ]
      },
      {
       "output_type": "stream",
       "stream": "stdout",
       "text": [
        "\n",
        "score:B_purchase:0.923057737873\n",
        "score:B_purchase:0.924969863241"
       ]
      },
      {
       "output_type": "stream",
       "stream": "stdout",
       "text": [
        "\n",
        "score:C_purchase:0.786049798395"
       ]
      },
      {
       "output_type": "stream",
       "stream": "stdout",
       "text": [
        "\n",
        "score:C_purchase:0.789292097934"
       ]
      },
      {
       "output_type": "stream",
       "stream": "stdout",
       "text": [
        "\n",
        "score:C_purchase:0.788294467307"
       ]
      },
      {
       "output_type": "stream",
       "stream": "stdout",
       "text": [
        "\n",
        "score:D_purchase:0.902855717671"
       ]
      },
      {
       "output_type": "stream",
       "stream": "stdout",
       "text": [
        "\n",
        "score:D_purchase:0.902564742071"
       ]
      },
      {
       "output_type": "stream",
       "stream": "stdout",
       "text": [
        "\n",
        "score:D_purchase:0.904767843039"
       ]
      },
      {
       "output_type": "stream",
       "stream": "stdout",
       "text": [
        "\n",
        "score:E_purchase:0.929085089579"
       ]
      },
      {
       "output_type": "stream",
       "stream": "stdout",
       "text": [
        "\n",
        "score:E_purchase:0.92821216278"
       ]
      },
      {
       "output_type": "stream",
       "stream": "stdout",
       "text": [
        "\n",
        "score:E_purchase:0.925343974727"
       ]
      },
      {
       "output_type": "stream",
       "stream": "stdout",
       "text": [
        "\n",
        "score:F_purchase:0.880492164443"
       ]
      },
      {
       "output_type": "stream",
       "stream": "stdout",
       "text": [
        "\n",
        "score:F_purchase:0.879868645301"
       ]
      },
      {
       "output_type": "stream",
       "stream": "stdout",
       "text": [
        "\n",
        "score:F_purchase:0.880076485015"
       ]
      },
      {
       "output_type": "stream",
       "stream": "stdout",
       "text": [
        "\n",
        "score:G_purchase:0.795444153469"
       ]
      },
      {
       "output_type": "stream",
       "stream": "stdout",
       "text": [
        "\n",
        "score:G_purchase:0.789874049133"
       ]
      },
      {
       "output_type": "stream",
       "stream": "stdout",
       "text": [
        "\n",
        "score:G_purchase:0.796233944382"
       ]
      },
      {
       "output_type": "stream",
       "stream": "stdout",
       "text": [
        "\n",
        "offers:6\n",
        "score:A_purchase:0.926578249337"
       ]
      },
      {
       "output_type": "stream",
       "stream": "stdout",
       "text": [
        "\n",
        "score:A_purchase:0.925035810918"
       ]
      },
      {
       "output_type": "stream",
       "stream": "stdout",
       "text": [
        "\n",
        "score:A_purchase:0.929014801846"
       ]
      },
      {
       "output_type": "stream",
       "stream": "stdout",
       "text": [
        "\n",
        "score:B_purchase:0.93374005305"
       ]
      },
      {
       "output_type": "stream",
       "stream": "stdout",
       "text": [
        "\n",
        "score:B_purchase:0.937025836914\n",
        "score:B_purchase:0.933524324898"
       ]
      },
      {
       "output_type": "stream",
       "stream": "stdout",
       "text": [
        "\n",
        "score:C_purchase:0.803448275862"
       ]
      },
      {
       "output_type": "stream",
       "stream": "stdout",
       "text": [
        "\n",
        "score:C_purchase:0.799405804021"
       ]
      },
      {
       "output_type": "stream",
       "stream": "stdout",
       "text": [
        "\n",
        "score:C_purchase:0.799246644384"
       ]
      },
      {
       "output_type": "stream",
       "stream": "stdout",
       "text": [
        "\n",
        "score:D_purchase:0.916551724138"
       ]
      },
      {
       "output_type": "stream",
       "stream": "stdout",
       "text": [
        "\n",
        "score:D_purchase:0.916441190514"
       ]
      },
      {
       "output_type": "stream",
       "stream": "stdout",
       "text": [
        "\n",
        "score:D_purchase:0.920791553929"
       ]
      },
      {
       "output_type": "stream",
       "stream": "stdout",
       "text": [
        "\n",
        "score:E_purchase:0.936923076923"
       ]
      },
      {
       "output_type": "stream",
       "stream": "stdout",
       "text": [
        "\n",
        "score:E_purchase:0.937025836914"
       ]
      },
      {
       "output_type": "stream",
       "stream": "stdout",
       "text": [
        "\n",
        "score:E_purchase:0.938670486498"
       ]
      },
      {
       "output_type": "stream",
       "stream": "stdout",
       "text": [
        "\n",
        "score:F_purchase:0.886843501326"
       ]
      },
      {
       "output_type": "stream",
       "stream": "stdout",
       "text": [
        "\n",
        "score:F_purchase:0.88795161547"
       ]
      },
      {
       "output_type": "stream",
       "stream": "stdout",
       "text": [
        "\n",
        "score:F_purchase:0.88996763754"
       ]
      },
      {
       "output_type": "stream",
       "stream": "stdout",
       "text": [
        "\n",
        "score:G_purchase:0.802334217507"
       ]
      },
      {
       "output_type": "stream",
       "stream": "stdout",
       "text": [
        "\n",
        "score:G_purchase:0.805878295931"
       ]
      },
      {
       "output_type": "stream",
       "stream": "stdout",
       "text": [
        "\n",
        "score:G_purchase:0.806037455568"
       ]
      },
      {
       "output_type": "stream",
       "stream": "stdout",
       "text": [
        "\n",
        "offers:7\n",
        "score:A_purchase:0.932822255592"
       ]
      },
      {
       "output_type": "stream",
       "stream": "stdout",
       "text": [
        "\n",
        "score:A_purchase:0.935667430649\n",
        "score:A_purchase:0.931710401518"
       ]
      },
      {
       "output_type": "stream",
       "stream": "stdout",
       "text": [
        "\n",
        "score:B_purchase:0.940172291156\n",
        "score:B_purchase:0.939856160594"
       ]
      },
      {
       "output_type": "stream",
       "stream": "stdout",
       "text": [
        "\n",
        "score:B_purchase:0.940720834651\n",
        "score:C_purchase:0.807318422508"
       ]
      },
      {
       "output_type": "stream",
       "stream": "stdout",
       "text": [
        "\n",
        "score:C_purchase:0.837271793251"
       ]
      },
      {
       "output_type": "stream",
       "stream": "stdout",
       "text": [
        "\n",
        "score:C_purchase:0.838523553588"
       ]
      },
      {
       "output_type": "stream",
       "stream": "stdout",
       "text": [
        "\n",
        "score:D_purchase:0.938512605706"
       ]
      },
      {
       "output_type": "stream",
       "stream": "stdout",
       "text": [
        "\n",
        "score:D_purchase:0.929977080534"
       ]
      },
      {
       "output_type": "stream",
       "stream": "stdout",
       "text": [
        "\n",
        "score:D_purchase:0.925466329434"
       ]
      },
      {
       "output_type": "stream",
       "stream": "stdout",
       "text": [
        "\n",
        "score:E_purchase:0.941990041887"
       ]
      },
      {
       "output_type": "stream",
       "stream": "stdout",
       "text": [
        "\n",
        "score:E_purchase:0.947759424642\n",
        "score:E_purchase:0.938665823585"
       ]
      },
      {
       "output_type": "stream",
       "stream": "stdout",
       "text": [
        "\n",
        "score:F_purchase:0.894333359678"
       ]
      },
      {
       "output_type": "stream",
       "stream": "stdout",
       "text": [
        "\n",
        "score:F_purchase:0.893780131194"
       ]
      },
      {
       "output_type": "stream",
       "stream": "stdout",
       "text": [
        "\n",
        "score:F_purchase:0.891005374644"
       ]
      },
      {
       "output_type": "stream",
       "stream": "stdout",
       "text": [
        "\n",
        "score:G_purchase:0.810558760768"
       ]
      },
      {
       "output_type": "stream",
       "stream": "stdout",
       "text": [
        "\n",
        "score:G_purchase:0.806844226666"
       ]
      },
      {
       "output_type": "stream",
       "stream": "stdout",
       "text": [
        "\n",
        "score:G_purchase:0.812440720835"
       ]
      },
      {
       "output_type": "stream",
       "stream": "stdout",
       "text": [
        "\n",
        "offers:8\n",
        "score:A_purchase:0.940469293163"
       ]
      },
      {
       "output_type": "stream",
       "stream": "stdout",
       "text": [
        "\n",
        "score:A_purchase:0.943937418514\n",
        "score:A_purchase:0.932782848037\n",
        "score:B_purchase:0.944090382387"
       ]
      },
      {
       "output_type": "stream",
       "stream": "stdout",
       "text": [
        "\n",
        "score:B_purchase:0.946834709547\n",
        "score:B_purchase:0.944372012169\n",
        "score:C_purchase:0.844438006952"
       ]
      },
      {
       "output_type": "stream",
       "stream": "stdout",
       "text": [
        "\n",
        "score:C_purchase:0.843111690569"
       ]
      },
      {
       "output_type": "stream",
       "stream": "stdout",
       "text": [
        "\n",
        "score:C_purchase:0.841228451398"
       ]
      },
      {
       "output_type": "stream",
       "stream": "stdout",
       "text": [
        "\n",
        "score:D_purchase:0.940469293163"
       ]
      },
      {
       "output_type": "stream",
       "stream": "stdout",
       "text": [
        "\n",
        "score:D_purchase:0.923076923077"
       ]
      },
      {
       "output_type": "stream",
       "stream": "stdout",
       "text": [
        "\n",
        "score:D_purchase:0.937853107345"
       ]
      },
      {
       "output_type": "stream",
       "stream": "stdout",
       "text": [
        "\n",
        "score:E_purchase:0.946697566628\n",
        "score:E_purchase:0.947848761408"
       ]
      },
      {
       "output_type": "stream",
       "stream": "stdout",
       "text": [
        "\n",
        "score:E_purchase:0.949297406925\n",
        "score:F_purchase:0.897305909618"
       ]
      },
      {
       "output_type": "stream",
       "stream": "stdout",
       "text": [
        "\n",
        "score:F_purchase:0.896856439229"
       ]
      },
      {
       "output_type": "stream",
       "stream": "stdout",
       "text": [
        "\n",
        "score:F_purchase:0.898449949297"
       ]
      },
      {
       "output_type": "stream",
       "stream": "stdout",
       "text": [
        "\n",
        "score:G_purchase:0.818076477404"
       ]
      },
      {
       "output_type": "stream",
       "stream": "stdout",
       "text": [
        "\n",
        "score:G_purchase:0.813849051137\n",
        "score:G_purchase:0.812834999276"
       ]
      },
      {
       "output_type": "stream",
       "stream": "stdout",
       "text": [
        "\n",
        "offers:9\n",
        "score:A_purchase:0.944310759711"
       ]
      },
      {
       "output_type": "stream",
       "stream": "stdout",
       "text": [
        "\n",
        "score:A_purchase:0.940852819807\n",
        "score:A_purchase:0.942916093535\n",
        "score:B_purchase:0.943279477484\n",
        "score:B_purchase:0.952200825309\n",
        "score:B_purchase:0.948074277854\n",
        "score:C_purchase:0.82021313166"
       ]
      },
      {
       "output_type": "stream",
       "stream": "stdout",
       "text": [
        "\n",
        "score:C_purchase:0.824965612105\n",
        "score:C_purchase:0.856602475928"
       ]
      },
      {
       "output_type": "stream",
       "stream": "stdout",
       "text": [
        "\n",
        "score:D_purchase:0.924716397387\n",
        "score:D_purchase:0.919188445667"
       ]
      },
      {
       "output_type": "stream",
       "stream": "stdout",
       "text": [
        "\n",
        "score:D_purchase:0.939133425034\n",
        "score:E_purchase:0.951873496047\n",
        "score:E_purchase:0.957015130674"
       ]
      },
      {
       "output_type": "stream",
       "stream": "stdout",
       "text": [
        "\n",
        "score:E_purchase:0.954951856946\n",
        "score:F_purchase:0.89240288759\n",
        "score:F_purchase:0.901650618982"
       ]
      },
      {
       "output_type": "stream",
       "stream": "stdout",
       "text": [
        "\n",
        "score:F_purchase:0.89030261348\n",
        "score:G_purchase:0.80783774493\n",
        "score:G_purchase:0.817056396149"
       ]
      },
      {
       "output_type": "stream",
       "stream": "stdout",
       "text": [
        "\n",
        "score:G_purchase:0.808803301238\n",
        "offers:10\n",
        "score:A_purchase:0.949152542373"
       ]
      },
      {
       "output_type": "stream",
       "stream": "stdout",
       "text": [
        "\n",
        "score:A_purchase:0.946892655367\n",
        "score:A_purchase:0.951357466063\n",
        "score:B_purchase:0.95593220339\n",
        "score:B_purchase:0.944632768362\n",
        "score:B_purchase:0.949095022624\n",
        "score:C_purchase:0.80790960452\n",
        "score:C_purchase:0.839548022599"
       ]
      },
      {
       "output_type": "stream",
       "stream": "stdout",
       "text": [
        "\n",
        "score:C_purchase:0.817873303167\n",
        "score:D_purchase:0.929943502825\n",
        "score:D_purchase:0.917514124294\n",
        "score:D_purchase:0.91628959276\n",
        "score:E_purchase:0.964971751412\n",
        "score:E_purchase:0.961581920904"
       ]
      },
      {
       "output_type": "stream",
       "stream": "stdout",
       "text": [
        "\n",
        "score:E_purchase:0.957013574661\n",
        "score:F_purchase:0.899435028249\n",
        "score:F_purchase:0.906214689266\n",
        "score:F_purchase:0.891402714932\n",
        "score:G_purchase:0.825988700565\n",
        "score:G_purchase:0.809039548023\n",
        "score:G_purchase:0.831447963801"
       ]
      },
      {
       "output_type": "stream",
       "stream": "stdout",
       "text": [
        "\n",
        "offers:11\n",
        "score:A_purchase:0.937142857143"
       ]
      },
      {
       "output_type": "stream",
       "stream": "stdout",
       "text": [
        "\n",
        "score:A_purchase:0.954285714286\n",
        "score:A_purchase:0.948571428571\n",
        "score:B_purchase:0.937142857143\n",
        "score:B_purchase:0.931428571429\n",
        "score:B_purchase:0.948571428571\n",
        "score:C_purchase:0.754285714286\n",
        "score:C_purchase:0.834285714286\n",
        "score:C_purchase:0.737142857143\n",
        "score:D_purchase:0.874285714286\n",
        "score:D_purchase:0.828571428571\n",
        "score:D_purchase:0.88\n",
        "score:E_purchase:0.942857142857\n",
        "score:E_purchase:0.937142857143\n",
        "score:E_purchase:0.96\n",
        "score:F_purchase:0.908571428571\n",
        "score:F_purchase:0.897142857143\n",
        "score:F_purchase:0.857142857143\n",
        "score:G_purchase:0.657142857143\n",
        "score:G_purchase:0.805714285714\n",
        "score:G_purchase:0.742857142857\n",
        "offers:12\n",
        "score:A_purchase:0.647058823529"
       ]
      },
      {
       "output_type": "stream",
       "stream": "stdout",
       "text": [
        "\n",
        "score:A_purchase:0.588235294118\n",
        "score:A_purchase:0.625\n",
        "score:B_purchase:0.941176470588\n",
        "score:B_purchase:0.941176470588\n",
        "score:B_purchase:0.9375\n",
        "score:C_purchase:0.823529411765\n",
        "score:C_purchase:0.705882352941\n",
        "score:C_purchase:0.8125\n",
        "score:D_purchase:0.882352941176\n",
        "score:D_purchase:0.823529411765\n",
        "score:D_purchase:0.875\n",
        "score:E_purchase:0.941176470588\n",
        "score:E_purchase:0.941176470588\n",
        "score:E_purchase:0.875\n",
        "score:F_purchase:0.529411764706\n",
        "score:F_purchase:0.764705882353\n",
        "score:F_purchase:0.625\n",
        "score:G_purchase:0.764705882353\n",
        "score:G_purchase:0.882352941176\n",
        "score:G_purchase:0.75\n"
       ]
      }
     ],
     "prompt_number": 23
    },
    {
     "cell_type": "code",
     "collapsed": false,
     "input": [
      "test_2 = cleanup_test(test_2)\n",
      "correct=0\n",
      "for key, cdf in test_2.iterrows():\n",
      "    A= predict(cdf,modelADict[test_2.total_offers.loc[key]])\n",
      "    B= predict(cdf,modelBDict[test_2.total_offers.loc[key]],prodStr='B_purchase')\n",
      "    C= predict(cdf,modelCDict[test_2.total_offers.loc[key]],prodStr='C_purchase')\n",
      "    D= predict(cdf,modelDDict[test_2.total_offers.loc[key]],prodStr='D_purchase')\n",
      "    E= predict(cdf,modelEDict[test_2.total_offers.loc[key]],prodStr='E_purchase')\n",
      "    F= predict(cdf,modelFDict[test_2.total_offers.loc[key]],prodStr='F_purchase')\n",
      "    G= predict(cdf,modelGDict[test_2.total_offers.loc[key]],prodStr='G_purchase')\n",
      "\n",
      "    resultCol.loc[key]=str(int(A))+str(int(B))+str(int(C))+str(int(D))+str(int(E))+str(int(F))+str(int(G))\n",
      "\n",
      "    if test_2.A.loc[key]==A and test_2.B.loc[key]==B and test_2.C.loc[key]==C and test_2.D.loc[key]==D\\\n",
      "        and test_2.E.loc[key]==E and test_2.F.loc[key]==F and test_2.G.loc[key]==G:\n",
      "        correct += 1\n",
      "\n",
      "\n",
      "res = float(correct)/float(len(test_2))\n",
      "print(len(test_2))\n",
      "print correct\n",
      "print str(res)\n",
      "\n",
      "results_df[\"plan\"]=resultCol\n",
      "results_df.to_csv(\"results.csv\")"
     ],
     "language": "python",
     "metadata": {},
     "outputs": [
      {
       "output_type": "stream",
       "stream": "stdout",
       "text": [
        "55716\n",
        "2483\n",
        "0.0445652954268\n"
       ]
      }
     ],
     "prompt_number": 26
    },
    {
     "cell_type": "code",
     "collapsed": false,
     "input": [
      "import pylab as pl\n",
      "% pylab inline\n",
      "print modelBScores.values()\n",
      "pl.plot(train_7['cost'], train_7['A'])"
     ],
     "language": "python",
     "metadata": {},
     "outputs": [
      {
       "output_type": "stream",
       "stream": "stdout",
       "text": [
        "Populating the interactive namespace from numpy and matplotlib\n",
        "[]\n"
       ]
      },
      {
       "metadata": {},
       "output_type": "pyout",
       "prompt_number": 29,
       "text": [
        "[<matplotlib.lines.Line2D at 0x13a7575d0>]"
       ]
      },
      {
       "metadata": {},
       "output_type": "display_data",
       "png": "[encoded data removed]",
       "text": [
        "<matplotlib.figure.Figure at 0x10f6ed610>"
       ]
      }
     ],
     "prompt_number": 29
    },
    {
     "cell_type": "code",
     "collapsed": false,
     "input": [
      "import pylab as pl\n",
      "% pylab inline\n",
      "print modelBScores.values()\n",
      "pl.plot(train_7['A'], train_7['cost'])"
     ],
     "language": "python",
     "metadata": {},
     "outputs": [
      {
       "output_type": "stream",
       "stream": "stdout",
       "text": [
        "Populating the interactive namespace from numpy and matplotlib\n",
        "[]\n"
       ]
      },
      {
       "metadata": {},
       "output_type": "pyout",
       "prompt_number": 30,
       "text": [
        "[<matplotlib.lines.Line2D at 0x121c8c290>]"
       ]
      },
      {
       "metadata": {},
       "output_type": "display_data",
       "text": [
        "<matplotlib.figure.Figure at 0x13a74dfd0>"
       ]
      }
     ],
     "prompt_number": 30
    },
    {
     "cell_type": "code",
     "collapsed": false,
     "input": [
      "train_7['A'].plot()"
     ],
     "language": "python",
     "metadata": {},
     "outputs": [
      {
       "metadata": {},
       "output_type": "pyout",
       "prompt_number": 31,
       "text": [
        "<matplotlib.axes.AxesSubplot at 0x13a748fd0>"
       ]
      },
      {
       "metadata": {},
       "output_type": "display_data",
       "png": "[encoded data removed]",
       "text": [
        "<matplotlib.figure.Figure at 0x11f518710>"
       ]
      }
     ],
     "prompt_number": 31
    },
    {
     "cell_type": "code",
     "collapsed": false,
     "input": [],
     "language": "python",
     "metadata": {},
     "outputs": []
    }
   ],
   "metadata": {}
  }
 ]
}