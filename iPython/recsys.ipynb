{
 "metadata": {
  "name": ""
 },
 "nbformat": 3,
 "nbformat_minor": 0,
 "worksheets": [
  {
   "cells": [
    {
     "cell_type": "code",
     "collapsed": false,
     "input": [
      "#!/usr/local/bin/python\n",
      "import pdb\n",
      "\n",
      "import recsys.algorithm\n",
      "from recsys.algorithm.factorize import SVD\n",
      "from recsys.datamodel.data import Data\n",
      "from recsys.evaluation.prediction import RMSE, MAE\n",
      "from recsys.utils.svdlibc import SVDLIBC\n",
      "\n",
      "# enable verbose output\n",
      "recsys.algorithm.VERBOSE = True\n",
      "\n",
      "# ref: http://ocelma.net/software/python-recsys/build/html/quickstart.html\n",
      "def quickstart():\n",
      "    svd = SVD()\n",
      "    recsys.algorithm.VERBOSE = True\n",
      "    \n",
      "    # load movielens data\n",
      "    dat_file = './ml-1m/ratings.dat'\n",
      "    svd.load_data(filename=dat_file, sep='::', format={'col':0, 'row':1, 'value':2, 'ids': int})\n",
      "    \n",
      "    # compute svd\n",
      "    k = 100\n",
      "    svd.compute(k=k, min_values=10, pre_normalize=None, mean_center=True,\n",
      "        post_normalize=True)\n",
      "    \n",
      "    #pdb.set_trace()\n",
      "    \n",
      "    # movie id's\n",
      "    ITEMID1 = 1      # toy story \n",
      "    ITEMID2 = 1221   # godfather II\n",
      "    \n",
      "    # get movies similar to toy story\n",
      "    print(svd.similar(ITEMID1))\n",
      "    \n",
      "    # get predicted rating for given user & movie \n",
      "    MIN_RATING = 0.0\n",
      "    MAX_RATING = 5.0\n",
      "    USERID = 1\n",
      "    ITEMID = 1\n",
      "    \n",
      "    # get predicted rating\n",
      "    pred = svd.predict(ITEMID, USERID, MIN_RATING, MAX_RATING)\n",
      "    actual = svd.get_matrix().value(ITEMID, USERID)\n",
      "    print 'predicted rating = {0}'.format(pred)\n",
      "    print 'actual rating = {0}'.format(actual)\n",
      "    \n",
      "    # which users should see Toy Story?\n",
      "    print(svd.recommend(ITEMID))\n",
      "    # [(283,  5.716264440514446),\n",
      "    #  (3604, 5.6471765418323141),\n",
      "    #  (5056, 5.6218800339214496),\n",
      "    #  (446,  5.5707524860615738),\n",
      "    #  (3902, 5.5494529168484652),\n",
      "    #  (4634, 5.51643364021289),\n",
      "    #  (3324, 5.5138903299082802),\n",
      "    #  (4801, 5.4947999354188548),\n",
      "    #  (1131, 5.4941438045650068),\n",
      "    #  (2339, 5.4916048051511659)]\n",
      "\n",
      "if __name__ == '__main__':\n",
      "    quickstart()\n"
     ],
     "language": "python",
     "metadata": {},
     "outputs": [
      {
       "output_type": "stream",
       "stream": "stdout",
       "text": [
        "[(1, 0.99999999999999978), (3114, 0.87060391051017305), (2355, 0.67706936677314977), (588, 0.58073514967544992), (595, 0.46031829709744226), (1907, 0.44589398718134982), (364, 0.42908159895577563), (2081, 0.42566581277822413), (3396, 0.42474056361934953), (2761, 0.40439361857576017)]\n",
        "predicted rating = 5.0\n",
        "actual rating = 5.0\n",
        "[(869, 6.8215500393190904), (4086, 6.2667649038936908), (549, 6.2394061595542869), (1343, 6.2163075783431427), (1586, 6.039893928886932), (840, 5.9616632765170472), (1676, 5.896233772781037), (4595, 5.88945710113423), (2691, 5.8735094161364714), (2665, 5.8498694241604259)]\n"
       ]
      }
     ],
     "prompt_number": 2
    },
    {
     "cell_type": "code",
     "collapsed": false,
     "input": [],
     "language": "python",
     "metadata": {},
     "outputs": [],
     "prompt_number": 1
    },
    {
     "cell_type": "code",
     "collapsed": false,
     "input": [],
     "language": "python",
     "metadata": {},
     "outputs": []
    }
   ],
   "metadata": {}
  }
 ]
}