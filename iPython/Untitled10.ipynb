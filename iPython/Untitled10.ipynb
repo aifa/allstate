{
 "metadata": {
  "name": ""
 },
 "nbformat": 3,
 "nbformat_minor": 0,
 "worksheets": [
  {
   "cells": [
    {
     "cell_type": "code",
     "collapsed": false,
     "input": [
      "__author__ = 'aifa'\n",
      "\n",
      "import pandas as pd\n",
      "import numpy as np\n",
      "import pylab as pl\n",
      "\n",
      "from sklearn import clone\n",
      "\n",
      "# note: these imports are incorrect in the example online!\n",
      "from sklearn.ensemble.weight_boosting import AdaBoostClassifier\n",
      "from sklearn.ensemble.forest import (RandomForestClassifier,RandomForestRegressor,\n",
      "                                        ExtraTreesClassifier)\n",
      "from sklearn.linear_model import LogisticRegression\n",
      "from sklearn.feature_selection import RFE\n",
      "from sklearn.cross_validation import StratifiedKFold\n",
      "from sklearn import svm\n",
      "\n",
      "import math as math\n",
      "from sklearn.externals.six.moves import xrange\n",
      "from sklearn.tree import DecisionTreeClassifier\n",
      "\n",
      "from sklearn.svm import SVR\n",
      "\n",
      "train = pd.read_csv(\"/Users/aifa/Dropbox/kaggle/insurance/transformed/train_transformed_all_with_use_last_flag.csv\", header=0, encoding=\"UTF-8\", error_bad_lines=False, sep=\",\", index_col=0)\n",
      "test_2 = pd.read_csv(\"/Users/aifa/Dropbox/kaggle/insurance/transformed/test_v2_transformed_all_with_use_last_flag.csv\", header=0, encoding=\"UTF-8\", error_bad_lines=False, sep=\",\", index_col=0)\n",
      "\n",
      "results_df = pd.DataFrame(index=test_2.index)\n",
      "resultCol = pd.Series(index=test_2.index,dtype=object)\n",
      "\n",
      "#try random forest on feature A\n",
      "n_estimators = 100\n",
      "\n",
      "rfcmodel = RandomForestClassifier(n_estimators=n_estimators)\n",
      "\n",
      "lr = LogisticRegression()\n",
      "\n",
      "#svr =  SVR(C=1.0, epsilon=0.2)\n",
      "#C = 10.0  # SVM regularization parameter\n",
      "#svc = svm.SVC(kernel='linear', C=C)\n",
      "#rbf_svc = svm.SVC(kernel='rbf', gamma=0.7, C=C)\n",
      "#poly_svc = svm.SVC(kernel='poly', degree=3, C=C)\n",
      "\n",
      "def filter_features(train_df, model, prodStr='A'):\n",
      "\n",
      "    input_df = train_df.copy(deep=True)\n",
      "    #input_df = cleanup(input_df)\n",
      "    y = input_df[prodStr].values\n",
      "    input_df=input_df.drop([prodStr], axis=1)\n",
      "    print len(input_df.columns)\n",
      "    X = input_df.values\n",
      "    selector = RFE(model, step=1)\n",
      "    selector = selector.fit(X, y)\n",
      "\n",
      "#    rfecv = RFECV(estimator=model, step=1, cv=StratifiedKFold(y, 2))\n",
      "#    rfecv.fit(X, y)\n",
      "#    print(\"Optimal number of features : %d\" % rfecv.n_features_)\n",
      "\n",
      "    idx=0\n",
      "    for i in input_df.columns:\n",
      "        if (selector.support_[idx]==False):\n",
      "            input_df=input_df.drop([i], axis=1)\n",
      "        idx += 1\n",
      "\n",
      "    return input_df\n",
      "\n",
      "\n",
      "def cleanup(df):\n",
      "\n",
      "    #find columns that contain null values\n",
      "    inds = pd.isnull(df).any(0).nonzero()\n",
      "\n",
      "    df['car_value'] = df['car_value'].fillna('0')\n",
      "    df['car_value']=df['car_value'].apply(lambda letter :  abs(ord(letter) - 96))\n",
      "    df['state']=df['state'].apply(lambda letter :  abs(ord(letter[0]) - 96 + ord(letter[1]) - 96))\n",
      "\n",
      "    #remove product feature\n",
      "    #df=df.drop(['product'], axis=1)\n",
      "    #df=df.drop(['state'], axis=1)\n",
      "    #df=df.drop(['location'], axis=1)\n",
      "    df=df.drop(['time'], axis=1)\n",
      "\n",
      "    df=df.drop(['A_use_last'], axis=1)\n",
      "    df=df.drop(['B_use_last'], axis=1)\n",
      "    df=df.drop(['C_use_last'], axis=1)\n",
      "    df=df.drop(['D_use_last'], axis=1)\n",
      "    df=df.drop(['E_use_last'], axis=1)\n",
      "    df=df.drop(['F_use_last'], axis=1)\n",
      "    df=df.drop(['G_use_last'], axis=1)\n",
      "    \n",
      "    df=df.drop(['A_last'], axis=1)\n",
      "    df=df.drop(['B_last'], axis=1)\n",
      "    df=df.drop(['C_last'], axis=1)\n",
      "    df=df.drop(['D_last'], axis=1)\n",
      "    df=df.drop(['E_last'], axis=1)\n",
      "    df=df.drop(['F_last'], axis=1)\n",
      "    input_df=df.drop(['G_last'], axis=1)\n",
      "\n",
      "\n",
      "    #impute the null values\n",
      "    df['risk_factor'] = df['risk_factor'].fillna(0)\n",
      "    df['C_previous'] = df['C_previous'].fillna(0)\n",
      "    df['duration_previous'] = df['duration_previous'].fillna(0)\n",
      "    df['location'] = df['location'].fillna(0)\n",
      "\n",
      "    return df\n",
      "\n",
      "def select_features(train_df, select_model, model, feature_number=1, yName='A_purchase'):\n",
      "    input_df = train_df.copy(deep=True)\n",
      "    y = input_df[yName].values\n",
      "    \n",
      "    input_df=input_df.drop(['total_offers'], axis=1)\n",
      "    input_df=input_df.drop(['A_purchase'], axis=1)\n",
      "    input_df=input_df.drop(['B_purchase'], axis=1)\n",
      "    input_df=input_df.drop(['C_purchase'], axis=1)\n",
      "    input_df=input_df.drop(['D_purchase'], axis=1)\n",
      "    input_df=input_df.drop(['E_purchase'], axis=1)\n",
      "    input_df=input_df.drop(['F_purchase'], axis=1)\n",
      "    input_df=input_df.drop(['G_purchase'], axis=1)\n",
      "\n",
      "    #if (yName=='G_purchase'):\n",
      "    #    input_df=input_df.drop(['C_previous'], axis=1)\n",
      "\n",
      "\n",
      "    X = input_df.values\n",
      "\n",
      "    skf=StratifiedKFold(y, n_folds=3 )\n",
      "\n",
      "    best_model=None\n",
      "    best_model_score=0\n",
      "    for train_index, test_index in skf:\n",
      "        #print(\"TRAIN:\", train_index, \"TEST:\", test_index)\n",
      "        X_train, X_test = X[train_index], X[test_index]\n",
      "        y_train, y_test = y[train_index], y[test_index]\n",
      "        \n",
      "        selector = RFE(select_model, step=1, n_features_to_select=feature_number)\n",
      "        clf = clone(model)\n",
      "        pipeline = Pipeline([('rfe', selector), ('lr', clf)])\n",
      "        pipeline = pipeline.fit(X_train, y_train)\n",
      "\n",
      "        print \"score:\"+ yName +\":\"+str(pipeline.score(X_test,y_test))\n",
      "\n",
      "        if best_model==None or best_model_score<pipeline.score(X_test, y_test):\n",
      "            best_model=pipeline\n",
      "            best_model_score=pipeline.score(X_test, y_test)\n",
      "        break\n",
      "\n",
      "    trained_model = best_model\n",
      "    \n",
      "    idx=0\n",
      "    for i in input_df.columns:\n",
      "        if (selector.support_[idx]==False):\n",
      "            input_df=input_df.drop([i], axis=1)\n",
      "        idx += 1\n",
      "    \n",
      "    print input_df.columns\n",
      "    return trained_model, best_model_score\n",
      "\n",
      "def train_model(train_df, select_model, model, yName='A'):\n",
      "    input_df = train_df.copy(deep=True)\n",
      "    y = input_df[yName].values\n",
      "\n",
      "    #input_df=filter_features(input_df, select_model, yName)\n",
      "\n",
      "    input_df=input_df.drop(['A'], axis=1)\n",
      "    input_df=input_df.drop(['B'], axis=1)\n",
      "    input_df=input_df.drop(['C'], axis=1)\n",
      "    input_df=input_df.drop(['D'], axis=1)\n",
      "    input_df=input_df.drop(['E'], axis=1)\n",
      "    input_df=input_df.drop(['F'], axis=1)\n",
      "    input_df=input_df.drop(['G'], axis=1)\n",
      "\n",
      "    if (yName=='G'):\n",
      "        input_df=input_df.drop(['C_previous'], axis=1)\n",
      "\n",
      "\n",
      "    X = input_df.values\n",
      "\n",
      "    skf=StratifiedKFold(y, n_folds=3 )\n",
      "\n",
      "    best_model=None\n",
      "    for train_index, test_index in skf:\n",
      "        print(\"TRAIN:\", train_index, \"TEST:\", test_index)\n",
      "        X_train, X_test = X[train_index], X[test_index]\n",
      "        y_train, y_test = y[train_index], y[test_index]\n",
      "\n",
      "        clf = clone(model)\n",
      "        clf = clf.fit(X_train, y_train)\n",
      "\n",
      "        print yName +\":\"+str(clf.score(X_test,y_test))\n",
      "\n",
      "        if best_model==None or best_model.score(X_test,y_test)<clf.score(X_test, y_test):\n",
      "            best_model=clf\n",
      "\n",
      "    trained_model = best_model\n",
      "\n",
      "    return trained_model\n",
      "\n",
      "\n",
      "def predict(test_2_df, select_model, model, prodStr='A'):\n",
      "\n",
      "    test_df = test_2_df.copy(deep=True)\n",
      "    test_y = test_df[prodStr]\n",
      "\n",
      "    test_df=test_df.drop(['A'], axis=1)\n",
      "    test_df=test_df.drop(['B'], axis=1)\n",
      "    test_df=test_df.drop(['C'], axis=1)\n",
      "    test_df=test_df.drop(['D'], axis=1)\n",
      "    test_df=test_df.drop(['E'], axis=1)\n",
      "    test_df=test_df.drop(['F'], axis=1)\n",
      "    test_df=test_df.drop(['G'], axis=1)\n",
      "\n",
      "    if (prodStr=='G'):\n",
      "        test_df=test_df.drop(['C_previous'], axis=1)\n",
      "\n",
      "\n",
      "    test_X = test_df.values\n",
      "\n",
      "    prediction = model.predict(test_X)\n",
      "\n",
      "    #print prodStr +\":\"+str(prediction)\n",
      "\n",
      "    return prediction\n",
      "\n",
      "\n",
      "train = cleanup(train)\n",
      "\n",
      "A_model=train_model(train, lr, rfcmodel)\n",
      "B_model=train_model(train, lr, rfcmodel, yName='B')\n",
      "C_model=train_model(train, lr, rfcmodel, yName='C')\n",
      "D_model=train_model(train, lr, rfcmodel, yName='D')\n",
      "E_model=train_model(train, lr, rfcmodel, yName='E')\n",
      "F_model=train_model(train, lr, rfcmodel, yName='F')\n",
      "G_model=train_model(train, lr, rfcmodel, yName='G')\n"
     ],
     "language": "python",
     "metadata": {},
     "outputs": [
      {
       "output_type": "stream",
       "stream": "stdout",
       "text": [
        "('TRAIN:', array([    0,     1,     3, ..., 97006, 97007, 97008]), 'TEST:', array([    2,     4,     9, ..., 96998, 97001, 97004]))\n",
        "A:0.975384234777"
       ]
      },
      {
       "output_type": "stream",
       "stream": "stdout",
       "text": [
        "\n",
        "('TRAIN:', array([    2,     3,     4, ..., 97002, 97004, 97005]), 'TEST:', array([    0,     1,     5, ..., 97006, 97007, 97008]))\n",
        "A:0.976342157348"
       ]
      },
      {
       "output_type": "stream",
       "stream": "stdout",
       "text": [
        "\n",
        "('TRAIN:', array([    0,     1,     2, ..., 97006, 97007, 97008]), 'TEST:', array([    3,     7,    11, ..., 97000, 97002, 97005]))"
       ]
      },
      {
       "output_type": "stream",
       "stream": "stdout",
       "text": [
        "\n",
        "A:0.973899059871"
       ]
      },
      {
       "output_type": "stream",
       "stream": "stdout",
       "text": [
        "\n",
        "('TRAIN:', array([    1,     2,     3, ..., 97005, 97007, 97008]), 'TEST:', array([    0,     8,    13, ..., 97000, 97003, 97006]))"
       ]
      },
      {
       "output_type": "stream",
       "stream": "stdout",
       "text": [
        "\n",
        "B:0.998268237623"
       ]
      },
      {
       "output_type": "stream",
       "stream": "stdout",
       "text": [
        "\n",
        "('TRAIN:', array([    0,     2,     4, ..., 97003, 97005, 97006]), 'TEST:', array([    1,     3,     5, ..., 97004, 97007, 97008]))\n",
        "B:0.999134092034"
       ]
      },
      {
       "output_type": "stream",
       "stream": "stdout",
       "text": [
        "\n",
        "('TRAIN:', array([    0,     1,     3, ..., 97006, 97007, 97008]), 'TEST:', array([    2,     4,     6, ..., 96996, 97002, 97005]))"
       ]
      },
      {
       "output_type": "stream",
       "stream": "stdout",
       "text": [
        "\n",
        "B:0.998670212766"
       ]
      },
      {
       "output_type": "stream",
       "stream": "stdout",
       "text": [
        "\n",
        "('TRAIN:', array([    1,     3,     4, ..., 97006, 97007, 97008]), 'TEST:', array([    0,     2,     6, ..., 96999, 97000, 97003]))"
       ]
      },
      {
       "output_type": "stream",
       "stream": "stdout",
       "text": [
        "\n",
        "C:0.946593685252"
       ]
      },
      {
       "output_type": "stream",
       "stream": "stdout",
       "text": [
        "\n",
        "('TRAIN:', array([    0,     2,     3, ..., 97001, 97002, 97003]), 'TEST:', array([    1,     4,     9, ..., 97006, 97007, 97008]))\n",
        "C:0.946653884216"
       ]
      },
      {
       "output_type": "stream",
       "stream": "stdout",
       "text": [
        "\n",
        "('TRAIN:', array([    0,     1,     2, ..., 97006, 97007, 97008]), 'TEST:', array([    3,     5,     8, ..., 96998, 97001, 97002]))"
       ]
      },
      {
       "output_type": "stream",
       "stream": "stdout",
       "text": [
        "\n",
        "C:0.947519792182"
       ]
      },
      {
       "output_type": "stream",
       "stream": "stdout",
       "text": [
        "\n",
        "('TRAIN:', array([    0,     2,     6, ..., 97005, 97006, 97007]), 'TEST:', array([    1,     3,     4, ..., 97003, 97004, 97008]))"
       ]
      },
      {
       "output_type": "stream",
       "stream": "stdout",
       "text": [
        "\n",
        "D:0.975074991496"
       ]
      },
      {
       "output_type": "stream",
       "stream": "stdout",
       "text": [
        "\n",
        "('TRAIN:', array([    1,     3,     4, ..., 97003, 97004, 97008]), 'TEST:', array([    0,     2,     8, ..., 97005, 97006, 97007]))\n",
        "D:0.975909203365"
       ]
      },
      {
       "output_type": "stream",
       "stream": "stdout",
       "text": [
        "\n",
        "('TRAIN:', array([    0,     1,     2, ..., 97006, 97007, 97008]), 'TEST:', array([    6,     7,    14, ..., 96997, 96999, 97002]))"
       ]
      },
      {
       "output_type": "stream",
       "stream": "stdout",
       "text": [
        "\n",
        "D:0.975012370114"
       ]
      },
      {
       "output_type": "stream",
       "stream": "stdout",
       "text": [
        "\n",
        "('TRAIN:', array([    1,     2,     4, ..., 97004, 97007, 97008]), 'TEST:', array([    0,     3,     6, ..., 96998, 97005, 97006]))"
       ]
      },
      {
       "output_type": "stream",
       "stream": "stdout",
       "text": [
        "\n",
        "E:0.998113615982"
       ]
      },
      {
       "output_type": "stream",
       "stream": "stdout",
       "text": [
        "\n",
        "('TRAIN:', array([    0,     1,     3, ..., 97005, 97006, 97008]), 'TEST:', array([    2,     4,     8, ..., 97001, 97003, 97007]))\n",
        "E:0.997495051954"
       ]
      },
      {
       "output_type": "stream",
       "stream": "stdout",
       "text": [
        "\n",
        "('TRAIN:', array([    0,     2,     3, ..., 97005, 97006, 97007]), 'TEST:', array([    1,     5,     9, ..., 97002, 97004, 97008]))"
       ]
      },
      {
       "output_type": "stream",
       "stream": "stdout",
       "text": [
        "\n",
        "E:0.998360959921"
       ]
      },
      {
       "output_type": "stream",
       "stream": "stdout",
       "text": [
        "\n",
        "('TRAIN:', array([    0,     2,     3, ..., 97004, 97005, 97006]), 'TEST:', array([    1,     9,    10, ..., 97003, 97007, 97008]))"
       ]
      },
      {
       "output_type": "stream",
       "stream": "stdout",
       "text": [
        "\n",
        "F:0.955468967437"
       ]
      },
      {
       "output_type": "stream",
       "stream": "stdout",
       "text": [
        "\n",
        "('TRAIN:', array([    0,     1,     2, ..., 97005, 97007, 97008]), 'TEST:', array([    3,     4,    11, ..., 97002, 97004, 97006]))\n",
        "F:0.957601434933"
       ]
      },
      {
       "output_type": "stream",
       "stream": "stdout",
       "text": [
        "\n",
        "('TRAIN:', array([    1,     3,     4, ..., 97006, 97007, 97008]), 'TEST:', array([    0,     2,     5, ..., 96995, 96999, 97005]))"
       ]
      },
      {
       "output_type": "stream",
       "stream": "stdout",
       "text": [
        "\n",
        "F:0.956426274122"
       ]
      },
      {
       "output_type": "stream",
       "stream": "stdout",
       "text": [
        "\n",
        "('TRAIN:', array([    1,     2,     5, ..., 97006, 97007, 97008]), 'TEST:', array([    0,     3,     4, ..., 97002, 97003, 97004]))"
       ]
      },
      {
       "output_type": "stream",
       "stream": "stdout",
       "text": [
        "\n",
        "G:0.932986980858"
       ]
      },
      {
       "output_type": "stream",
       "stream": "stdout",
       "text": [
        "\n",
        "('TRAIN:', array([    0,     3,     4, ..., 97006, 97007, 97008]), 'TEST:', array([    1,     2,     5, ..., 96996, 96997, 96998]))\n",
        "G:0.930170707571"
       ]
      },
      {
       "output_type": "stream",
       "stream": "stdout",
       "text": [
        "\n",
        "('TRAIN:', array([    0,     1,     2, ..., 97002, 97003, 97004]), 'TEST:', array([    7,     9,    10, ..., 97006, 97007, 97008]))"
       ]
      },
      {
       "output_type": "stream",
       "stream": "stdout",
       "text": [
        "\n",
        "G:0.930881989114"
       ]
      },
      {
       "output_type": "stream",
       "stream": "stdout",
       "text": [
        "\n"
       ]
      }
     ],
     "prompt_number": 7
    },
    {
     "cell_type": "code",
     "collapsed": false,
     "input": [
      "#test_2 = cleanup(test_2)\n",
      "\n",
      "A= predict(test_2,lr, A_model)\n",
      "B= predict(test_2,lr, B_model,prodStr='B')\n",
      "C= predict(test_2,lr, C_model,prodStr='C')\n",
      "D= predict(test_2,lr, D_model,prodStr='D')\n",
      "E= predict(test_2,lr, E_model,prodStr='E')\n",
      "F= predict(test_2,lr, F_model,prodStr='F')\n",
      "G= predict(test_2,lr, G_model,prodStr='G')\n",
      "\n",
      "index = 0\n",
      "correct=0\n",
      "for i in range(0,np.size(A)):\n",
      "    #strA=str(test_2.A.iat[i])\n",
      "    #strB=str(test_2.B.iat[i])\n",
      "    #strC=str(test_2.C.iat[i])\n",
      "    #strD=str(test_2.D.iat[i])\n",
      "    #strE=str(test_2.E.iat[i])\n",
      "    #strF=str(test_2.F.iat[i])\n",
      "    #strG=str(test_2.G.iat[i])\n",
      "\n",
      "\n",
      "    #if test_2.A_change.iat[i]<A_change[i]:\n",
      "    strA=str(A[i])\n",
      "    #if test_2.B_change.iat[i]<B_change[i]:\n",
      "    strB=str(B[i])\n",
      "    #if test_2.C_change.iat[i]<C_change[i]:\n",
      "    strC=str(C[i])\n",
      "    #if test_2.D_change.iat[i]<D_change[i]:\n",
      "    strD=str(D[i])\n",
      "    #if test_2.E_change.iat[i]<E_change[i]:\n",
      "    strE=str(E[i])\n",
      "    #if test_2.F_change.iat[i]<F_change[i]:\n",
      "    strF=str(F[i])\n",
      "    #if test_2.G_change.iat[i]<G_change[i]:\n",
      "    strG=str(G[i])\n",
      "\n",
      "    resultCol.iat[i]=strA+strB+strC+strD+strE+strF+strG\n",
      "\n",
      "    #Calculate number of correct predictions\n",
      "    if test_2.A.iat[i]==float(strA) and test_2.B.iat[i]==float(strB) and test_2.C.iat[i]==float(strC) and test_2.D.iat[i]==float(strD)\\\n",
      "        and test_2.E.iat[i]==float(strE) and test_2.F.iat[i]==float(strF) and test_2.G.iat[i]==float(strG):\n",
      "        correct += 1\n",
      "\n",
      "res = float(correct)/float(len(test_2))\n",
      "print(len(test_2))\n",
      "print correct\n",
      "print str(res)\n",
      "\n",
      "results_df[\"plan\"]=resultCol\n",
      "results_df.to_csv(\"results_fail.csv\")"
     ],
     "language": "python",
     "metadata": {},
     "outputs": [
      {
       "output_type": "stream",
       "stream": "stdout",
       "text": [
        "55716\n",
        "47904\n",
        "0.859788929571\n"
       ]
      }
     ],
     "prompt_number": 9
    },
    {
     "cell_type": "code",
     "collapsed": false,
     "input": [],
     "language": "python",
     "metadata": {},
     "outputs": []
    }
   ],
   "metadata": {}
  }
 ]
}